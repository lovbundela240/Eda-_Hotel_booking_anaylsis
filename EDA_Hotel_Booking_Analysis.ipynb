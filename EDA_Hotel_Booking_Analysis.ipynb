{
  "nbformat": 4,
  "nbformat_minor": 0,
  "metadata": {
    "colab": {
      "provenance": [],
      "collapsed_sections": [
        "KSlN3yHqYklG",
        "t6dVpIINYklI",
        "ijmpgYnKYklI",
        "-JiQyfWJYklI",
        "fge-S5ZAYoAp",
        "85gYPyotYoAp",
        "RoGjAbkUYoAp",
        "4Of9eVA-YrdM",
        "iky9q4vBYrdO",
        "F6T5p64dYrdO",
        "y-Ehk30pYrdP",
        "bamQiAODYuh1",
        "QHF8YVU7Yuh3",
        "GwzvFGzlYuh3",
        "qYpmQ266Yuh3",
        "OH-pJp9IphqM",
        "bbFf2-_FphqN",
        "_ouA3fa0phqN",
        "Seke61FWphqN",
        "PIIx-8_IphqN",
        "t27r6nlMphqO",
        "r2jJGEOYphqO",
        "b0JNsNcRphqO",
        "BZR9WyysphqO",
        "jj7wYXLtphqO",
        "eZrbJ2SmphqO",
        "rFu4xreNphqO",
        "YJ55k-q6phqO",
        "gCFgpxoyphqP",
        "OVtJsKN_phqQ",
        "lssrdh5qphqQ",
        "U2RJ9gkRphqQ",
        "1M8mcRywphqQ",
        "tgIPom80phqQ",
        "JMzcOPDDphqR",
        "x-EpHcCOp1ci",
        "X_VqEhTip1ck",
        "8zGJKyg5p1ck",
        "PVzmfK_Ep1ck",
        "n3dbpmDWp1ck",
        "ylSl6qgtp1ck",
        "ZWILFDl5p1ck",
        "M7G43BXep1ck",
        "Ag9LCva-p1cl",
        "E6MkPsBcp1cl",
        "2cELzS2fp1cl",
        "3MPXvC8up1cl",
        "NC_X3p0fY2L0",
        "UV0SzAkaZNRQ",
        "YPEH6qLeZNRQ",
        "q29F0dvdveiT",
        "EXh0U9oCveiU",
        "22aHeOlLveiV",
        "JcMwzZxoAimU",
        "8G2x9gOozGDZ",
        "gCX9965dhzqZ",
        "gIfDvo9L0UH2"
      ],
      "include_colab_link": true
    },
    "kernelspec": {
      "name": "python3",
      "display_name": "Python 3"
    },
    "language_info": {
      "name": "python"
    },
    "gpuClass": "standard"
  },
  "cells": [
    {
      "cell_type": "markdown",
      "metadata": {
        "id": "view-in-github",
        "colab_type": "text"
      },
      "source": [
        "<a href=\"https://colab.research.google.com/github/lovbundela240/Eda-_Hotel_booking_anaylsis/blob/main/EDA_Hotel_Booking_Analysis.ipynb\" target=\"_parent\"><img src=\"https://colab.research.google.com/assets/colab-badge.svg\" alt=\"Open In Colab\"/></a>"
      ]
    },
    {
      "cell_type": "markdown",
      "source": [
        "# **Project Name**    - *Hotel Booking Analysis*\n",
        "\n"
      ],
      "metadata": {
        "id": "vncDsAP0Gaoa"
      }
    },
    {
      "cell_type": "markdown",
      "source": [
        "##### **Project Type**    - EDA \n",
        "##### **Contribution**    - LOV BUNDELA (Individual)\n"
      ],
      "metadata": {
        "id": "beRrZCGUAJYm"
      }
    },
    {
      "cell_type": "markdown",
      "source": [
        "# **Project Summary -**"
      ],
      "metadata": {
        "id": "FJNUwmbgGyua"
      }
    },
    {
      "cell_type": "markdown",
      "source": [
        "This project is related to Hotel Booking having two hotel descriptions i.e, City Hotel and Resort Hotel. in this dataset contains total rows 119390 and 32 columns. In this we divided data in three category (a) Data Collection, (b) Data cleaning and Manipulation (c) Exploratory Data Anaylsis. \n"
      ],
      "metadata": {
        "id": "F6v_1wHtG2nS"
      }
    },
    {
      "cell_type": "markdown",
      "source": [
        "# **GitHub Link -**"
      ],
      "metadata": {
        "id": "w6K7xa23Elo4"
      }
    },
    {
      "cell_type": "markdown",
      "source": [
        "https://github.com/lovbundela240/Eda-_Hotel_booking_anaylsis.git"
      ],
      "metadata": {
        "id": "h1o69JH3Eqqn"
      }
    },
    {
      "cell_type": "markdown",
      "source": [
        "# **Problem Statement**\n"
      ],
      "metadata": {
        "id": "yQaldy8SH6Dl"
      }
    },
    {
      "cell_type": "markdown",
      "source": [
        "Have you ever wondered when the best time of the year to book a hotel room is? Or the optimal length of stay in order to get the best daily rate? What if you wanted to predict whether or not a hotel like was likely to receive a disproportionately high number of special requests? This hotel booking data set can help you explore those questions! This data set contains booking information for a city hotel and resort hotel, and includes information such as when the booking was made, length of stay, the number of adults, children's and/or babies, and the number of available parking spaces, among the other things. All personally identifying information has been removed from the data. Explore and analyse the data to discover important factors that govern the bookings."
      ],
      "metadata": {
        "id": "DpeJGUA3kjGy"
      }
    },
    {
      "cell_type": "markdown",
      "source": [
        "#### **Define Your Business Objective?**"
      ],
      "metadata": {
        "id": "PH-0ReGfmX4f"
      }
    },
    {
      "cell_type": "markdown",
      "source": [
        "This is to analyse the bookings of City hotel and Resort hotel, to gain insights on the different factors that affect the bookings."
      ],
      "metadata": {
        "id": "PhDvGCAqmjP1"
      }
    },
    {
      "cell_type": "markdown",
      "source": [
        "# **General Guidelines** : -  "
      ],
      "metadata": {
        "id": "mDgbUHAGgjLW"
      }
    },
    {
      "cell_type": "markdown",
      "source": [
        "1.   Well-structured, formatted, and commented code is required. \n",
        "2.   Exception Handling, Production Grade Code & Deployment Ready Code will be a plus. Those students will be awarded some additional credits. \n",
        "     \n",
        "     The additional credits will have advantages over other students during Star Student selection.\n",
        "       \n",
        "             [ Note: - Deployment Ready Code is defined as, the whole .ipynb notebook should be executable in one go\n",
        "                       without a single error logged. ]\n",
        "\n",
        "3.   Each and every logic should have proper comments.\n",
        "4. You may add as many number of charts you want. Make Sure for each and every chart the following format should be answered.\n",
        "        \n",
        "\n",
        "```\n",
        "# Chart visualization code\n",
        "```\n",
        "            \n",
        "\n",
        "*   Why did you pick the specific chart?\n",
        "*   What is/are the insight(s) found from the chart?\n",
        "* Will the gained insights help creating a positive business impact? \n",
        "Are there any insights that lead to negative growth? Justify with specific reason.\n",
        "\n",
        "5. You have to create at least 20 logical & meaningful charts having important insights.\n",
        "\n",
        "\n",
        "[ Hints : - Do the Vizualization in  a structured way while following \"UBM\" Rule. \n",
        "\n",
        "U - Univariate Analysis,\n",
        "\n",
        "B - Bivariate Analysis (Numerical - Categorical, Numerical - Numerical, Categorical - Categorical)\n",
        "\n",
        "M - Multivariate Analysis\n",
        " ]\n",
        "\n",
        "\n",
        "\n"
      ],
      "metadata": {
        "id": "ZrxVaUj-hHfC"
      }
    },
    {
      "cell_type": "markdown",
      "source": [
        "# ***Let's Begin !***"
      ],
      "metadata": {
        "id": "O_i_v8NEhb9l"
      }
    },
    {
      "cell_type": "markdown",
      "source": [
        "## ***1. Know Your Data***"
      ],
      "metadata": {
        "id": "HhfV-JJviCcP"
      }
    },
    {
      "cell_type": "markdown",
      "source": [
        "### Import Libraries"
      ],
      "metadata": {
        "id": "Y3lxredqlCYt"
      }
    },
    {
      "cell_type": "code",
      "source": [
        "# Import Libraries\n",
        "import numpy as np\n",
        "import pandas as pd\n",
        "import matplotlib.pyplot as plt\n",
        "%matplotlib inline\n",
        "import seaborn as sns\n",
        "from datetime import datetime\n",
        "from datetime import date\n",
        "from datetime import timedelta\n",
        "import ast\n"
      ],
      "metadata": {
        "id": "M8Vqi-pPk-HR"
      },
      "execution_count": 1,
      "outputs": []
    },
    {
      "cell_type": "markdown",
      "source": [
        "### Dataset Loading"
      ],
      "metadata": {
        "id": "3RnN4peoiCZX"
      }
    },
    {
      "cell_type": "code",
      "source": [
        "# Load Dataset\n",
        "from google.colab import drive\n",
        "drive.mount('/content/drive')"
      ],
      "metadata": {
        "id": "4CkvbW_SlZ_R",
        "colab": {
          "base_uri": "https://localhost:8080/"
        },
        "outputId": "abc32bba-cb1d-4f48-ee22-7b5abdefe61e"
      },
      "execution_count": 2,
      "outputs": [
        {
          "output_type": "stream",
          "name": "stdout",
          "text": [
            "Mounted at /content/drive\n"
          ]
        }
      ]
    },
    {
      "cell_type": "code",
      "source": [
        "dataset = \"/content/drive/MyDrive/Colab Notebooks/AlmaBetter/Module 1/project dataset/Hotel Bookings.csv\""
      ],
      "metadata": {
        "id": "0rkse51rZ2Rr"
      },
      "execution_count": 3,
      "outputs": []
    },
    {
      "cell_type": "code",
      "source": [
        "hotel_booking_analysis_df = pd.read_csv(dataset)"
      ],
      "metadata": {
        "id": "DlXnMPmgaZV3"
      },
      "execution_count": 4,
      "outputs": []
    },
    {
      "cell_type": "markdown",
      "source": [
        "### Dataset First View"
      ],
      "metadata": {
        "id": "x71ZqKXriCWQ"
      }
    },
    {
      "cell_type": "code",
      "source": [
        "# Dataset First Look\n",
        "\n",
        "hotel_booking_analysis_df"
      ],
      "metadata": {
        "colab": {
          "base_uri": "https://localhost:8080/",
          "height": 661
        },
        "id": "iPHDPwI-anGQ",
        "outputId": "80cdf2cc-9760-40d9-ff15-44ecbf81c6a4"
      },
      "execution_count": 5,
      "outputs": [
        {
          "output_type": "execute_result",
          "data": {
            "text/plain": [
              "               hotel  is_canceled  lead_time  arrival_date_year  \\\n",
              "0       Resort Hotel            0        342               2015   \n",
              "1       Resort Hotel            0        737               2015   \n",
              "2       Resort Hotel            0          7               2015   \n",
              "3       Resort Hotel            0         13               2015   \n",
              "4       Resort Hotel            0         14               2015   \n",
              "...              ...          ...        ...                ...   \n",
              "119385    City Hotel            0         23               2017   \n",
              "119386    City Hotel            0        102               2017   \n",
              "119387    City Hotel            0         34               2017   \n",
              "119388    City Hotel            0        109               2017   \n",
              "119389    City Hotel            0        205               2017   \n",
              "\n",
              "       arrival_date_month  arrival_date_week_number  \\\n",
              "0                    July                        27   \n",
              "1                    July                        27   \n",
              "2                    July                        27   \n",
              "3                    July                        27   \n",
              "4                    July                        27   \n",
              "...                   ...                       ...   \n",
              "119385             August                        35   \n",
              "119386             August                        35   \n",
              "119387             August                        35   \n",
              "119388             August                        35   \n",
              "119389             August                        35   \n",
              "\n",
              "        arrival_date_day_of_month  stays_in_weekend_nights  \\\n",
              "0                               1                        0   \n",
              "1                               1                        0   \n",
              "2                               1                        0   \n",
              "3                               1                        0   \n",
              "4                               1                        0   \n",
              "...                           ...                      ...   \n",
              "119385                         30                        2   \n",
              "119386                         31                        2   \n",
              "119387                         31                        2   \n",
              "119388                         31                        2   \n",
              "119389                         29                        2   \n",
              "\n",
              "        stays_in_week_nights  adults  ...  deposit_type  agent company  \\\n",
              "0                          0       2  ...    No Deposit    NaN     NaN   \n",
              "1                          0       2  ...    No Deposit    NaN     NaN   \n",
              "2                          1       1  ...    No Deposit    NaN     NaN   \n",
              "3                          1       1  ...    No Deposit  304.0     NaN   \n",
              "4                          2       2  ...    No Deposit  240.0     NaN   \n",
              "...                      ...     ...  ...           ...    ...     ...   \n",
              "119385                     5       2  ...    No Deposit  394.0     NaN   \n",
              "119386                     5       3  ...    No Deposit    9.0     NaN   \n",
              "119387                     5       2  ...    No Deposit    9.0     NaN   \n",
              "119388                     5       2  ...    No Deposit   89.0     NaN   \n",
              "119389                     7       2  ...    No Deposit    9.0     NaN   \n",
              "\n",
              "       days_in_waiting_list customer_type     adr  \\\n",
              "0                         0     Transient    0.00   \n",
              "1                         0     Transient    0.00   \n",
              "2                         0     Transient   75.00   \n",
              "3                         0     Transient   75.00   \n",
              "4                         0     Transient   98.00   \n",
              "...                     ...           ...     ...   \n",
              "119385                    0     Transient   96.14   \n",
              "119386                    0     Transient  225.43   \n",
              "119387                    0     Transient  157.71   \n",
              "119388                    0     Transient  104.40   \n",
              "119389                    0     Transient  151.20   \n",
              "\n",
              "        required_car_parking_spaces  total_of_special_requests  \\\n",
              "0                                 0                          0   \n",
              "1                                 0                          0   \n",
              "2                                 0                          0   \n",
              "3                                 0                          0   \n",
              "4                                 0                          1   \n",
              "...                             ...                        ...   \n",
              "119385                            0                          0   \n",
              "119386                            0                          2   \n",
              "119387                            0                          4   \n",
              "119388                            0                          0   \n",
              "119389                            0                          2   \n",
              "\n",
              "        reservation_status reservation_status_date  \n",
              "0                Check-Out              2015-07-01  \n",
              "1                Check-Out              2015-07-01  \n",
              "2                Check-Out              2015-07-02  \n",
              "3                Check-Out              2015-07-02  \n",
              "4                Check-Out              2015-07-03  \n",
              "...                    ...                     ...  \n",
              "119385           Check-Out              2017-09-06  \n",
              "119386           Check-Out              2017-09-07  \n",
              "119387           Check-Out              2017-09-07  \n",
              "119388           Check-Out              2017-09-07  \n",
              "119389           Check-Out              2017-09-07  \n",
              "\n",
              "[119390 rows x 32 columns]"
            ],
            "text/html": [
              "\n",
              "  <div id=\"df-8c12d121-508b-4356-a387-52c226ad7a32\">\n",
              "    <div class=\"colab-df-container\">\n",
              "      <div>\n",
              "<style scoped>\n",
              "    .dataframe tbody tr th:only-of-type {\n",
              "        vertical-align: middle;\n",
              "    }\n",
              "\n",
              "    .dataframe tbody tr th {\n",
              "        vertical-align: top;\n",
              "    }\n",
              "\n",
              "    .dataframe thead th {\n",
              "        text-align: right;\n",
              "    }\n",
              "</style>\n",
              "<table border=\"1\" class=\"dataframe\">\n",
              "  <thead>\n",
              "    <tr style=\"text-align: right;\">\n",
              "      <th></th>\n",
              "      <th>hotel</th>\n",
              "      <th>is_canceled</th>\n",
              "      <th>lead_time</th>\n",
              "      <th>arrival_date_year</th>\n",
              "      <th>arrival_date_month</th>\n",
              "      <th>arrival_date_week_number</th>\n",
              "      <th>arrival_date_day_of_month</th>\n",
              "      <th>stays_in_weekend_nights</th>\n",
              "      <th>stays_in_week_nights</th>\n",
              "      <th>adults</th>\n",
              "      <th>...</th>\n",
              "      <th>deposit_type</th>\n",
              "      <th>agent</th>\n",
              "      <th>company</th>\n",
              "      <th>days_in_waiting_list</th>\n",
              "      <th>customer_type</th>\n",
              "      <th>adr</th>\n",
              "      <th>required_car_parking_spaces</th>\n",
              "      <th>total_of_special_requests</th>\n",
              "      <th>reservation_status</th>\n",
              "      <th>reservation_status_date</th>\n",
              "    </tr>\n",
              "  </thead>\n",
              "  <tbody>\n",
              "    <tr>\n",
              "      <th>0</th>\n",
              "      <td>Resort Hotel</td>\n",
              "      <td>0</td>\n",
              "      <td>342</td>\n",
              "      <td>2015</td>\n",
              "      <td>July</td>\n",
              "      <td>27</td>\n",
              "      <td>1</td>\n",
              "      <td>0</td>\n",
              "      <td>0</td>\n",
              "      <td>2</td>\n",
              "      <td>...</td>\n",
              "      <td>No Deposit</td>\n",
              "      <td>NaN</td>\n",
              "      <td>NaN</td>\n",
              "      <td>0</td>\n",
              "      <td>Transient</td>\n",
              "      <td>0.00</td>\n",
              "      <td>0</td>\n",
              "      <td>0</td>\n",
              "      <td>Check-Out</td>\n",
              "      <td>2015-07-01</td>\n",
              "    </tr>\n",
              "    <tr>\n",
              "      <th>1</th>\n",
              "      <td>Resort Hotel</td>\n",
              "      <td>0</td>\n",
              "      <td>737</td>\n",
              "      <td>2015</td>\n",
              "      <td>July</td>\n",
              "      <td>27</td>\n",
              "      <td>1</td>\n",
              "      <td>0</td>\n",
              "      <td>0</td>\n",
              "      <td>2</td>\n",
              "      <td>...</td>\n",
              "      <td>No Deposit</td>\n",
              "      <td>NaN</td>\n",
              "      <td>NaN</td>\n",
              "      <td>0</td>\n",
              "      <td>Transient</td>\n",
              "      <td>0.00</td>\n",
              "      <td>0</td>\n",
              "      <td>0</td>\n",
              "      <td>Check-Out</td>\n",
              "      <td>2015-07-01</td>\n",
              "    </tr>\n",
              "    <tr>\n",
              "      <th>2</th>\n",
              "      <td>Resort Hotel</td>\n",
              "      <td>0</td>\n",
              "      <td>7</td>\n",
              "      <td>2015</td>\n",
              "      <td>July</td>\n",
              "      <td>27</td>\n",
              "      <td>1</td>\n",
              "      <td>0</td>\n",
              "      <td>1</td>\n",
              "      <td>1</td>\n",
              "      <td>...</td>\n",
              "      <td>No Deposit</td>\n",
              "      <td>NaN</td>\n",
              "      <td>NaN</td>\n",
              "      <td>0</td>\n",
              "      <td>Transient</td>\n",
              "      <td>75.00</td>\n",
              "      <td>0</td>\n",
              "      <td>0</td>\n",
              "      <td>Check-Out</td>\n",
              "      <td>2015-07-02</td>\n",
              "    </tr>\n",
              "    <tr>\n",
              "      <th>3</th>\n",
              "      <td>Resort Hotel</td>\n",
              "      <td>0</td>\n",
              "      <td>13</td>\n",
              "      <td>2015</td>\n",
              "      <td>July</td>\n",
              "      <td>27</td>\n",
              "      <td>1</td>\n",
              "      <td>0</td>\n",
              "      <td>1</td>\n",
              "      <td>1</td>\n",
              "      <td>...</td>\n",
              "      <td>No Deposit</td>\n",
              "      <td>304.0</td>\n",
              "      <td>NaN</td>\n",
              "      <td>0</td>\n",
              "      <td>Transient</td>\n",
              "      <td>75.00</td>\n",
              "      <td>0</td>\n",
              "      <td>0</td>\n",
              "      <td>Check-Out</td>\n",
              "      <td>2015-07-02</td>\n",
              "    </tr>\n",
              "    <tr>\n",
              "      <th>4</th>\n",
              "      <td>Resort Hotel</td>\n",
              "      <td>0</td>\n",
              "      <td>14</td>\n",
              "      <td>2015</td>\n",
              "      <td>July</td>\n",
              "      <td>27</td>\n",
              "      <td>1</td>\n",
              "      <td>0</td>\n",
              "      <td>2</td>\n",
              "      <td>2</td>\n",
              "      <td>...</td>\n",
              "      <td>No Deposit</td>\n",
              "      <td>240.0</td>\n",
              "      <td>NaN</td>\n",
              "      <td>0</td>\n",
              "      <td>Transient</td>\n",
              "      <td>98.00</td>\n",
              "      <td>0</td>\n",
              "      <td>1</td>\n",
              "      <td>Check-Out</td>\n",
              "      <td>2015-07-03</td>\n",
              "    </tr>\n",
              "    <tr>\n",
              "      <th>...</th>\n",
              "      <td>...</td>\n",
              "      <td>...</td>\n",
              "      <td>...</td>\n",
              "      <td>...</td>\n",
              "      <td>...</td>\n",
              "      <td>...</td>\n",
              "      <td>...</td>\n",
              "      <td>...</td>\n",
              "      <td>...</td>\n",
              "      <td>...</td>\n",
              "      <td>...</td>\n",
              "      <td>...</td>\n",
              "      <td>...</td>\n",
              "      <td>...</td>\n",
              "      <td>...</td>\n",
              "      <td>...</td>\n",
              "      <td>...</td>\n",
              "      <td>...</td>\n",
              "      <td>...</td>\n",
              "      <td>...</td>\n",
              "      <td>...</td>\n",
              "    </tr>\n",
              "    <tr>\n",
              "      <th>119385</th>\n",
              "      <td>City Hotel</td>\n",
              "      <td>0</td>\n",
              "      <td>23</td>\n",
              "      <td>2017</td>\n",
              "      <td>August</td>\n",
              "      <td>35</td>\n",
              "      <td>30</td>\n",
              "      <td>2</td>\n",
              "      <td>5</td>\n",
              "      <td>2</td>\n",
              "      <td>...</td>\n",
              "      <td>No Deposit</td>\n",
              "      <td>394.0</td>\n",
              "      <td>NaN</td>\n",
              "      <td>0</td>\n",
              "      <td>Transient</td>\n",
              "      <td>96.14</td>\n",
              "      <td>0</td>\n",
              "      <td>0</td>\n",
              "      <td>Check-Out</td>\n",
              "      <td>2017-09-06</td>\n",
              "    </tr>\n",
              "    <tr>\n",
              "      <th>119386</th>\n",
              "      <td>City Hotel</td>\n",
              "      <td>0</td>\n",
              "      <td>102</td>\n",
              "      <td>2017</td>\n",
              "      <td>August</td>\n",
              "      <td>35</td>\n",
              "      <td>31</td>\n",
              "      <td>2</td>\n",
              "      <td>5</td>\n",
              "      <td>3</td>\n",
              "      <td>...</td>\n",
              "      <td>No Deposit</td>\n",
              "      <td>9.0</td>\n",
              "      <td>NaN</td>\n",
              "      <td>0</td>\n",
              "      <td>Transient</td>\n",
              "      <td>225.43</td>\n",
              "      <td>0</td>\n",
              "      <td>2</td>\n",
              "      <td>Check-Out</td>\n",
              "      <td>2017-09-07</td>\n",
              "    </tr>\n",
              "    <tr>\n",
              "      <th>119387</th>\n",
              "      <td>City Hotel</td>\n",
              "      <td>0</td>\n",
              "      <td>34</td>\n",
              "      <td>2017</td>\n",
              "      <td>August</td>\n",
              "      <td>35</td>\n",
              "      <td>31</td>\n",
              "      <td>2</td>\n",
              "      <td>5</td>\n",
              "      <td>2</td>\n",
              "      <td>...</td>\n",
              "      <td>No Deposit</td>\n",
              "      <td>9.0</td>\n",
              "      <td>NaN</td>\n",
              "      <td>0</td>\n",
              "      <td>Transient</td>\n",
              "      <td>157.71</td>\n",
              "      <td>0</td>\n",
              "      <td>4</td>\n",
              "      <td>Check-Out</td>\n",
              "      <td>2017-09-07</td>\n",
              "    </tr>\n",
              "    <tr>\n",
              "      <th>119388</th>\n",
              "      <td>City Hotel</td>\n",
              "      <td>0</td>\n",
              "      <td>109</td>\n",
              "      <td>2017</td>\n",
              "      <td>August</td>\n",
              "      <td>35</td>\n",
              "      <td>31</td>\n",
              "      <td>2</td>\n",
              "      <td>5</td>\n",
              "      <td>2</td>\n",
              "      <td>...</td>\n",
              "      <td>No Deposit</td>\n",
              "      <td>89.0</td>\n",
              "      <td>NaN</td>\n",
              "      <td>0</td>\n",
              "      <td>Transient</td>\n",
              "      <td>104.40</td>\n",
              "      <td>0</td>\n",
              "      <td>0</td>\n",
              "      <td>Check-Out</td>\n",
              "      <td>2017-09-07</td>\n",
              "    </tr>\n",
              "    <tr>\n",
              "      <th>119389</th>\n",
              "      <td>City Hotel</td>\n",
              "      <td>0</td>\n",
              "      <td>205</td>\n",
              "      <td>2017</td>\n",
              "      <td>August</td>\n",
              "      <td>35</td>\n",
              "      <td>29</td>\n",
              "      <td>2</td>\n",
              "      <td>7</td>\n",
              "      <td>2</td>\n",
              "      <td>...</td>\n",
              "      <td>No Deposit</td>\n",
              "      <td>9.0</td>\n",
              "      <td>NaN</td>\n",
              "      <td>0</td>\n",
              "      <td>Transient</td>\n",
              "      <td>151.20</td>\n",
              "      <td>0</td>\n",
              "      <td>2</td>\n",
              "      <td>Check-Out</td>\n",
              "      <td>2017-09-07</td>\n",
              "    </tr>\n",
              "  </tbody>\n",
              "</table>\n",
              "<p>119390 rows × 32 columns</p>\n",
              "</div>\n",
              "      <button class=\"colab-df-convert\" onclick=\"convertToInteractive('df-8c12d121-508b-4356-a387-52c226ad7a32')\"\n",
              "              title=\"Convert this dataframe to an interactive table.\"\n",
              "              style=\"display:none;\">\n",
              "        \n",
              "  <svg xmlns=\"http://www.w3.org/2000/svg\" height=\"24px\"viewBox=\"0 0 24 24\"\n",
              "       width=\"24px\">\n",
              "    <path d=\"M0 0h24v24H0V0z\" fill=\"none\"/>\n",
              "    <path d=\"M18.56 5.44l.94 2.06.94-2.06 2.06-.94-2.06-.94-.94-2.06-.94 2.06-2.06.94zm-11 1L8.5 8.5l.94-2.06 2.06-.94-2.06-.94L8.5 2.5l-.94 2.06-2.06.94zm10 10l.94 2.06.94-2.06 2.06-.94-2.06-.94-.94-2.06-.94 2.06-2.06.94z\"/><path d=\"M17.41 7.96l-1.37-1.37c-.4-.4-.92-.59-1.43-.59-.52 0-1.04.2-1.43.59L10.3 9.45l-7.72 7.72c-.78.78-.78 2.05 0 2.83L4 21.41c.39.39.9.59 1.41.59.51 0 1.02-.2 1.41-.59l7.78-7.78 2.81-2.81c.8-.78.8-2.07 0-2.86zM5.41 20L4 18.59l7.72-7.72 1.47 1.35L5.41 20z\"/>\n",
              "  </svg>\n",
              "      </button>\n",
              "      \n",
              "  <style>\n",
              "    .colab-df-container {\n",
              "      display:flex;\n",
              "      flex-wrap:wrap;\n",
              "      gap: 12px;\n",
              "    }\n",
              "\n",
              "    .colab-df-convert {\n",
              "      background-color: #E8F0FE;\n",
              "      border: none;\n",
              "      border-radius: 50%;\n",
              "      cursor: pointer;\n",
              "      display: none;\n",
              "      fill: #1967D2;\n",
              "      height: 32px;\n",
              "      padding: 0 0 0 0;\n",
              "      width: 32px;\n",
              "    }\n",
              "\n",
              "    .colab-df-convert:hover {\n",
              "      background-color: #E2EBFA;\n",
              "      box-shadow: 0px 1px 2px rgba(60, 64, 67, 0.3), 0px 1px 3px 1px rgba(60, 64, 67, 0.15);\n",
              "      fill: #174EA6;\n",
              "    }\n",
              "\n",
              "    [theme=dark] .colab-df-convert {\n",
              "      background-color: #3B4455;\n",
              "      fill: #D2E3FC;\n",
              "    }\n",
              "\n",
              "    [theme=dark] .colab-df-convert:hover {\n",
              "      background-color: #434B5C;\n",
              "      box-shadow: 0px 1px 3px 1px rgba(0, 0, 0, 0.15);\n",
              "      filter: drop-shadow(0px 1px 2px rgba(0, 0, 0, 0.3));\n",
              "      fill: #FFFFFF;\n",
              "    }\n",
              "  </style>\n",
              "\n",
              "      <script>\n",
              "        const buttonEl =\n",
              "          document.querySelector('#df-8c12d121-508b-4356-a387-52c226ad7a32 button.colab-df-convert');\n",
              "        buttonEl.style.display =\n",
              "          google.colab.kernel.accessAllowed ? 'block' : 'none';\n",
              "\n",
              "        async function convertToInteractive(key) {\n",
              "          const element = document.querySelector('#df-8c12d121-508b-4356-a387-52c226ad7a32');\n",
              "          const dataTable =\n",
              "            await google.colab.kernel.invokeFunction('convertToInteractive',\n",
              "                                                     [key], {});\n",
              "          if (!dataTable) return;\n",
              "\n",
              "          const docLinkHtml = 'Like what you see? Visit the ' +\n",
              "            '<a target=\"_blank\" href=https://colab.research.google.com/notebooks/data_table.ipynb>data table notebook</a>'\n",
              "            + ' to learn more about interactive tables.';\n",
              "          element.innerHTML = '';\n",
              "          dataTable['output_type'] = 'display_data';\n",
              "          await google.colab.output.renderOutput(dataTable, element);\n",
              "          const docLink = document.createElement('div');\n",
              "          docLink.innerHTML = docLinkHtml;\n",
              "          element.appendChild(docLink);\n",
              "        }\n",
              "      </script>\n",
              "    </div>\n",
              "  </div>\n",
              "  "
            ]
          },
          "metadata": {},
          "execution_count": 5
        }
      ]
    },
    {
      "cell_type": "code",
      "source": [
        "#  by using this head() method we can get the first 5 rows (as default) but if we want to know more than 5 rows than we have to specify numbers of rows in parentheses.\n",
        "\n",
        "hotel_booking_analysis_df.head()\n"
      ],
      "metadata": {
        "colab": {
          "base_uri": "https://localhost:8080/",
          "height": 386
        },
        "id": "UQBZKPKQ2TKE",
        "outputId": "47b02bbd-f7ca-4caa-fd8d-44892d8a7d9b"
      },
      "execution_count": 6,
      "outputs": [
        {
          "output_type": "execute_result",
          "data": {
            "text/plain": [
              "          hotel  is_canceled  lead_time  arrival_date_year arrival_date_month  \\\n",
              "0  Resort Hotel            0        342               2015               July   \n",
              "1  Resort Hotel            0        737               2015               July   \n",
              "2  Resort Hotel            0          7               2015               July   \n",
              "3  Resort Hotel            0         13               2015               July   \n",
              "4  Resort Hotel            0         14               2015               July   \n",
              "\n",
              "   arrival_date_week_number  arrival_date_day_of_month  \\\n",
              "0                        27                          1   \n",
              "1                        27                          1   \n",
              "2                        27                          1   \n",
              "3                        27                          1   \n",
              "4                        27                          1   \n",
              "\n",
              "   stays_in_weekend_nights  stays_in_week_nights  adults  ...  deposit_type  \\\n",
              "0                        0                     0       2  ...    No Deposit   \n",
              "1                        0                     0       2  ...    No Deposit   \n",
              "2                        0                     1       1  ...    No Deposit   \n",
              "3                        0                     1       1  ...    No Deposit   \n",
              "4                        0                     2       2  ...    No Deposit   \n",
              "\n",
              "   agent company days_in_waiting_list customer_type   adr  \\\n",
              "0    NaN     NaN                    0     Transient   0.0   \n",
              "1    NaN     NaN                    0     Transient   0.0   \n",
              "2    NaN     NaN                    0     Transient  75.0   \n",
              "3  304.0     NaN                    0     Transient  75.0   \n",
              "4  240.0     NaN                    0     Transient  98.0   \n",
              "\n",
              "   required_car_parking_spaces  total_of_special_requests  reservation_status  \\\n",
              "0                            0                          0           Check-Out   \n",
              "1                            0                          0           Check-Out   \n",
              "2                            0                          0           Check-Out   \n",
              "3                            0                          0           Check-Out   \n",
              "4                            0                          1           Check-Out   \n",
              "\n",
              "  reservation_status_date  \n",
              "0              2015-07-01  \n",
              "1              2015-07-01  \n",
              "2              2015-07-02  \n",
              "3              2015-07-02  \n",
              "4              2015-07-03  \n",
              "\n",
              "[5 rows x 32 columns]"
            ],
            "text/html": [
              "\n",
              "  <div id=\"df-ce41b89d-626b-4edc-94cb-06baa36abed1\">\n",
              "    <div class=\"colab-df-container\">\n",
              "      <div>\n",
              "<style scoped>\n",
              "    .dataframe tbody tr th:only-of-type {\n",
              "        vertical-align: middle;\n",
              "    }\n",
              "\n",
              "    .dataframe tbody tr th {\n",
              "        vertical-align: top;\n",
              "    }\n",
              "\n",
              "    .dataframe thead th {\n",
              "        text-align: right;\n",
              "    }\n",
              "</style>\n",
              "<table border=\"1\" class=\"dataframe\">\n",
              "  <thead>\n",
              "    <tr style=\"text-align: right;\">\n",
              "      <th></th>\n",
              "      <th>hotel</th>\n",
              "      <th>is_canceled</th>\n",
              "      <th>lead_time</th>\n",
              "      <th>arrival_date_year</th>\n",
              "      <th>arrival_date_month</th>\n",
              "      <th>arrival_date_week_number</th>\n",
              "      <th>arrival_date_day_of_month</th>\n",
              "      <th>stays_in_weekend_nights</th>\n",
              "      <th>stays_in_week_nights</th>\n",
              "      <th>adults</th>\n",
              "      <th>...</th>\n",
              "      <th>deposit_type</th>\n",
              "      <th>agent</th>\n",
              "      <th>company</th>\n",
              "      <th>days_in_waiting_list</th>\n",
              "      <th>customer_type</th>\n",
              "      <th>adr</th>\n",
              "      <th>required_car_parking_spaces</th>\n",
              "      <th>total_of_special_requests</th>\n",
              "      <th>reservation_status</th>\n",
              "      <th>reservation_status_date</th>\n",
              "    </tr>\n",
              "  </thead>\n",
              "  <tbody>\n",
              "    <tr>\n",
              "      <th>0</th>\n",
              "      <td>Resort Hotel</td>\n",
              "      <td>0</td>\n",
              "      <td>342</td>\n",
              "      <td>2015</td>\n",
              "      <td>July</td>\n",
              "      <td>27</td>\n",
              "      <td>1</td>\n",
              "      <td>0</td>\n",
              "      <td>0</td>\n",
              "      <td>2</td>\n",
              "      <td>...</td>\n",
              "      <td>No Deposit</td>\n",
              "      <td>NaN</td>\n",
              "      <td>NaN</td>\n",
              "      <td>0</td>\n",
              "      <td>Transient</td>\n",
              "      <td>0.0</td>\n",
              "      <td>0</td>\n",
              "      <td>0</td>\n",
              "      <td>Check-Out</td>\n",
              "      <td>2015-07-01</td>\n",
              "    </tr>\n",
              "    <tr>\n",
              "      <th>1</th>\n",
              "      <td>Resort Hotel</td>\n",
              "      <td>0</td>\n",
              "      <td>737</td>\n",
              "      <td>2015</td>\n",
              "      <td>July</td>\n",
              "      <td>27</td>\n",
              "      <td>1</td>\n",
              "      <td>0</td>\n",
              "      <td>0</td>\n",
              "      <td>2</td>\n",
              "      <td>...</td>\n",
              "      <td>No Deposit</td>\n",
              "      <td>NaN</td>\n",
              "      <td>NaN</td>\n",
              "      <td>0</td>\n",
              "      <td>Transient</td>\n",
              "      <td>0.0</td>\n",
              "      <td>0</td>\n",
              "      <td>0</td>\n",
              "      <td>Check-Out</td>\n",
              "      <td>2015-07-01</td>\n",
              "    </tr>\n",
              "    <tr>\n",
              "      <th>2</th>\n",
              "      <td>Resort Hotel</td>\n",
              "      <td>0</td>\n",
              "      <td>7</td>\n",
              "      <td>2015</td>\n",
              "      <td>July</td>\n",
              "      <td>27</td>\n",
              "      <td>1</td>\n",
              "      <td>0</td>\n",
              "      <td>1</td>\n",
              "      <td>1</td>\n",
              "      <td>...</td>\n",
              "      <td>No Deposit</td>\n",
              "      <td>NaN</td>\n",
              "      <td>NaN</td>\n",
              "      <td>0</td>\n",
              "      <td>Transient</td>\n",
              "      <td>75.0</td>\n",
              "      <td>0</td>\n",
              "      <td>0</td>\n",
              "      <td>Check-Out</td>\n",
              "      <td>2015-07-02</td>\n",
              "    </tr>\n",
              "    <tr>\n",
              "      <th>3</th>\n",
              "      <td>Resort Hotel</td>\n",
              "      <td>0</td>\n",
              "      <td>13</td>\n",
              "      <td>2015</td>\n",
              "      <td>July</td>\n",
              "      <td>27</td>\n",
              "      <td>1</td>\n",
              "      <td>0</td>\n",
              "      <td>1</td>\n",
              "      <td>1</td>\n",
              "      <td>...</td>\n",
              "      <td>No Deposit</td>\n",
              "      <td>304.0</td>\n",
              "      <td>NaN</td>\n",
              "      <td>0</td>\n",
              "      <td>Transient</td>\n",
              "      <td>75.0</td>\n",
              "      <td>0</td>\n",
              "      <td>0</td>\n",
              "      <td>Check-Out</td>\n",
              "      <td>2015-07-02</td>\n",
              "    </tr>\n",
              "    <tr>\n",
              "      <th>4</th>\n",
              "      <td>Resort Hotel</td>\n",
              "      <td>0</td>\n",
              "      <td>14</td>\n",
              "      <td>2015</td>\n",
              "      <td>July</td>\n",
              "      <td>27</td>\n",
              "      <td>1</td>\n",
              "      <td>0</td>\n",
              "      <td>2</td>\n",
              "      <td>2</td>\n",
              "      <td>...</td>\n",
              "      <td>No Deposit</td>\n",
              "      <td>240.0</td>\n",
              "      <td>NaN</td>\n",
              "      <td>0</td>\n",
              "      <td>Transient</td>\n",
              "      <td>98.0</td>\n",
              "      <td>0</td>\n",
              "      <td>1</td>\n",
              "      <td>Check-Out</td>\n",
              "      <td>2015-07-03</td>\n",
              "    </tr>\n",
              "  </tbody>\n",
              "</table>\n",
              "<p>5 rows × 32 columns</p>\n",
              "</div>\n",
              "      <button class=\"colab-df-convert\" onclick=\"convertToInteractive('df-ce41b89d-626b-4edc-94cb-06baa36abed1')\"\n",
              "              title=\"Convert this dataframe to an interactive table.\"\n",
              "              style=\"display:none;\">\n",
              "        \n",
              "  <svg xmlns=\"http://www.w3.org/2000/svg\" height=\"24px\"viewBox=\"0 0 24 24\"\n",
              "       width=\"24px\">\n",
              "    <path d=\"M0 0h24v24H0V0z\" fill=\"none\"/>\n",
              "    <path d=\"M18.56 5.44l.94 2.06.94-2.06 2.06-.94-2.06-.94-.94-2.06-.94 2.06-2.06.94zm-11 1L8.5 8.5l.94-2.06 2.06-.94-2.06-.94L8.5 2.5l-.94 2.06-2.06.94zm10 10l.94 2.06.94-2.06 2.06-.94-2.06-.94-.94-2.06-.94 2.06-2.06.94z\"/><path d=\"M17.41 7.96l-1.37-1.37c-.4-.4-.92-.59-1.43-.59-.52 0-1.04.2-1.43.59L10.3 9.45l-7.72 7.72c-.78.78-.78 2.05 0 2.83L4 21.41c.39.39.9.59 1.41.59.51 0 1.02-.2 1.41-.59l7.78-7.78 2.81-2.81c.8-.78.8-2.07 0-2.86zM5.41 20L4 18.59l7.72-7.72 1.47 1.35L5.41 20z\"/>\n",
              "  </svg>\n",
              "      </button>\n",
              "      \n",
              "  <style>\n",
              "    .colab-df-container {\n",
              "      display:flex;\n",
              "      flex-wrap:wrap;\n",
              "      gap: 12px;\n",
              "    }\n",
              "\n",
              "    .colab-df-convert {\n",
              "      background-color: #E8F0FE;\n",
              "      border: none;\n",
              "      border-radius: 50%;\n",
              "      cursor: pointer;\n",
              "      display: none;\n",
              "      fill: #1967D2;\n",
              "      height: 32px;\n",
              "      padding: 0 0 0 0;\n",
              "      width: 32px;\n",
              "    }\n",
              "\n",
              "    .colab-df-convert:hover {\n",
              "      background-color: #E2EBFA;\n",
              "      box-shadow: 0px 1px 2px rgba(60, 64, 67, 0.3), 0px 1px 3px 1px rgba(60, 64, 67, 0.15);\n",
              "      fill: #174EA6;\n",
              "    }\n",
              "\n",
              "    [theme=dark] .colab-df-convert {\n",
              "      background-color: #3B4455;\n",
              "      fill: #D2E3FC;\n",
              "    }\n",
              "\n",
              "    [theme=dark] .colab-df-convert:hover {\n",
              "      background-color: #434B5C;\n",
              "      box-shadow: 0px 1px 3px 1px rgba(0, 0, 0, 0.15);\n",
              "      filter: drop-shadow(0px 1px 2px rgba(0, 0, 0, 0.3));\n",
              "      fill: #FFFFFF;\n",
              "    }\n",
              "  </style>\n",
              "\n",
              "      <script>\n",
              "        const buttonEl =\n",
              "          document.querySelector('#df-ce41b89d-626b-4edc-94cb-06baa36abed1 button.colab-df-convert');\n",
              "        buttonEl.style.display =\n",
              "          google.colab.kernel.accessAllowed ? 'block' : 'none';\n",
              "\n",
              "        async function convertToInteractive(key) {\n",
              "          const element = document.querySelector('#df-ce41b89d-626b-4edc-94cb-06baa36abed1');\n",
              "          const dataTable =\n",
              "            await google.colab.kernel.invokeFunction('convertToInteractive',\n",
              "                                                     [key], {});\n",
              "          if (!dataTable) return;\n",
              "\n",
              "          const docLinkHtml = 'Like what you see? Visit the ' +\n",
              "            '<a target=\"_blank\" href=https://colab.research.google.com/notebooks/data_table.ipynb>data table notebook</a>'\n",
              "            + ' to learn more about interactive tables.';\n",
              "          element.innerHTML = '';\n",
              "          dataTable['output_type'] = 'display_data';\n",
              "          await google.colab.output.renderOutput(dataTable, element);\n",
              "          const docLink = document.createElement('div');\n",
              "          docLink.innerHTML = docLinkHtml;\n",
              "          element.appendChild(docLink);\n",
              "        }\n",
              "      </script>\n",
              "    </div>\n",
              "  </div>\n",
              "  "
            ]
          },
          "metadata": {},
          "execution_count": 6
        }
      ]
    },
    {
      "cell_type": "code",
      "source": [
        "# by using this tail() method we can get the last 5 rows (as default) but if we want to know more than 5 rows than we have to specify numbers of rows in parentheses.\n",
        "\n",
        "hotel_booking_analysis_df.tail() \n"
      ],
      "metadata": {
        "colab": {
          "base_uri": "https://localhost:8080/",
          "height": 386
        },
        "id": "Iu7MdUXj2b_h",
        "outputId": "83cbaa94-ef73-455d-9f68-f9b5b1bc8cc0"
      },
      "execution_count": 7,
      "outputs": [
        {
          "output_type": "execute_result",
          "data": {
            "text/plain": [
              "             hotel  is_canceled  lead_time  arrival_date_year  \\\n",
              "119385  City Hotel            0         23               2017   \n",
              "119386  City Hotel            0        102               2017   \n",
              "119387  City Hotel            0         34               2017   \n",
              "119388  City Hotel            0        109               2017   \n",
              "119389  City Hotel            0        205               2017   \n",
              "\n",
              "       arrival_date_month  arrival_date_week_number  \\\n",
              "119385             August                        35   \n",
              "119386             August                        35   \n",
              "119387             August                        35   \n",
              "119388             August                        35   \n",
              "119389             August                        35   \n",
              "\n",
              "        arrival_date_day_of_month  stays_in_weekend_nights  \\\n",
              "119385                         30                        2   \n",
              "119386                         31                        2   \n",
              "119387                         31                        2   \n",
              "119388                         31                        2   \n",
              "119389                         29                        2   \n",
              "\n",
              "        stays_in_week_nights  adults  ...  deposit_type  agent company  \\\n",
              "119385                     5       2  ...    No Deposit  394.0     NaN   \n",
              "119386                     5       3  ...    No Deposit    9.0     NaN   \n",
              "119387                     5       2  ...    No Deposit    9.0     NaN   \n",
              "119388                     5       2  ...    No Deposit   89.0     NaN   \n",
              "119389                     7       2  ...    No Deposit    9.0     NaN   \n",
              "\n",
              "       days_in_waiting_list customer_type     adr  \\\n",
              "119385                    0     Transient   96.14   \n",
              "119386                    0     Transient  225.43   \n",
              "119387                    0     Transient  157.71   \n",
              "119388                    0     Transient  104.40   \n",
              "119389                    0     Transient  151.20   \n",
              "\n",
              "        required_car_parking_spaces  total_of_special_requests  \\\n",
              "119385                            0                          0   \n",
              "119386                            0                          2   \n",
              "119387                            0                          4   \n",
              "119388                            0                          0   \n",
              "119389                            0                          2   \n",
              "\n",
              "        reservation_status reservation_status_date  \n",
              "119385           Check-Out              2017-09-06  \n",
              "119386           Check-Out              2017-09-07  \n",
              "119387           Check-Out              2017-09-07  \n",
              "119388           Check-Out              2017-09-07  \n",
              "119389           Check-Out              2017-09-07  \n",
              "\n",
              "[5 rows x 32 columns]"
            ],
            "text/html": [
              "\n",
              "  <div id=\"df-87847956-5ae8-4e96-bccd-ddd0fa09bf3d\">\n",
              "    <div class=\"colab-df-container\">\n",
              "      <div>\n",
              "<style scoped>\n",
              "    .dataframe tbody tr th:only-of-type {\n",
              "        vertical-align: middle;\n",
              "    }\n",
              "\n",
              "    .dataframe tbody tr th {\n",
              "        vertical-align: top;\n",
              "    }\n",
              "\n",
              "    .dataframe thead th {\n",
              "        text-align: right;\n",
              "    }\n",
              "</style>\n",
              "<table border=\"1\" class=\"dataframe\">\n",
              "  <thead>\n",
              "    <tr style=\"text-align: right;\">\n",
              "      <th></th>\n",
              "      <th>hotel</th>\n",
              "      <th>is_canceled</th>\n",
              "      <th>lead_time</th>\n",
              "      <th>arrival_date_year</th>\n",
              "      <th>arrival_date_month</th>\n",
              "      <th>arrival_date_week_number</th>\n",
              "      <th>arrival_date_day_of_month</th>\n",
              "      <th>stays_in_weekend_nights</th>\n",
              "      <th>stays_in_week_nights</th>\n",
              "      <th>adults</th>\n",
              "      <th>...</th>\n",
              "      <th>deposit_type</th>\n",
              "      <th>agent</th>\n",
              "      <th>company</th>\n",
              "      <th>days_in_waiting_list</th>\n",
              "      <th>customer_type</th>\n",
              "      <th>adr</th>\n",
              "      <th>required_car_parking_spaces</th>\n",
              "      <th>total_of_special_requests</th>\n",
              "      <th>reservation_status</th>\n",
              "      <th>reservation_status_date</th>\n",
              "    </tr>\n",
              "  </thead>\n",
              "  <tbody>\n",
              "    <tr>\n",
              "      <th>119385</th>\n",
              "      <td>City Hotel</td>\n",
              "      <td>0</td>\n",
              "      <td>23</td>\n",
              "      <td>2017</td>\n",
              "      <td>August</td>\n",
              "      <td>35</td>\n",
              "      <td>30</td>\n",
              "      <td>2</td>\n",
              "      <td>5</td>\n",
              "      <td>2</td>\n",
              "      <td>...</td>\n",
              "      <td>No Deposit</td>\n",
              "      <td>394.0</td>\n",
              "      <td>NaN</td>\n",
              "      <td>0</td>\n",
              "      <td>Transient</td>\n",
              "      <td>96.14</td>\n",
              "      <td>0</td>\n",
              "      <td>0</td>\n",
              "      <td>Check-Out</td>\n",
              "      <td>2017-09-06</td>\n",
              "    </tr>\n",
              "    <tr>\n",
              "      <th>119386</th>\n",
              "      <td>City Hotel</td>\n",
              "      <td>0</td>\n",
              "      <td>102</td>\n",
              "      <td>2017</td>\n",
              "      <td>August</td>\n",
              "      <td>35</td>\n",
              "      <td>31</td>\n",
              "      <td>2</td>\n",
              "      <td>5</td>\n",
              "      <td>3</td>\n",
              "      <td>...</td>\n",
              "      <td>No Deposit</td>\n",
              "      <td>9.0</td>\n",
              "      <td>NaN</td>\n",
              "      <td>0</td>\n",
              "      <td>Transient</td>\n",
              "      <td>225.43</td>\n",
              "      <td>0</td>\n",
              "      <td>2</td>\n",
              "      <td>Check-Out</td>\n",
              "      <td>2017-09-07</td>\n",
              "    </tr>\n",
              "    <tr>\n",
              "      <th>119387</th>\n",
              "      <td>City Hotel</td>\n",
              "      <td>0</td>\n",
              "      <td>34</td>\n",
              "      <td>2017</td>\n",
              "      <td>August</td>\n",
              "      <td>35</td>\n",
              "      <td>31</td>\n",
              "      <td>2</td>\n",
              "      <td>5</td>\n",
              "      <td>2</td>\n",
              "      <td>...</td>\n",
              "      <td>No Deposit</td>\n",
              "      <td>9.0</td>\n",
              "      <td>NaN</td>\n",
              "      <td>0</td>\n",
              "      <td>Transient</td>\n",
              "      <td>157.71</td>\n",
              "      <td>0</td>\n",
              "      <td>4</td>\n",
              "      <td>Check-Out</td>\n",
              "      <td>2017-09-07</td>\n",
              "    </tr>\n",
              "    <tr>\n",
              "      <th>119388</th>\n",
              "      <td>City Hotel</td>\n",
              "      <td>0</td>\n",
              "      <td>109</td>\n",
              "      <td>2017</td>\n",
              "      <td>August</td>\n",
              "      <td>35</td>\n",
              "      <td>31</td>\n",
              "      <td>2</td>\n",
              "      <td>5</td>\n",
              "      <td>2</td>\n",
              "      <td>...</td>\n",
              "      <td>No Deposit</td>\n",
              "      <td>89.0</td>\n",
              "      <td>NaN</td>\n",
              "      <td>0</td>\n",
              "      <td>Transient</td>\n",
              "      <td>104.40</td>\n",
              "      <td>0</td>\n",
              "      <td>0</td>\n",
              "      <td>Check-Out</td>\n",
              "      <td>2017-09-07</td>\n",
              "    </tr>\n",
              "    <tr>\n",
              "      <th>119389</th>\n",
              "      <td>City Hotel</td>\n",
              "      <td>0</td>\n",
              "      <td>205</td>\n",
              "      <td>2017</td>\n",
              "      <td>August</td>\n",
              "      <td>35</td>\n",
              "      <td>29</td>\n",
              "      <td>2</td>\n",
              "      <td>7</td>\n",
              "      <td>2</td>\n",
              "      <td>...</td>\n",
              "      <td>No Deposit</td>\n",
              "      <td>9.0</td>\n",
              "      <td>NaN</td>\n",
              "      <td>0</td>\n",
              "      <td>Transient</td>\n",
              "      <td>151.20</td>\n",
              "      <td>0</td>\n",
              "      <td>2</td>\n",
              "      <td>Check-Out</td>\n",
              "      <td>2017-09-07</td>\n",
              "    </tr>\n",
              "  </tbody>\n",
              "</table>\n",
              "<p>5 rows × 32 columns</p>\n",
              "</div>\n",
              "      <button class=\"colab-df-convert\" onclick=\"convertToInteractive('df-87847956-5ae8-4e96-bccd-ddd0fa09bf3d')\"\n",
              "              title=\"Convert this dataframe to an interactive table.\"\n",
              "              style=\"display:none;\">\n",
              "        \n",
              "  <svg xmlns=\"http://www.w3.org/2000/svg\" height=\"24px\"viewBox=\"0 0 24 24\"\n",
              "       width=\"24px\">\n",
              "    <path d=\"M0 0h24v24H0V0z\" fill=\"none\"/>\n",
              "    <path d=\"M18.56 5.44l.94 2.06.94-2.06 2.06-.94-2.06-.94-.94-2.06-.94 2.06-2.06.94zm-11 1L8.5 8.5l.94-2.06 2.06-.94-2.06-.94L8.5 2.5l-.94 2.06-2.06.94zm10 10l.94 2.06.94-2.06 2.06-.94-2.06-.94-.94-2.06-.94 2.06-2.06.94z\"/><path d=\"M17.41 7.96l-1.37-1.37c-.4-.4-.92-.59-1.43-.59-.52 0-1.04.2-1.43.59L10.3 9.45l-7.72 7.72c-.78.78-.78 2.05 0 2.83L4 21.41c.39.39.9.59 1.41.59.51 0 1.02-.2 1.41-.59l7.78-7.78 2.81-2.81c.8-.78.8-2.07 0-2.86zM5.41 20L4 18.59l7.72-7.72 1.47 1.35L5.41 20z\"/>\n",
              "  </svg>\n",
              "      </button>\n",
              "      \n",
              "  <style>\n",
              "    .colab-df-container {\n",
              "      display:flex;\n",
              "      flex-wrap:wrap;\n",
              "      gap: 12px;\n",
              "    }\n",
              "\n",
              "    .colab-df-convert {\n",
              "      background-color: #E8F0FE;\n",
              "      border: none;\n",
              "      border-radius: 50%;\n",
              "      cursor: pointer;\n",
              "      display: none;\n",
              "      fill: #1967D2;\n",
              "      height: 32px;\n",
              "      padding: 0 0 0 0;\n",
              "      width: 32px;\n",
              "    }\n",
              "\n",
              "    .colab-df-convert:hover {\n",
              "      background-color: #E2EBFA;\n",
              "      box-shadow: 0px 1px 2px rgba(60, 64, 67, 0.3), 0px 1px 3px 1px rgba(60, 64, 67, 0.15);\n",
              "      fill: #174EA6;\n",
              "    }\n",
              "\n",
              "    [theme=dark] .colab-df-convert {\n",
              "      background-color: #3B4455;\n",
              "      fill: #D2E3FC;\n",
              "    }\n",
              "\n",
              "    [theme=dark] .colab-df-convert:hover {\n",
              "      background-color: #434B5C;\n",
              "      box-shadow: 0px 1px 3px 1px rgba(0, 0, 0, 0.15);\n",
              "      filter: drop-shadow(0px 1px 2px rgba(0, 0, 0, 0.3));\n",
              "      fill: #FFFFFF;\n",
              "    }\n",
              "  </style>\n",
              "\n",
              "      <script>\n",
              "        const buttonEl =\n",
              "          document.querySelector('#df-87847956-5ae8-4e96-bccd-ddd0fa09bf3d button.colab-df-convert');\n",
              "        buttonEl.style.display =\n",
              "          google.colab.kernel.accessAllowed ? 'block' : 'none';\n",
              "\n",
              "        async function convertToInteractive(key) {\n",
              "          const element = document.querySelector('#df-87847956-5ae8-4e96-bccd-ddd0fa09bf3d');\n",
              "          const dataTable =\n",
              "            await google.colab.kernel.invokeFunction('convertToInteractive',\n",
              "                                                     [key], {});\n",
              "          if (!dataTable) return;\n",
              "\n",
              "          const docLinkHtml = 'Like what you see? Visit the ' +\n",
              "            '<a target=\"_blank\" href=https://colab.research.google.com/notebooks/data_table.ipynb>data table notebook</a>'\n",
              "            + ' to learn more about interactive tables.';\n",
              "          element.innerHTML = '';\n",
              "          dataTable['output_type'] = 'display_data';\n",
              "          await google.colab.output.renderOutput(dataTable, element);\n",
              "          const docLink = document.createElement('div');\n",
              "          docLink.innerHTML = docLinkHtml;\n",
              "          element.appendChild(docLink);\n",
              "        }\n",
              "      </script>\n",
              "    </div>\n",
              "  </div>\n",
              "  "
            ]
          },
          "metadata": {},
          "execution_count": 7
        }
      ]
    },
    {
      "cell_type": "markdown",
      "source": [
        "### Dataset Rows & Columns count"
      ],
      "metadata": {
        "id": "7hBIi_osiCS2"
      }
    },
    {
      "cell_type": "code",
      "source": [
        "# Dataset Rows & Columns count\n",
        "\n",
        "hotel_booking_analysis_df.shape\n"
      ],
      "metadata": {
        "id": "Kllu7SJgmLij",
        "colab": {
          "base_uri": "https://localhost:8080/"
        },
        "outputId": "f6b86a99-39c8-48af-bee6-b40f943d5121"
      },
      "execution_count": 8,
      "outputs": [
        {
          "output_type": "execute_result",
          "data": {
            "text/plain": [
              "(119390, 32)"
            ]
          },
          "metadata": {},
          "execution_count": 8
        }
      ]
    },
    {
      "cell_type": "code",
      "source": [
        "print(hotel_booking_analysis_df.index)\n",
        "print('\\n')\n",
        "print(hotel_booking_analysis_df.columns)"
      ],
      "metadata": {
        "colab": {
          "base_uri": "https://localhost:8080/"
        },
        "id": "09-IjhdqvJbY",
        "outputId": "b6a3edbc-e49e-42e5-dd08-4d67763e836e"
      },
      "execution_count": 9,
      "outputs": [
        {
          "output_type": "stream",
          "name": "stdout",
          "text": [
            "RangeIndex(start=0, stop=119390, step=1)\n",
            "\n",
            "\n",
            "Index(['hotel', 'is_canceled', 'lead_time', 'arrival_date_year',\n",
            "       'arrival_date_month', 'arrival_date_week_number',\n",
            "       'arrival_date_day_of_month', 'stays_in_weekend_nights',\n",
            "       'stays_in_week_nights', 'adults', 'children', 'babies', 'meal',\n",
            "       'country', 'market_segment', 'distribution_channel',\n",
            "       'is_repeated_guest', 'previous_cancellations',\n",
            "       'previous_bookings_not_canceled', 'reserved_room_type',\n",
            "       'assigned_room_type', 'booking_changes', 'deposit_type', 'agent',\n",
            "       'company', 'days_in_waiting_list', 'customer_type', 'adr',\n",
            "       'required_car_parking_spaces', 'total_of_special_requests',\n",
            "       'reservation_status', 'reservation_status_date'],\n",
            "      dtype='object')\n"
          ]
        }
      ]
    },
    {
      "cell_type": "markdown",
      "source": [
        "### Dataset Information"
      ],
      "metadata": {
        "id": "JlHwYmJAmNHm"
      }
    },
    {
      "cell_type": "code",
      "source": [
        "# Dataset Info\n",
        "\n",
        "hotel_booking_analysis_df.info()"
      ],
      "metadata": {
        "id": "e9hRXRi6meOf",
        "colab": {
          "base_uri": "https://localhost:8080/"
        },
        "outputId": "9abc35a9-856c-4257-8cd3-3a6ca52d46e4"
      },
      "execution_count": 10,
      "outputs": [
        {
          "output_type": "stream",
          "name": "stdout",
          "text": [
            "<class 'pandas.core.frame.DataFrame'>\n",
            "RangeIndex: 119390 entries, 0 to 119389\n",
            "Data columns (total 32 columns):\n",
            " #   Column                          Non-Null Count   Dtype  \n",
            "---  ------                          --------------   -----  \n",
            " 0   hotel                           119390 non-null  object \n",
            " 1   is_canceled                     119390 non-null  int64  \n",
            " 2   lead_time                       119390 non-null  int64  \n",
            " 3   arrival_date_year               119390 non-null  int64  \n",
            " 4   arrival_date_month              119390 non-null  object \n",
            " 5   arrival_date_week_number        119390 non-null  int64  \n",
            " 6   arrival_date_day_of_month       119390 non-null  int64  \n",
            " 7   stays_in_weekend_nights         119390 non-null  int64  \n",
            " 8   stays_in_week_nights            119390 non-null  int64  \n",
            " 9   adults                          119390 non-null  int64  \n",
            " 10  children                        119386 non-null  float64\n",
            " 11  babies                          119390 non-null  int64  \n",
            " 12  meal                            119390 non-null  object \n",
            " 13  country                         118902 non-null  object \n",
            " 14  market_segment                  119390 non-null  object \n",
            " 15  distribution_channel            119390 non-null  object \n",
            " 16  is_repeated_guest               119390 non-null  int64  \n",
            " 17  previous_cancellations          119390 non-null  int64  \n",
            " 18  previous_bookings_not_canceled  119390 non-null  int64  \n",
            " 19  reserved_room_type              119390 non-null  object \n",
            " 20  assigned_room_type              119390 non-null  object \n",
            " 21  booking_changes                 119390 non-null  int64  \n",
            " 22  deposit_type                    119390 non-null  object \n",
            " 23  agent                           103050 non-null  float64\n",
            " 24  company                         6797 non-null    float64\n",
            " 25  days_in_waiting_list            119390 non-null  int64  \n",
            " 26  customer_type                   119390 non-null  object \n",
            " 27  adr                             119390 non-null  float64\n",
            " 28  required_car_parking_spaces     119390 non-null  int64  \n",
            " 29  total_of_special_requests       119390 non-null  int64  \n",
            " 30  reservation_status              119390 non-null  object \n",
            " 31  reservation_status_date         119390 non-null  object \n",
            "dtypes: float64(4), int64(16), object(12)\n",
            "memory usage: 29.1+ MB\n"
          ]
        }
      ]
    },
    {
      "cell_type": "markdown",
      "source": [
        "#### Duplicate Values"
      ],
      "metadata": {
        "id": "35m5QtbWiB9F"
      }
    },
    {
      "cell_type": "code",
      "source": [
        "# Dataset Duplicate Value Count\n",
        "\n",
        "hotel_booking_analysis_df.drop_duplicates(inplace = True) # here we remove/delete duplicate values by using drop_duplicate.\n",
        "unique_count_of_rows = hotel_booking_analysis_df.shape[0]\n",
        "\n",
        "unique_count_of_rows\n"
      ],
      "metadata": {
        "id": "1sLdpKYkmox0",
        "colab": {
          "base_uri": "https://localhost:8080/"
        },
        "outputId": "800a0dcf-37d0-4c8f-ac0e-3e924d0036f2"
      },
      "execution_count": 11,
      "outputs": [
        {
          "output_type": "execute_result",
          "data": {
            "text/plain": [
              "87396"
            ]
          },
          "metadata": {},
          "execution_count": 11
        }
      ]
    },
    {
      "cell_type": "markdown",
      "source": [
        "**first there were 119390 rows but now there is 87396 rows it means 31,994 rows were duplicates**"
      ],
      "metadata": {
        "id": "jvjyf3_S7leA"
      }
    },
    {
      "cell_type": "code",
      "source": [
        "# unique or updated dataset after removing duplicate rows.\n",
        "\n",
        "hotel_booking_analysis_df.reset_index()\n"
      ],
      "metadata": {
        "colab": {
          "base_uri": "https://localhost:8080/",
          "height": 661
        },
        "id": "guwXNfS79f-I",
        "outputId": "302ff9f3-aa86-45b4-c79e-ad1790295a1a"
      },
      "execution_count": 12,
      "outputs": [
        {
          "output_type": "execute_result",
          "data": {
            "text/plain": [
              "        index         hotel  is_canceled  lead_time  arrival_date_year  \\\n",
              "0           0  Resort Hotel            0        342               2015   \n",
              "1           1  Resort Hotel            0        737               2015   \n",
              "2           2  Resort Hotel            0          7               2015   \n",
              "3           3  Resort Hotel            0         13               2015   \n",
              "4           4  Resort Hotel            0         14               2015   \n",
              "...       ...           ...          ...        ...                ...   \n",
              "87391  119385    City Hotel            0         23               2017   \n",
              "87392  119386    City Hotel            0        102               2017   \n",
              "87393  119387    City Hotel            0         34               2017   \n",
              "87394  119388    City Hotel            0        109               2017   \n",
              "87395  119389    City Hotel            0        205               2017   \n",
              "\n",
              "      arrival_date_month  arrival_date_week_number  arrival_date_day_of_month  \\\n",
              "0                   July                        27                          1   \n",
              "1                   July                        27                          1   \n",
              "2                   July                        27                          1   \n",
              "3                   July                        27                          1   \n",
              "4                   July                        27                          1   \n",
              "...                  ...                       ...                        ...   \n",
              "87391             August                        35                         30   \n",
              "87392             August                        35                         31   \n",
              "87393             August                        35                         31   \n",
              "87394             August                        35                         31   \n",
              "87395             August                        35                         29   \n",
              "\n",
              "       stays_in_weekend_nights  stays_in_week_nights  ...  deposit_type  \\\n",
              "0                            0                     0  ...    No Deposit   \n",
              "1                            0                     0  ...    No Deposit   \n",
              "2                            0                     1  ...    No Deposit   \n",
              "3                            0                     1  ...    No Deposit   \n",
              "4                            0                     2  ...    No Deposit   \n",
              "...                        ...                   ...  ...           ...   \n",
              "87391                        2                     5  ...    No Deposit   \n",
              "87392                        2                     5  ...    No Deposit   \n",
              "87393                        2                     5  ...    No Deposit   \n",
              "87394                        2                     5  ...    No Deposit   \n",
              "87395                        2                     7  ...    No Deposit   \n",
              "\n",
              "       agent  company days_in_waiting_list customer_type     adr  \\\n",
              "0        NaN      NaN                    0     Transient    0.00   \n",
              "1        NaN      NaN                    0     Transient    0.00   \n",
              "2        NaN      NaN                    0     Transient   75.00   \n",
              "3      304.0      NaN                    0     Transient   75.00   \n",
              "4      240.0      NaN                    0     Transient   98.00   \n",
              "...      ...      ...                  ...           ...     ...   \n",
              "87391  394.0      NaN                    0     Transient   96.14   \n",
              "87392    9.0      NaN                    0     Transient  225.43   \n",
              "87393    9.0      NaN                    0     Transient  157.71   \n",
              "87394   89.0      NaN                    0     Transient  104.40   \n",
              "87395    9.0      NaN                    0     Transient  151.20   \n",
              "\n",
              "      required_car_parking_spaces  total_of_special_requests  \\\n",
              "0                               0                          0   \n",
              "1                               0                          0   \n",
              "2                               0                          0   \n",
              "3                               0                          0   \n",
              "4                               0                          1   \n",
              "...                           ...                        ...   \n",
              "87391                           0                          0   \n",
              "87392                           0                          2   \n",
              "87393                           0                          4   \n",
              "87394                           0                          0   \n",
              "87395                           0                          2   \n",
              "\n",
              "       reservation_status  reservation_status_date  \n",
              "0               Check-Out               2015-07-01  \n",
              "1               Check-Out               2015-07-01  \n",
              "2               Check-Out               2015-07-02  \n",
              "3               Check-Out               2015-07-02  \n",
              "4               Check-Out               2015-07-03  \n",
              "...                   ...                      ...  \n",
              "87391           Check-Out               2017-09-06  \n",
              "87392           Check-Out               2017-09-07  \n",
              "87393           Check-Out               2017-09-07  \n",
              "87394           Check-Out               2017-09-07  \n",
              "87395           Check-Out               2017-09-07  \n",
              "\n",
              "[87396 rows x 33 columns]"
            ],
            "text/html": [
              "\n",
              "  <div id=\"df-2c0b4143-3243-42cf-8b19-2861a69e6bea\">\n",
              "    <div class=\"colab-df-container\">\n",
              "      <div>\n",
              "<style scoped>\n",
              "    .dataframe tbody tr th:only-of-type {\n",
              "        vertical-align: middle;\n",
              "    }\n",
              "\n",
              "    .dataframe tbody tr th {\n",
              "        vertical-align: top;\n",
              "    }\n",
              "\n",
              "    .dataframe thead th {\n",
              "        text-align: right;\n",
              "    }\n",
              "</style>\n",
              "<table border=\"1\" class=\"dataframe\">\n",
              "  <thead>\n",
              "    <tr style=\"text-align: right;\">\n",
              "      <th></th>\n",
              "      <th>index</th>\n",
              "      <th>hotel</th>\n",
              "      <th>is_canceled</th>\n",
              "      <th>lead_time</th>\n",
              "      <th>arrival_date_year</th>\n",
              "      <th>arrival_date_month</th>\n",
              "      <th>arrival_date_week_number</th>\n",
              "      <th>arrival_date_day_of_month</th>\n",
              "      <th>stays_in_weekend_nights</th>\n",
              "      <th>stays_in_week_nights</th>\n",
              "      <th>...</th>\n",
              "      <th>deposit_type</th>\n",
              "      <th>agent</th>\n",
              "      <th>company</th>\n",
              "      <th>days_in_waiting_list</th>\n",
              "      <th>customer_type</th>\n",
              "      <th>adr</th>\n",
              "      <th>required_car_parking_spaces</th>\n",
              "      <th>total_of_special_requests</th>\n",
              "      <th>reservation_status</th>\n",
              "      <th>reservation_status_date</th>\n",
              "    </tr>\n",
              "  </thead>\n",
              "  <tbody>\n",
              "    <tr>\n",
              "      <th>0</th>\n",
              "      <td>0</td>\n",
              "      <td>Resort Hotel</td>\n",
              "      <td>0</td>\n",
              "      <td>342</td>\n",
              "      <td>2015</td>\n",
              "      <td>July</td>\n",
              "      <td>27</td>\n",
              "      <td>1</td>\n",
              "      <td>0</td>\n",
              "      <td>0</td>\n",
              "      <td>...</td>\n",
              "      <td>No Deposit</td>\n",
              "      <td>NaN</td>\n",
              "      <td>NaN</td>\n",
              "      <td>0</td>\n",
              "      <td>Transient</td>\n",
              "      <td>0.00</td>\n",
              "      <td>0</td>\n",
              "      <td>0</td>\n",
              "      <td>Check-Out</td>\n",
              "      <td>2015-07-01</td>\n",
              "    </tr>\n",
              "    <tr>\n",
              "      <th>1</th>\n",
              "      <td>1</td>\n",
              "      <td>Resort Hotel</td>\n",
              "      <td>0</td>\n",
              "      <td>737</td>\n",
              "      <td>2015</td>\n",
              "      <td>July</td>\n",
              "      <td>27</td>\n",
              "      <td>1</td>\n",
              "      <td>0</td>\n",
              "      <td>0</td>\n",
              "      <td>...</td>\n",
              "      <td>No Deposit</td>\n",
              "      <td>NaN</td>\n",
              "      <td>NaN</td>\n",
              "      <td>0</td>\n",
              "      <td>Transient</td>\n",
              "      <td>0.00</td>\n",
              "      <td>0</td>\n",
              "      <td>0</td>\n",
              "      <td>Check-Out</td>\n",
              "      <td>2015-07-01</td>\n",
              "    </tr>\n",
              "    <tr>\n",
              "      <th>2</th>\n",
              "      <td>2</td>\n",
              "      <td>Resort Hotel</td>\n",
              "      <td>0</td>\n",
              "      <td>7</td>\n",
              "      <td>2015</td>\n",
              "      <td>July</td>\n",
              "      <td>27</td>\n",
              "      <td>1</td>\n",
              "      <td>0</td>\n",
              "      <td>1</td>\n",
              "      <td>...</td>\n",
              "      <td>No Deposit</td>\n",
              "      <td>NaN</td>\n",
              "      <td>NaN</td>\n",
              "      <td>0</td>\n",
              "      <td>Transient</td>\n",
              "      <td>75.00</td>\n",
              "      <td>0</td>\n",
              "      <td>0</td>\n",
              "      <td>Check-Out</td>\n",
              "      <td>2015-07-02</td>\n",
              "    </tr>\n",
              "    <tr>\n",
              "      <th>3</th>\n",
              "      <td>3</td>\n",
              "      <td>Resort Hotel</td>\n",
              "      <td>0</td>\n",
              "      <td>13</td>\n",
              "      <td>2015</td>\n",
              "      <td>July</td>\n",
              "      <td>27</td>\n",
              "      <td>1</td>\n",
              "      <td>0</td>\n",
              "      <td>1</td>\n",
              "      <td>...</td>\n",
              "      <td>No Deposit</td>\n",
              "      <td>304.0</td>\n",
              "      <td>NaN</td>\n",
              "      <td>0</td>\n",
              "      <td>Transient</td>\n",
              "      <td>75.00</td>\n",
              "      <td>0</td>\n",
              "      <td>0</td>\n",
              "      <td>Check-Out</td>\n",
              "      <td>2015-07-02</td>\n",
              "    </tr>\n",
              "    <tr>\n",
              "      <th>4</th>\n",
              "      <td>4</td>\n",
              "      <td>Resort Hotel</td>\n",
              "      <td>0</td>\n",
              "      <td>14</td>\n",
              "      <td>2015</td>\n",
              "      <td>July</td>\n",
              "      <td>27</td>\n",
              "      <td>1</td>\n",
              "      <td>0</td>\n",
              "      <td>2</td>\n",
              "      <td>...</td>\n",
              "      <td>No Deposit</td>\n",
              "      <td>240.0</td>\n",
              "      <td>NaN</td>\n",
              "      <td>0</td>\n",
              "      <td>Transient</td>\n",
              "      <td>98.00</td>\n",
              "      <td>0</td>\n",
              "      <td>1</td>\n",
              "      <td>Check-Out</td>\n",
              "      <td>2015-07-03</td>\n",
              "    </tr>\n",
              "    <tr>\n",
              "      <th>...</th>\n",
              "      <td>...</td>\n",
              "      <td>...</td>\n",
              "      <td>...</td>\n",
              "      <td>...</td>\n",
              "      <td>...</td>\n",
              "      <td>...</td>\n",
              "      <td>...</td>\n",
              "      <td>...</td>\n",
              "      <td>...</td>\n",
              "      <td>...</td>\n",
              "      <td>...</td>\n",
              "      <td>...</td>\n",
              "      <td>...</td>\n",
              "      <td>...</td>\n",
              "      <td>...</td>\n",
              "      <td>...</td>\n",
              "      <td>...</td>\n",
              "      <td>...</td>\n",
              "      <td>...</td>\n",
              "      <td>...</td>\n",
              "      <td>...</td>\n",
              "    </tr>\n",
              "    <tr>\n",
              "      <th>87391</th>\n",
              "      <td>119385</td>\n",
              "      <td>City Hotel</td>\n",
              "      <td>0</td>\n",
              "      <td>23</td>\n",
              "      <td>2017</td>\n",
              "      <td>August</td>\n",
              "      <td>35</td>\n",
              "      <td>30</td>\n",
              "      <td>2</td>\n",
              "      <td>5</td>\n",
              "      <td>...</td>\n",
              "      <td>No Deposit</td>\n",
              "      <td>394.0</td>\n",
              "      <td>NaN</td>\n",
              "      <td>0</td>\n",
              "      <td>Transient</td>\n",
              "      <td>96.14</td>\n",
              "      <td>0</td>\n",
              "      <td>0</td>\n",
              "      <td>Check-Out</td>\n",
              "      <td>2017-09-06</td>\n",
              "    </tr>\n",
              "    <tr>\n",
              "      <th>87392</th>\n",
              "      <td>119386</td>\n",
              "      <td>City Hotel</td>\n",
              "      <td>0</td>\n",
              "      <td>102</td>\n",
              "      <td>2017</td>\n",
              "      <td>August</td>\n",
              "      <td>35</td>\n",
              "      <td>31</td>\n",
              "      <td>2</td>\n",
              "      <td>5</td>\n",
              "      <td>...</td>\n",
              "      <td>No Deposit</td>\n",
              "      <td>9.0</td>\n",
              "      <td>NaN</td>\n",
              "      <td>0</td>\n",
              "      <td>Transient</td>\n",
              "      <td>225.43</td>\n",
              "      <td>0</td>\n",
              "      <td>2</td>\n",
              "      <td>Check-Out</td>\n",
              "      <td>2017-09-07</td>\n",
              "    </tr>\n",
              "    <tr>\n",
              "      <th>87393</th>\n",
              "      <td>119387</td>\n",
              "      <td>City Hotel</td>\n",
              "      <td>0</td>\n",
              "      <td>34</td>\n",
              "      <td>2017</td>\n",
              "      <td>August</td>\n",
              "      <td>35</td>\n",
              "      <td>31</td>\n",
              "      <td>2</td>\n",
              "      <td>5</td>\n",
              "      <td>...</td>\n",
              "      <td>No Deposit</td>\n",
              "      <td>9.0</td>\n",
              "      <td>NaN</td>\n",
              "      <td>0</td>\n",
              "      <td>Transient</td>\n",
              "      <td>157.71</td>\n",
              "      <td>0</td>\n",
              "      <td>4</td>\n",
              "      <td>Check-Out</td>\n",
              "      <td>2017-09-07</td>\n",
              "    </tr>\n",
              "    <tr>\n",
              "      <th>87394</th>\n",
              "      <td>119388</td>\n",
              "      <td>City Hotel</td>\n",
              "      <td>0</td>\n",
              "      <td>109</td>\n",
              "      <td>2017</td>\n",
              "      <td>August</td>\n",
              "      <td>35</td>\n",
              "      <td>31</td>\n",
              "      <td>2</td>\n",
              "      <td>5</td>\n",
              "      <td>...</td>\n",
              "      <td>No Deposit</td>\n",
              "      <td>89.0</td>\n",
              "      <td>NaN</td>\n",
              "      <td>0</td>\n",
              "      <td>Transient</td>\n",
              "      <td>104.40</td>\n",
              "      <td>0</td>\n",
              "      <td>0</td>\n",
              "      <td>Check-Out</td>\n",
              "      <td>2017-09-07</td>\n",
              "    </tr>\n",
              "    <tr>\n",
              "      <th>87395</th>\n",
              "      <td>119389</td>\n",
              "      <td>City Hotel</td>\n",
              "      <td>0</td>\n",
              "      <td>205</td>\n",
              "      <td>2017</td>\n",
              "      <td>August</td>\n",
              "      <td>35</td>\n",
              "      <td>29</td>\n",
              "      <td>2</td>\n",
              "      <td>7</td>\n",
              "      <td>...</td>\n",
              "      <td>No Deposit</td>\n",
              "      <td>9.0</td>\n",
              "      <td>NaN</td>\n",
              "      <td>0</td>\n",
              "      <td>Transient</td>\n",
              "      <td>151.20</td>\n",
              "      <td>0</td>\n",
              "      <td>2</td>\n",
              "      <td>Check-Out</td>\n",
              "      <td>2017-09-07</td>\n",
              "    </tr>\n",
              "  </tbody>\n",
              "</table>\n",
              "<p>87396 rows × 33 columns</p>\n",
              "</div>\n",
              "      <button class=\"colab-df-convert\" onclick=\"convertToInteractive('df-2c0b4143-3243-42cf-8b19-2861a69e6bea')\"\n",
              "              title=\"Convert this dataframe to an interactive table.\"\n",
              "              style=\"display:none;\">\n",
              "        \n",
              "  <svg xmlns=\"http://www.w3.org/2000/svg\" height=\"24px\"viewBox=\"0 0 24 24\"\n",
              "       width=\"24px\">\n",
              "    <path d=\"M0 0h24v24H0V0z\" fill=\"none\"/>\n",
              "    <path d=\"M18.56 5.44l.94 2.06.94-2.06 2.06-.94-2.06-.94-.94-2.06-.94 2.06-2.06.94zm-11 1L8.5 8.5l.94-2.06 2.06-.94-2.06-.94L8.5 2.5l-.94 2.06-2.06.94zm10 10l.94 2.06.94-2.06 2.06-.94-2.06-.94-.94-2.06-.94 2.06-2.06.94z\"/><path d=\"M17.41 7.96l-1.37-1.37c-.4-.4-.92-.59-1.43-.59-.52 0-1.04.2-1.43.59L10.3 9.45l-7.72 7.72c-.78.78-.78 2.05 0 2.83L4 21.41c.39.39.9.59 1.41.59.51 0 1.02-.2 1.41-.59l7.78-7.78 2.81-2.81c.8-.78.8-2.07 0-2.86zM5.41 20L4 18.59l7.72-7.72 1.47 1.35L5.41 20z\"/>\n",
              "  </svg>\n",
              "      </button>\n",
              "      \n",
              "  <style>\n",
              "    .colab-df-container {\n",
              "      display:flex;\n",
              "      flex-wrap:wrap;\n",
              "      gap: 12px;\n",
              "    }\n",
              "\n",
              "    .colab-df-convert {\n",
              "      background-color: #E8F0FE;\n",
              "      border: none;\n",
              "      border-radius: 50%;\n",
              "      cursor: pointer;\n",
              "      display: none;\n",
              "      fill: #1967D2;\n",
              "      height: 32px;\n",
              "      padding: 0 0 0 0;\n",
              "      width: 32px;\n",
              "    }\n",
              "\n",
              "    .colab-df-convert:hover {\n",
              "      background-color: #E2EBFA;\n",
              "      box-shadow: 0px 1px 2px rgba(60, 64, 67, 0.3), 0px 1px 3px 1px rgba(60, 64, 67, 0.15);\n",
              "      fill: #174EA6;\n",
              "    }\n",
              "\n",
              "    [theme=dark] .colab-df-convert {\n",
              "      background-color: #3B4455;\n",
              "      fill: #D2E3FC;\n",
              "    }\n",
              "\n",
              "    [theme=dark] .colab-df-convert:hover {\n",
              "      background-color: #434B5C;\n",
              "      box-shadow: 0px 1px 3px 1px rgba(0, 0, 0, 0.15);\n",
              "      filter: drop-shadow(0px 1px 2px rgba(0, 0, 0, 0.3));\n",
              "      fill: #FFFFFF;\n",
              "    }\n",
              "  </style>\n",
              "\n",
              "      <script>\n",
              "        const buttonEl =\n",
              "          document.querySelector('#df-2c0b4143-3243-42cf-8b19-2861a69e6bea button.colab-df-convert');\n",
              "        buttonEl.style.display =\n",
              "          google.colab.kernel.accessAllowed ? 'block' : 'none';\n",
              "\n",
              "        async function convertToInteractive(key) {\n",
              "          const element = document.querySelector('#df-2c0b4143-3243-42cf-8b19-2861a69e6bea');\n",
              "          const dataTable =\n",
              "            await google.colab.kernel.invokeFunction('convertToInteractive',\n",
              "                                                     [key], {});\n",
              "          if (!dataTable) return;\n",
              "\n",
              "          const docLinkHtml = 'Like what you see? Visit the ' +\n",
              "            '<a target=\"_blank\" href=https://colab.research.google.com/notebooks/data_table.ipynb>data table notebook</a>'\n",
              "            + ' to learn more about interactive tables.';\n",
              "          element.innerHTML = '';\n",
              "          dataTable['output_type'] = 'display_data';\n",
              "          await google.colab.output.renderOutput(dataTable, element);\n",
              "          const docLink = document.createElement('div');\n",
              "          docLink.innerHTML = docLinkHtml;\n",
              "          element.appendChild(docLink);\n",
              "        }\n",
              "      </script>\n",
              "    </div>\n",
              "  </div>\n",
              "  "
            ]
          },
          "metadata": {},
          "execution_count": 12
        }
      ]
    },
    {
      "cell_type": "code",
      "source": [
        "#now here one additional column also occur which is index column."
      ],
      "metadata": {
        "id": "en795qH-C8Kj"
      },
      "execution_count": null,
      "outputs": []
    },
    {
      "cell_type": "markdown",
      "source": [
        "#### Missing Values/Null Values"
      ],
      "metadata": {
        "id": "PoPl-ycgm1ru"
      }
    },
    {
      "cell_type": "code",
      "source": [
        "# Missing Values/Null Values Count\n",
        "nullvalues = hotel_booking_analysis_df.isnull() == True\n",
        "\n",
        "#replacing all the null value as NaN\n",
        "hotel_booking_analysis_df.fillna(np.nan, inplace = True)"
      ],
      "metadata": {
        "id": "OuI73gEjDpis"
      },
      "execution_count": 13,
      "outputs": []
    },
    {
      "cell_type": "code",
      "source": [
        "hotel_booking_analysis_df.head(10)"
      ],
      "metadata": {
        "colab": {
          "base_uri": "https://localhost:8080/",
          "height": 629
        },
        "id": "mgmboo2MGLsJ",
        "outputId": "504b9f35-0a06-4876-8241-7fdf64d66aed"
      },
      "execution_count": 14,
      "outputs": [
        {
          "output_type": "execute_result",
          "data": {
            "text/plain": [
              "           hotel  is_canceled  lead_time  arrival_date_year  \\\n",
              "0   Resort Hotel            0        342               2015   \n",
              "1   Resort Hotel            0        737               2015   \n",
              "2   Resort Hotel            0          7               2015   \n",
              "3   Resort Hotel            0         13               2015   \n",
              "4   Resort Hotel            0         14               2015   \n",
              "6   Resort Hotel            0          0               2015   \n",
              "7   Resort Hotel            0          9               2015   \n",
              "8   Resort Hotel            1         85               2015   \n",
              "9   Resort Hotel            1         75               2015   \n",
              "10  Resort Hotel            1         23               2015   \n",
              "\n",
              "   arrival_date_month  arrival_date_week_number  arrival_date_day_of_month  \\\n",
              "0                July                        27                          1   \n",
              "1                July                        27                          1   \n",
              "2                July                        27                          1   \n",
              "3                July                        27                          1   \n",
              "4                July                        27                          1   \n",
              "6                July                        27                          1   \n",
              "7                July                        27                          1   \n",
              "8                July                        27                          1   \n",
              "9                July                        27                          1   \n",
              "10               July                        27                          1   \n",
              "\n",
              "    stays_in_weekend_nights  stays_in_week_nights  adults  ...  deposit_type  \\\n",
              "0                         0                     0       2  ...    No Deposit   \n",
              "1                         0                     0       2  ...    No Deposit   \n",
              "2                         0                     1       1  ...    No Deposit   \n",
              "3                         0                     1       1  ...    No Deposit   \n",
              "4                         0                     2       2  ...    No Deposit   \n",
              "6                         0                     2       2  ...    No Deposit   \n",
              "7                         0                     2       2  ...    No Deposit   \n",
              "8                         0                     3       2  ...    No Deposit   \n",
              "9                         0                     3       2  ...    No Deposit   \n",
              "10                        0                     4       2  ...    No Deposit   \n",
              "\n",
              "    agent company days_in_waiting_list customer_type    adr  \\\n",
              "0     NaN     NaN                    0     Transient    0.0   \n",
              "1     NaN     NaN                    0     Transient    0.0   \n",
              "2     NaN     NaN                    0     Transient   75.0   \n",
              "3   304.0     NaN                    0     Transient   75.0   \n",
              "4   240.0     NaN                    0     Transient   98.0   \n",
              "6     NaN     NaN                    0     Transient  107.0   \n",
              "7   303.0     NaN                    0     Transient  103.0   \n",
              "8   240.0     NaN                    0     Transient   82.0   \n",
              "9    15.0     NaN                    0     Transient  105.5   \n",
              "10  240.0     NaN                    0     Transient  123.0   \n",
              "\n",
              "    required_car_parking_spaces  total_of_special_requests  \\\n",
              "0                             0                          0   \n",
              "1                             0                          0   \n",
              "2                             0                          0   \n",
              "3                             0                          0   \n",
              "4                             0                          1   \n",
              "6                             0                          0   \n",
              "7                             0                          1   \n",
              "8                             0                          1   \n",
              "9                             0                          0   \n",
              "10                            0                          0   \n",
              "\n",
              "    reservation_status reservation_status_date  \n",
              "0            Check-Out              2015-07-01  \n",
              "1            Check-Out              2015-07-01  \n",
              "2            Check-Out              2015-07-02  \n",
              "3            Check-Out              2015-07-02  \n",
              "4            Check-Out              2015-07-03  \n",
              "6            Check-Out              2015-07-03  \n",
              "7            Check-Out              2015-07-03  \n",
              "8             Canceled              2015-05-06  \n",
              "9             Canceled              2015-04-22  \n",
              "10            Canceled              2015-06-23  \n",
              "\n",
              "[10 rows x 32 columns]"
            ],
            "text/html": [
              "\n",
              "  <div id=\"df-1665476e-8054-4da5-b3a5-3cd1c507604b\">\n",
              "    <div class=\"colab-df-container\">\n",
              "      <div>\n",
              "<style scoped>\n",
              "    .dataframe tbody tr th:only-of-type {\n",
              "        vertical-align: middle;\n",
              "    }\n",
              "\n",
              "    .dataframe tbody tr th {\n",
              "        vertical-align: top;\n",
              "    }\n",
              "\n",
              "    .dataframe thead th {\n",
              "        text-align: right;\n",
              "    }\n",
              "</style>\n",
              "<table border=\"1\" class=\"dataframe\">\n",
              "  <thead>\n",
              "    <tr style=\"text-align: right;\">\n",
              "      <th></th>\n",
              "      <th>hotel</th>\n",
              "      <th>is_canceled</th>\n",
              "      <th>lead_time</th>\n",
              "      <th>arrival_date_year</th>\n",
              "      <th>arrival_date_month</th>\n",
              "      <th>arrival_date_week_number</th>\n",
              "      <th>arrival_date_day_of_month</th>\n",
              "      <th>stays_in_weekend_nights</th>\n",
              "      <th>stays_in_week_nights</th>\n",
              "      <th>adults</th>\n",
              "      <th>...</th>\n",
              "      <th>deposit_type</th>\n",
              "      <th>agent</th>\n",
              "      <th>company</th>\n",
              "      <th>days_in_waiting_list</th>\n",
              "      <th>customer_type</th>\n",
              "      <th>adr</th>\n",
              "      <th>required_car_parking_spaces</th>\n",
              "      <th>total_of_special_requests</th>\n",
              "      <th>reservation_status</th>\n",
              "      <th>reservation_status_date</th>\n",
              "    </tr>\n",
              "  </thead>\n",
              "  <tbody>\n",
              "    <tr>\n",
              "      <th>0</th>\n",
              "      <td>Resort Hotel</td>\n",
              "      <td>0</td>\n",
              "      <td>342</td>\n",
              "      <td>2015</td>\n",
              "      <td>July</td>\n",
              "      <td>27</td>\n",
              "      <td>1</td>\n",
              "      <td>0</td>\n",
              "      <td>0</td>\n",
              "      <td>2</td>\n",
              "      <td>...</td>\n",
              "      <td>No Deposit</td>\n",
              "      <td>NaN</td>\n",
              "      <td>NaN</td>\n",
              "      <td>0</td>\n",
              "      <td>Transient</td>\n",
              "      <td>0.0</td>\n",
              "      <td>0</td>\n",
              "      <td>0</td>\n",
              "      <td>Check-Out</td>\n",
              "      <td>2015-07-01</td>\n",
              "    </tr>\n",
              "    <tr>\n",
              "      <th>1</th>\n",
              "      <td>Resort Hotel</td>\n",
              "      <td>0</td>\n",
              "      <td>737</td>\n",
              "      <td>2015</td>\n",
              "      <td>July</td>\n",
              "      <td>27</td>\n",
              "      <td>1</td>\n",
              "      <td>0</td>\n",
              "      <td>0</td>\n",
              "      <td>2</td>\n",
              "      <td>...</td>\n",
              "      <td>No Deposit</td>\n",
              "      <td>NaN</td>\n",
              "      <td>NaN</td>\n",
              "      <td>0</td>\n",
              "      <td>Transient</td>\n",
              "      <td>0.0</td>\n",
              "      <td>0</td>\n",
              "      <td>0</td>\n",
              "      <td>Check-Out</td>\n",
              "      <td>2015-07-01</td>\n",
              "    </tr>\n",
              "    <tr>\n",
              "      <th>2</th>\n",
              "      <td>Resort Hotel</td>\n",
              "      <td>0</td>\n",
              "      <td>7</td>\n",
              "      <td>2015</td>\n",
              "      <td>July</td>\n",
              "      <td>27</td>\n",
              "      <td>1</td>\n",
              "      <td>0</td>\n",
              "      <td>1</td>\n",
              "      <td>1</td>\n",
              "      <td>...</td>\n",
              "      <td>No Deposit</td>\n",
              "      <td>NaN</td>\n",
              "      <td>NaN</td>\n",
              "      <td>0</td>\n",
              "      <td>Transient</td>\n",
              "      <td>75.0</td>\n",
              "      <td>0</td>\n",
              "      <td>0</td>\n",
              "      <td>Check-Out</td>\n",
              "      <td>2015-07-02</td>\n",
              "    </tr>\n",
              "    <tr>\n",
              "      <th>3</th>\n",
              "      <td>Resort Hotel</td>\n",
              "      <td>0</td>\n",
              "      <td>13</td>\n",
              "      <td>2015</td>\n",
              "      <td>July</td>\n",
              "      <td>27</td>\n",
              "      <td>1</td>\n",
              "      <td>0</td>\n",
              "      <td>1</td>\n",
              "      <td>1</td>\n",
              "      <td>...</td>\n",
              "      <td>No Deposit</td>\n",
              "      <td>304.0</td>\n",
              "      <td>NaN</td>\n",
              "      <td>0</td>\n",
              "      <td>Transient</td>\n",
              "      <td>75.0</td>\n",
              "      <td>0</td>\n",
              "      <td>0</td>\n",
              "      <td>Check-Out</td>\n",
              "      <td>2015-07-02</td>\n",
              "    </tr>\n",
              "    <tr>\n",
              "      <th>4</th>\n",
              "      <td>Resort Hotel</td>\n",
              "      <td>0</td>\n",
              "      <td>14</td>\n",
              "      <td>2015</td>\n",
              "      <td>July</td>\n",
              "      <td>27</td>\n",
              "      <td>1</td>\n",
              "      <td>0</td>\n",
              "      <td>2</td>\n",
              "      <td>2</td>\n",
              "      <td>...</td>\n",
              "      <td>No Deposit</td>\n",
              "      <td>240.0</td>\n",
              "      <td>NaN</td>\n",
              "      <td>0</td>\n",
              "      <td>Transient</td>\n",
              "      <td>98.0</td>\n",
              "      <td>0</td>\n",
              "      <td>1</td>\n",
              "      <td>Check-Out</td>\n",
              "      <td>2015-07-03</td>\n",
              "    </tr>\n",
              "    <tr>\n",
              "      <th>6</th>\n",
              "      <td>Resort Hotel</td>\n",
              "      <td>0</td>\n",
              "      <td>0</td>\n",
              "      <td>2015</td>\n",
              "      <td>July</td>\n",
              "      <td>27</td>\n",
              "      <td>1</td>\n",
              "      <td>0</td>\n",
              "      <td>2</td>\n",
              "      <td>2</td>\n",
              "      <td>...</td>\n",
              "      <td>No Deposit</td>\n",
              "      <td>NaN</td>\n",
              "      <td>NaN</td>\n",
              "      <td>0</td>\n",
              "      <td>Transient</td>\n",
              "      <td>107.0</td>\n",
              "      <td>0</td>\n",
              "      <td>0</td>\n",
              "      <td>Check-Out</td>\n",
              "      <td>2015-07-03</td>\n",
              "    </tr>\n",
              "    <tr>\n",
              "      <th>7</th>\n",
              "      <td>Resort Hotel</td>\n",
              "      <td>0</td>\n",
              "      <td>9</td>\n",
              "      <td>2015</td>\n",
              "      <td>July</td>\n",
              "      <td>27</td>\n",
              "      <td>1</td>\n",
              "      <td>0</td>\n",
              "      <td>2</td>\n",
              "      <td>2</td>\n",
              "      <td>...</td>\n",
              "      <td>No Deposit</td>\n",
              "      <td>303.0</td>\n",
              "      <td>NaN</td>\n",
              "      <td>0</td>\n",
              "      <td>Transient</td>\n",
              "      <td>103.0</td>\n",
              "      <td>0</td>\n",
              "      <td>1</td>\n",
              "      <td>Check-Out</td>\n",
              "      <td>2015-07-03</td>\n",
              "    </tr>\n",
              "    <tr>\n",
              "      <th>8</th>\n",
              "      <td>Resort Hotel</td>\n",
              "      <td>1</td>\n",
              "      <td>85</td>\n",
              "      <td>2015</td>\n",
              "      <td>July</td>\n",
              "      <td>27</td>\n",
              "      <td>1</td>\n",
              "      <td>0</td>\n",
              "      <td>3</td>\n",
              "      <td>2</td>\n",
              "      <td>...</td>\n",
              "      <td>No Deposit</td>\n",
              "      <td>240.0</td>\n",
              "      <td>NaN</td>\n",
              "      <td>0</td>\n",
              "      <td>Transient</td>\n",
              "      <td>82.0</td>\n",
              "      <td>0</td>\n",
              "      <td>1</td>\n",
              "      <td>Canceled</td>\n",
              "      <td>2015-05-06</td>\n",
              "    </tr>\n",
              "    <tr>\n",
              "      <th>9</th>\n",
              "      <td>Resort Hotel</td>\n",
              "      <td>1</td>\n",
              "      <td>75</td>\n",
              "      <td>2015</td>\n",
              "      <td>July</td>\n",
              "      <td>27</td>\n",
              "      <td>1</td>\n",
              "      <td>0</td>\n",
              "      <td>3</td>\n",
              "      <td>2</td>\n",
              "      <td>...</td>\n",
              "      <td>No Deposit</td>\n",
              "      <td>15.0</td>\n",
              "      <td>NaN</td>\n",
              "      <td>0</td>\n",
              "      <td>Transient</td>\n",
              "      <td>105.5</td>\n",
              "      <td>0</td>\n",
              "      <td>0</td>\n",
              "      <td>Canceled</td>\n",
              "      <td>2015-04-22</td>\n",
              "    </tr>\n",
              "    <tr>\n",
              "      <th>10</th>\n",
              "      <td>Resort Hotel</td>\n",
              "      <td>1</td>\n",
              "      <td>23</td>\n",
              "      <td>2015</td>\n",
              "      <td>July</td>\n",
              "      <td>27</td>\n",
              "      <td>1</td>\n",
              "      <td>0</td>\n",
              "      <td>4</td>\n",
              "      <td>2</td>\n",
              "      <td>...</td>\n",
              "      <td>No Deposit</td>\n",
              "      <td>240.0</td>\n",
              "      <td>NaN</td>\n",
              "      <td>0</td>\n",
              "      <td>Transient</td>\n",
              "      <td>123.0</td>\n",
              "      <td>0</td>\n",
              "      <td>0</td>\n",
              "      <td>Canceled</td>\n",
              "      <td>2015-06-23</td>\n",
              "    </tr>\n",
              "  </tbody>\n",
              "</table>\n",
              "<p>10 rows × 32 columns</p>\n",
              "</div>\n",
              "      <button class=\"colab-df-convert\" onclick=\"convertToInteractive('df-1665476e-8054-4da5-b3a5-3cd1c507604b')\"\n",
              "              title=\"Convert this dataframe to an interactive table.\"\n",
              "              style=\"display:none;\">\n",
              "        \n",
              "  <svg xmlns=\"http://www.w3.org/2000/svg\" height=\"24px\"viewBox=\"0 0 24 24\"\n",
              "       width=\"24px\">\n",
              "    <path d=\"M0 0h24v24H0V0z\" fill=\"none\"/>\n",
              "    <path d=\"M18.56 5.44l.94 2.06.94-2.06 2.06-.94-2.06-.94-.94-2.06-.94 2.06-2.06.94zm-11 1L8.5 8.5l.94-2.06 2.06-.94-2.06-.94L8.5 2.5l-.94 2.06-2.06.94zm10 10l.94 2.06.94-2.06 2.06-.94-2.06-.94-.94-2.06-.94 2.06-2.06.94z\"/><path d=\"M17.41 7.96l-1.37-1.37c-.4-.4-.92-.59-1.43-.59-.52 0-1.04.2-1.43.59L10.3 9.45l-7.72 7.72c-.78.78-.78 2.05 0 2.83L4 21.41c.39.39.9.59 1.41.59.51 0 1.02-.2 1.41-.59l7.78-7.78 2.81-2.81c.8-.78.8-2.07 0-2.86zM5.41 20L4 18.59l7.72-7.72 1.47 1.35L5.41 20z\"/>\n",
              "  </svg>\n",
              "      </button>\n",
              "      \n",
              "  <style>\n",
              "    .colab-df-container {\n",
              "      display:flex;\n",
              "      flex-wrap:wrap;\n",
              "      gap: 12px;\n",
              "    }\n",
              "\n",
              "    .colab-df-convert {\n",
              "      background-color: #E8F0FE;\n",
              "      border: none;\n",
              "      border-radius: 50%;\n",
              "      cursor: pointer;\n",
              "      display: none;\n",
              "      fill: #1967D2;\n",
              "      height: 32px;\n",
              "      padding: 0 0 0 0;\n",
              "      width: 32px;\n",
              "    }\n",
              "\n",
              "    .colab-df-convert:hover {\n",
              "      background-color: #E2EBFA;\n",
              "      box-shadow: 0px 1px 2px rgba(60, 64, 67, 0.3), 0px 1px 3px 1px rgba(60, 64, 67, 0.15);\n",
              "      fill: #174EA6;\n",
              "    }\n",
              "\n",
              "    [theme=dark] .colab-df-convert {\n",
              "      background-color: #3B4455;\n",
              "      fill: #D2E3FC;\n",
              "    }\n",
              "\n",
              "    [theme=dark] .colab-df-convert:hover {\n",
              "      background-color: #434B5C;\n",
              "      box-shadow: 0px 1px 3px 1px rgba(0, 0, 0, 0.15);\n",
              "      filter: drop-shadow(0px 1px 2px rgba(0, 0, 0, 0.3));\n",
              "      fill: #FFFFFF;\n",
              "    }\n",
              "  </style>\n",
              "\n",
              "      <script>\n",
              "        const buttonEl =\n",
              "          document.querySelector('#df-1665476e-8054-4da5-b3a5-3cd1c507604b button.colab-df-convert');\n",
              "        buttonEl.style.display =\n",
              "          google.colab.kernel.accessAllowed ? 'block' : 'none';\n",
              "\n",
              "        async function convertToInteractive(key) {\n",
              "          const element = document.querySelector('#df-1665476e-8054-4da5-b3a5-3cd1c507604b');\n",
              "          const dataTable =\n",
              "            await google.colab.kernel.invokeFunction('convertToInteractive',\n",
              "                                                     [key], {});\n",
              "          if (!dataTable) return;\n",
              "\n",
              "          const docLinkHtml = 'Like what you see? Visit the ' +\n",
              "            '<a target=\"_blank\" href=https://colab.research.google.com/notebooks/data_table.ipynb>data table notebook</a>'\n",
              "            + ' to learn more about interactive tables.';\n",
              "          element.innerHTML = '';\n",
              "          dataTable['output_type'] = 'display_data';\n",
              "          await google.colab.output.renderOutput(dataTable, element);\n",
              "          const docLink = document.createElement('div');\n",
              "          docLink.innerHTML = docLinkHtml;\n",
              "          element.appendChild(docLink);\n",
              "        }\n",
              "      </script>\n",
              "    </div>\n",
              "  </div>\n",
              "  "
            ]
          },
          "metadata": {},
          "execution_count": 14
        }
      ]
    },
    {
      "cell_type": "code",
      "source": [
        "# Visualizing the missing values\n",
        "\n",
        "missing_values = hotel_booking_analysis_df.isnull().sum().sort_values(ascending = False)"
      ],
      "metadata": {
        "id": "3q5wnI3om9sJ"
      },
      "execution_count": 15,
      "outputs": []
    },
    {
      "cell_type": "code",
      "source": [
        "missing_values"
      ],
      "metadata": {
        "colab": {
          "base_uri": "https://localhost:8080/"
        },
        "id": "X38u8qQEHfRO",
        "outputId": "be41f0df-7003-4766-c649-55ee75c11f3b"
      },
      "execution_count": 16,
      "outputs": [
        {
          "output_type": "execute_result",
          "data": {
            "text/plain": [
              "company                           82137\n",
              "agent                             12193\n",
              "country                             452\n",
              "children                              4\n",
              "reserved_room_type                    0\n",
              "assigned_room_type                    0\n",
              "booking_changes                       0\n",
              "deposit_type                          0\n",
              "hotel                                 0\n",
              "previous_cancellations                0\n",
              "days_in_waiting_list                  0\n",
              "customer_type                         0\n",
              "adr                                   0\n",
              "required_car_parking_spaces           0\n",
              "total_of_special_requests             0\n",
              "reservation_status                    0\n",
              "previous_bookings_not_canceled        0\n",
              "is_repeated_guest                     0\n",
              "is_canceled                           0\n",
              "distribution_channel                  0\n",
              "market_segment                        0\n",
              "meal                                  0\n",
              "babies                                0\n",
              "adults                                0\n",
              "stays_in_week_nights                  0\n",
              "stays_in_weekend_nights               0\n",
              "arrival_date_day_of_month             0\n",
              "arrival_date_week_number              0\n",
              "arrival_date_month                    0\n",
              "arrival_date_year                     0\n",
              "lead_time                             0\n",
              "reservation_status_date               0\n",
              "dtype: int64"
            ]
          },
          "metadata": {},
          "execution_count": 16
        }
      ]
    },
    {
      "cell_type": "markdown",
      "source": [
        "### What did you know about your dataset?"
      ],
      "metadata": {
        "id": "H0kj-8xxnORC"
      }
    },
    {
      "cell_type": "markdown",
      "source": [
        "In this dataset we have two hotels, H1= City hotel and H2= Resort hotel. In this data we compares various booking information between these two, information such as when the booking was canceled, customer arrival date, month & year, number of people stayed in hotel and how many of them are adults,childeren or babies and from where they came and what type of meal they opted for themselves,and it also shows that if any customer had booked hotel previously or canceled their booking previously and have other information also.\n",
        "In this dataset some values are duplicated which we also removed from this data & and make it more accurate. In this we got to know all the information about hotel booking of both the hotels"
      ],
      "metadata": {
        "id": "gfoNAAC-nUe_"
      }
    },
    {
      "cell_type": "markdown",
      "source": [
        "## ***2. Understanding Your Variables***"
      ],
      "metadata": {
        "id": "nA9Y7ga8ng1Z"
      }
    },
    {
      "cell_type": "code",
      "source": [
        "# Dataset Columns\n",
        "\n",
        "hotel_booking__df_columns = hotel_booking_analysis_df.columns\n",
        "\n",
        "hotel_booking__df_columns\n"
      ],
      "metadata": {
        "id": "j7xfkqrt5Ag5",
        "colab": {
          "base_uri": "https://localhost:8080/"
        },
        "outputId": "78320544-82de-4fa0-8be0-e51f608dfa60"
      },
      "execution_count": 17,
      "outputs": [
        {
          "output_type": "execute_result",
          "data": {
            "text/plain": [
              "Index(['hotel', 'is_canceled', 'lead_time', 'arrival_date_year',\n",
              "       'arrival_date_month', 'arrival_date_week_number',\n",
              "       'arrival_date_day_of_month', 'stays_in_weekend_nights',\n",
              "       'stays_in_week_nights', 'adults', 'children', 'babies', 'meal',\n",
              "       'country', 'market_segment', 'distribution_channel',\n",
              "       'is_repeated_guest', 'previous_cancellations',\n",
              "       'previous_bookings_not_canceled', 'reserved_room_type',\n",
              "       'assigned_room_type', 'booking_changes', 'deposit_type', 'agent',\n",
              "       'company', 'days_in_waiting_list', 'customer_type', 'adr',\n",
              "       'required_car_parking_spaces', 'total_of_special_requests',\n",
              "       'reservation_status', 'reservation_status_date'],\n",
              "      dtype='object')"
            ]
          },
          "metadata": {},
          "execution_count": 17
        }
      ]
    },
    {
      "cell_type": "code",
      "source": [
        "# Dataset Describe\n",
        "# # By this describe method we get overall descriptive summary of the dataframe (This works only for numerical columns).\n",
        "hotel_booking_analysis_df.describe()"
      ],
      "metadata": {
        "id": "DnOaZdaE5Q5t",
        "colab": {
          "base_uri": "https://localhost:8080/",
          "height": 364
        },
        "outputId": "d1b40cef-8ed3-4c8b-822a-62967fa3c24e"
      },
      "execution_count": 18,
      "outputs": [
        {
          "output_type": "execute_result",
          "data": {
            "text/plain": [
              "        is_canceled     lead_time  arrival_date_year  \\\n",
              "count  87396.000000  87396.000000       87396.000000   \n",
              "mean       0.274898     79.891368        2016.210296   \n",
              "std        0.446466     86.052325           0.686102   \n",
              "min        0.000000      0.000000        2015.000000   \n",
              "25%        0.000000     11.000000        2016.000000   \n",
              "50%        0.000000     49.000000        2016.000000   \n",
              "75%        1.000000    125.000000        2017.000000   \n",
              "max        1.000000    737.000000        2017.000000   \n",
              "\n",
              "       arrival_date_week_number  arrival_date_day_of_month  \\\n",
              "count              87396.000000               87396.000000   \n",
              "mean                  26.838334                  15.815541   \n",
              "std                   13.674572                   8.835146   \n",
              "min                    1.000000                   1.000000   \n",
              "25%                   16.000000                   8.000000   \n",
              "50%                   27.000000                  16.000000   \n",
              "75%                   37.000000                  23.000000   \n",
              "max                   53.000000                  31.000000   \n",
              "\n",
              "       stays_in_weekend_nights  stays_in_week_nights        adults  \\\n",
              "count             87396.000000          87396.000000  87396.000000   \n",
              "mean                  1.005263              2.625395      1.875795   \n",
              "std                   1.031921              2.053584      0.626500   \n",
              "min                   0.000000              0.000000      0.000000   \n",
              "25%                   0.000000              1.000000      2.000000   \n",
              "50%                   1.000000              2.000000      2.000000   \n",
              "75%                   2.000000              4.000000      2.000000   \n",
              "max                  19.000000             50.000000     55.000000   \n",
              "\n",
              "           children        babies  is_repeated_guest  previous_cancellations  \\\n",
              "count  87392.000000  87396.000000       87396.000000            87396.000000   \n",
              "mean       0.138640      0.010824           0.039075                0.030413   \n",
              "std        0.455881      0.113597           0.193775                0.369145   \n",
              "min        0.000000      0.000000           0.000000                0.000000   \n",
              "25%        0.000000      0.000000           0.000000                0.000000   \n",
              "50%        0.000000      0.000000           0.000000                0.000000   \n",
              "75%        0.000000      0.000000           0.000000                0.000000   \n",
              "max       10.000000     10.000000           1.000000               26.000000   \n",
              "\n",
              "       previous_bookings_not_canceled  booking_changes         agent  \\\n",
              "count                    87396.000000     87396.000000  75203.000000   \n",
              "mean                         0.183990         0.271603     94.138306   \n",
              "std                          1.731894         0.727245    113.188172   \n",
              "min                          0.000000         0.000000      1.000000   \n",
              "25%                          0.000000         0.000000      9.000000   \n",
              "50%                          0.000000         0.000000     14.000000   \n",
              "75%                          0.000000         0.000000    240.000000   \n",
              "max                         72.000000        21.000000    535.000000   \n",
              "\n",
              "           company  days_in_waiting_list           adr  \\\n",
              "count  5259.000000          87396.000000  87396.000000   \n",
              "mean    183.081384              0.749565    106.337246   \n",
              "std     130.557608             10.015731     55.013953   \n",
              "min       6.000000              0.000000     -6.380000   \n",
              "25%      47.000000              0.000000     72.000000   \n",
              "50%     169.000000              0.000000     98.100000   \n",
              "75%     263.000000              0.000000    134.000000   \n",
              "max     543.000000            391.000000   5400.000000   \n",
              "\n",
              "       required_car_parking_spaces  total_of_special_requests  \n",
              "count                 87396.000000               87396.000000  \n",
              "mean                      0.084226                   0.698567  \n",
              "std                       0.281533                   0.831946  \n",
              "min                       0.000000                   0.000000  \n",
              "25%                       0.000000                   0.000000  \n",
              "50%                       0.000000                   0.000000  \n",
              "75%                       0.000000                   1.000000  \n",
              "max                       8.000000                   5.000000  "
            ],
            "text/html": [
              "\n",
              "  <div id=\"df-61344801-eddc-4c0c-9123-e5b04d2f70f8\">\n",
              "    <div class=\"colab-df-container\">\n",
              "      <div>\n",
              "<style scoped>\n",
              "    .dataframe tbody tr th:only-of-type {\n",
              "        vertical-align: middle;\n",
              "    }\n",
              "\n",
              "    .dataframe tbody tr th {\n",
              "        vertical-align: top;\n",
              "    }\n",
              "\n",
              "    .dataframe thead th {\n",
              "        text-align: right;\n",
              "    }\n",
              "</style>\n",
              "<table border=\"1\" class=\"dataframe\">\n",
              "  <thead>\n",
              "    <tr style=\"text-align: right;\">\n",
              "      <th></th>\n",
              "      <th>is_canceled</th>\n",
              "      <th>lead_time</th>\n",
              "      <th>arrival_date_year</th>\n",
              "      <th>arrival_date_week_number</th>\n",
              "      <th>arrival_date_day_of_month</th>\n",
              "      <th>stays_in_weekend_nights</th>\n",
              "      <th>stays_in_week_nights</th>\n",
              "      <th>adults</th>\n",
              "      <th>children</th>\n",
              "      <th>babies</th>\n",
              "      <th>is_repeated_guest</th>\n",
              "      <th>previous_cancellations</th>\n",
              "      <th>previous_bookings_not_canceled</th>\n",
              "      <th>booking_changes</th>\n",
              "      <th>agent</th>\n",
              "      <th>company</th>\n",
              "      <th>days_in_waiting_list</th>\n",
              "      <th>adr</th>\n",
              "      <th>required_car_parking_spaces</th>\n",
              "      <th>total_of_special_requests</th>\n",
              "    </tr>\n",
              "  </thead>\n",
              "  <tbody>\n",
              "    <tr>\n",
              "      <th>count</th>\n",
              "      <td>87396.000000</td>\n",
              "      <td>87396.000000</td>\n",
              "      <td>87396.000000</td>\n",
              "      <td>87396.000000</td>\n",
              "      <td>87396.000000</td>\n",
              "      <td>87396.000000</td>\n",
              "      <td>87396.000000</td>\n",
              "      <td>87396.000000</td>\n",
              "      <td>87392.000000</td>\n",
              "      <td>87396.000000</td>\n",
              "      <td>87396.000000</td>\n",
              "      <td>87396.000000</td>\n",
              "      <td>87396.000000</td>\n",
              "      <td>87396.000000</td>\n",
              "      <td>75203.000000</td>\n",
              "      <td>5259.000000</td>\n",
              "      <td>87396.000000</td>\n",
              "      <td>87396.000000</td>\n",
              "      <td>87396.000000</td>\n",
              "      <td>87396.000000</td>\n",
              "    </tr>\n",
              "    <tr>\n",
              "      <th>mean</th>\n",
              "      <td>0.274898</td>\n",
              "      <td>79.891368</td>\n",
              "      <td>2016.210296</td>\n",
              "      <td>26.838334</td>\n",
              "      <td>15.815541</td>\n",
              "      <td>1.005263</td>\n",
              "      <td>2.625395</td>\n",
              "      <td>1.875795</td>\n",
              "      <td>0.138640</td>\n",
              "      <td>0.010824</td>\n",
              "      <td>0.039075</td>\n",
              "      <td>0.030413</td>\n",
              "      <td>0.183990</td>\n",
              "      <td>0.271603</td>\n",
              "      <td>94.138306</td>\n",
              "      <td>183.081384</td>\n",
              "      <td>0.749565</td>\n",
              "      <td>106.337246</td>\n",
              "      <td>0.084226</td>\n",
              "      <td>0.698567</td>\n",
              "    </tr>\n",
              "    <tr>\n",
              "      <th>std</th>\n",
              "      <td>0.446466</td>\n",
              "      <td>86.052325</td>\n",
              "      <td>0.686102</td>\n",
              "      <td>13.674572</td>\n",
              "      <td>8.835146</td>\n",
              "      <td>1.031921</td>\n",
              "      <td>2.053584</td>\n",
              "      <td>0.626500</td>\n",
              "      <td>0.455881</td>\n",
              "      <td>0.113597</td>\n",
              "      <td>0.193775</td>\n",
              "      <td>0.369145</td>\n",
              "      <td>1.731894</td>\n",
              "      <td>0.727245</td>\n",
              "      <td>113.188172</td>\n",
              "      <td>130.557608</td>\n",
              "      <td>10.015731</td>\n",
              "      <td>55.013953</td>\n",
              "      <td>0.281533</td>\n",
              "      <td>0.831946</td>\n",
              "    </tr>\n",
              "    <tr>\n",
              "      <th>min</th>\n",
              "      <td>0.000000</td>\n",
              "      <td>0.000000</td>\n",
              "      <td>2015.000000</td>\n",
              "      <td>1.000000</td>\n",
              "      <td>1.000000</td>\n",
              "      <td>0.000000</td>\n",
              "      <td>0.000000</td>\n",
              "      <td>0.000000</td>\n",
              "      <td>0.000000</td>\n",
              "      <td>0.000000</td>\n",
              "      <td>0.000000</td>\n",
              "      <td>0.000000</td>\n",
              "      <td>0.000000</td>\n",
              "      <td>0.000000</td>\n",
              "      <td>1.000000</td>\n",
              "      <td>6.000000</td>\n",
              "      <td>0.000000</td>\n",
              "      <td>-6.380000</td>\n",
              "      <td>0.000000</td>\n",
              "      <td>0.000000</td>\n",
              "    </tr>\n",
              "    <tr>\n",
              "      <th>25%</th>\n",
              "      <td>0.000000</td>\n",
              "      <td>11.000000</td>\n",
              "      <td>2016.000000</td>\n",
              "      <td>16.000000</td>\n",
              "      <td>8.000000</td>\n",
              "      <td>0.000000</td>\n",
              "      <td>1.000000</td>\n",
              "      <td>2.000000</td>\n",
              "      <td>0.000000</td>\n",
              "      <td>0.000000</td>\n",
              "      <td>0.000000</td>\n",
              "      <td>0.000000</td>\n",
              "      <td>0.000000</td>\n",
              "      <td>0.000000</td>\n",
              "      <td>9.000000</td>\n",
              "      <td>47.000000</td>\n",
              "      <td>0.000000</td>\n",
              "      <td>72.000000</td>\n",
              "      <td>0.000000</td>\n",
              "      <td>0.000000</td>\n",
              "    </tr>\n",
              "    <tr>\n",
              "      <th>50%</th>\n",
              "      <td>0.000000</td>\n",
              "      <td>49.000000</td>\n",
              "      <td>2016.000000</td>\n",
              "      <td>27.000000</td>\n",
              "      <td>16.000000</td>\n",
              "      <td>1.000000</td>\n",
              "      <td>2.000000</td>\n",
              "      <td>2.000000</td>\n",
              "      <td>0.000000</td>\n",
              "      <td>0.000000</td>\n",
              "      <td>0.000000</td>\n",
              "      <td>0.000000</td>\n",
              "      <td>0.000000</td>\n",
              "      <td>0.000000</td>\n",
              "      <td>14.000000</td>\n",
              "      <td>169.000000</td>\n",
              "      <td>0.000000</td>\n",
              "      <td>98.100000</td>\n",
              "      <td>0.000000</td>\n",
              "      <td>0.000000</td>\n",
              "    </tr>\n",
              "    <tr>\n",
              "      <th>75%</th>\n",
              "      <td>1.000000</td>\n",
              "      <td>125.000000</td>\n",
              "      <td>2017.000000</td>\n",
              "      <td>37.000000</td>\n",
              "      <td>23.000000</td>\n",
              "      <td>2.000000</td>\n",
              "      <td>4.000000</td>\n",
              "      <td>2.000000</td>\n",
              "      <td>0.000000</td>\n",
              "      <td>0.000000</td>\n",
              "      <td>0.000000</td>\n",
              "      <td>0.000000</td>\n",
              "      <td>0.000000</td>\n",
              "      <td>0.000000</td>\n",
              "      <td>240.000000</td>\n",
              "      <td>263.000000</td>\n",
              "      <td>0.000000</td>\n",
              "      <td>134.000000</td>\n",
              "      <td>0.000000</td>\n",
              "      <td>1.000000</td>\n",
              "    </tr>\n",
              "    <tr>\n",
              "      <th>max</th>\n",
              "      <td>1.000000</td>\n",
              "      <td>737.000000</td>\n",
              "      <td>2017.000000</td>\n",
              "      <td>53.000000</td>\n",
              "      <td>31.000000</td>\n",
              "      <td>19.000000</td>\n",
              "      <td>50.000000</td>\n",
              "      <td>55.000000</td>\n",
              "      <td>10.000000</td>\n",
              "      <td>10.000000</td>\n",
              "      <td>1.000000</td>\n",
              "      <td>26.000000</td>\n",
              "      <td>72.000000</td>\n",
              "      <td>21.000000</td>\n",
              "      <td>535.000000</td>\n",
              "      <td>543.000000</td>\n",
              "      <td>391.000000</td>\n",
              "      <td>5400.000000</td>\n",
              "      <td>8.000000</td>\n",
              "      <td>5.000000</td>\n",
              "    </tr>\n",
              "  </tbody>\n",
              "</table>\n",
              "</div>\n",
              "      <button class=\"colab-df-convert\" onclick=\"convertToInteractive('df-61344801-eddc-4c0c-9123-e5b04d2f70f8')\"\n",
              "              title=\"Convert this dataframe to an interactive table.\"\n",
              "              style=\"display:none;\">\n",
              "        \n",
              "  <svg xmlns=\"http://www.w3.org/2000/svg\" height=\"24px\"viewBox=\"0 0 24 24\"\n",
              "       width=\"24px\">\n",
              "    <path d=\"M0 0h24v24H0V0z\" fill=\"none\"/>\n",
              "    <path d=\"M18.56 5.44l.94 2.06.94-2.06 2.06-.94-2.06-.94-.94-2.06-.94 2.06-2.06.94zm-11 1L8.5 8.5l.94-2.06 2.06-.94-2.06-.94L8.5 2.5l-.94 2.06-2.06.94zm10 10l.94 2.06.94-2.06 2.06-.94-2.06-.94-.94-2.06-.94 2.06-2.06.94z\"/><path d=\"M17.41 7.96l-1.37-1.37c-.4-.4-.92-.59-1.43-.59-.52 0-1.04.2-1.43.59L10.3 9.45l-7.72 7.72c-.78.78-.78 2.05 0 2.83L4 21.41c.39.39.9.59 1.41.59.51 0 1.02-.2 1.41-.59l7.78-7.78 2.81-2.81c.8-.78.8-2.07 0-2.86zM5.41 20L4 18.59l7.72-7.72 1.47 1.35L5.41 20z\"/>\n",
              "  </svg>\n",
              "      </button>\n",
              "      \n",
              "  <style>\n",
              "    .colab-df-container {\n",
              "      display:flex;\n",
              "      flex-wrap:wrap;\n",
              "      gap: 12px;\n",
              "    }\n",
              "\n",
              "    .colab-df-convert {\n",
              "      background-color: #E8F0FE;\n",
              "      border: none;\n",
              "      border-radius: 50%;\n",
              "      cursor: pointer;\n",
              "      display: none;\n",
              "      fill: #1967D2;\n",
              "      height: 32px;\n",
              "      padding: 0 0 0 0;\n",
              "      width: 32px;\n",
              "    }\n",
              "\n",
              "    .colab-df-convert:hover {\n",
              "      background-color: #E2EBFA;\n",
              "      box-shadow: 0px 1px 2px rgba(60, 64, 67, 0.3), 0px 1px 3px 1px rgba(60, 64, 67, 0.15);\n",
              "      fill: #174EA6;\n",
              "    }\n",
              "\n",
              "    [theme=dark] .colab-df-convert {\n",
              "      background-color: #3B4455;\n",
              "      fill: #D2E3FC;\n",
              "    }\n",
              "\n",
              "    [theme=dark] .colab-df-convert:hover {\n",
              "      background-color: #434B5C;\n",
              "      box-shadow: 0px 1px 3px 1px rgba(0, 0, 0, 0.15);\n",
              "      filter: drop-shadow(0px 1px 2px rgba(0, 0, 0, 0.3));\n",
              "      fill: #FFFFFF;\n",
              "    }\n",
              "  </style>\n",
              "\n",
              "      <script>\n",
              "        const buttonEl =\n",
              "          document.querySelector('#df-61344801-eddc-4c0c-9123-e5b04d2f70f8 button.colab-df-convert');\n",
              "        buttonEl.style.display =\n",
              "          google.colab.kernel.accessAllowed ? 'block' : 'none';\n",
              "\n",
              "        async function convertToInteractive(key) {\n",
              "          const element = document.querySelector('#df-61344801-eddc-4c0c-9123-e5b04d2f70f8');\n",
              "          const dataTable =\n",
              "            await google.colab.kernel.invokeFunction('convertToInteractive',\n",
              "                                                     [key], {});\n",
              "          if (!dataTable) return;\n",
              "\n",
              "          const docLinkHtml = 'Like what you see? Visit the ' +\n",
              "            '<a target=\"_blank\" href=https://colab.research.google.com/notebooks/data_table.ipynb>data table notebook</a>'\n",
              "            + ' to learn more about interactive tables.';\n",
              "          element.innerHTML = '';\n",
              "          dataTable['output_type'] = 'display_data';\n",
              "          await google.colab.output.renderOutput(dataTable, element);\n",
              "          const docLink = document.createElement('div');\n",
              "          docLink.innerHTML = docLinkHtml;\n",
              "          element.appendChild(docLink);\n",
              "        }\n",
              "      </script>\n",
              "    </div>\n",
              "  </div>\n",
              "  "
            ]
          },
          "metadata": {},
          "execution_count": 18
        }
      ]
    },
    {
      "cell_type": "markdown",
      "source": [
        "### Variables Description "
      ],
      "metadata": {
        "id": "PBTbrJXOngz2"
      }
    },
    {
      "cell_type": "code",
      "source": [
        "# Dataset Description"
      ],
      "metadata": {
        "id": "4tfcZIx25eHu"
      },
      "execution_count": null,
      "outputs": []
    },
    {
      "cell_type": "markdown",
      "source": [
        "##**The fields/columns and the data it represents are listed below:**##"
      ],
      "metadata": {
        "id": "ofA0upbL_2XN"
      }
    },
    {
      "cell_type": "markdown",
      "source": [
        "![image.png](data:image/png;base64,iVBORw0KGgoAAAANSUhEUgAAAqoAAANLCAYAAACJ6r/5AAAgAElEQVR4nOzdeZzd4934/9fZ93XOmdVMJpLIYiQSO1GClKIIGvsSS229KVVqKUopHvoopdy05KZFVamioaWWotIQEUtIIstMZp8zc/b1s1y/P6afy0yrTe5+b79Eez0fjzxMzpxz5jqfkeu8z3W9r/fbJoQQuq7jdDoZHh6mrq4OgKGhIZLJJIqiKMpnK5VKCCEIBALkcjlCoRCGYeB0Orf20BRFUbZ5mqYB4HK50DQN0zRxuVwYhoHL5QLAlslkRLlcprGxEcMwcDgc8gmEEJimuVUGryiKsq2z5suBgQESiQS1Wg0hBHa7HdM08Xg8W3mEiqIo26bu7m6i0SihUAgAwzCw2+3ya7fbDYBNCCEMw0DXdTweDz09PUSjUQKBAJlMhmg0utVehKIoyhfBwMAADQ0NAGSzWSKRyFYekaIoyhdHNpvF5XLh9Xqp1WoYhkEgEADACaMrpx6Ph2w2S0tLC319fQQCAcLhsFpRVRRF+QdKpRK1Wo2Ghgby+TyhUIhyuSwDVTV/KoqifDZd13E4HKRSKWq1Gs3Nzdjtdlwul1xNBbD19fWJ+vp60um0zE+F0RzVWCymcq0URVH+iUKhQDAYpFgs4vF4cDqdFAoFnE4nXq93aw9PURRlm1SpVACw2+0yMDVNk1KphMvlkqlTzvr6eux2O3V1dWzatAmPx0M8HkcIgdPplE+kKIqijOd2u3E6nYyMjBCLxchkMsRiMQzDwOfzqflTURTlH/B6vViH+WF0gVQIQSwWQwgh72cTQoiVK1cya9YsdthhBzZu3IimaUyfPp2PPvpo3PKroiiK8inDMPB6vRSLRQKBAIZhUKlU8Pl8RCIRRkZGtvYQFUVRtkmGYcgP9bquo2kaDQ0NBINB1q1bJ4NVW6VSEdbyam9vLy0tLQghyGQyeL1eFagqiqL8A/l8Xuaj9vf309jYSGtrKytXriQQCMjyKoqiKMp4drt93OHTdDpNLBbj448/ZsGCBXz00UcA2EzTFDabDcMwAHA6nbJEwN+Wq1IURVE+ZX3iN00Tu92OzWbDZrNhmiY2m20rj05RFGXbZcWYQghsNhuapuFyudB1HZfLJedX+1Yep6IoiqIoiqJ8JhWoKoqiKIqiKNskFagqiqIoiqIo2yQVqCqKoiiKoijbJBWoKoqiKIqiKNskFagqiqIoiqIo2yQVqCqKoiiKoijbpM0Gqul0Wn5dq9UQQmAYBsVikWq1Cow2CiiXywBomibvb33fks/n5fdLpZK8PZPJYBgGAwMD4+6v6zqmaSKEkD/bur1QKIwbo6Zp8j65XA4YLcCtKIqyNZVKJSqVCtVqFU3TqFarZDIZYLT+KozWE8zn8xQKBXK5nGy9WiqV5H1gdA4e+31LsViUtwkhxs29QghKpRK5XI58Pk+lUhn3nJ/FNE0qlQqGYTA0NDTu51g1t2u12rhxjL1fd3e3fF2FQoFyuUy5XP67ed+ao62fp2na3702Xdep1WoYhoGmaZRKJUqlEpqmjRunYRh/d72sMVSrVXRdH/f6rNehKMq27X9V8L9cLuPz+RBCYJomDodDtg60vu9yuchmsxQKBSZMmEA6nSYcDmOz2SiVSgSDQWB0orCCUKt7S6FQIBgMyonN5/PhdDrxer0IIUin01SrVWKxGF6vF4CBgQGq1SptbW1ynKVSCb/fL4vIKoqifB42V/A/nU7jdDoJhUIygLTmLhidq7xer3ycpVarMTg4yHbbbQdApVKRHVysx1erVXp7e4nH4/j9fjmPlstlDMMgGAySTqcJhULY7XZqtdq4n71p0yZaW1sB5Ad9XddxOBxynh47zkKhQH19PbVajXXr1jF16lTsdvu45xkYGKChoUF+HY1GsTofwmhwGolE5GvN5/OEQiGy2SzBYBCHw4FhGPI95m87I1rvG1ZvcGvspmnKn1MoFNA0jWg0+nfzv7XQAqNdcex2tamoKFvLlhb8d27meejp6SEcDmOaJj6fDxidNFOpFMlkUk6OmqaRSqWIRqPU1dXhdrt57rnn6Onp4eCDD6a1tRWfzydXXnVdl5OGz+fD6/XKCfaBBx7gkUceobm5mcWLF8sANxQKEYvFsNlsZLNZfvWrX3Httdey00478e1vf5tZs2YRCATI5/P4/X7K5TJ+v//zusaKoij/lBUwWl9XKhX5oX3NmjVMmjRJzqHDw8OUSiWi0SjxeFwGqdVqFSEEiUQCwzDIZDJyQp84cSIwOv/m83nZttUK0GKxmFxtDYfDlMtlGSy2trbKOdfj8cgFB9M0KZVKOBwOCoUC0Wh0XJvDZcuWsWrVKmKxGG63W74+IQSBQABN07DZbDJg7evro1Kp0NzcTDQapVAoyIA9FAqh6zpLlixheHiY3XbbjUmTJhGNRtE0Tb5RWUGoFXCPjIygaRqxWEzO8dbrDwaDctfP6XTidrtlQGoYxrgPFYqibPs2G6i2tLSM+3t3dzd33HEHixcvllsxxWIRl8uFx+MhGAzywx/+kJ133plvfvObrF+/nh//+McsWrRIrhxUKhWi0ah8zlqtRqlUIplMAuDz+Xj33XflpDP2k/Xw8DCxWAwhBB6Ph76+Ppqbm0kmk/Lx1sQ1dvVAURTl/2/xeBy73Y6u6+i6LneH3nzzTa6++mo2bdpEqVTC5XKx0047cdhhh7HffvsxZcoU6urq6O/vlwGdw+HA4XCMC0TT6TR2u51KpYLH45GrhLquy3SDYDBIIBBA13WcTidNTU0YhkEul5PBa6FQkAsG1i6X0+kkFotht9tJJpM4nU7WrVvHNddcw5/+9CeWL1/OvffeC0AqlULXdRobG4HRedpaKWlsbJTj1XUdm81GNBrF4XAwPDzM0NAQTz/9NMuXL+f0009nypQpcsXU2t0TQiCEoFKpIISgvr5eft96rT6fD7vdLrf5g8Eg5XJZ7txZiyMul0s+pwpWFWXbt9l9j97eXorFIvl8HhgNInO5HMPDw9RqNYrFIgAulwu3201/fz+bNm1iypQpHHvssUybNo2mpiaZM+VyueQKwt/mPlk5qtbkE4lEyGazbNiwgaGhIWq1mpxk7Ha7DI6tdAUrbzaTych8MEVRlK3FCoRqtRputxuv14vX60XTNFasWEEqlZLb+q+//jpXX301Z511Fg8++CA2m42mpia5i9Td3c3AwIB8zr6+PmKxGJFIhIaGBlwuF9VqVQZnXq+XSCRCtVplcHAQp9Mp517TNHG5XGiaJrf63W43hmFQq9WoVquUSiU2btwo79/b20t7ezu77bYb7e3tfOlLX0IIwcaNGwkEAjQ2NpJOp8nn83JXTdd1+R4BcNddd9HQ0MC8efPo7++nrq6OadOm0d7eTjAYRNM0+b7gdDrxeDxomiZTvPx+P4FAgFKpRGdnJ5VKBafTOW7V2lod1nVdpo/Z7XaZjuFwOLDZbONyVhVF2XZtdkW1ubkZQP6jDoVC+Hw+kskku+++Ow8//DCBQIBMJoPP5yOdThMMBnG5XCxatIjLL7+ccDgMjH7qtoJLGJ3E165dy5QpU+RqaLVapa6uDo/HQ61Wo66ujkQiISdnIQSapqHrOg0NDfKglcfjwev14nA4xuVEKYqibC3WSt/YYMlutxOLxQCIRCL87Gc/4+ijj+aTTz7hgQce4JZbbuH666+nvr6er33ta3J10EoFGBkZwe1209TURDqdJhAIUKvVsNvtcu6zgl9rBTEej8u50vrA7/P55EqstVrpdDplihfAxIkTWb9+PfX19TQ3N1OpVLj66qu55ZZb5MJAe3u7DEZjsRgDAwM4nU78fr9MwbIOYfl8Pvx+Pw6HA7/fT09PDy0tLXzrW9/i1FNPZfr06QAyYLbGae2SVSoVarUafr+fCRMmAKOLKT6fT17TTCYjz1Z4vV65Au3xeMYdoFKHqRTli2GzK6pWjtDIyIj8dGyd0m9ubsbpdOJ0OmV+0nbbbYcQgg8++IBbbrmFSCTCfffdx+DgIIlEgkgkwkMPPcTChQtJJpOcccYZfO9732PdunXA6IprIBCQP3fDhg0yp+vmm29m1qxZ7Lzzzlx++eW888478gCAFaTCaFA9ODjI4ODg53XdFEVRNsuak6ygyAra3G63zLWPRCLY7Xba29u58MILueCCC/D5fPzxj3+Uz1EsFnnvvfe4/PLL2WWXXZg+fTqHHnoob7zxhszh9/v9rF27lh/84Afsu+++TJgwgX322YcXXngBp9NJsVgkl8vh9XpZunQpxx9/PD6fjzlz5vCd73yHt99+G7fbTa1W49ZbbyUSiXD++eezYsUKTjjhBI455hhGRka49dZbsdls3H777Xi9Xvr6+jjiiCOYMWMGt99+O9dffz0zZsxg6tSp/Pd//zc+n49UKiUXLqrVKn/605+IRCIsWbKElStXct1117FgwQJuuukmNm3ahMPhwOfz8fzzz3Pcccdht9uJRCJ861vfYtWqVTJg7erqYp999mHq1Kncd999fP/732fatGnssssu3HTTTaxatYpsNgsgPyhYvwtrdVlRlG2caZpCCCF0XRe6rgtAGIYhb9M0TQghRD6fl7edeuqpwufziTPPPFNomiZ0XReVSkUIIURfX5+o1WqiVquJ3XffXQDimWeeEaZpimKxKK677jpht9uF3+8XbrdbAMLr9YorrrhC9PX1CV3XxS9+8QsBiKOOOkpUq1VRrVbF/fffL5qamgQgAoGACIVC8rGzZs0Sa9asEeVyWdRqNTlORVGUz5NpmsI0TaHrurDmUkB+bf03lUqNe9yKFSsEIJxOp1i+fLkQQoh0Oi2EEOKBBx4QoVBItLa2ivfee08IIcR7770n5s2bJ+c8ay7cc889xTPPPCOEEOKDDz4Qp59+uvD5fCIcDov58+eLQCAgHA6HWLhwoejv7xdCCPHkk0+KOXPmCED4/X4BCEDsv//+YtmyZUIIIR566CHh8/lELBYTsVhMAOKaa64RlUpFLFq0SADiRz/6kRBCiD//+c9i1qxZAhD19fUCEA6HQ8RiMRGJRMQzzzwjOjs7xeWXXy5aW1sFIKLRqJg/f7645557xODgoLjooosEIK666ip53R544AHh9XpFKBQSgUBAjnPPPfcUjz76qBBCiDVr1oh9991XhMNhMW3aNGG328e9rgcffFB88MEH8roXCgVRKpX+L/8XUBTlX2TFadY8acVvmqYJQN5vsyuqTqeTWq0mT4TmcjmSySTlcpn777+feDyO0+mUJaiuueYaarUa+XyeeDxOQ0MDw8PD5PN5XnnlFe655x5CoRC//vWvKZVKvPrqq8yfP5+bb76Z5557jmw2K3OrrPIudrudBx54gL6+Pq644gpWrVpFZ2cnX//612XNPcMw5PZatVrdbJ1ARVGUz5tVqqqurk5WPIHRedRms8lyf+VymVAoBMA+++xDPp9n06ZNpFIpOde+/fbbLFy4kI8//pje3l7OP/98li5dyi9/+UtKpRI9PT387ne/Y86cObz44ov84Q9/4Le//S0TJkxgyZIldHV1USqVuP3221m9ejUXX3wxqVSKnp4eTjnlFN544w2ef/55OcZyuUw6nWbBggU8+uijzJ49W55FgE/rZFun+2OxGIcddhgDAwP09PRwxhln4HK5uP7663G73dxwww1ceeWVJBIJpk+fzlNPPcW5556LEEKmDliVBbq6uvjBD34gUw1Wr15NV1cXl156KUuXLuXhhx+mUCjgcDjI5XLkcjmOP/54urq62LRpEzfddBMAjzzyiExlEH/d9bNSHdTWv6J8MWzx1r+VI2qappygJk+eLA9ZJRIJGhsbicfj1Go1TNMkEAjI5H+v18uHH35IpVLh6KOPZu7cuZimSUdHB01NTcTjcXK5HPF4XBZ0TqfTuFwuVqxYwbvvvks8Hmfvvfemra2NWCzGokWLRl/EXw9XWadibTabHLeiKMq2Kp/PY7fb8fl8lEol+vv76ezsxOFw0NbWRnd3N2vXruWFF16gUqlwwgknyNzMq6++mmnTprFmzRpGRkZob28nn8+zdu1ahoeH6evr48ADD+Sll16iq6uLSZMmkclkWLlyJbvtthsHHXSQPMA6f/58Dj74YHK5HBs3bqS+vp5JkyZx2GGHcdppp7FgwQJ23313Oc/CaKC6bt06dF1H0zTS6TQ33XQT9fX1OJ1ODj/8cDKZDBs3bpR5o9ZBKOvxuq5TX18vKxJYzQyWL19OKpVi5syZHHPMMbS0tNDa2sohhxxCQ0MDy5Yt47333pP1vG02G7FYjLq6OmKxGMFgEJvNRrlclosZYw9P2Ww2VUNVUb4gtjhQHRv4WYeXdtppJ0ZGRujp6ZGT6SWXXEIsFkPXdcrlMk1NTfJk/vDwMNlsloceeogZM2bgdrvZf//9Wbx4McPDw3z44YcUCgV5WCAUCslgt1gsMnXqVGbPnk2pVKKrq0uWOhn7B/4+F0lRFGVbpes6mUwGl8tFY2OjLB/V1dXF7rvvzpo1a+jq6kLTNC655BJZ5q+5uZmPP/6Yt956i/fff5/Jkydz6KGHks1mueCCC5gxYwaHHXYYr7/+OrquE4/HeeWVV8hms3R3dxMMBmlvb6e5uZlTTjmFZ555hu9973u0t7fT19fHunXriEQiTJs2DY/HIw8rja2m0tbWJoPP5uZmedbAOmS166674nA4yGQyFAoFed4gFosRCoVkh65SqYTT6UTTNOx2Oz09PZTLZerq6mhra0PXdfr7+5k2bRotLS2kUinsdrsci1XCy+v1EggE8Pl8uN1u2RXMus5jqdJUivLFsNlT/9bqpKZpuN1u3G63PLna1NQk6+35/X4mTZokt1msT8h9fX2899577L333rJI9dSpU2loaGCHHXagWCyy7777Mjw8TDKZJBgMMmPGDHw+H93d3fT19ck6rYZh4Ha78fv9MogVf62PZ3UzGRu0qlVVRVG2dUKIcXWl3333XYLBILNnz8bj8VAoFIjH4wBst912tLa24nQ6cTgcNDQ0YLfbZb3WX/ziFzzzzDM88MAD/OUvf2HJkiVs3LiRN954g9tuu41wOExbWxtOp5OOjg4AmZpls9lkHVSv10s8Hqezs1OmLBQKBVnP1OPx4Ha7cblc5HI50uk0iUSCtWvXss8++9Dc3Ex3dzfDw8OMjIxQKBTkc1pdD3t6emQ9VKtsoVWcPxwOU6lUKJfLZLNZ3G43mqbJVqymaVIul2Vx/7+d68VfO1tZf/7RdVfBqqJs+zYbqAKyoLRVB3DsJ9+xrfas0ij5fF7WWm1sbGSvvfaitbVVbrXsueeeXHTRRXR0dMgWrJlMhmg0Srlclts+hx9+OMlkku23355EIsE777zDa6+9xtFHH00sFmPZsmUAsvGA1XbLSgVQk5CiKNuyCRMmkMvl6OvrI5lMMjw8zJtvvikDu2AwyLx587jrrrvo6uri3HPP5cQTT6RSqeD1esnn87ID34YNG7Db7SxcuJCFCxcC8Nxzz3Heeefx6KOPsueeezJnzhx6enpobGykq6uLcDhMXV0dH374IW+//Tb77LMP06dPp7e3V7axtoJoq7KKVQvWNE36+vqIx+N86Utf4plnnqG+vp7BwUFcLhcrV64klUrR1NQk65qOjIwAo/msTU1NuN1ucrkc0WhUltKqVCoyvcHpdFKtVkkkEoTDYV555RWGh4dl2USHwyF30KwVU8Mw5B8rHcy6r8UKZMfepijKtmmzW/+GYcieq1YfaKfTKfOSUqkUmUxG5hbBaGeopqYm6uvr6e/vl2Wipk+fTjQa5dlnn+VXv/oV/f39lEolnn32WS666CJWrlwpy6XAaEJ9rVYjFArR0dGB3W7nrbfeYmBggM7OTt59910ZlFoTj0XlICmKsq3r6+sjm80SCoXo6+vjxz/+MXfffTeTJk3immuuIR6PEw6H2WWXXQB4/PHHefPNN8lkMvT09HDxxRfz/PPP4/f7eeedd5g3bx4LFizg7bffBmCnnXYiHA6Tz+eZOXMmHR0dHHXUURSLRX7yk5+QyWQYHh7mscce44orruDxxx+nWq3K9qjWVrqmafh8Pmw2m1wYqFQqNDU1sWnTJv785z8DozVNk8kklUqF3/3udxSLRebOnStXga1Ade3atbzyyisMDg4yPDwMIFMDHA4HO+ywA/vssw9Lly7lzjvv5LXXXuPll1/m3nvvZXh4mIMOOogdd9xR7uh91sLE2LML8Gmgau22qQO3ivLFsNkV1Wq1Kvsl12o12doORieCuro6OUFYOaHWYapCoUAwGJTbMqeccgq9vb3ceOON3HDDDdx+++0Ui0W8Xi9tbW309vbS0dFBf38/wWBQdktJJBIceuihdHV1cfPNN3PzzTfLriqRSEQW1LbGoVZSFUX5IqjVapx11llks1kcDgdut5vGxkbOOecc5syZIz+En3zyyQwODvLUU0/x1FNP0dTUxODgoGweYLfbmTFjBvF4nCVLlrB27Vra2tpYvXo1lUpF1p8eHBzkzDPPpKuri5///Of87Gc/IxKJoGkaM2bM4OCDDyaZTOLz+chmsxQKBdmKta6ujlKpJAv922w22Xq1ra0Nh8PB2Wefzdlnny1fXzgcZu7cucTjcdxuN7NmzWKvvfbijTfe4LjjjuOOO+7gy1/+MrVaDUBWQrDZbFx88cWceeaZLF68mPvuuw+/30+1WmXOnDkcccQR1NfXk8lkEEL8XUBqLVKM3fpXqWCK8sW02SVHK1ndaq+naZqcGNxut0yGH/s90zRxu904nU5KpRIOh4N8Po/L5eKb3/wmixcv5vTTTyefz+P3+znttNN47LHH+MpXvoLD4aCvrw+/308mk0HTNBKJBGeffTbXXnstO+64I263m1NPPZVXXnlFJs5bW/5jqYlJUZRtmdUxSgjB1KlTufLKK3n88cf59re/jd/vl5VQ9t13X6655hquuuoqZs6cSaFQYObMmfziF7/gnHPOAWDq1Kn88Y9/5M477ySdTvPcc88hhOCiiy6SZacCgQDz58/noYce4pBDDiEej2Oz2TjppJN4/PHHmT9/PjCat2p1kLLyUQF5VsCq5GJ1IcxkMhSLRR5//HFOOOEEGhoa2H333bnjjjs499xzZXH9CRMmcNpppzFlyhQAVq1aRWNjo/y+tdhRKBQ49NBDeeSRR/jKV75COp2mVCqxcOFCbrvtNo455hjg08oB1nvSWFY6gPWcYyvYjD18qyjKts1mmqawtnNgNCfIMAyZ8K5yeBRFUT6bFfxYB0ytAMjqK//vzmrVOm/ePFavXs3y5cuZNm0aXq93aw9NUZRtnBVjWgcbrQP31nkja35VSZyKoijKv8RqCGOaJh6PB7vdLt9g0un01h6eoij/BlSgqiiKovxLrDJRVrmsvr4+KpWKLMCvKIry/0oFqoqiKMq/xO12MzIyIisFBAIBAoEA1WqVtWvXbu3hKYryb0DlqCqKovyL/tNzVIeGhkgmkxiGQSqVIhqNYhiGrBSjKIryj2xpjuoWFfxXFEVRlL9lNXyxqrNYCxupVAqbzUZdXd3WHJ6iKP8G1Na/oiiK8i+xVo09Hg8Oh0OWKwyFQipIVRTl/4QKVBVFUZR/yd9u71sNYTRNU52fFEX5P2Gv1WqygDOAz+eTk4zKT1UURfnHisWizK0CGBwcJBaLYbPZZEvpf2dWkX3r/cNKBQgGg6qFtaIo/5QQglwuR7VaBUYbeAghcDqdRKNReT+bruvCMAxqtRrBYFD2QRZCyIRWRVEU5bPlcjlM05QTqxW4jm03rSiKooyXzWaJRCLy74VCAbfbTbFYlF37AJwOhwOHw4HT6SSfz5NIJGQBZ0VRFOUfc7lc+P1+nE4nmUyGVCrF/vvvT39/P6FQCL/fv7WHqCiKsk2KRCJomkZvby+xWIxwOCxjz9bWVnk/m2mawloRiMViuFwuuY1Vq9XUiqqiKMo/kM1mcblcBAIBWVrF2pX6TylRpSiK8q/o6upiwoQJAJTLZbxeLzabjcHBQRoaGj5dUa1UKjKqjUQi6Lo+Ll+1XC5vtRehKIqyLWtubqZcLpNOp2WACjBp0iTWr1+/lUenKIqy7WppaaGnpweAZDKJy+Wit7eXnXfeedz9bEII0dvbS1NTEzabDbvdjqZpOBwOisUiHo9na4xfURRlm5fJZKjVahSLRaZMmQKM5qjm83mCwSC6rm/lESqKomyb+vr65Bb/0NAQNpuNRCKBaZpEIhHy+Tzw14L/Xq+XbDZLNBpFCCFP+5fLZQKBwFZ6CYqiKNu2cDg8rkRTT08Pzc3NZLNZPB6PSp1SFEX5B6wgtVAoYLPZZNUQm81GoVCQ97MVCgVh9WZ2Op0kk0lGRkZkazxrK0tRFEUZz0qTMgyDoaEhGhsbZQpAsVhUh6kURVH+AcMwSKfTBINBfD4flUqFSqWCy+WipaVFNhCxmaYpbDYbhmEAowWbDcPAbrfLPqyKoijK37M+yJumid1ux2azYbPZ1EEqRVGUzbBiTCGELOvncrlkaVRrflUVmRVFURRFUZRtkgpUFUVRFEVRlG2SClQVRVEURVGUbZIKVBVFURRFUZRtkgpUFUVRFEVRlG2SClQVRVEURVGUbZIKVBVFURRFUZRt0hYHqqVSCYD169fLtoCpVAoY7WAFozUFN2zYIB+Ty+VkwdZqtQqArutUKhUARkZGgNE2WgDZbFbez1IsFmUtLV3XMU1z3PdKpRK5XA6AWq1GqVSiVqvJvyuKoiiKoihfTJsNVEulEqZpygBy++23xzAMuru7SSQSCCHwer3AaJeWiRMnAvD+++8TDoeJRqOYpkkqlaJSqeB0OikUCrJla39/P01NTXR2dhKJRPB4PDIozmazBAIB0uk0g4ODOBwO2YigVqsRCATw+/1Uq1V0Xaezs5MFCxZw//33A8iAWFEURVEURfni2Wyg6vf7sdvt44LVZ555hkWLFrqFOaEAACAASURBVLFs2TLZhSWTydDX10ehUOCZZ57hkEMO4cknn0TTNAzDIBAIkEqlMAyDuro6qtUqdrudxsZGhBBMmDCBtWvXsnTpUvx+P8VikUgkAoDP58Pr9VIul+VqrsPhwDRNisUiyWQSp9NJqVRi06ZN2O12KpUK4XD4c7x0iqIoiqIoyudpi7b+NU3D6/Vit4/evVKpsHr1anw+HzC69R8KhWhoaCAYDNLU1ESxWGTatGkYhkE+nycajbLddtshhEDXdTRNk48dHh4GYMqUKTQ0NLDHHnvIVVFd1/F4PITDYfx+P6ZpMjQ0RC6Xw263k81mASgUCtRqNdra2mhpacE0zXFpAoqiKIqiKMoXyxYFqplMBr/fj8vlQtM0AoEAjY2NRKNRYDSQdTgc2Gw2BgYGSKVSZLNZVq9ejdfrlT2v8/k8g4ODuFwuWlpa6Ovrw+fzEYvFKJfLDA0NUSwWqVaruFwuGcSapolhGGQyGYQQNDY2EovFKBQKNDc3MzAwgMvlIhAIMDAwwODgIH6/n+7u7s/vyimKoiiKoiifqy0KVD0eDzabDcMwGBwcZHh4mHK5THd3N+l0mnw+T7VaxWaz4XK5mDhxItOmTWP69OnApweourq6+K//+i9sNhvJZJIf/ehHrFq1CiEEPT09nHbaacydO5euri6+//3vc8ghh+D1ekmn02iaRqFQ4IorrsBms9HQ0MAtt9zCyMgIwWAQj8eDEIJwOCwPd7W2tn5+V05RFEVRFEX5XG02ULW29cvlMjabjZaWFkKhEPF4nNbWVmKxGG1tbXLV1DRNuru7+fjjj1mzZg0DAwMkk0meeOIJTjzxROrr61m2bBkPPPAAq1ev5sILL2RwcJBEIsGSJUt46KGHcDgcXH311Tz55JNUKhWSySRvvvkmF154IcVikeXLl7N48WJefvllzj33XBk4F4tF3G43Pp+PDz/8UI5JURRFURRF+eLZbKCqaRo2m41CoSBXKnO5HD09PVSrVdLpNAADAwOYpkkikZC5q83NzTQ0NKDrOn/4wx+YNWsWt912G7vtthu77bYbjz32GKlUigceeAC3200mk2G//fZj8uTJ1Go16urqaGhoYMWKFfzpT39izpw5LFq0iNmzZzN//nwefPBBli1bxqpVqzAMg8mTJ/PJJ5+QTCaZMGGCPHilKIqiKIqifPFsNlANh8MIIQgEAgQCAXp7e6lWq1SrVSZPnsyECROw2Wy0tbUxbdo0bDYbBxxwAPX19QwODgLwl7/8hRdffJGTTjqJQCBAX18fjY2NeL1errjiCl5++WU2btxIKBRC13VqtZoseQWjwfLixYv50pe+xKxZs8jlcrhcLpLJJNOmTaOzs5NiscjQ0BAOh4OBgQFGRkZwOp2f35VTFEXZAtbB0WKxSLFYBPi7D9HWwU/TNP+u/rN12HRkZARN0+TzFQoFqtWqrFUNn9a0/t+wFhusrwuFwrjnMwxj3DgAent75e2fZWzta03Txh1sNU0TTdPQdX3cc2iaJh8nhJAHZS3Wzy8UChSLRQzDGFeCcGhoiKGhIfn3VColq9VY1ww+ra9dqVTkuKzfS7lclmOwKtZsbnzVahUhBKZpUiqV0HVd1va2GIYx7vHW8439frlcplAoyN/H2O8ryn+yzUZyw8PDxONx8vk8fr+f5uZmgsEgbrebe+65h46ODvx+P4ODg0QiEQzD4I9//CM33XQTbW1t9PT0EAwGiUQictKKxWIYhiEn5d7eXtauXcvUqVMplUr09PSw/fbby59fqVTo7u5mv/32IxwOk8vlmDhxIhs2bMDlcjF58mSOP/54PB4PHR0dtLS0UF9fTzqdJhaLfe4XUVEU5bNomkalUpGHPWE0GKpUKjKv3sr/D4VC2O12qtUqpmlit9txuVyyTJ/X68XlctHf349hGLS0tACMS3FyOBzya8Mwxv39s9RqNex2uwy0PB6PrK6SyWQIh8PyOXRdZ82aNUyaNInm5mb5HLquUyqVsNlsBAIB7Ha7fE0AdrtdVoyx/i6EkBVgxj5/uVzG7/fjdDqJRCKYpkmlUsHv9+PxeIDRMxMul4tqtYrX66W/v59kMkkoFAI+DSITiQS1Wg2HwyGDTtM0cTgcCCEol8s4nU5ZmxtGg1efz4emaZTLZTwezz8dXyaTIRqNyt+ZzWbDbrcTDocxTZNyuYzX68XhcOBwOGSQ7Ha7cblc8joIISgWiyQSCUqlEoVCgWAwuOX/oynKv7HNBqp1dXUA42qSut1uvF4vCxYsAKChoYFKpYKmaXKyuO666ygUCkyfPp0NGzawfv16DMPA5XLhcrkYGhoiFoux++67UygU2HHHHeU/5ra2NtatW8fMmTNpaGggHo8TCAS44YYb2GGHHUgkEvT29hIIBGRJrEgkwrvvvkt3dzddXV3jVmQVRVG2BpfLRaVSoVQq4ff75Urq336AHrsC53A4xs1fVk1pXdfJ5/M0NjYC8OGHHzJ9+nTcbjfw94HplgSqbrcbt9uNYRgyxx9Gg0mv1ytX9ex2u0zjsp5zZGQEl8uF2+2W8/7YVUiHwyGfb2xJQpfLJXe7rP+aponL5ZJpY5qmkcvl5PuPdd9UKoXD4SAWi9HX10dbWxsNDQ2y8YymaRSLRfmhwDAMOYZarYbf75fPF4vFxo0JPn2fs96nLJsbnxVE12o1UqkUHo+HUCgkx1Gr1eRhY9M0KRQKVCoVEomEDG69Xi+ZTAaHwyGvp6IoW3jq3+oKValU6OzsxDRNQqEQn3zyCQ0NDQCyDFWpVCIejxOPx+U/ung8zqxZs8hkMnIbyOpS9cgjjzB9+nSZJuBwOOjs7GTHHXekoaGBTCZDoVAgmUyy8847c/DBB7Prrrsye/ZsDjzwQJqamuSn90gkgt/vlysMKkdVUZStzePxYBiGTGuyAqcNGzbIec/tdsttYSt4s1pLVyoVarUa4XAYXdf54IMPANhxxx355JNPxm0nj13J3JLDpFaqgMPhIBwO4/F4SKfTVCoVHA4HPp+PQqHA+vXrgdFzB9ZjAoGAXBm02WzYbDZ5mNXn8+F2u2WXQafTKW+3Xp+1TW69J4xN1XK5XMTjcVn60LpGsVhMBnHt7e3ouo7NZqOvrw8hBHa7nVQqhcvlIp/Py2Y1TqdTBv8DAwN8+OGHAHKl17pWDoeDUqnEihUrADY7PoBPPvkEGE09cLvd1NfXy+DT+v1ZizQ2mw2Hw0EwGCSRSDAyMkKxWCSdTtPb28uMGTNYunQphmEwMDCw2d+fovwn2KJA1TRNuYoaDAYJh8NEIhFCoRC1Wo1CoSCDz3K5TCaToVQqyQlZ0zTa29tZtWoVhUIBu91OfX09hmHw0UcfMWnSJPbee2+GhoZYv349kydP5sUXXwQgGo0yZcoUjjjiCC699FJWrFiBYRi0trbS09NDf38/EyZMwOFw0NTUJINjQG2dKIqyVeVyOdxuN4FAAKfTidPpxGaz0dnZyU033cRjjz1GoVCQt8No0DQ0NMRPf/pTFi5cSENDA06nk87OTmKxGB0dHbz++us8/vjjLF++nFKpJIM0m80mA8ktydG3uv3lcjk2bNjAVVddRVtbG/F4nJaWFmw2G3vvvTd33nknv/nNb+R8XywW8Xg8eDweyuWyrJ9tdS+0ttat4LBarTIyMsLIyIi8j9VExlphte5j1dO22WwIIfB4PLKhi8PhIJ/Py8A5nU5TLpepq6uTQWB7e7t8bS6Xi1qtJrfl8/k8Tz/9NPfddx+dnZ0yLcAaUy6X49lnn+Xuu+9m5cqVmx0fwOTJk+X1NAyDdDpNOBwmlUqRy+VkkAqjwfnQ0BDZbBYhhNwtjMViMuB2uVw4HA65CKQo/+k2O5ON3WqC0VSAgYEB1q9fLwv+B4PBcZOFzWajUqnQ0tLCunXrmDVrFpdccgmnnHIKnZ2dnHfeeZimyY033ohpmixatIhKpUIoFKKjo4OJEyei6zqLFy/m4IMPJh6Ps99++/Hqq6/y85//nA8++IBEIsHHH3/M/fffz5133slOO+1ENpulVqvhcrlklYJkMvn5XT1FUZQtYBgGQgi5omq32/nggw+Ix+MyEDIMQ24PA6xdu5YpU6YAoyt7DQ0NvP/++9x77708/vjjDA4Ocv3116PrusxptdlsMg9yS1ZUrVXBcDhMOBympaWF2bNnc8QRR7DzzjsTj8d59913+cMf/sAFF1zAgw8+yPz58wHo7Oykra1NHrS1WDmrhmHIrXIrqB1rbN6qFZCOvY8VPFr3tYLeUCgkV40bGhqo1WpUq1XOP/98HA4Hd955Jzabjfr6egB5bWB0xbSrq4uVK1eO23mzvna5XHR1dbFixQo0TZOP+0fjsxZKUqkUyWSSpUuXctppp3H//fczbdo0wuEw1WqVcrlMMBjE7/ePSz+oVCoyP/Wdd95h0qRJ5HI5uru7aWxsVAeCFYUtCFStOqpDQ0M4nU6ZRzp58mSy2SyxWAy3200ul6NcLsuvm5ubWbt2LYcffjgjIyN0dHSwePFi7r//fg477DBisRhHHHEEl19+OXV1dXi9XkqlEplMhrlz53L33XeTy+Xo6OigubmZI488kubmZq655hpeeOEF+vv7OfDAA7n33nuZO3cutVqNTZs2MWPGDJk3pVZUFUXZmqw5qFAoyEM6AMlkkmQySTwel8HP2JzSeDxOXV0dq1ator+/n8bGRlauXMn555/PhAkT+OEPf8jzzz+Ppmn4fD6EEBiGMS6w2ZIcVcMw5I4YwLp16wgGgxxxxBHssMMOFItFOjo6OOqoo/jGN77Bww8/zPTp06mvr2fChAnUajUqlQqVSgW73Y7P5yMQCMhcz5GREUKhEA6HQ670+nw+2Vo7EAjIcbtcLhnkWge7rMNo1nVctWoVU6dOJZFIkE6nqVar1NXVIYQgEomgaRr5fJ5kMikD0LHXxO/3Ew6HcblcNDU1AYzLRfX5fMTjcbmFX61W/+n4rANtiUQCwzDo6elhzZo1DA0NMXfuXAC52q3rOrquUywWcTqdRKNR+eEiHo8TCoVobGykvr5ersArigKYpimEEELXdaHrugCEYRjyNkulUhl328jIiBBCyPta+vv7hRBCbNiwQd6/VCrJ7/f09AghhCiXy6JarYpMJiOq1arIZrPydl3XhWmaolqtCiGEGBgYGPczKpWKGB4eFkIIeR/r8cPDw/J71pgVRVE+D6ZpCtM05ZwlhBCA/LpSqQjTNEUmkxFCCFGr1US1WhWDg4Ni3rx54sorrxSVSkUUCgX5nLVaTeRyOXH22WeLK664QvT19cnHv//++6JSqYhcLie+8Y1viJtuumnc8wohRDqdlj97S2iaJr++4oorxEknnSSGhobkvD04OCjK5bK48cYbxVe/+lUxPDwsUqmU0DRNrFq1Slx66aWiqalJTJo0Sdx4442iu7tbCCFEsVgUQgjxzjvviPPOO08kk0mRTCbFeeedJ9555x0hhJCvu1ariccff1zMnTtX+P1+MXfuXHHzzTcLIYRIpVKiWq2KDRs2iGOOOUZcd9114rbbbhM77LCDuPPOO8V3vvMdAQiHwyEA4fP5xBNPPCFyuZx8PxFi9D2iWCyKW2+9Vey7774im83K31M+nxeapgld18X//M//iDlz5oiPP/54i8a3ceNG8eGHH4p9991X1NXVCUC0t7eLuXPnit7eXnltV61aJc4++2zR3NwsZs+eLb75zW+K4eFhkc/nhRBCLF26VADiz3/+8//q96coX1TWv03r32GtVhNCjM5JgLzfFuWowqenGq1P6Nap1bHbN4DMq7HyhKyEfItV1sTr9eJ2u4lEIrjdbvkJ3CrlYSXmA3ILZ+xYrC0r6z7W462DXGPHrCiKsjV4PB5M05QlpqzVO7fbjdPpJBaL4fF4CAQC1Go18vk8LpeLUCiE3+8nm80SCoXk4zs6OvB4PPKQUDabRdM0uYtUKBRYsmQJ06dPlwdcx/45/fTT5eEfqw6o0+lE13WGh4epq6ujp6eHoaEhOW9bB4mq1Sr5fJ5IJILX62XdunVcdtllpFIpnn76aW6++WZeeuklLrnkEoaGhvD7/fT29nLRRRcxMjLCL3/5S374wx+Sy+U4+uij+eCDDwgEAoyMjHDTTTdx8cUXc8IJJ/D73/+eo48+mkcffZQzzzxTVg/Ybrvt2LRpE3fccQfLly/nyCOPZOedd+aiiy4in89zxhlncNxxx/Hxxx9z+OGHEwqFZPvvTCaDz+fD7/djGAbxeJxcLicPogWDQbkqbR3ItVZ8/9n4LrvsMkKhEDNmzODll1/mt7/9LQC33XYbL730kkyJePXVVznggANIJBLcf//9XHfddbz99tucd955pFIpYDQ/1tqxrFar6v1LUf5K7S0oiqJsJZlMht7eXhKJhCwVpes62WyWUqk0blv6s1jbx4VCQR4mOuCAA+R5gXA4jNvtJp/PMzIyQjQalWcLIpEI+Xwe+HRBoa6ujvr6eplHKf5a5/Wyyy7j1Vdf5cILL5T1QC+77DImTZrE1VdfDcCkSZNobW3lu9/9Li+88ALHHnsszz33HOVyme9+97vsuOOOAMybN4/jjz+eJ554gvb2dgYGBnjxxRf53ve+x8EHH0xzczN77rkne+21F9/+9rd59tlnOfjggwmFQrS3t9PR0cG3vvUttt9+e8rlMj6fj2KxiGmaxONxmpqaZFkwK1i3ap1mMhmq1So2m00W6A8Gg7L019gPC/X19RQKhX86vlNOOYXp06dzwgknUCwWyeVyhMNh2tvbZZ3U1atX8/rrr/ONb3yDq666Sv7upk2bxoknnsjKlStJJBKYpimv9+Z+74ryn0QFqoqiKFvJjTfeyJNPPslHH3007vZdd92Vt99+m/PPP3+zz2G32+X5AavWp5WLadWrtvIdrRxZKyAaW6+zXC7z3nvv8atf/YoVK1awadMmKpUKHR0d9Pf3c/HFF3PEEUdQLpcpFosMDg6yYMECEomErF26xx574HQ6+eijj3C73cyePZs1a9awYsUKfD4fkUiE7bbbjueee45QKIRpmqxcuZKRkREOPfRQ6uvr0TQNt9vNjBkzqK+v5/3332fevHmkUinS6TSRSER2NrQOWI0tg2UFeaZpks/n8Xq9ZLNZfD4f0WgUIQRPPfUUK1asoLOzU+bM2mw2Jk6cSKlUoq+vD4fDgd/v/6fjmz17Nr29vXKH0FpBFUKQz+cJhUJUq1V+//vfs2DBAvr6+mRA2tTUhNvtplqtEgwGaW9vl6vitVoNIcS43UhF+U+lAlVFUZSt5KyzzuLII4/Ebrez3XbbUa1WGR4exm6385Of/GSzj7dWDK0WndYJ97FtpgF5Mt7qbmWaJsPDw7ITkpVy1drayj777MN3vvMd2eL0pZdeYnBwkCuvvFKWeVq6dCnvv/8+55xzDosWLcLhcMgt9UKhwKxZswBobGzkuuuu4+677+aaa67hrLPO4oADDmDq1KnykNErr7zCjBkz5Nit4C0QCDB9+nRZQaZQKBAOh2lqapLpXdaBMet1lctlGcyOTX1IJBLymgUCAWbNmsUFF1zAhAkTCAaDmKZJsVhE0zRefPFFnnjiCUql0mbHN2vWLN566y16e3vlB4JcLicPTKXTaYrFIq+99hofffQRd9xxh1y9tQ7CLVu2jJ133plUKkWlUqFYLKqGNYoyhgpUFUVRtpKOjg7mzZuH0+mUp9yt7k7PP//8uBJNn2XNmjWUSiW5kletVvnNb37DLbfcwrvvvitP88NoHv+xxx7L+eefzy677DIueLNOpZfLZWKxGHvuuSeBQACfz8f69et5+eWXWbp0Ka2trbS0tBAKhbDZbNx1113Y7XZ22mknqtWqLMU0e/ZsBgcHaW5u5owzzmDhwoV88sknXHvttdxxxx0cdNBBXHrppcyePfufvr7u7m5gNEUin8+Ty+UoFAqyA5XH45HNEsaekrcCVKu1aTablY0XBgcHmTRpEmeddda4a2cpFossXbp0i07dG4YhV7StvGH4NJUik8kQCATYfvvtOfnkk9l1112JRqMUi0VZknH69Ok0NzfLoDsQCMjqAFZusqL8J1OBqqIoylaSyWRkdyf4tHVnsVhkaGhoXOvqz9Le3o7H45FdmJxOJ/PmzSMejyOEwO/3EwwGyeVy9Pf3U1dXJwvUl8tlWdvVqu9pdU+y2+3UajV0Xefkk09m5cqV/PSnP+Wuu+6iWCwyefJk2d76mGOOkbVc3W43a9asYbvttpOlq2q1Gi0tLSQSCV555RXeeustDjnkEA4//HBmzZrF/vvvzw033CADPV3X8Xg88rDTLrvsQjQaxel0Eo/HicViMsXBOqxWrVbl6w0EAjIH1QpOrVQIQNaG3bhxo6zZnc/nMU1TdqbSNA0hBKZp/tPxvfPOO+yxxx7ywK+u6zL1Qtd1mpqaWLduHclkkkmTJvHVr34VQObPDgwMEIlESKfTrF69GtM0SSQSMvBVFGULO1MpiqIo//esLV4hBNVqVZ7idzqdW1QH2to+dzqduN1uPB4PyWSSvfbai/nz5zNp0iR22mkn9t13X772ta8xd+5cIpGIDML8fr8cQyaTYePGjXKL3eo+2NTUxN57782vf/1rXn75ZWA02Js7dy4PP/wwXV1d6LouK7BYbV3dbjeXXXYZ55xzDj09PQwPD2MYBrvtthtf+9rXePPNNymVSsyaNYt4PM6SJUtkZyZd11m1ahUffPABjY2N9Pf3y45QVicp61S81T3KMAwymQyDg4MUCgWEEPT29iKEkEHq8PAwXV1duFwuJk6cKIP1WCxGXV0d0WiUYDBIqVRiYGBgs+N77733aGhoQNM0eaDN+uCQTqeB0ZXsOXPm8Nprr/HJJ5+QTqfxer3ous6mTZvwer3EYjGi0SjhcBjTNCmXy+NWwxXlP5laUVUURdlKrFXHYDA4rvORVRx/c6zORg6HQ5ZXsjoDBgIBGhoaME1T5ldahfftdrvcYrYOHEWjUWKxGH6/XwZeVkB1/vnn8+yzz/L000/z5S9/mVKpxNe//nWOO+44rr32Ws4880yGh4d55ZVX+Pjjj2UJqmOOOYaTTjqJ66+/nqOOOoqWlhZuu+02li9fzp133kkwGKShoYGDDjqIa6+9lkqlwsyZM3nrrbd48MEHmTVrFscccwwOh4NCoUAgEMBut1OpVGRr1WAwKPNMOzs7+eijj5g8eTITJ06U5RCLxSJ2u526ujpmzJhBKpVizZo17LDDDvL0v1V60eoi1drautnxLVy4kEMPPRS73U4wGKS5uZlarcb777+PEIKddtqJmTNncuyxx3LyySfj9XrZe++9aW5u5ve//z1PPPEEt956KwceeCCaplEqlRgZGaFWq6ltf0X5K7WiqiiK8jkZGwCVSiV5QOmtt95i5syZuFwuSqWS7Gtvncrv6ekhEokQDAbp7e0FkJ2NAHp7ewkGg8ycOZNPPvlErqpqmobNZqOurg5Alqwa20LU2jKH0UDZOnCVy+Vwu90kEgk6OzuJRqOYponX62V4eJhTTz2VFStW8Oijj5JMJtljjz347W9/SyQSYcGCBZx77rk4HA5uueUWWR1gv/324+c//znFYpFTTz2VAw44AE3TuP322znggAMoFovE43GuvPJKfvSjH/Hoo49y8MEH8+STT3LCCSdwzz33yJXJ9evX4/V6ZeBtvT7rvyeeeCJ+v5+zzjqLn/70p7KVrHXtx3YAa2hokCvAhUKBarWKrusIIUin09TX19PV1bXZ8X33u98lHA7L37HD4eD666/n6aefljmwmqZxwAEHsGTJEqrVKpdccgmLFi1i9erVPPbYYxx55JFUKhV56CubzaogVVHGsJmmKaxTo4DsOW2327eoBZ+iKMp/KqtgvLViaR3isU7HW7mIuq7Lk+IwWiZq/fr1NDY2EgwG5Uqn+GtPeV3XKRQKGIYha6FaQazL5aJWq5HL5ajVajQ0NMiandVqFafTiRCCcrm82RxXXdfJZDK4XC6ZK2m1wLbKJo21bNkydt99dwDS6fTfHQBzOp34/X5ZVqlQKOB0OmX5LOtnapomcz3/WYtSq+mBFbht2LCB5uZmPB4PPT09JBIJdF2XRfqFEKRSKbxeL6FQiFQqJQ+NWekC/f39pFIpOjo6GBoaGlcZwQperdXWzbVQdbvdlP8/9s47zKrq3P+f0/uZM2fOzJlCr4Migi32HhXlqlyTXAtBTaLR8Fw1iZoYNJZYkcSSiLFGwY4gCYoloMaCgqAJgkgZGGD6nN77+v0xWcs5mkR/PpeExPV5Hh7OnLL32mvvvdZ3v+st2Sxms1kdczabpVwu43A4lCW4XC4ra3A6naZcLquUVuVymUKhgMvl4qOPPmKvvfYCUKVzNZr/VKTGlOnyZPGSUqmkxjTQQlWj0Wi+NJ8nVCXFYpFCoaCi+wcjRawUW1LcSqSQGSyErFZr1QAv35dVnGDAiigT9/8jYrEYbre7KspdirZyuUwymcRgMFBTU6MmknK5rETep+cIKVplXtcv2o+D+ws+EZaDBeRgpIAtlUrKcjz4t5lMBiGESmUlc70ORhYMAOjv78fj8ai8qxaL5TOFD/5W+7LZrBLdMnuCrIgFqNRhfy/lVDabJZFIEAwG6e/vp6amRif913wl0EJVo9FodjNfRKiWy2X1d6lUolAoYDQasdlsxONxZTH9NKlUikwmg9frxW63fzJo/1XMJhIJJcJkhL600v3/IIWgDFSyWq3EYjGam5uV36vMCyonFKPRqAReOp1W7gsypZXsG2k5lf/L0tgy04EMBoMB4SetjTJ6PxKJVAlN6V8rg8ByuRxWq7UqD6rD4agSpOl0GgCHw1HV/0ajEbvdTjQaxWKxqAcIIQRCCCUU/1H7pMuAzOUKKOEqhb98qICBhwfpE1xTU0NXV5fyo5XnHAZK72qhqvlPpWmHjAAAIABJREFU54sKVR1MpdFoNLuJSqVCoVDAYDBgt9vVErg0DAwWlrKcqawWJcWsFECJRAJAJbOXpUCl4JIplWRAVaVS+dxcoFKESjElBZ6s9JRMJlUGgMFWVukrK5es5e9k+iaz2awKEcgl/E8jtyHbOziYDPhMZSaLxaL2k06nyefzmEwm9XAgK199mmQyicPhUIKzUCjg8XiqKlgNtmDKMqiyjf+ofVJQDo7Q/3Q1KbkNWelqcF8MTkGVTqerXC0Gi3SN5quMtqhqNBrNl+SLWFSltVPmSP1byKpSgBJNg5eaZZ5S+KRkKqAsilLwlMtlZaX8onk45ZK4PAbZZvmZx+PBbDZX+XPKClq1tbVVFkPp4iDbKUWbtKjCgOD8tICWAVKDS70mEglqampUkJj065T9MdjCO7gfy+Uy+XyeXC6nSqYOLrVqtVrVfj7tVhCLxUilUtTV1RGNRpW18++1TwatyQcEucwvz4Pcv5xfpR+tPJ8yw0IoFCKfz9PQ0KDE9/+vZVyj+XdDL/1rNBrNbuaL+qhK8QQDQk0mjzcajcoyODgSX1oiZSqmwf6eg0VbOp1Wn8mx+m/5U35Ruru7EULQ3Nxc5Y9qMpkIh8PU1dWpdkuxKKsoyRRNct8yA4H8J5G17uW/wSm5isUiTqezShAOFvwyOl6K51QqVbVMLpfiB1fqktuXRQHk37lcjmQySUNDA4VCQU2Mg3PCDv7932qfrHj1af9T6faQTqdxOp1qG5/2p5V+xYMfTOSDzRfxL9Zo/p3RQlWj0Wh2M58nVGWeT/gkvdSnk/zLv4vFosp1KrdZLperRBigRM9gISmXp+VYLsfzzxM7MlCrUqkon8tisYjb7aavrw+/3698YaUwHRyNns/nVZulNXawCB0sngf/k+8NPl5Z6EBaHaVFNZ/PY7Vaq8SuEIJ4PI7P51PCXlpvC4UCxWJRCUD5kGC329UyfTabVXlkpbXY7/djMpnUa/kw8XntG9yPUO2TOrifB5d5ledetlFadj9ttf504J1G85/EFxWqOo+qRqPR7CYG+xxKS2g6nSYWiym/VRlAI1MhydfSWBCJRJQlUJbu7OnpUQI2Eomo4KS2tjZljRucRzQSidDZ2anErnQjyOfzOBwO7HY7mUxGWUUBGhoaMJvNyjophCCVShEIBNR2UqmUshBHo1Gy2SwGg4FEIlElUru7uzEajfT19WE0Gkkmk8oK3NfXp9opBV02m1V+sZ+mu7u7ykqbyWSqMiLIYgcy5ZcUjhaLRZWalYFaRqOR/v5+fD4fJpNJZVyQk2exWCSbzRIOh7FYLCqFWCaTqfKHlflpZUqqT2MymarcHeS5l+dQWnClSAW0SNVo/ooWqhqNRrObSKfTJBIJKpWKikZ3uVz4fD76+voIhUJKGLrdbiVYTCYTbW1t2O12/H6/ys1ZLBbxer00NjYSi8VUhHk+nyeVSjF+/HhcLhexWAyfz0coFAIGSp62tLSodEoyEt7pdCprrNPpxGKx0NnZyebNm4GBwCKbzcbWrVtZsWIFs2fPpre3V6WNkj6aa9asoba2FofDQSgUwufzqfyqBoOB5uZmyuUyTU1NZDIZamtrlUCXrF+/nkQiUbUELl0gDAYDO3bsoFAo0NTUBHwi7nw+H8lkklQqhcPhUIFQFosFt9tNNpvF6XSSyWRUxa9YLKasprW1teTzeVXa1OPxkEgklEX17rvv5vrrr6ezs1OlEBtcfEGj0exetFDVaDSa3YTL5cJsNqtl8UQiQTqdZvXq1cyePZvnn3+eeDyuLIEy/2d3dzdPP/00559/Ph988AHJZBKTycTatWu54IILOOaYY2hqamLatGm8/PLL2Gw20uk0yWRS5fGMx+M4HA6y2azy3Ryc37RYLLJr1y5MJhMPPfSQqrA0depUnnjiCeXDCQPCORaL0dHRURVoJZe8DzjgALq7u9m0aROBQKBKQCeTSWVJLpVKdHZ2Ap9E/dvtdj788EPuv/9+3nrrLZWCanAy/B07dnDrrbfy8MMPE4lElK9nLpcjHA7j8Xhwu93EYjFl7c3lcvT29hKPxwGUEAfUe6lUing8jtvtxufzVYln6a+6bt06Ojo6qqy2XySjgkaj+b9B32kajUazGxlseZOVm+rr62lvb6epqQmv10upVFI+rjBgXd26dSujR49mypQpVCoVYrEYv/nNbzCbzZx77rlcddVVLF++nLlz57J+/Xrmzp0LUFXJyeFwKJ9M6W85OFDI4XBw6KGH0tbWxt13381BBx3EokWLWLZsGc8++yyrVq1SyejPPPNMpk2bxpYtW0ilUtTW1jJjxgzq6uq45JJLGD16NE1NTVWJ8+GTPKZer5dyuczo0aNJp9MqIt7r9RKLxXjttddobW2tquAlrc1Go5G1a9cqN4PB3xmcSUH6ssoKUsFgkGw2y3nnnUdzczM//OEPARg+fLjavvTj7enpUf0mU0VVKhUaGhrw+Xz4/X7C4TAmk4na2lodw6HR/JPQFlWNRqPZTcgk9NIKKf9vampSVs3B6ahk7tTa2loAPvroIzKZDPF4nLlz5/Lee+/x4x//mPPOO4/jjz+eOXPmcNxxx7Fw4UIikQipVEpZQR0Oh3IPkIn4ZbAUDPh2zpo1i5aWFtavX895551HPp/nmmuuYeXKleRyOS699FIikQhOp5NwOIzb7WbKlCm43W7a2towmUxkMhmGDx9OIpFACEF9fT3FYpFYLAZ8Etm+efNmotEoZrNZ5YSV32lubsblctHY2Kgsu7lcTon8QCBAMBgkGAzi8/mUj20oFFJtiMViOJ1OVW7W7/crMR4KhWhra6O+vp5SqUQ0GqVQKJBKpVRZ03g8rkSrTO9ltVrJ5XLE43FVocvn8wEQDod378Wj0WgALVQ1Go1mt+FyufD7/Sp6NZlMks1micVihEIhlaQ/m80qP0uZhglQ5TRdLhdOp5MjjjiC1tZWYMCNoL29nalTpzJ27FiVYWDIkCFks1kikQg+nw+z2UwulyMUCqngJ4COjg5WrVrFCSecQH19PfF4XFkpDQYDl156KTt27GDEiBEIIbjhhhs47rjj2Lp1K7fddhvHHXccL7zwAs888ww1NTWsWLGC119/HY/Hw1tvvaUEXS6XY9OmTVxwwQWsWrWKZDKJ2+0mlUopq6vValVZAmT2A2k5TafTyiorhavZbCYUCuFyuZgxYwbDhg1j//335/jjj2fhwoVKlN9xxx0YDAbefPNN3n77bZxOJ7fffju1tbVUKhXcbjcXX3wxY8eOZfr06Zx22mm8+uqrBINBenp6sFqtJBIJZUl1Op3qXP69kqgajeb/Fi1UNRqNZjci01UBtLS04HA4CAaDDBs2DL/frwKtnE4nDodDWQRrampIJpMqSf2VV17Jfffdh8ViIZ1O4/V6GTFiBGvXriWfzyuxu2jRIpqbmxk+fDi1tbXY7XacTidTpkxh9uzZbNiwgUgkwjvvvENdXR1HH3002WyW3t5exo0bB8DGjRu56KKL+OUvf0kkEiESibDXXnvR0NBAIBBg2rRpLF26lMMOO4yzzz6bN954g1NPPZW99tqLo48+mnXr1ik/0ObmZt5++222b99Oc3OzqgzldrtxOBzK+ipLsUo/UavVqoLPZBlaaZF2OBy0t7dz0kknkUgkeOCBB3j88cdpbGzkoYceYtmyZdhsNi6++GJ27tzJhRdeyOTJk9m+fTtXXXUVnZ2ddHd3M3XqVDKZDPfeey9Lly7F7XYzd+5curu7aWhooFgs4vF4qK2tVYFUkUhElbbVaDS7H+2jqtFoNLsJmV81nU5Xldbs7+9XEfnxeFxZXeX3w+EwxWIRm81GTU0NkUiEQqFAY2OjspQKIWhvb+e9997jvPPOY/z48SSTSU4//XRMJhMejwer1Uo+n8dsNqul7b333ptMJkN/f78Kbho7dizjxo0jm81is9lobW3FYDAwadIkuru7aWpqYsuWLWzfvp10Os3ee+9NMpmkubmZUqnE5MmTMZlMNDQ0MHnyZNatW8euXbvI5XIEg0FWrlzJqaeeypQpU1Se13K5jNVqJRqNAp8s70tLpUxhZbVaVRlaaVEtFou88MILOBwO5s+frzIcPPzww1x++eX84he/4Oijj8Zut1NTU0NXVxd2u51gMEgmk8HlcrF8+XKKxSLz5s1TaayuueYaZs+ezf3338+1115LNptV5y2ZTGK321WmA41G889BC1WNRqPZTQwuSypfZzIZ3G43xWKR6667jmuvvVZVQ5IVn2Bgmfviiy/GZDJRLpdVkn273a6qVV199dXU19dz6KGHqs+y2Synn366Sh4vk8kXi0UymYzatvS/bG1tpVgsqgApmQQ/mUxiNpvxeDwkk0mGDRuG1+slGAyqZPUul4ve3l4ymQwejweDwcApp5zCt7/9bbq6upg4cSLr1q3jzTff5MEHH1S/k1WlrFYrHo9H5VI99dRTVf5Sj8ejcreazWYCgQD77LMPiUQCt9vNH//4R04++WR8Pp/KNmC1Wvn617/Oc889x5///GcOPfRQ1q1bp9oGA9H/bW1trFixgrPPPlsl1pd9MWbMGFKpFOFw+EtX+NJoNP93aKGq0Wg0uwmZwshsNqsyndI30u/38/3vf59p06bhdDpJJpMIIXA4HEQiEZ599lmcTifd3d00NzergJ/m5mbC4TB33303kUiEOXPmMGbMGEKhEIFAAIvFQn9/P7W1tSolFAwEdkn/ShmA1NLSwpYtW3A4HCqfaCwWIxgMYjablTVR+tRKn1FZeSuZTOL1enE6nSrbwPjx45k8eTJPPvkkJ5xwAh999JFyQ5AlV2X2g76+PpUhwGq18oMf/IDTTjsNs9lMX18fgUCA4cOH89Zbb3Hrrbfi8/nwer1s2LCBWCzG+PHjVf5YgC1btlBfX8/48eOVn++kSZMYNWoUq1evpq+vD7PZTCaTYdOmTSxYsIDrrrtOVQDbsWMHAJdccgk2m00VDZD5VfP5POFwWLlqaDSa3Y8WqhqNRrObkNY6GRSVy+WoVCqUSiXC4TCTJ0/mxBNPBFB+mBaLhVgsxssvv0xPTw+BQAAY8MuU4uvGG2/kww8/ZObMmUycOJFisUhdXR2lUonFixdz0UUX4XA4lDCTvq+HHXYYV111FWPHjmXChAnMmzeP8ePHK/cCn8+Hy+UimUySy+XYuHEj++23HzabTSXHl5WerFarqiAlrasyw8HUqVN57bXX6Ojo4LXXXuOggw4iGAxiNBqVxdRisdDQ0AAMRNl3d3dz5plnctRRR2EwGIjH4xSLRQKBAGazmbvvvlv5qJrNZvx+P9FoVAU8eb1ehg4dSiAQYN26dXR3d6vE/Z2dndjtdrW/YcOGEY1Gueqqq9h7773J5XJMmDCB7u5ufD4fwWBQWbhlAJys3OX3+1X1Le2nqtHsfrRQ1Wg0mt2E0WhUS+8Su92ulpRlEn4paE0mE+l0GrPZrGpeS6uo1WrFarXy+9//ni1btvA///M/zJw5k0KhQCwWo6GhAaPRyDHHHMOzzz6rltml60E2m6WhoYEDDjgAGMglarPZ2LZtG0IIcrkcfr9f5XBdu3YtTz75JDfffDNjx46lUqkghCAWi+H1eqlUKtTV1VEsFlU5Up/Ph8/n46CDDuKOO+5gyZIlrFq1ijlz5uDz+ZTlUgrVfD6PEIJEIkGhUKC2tpZwOEwgEMDr9ZJMJtm5cydOp5MxY8aodFZms5lyuayEuxSMvb29vPfeewwbNozW1lYl7kulEj6fTxULyOVyjB8/nlGjRnHOOedUnTPpt2u1WlXQlMPhUPuTPrS5XE4LVY3mn4CO+tdoNJrdhEwFValUyGQyKkl8pVKhsbFR1YZ3Op1KVMrof4fDwd57761KgPb09LBkyRLmzJnDd7/7XU4//XSi0Sg9PT3KUphOpwkEAhx77LG0trZy7LHHcuSRR3L00Udz0kknsf/++wMDVZdGjBjBkCFDeOSRR1Qu1Gw2SzabpVAocOedd6rsBBaLRZU0zefzOJ1O8vk8+XxeLd3LZPkGg4Fx48bR0tLC448/TjabZcqUKZjNZorFovJRlemoDAYDDoeDhoYGmpqa8Hg8AKpcrHRnMBqNqj+bmpo45phj+P3vf6/aFQqFGD58OKtWrcLn8zF58mQlho1GIx6PB6PRqPYzZswYbrnlFrZs2QIM5KwNh8P09/fjcDhoa2ujUCioY5M+s1Is66AqjeafgxaqGo1Gs5sxGo2YzWa1rL5hwwYSiQSJREKV/Mzn88o1oL+/n56eHpYtW0ZzczOZTIb29nYefPBBVQygv7+f7u5u2tvbWblyJStWrMBqtaqcoyNHjsRsNmO1WqlUKlQqFYrFoippKqPx33nnHY488kiWLl3Khx9+yG233cYNN9yAw+Fg1qxZKvBLBj8JITAYDJhMJhobG3njjTf41a9+xdatW1W7rFYrV199NevXr2fKlCnU19dTLperfHalr6rNZiORSBCLxdi+fbuyAMvypk6nk127drFmzRplmXY6nVxwwQV0dXUxc+ZMFi9ezLvvvsuFF17Io48+ylVXXYXJZFKlVl0uF6tXr+bBBx9UbgBnnnkmwWCQs88+m3nz5lGpVFi4cCEHH3wwzz77LKNHj8ZoNNLX18df/vIXIpEIdXV12Gw2otGorkql0fyT0Ev/Go1Gs5vIZDLYbDaAquj/fD7PpEmTmDx5MoVCAZvNRrlcRgiB2WymUqlw4IEH0t7eDsD69etZt24db7zxBiNGjOC///u/q/bj8/n4wQ9+wFFHHYXRaGTnzp0MGzaMjo4O6urqqlJjAcp3c8uWLbz++us899xzXHjhhUSjUQ4//HCOOeYYpk6dysiRI8lkMoTDYUaPHo3P51PCOpvNctZZZ/Hqq6+yYMECGhsbGTt2LC0tLUQiERUwNn36dGCgKpcMQJIZEAqFAn19fRSLRfbdd98qtwi/3093dzc1NTXYbDa+9rWv0draSnd3N16vl9raWl544QXmzp3LFVdcQaFQ4Oyzz+aBBx7guOOOo6+vj4aGBurq6pg+fTobN27kvvvuIxQKMWvWLL72ta/x1FNP8bvf/Y7bb7+dn/3sZxx88MH8+te/5tRTT2XXrl3U1dUxadIkOjs7yWazwICvcKFQUEJbo9HsXgyVSkUYDAbK5TLwie+P0WjUtYw1Go3mHyCj6KXwMhgMKsH/4NRGpVKJ3t5eWlpa1HvhcFgt+QPKWiiDrXK5HB6Ph7a2NsaMGQNAJBJRbgGDg3k6OjpU/Xmv16uqTMmldflbmfz/0xQKBbWMX6lUSKfTagk+nU7jcrkolUq0t7czZMgQ7Ha7mh/kb/P5vCrVGg6H2bJlC1dffTXz58/H7/erlFMyJ6pcxpfH0dvbS319PUajkd7eXoLBILFYDIfDoayu0m/U7/erOUsWP+jt7cViseD3+wFU1a9MJoPP56sSmuFwWKXGAtiwYQNjx45V5yASieD3+8nlcmobdXV1ZDIZHA6HysWq0Wi+PHIMkas00ne9VCphsVjU+KqFqkaj0XxJvqhQ/U8ll8thNptVmdZ8Pk9NTQ19fX089dRTZDIZpk2bxsSJE5Ul1mazIYRACKGszBqN5qvHFxWqet1Co9FoNF8Ku91OV1cXTqcTn8+H3W5n2bJlPPHEE7z++us89thjDB06FBgwgkhhKt0ctFDVaDSfhxaqGo1Go/nSyPyoAO+99x6vv/46Xq+Xm2++mYMOOki5GkirCVAVWKXRaDT/CD1SaDQajeZLkc1mq4KL9ttvP1paWshms4wcOVIJ2EKhoALFZGED7Vam0Wi+CFqoajQajeZLkU6nVdUrmbKqubmZYrEIfGJFHWxNLZVKyvdMo9FoPg/tIKTRaDSaL4XP5wNQeVqTySTd3d0qyX6pVAIGAqhklP9XIchMo9H836EtqhqNRqP5UpjNZnp6egBobGzEZrOpCk4yWb9ERvIOLier0Wg0n4e2qGo0Go3mS1EsFmloaKCxsRGA9vZ2ent7MRgMuN1ulfawXC6Ty+XU72Q5VY1Go/k8dB5VjUaj+ZJ81fOoajQazZfli+ZR1RZVjUaj0Wg0Gs0eiRaqGo1Go9FoNJo9Ei1UNRqNRqPRaDR7JFqoajQajUaj0Wj2SLRQ1Wg0Go1Go9HskWihqtFoNBqNRqPZI9FCVaPRaDQajUazR2LM5XJUKhVKpRKVSgWbzUa5XKZUKukcqhqNRvM5ZLNZlQsQwOv1UigU/sWt0mg0mj2bUqmkcqiWSiUikQgwkM9/cAU7o8ViUcn9LRYLhUJB1WTWaDQazd/HYDBgsVgIh8MYjQMLVIlEQj/kazQazRcgHo8Tj8cxm80Eg0EAkslk1cO+uVKpACirqslkolKpkEwmqa2t/Zc0XKPRaP4d6OnpobGxEbfbTSwWU1X9zGYzbW1tjB49+l/dRI1Go9kjKZfL+Hw+ADKZDKlUilwuh8lkYtiwYep7BiGEyGazOBwOAFwuF+l0umpDGo1Go/ksJpOJcrlMPB7H7/cDYDQaKRQKlMtlzGbzv7iFGo1Gs2cSDodpaGggFothMBioqakBBtyp/H4/2WwWALN802g0YrPZyGQyxGIxfD4f27ZtY8SIEf+6o9BoNJo9mK6uLuLxOBMmTCAUChEIBBBCIITAZrMhV6w0Go1GU01DQwMw4JMqY6NisZjSoBJze3s7I0aMoFgsYjAYGDJkCC0tLWQyGSZOnMhHH330rzoGjUaj2aNpaGhg2LBhrF69mhEjRtDe3g5Aa2sr27ZtU36rGo1Go6mmUqlgMBiw2+3U1tbS19dHqVTiyCOPpKenR33PIP4aqprJZDAajdTW1pJMJkmlUphMJux2+7/sIDQajWZPJpFIEIvFGD16tHL+HzZsGB9//DE+n49isfgvbqFGo9HsmVgsFuLxOEIINV6Gw2EAJk+erMSqoVQqCZPJRG9vL8FgUPlcpVIp3G73v/IYNBqN5t+CdDqNy+VSwQE7duxQPqsajUaj+SzJZBKPxwNAsVgkHo8TCASAgYwqMuWfoVKpCIPBoIKmpK+ATFml06xoNBrN30YOpJVKBaPRiMFgwGAwqCUtjUaj0fxtpMaUuVSLxSIWi4VSqYTFYlHjq3ag0mg0Go1Go9HskWihqtFoNBqNRqPZI9FCVaPRaDQajUazR6KFqkaj0Wg0Go1mj0QLVY1Go9FoNBrNHokWqhqNRqPRaDSaPRItVDUajUaj0Wg0eySfK1SFEKRSKUqlEqlUSuVbTaVSwED+wHw+r76fTqfJZrPqs79HqVRSvyuVSsTjcVXFpVKpkE6n1f4rlQqFQoF8Pl+1zVKpBAxU1SoUCiSTSfVZPB5Xn1UqFUqlEul0Wv0GUO2U+5CUy2XK5TJCCAqFAoVCQR233G+xWKw69vb2drW9we0AyOVyJJNJyuUyuVyOXC6n9gMQi8XUe+l0Wm0zFoupbWQyGWAgKW5XV9ff7VeNRrPnkM/niUajVe9lMhk1PvX391MoFMhms+q+L5fLJBKJqnEpl8tRLBbVuBiPx9WYIfczmFgshhBCvZ9KpYhEIupzOQ7KalqDSSaTqjpMNptV35Hjm2y7PK5QKKTaINuXTqdVDkRJpVJR458c++Q2garvJxIJkskk+Xy+ahyUv5P7kccm+wigt7cXGBgr5ZwyePzOZrNUKhX1mRCCYrGoao3ncrmquaZcLn+mwlihUCCTyah2FAoFSqXSZ/pkMIlEQn1Xzi+fPofJZLJqLho8l/T396vjksczeD6T89zg4xzcb3LOGkypVCKbzVIsFsnn81W/CYfDCCFIJBIUi8Wqz7q6uqrOVywWU+dBCKHOmZy3y+UymUym6l4YfGyDr035WTqdVv0jr7lUKqX0yKd/K8+R3Lf8jjy/cpsS+Vq2W/avrIY0WEMUCgW13cGlPQdfR/Kch0Ihdf9IrVAoFNR5q1Qq6lpLp9NqbpfI/X6afD6v2irb9VXhc4WqwWAgnU5jNptxu91q0HK73aRSKYxGo7oQAFwuFw6Hg0KhQHd3N/CJEKxUKgghEEJgNBoxm83kcjnMZjM1NTVkMhny+TxGoxGn00mhUFAJtJPJJDabTdXOlgN5NBrF6XRitVpVhYNKpYLFYiGfz+N0OtW+XC4XlUqFjo4OYrEYDoeDTCaDwWDAaDRW3YxGo5FSqYTVasVqtZLP5+nq6iKRSGA2m7FYLCSTSXXRjhgxgnQ6TU9PDxaLBRi40ZPJJHa7HY/Ho0rSWiwWMpkMXV1ddHZ24nK5VKnacrmMzWZTbejr6wPA6XQSjUapVCo0NzcDqM80Gs2eic1mU+OhFGk2m02NVfX19VitViwWi5o4TSYTHo9HjUttbW0UCgUsFgs7d+4kHo9TU1OD2Wxmy5YtVCoVNWZs376dRCKhShPK991uN36/XwmsUqlEMplUY1U8Hqezs5N8Po/H48Hv91MsFnE4HORyOSqVihovZTtdLhfRaFQVNrDZbEpkp1Ip9X40GqWvrw+j0YjdbsdmsymxarValaAulUqUy2XVbo/HU9VXb7zxhupXh8NBOp2mUCjgdruJRqP09vaSyWQIBoMqYbjFYqFQKBCNRimVSsroYTAYsFgshMNh8vk8QghKpRJms1m1UYoqWSFnsEC0Wq04nU5cLpf622w2YzabAarmOikCM5kMoVCIWCymhIvdbiebzZJIJNSxGo1GJR49Hg9CiKpzCQNzi5yrpAgtFotVRSbknJJKpcjlclgsFrXtWCxGuVzGbDarZOs2m031FUBdXR0GgwG3263mcHmOAoEABoNBiTufz6euJTlnx2IxrFYrmUyGVCqF0+mktrYWQF1Tvb29lEolHA4HyWRSiT2j0agqvcGAiOzp6cHtdquKmfI6rKmpUX+XSiV1vfT397Nr1y51ru12uxLXvb292O12pTnkMRSLRRobG+no6MDr9apza7XjJaqwAAAgAElEQVRacbvdxONxnE4nADt37qRUKmE0Gunu7iYQCNDf308gEKCuro5sNqu0grzHTSaTErf5fB6Xy6W2Fw6HKRQKCCHUfRSNRpUwt9ls6ruyj74yVCoVIYQQpVJJlEolAYhyuVz1nhBClMtl9fdvfvMb8Z3vfEd0d3eLVCol0um0SKfTIhaLif7+fpFKpYSkXC5X/bZUKqntSyqVishkMiKVSolMJiMymYz6zscffyyKxaL6bkdHh8hkMiIej6v38vm86O3tFR999JEQQohIJCKEEKptuVxOJJNJEQ6Hq7YliUajVdvr7e1V2+jp6RHRaFTIfhJCqOMVQohEIiHK5bLo6OgQN954o7j22mtFX1+fiMVi4oEHHhBnnXWW2Lhxo8jn8yIUColoNKq2PZh8Pq9eZzIZ1e+Snp4eMWvWLHHBBReItra2z/xeo9H886lUKqJSqYhSqaTGCKBqvJDjWzweF8lkUgghRKFQEBs2bBBCCLFmzRr13U2bNonnn39enHjiicLn84mlS5eKrq6uqjFZkkgkqtrS398vjjzySHHJJZdUvb9r1y6xbds20d/fL8LhsHq/UCiIUCgkstls1Xb7+/tFf3+/+o5s/5o1a8QZZ5whrr32WjX+CTEwxsfjcdHT06OOO5fLCSGE6OzsrNpfNBoVhUJB/U5+P51Oi97e3qo+6+rqErlcTiQSCfHuu++K8ePHi7Vr16ptxmIxUS6X1ZgeiUTEt7/9bfHQQw+p8byvr0+kUilRLBarxv5KpSJ6enrEp0kkEqKzs1NEo9HPfJbNZkUikRDxeFwkEgmRSCRELpcT/f396phCoZAQQoh4PC7K5bKIxWJV8+Fgkslk1TGXSiURjUZFKpUSpVJJFItF0dHRoT7P5/MiFosJIUTVsXz62AYjz2s+nxe7du2qOh8S2T+DyefzYseOHVXfTyaT6jiFEOKDDz5Qr+PxuIjH46JYLKr+EUKIcDis2pDL5URvb29V38prK5FIiGg0KkKhkPjoo4/EGWecIW666SbR09Mj0um0uOuuu8SFF14o2traRKFQENlsVmSzWZFOp0VXV5coFotV19JgCoWCuu+EEGLbtm3i5JNPFnfddZcol8vqWpfnYvHixeL555+vmuPldSS3L38jhBBbt24V9913n+jt7RXpdFoUi0V1/Wez2aq2lctlUSgURD6fV33c29sryuXyZ6452ebB2qSjo0Pdw4OP6d8VeW3I/pHXV7FYFID63hda+v+roKVUKmEymYjFYnR3d2O1WqueCJxOJ4FAAJfLRSaTob+/H6PRiNFoxGQyqSdTMWjJQFodHQ6HssY6HA6MRiOxWIzx48djNpsJhUIUCgVMJhMOhwOn04kQgmQyicFgoKGhgQkTJgCopzTZtnK5jMFgwO/3q21JS6gQAp/Ph9frJZvNks1maWhooLa2llwuRzAYxOfzkclkyGQyqsSXyWQim83i8XjUMtGGDRtYt24dNTU1WCwWdu3aRTgcVlYTp9OJz+ejtraWdDpNR0eHsjoPtp46HA5SqRRbt25VT3vBYFCdh7q6OtLptFpK0mg0eyZy+dFgMCirGwyMey+++CJnnnkm+++/Px0dHcCAVfL8889n33335ZFHHmHIkCE0NTVRKpWIxWIkEgn6+/vV2BOJRCgUCuzcuRO3282ECROoq6ujUCiQSqUoFosMGTKEkSNHEggE8Pv9pNNp0um0GkukVU+uigUCAbViZLFYlGV32LBhFItF/H4/FouFYrGoLJJOp5P6+noMBgP5fJ6+vj7i8TjNzc0UCgXi8TgWiwWfzwcMLFsajUa1ROp0Oqmrq1Mrb+l0GqfTicFgwOPxEIvF2LRpkxp/YcCSFg6H2b59u7L09ff3EwqFVD8LIbDb7ZjNZkwmE6FQiFQqRT6fV2NqNpslEomQSCRwOp00NzerdiYSCTKZjLJeulwuvF4vHo9HWXydTqdqk7Rier1ejEYjNTU1VCoVQqEQxWKRSCSirIR2u52GhgZisRhdXV2YTCZ8Ph9Go5FUKoXZbKa+vh4YWN4WQmC1WoGBUufSEiz/HnzNyTmpUqmQTCYxmUwMGTKE5uZmksmkWsaOxWKqfwqFgpqDrFYrw4YNo7m5GSEE2WwWt9tNuVxm69atlMtlJk+erKyDNpsNr9eL2WzG6/UqTeD3+zGZTMoi2NDQgM/nIx6P09PTQzabJZPJ4PF48Pl81NXVUSqV2LhxI+PGjcPv9+N0Ount7eXtt9/GarUqS7DdbsfpdNLQ0FB1zzmdTvL5PNu3byeTyWCxWLDZbMr6O3LkSCKRCNu2bcNoNBIIBFQJ5LVr1zJv3jxsNpu6L0qlEvX19ezcuZOLL76Yv/zlLwQCAaUhKpUKPT093HnnnTgcDsxmMzt27FD3vewj6VIi9YjZbGbYsGE0NDRgNBrJ5XLK6g4DqyDhcBiv10skEqG9vZ2Wlhb8fj+dnZ3KsvxV4HOFqhR2ZrMZm82GEILZs2ezbNkyamtrlZ+JXFIQf11CAdRNpnb2V9E6WKzW1dUpE3t/fz9tbW3KjyadTtPZ2cmOHTvI5/NYrVYaGxspl8tEIhE1iMnlHXkhejweNehms1nlcyr9XQKBAPX19WrZP5PJEIlElBDP5/Nq+WrLli1K9BqNRrUEJ5f0EokE2WyWoUOHMmrUKBwOh1oq8Hg8lEol3G43+Xye7u5u5XPlcrnUJAQDvjxykJP9PmbMGIxGI/39/fT19Sk3gpqaGjVgajSaPRfpDylFhlyalZPx8OHD2b59O3a7nb6+PhYvXsxRRx3FmWeeyWmnncakSZOoVCpYrVZ8Ph9ut5v6+nra29sZOnQoy5cvx2q14nA42LVrl1qK7Ovrw+12qzEvmUwqsSP9BW02mxKKbrebnp4eNYbW1NTg8XhIJpN0dXWRzWapr6+nWCzS29urRKwUuoN9Om02G0OHDqWmpob+/n7l2lUoFEin05hMJmVACAQCZDIZuru7yeVyGI1G8vk8BoOBmpoa1X659OpyuVS7isUi9fX1jB07Vi2jv/jii1x55ZUYjUYymQwNDQ10dnbS09NDpVIhEAgoARCLxejt7cXhcOD3+3G5XGp/uVyOjRs3KtHlcDiw2+1Vy63SR1D6m0rhJYQgnU4rweFwOJT49/l86kFB/NX/Uwo4OS/KMV4etxRLNptNifju7m4lAOXSv5x7pUuFFLxutxuTyUQ6nVYuBPJ8+Hw+NRfLa0z6VEohJn1FS6USdrudMWPGYDKZCIfDalndZrMRiUSUf7DJZFK/l+4E8vooFApqLnc6ndhsNnp7e+nu7qavrw+bzabc7qQAr6mpIRAIMGTIEEqlkrpuN2/ejMlkwmw2U6lU2LZtmxLOw4cPVz64pVJJ+YTKh7JJkyYpN4e2tjYAfve73zF16lRaW1sxGo3YbDbefPNNvv71r7PPPvvw7LPPqn4PBoOk02nGjh3LSSedxPr163n00UeBAe0jXXLkuZAPfCaTSV1H+Xxe+QLX19fjdDqpVCrqwcjpdJJOp3G5XIwYMUKdD9lnXxW+kJODfIoD1BNzd3e38msB1FOCfFKQAQOfdkKXA/Vgq2pnZ6d6ahk9ejThcJhisUhLSwvBYJDhw4fT0tJCPp8nHo8jhKChoYFcLkdHRweZTKbKR7WlpQWDwUAqlcLhcODxeNTTnrwZKpVKlb+HxWLB4/FgtVqx2WzKp2Xs2LGYTCYlJF0uF8lkUgl0eSGWy+Wq4DDZVtkvNpuNUaNGYbPZ1FNWuVxWx+p0OpXwHOxgb7FYqK+vp6GhQVkn2tvb1Y2q0Wj2XKQlTwpIaU2TPqbJZJJhw4YRCATwer18/PHHGI1G9tprLxVoJVeXotGostxJa0woFCISiVBfX8+wYcN466238Hg8DBkyhHK5rMZEg8GAy+XCYDBUWbzq6uoQQpDJZBg6dCj19fXqoV/6+0kLYzQaJZFIUF9fj8fjUdY3uW2z2Uw8HmfHjh0Ui0USiYTyuQRUrID0/4/FYmrsa2pqUqLE4XBgMpmIx+OYTCZgQGibzWa1SmexWCiXy+zcuVNN3NLnFAaslXKuqampobGxkf7+frWCVVNTg8/nIxgMKsNEpVLB5XIpUThhwgT6+vrUOSuXyyqYJx6Pk0wm1cOBwWCgsbFRCe9MJkMgEFAxDTDg0yiNNS6XC4vFolYRpUVTBjylUik6OjqUQWaw1dDlctHU1ES5XFYiEVACf/Ac4/P5MBgMKqjJbDarByY5N/f391cFrEnf0sbGRnXctbW1GI1G2tvbyeVyygAkhCAcDlMul/H7/QSDQRKJBOVyWfl6Wq1WZZGUPs3ZbFZdu1arlYaGBpqamvD7/QwZMgSLxcLGjRsplUoqmEn60A7WHePGjVPxIwaDgWAwqO4Ro9GIx+Mhk8lUPYzAwLy6fv161e9Dhw7l0UcfJZVKcdlll9Hc3Ew2m+Xee+9l9uzZjBkzhiVLljB27Fg2b95MX1+fMmBVKhUmT57M+eefzz333ENnZyd2u73KJ3rwuZKrEdFoVJ2rbDar5n2fz4fD4aBcLuNwOJS1Fwb8jV0uF4FAgEAg8KXGpH9HPleoFgoFvF5vVbT6nDlzOO+880ilUmr5ef369cyaNUsNupdffjm9vb1q6eTzkDfzokWLOOOMMxg9ejRNTU3ceeed/PGPf1Rtqamp4e233+bKK68kGAwyffp0rrjiCjZv3ozdbicUCtHW1sbFF1/MnDlzeP755zn00EMxGAycddZZdHZ24vF4lEN5qVRi8+bN/PSnP1XuBz/60Y+UaV0+TUajUZ544gkOPvhgamtrmTFjBn/605+w2WwqsEwub8nALSEEZrNZBU1JnnzySc4880zq6uqYOXMmS5YsUU/ZMmhs5cqVnHDCCRgMBg455BBuvfVWOjo6aG5uJhgMqmPQaDR7LnJckxON+GtwjVx5kZPY2rVr2X///Vm6dCnPP/88drudCy64QFlNpMtQKpVi0qRJjBs3jpUrV3LLLbfwrW99ixdeeAFABaAsWbKEI444gsbGRvbff38WL16sxF0qlUIIwccff8zpp59Oa2sr48aN45JLLmHHjh1KWMjlZWld27ZtG4FAgHw+z7PPPsvMmTNxu90cccQRPPbYYwBqCddisRCNRrn00ksJBoO4XC6uuOIKtmzZQjwex2g0UldXh8lkoqOjg7vuuouDDz4Yt9vNgQceyOOPP65WjuRxmUwmZS202+1s2rSJyy+/nN/+9rd0d3fT2dnJySefzD333AMMCN7vf//73H333axYsYLbb7+dI444gkMPPZS5c+cCKAue1+vlpZde4pBDDsFqtXLCCSfw9NNPc+WVV/LYY48p8W2xWHA4HNTU1BAMBrn55pt58skn6ejoIBwO09/fz9y5c5kzZw5dXV14vV7y+TyvvPIK3//+93nttdcIh8MkEgneffddZs2aRX19PRaLhUsuuYQNGzaQTqexWq0MGTIEv9/PU089xZFHHonNZmP//ffn5ptv/kxwlZx3pLDfuHEj8+fPZ/LkydjtdiZPnszSpUuVK0A0GsXlcrFs2TIuvfRSRo4cyYQJE7jtttvUfB2JROjs7OTCCy/k1ltv5fHHH+dHP/oRLS0tHH744YTDYSqVCiaTST1YzJs3j+nTp7P33nszfPhwXnnlFRWpXl9fr67hefPmcfzxx3PEEUdw5ZVXsmLFCmAgqG/Tpk1YLBb22msvFQAmxalst3xwuv322znuuOMYN24cM2fO5MUXX1R9EgqFqFQqrFixgosvvpja2lpaW1u57777mDRpkppH5TWwYMECjj/+eLVymkwmmTFjBsuXL+emm27C6XRSLBY56KCDaGpqUoI4FouRz+eZPn06BoOBp59+Wq28ymCtwWKzr6+PlStXsmjRIux2OwceeCCXX345y5YtAwYMg/39/Tz88MPss88+zJ8/n5kzZ3LSSScRCoXI5XKsXr1aneuvAl8o6h9QFkb5lOBwOIjH4wQCAd555x3mzZtHuVzmvvvu44knnqBYLHLCCScooTc4Fcjg7eZyOVpaWqhUKjz66KP89re/Zb/99uPhhx/mgQce4KWXXuKpp56ip6cHm83G+++/z6xZswiHw7z88sv86Ec/YuPGjcyZM0cNpCNGjGDNmjW89dZbLFiwgJ///Of8/ve/JxKJ8OMf/5j3339f+Rm98MIL/PjHP2bnzp28+uqrvPjii2zatInZs2ezbds2XC4XqVSKxYsXs2jRIqZOncq7777L8ccfz2mnncbixYtJp9PqKV+mwQCUpbW5uZmWlhYymQwPPfQQDz74IOPHj+eZZ57hsMMO49577+WWW25Ry1pLlixhwYIFlEolXnvtNc4//3w+/vhjFi1axPr166syEWg0mj0XOd7JSc1kMpHL5VQWAJfLRSQSYdKkSaxcuZJvfetb7L///mzdupWHH36Y4cOHAwOWlJ6eHhwOBytXrqSzs5Px48dz+eWXs2jRIk455RTl67dkyRLuuusubrjhBh544AFMJhPLly/nww8/JB6P43a76ejoYMaMGbS0tHD33Xdzxx130Nvby0033cTatWsBlHtALpdTgrdYLHL99dezYsUKzj//fJ588knq6up48MEHWbZsGcVikZqaGlatWsWUKVPI5XI8/PDDPPnkk+zatYuf//znbNiwAaPRSCQSIZ/Pc/vtt/PMM89w0UUXsXz5co488kgWLlzI9ddfr1IXSqEqrdBbt27lpptuoqWlhf/6r/+ipaVFjdV1dXUq00BtbS233347c+fOZfLkydx0002MHz+eFStW8Morr9DQ0EClUuGRRx7hlltuYcSIESxfvpwLL7yQefPmsXz5ctrb29XSv7TqJRIJYrEYu3btIpfLqUhvp9PJa6+9xksvvUQikVB+pPF4nPb2dlpbWxk+fDhr1qxhxowZFItFnn76af7whz/Q19fHbbfdRm9vL1arlUgkwk9/+lPuv/9+TjrpJN566y2uuOIKFixYwI033kg8HlcPHfDJnBoKhXjxxRe57bbb+OlPf8rzzz/PjBkzeOihh7j11ltVrMT999/PRRddxMEHH8wrr7zCOeecwx//+EfuvfdeduzYgd/vx+/3s2nTJl544QXefPNNpk2bxnPPPUdzczPTp09n3bp1+Hw+KpUK99xzD48++iiHHnoov/3tb7nhhhv4xS9+wbx58+jr68PlcrF161Yuu+wy3n77ba6++mp+8pOfEA6HufPOO9m+fTu1tbV4vd4qS20ymVRuedI1pbe3lwULFvDcc8/xv//7vyxcuJDa2lp+8YtfsHDhQuVW8tZbb6n5/emnn+aOO+7g5ZdfZv78+VWWX2l02muvvdS+GxoacDqd2O12/H4/ra2tdHZ2KncBeQ1IP1whBAcffDAdHR3U1NSQSCRwu914PB4cDgcwIMQ/+OADFi5cyK9//WteffVVLr/8cnK5HPPmzeOxxx4jlUpRW1tLMBikvb2dBx54AKvVyoknnkg4HMZut3PQQQep1YGvBJ8X9S/JZDLq9TXXXCOmTp1aFSU3ceJEsX37diGEEF1dXSIUCokTTzxR/OY3v1ERgOl0uiqTgCQajYpEIiFmzJghLrnkEhVtl81mxbZt28RRRx0l5s2bJzZt2iTuuecece2111ZFzi9btkwccMAB4qmnnlKRcDNnzhSHHHKIiEQiIpvNCiEGImr3339/cf/996sou1mzZonvfe97or29XW2vvb1d7LXXXmLRokUiGo2KhQsXipNPPlm8+uqrKiqtq6tL3H777eKCCy4QmzdvFtlsVlx22WXi3HPPFeFwWORyOfHLX/5SHH744SIWi4lisSg6OzvFhAkTxKJFi6oiQR966CFx0EEHiUgkIvL5vJg1a1bV74QYiPCbOXOmuOCCC9TvPt2PGo3mn8vnRf0PjmqV93IulxO5XE5cdNFF4gc/+EHVWHDjjTeKk046qSqqWAihIoXlWPbhhx+KffbZRyxdulSUSiURDodFNpsVJ554ojjttNNEe3u7GkfXrl0rRo8eLZYuXSpCoZCIxWLirLPOEpdddlnV9j/44ANxyCGHiPnz54tisagykcgsLF1dXeLkk08W3/nOd8SuXbvUcaVSKTF16lRxxRVXiGw2KzZt2iQuuugicfnll4t8Pq/G5L6+PnHqqaeK7373u2q/K1euFHvvvbd4/fXXVXRzIpEQ9913nxg3bpx49913hRBC/OEPfxCjR48WL730kgiHw+Kss84SM2bMUHNLd3e3aG9vFwceeKB45JFHRKFQELlcTpx//vnihBNOEG1tbSKRSIhCoSDa29vFiSeeKK6//nqVbeb8888X5557rhBiIMNKd3e3iMfj4qSTThI/+clPRLFYVBlryuWy6pN7771XHHDAAeq8vP766+KAAw4Q++23n1iwYIEoFAoik8mIb3/72+Laa69V/XndddeJSy+9tCrq/8MPPxSAePPNN4UQAxHz3/jGN8Qll1yizsWWLVvETTfdJI488kixbdu2qmhpOSd2dnYKq9UqFi5cqOarcDgslixZIo444gixdetWEQqFxPe+9z0xf/78qkj+p59+WgwfPlxF9CeTSXHwwQeLGTNmiI6ODpXVYP369WLo0KHikUceEUIIsXnzZjF8+HDxwgsvCCGEimC/6667xLRp08T7778v+vr6xP333y9OP/10sW3bNrX97u5u8Y1vfEPceeedIplMirffflscffTR4u6771b30Jw5c8Qpp5wiPvzwQxEKhcS2bdvEPvvsI95//32VCSEcDovrr79eTJw4UV1v55xzjrjgggtUpHwoFBKpVEpMnjxZ/OxnPxNCDETi33LLLeKb3/ym2LFjh+pPGa0v/9+8ebOYPHmyWL58ufqd1Ery3n7iiSfEwQcfLP785z+rPpVR/UIMRPBff/314pRTThG7du1S7xcKBXHyySeLiy++WGQyGZHL5cRjjz0mvF6vePnll1V/yv3k8/nPZE/6d+T/LOr/89i6dSsOhwO3282iRYuAARO/EIIlS5Zw5JFHKj8pGS0vk93KoCufz0cymeTtt99mv/32w+l0Ksuty+Xi/vvv59hjj2XcuHFMnz6d6667Dp/PRyqVUrnKpA+T2+1m9erVfPDBB/zwhz+s8lUym814PB7sdjuFQoFQKMRTTz3F2WefzfDhw0kmk/T19TF8+HAeffRRWltb8fl8tLe3YzKZVF4+GLBwNDc3s27dOlKplArCktkFbDYb7e3t6tjT6TRvvPEGdXV1BINB5UMbj8c59thjWbduHUuWLCGTyfD+++8zbdo09bkMMpAO9j09PeRyuc8k1NZoNP9ZhEIhstmsyhogxx8YsM7u2LEDk8lETU0NyWQSq9XKPvvsw/Dhw3E6nWSzWfbbbz9GjRpFW1ubyqiyZcsWmpub6enpUf6JNTU1jBo1ing8TiKRUDkwpZ9dLBbDbDYzatQo5dspc08fffTRPPPMM5hMJsaMGcP8+fOZOHGiWlWS2z/rrLPo7u5m8+bNJBIJHnvsMVwuF4cffjher5f169fj8Xi48MILKZfLrFq1ikgkwvjx42lra8Pr9XLNNdfQ39/Pddddh9VqJRqN0tjYSCaTqcpzHYvFVOCQ1+tV/oFerxev16vaFo1Gef755znkkEPo6ekhGAyqJfuhQ4eqbDHwSUAwDCSYb21tpVgssmnTJrLZLB9++CFHHXUUJ5xwAuvWrcNisajCMbK/zWYzs2fP5s4776ShoUFFwEejUb73ve+p2AvpU2kwGNi1axfr169nzJgx/OxnP+NPf/oT9fX1Kjm8xWJRLmivvPIKhx12GCeeeCLbtm0DBqLv5TJ7NpvF4XDwwAMPcNZZZyGEUNY5OQ/u2LFD5Tv3eDwEg0Hq6+tVpHldXR3Dhg3D5XKRzWZZunQpdXV1tLa2AgOWw3g8zrnnnst1113HlClTqK+vZ/bs2Rx22GGMHDlSBVvV1NRQLpfp6OjA7XYzbNgw0uk048ePV37RO3bsoKamhtbWVurq6nj77bdxuVzU1taqIC2/38++++6L3W5n69at9PX1sWbNGg455BCVD1gGL8kVVRhY9YhEIrjd7qqA5i/CpwtnyBUS6SaZz+dVVL+0EK9atYqJEycyZMiQqsDxK664gueff55169YRj8cJBoP4/X4VOwOfFK6QgVlfFcyf/5V/zJgxY7DZbEyfPp1bbrmFX/3qV8yaNYtvfvObmM1mxo4dC6AS+QPqxpWDbl9fH9FolF27dqlIUekjJdNPbN68mWw2S1NTE3/4wx946qmnWLZsGaVSiebmZtra2tRS+EEHHcS+++7LsmXL+OY3v6kuIhlwJRNwRyIRwuGwStRbX1+Pw+Ggt7eXAw44QEVurl69mnfeeYczzzyTzs5O6urq1LJdc3OzmkBkJF44HKa2tpampiaVYqqhoYGOjg5Wr17N2WefrdwDZNLqkSNHMmXKFNVHkyZNwu/3qxsskUhUBULISEKNRvOfi1xyHpwtQLoPyGwm8IlLgRRi8ElVwZ07d+JyuRg1ahQAHR0drFmzhng8zh133KEio+UDd2trq/J/lH55FouFpqYmFZxSKBTUpBwIBDj66KNZvHgxmzZtUg/oI0eOpFgsKj9TOcZu2LCBcDjMiBEj6O/v54wzziAcDuNyuZg4cSIwEGD7jW98gw0bNuD3+1m2bBkej4cnnniCxYsXc8455zB69GhgwFhSW1tLJBJRGQVk38niCTJdFKCWY2Uy+9WrVyOE4JhjjqGxsZFoNPr/2Dvv8Cir9O9/p/dMZpJJI4US0kDpEESaqAiisIIUKeKiAnYXVwRF1p9reUVBxUVWpFgWLIjCUlXEQpEi0gkYSG+TZHpv9/tH9hwnuivsKtjO57pyMQlTnnme85xzn7t8by4NxQxNJqivUql4CoJUKkVeXh4SExNRWlqKpKQkHDx4EDfddBM0GpKJoeAAACAASURBVA0ef/xx1NbW4ujRoygtLcU999zDnRSxWAz79+/HK6+8gg8//JCnCFitVnTt2hWDBw+Gw+HAzJkz8eSTTyI3NxezZs1C165dMWTIEABAeno630TEO1FYahuTd/T5fNypMWLECD626urqsH79etTU1GDFihWora3l6WuskMrr9fJiOaZAALSspUzCUaPRIBwOIzExkV9rlrISCATQtm1bHD58GFqtFoMHD8arr76KP//5z9xAtVgsKCsrw3XXXQer1YpgMIiKigqcOHECl19+ObRaLdLS0njYXafTYd26dSgvL0e3bt1aVcAnJCTwZhU+nw+nTp1CUVERNBoNgsEgMjIyUFdXx5UQGFarlRcxsXsnvnnCf4KpEwQCAZ5SYbVa+f3J3sPn8yEQCMBgMODs2bMYO3Ysf47P54NarcagQYOQlJSEiooKdO/eHadPn0ZycjKMRiO/H5lhez7H9lviRxuqNTU10Gg0ePDBBzFkyBDYbDYsXboUzz//PPr164f/+7//wyWXXIJwOMzzOCUSCddVZZ1FTpw4AblcjsLCQq4PaDabUVtbi4yMDOTl5cHpdGLjxo1YsGAB7rvvPsyfPx85OTn44IMP8PTTT0MikXD9MrlcjjZt2gBAK49qvN6cVCqFxWLhmoLsOfFJ6iz3qLi4GOPGjUNKSgrPt5VKpTCbzWjXrh1KSkrQ2NiIdu3aISkpCdFolFe1NjY2IikpCVKpFB06dMDdd9+Ndu3aIRqNolOnTti4cSM6deqENm3aYO/evXC73aisrOQVf8xzwQxupirAPAcCgeC3CVv4gW/bNbJKYVYtDXzbqY9V3tfX1yMtLQ0WiwV1dXW8qri2tpYXZY4dOxadOnXiXhun0wmlUomcnBxIJBI0NTXBZDIhGo1y5QHWTjMSiYCIuCF78OBBKBQKXqRqNpvR1NTEPU5s7mXHwbr15ObmorS0FKFQCCkpKbDb7dygZN2kAKBjx45wu91oaGjAW2+9hWnTpmHkyJHo378/73YUDoeRkJDApQj1ej3C4TAvMmLOEiYPxFrXsmM7cOAA8vLyuDZqdXU1n+uZ/BHF5YPKZDKYzWYUFhaivLwc6enpsNvtKCoq4p/T1NSE6upqZGdno6CggK95CxYswD//+U8MHz4cn332GTdQJk2ahHbt2iEYDCIxMRGdO3fm+Z7Lli3Diy++iMceewyTJ0/Go48+yj+HGTtMvYbJogEtxiLzzoZCIa7runr1aixfvhxz587FJ598ApPJhL179+Kpp56CwWDgbVLZtWbnWKPRtGpf7vP5oNVquYQVGx9skwUAXbp0wfbt23HkyBF069YNy5cv5zroVqsVRUVFuOSSSxCJROByuZCfn881XBmsw5ZUKuVFd8OGDUOfPn24ioTFYoHf70deXh4vrGIOrIaGBq5gYTQaua3AzhHbhLDr+9/AzrVSqWxVj6NUKlFWVob09HS0adMG5eXlfBPEvKZ1dXVQq9U4cOAAl8xkG06mKvS/HtdvhR9tqLZp0wYul4vr9vXo0QNDhgzBli1b8OSTT+KLL75ARkYGEhIS+OBmVYLM4GK7WyaloVar4Xa7ebgkGAyiqqoKCQkJWLx4MQoLCzFmzBjuDr/88su58H5OTg7Ky8vx9ddfo0+fPq2OlUlyMA9BcnIy0tPT0dDQgOLiYt4SNjExEU1NTbDb7cjJyeEVuqNHj4ZGo+Ee03A4jPr6emi1WhQUFKBNmzawWq28/VpOTg5cLhdMJhPsdjvXyRs/fjxMJhMP69111138mHr27MnDdEDLDWA0GqHX6/nOlU28bMIXCAS/XdgmNT70z6q8WVtr9jubH9iGvKmpCSkpKTxtKDc3F5FIBEajEb1798b1118P4Nu+8BqNhnuTmBHKjA2m8NK2bVvuDWOi6E1NTVCpVMjNzUVGRgbuvvtumEwm3hrT5XIhNTUVdrsdhYWFXLOUpW9lZmZywyU7OxvNzc0oKSnBH//4Rxw6dAidOnWCxWLBZZddhoEDB+KBBx7A7bffjrfffhuXXnopiIh7kr1eL2w2Gzey2SLPUs5Y4QsTYWdpEgqFApFIhHtkMzMzeWMCVnXONgvx7Va7dOmCHTt2wOVy8c2B2+1G9+7dsXbtWgSDQQwePJhfE7/fj/Lyclx++eV49NFHuYGn0+l4YxutVouysjK0a9cOgUAAXbp0wWOPPQapVIrly5dj69at2Lt3L3r16gWZTAaVSsVF+Tt16oTdu3fDYrEgGAzCbDbDbrdzQ06v1+Prr7/Gli1bsGrVKu4cYsb8nj17cPLkSe7pjo/exUs/xWIxtGvXDpWVlbBYLFzWiyk+qFQquN1urg3bvXt3ZGdnY8iQISguLuaNIkpKSmAymXihmlqt5vJNOp0OJSUlCAaD0Ov1SE9Ph8vlQlFREU6cOIGZM2ciFAqhqqoKGRkZyMzM5NHHoqIiXvxcXFyM7OxsAEBVVRV8Ph969+6NWCwGiUQCk8nEIwXs+p+PUcjGFjsvbreba/Wyc2Yymfg9ZLPZkJOTgxMnTmD48OEIBoNcS728vBwOhwOdOnWC0+lEQkICQqEQt5viP+/3xk8SO543bx4ef/xxPhk2NTWha9euKCwshN/v52GJ+F7AAPggAYCCggIMGTIEDz74IEpLS7m49EcffYS7774bW7duRSgUQt++fXnuU319Pc6cOYOTJ0+itraWT6QpKSlITk7+niAum5zYDZWUlIRLL70UK1asQFNTE/R6PVQqFTZv3oxZs2ahuroakUgEXbt2RWNjIxYsWMB3mUxU+/Dhw4hEImhoaEB1dTVUKhUyMzORkJCAs2fPoqysDF6vF4mJiRg9ejTMZjOWLFmC8vJyJCcnIysrC6WlpTh8+DCAlgHft29fHDp0CDU1NVwi5vDhwzh8+DC8Xi/Pr4ofwAKB4LcHMxrje4UD4Eoqbrebh1/VajU8Hg/PwQyHw0hOToZKpYLVasXRo0dRX18Pg8GAbt264Z133sGBAwcAgKu4fP3111yVoKKigneoAoDCwkLIZDJs27YN+/fv53N3SUkJDh48iCuvvBIGgwF6vR7XX389/vGPf6CsrIzXBezduxerV6/mObOxWAxTpkzB1q1b8f7773NnRTAYxPbt29HU1IS2bduia9eu2LZtG5qbmzFhwgTY7XZMmjQJhYWFeO6551o1CGDrjclk4p6p+IgaM1KJCDKZDCaTCSkpKRgyZAi++OILnoZmt9tx6tQplJWVoa6ujnd5YrUT8WlXBQUFOHHiBLZu3YoePXpwb/GAAQOwcuVK7N69GwUFBdzbyBofsG5EbMOxe/duyOVyHDt2DEBLikZOTg5WrlwJALwjYf/+/QGAh/3ZMbG8yNzcXNhsNrzwwguIxWKoqamByWRCfX09iouL8eWXX+K6665DaWkpdu7cCaDFAGIasdnZ2cjJyeEpECxVAWi9djNFhrZt22Lw4MFctiw+L3P79u0YMWIEPvroI5hMJlx++eV49913UVpayjtI5efnQ6lUcmdXY2MjSktL0a5dOwBAWloa0tLS4HA4uLe+sLAQW7duxbZt2+B2u9GhQwdkZmaioaEB9fX18Pl8XLeceemZ9JXL5YJarcbx48e5DVJQUMDzhOPtknPBNh9qtRqxWAzl5eUoLCxEcnIy1wtmXc7cbjcyMzNx5ZVX4u2338aBAwcgkUh4uuCmTZtwxRVXID09nXdzY9HUeE8+mxd+T/xoj6rD4cDAgQPxyCOP4PTp0/jLX/7C9U/Xrl2LdevWtcqZAr5NCGapAGznOGXKFDz66KNYvHgxpkyZgm+++QarV6+GWq3GhAkT+I73wQcfhM1mw/XXX4/du3dj8+bNOHv2LA+DscIqFiqPv6jxHSKUSiVuuukm/L//9//wwgsvoF+/flAqlVi+fDlcLheSk5Oh1Wpx9dVX4+jRo9iyZQuMRiM6duwIv9+PFStWYODAgbwQQK/X82YAer0eWVlZOHjwIG+jl5aWhssuuwwrV66EzWbDxIkTEQgEMGPGDAwdOhRmsxkmkwnXX389tm7dihtvvBF/+tOfUFtby1u+sdAG2/0KBILfLqyBCoN5BM1mM/Ly8vD555+DiDBixAgekmWi8SxK43K5kJSUxHVVAeCGG27Agw8+yHPyiQj79u3D9u3bceedd2LEiBHIycmBx+OB1WrlRp7dbseRI0fw9ttv4/Tp00hISMAHH3yAM2fOYMaMGdyjO3v2bAwePBgZGRno0aMHIpEIPv/8c8RiMQwfPpynVxUVFWHcuHF48cUXcfToUVx77bXYsGEDli9fjgceeAADBw5EXV0d0tLSoFAo8MUXX2DMmDGIRCKYN28e7rvvPixZsgRTpkwBAJ4OxQTTWV4lEXFDn2nXMg+0RqPB9ddfj1tuuQUGgwG9evWCyWTC3LlzEQwGeZtPlpcql8tbrSkdO3ZEVlYWKioqUFxcDCKCRqNBp06d0L59eyQkJKCgoAAmkwlEhEAgAKPRiPXr10OtVmPEiBFcmrFfv35IT0+Hw+FA//79MXz4cKxduxapqancGPrb3/6GDh06oHv37lCpVHC5XNwTDrS027722muxadMmZGZmonPnzli7di1eeeUV3HLLLejevTvOnj2La6+9FsuXL0dmZibUajU+++wzbNq0CZWVldyQZ3mU8eMP+NbJdPLkSYwZMwYqlQr9+/fHhg0bAIC38X3qqacwefJkXHXVVTh8+DAmT56Md999F7Nnz8b48eOh1+tx8uRJbNq0CcXFxXj66afRrVs3pKWl4dSpU8jNzUX79u3hdrvh8/lgtVqRnJyMwYMHY/jw4Zg+fTqmTJmCP/zhDzhw4AA2bdqEvLw8jB07Fj179sTMmTMxd+5cnDhxAnfddReMRiOeeuopfPTRR5g9ezZisRjkcjm6dOmCt956C83NzcjOzubNi84FM0aZjFtJSQkuueQSJCUl8fHIOmNFo1GkpKRg1KhR+PTTT/Hiiy/i3nvvxWeffQa5XI7jx4/j7rvvBtBSkG42m1sZpv9uw/C74aeQpyIi2rNnD911110EgJRKJQ0dOpT27t3LZRW8Xi+XYfH7/RQIBLgMAcNms1FFRQWNGjWKAFB+fj49//zztG/fPn4sVVVVtHLlSurYsSPpdDqaMGECbd++na677jp69NFHqaGhgdxuNw0fPpz++te/ElGLHEwsFqO6ujoaMWIErVmzhh9TLBajjz/+mMaNG0cKhYK6d+9ODz74IJfhYP9Go1F67LHH6JprriGdTkfdunWjv/3tb1xSpba2lu655x566KGHKBKJkNvtpqeeeooGDRpERC0yHOy9lixZQjfccAMBoOzsbFq6dCkdO3aMnwe73U6HDh2iyZMnk1qtpkGDBtErr7xC9913H/31r38lm83WStJGIBD8PFxoeapgMMjfi4j4fENEtGrVKkpPT6fi4mJav349BQIBuuaaa+jhhx/mklAOh4NCoRANGTKEli5dyl/r8XjozJkzdPPNN1ObNm0IAP3lL3+hDz74gB8vk2NiHD9+nEaOHEkPPfQQrVy5kgYOHEg6nY66du1KFRUVFAqFWkkLHjp0iEaNGkVt2rSh1NRUmjRpEh0+fJiIWuZ69r0aGxtp8eLF1LlzZ1IqlXTFFVfQqlWryOVykcfjoVgsRqdOnSIAdPz4cWpubuZyQw899BD17NmT9u3bRydPnqQBAwbQa6+9RrFYjJxOJ9133330xz/+kQKBAP8uXq+XJk6cSE888QRFo1EuPbVv3z7q2rUrSaVSGjRoEH3wwQc0adIkevLJJ7933X0+H4VCIX49nnzySRo+fDgFg0G+5jHJwttuu43/jX3nYDBICxcupLy8PJLL5TRt2jQ6ceIEXXLJJfTnP/+51Tl64oknqKCggLKysigzM5Oef/55qqur41I+TKKLfQZbl5ctW0Z9+/YlAHTVVVfRkiVL+JggapH0uuOOO6iwsJD0ej0988wztHHjRiooKKAPP/yQ/H4/1dXV0bBhw/hayq5vc3Mz3XDDDfTee+8R0bfr5IIFC+iaa66hlJQU6tChA61fv57q6upanbsjR47QfffdR23btqXU1FSaMGECvfvuu/z/d+7cST169KA1a9ZwWa6ZM2fStGnTqKqqikuPhUIhWrlyJXXu3Jm0Wi316dOHFi1axG0L9l23b99O/fv3J4lEQtdffz098cQT9OSTT9L999/Pn3v27FnKy8ujHTt28HHP7u0fkqdi8mzsOowbN45eeOGFVt/3xIkT/DG7NkePHqVbb72VjEYj5efn0+jRo+mLL77g18Zms9GyZcuoZ8+edPz4cT52mR0Wbzf9mjlfeSpJLBYjiUTCd01yuZwnz8fn9/wIQxiLFi3CSy+9xBOJ2WdptVoYjUZMnz4dt9xyCxf+Zx4E5hEQCASCXyL0Ly8WCwczT8x/Ez680Hi9XgDg3fL+m+P6bpgbAA81s9D6rx3WYrOxsREpKSk8/9ThcGD06NG45ZZbMHz4cCQmJkIqlfIUst/K9/+9U19fD5PJhBUrVuDLL7/EX/7yF7Rr1w5Op5OnM/4QlZWVyM7OxkcffYTHHnsMy5YtQ2FhIVwuF48mC/49zMZk8xKz+SKRCFfcAH6C0P+5kEqlGDFiBPLy8qBUKmE0GhEKheDxeHhlfO/evZGVlQUA3EXOVAEEAoFA8L9B/6raZrI7QIvmo1QqRTAYbKUq8O9gFd/sh6UisELWXzt2ux2BQADNzc2orKyEXC7nGqonT55ERUUFL2iVSqXw+/28M6Dg108wGITFYoFMJsPAgQNRU1ODjRs3YuLEiedlZAYCAWRmZuLs2bN49dVXMW3aNBQWFgKAGCM/IRfcUAVaqkRZHsx3PbTfrcqM38HH52YJBAKB4L+DVauzRZNJLDFZo3PBXhfvRWVeRfY+v2aYhNWWLVvw+uuvo1+/fhg3bhyqqqowb948DB48GN27d+fniv6VuwmIiN9vAZYvTEQoKipCjx49sG3bNhw9ehT9+vU75+vVajWsVivef/99GI1GTJw4EQC4PJzgp+GiWIJMssLr9fIEd5VKxSfLYDDIhXNVKhWI6N+GnAQCgUDw3yGTyfh8GgwGoVAoeDHp+cCMs3jHQSgU4hrYv2YUCgUsFgtuuOEGJCcnY/ny5XjmmWdQUFCAkSNHYurUqcjNzQXQkiLAisCIiKu5CH69sAJEn8+HhIQEFBcXw+fz8XvmfHC73dBqtXjkkUe4kgOzY0RU+KfhgueoejyeVpNZ/HuySTO+GQAAXrkqk8mE+1wgEPxi+TXkqDIRcZlMxqvcpVIpF2r/IVhnIlbtzlKyYrEYotHor96jaLfbWzUMCIfD//acNDc38/bY7LlMuknw6yYYDHIdWpYiU1NTwxsG/RAOhwOJiYm86xpTJZBKpfxvgv/MLyZHlf4lx8HCRfG9kpkxzCZBRiwWg0wm+9VPggKBQPBzQv+SZYrXsGbz7/l4jOJzWKPRaKtOTb+F+dlkMsHhcMDn8yEjI4Mvkqy1tkQi4Q4V1hueyQ2x3wW/XoLBIHfSsYY/KpXqvIqogG+F/pOTk+H1epGSkgKr1dqqyYbgx3PBY+tM7JntxKPRKO9rzLypAHir0GAwyD2pYrcqEAgE/zvxlenRaBRWqxVNTU2IxWK8W84PYbVa4fP5AIA7D4gI0Wj0NyE67vP5kJiYiIyMDHg8Hpw+fRpyuRypqancw6rRaJCQkMDXo0gkIpqt/EZgmsOsMxhrCKRUKs9rfOt0OjgcDjQ0NHDd9kAgALfbLaLBPyEX3FBlvYBZTpRarUYkEoHH4+GTABNiZqEl5gpmsioCgUAg+HFUV1fj5MmTKC0thcvlOq9i1Y8//hhff/01mpubAXxr+MaLj/+aYULtrCsSa7PpcDi4wD7QYtCwNrNarRZKpfI38f1/7+j1eiiVSjQ0NECr1UKv16Opqem/MjKVSiX0ej1MJhPq6uqQnZ0Ng8HAx4vgx3PBDVWtVgutVtvKO6rX65GQkNCqvR2AVgn7EonknNIpAoFA8EvH5/MhEAjwdojBYBAOhwPAt94XAHA6nfw13+0I1NDQAJvNBqDFaLJard97DQD+Xsy7wyJWTqcTTz31FN577z306tULiYmJqKurw7p161BQUACJRIIrrrgCs2fPhs/n40bYgAEDcMcdd2Dfvn3wer1c2qq5ufk30XdcJpNBrVbzrobMy8yKpFjOIut2xV6j0+lEse9vBKVS2SoflVXrn29Elxm4AJCens7/Hi8JJ/hxiDtNIBAILhB2ux3RaBRqtRpKpRLRaBQqlYobQiqVCgaDAUTEjVcAvJjU4XCgsbERqampMJvNKCsrg0KhQEpKCqqrq3l/+2AwiBkzZmDixInw+/3ckGUG56pVq6BWq3HLLbdAJpOhoaEB27Ztw1133YU5c+Zg165duPbaa/Hpp59i0aJFAL41gh955BG8/fbbcDgcPBxqNpuFR1EgEFwUhKEqEAgEFwhmpLLHzLNqt9uxd+9e+Hw+1NXVgYiQk5MDl8vFC3Xq6+uRmJgIi8XCw4ht27YF0BKazszMRDAYhEajgcvlgtFohMlkgtvtRmZmJlwuFzeAN2zYgMsuuwy9e/cGADQ1NWH16tWYO3cuhg0bhq5du2LWrFmYPn06li9fjoMHD8JoNMJoNOLGG29EVVUVNm/ezL+H0LgWCAQXC2GoCgQCwQXCbDbzSvJIJAK1Wg0iwp49ezBz5kzs2rULO3bswKWXXors7Gw8/vjjOHToECKRCA9B1tfXY8mSJejTpw+kUilGjRqFdevWwePxQKVSYdGiRejYsSMWL16M119/Hbm5uXjwwQe5RuSWLVugUCgwYsQIAIDNZoNSqcSRI0cwbNgwaLVa1NfXIxKJoEePHpBKpSgtLUV5eTkMBgMCgQBGjBiBN954A16vF5FIBH6/X4S+BQLBRUHMNAKBQHCBYHluoVCIF5Oq1WqEw2F8/fXXmDVrFr7++mvMnj0b8+fPx65du/D0008jGAzC5XKhrq4OCxcuxNq1azFz5kyUlJQgKysLd999N9555x1EIhHMmDEDtbW1mDp1KkaMGIHy8nLce++9UCgUcLvdOHDgALp06QKtVgu32w2ZTIbm5mZotVo0NDRAo9Ggffv2kMvlSE9PxyWXXMIr34EW7+t1112HpqYmlJaWwu/3Q6vVitC/QCC4KAhDVSAQCC4QgUAAQIvuqFQq5cYdE5m/8847sWDBAkyePBkDBw7EjBkzoFQqUV1dDZlMhm+++QaffPIJbrrpJvzhD39AamoqFi9ejPfffx8zZszAV199xeWizGYztFotPB4P71PucDhQV1eHjh07ora2FgaDAUajESdOnEBaWhqSk5NRVlaGSCQCp9OJYDAIm82GPXv2QKPRwO/3o02bNjAajSgqKsKRI0e+V6glEAgEFxJhqAoEAsEFglXGswp+v98Pr9fLdaLbt2+Puro6AEBubi5CoRD27NmDlJQUyOVyvPPOO8jOzsbtt98Oo9GIWCyGWCyG9u3bY/To0fj000+5sgor1gJa9KttNhsCgQCOHDmCzMzMVgL9TFWgffv2yM3NhVwu58fVuXNnpKSk8A6BEokEcrkcer0elZWVPOdW6FwLBIKLgTBUBQKB4ALBjEMmmq/T6aDT6Xiuak5ODuJbWPfv3x8qlQpNTU3w+/2IxWLQaDRQqVTw+Xwwm82QSqUwmUxcoPz06dO8PSrrR+9yuWA2myGRSHD8+HGkpaXBYrHA6/WiuroaqampsNls+OKLL+DxeBAKhZCRkQGdTodDhw6hsrIScrmcS+yYTCZUVVXB7/fDYDDAbreLgiqBQHBREIaqQCAQ/EywdovM0KysrOQFTCyXlRUtyWSyVmF3qVQKj8eD9u3bIxKJ8G5RSUlJ3JPrcrkgkUi4oRyNRpGZmYnm5mZkZGQgOTmZS2dVVVXB5XIhLy8P+fn5ANDKC6tQKBCLxeD3+1u1YhUIBIILiZhpBAKB4ALB8ji1Wi0AwOv1wuv1IhAItGrJ6ff7QURQKpX8h4hgsVjgcrlQX1/f6v08Hg8qKysRCoUgl8shl8uhVCpht9vh9XqhVqsRCoW4ZBWTt2Jh+7y8PJw6dYp7Rp1OJ7KystDc3Izt27cjMzMT33zzDU9LsNvtyM3NRUpKCkKhEBITE+FyuS7eiRQIBL9bhKEqEAgEFwgW0mceTo1GA51Oh1AoBCJCJBKBXC7n/cWj0Sh8Ph83Wi+77DLU19fjww8/BNBSHBUKhVBSUoK9e/di3Lhx/LMMBgNMJhO8Xi/v8peYmIjCwkI0NDTw54VCIfTs2RNpaWloaGhAc3MzysvLAQB79uyB2WzGyJEj0bFjR1gsFoRCIbhcLlRVVcFsNnOjN97bKhAIBBcKYagKBALBBYJ5MCORCGKxGA+X2+12AN+qARgMBgAAEUEqlSIajUImk6G4uBiXX345Fi1ahNdffx0+nw8PPfQQxo4diyeeeAJ9+vRBfX09Dhw4AJVKhWg0ijVr1uDTTz9FNBqFTqfDZZddhkOHDiEcDoOI4Pf7odfrcdddd2Hs2LF4/fXXIZFIsHDhQjz++OMYM2YMgsEgysrKIJfLYbfbEQgEcOzYMRQVFUGlUgEQLSIFAsHFQRiqAoFAcIFgLUeVSiVCoRACgQACgQAUCgW6deuGWCwGh8OBmpoahMNhhEIhZGdnw+PxoKmpCcnJyfjTn/6E0aNH4+WXX0ZeXh6qq6vx0ksvcW9qWloaevbsiUmTJsFgMODvf/87Nm3ahGg0CoPBgF69euHgwYOorq6GUqmEXq9HKBTCxIkTsXHjRrz11lvo06cP1qxZg+nTp+ORRx5BJBJBu3btAADJycnYvXs3OnfujO7du8NgMMDr9QodVYFAcFGQxGIxiq86lcvliEajrXb1AoFAIPg+zBBl3lKJRAKJRIJYLAaJRIKmpiYYjUbeHJvb9wAAIABJREFUncrj8UCj0cDn8+H06dPo06fP997v5MmTKCoqAoDvzcFerxcqlQpOpxNJSUkIhUIoLy9HNBpFTk4OFAoFZDIZYrEYr8o/fPgwZs+ejRkzZuCqq66CTqdDeXk52rZti3A4DIVCwVu36nQ6qFQqnDlzBlqtFiqVCmazGaNHj8aoUaMwZswYSKVSKBQKUUwlEAh+FGx+IyJIJBI+H0UiESgUCj6/iplGIBAILhAymYyL/stkMqjVaqhUKphMJm6kNjc3w+/3IxwOw+PxIC8vj3tXo9EoqqurYbPZALRU8cvlciQlJeHkyZNwu93Iy8tDYWEhtFotNzq9Xi/PJc3KysKNN96IgwcP4quvvgIA3l7V6XQCABISEmA2m3lYPz09Henp6SAibN26FUlJSejbty88Hg9kMpkwUgUCwUVDzDYCgUBwgTCZTNxYDYVCkMlkCAaDcDgcAFo8ChKJBBqNBgqFAsFgEHK5HOFwGEqlEpFIBJmZmSAi2O12pKenw+PxwGq1orCwEElJSQBajN2amhoALQoDer0eGo0GwWAQZrMZkydPRkVFBb788ktEIhGkpqZCKpUiOTkZbrcbQItUVm1tLQBwuSy/34/58+fjpptuQnZ2NiwWC+RyORobG+H1en+GMyoQCH5viNC/QCAQ/I+cK/T/S6KiogLffPMN9Ho9CgoKkJiYeM7XrF69Gjk5OSgoKOBGMeuOJZFIxPogEAj+Z8439C9aiwgEAsHvgMzMTMjlcqhUKiQkJHBprB/iyiuvhF6v5zqwRMSbDQgjVSAQXAyEoSoQCAS/UZhWKyuySklJadXWVa/X/+DrU1JS+ONoNMpTFWQy2S/OYywQCH6bCENVIBAIfqOwcFokEuF5p6wY6nwKorxeL2+XKpfLoVAoeGoDC9MJBALBhUQYqgKBQPAbhnlTpVIpIpEIr0FgzQh+CJ1Ox/PE4j2okUgEoVBIGKoCgeCCI6r+BQKB4DcMM0wBQKVS8WKoUCh0Xq9nxbahUAjhcBixWAwKhYLnrQoEAsGFRHhUBQKB4DcKESEYDEIqlUKpVHJlglgsxpVefohQKAQi4j9M1UAul4scVYFAcFEQhqpAIBD8RmFGJdNlBcD/PVfFP3vOd3NZWdhfIpGI0L9AILjgyCUSCXw+H7RaLUKhELRaLQKBALRaLcLhsNg1CwQCwX/A6XQiMTERMpmsle60RCKBzWY7L63SC41GowHQon8KfKv9er6w1zHiC7G++38CgUBwvsRiMchkMthsNkgkEpjNZgCAzWZDWloaf56chYWAlrZ5Pp8POp0ORqMRAHgbPoFAIBC0Jj09HRUVFQCA1NRUNDQ0AGgxVDMzM2G1Wn/OwxMIBIJfLKFQiG/0FQoF6uvrAQDdu3fnjwFArlKpEA6H4fP50NzcDIlEwnfcrEe1QCAQCL5POByGwWBAc3MzzGYzJBIJ1Go1AoEAGhoa+IZfIBAIBK3xer0wm80IhUJQqVQAWoo/XS4XunXrxp8n8fv9xPKNpFIpEhMT4Xa7oVKpuFC0QCAQCL5PLBaD3++HTqfjuqK/1BaqAoFA8EvC7XbDYDAgFoshEAhArVZDKpWiubkZycnJ37ZQDYVCSEhIQGNjIwwGA0wmE9RqNc6cOYMOHTqIHCSBQCD4DxARr573+XxoaGjA0KFD0djYiJSUFDF/CgQCwX9Aq9XCbrcjGo0iOTkZ4XAYTqcTSqUS+fn5/HkSIqL6+nqkpKRw6RKHwwGj0Qir1dqqhZ5AIBAIvsXr9XJRfIlEgmAwCLVaDSKC0+kUoX+BQCD4Afx+P8LhMBISEvjf7HY7zGbzt81GAoEAxWIxBINBJCYmtspRBXBeWnsCgUDwe0Qmk8Hj8aCyshJFRUUAWrwEzc3N0Gg0Yv4UCASC/4DT6eSV/m63G/X19ejYsSOAlnnU5/MB+JdHFfjWM8Dyq0KhECKRCHQ63c/0FQQCgeDXQ/wcSkQ8Z1UgEAgE/x6n0wmVSgW1Wo1QKASlUsnro5jTVMoeqNVqvvsnIv7C+ByreO9AOBy+iF8FaG5u/t5nn08LQKZc4Ha7AQAej4f/frG/g0Ag+G3BOjZFo9FWLUWJCAqFgs83QItQfrySSnzkKhgMIhqNIhqN8uew/2ctT+Px+/1wuVw/+vjZZ4XDYQSDwX97bD8ngUAADoeD/85SKiKRCADwf4kIXq+3lZwi88bEz/OBQIC/5lxcjHNwvp8RCAT4encxr000Gv1ehDUSiSAajfJxycbtd1/3U4zPi0H8+Ij/HqzAh0FECIVC/F493xbEgv9MNBqF0WjkFf//qQD1nK1JAoEAwuEwpFIpNBoNiAiRSOR73UouJGxAMI+FzWZDamoqt75/iO/eRMzDYTAYLtwBCwQCAQC9Xg8ArRY2Np/GYjEQEWKxGHw+Hw+BORwOEBFkMhlkMlkrg5Wps2g0Gi7k/2OQy+XcuFMoFHwhlkql0Gq1P7tygVqthlwu5znAXq8XKpUKcrmcVwm73W7I5XIe/XM6nSAi3mwhfq1iaW7MMP8lNGT4Iex2O1eUYJ3EeN7eRbg28ecuvoUu+2Gbr1AoxNv0KhQKKBSKVjmHv2SkUik/v0QEt9uNWCwGhUIBrVaL+vp6yGQyRCIRpKenA2i5n30+3zntD8FPwzkNVa1Wi2AwCLlczruuSKVS/vhiEA6HkZSU1OqYgJYdM1sI/hPsJmcDKt5bwW4sgUAguFCwNCq2gDPi59B4r45KpeJGaDQa5QZKNBrlz1MoFD/JHCyXy/mizFIWWETtlwJLR2Odv9RqNYBvDTapVMqN7UgkAq/Xy42keOlFiUTSyuv9Uxj6FxqTyQQArdYpqVTKNz0Xev1ixjAbF8xAZcjl8u+twUyXXS6X/yrW1/hucnK5HFqtFpFIhN8DycnJ3IiNRCJobm6GQqHgG0vBhee83KKhUIhXZnm9Xu7yjw/HX0iUSiUCgQCcTieam5t5SCc5Ofm8Xq9QKPigYzecTCb71YQmBALBrxNmYEmlUm6khsNhHqlyOp0AWjbUkUikVV2A2+1GMBjkYX+ZTAalUgm5XI5IJMLTmX4MLGTu8/kQDodbpSp4vd4f/f4/BfFGmVQq5REyiUSC5uZmqNVqmM1maDQaGAwGZGRkQK1Wo6mpiXv4JBIJAoEAfD4fnE4nHA7HOUO3F8Njea7PCIfDaGxshM/ng8fj4WufUqm8qEbgf/LiOp1ONDU1tVpLmcH3azBSm5ubuT3j9XoRDofh9/v52AiFQqiqqgIAVFVVQS6XIzU1FTqdTkjPXUTO6VGN718di8VahYMuRqGVw+FAYmIiFAoF1Go1gsEgVCoVDwGdKwUhEolAJpNBIpHwfAh2/Odr6AoEAsH/AovaxGIxboiyMKlMJkMwGEQkEkEwGOTzaSAQAOsYyLw4LAVALpdDKpW2inD9GKLRKHQ6HaRSKfekMgODeS5/buLzJEOhEBwOBwwGA/eIEhEPP6tUKp4aYDQa4fP5oNVquYOCectYDvF38z1/7lSH7x4Pc7Kw42aeYzaeLqYxGH9u2Lhk8muRSAQ+nw+xWIynjfwaYGOf3VPs3gRaxp1SqeQSnd/9Tk6nk3u8BReWc3pUZTIZtFottFotVCoVJBIJrFYrSktLL4r0Crsxw+Ewjhw5widnlsx9LuI9Ej6fDxKJBNXV1a36yAoEAsGFgs1ZwWAQEokECQkJ0Ov1UCgUSElJaZUnCrQYqhKJBGazGWq1GkqlEjKZrFWhVfz7/hiYIS2Xy6FQKCCXy1FTU4PKysqLmt51Lthao1KpYDKZuMOE5bBKpVIkJCRApVLB4XCgqakJwLcpFcyrDbSEqx0OBwKBAM8TZgbiz1lEFn8MLHc5Go3y7yKXy7mxGA6Hz7so7Kc6rnhDNRQKwefzoaamBrFYjIfM2XiNT1P5JRONRlFaWgqr1QqJRMI3BVqtlo9/hULBjdJQKASPx4NQKCQUkS4i5zRUmRucdQ9wOBxYvXo1li1bhoqKigt+gCx5eceOHZgwYQK2bt2K5ubm884vZbsgdtNEIhFs3LgR69ata1VNKhAIBD81zLBkizxLQQqHwzh16hSsVuv3FAPYY6fTibNnz/IQPDMA2Ob7p3AUuFwuBAIB2Gw2BAIB1NfXY82aNXj99dd/ktSCH0ssFuOGOqs1UCqVcDqd+OCDD2AwGNCjRw8sWLAA5eXlAFq8ZCqVCjKZjHv8WNoaABw7dgyvvvoq5syZw43Cn9tY/a6Ryn4efvhhLF26FNXV1a1SM5hB9XPBDNWpU6di1apVsNvt/P+Yt/+XohzxQ1RUVGDZsmVYvXo1HA4HotEo7HY7T3dsamrCm2++iT/84Q/Ys2cPlEol9Ho9DAZDK5UMwYXlnKF/lsjPBl9CQgJKS0tRW1uL1NTUC36AoVCI79hOnz6N/Px8vpNhaQE/BCsQiMVi0Gg0kMvl+PrrrxGLxTB16tQLfvwCgeD3C4vmsLBiJBJBOBzGrl27sHXrVvh8Ptx1110oKiriYVOlUonS0lIsWbIE7dq1Q9++fdG9e3dIpVKo1WpeHPRTKK/EV8YrlUpoNBocPXr0vApVLxbMIeFyuXj+42effYZ58+bh/vvvR8+ePdGrVy9YLBbuOVWr1XyToNVqW3nAUlJSEAwGee4hKxL6JcGMvKqqKiQlJSEtLQ1yuZynO3g8Hmi12ouivvPd88PC/qFQCI2NjVAqlTwEzjZRSqXyF3dO/x2pqan45ptveAEeSwFg4yw5ORkqlQqVlZWwWCwAWjaQsVhMhP0vIucc5axSlRmsUqkUZrMZgUCA7+hZ0j8bvEDLBM28mDU1Nfz92OQAtHg3Gxoa+O9sUq+rq+PvrVQq4fP5kJSUBIVCgZqaGsjlcrjdbj7JhsNhLkMV33f7q6++gkQiwVdffcUHn9frxd///ncsXbr0ezvS+F0hSw5nyesAUF1dzR+XlJTwx06nkxdFlJWV8feK9+KynTArXvjuewsEgt8eWq2Wz0larZZv+Hv16oUjR47g5ZdfxscffwwAPHIFtHgFDQYDjhw5goKCAgQCAQQCAchkMkil0la6q8C3OYIsX5P9zWazAWgxIOLTnVg+IZPiYQWrJpMJCQkJvLo7fu6On6u9Xi88Hg9PWWDHweY5q9XKn1tVVcXXBbvdzj+TwebO+Oez45dKpWhsbATQ4phg4e7S0lKkp6fj3nvvxdVXXw2LxYJQKASv18sr/VlaADv3DIVCgfr6ep7L6vP5IJPJ0NTU1Kqqnc3fPp+PR9/Yv9FoFF6vt1VUrqKigs/pJ06cAIBWKR1ut5vLf7Frwbxye/fuRZ8+ffDPf/6Tq+zYbDbe/5wZpGzzoNfr4fP5+OsrKipahdqZdzket9uNXbt2QSKRYP/+/fD5fK1SSVjRFtDaqxyvOc6K0EwmE2pra3lhMrtGOp2On/NAIIBgMMjX0tOnT/P3ZOMSAM6ePdvqONk5Y+eXHWMoFOL5yqyQOxQKcZWB+PU0EAjw71BZWcnHTfy49Pv9CAaDfFPGPsdgMLTKX66qqoLFYuEbHaYkxI4R+NZeiC8qY69nBehAy5iurKyERCLB559/zs9F/DgBwNM92PmPL/xjdojf74fdbuefU1dXx5/Drj/7XBYdsdlsPG2Svc7v98PtdvNz9N1ICvs8NtaJqNXxXQx+9HbM4/EgGo220rZzu91oaGiAQqFALBZDmzZtUFlZCQDIysriJyIWiyE1NZUPOq/Xi7q6OqSnp8Nms/G/a7VaNDQ0wO/3c7kWi8XCBwubWJjuINAyybhcLiQkJMDr9cJqtSIcDvPBZrfbW00SdXV1MJlMCIfDvO9sY2Mj5HI56urqEA6HoVKp+ATTvn17/jlGoxFGoxGRSIRPJCaTiV94VqXLEuD5yb+IWrQCgeCXh8lkwpNPPok9e/ZAoVDAYDDA6/VCLpejtLQUQIuMEiumKS8v50VDsVgMfr+fG6nxeZvhcBixWAxmsxk2mw3hcBhpaWkgIuzatQtarRZOpxMGgwG7d+/m2q1Ay2JqMpng9/vRpk0bnDp1CoFAAKmpqfD5fGhsbIRarW7lcWWGG1M2UCgU/LiysrKgVCpx9OhRmEwmGAwGHD58GF6vF9988w2MRiMCgQBqa2sBtKwRzLtcVlbGjdBIJAK1Wo2SkhLY7XZEIhFuvLIcSfb5zOOsVCpx4MABeL1e1NTUcGO8rq4OHTp0wNmzZ7mUFSuaAYBTp05BoVAgEAhAqVQiMTGRdxpjxW06nQ6JiYncSMrJyYFWq8W+fftQVFSE2tpaKBQKOBwOuFwuGAwGKJVKqFQqpKWlAWhZG1jlucFgwIkTJ7jBxQrqIpEIXC4XotEo3G43rFYrHA4H9Ho9X/tycnKgUCjQ2NgIIkJWVhZcLhccDgcaGxt5UXQgEEBKSgqqqqp4TmlTUxPq6+thsVi4Qd/Y2IjKyko0NDRAo9FAqVSiqakJiYmJKC0thc/nQ48ePeB2u2E0GiGTyWCz2RAMBhEMBhEKhXghmFKphMfjQZs2bQC0GJF6vR52ux0ulwvZ2dkAWhxaLpeLe43jz7vdbofT6UQ0GoVEIkFSUhJqa2vh8Xj45o29jhUjsnGZkZHBjWeLxQK73Y7jx49Do9FAp9MhNTUVGRkZ0Gg03H5hTTwAoKCgAOnp6SgrK+OV/waDAVarFTqdDhUVFdxeSEhI4BsRh8PBdXDZBoUZ0GPHjsWOHTtQXV3Nc9GPHz/e6n6y2Wyw2+0wGAyIRqN8E8g+Q61Ww2QycXvKbDbD4/Gguroabdu25dfD7XZz3Xhmp5SXl/N7VqPRcE8yEcFgMMButyMWi8HpdPKiSjbOJRIJ30BdLH60paTX65GYmIhYLIaXX34Z/fv3R7t27XDbbbfhwIED/GKzsMzmzZsxdOhQZGdnw2Kx4Omnn4ZWq4XVagURIT09HeFwGIsXL8b48eOhUCgwb948uFwuFBYWIi0tDXV1dfB4PLwKkl38aDSKmpoabN26FbNmzcJ1110Hl8uFm266Cbfffjs/sbfeeitmzpwJlUqFI0eO4NixY3jzzTfx1FNPYeTIkWjbti1GjhyJzZs3Q6lU4o033kD37t0xaNAgzJw5E2vXroVSqYTNZuM7ndLSUtx9993o0aMH0tLS8Mwzz7TaNbL8svidqjBUBYLfN6NGjULXrl2xaNEiLiqu0+lgMpmQmZnJFyin04ktW7bg2Wefxb59+7jQul6vx7PPPovbb7+dGzhvvvkmbrjhBixfvhzTp09HVlYWrr32Wtx5552IRCJISUnBlClT0LZtW+Tn5+PUqVNITExEfX09N0I9Hg+++uorDBgwAD179sTEiRPx5ptvQqvVwmKxcCOxoaEB8+fPR35+PrKzs/Hwww/j4MGDSExMRDQaxbZt25CZmYk1a9Zg9erVSExMxJtvvolu3bpBp9Ohbdu2AFoUBjIyMlBaWoo5c+YgLS0NMpkMTzzxBHbv3g2lUons7GyUl5dj6tSpWLhwIfbs2YNLL70UM2bM4N4p1gjBZrPhzJkzaGxshEQiwQsvvICBAweiuLgYa9asQXZ2Ng4cOIB27doBAOrr67F371488cQTuPLKK1FQUIBrrrkG+/btAxGhsrISc+bMwbRp01BTU4Pm5mZeSDR79myMHz8ex44dAwDk5+fjoYcewujRo5GSkoJ58+bh008/hdVqRWNjI18XWMHa5ZdfjtGjR+PQoUN49tlnccUVV+Djjz9GKBSC0+lEhw4dcObMGQwfPhzp6em4/fbb8f7773Onh8vlQmNjI7788kvcdttt6NChA/r27Yt77rkHgUAAFosFR48exeTJkzF+/HhYrVbMnTsX3bt3h9/vR3JyMtLS0hAKhVBdXQ2/34+UlBRYLBYsXrwYPXr0QFZWFp566inU1NSgU6dO0Gq1+OSTT9CuXTucPn0aRqMRZrMZDocD27Ztw+OPPw69Xo/8/HwMGzYMRMSb9VRVVeGOO+7Aa6+9hs8++wxXX301JBIJ5s2bB5vNBrfb3Wqj8MEHH2DKlCnIzMzEddddh4ULF8Ln8yEjI4NLlpWUlODhhx9Gfn4+UlNT8cgjj+DYsWNoamriRqrNZsPf//533HrrrRgyZAiuvfZavPHGG9i/fz/cbjckEgnPgY5vJX/s2DGcOXMGXq8XL774IvR6PTp37oy1a9cCaPFkxiswLFmyBBMmTEC3bt1w6623YvXq1VCr1aiqqsKkSZNQUFCAd955B2vWrMGdd96J3bt3Y+HChZg7dy72798PoMWr6/f7MXToUKxfvx6BQABNTU2oqKjAc889h2XLluH06dNctvOll17C0KFD0adPH4wdOxbbtm3jkm3Mebdz507cf//9KC4uxnXXXYdFixa18oR/9NFHuPTSS/Hqq69i5cqVyM/PR1FREWbNmoWKigpkZGRwmbeLTiwWIyKiSCRCkUiEAFA0GuV/Y/h8Pv543rx5NGzYMGpoaKBYLEZut5vmzZtHQ4YMoYULF9Lhw4fppZdeIgC0e/duOnv2LIXDYVqwYAENGTKEnnvuOdqyZQt9/vnnlJGRQVOnTiUiIqfTSXV1dbR8+XJKSkqihx56iDZv3kzPPfcc9e7dmwDQoUOHKBwOtzqmUChE7Hsw6urqaMOGDaTRaGjLli3k9XopFApRSUkJzZ49m+6//34qKSkhl8tFN998M8lkMho3bhxt3LiRli9fTmPHjqW0tDTq0qULzZo1i15//XV67733aMyYMdS+fXvatWsX+Xw+stlsdOLECerSpQuNGTOGPv30U3r33XdpwIABNHnyZKqtraXv4vF4iIj49xAIBL9OYrEYxWIxikQifA4C0Go+ip9HiYiCwSA5HA666qqraM6cOXTo0CFKT0+n1157jRobGykYDJLH46F77rmH7rvvPgoEAuT1emnhwoXUtWtX+vTTT4moZd4LBAI0Z84cKi4upqqqKqqvr6elS5eSSqWiYcOG0eLFi2nbtm00ffp0SkhIoNzcXOrXrx+98cYbtGPHDpo9ezYBoEWLFlFlZSW5XC66//77KSsri/Lz82nDhg30xhtv0B//+EdKT0+n9957j6LRKF8jJkyYQDfccANt3ryZNm7cSMOHD6d+/frR6dOniYho9+7dJJFIKDMzk/r370/vvPMOEREdO3aMz4NNTU38uf369aNBgwbRsmXLqLy8nCZMmEBFRUW0bt06fu72799Pc+bMoTFjxlBpaSm53W7+f01NTeR0Ovm5PnPmDI0cOZLy8/Pp9ddfpzfffJOGDh1KFouF7rnnHiIi8vv9RER0xx13UHFxMb355pt08uRJGjlyJHXq1In27dtHkUiE1q9fT2azmcrKyvjcffDgQRo/fjytWLGCiIiOHj1Kd911F3Xv3p1WrVpFGzZsoDvuuINyc3Np7dq1RPTt/E9EVF1dTUREO3fuJKPRSH/729/I4/FQIBAgIqLp06eTRCKhm266iTZv3kw7duygG2+8kVJTU2nHjh38fd59913q3bs33X333bRr1y5asmQJXXvttTR+/Hg6deoUERGVlJTQqlWrKCcnh9566y3yer1ks9n4WIo/tgMHDtCkSZOoX79+tH//fnr++edp3LhxNHjwYDp48CA5HA5yuVyUkpJC7733Hn+PV199lYYOHUqzZs2inTt30ubNm+maa66h0aNH09atW/n7FxYWUlZWFl1xxRW0a9cuevvtt+mKK66gvLw8+vLLL/n1XLRoEXXs2JFefPFF2rx5My1cuJCKiopo7ty5VF9fTz6fjxobG2n48OF0zTXX0M6dO+kf//gHjR8/ngYMGEA2m41f3/Xr19MVV1xBd9xxBy1dupTWrVtH06dPJ61WSw888MD37tNwOEyhUIjWrVtHSqWSBgwYQHPmzKG9e/fSkiVLSKPR0LPPPsvHkNPppD//+c80duxYWrJkCa1fv57mz59P/fv3p1WrVnFbqaKignr06EFz586lY8eOERHRli1baNiwYbR3717yeDxktVrptddeIwA0f/58fkxlZWU0ePBgeuWVV/g5X7RoEfXq1YtWrlxJK1asoPvuu48uueQSWrlyJX/dpk2b6Morr6Tbb7+dVq9ezcfHjBkzqKmpiSKRCL3zzjuk0+loyJAhdO+999Lu3bvpr3/9K1155ZV066238rHKiLcJ/1fYOWfzJRuH4XCYAPDnnbOY6lz4/X6UlJTg0KFDmDp1KiZNmgQAyM3NRVlZGV566SU8//zzkMvlqK6uRs+ePfGnP/0JQEs+56uvvooHHngAe/bsQd++fbF3717Mnz8fS5cuxTXXXAO9Xo/+/fvDbDajvLwcarUaNTU1SE1N5TuYeCHtcDgMrVYLo9GI9u3bcxe6RCKBQqFAdnY2rFYrDAYD8vPz4fP5EIlEMGXKFCxatIhXiV555ZWYOHEicnJycNttt6FNmzZQq9UwGo2YP38+b9+n0Whwxx13YPjw4XjyySfhcDigUqnQtm1bTJs2Dfv378dVV13VqgtKvEyKQCD4/RIOh9GlSxdMmzYNzzzzDC677DIQESwWC86cOYP09HTuZU1OToZSqeQhVJfLBZlMhsTERHTs2BGZmZlwOBzQaDTIzMzEzTffjHHjxiEQCPA8zmXLlmHFihXo2rUrDAYDBgwYgNraWlRXVyMrKwtAS45aNBrF/v37uUduxIgRcDgcOHDgAAoKCuB2u7FlyxY4nU688cYbMBgMaGhowKZNm3DnnXdi4cKFePnll3kx6/z583HrrbeioaEB9fX16NSpEz8HCQkJqKurw4cffohu3bph/vz5SE5ORllZGVavXo177rkHa9euxWWXXYbU1FT07NkTO3fuxN69e7kiANAStWIdDJk80oIFC+D3+7Fu3ToUFRUBAIYNG4ZRo0YhGAzy8/WPf/wDtbW1eOedd5CVlYXm5mZ88MEH6NWrF95//30kJyejd+/eyMzMxJ49ezBo0CD4bPNlAAAgAElEQVQkJSXB7Xbj5MmTGDVqFBeMf+mll3D48GFceumlAIBBgwahsbERGzZsQN++fZGRkQEA+Oabb5CTk8PDrz169EBmZiZUKhXcbjd8Ph+i0Shuvvlm3HzzzUhNTUVubi66deuGBx98EHv27EGXLl3Q3NyMxsZGjB07FpMmTUJqairatWuHsWPHIj09Hbfccgvy8vKQlZUFh8OBiooKWCwWKJVKaLVaeDweNDc3IycnBzqdDh6PBzt37kRDQwM2bNgAs9mMnj17YurUqRg0aBC+/PJLdO3aFQcOHEDnzp1RUlICp9MJnU6HxsZGDBw4EHfeeSdkMhmcTidefPFFDB06FECL5+7MmTO45JJLoFKpsGLFCsjlcrhcLqSmpmLRokXYu3cvOnfuDI/Hg+3bt+O2227D7bffjlOnTnHv7MqVKzFz5kxoNBo88MAD6NevH+bOnYvGxkYUFxdj3Lhx6N27N9asWYPhw4dDpVJhw4YNSEhIwLRp09C9e3cALcVUZWVlPJTNUj1YXU4kEoHT6YTFYsG9996LgQMHIikpCUVFRWjbti2GDx+OSZMmwWg04uDBg/jkk08wZ84cjB49ml97j8eDzZs34+qrr4bRaIROp4PD4cCAAQN4/jlLf6mqqkJeXh4sFgu++uorDBkyBHv27IHVaoVarUZFRQUaGxuRn58P4P+z993xUVZp29e0zCTTM5lJmVQCIXQIUoIUAYVVEHWxIOzSFhZExV35wLasu+quYl2FdV2s2BUsKCp9pQtICS2V9GQyM5ne6/39Ec9xht1v4fcqvu++31y/Hz9CSJ55nvM8zzn3ue/rum5g+/bt2L17N379618nicNXrlyJDRs2YMqUKZDL5di+fTsmT56MOXPmICcnBxKJBFdeeSVuueUWfPrpp/jVr34FsVgMn8+Hm266CXfeeSesVisqKyshlUqxefPmJB6rSCRK6rJ3ufGDa89isRj79+9HZ2cnrrnmGgBAdXU1gsEgpk2bhi+//BIKhQKBQACLFi3CE088AaBnki0pKUFWVhbOnTsHg8EAk8mE7u5uDB06FGVlZVAoFJz3mZ+fD5vNhu7ubuTm5kImkyEcDqO1tZXTBlhvXgDcxsVoNKKkpCSpJWE0GkV3dzdMJhOf+CUSCex2O+dhSKVSqNVqaLVa9O3bFwqFAmKxGMOHD4dYLEZLSwtcLhf27dsHm80Go9GIuro6aDQa3iFl8ODBqK+v59waRoNg5toppJDC/9/Iy8tDMBjE8uXLkZWVhRdffJHz6xgNinWx8vv9SUIH+q6ffUdHB1paWnjbR4/HA5FIhClTpqCxsREymQznzp1Dr169MHLkSGg0GiiVSrhcLgiFQkilUj7vHTt2DPn5+ViyZAkEAgH0ej0CgQA0Gg0mT56Mb775BkKhEKNGjUJbWxsmT57M28Pm5+ejra0NVqsV6enpOH/+PJxOJ+cq0ndtqxPFSufPn4dEIkEoFMKuXbu4UNfv96OkpARWqxU33ngj9u7di7q6Ovh8PthsNs6xNBgM/NhsrJj4yWKx4Ny5cxg/fjzKysoA9AThCoUCo0aNQnp6OmQyGaRSKebMmYNPPvmE08MikQjq6+sxYcIExGIxFBYWIhaLYfLkydi3bx+ys7MRi8Wwd+9eDBo0CNdeey3nOw4YMABHjx6F2WzGN998A6VSiVdeeQUbNmxAXl4eOjs7YTKZ0KdPHwiFQm46X1tbi3A4DLFYjFgsxvmHBoMB48ePR79+/SCRSBCLxWA2m/m16PV6LFq0CHPmzOF829zcXBw/fhy9e/dGTk4O3G43X++USiVGjhzJecnsGECPcIatjeXl5VCpVFyXEQ6HMXfuXNTU1KC+vh59+/ZFc3Mzxo8fD7VaDSLCsmXLcOedd3JPW7FYjNzcXEgkEv7sEhHC4TAqKiq4ECs9PR0TJkyA0WjErl270NraiszMTKhUKmzduhUSiQT9+/eH2WzGvffei9OnT8NgMHDFvtPpRHt7O/R6PUQiEdrb23Hdddfh22+/RXFxMdRqNaqrq7F48WJUVFQgHA5zGoNOp+OJrPT0dL42s2eJvmsUUVJSAq1WC6/XC4FAgLy8PFx99dU4dOgQotEotm7diuLiYowdO5brX4RCIaZMmcK5x7FYDF1dXUhPT4fVauUtgUeNGoW+ffvi1KlTEIvFcLlcOHHiBJYtWwapVIqmpiZkZGTA4XCgf//+GDRoEEKhEL766iuoVCrMmzcP7e3tXPxYWFgIlUoFvV6Pzs5OfPTRR+jduzcKCgo49aS0tBQDBw7k9CKj0Yi5c+eid+/esFqt0Ov1XNAnl8uh0+kQCATg9/u5G9NPhR8cqLpcLpjNZtTV1aG8vBwCgQD9+/fHhAkTMGnSJJSVlcFsNkMkEkGv12P79u0YNWoUMjMzkZOTgwkTJgAAz3p6PB5UVVXBYDAkmevm5uYiPT0dEokEaWlpCIfDnIjNSPBerxfd3d1JoqumpiaYzWY+yaenp0Ov18NoNMJgMKCmpgYikYh3pGDKXLfbDY1Gg8LCQvh8Ps4FYUIHmUwGpVIJsViMHTt24IUXXkDfvn25hchVV12Ft99+G0qlEkqlEvF4nHPIRCJRqv1aCimkwLmmcrmccw+3bNkCs9kMtVoNg8HAO/OxDnusIpOVlQUiQl5eHjIzM3Hy5Em4XC6UlZUhLy8PTU1NXPRpNBpx/PhxaLVaDBo0CHa7HWq1GpFIBFdccQUX+QwfPhwmkwmnTp3i8xUTIRmNRhw7dgxNTU1oaGjAJ598ghUrVmDcuHEQCATIyMhAv3798Nlnn0EqlfIFLicnB6WlpQiFQtDr9cjOzobD4UBnZydKS0sB9MzdoVAIkyZNgsFg4CpovV6P3r17Qy6Xc56jTqfjghK73Q63241QKMRtqTIyMnhTBbvdjiuuuIIrp2OxGDo7O6FSqdDR0QGJRAKHwwGLxYLq6mo89dRTGD58OHJzczF16lQ888wzfI1QKpUYNmwYNm/ejJqaGp55vOqqq6BSqfhadffdd2PVqlWYM2cODhw4gEOHDsHlcnFtRW5uLvR6PZxOJ3w+H6qrq6HRaDB06FDOGczKykJNTQ3y8/PR0NCAI0eO8DUjMzMTWq2WB4Cs89nRo0cxf/58CIVCaLVazJkzB62trdi9ezd8Ph8fa4/Hgz179kCr1SbZp1ksFohEImi1WmzZsgVvvPEG0tPTkZubi4KCAhgMBtx7770IBAIoKyvDqVOnIJFIcOLECb4hEQgEOHjwIJYvXw6JRILS0lL07dsXdXV1/Np69+6N8+fPw+FwcJN9lp0bNmwYotEoYrEYJBIJ1q5di4aGBohEIixZsgTHjh1DY2MjIpEIwuEwFAoFDh8+jBdeeAGDBg3iPNNevXrh+eefh0wmg8vlwp49e3Dw4EEuDBKLxTAajXA6nTCZTLDb7VyUJRQKuSqeiRPT09Oh0Wj4uyeXy1FYWAiBQMCFkC0tLdizZw+uuOIK7jihVCrxm9/8hmdEZTIZ4vE4FzbabDb4fD7EYjH069cPBw8ehNvtxsGDB5Gfn48+ffqgsLAQp0+fRjAYxJEjR1BWVgYigtfrRWZmJt555x3k5OSgoKAAV111FRQKBZYvXw63241NmzbxBhe/+c1vIJFIkJOTg4yMDCgUCmzbtg3nzp1Deno6fD4f3nzzTR6kxmIxZGZmoqysDO3t7TCZTBCLxXwT8lO2WP7BtWeNRoP6+npMmzYNt99+O38Q2C6X2UKlpaXhpZdewocffojVq1dj2rRp6OrqQm1tLX7xi18gEAggJyeH/52VlcX7BZvNZjidTni9Xj444XAY2dnZnPAskUigUCi4EpWp/pkwISMjA6FQiPdOZrYkAwcO5ITroqKipN1Fa2srRowYwTOmEokEgUCAKxmZ4jY9PR2zZs3CTTfdhKamJuTn58NqtUKtViMQCCT17gbAzatZBiSFFFL4/xM2m43b7M2ePRv79+/H2rVrMWzYMF5qY4EsC77C4TDMZjOys7N5p0CJRIKysjKoVCp89tlnaG1tRW5uLrq7uzkVymg04ttvv8WpU6cwePBgrkh2Op0IBAJwOp3Q6XTo6OjA4MGDkZWVBa/Xi5KSEh7AxONx3iWrf//+mDJlCn7+85/jzJkzKCsrg9/vR3d3N0pLS6FWqyEUCtHW1gaNRgMi4ougVCpFUVERiAgOhwMajQYulws1NTUYPnw4dDod98k+cuQIevfuDYvFgra2Nu4iwNpqM1U68H3HQr/fj0AgAJ1Oh5qaGkydOhXBYBAajQYajQZnz55Fbm4uvF4vtFotDh06hHvvvRfjxo3DW2+9hZycHLS1teGpp55Cr169UFdXh7KyMtx888145plnUFVVhWHDhvHzAXqoB8XFxZg/fz4WLFiADz/8ELt378bq1asxYcIEPPzwwxg+fDj36FSr1TxAqa+vR2NjI9LT0xGPx2G1WlFeXg63243S0lKMHj0aQI8aPzMzE0KhEDabDZFIBCKRCG+//TbWr1+PpUuX4tlnn4VEIsH58+dx1113oaioiD9jZ86cQVFREfLy8jg9ginmDQYD3G43DyBXrVqFKVOmwO12IxwOw2AwwOfzIS0tDQ6HA8XFxZDJZLz6aTab8d5772Hjxo2YNGkSQqEQHA4Hampq8Lvf/Y47EXi9XgwZMoS3RGdZYLPZzFsLs8x2IBBAS0sLdu/ejW3btuHZZ59FbW0tli9fjpUrV6KhoQEKhQIrV67ENddcg3A4DKVSCZPJhIKCAt6xjPnQMrqGUqlEMBhEUVERb6vOnBECgUBSi960tDRux5YIlvzq1asXdysYO3YsZs2ahdLSUh4rtLS0QKlUwmg08nea2TsxqgoAVFZW4vXXX4fNZsP+/fsxZswYDBo0CMOGDcPx48dRWVmJ06dPY9GiRTxo7ujowNSpU3H33XejrKwMx48fh8FggEKhgNfrxcSJE3HkyBF4vV6sWrUKV111FTIzM9HQ0IDS0lK0tLSgb9++EAgE3Blg8ODB/NlgG8C0tDRkZWVBIBDwcfgpfWQvGqgGg0GeEne73XyX4PV6+a6hrKwMjY2N6NevH/r06QOHw5G0WxMKhWhoaMCmTZtw33334bbbbgMRoU+fPmhvb0coFOITTV5eHurq6vgkGolEkJ2djbNnz8JoNHKLB1Y+Yg92Yh9khUIBmUwGjUYDn8/HB1QkEnFbDxYksoeJ+e8l8nbYLqOgoICXtzIyMvjuKz09nfNR9Xo9hg4divLycgD/uk82s79iJbCU6j+FFP53g81tLpeLZzABcLslVmZkC8Pq1atx++2343e/+x3EYjGkUinkcjk6OzvhdDqRlZXFf56BtWCtra3FiBEjoNFooFKpEAgEOH3A6/Vyzl1ubi63aQJ6fCKFQiG3AsrOzkZXVxcikQgUCgVsNhukUilCoRAGDhzIW79KpVIolUr06tULffv25XMxAG41xSyd3G43PB4PD0oSA8vMzEwoFApIpVJ+XcymMBQKYciQITh48CBWrlyJ3NxcuFwu5ObmwmQy8Y0+m1NZVoy1/NZqtbyDIstmhcNhGI1GuFwuiMVieL1eHD16FBKJBA8++CDnaQ4ZMgQ5OTmoqqrCihUr+PWMHz8emzZtgtvtxuDBgzFw4EB+TR6PBzabDcXFxbjmmmvwi1/8Ag888ACWLl2KjRs3YsiQITzZolaruXZDp9NBJpPxzHF6ejrfgDidTj6Oer2ec1qBHn1GOBzG+++/j4kTJ3KeYiAQ4N64arUabrcbRIQBAwagpaWFJ21Y6TlxzN1uN4qLiyGVSjFy5EgEg0GIxWKIxWKeaWSetSzwYkHgO++8gzvuuAPTpk3jXZxKSkpARLBYLHxNtdvtiMfj8Pl8kEqlXPNRU1MDhUKBoqKiJH/R4cOHo1evXiguLsb777+P22+/HUuWLEF2dja0Wi1isRjGjx/PP2fUqFF8PW9tbYVMJsPPfvYzHD58GEOGDEF7ezuysrIQCARgMpkwevRoXlkViUQ8mGX2Tuy+AD3xhdPphN/v5/dCr9ejqKgI1dXVuO2225I2MIMGDUp6X5kHLpsPmLVccXExSktL8dlnn+HcuXOYPn06gB4rzE8++QT79+/n9MPu7m4YDAYUFBRwOgCjJrA5wuv1cneEsrIyDBw4EGPGjIFIJMKAAQPgcrkwcOBAuFwuuN1utLW1QaVSIRKJ8PiKxUkOh4PHSZmZmRAIBHx8fwpckuE/G2SVSsU5oFKpFOnp6XwytNvtOHz4MICeLCsrw58+fZpPWrm5uSAiBAIBxONxBINBuN1uSCQStLW1wWQyYcCAAZg4cSJ27tzJMwGRSATNzc3o6Ojg5XZmocLEUFKpNCmjarFY0NjYCI1Gg7a2Nj4pMV/VQCDAe0R7PB7OC7LZbHA6nXxHxbznmLFwLBbjvmgOhwMGgwGjR4/GiRMnUF9fD5lMxknkBw4cgNVqhcvl4n2lmdfrf0LXjhRSSOGHgZVD2Xzn9Xo5T5Bx71tbWznvTSqV4uabb8a5c+ewbds26PV6dHd3Iy8vD4MGDcK2bdtw5swZzm0FeuhXOp0OI0aMgM/nQygU4hkuv9/P50vm/Zk4rwE987pIJOJNANjcWlVVBbPZzD0r169fj7KyMowePRpisRiDBw/GgQMHUF9fD4lEAp/Px62SWPaUzd9CoZB3hGLNC9iczMqvM2bMwObNmyEUCpGTk4OOjg54vV78/ve/x4wZMzBhwgSeiWxubkZFRQXi8Tj/wyAQCCASiTg/UiAQoK2tDbFYDOFwGM3NzZx7yIIu9juBQICveWfPnsWxY8cwduxYpKWl8WTIwoULceTIEdxzzz0YPHgwDxYtFgteffVV3Hnnnfjyyy+RnZ0Nr9cLnU6HUaNG8etnWd14PA6z2cz1F83NzdzDUyQScUqbQCDg/Ebmx5mWlgaxWIxIJIKWlhZOAQiFQrBYLLDZbJDL5eju7obb7eb9671eL6cpyOVyyGQyHjgnru1GoxFbtmzB0aNHeWdIRvFjgbTb7eYbGYvFwoMnl8vFPdCZVuTUqVPweDy8gVAgEOBdrdh7wtrEZmdnw+PxwOVy4dprr8XHH38MtVqN4uJidHV1IRQK4eqrr0ZjYyPXgphMJnz99dfcWsvr9XJ9SGFhIfr16welUokDBw4gHo8jPz8faWlpaG9vh1Ao5NQDIuKxDft3RkYGAoEA9u/fz72Ng8EgTp48iUAggEmTJqGzsxMFBQWQSCT48MMPkZWVxcfeZDJx7iirMhcXF6OtrQ0SiQRqtZpXhI1GI15++WX4fD4ecA4ePBglJSV45ZVX+PNvMBh4sGuz2XDw4EGeCQZ6Np/19fXIyMhAU1MThg8fjq1bt8JsNqOmpgahUAhqtRo7duzgFqPFxcVwu93w+Xzw+/2QSCR8Y8m45awZCLuOnwoX/SSRSJSU8fT7/XC73YhEIjCZTCgsLMQdd9yBqqoqPPTQQ2hpacHIkSNx4sQJ7N+/H/3798cDDzyAvLw8EBHWr1+PYDCI3NxcfPvtt1izZg33W5PL5cjNzUVpaSlmz56Njo4OjBs3Djt37sS+ffsAAPn5+ZxryoJSFkiz3bJMJuOkdqPRiN27d8PtdmPGjBkIhULc4Jb1jg6Hw9x/L1Gd393djVAolNSZy+1285uWmZmJrKwsTJs2DStWrEAwGMT8+fPh9Xpx9uxZfPrpp/joo49AREnqVHauzNQ6hRRS+N8JFhgoFAoIhUKumrVarbBarfB4PNDr9XzeEYlEuOuuu1BbW4t169bB5/PxRUsqleLqq6/G1q1bYbfbUVpaijVr1qCxsRFEhOrqapSWlkKn03EDeuYJybJYzIRfLpdDJBLxJAIrFQqFQni9XuzevRttbW24++67YTAY8Omnn6Kurg733Xcf94ResmQJrrnmGtx///2YP38+ZDIZ6urq8Mknn2D27Nm46667eAc/FhRLpdKkahOraBUVFeH+++/HkCFDMG/ePEyaNAmTJk3CmjVrUFVVhSeffBLA91SJlpYW1NbW8mDzQnEqm6Pvu+8+3Hzzzdi9ezcef/xxFBQU4JFHHsHWrVtx6623goiQmZmJXr164fTp01i9ejUmTpyIcDiMzZs348iRI5BIJLjjjjvgcDiQl5eHjIwMDBs2DFVVVZg0aRIXIhkMBvTp0wcff/wxPvroI7jdbvTt2xfbt2/Hpk2bMHXqVPh8Pl6Gb2lp4RxihUKB6dOn48SJE8jLy0NFRQXPdDGNA0tysFIscwbo06cPxo0bh7Vr16K1tRXz58/HsWPHsGLFCuTl5cHhcPA1UiAQoKSkBLt374bH48G0adN4Ro+Zwev1esyZMwfPPfccVq9ejZtvvhkDBgzAwYMHUVVVhcrKSkydOhVZWVlc/GUwGHgA+OWXX6KlpQXXXHMNGhsb8Zvf/AZarRY6nQ7Nzc2Qy+VIS0vD2rVroVAoMGLECPj9fmzcuBEulwv33nsvd0OYOnUqHnzwQezduxczZ85EW1sb1q9fj969e2Po0KEAgLFjx+L555/Hc889h0WLFiErKwuff/45du/ejeXLl6OiogLl5eWYPXs2fv/73+O2225DZWUljEYjNm3ahG+++Qbjxo1DIBDg72EkEuFVEKfTifr6erz++uvweDwYM2YMdu7ciRdffBG33XYb8vPzAQDz58/H7t27cf/998Pr9WL48OHo7OzEhg0bIBAI8MwzzyAvLw8nTpyAz+fD/v37odVqMWbMGN75asaMGXj//fcxbNgwZGVlwe12Q6fToW/fvli3bh2mT5/ON2U+nw+//e1v8fXXX+PJJ59ER0cHKioq0NHRgR07dkAsFuOZZ57BmDFjkJOTg6FDh8Lv92Px4sWw2WzYtGkTtm7discffxxjx47lXbXkcjmPrYgInZ2diMfjvMrNxuenyqYCuLiPaiwWo0AgQLFYjOLxOLndblq/fj0tX76cmpubqbm5mYiIurq6aM2aNTR16lRKS0ujAQMG0MaNG4mIqLq6mv/96KOPUkZGBmVnZ9OqVavoq6++ohEjRtCWLVvI7XZzb65nnnmGSkpKCACtWrWK3n//fZo0aRJt27aNe8w5nU5yOBzcRy8Wi5HT6eS+aT6fj9auXUsjRoygq6++mpqbmykQCNDChQtpwYIF/LxXrFhBDz74IFksFgoEAhQOh8lkMtHMmTPpySefJLPZTEQ9HnMnT56kuXPn0saNG8nlcnE/vc8++4zmz59P+fn5pFAo6K677qL9+/eTzWYjn8/3L/3DUj6qKaTwn42L+agyT082p4ZCIYrFYtTc3EyLFi2iP/7xj0TUM1cFg0Hq7Owkr9dLp0+fpoqKClq8eDH3nuzs7KSGhgaaN28eAaB+/frRU089RW+99RY9+uijVFNTQ0TE59Tjx4/z83Q6nfTSSy/RsmXLyGq1Js09q1evpuXLl/N56oEHHqDZs2fT7t27qaKigtLT02nChAn08ssvE9H364LNZqPOzk66//77qaKigkpKSmjBggX04Ycfct/qL774ggYMGEDbtm0jp9NJnZ2d5HK5KBAI8Hk6GAxy/9OamhpaunQplZSUkFwup4ULF9K2bdu4XyYb1w0bNtD8+fPJ7/dTMBj8Jw9Mdm+CwSB98803NGvWLFIqlVRRUUFPPvkkbdiwge666y4ym83k8Xj4unbjjTeSRCKhadOm0caNG+mRRx6h2267jYiIrzNms5keeOABmjdvHgWDQbLb7XTkyBFyu91E1OMRu2rVKsrLyyMANGnSJHr//ff5eZnNZu4Xmegf+dZbb1FhYSENGTKE9u7dS0REy5cvp4ceeogaGxvJ6/WSx+OhxsZGeuyxx7i/ZiQSofr6enrxxRdp3LhxpNfrad68edTa2kpDhgyhJ598klpbW4mox+/zscceo6lTp9KVV15JFoslyQ8z0eN1+/btdM8999DQoUNJrVbT2LFj6Y033uDnfvr0aRo/fjytW7eO+7E2NTXR448/TqNHj6bs7GxauHAhnThxgqZPn0533XUXEfV4x06aNIlWrlxJr7/+Og0fPpwyMzNp2rRptGvXLn6e7L149dVXaebMmSSTyaioqIhWrVpFPp+PfD4fWSwWIiI6efIkLVq0iEpKSigvL49mz55NX331FX9e2Tm/+uqrNH36dBoyZAhdddVV9NFHH9GyZcto48aN1N3dTRaLhf9sNBoli8VCzz//PN1+++20detWuv/++0kqlVJBQQF/H4LBIDU0NPB7+8ILL9DAgQMJAOl0On7vo9Eof0Z27NhBFRUVVFZWRnv27OH3cd++fXTFFVfQm2++SUQ980UoFKKvv/6arr/+ejp16hT3Zne73eTxeKi6upo2bdpEo0ePJgA0fvx4Wrt2Lb/n7L3evn07zZw5k3JzcwkArVy5ksdm4XCYtmzZQsXFxbRz506yWq0UDAbJ6/XSnj17aPbs2dTc3Exer5e/Vz8GLtVH9aKBajAY5P9mf3d1dXGjWobEycLn81FHRwf/wMRJMRAI8JNKnMzZxbPAN3EiY8dkL8OJEydozJgxJJVKqbi4mFQqFQkEAgJA6enp9Mtf/pKOHDnCj+PxeMhutydNEEQ9DwFRzwTETKcTByvReDkR7e3t/HcTA2X270gkQqFQiL8gFzYjiMfjPPBPIYUU/nNxKYb/oVCI3G43RSIR8vl8fJ5sbGzkc2riHMmMtYPBIF9s2PeDweA/NRMwmUzU2dnJ5yGXy8WPEQqF+HxmsVjo5MmTRNQz50UiEXI4HBSPxykQCFBLS0tSgxJ2vMbGRvL7/RQKhXhQSfT9HG2xWPjCxoz+ib6fR8+ePftP48bmVWZGT9QT+BD1LPZsPBLnZfY7Xq+XAoEAtbW18aD5wnvCEgGJgVckEkkKaBOPTdRjYM6CaKKeuZyIkgz+2d9z5syhhx9++J9M0NlxWJMGop57YLFY/mmtaF4D1HcAACAASURBVGlp4UEiW9uIesbVbDaTw+Egr9dLNpvtnz7DZrNRIBAgh8PBzzcxmHe73TwoIvr+fsfjcQqHw9Te3k7RaJRfIzsPv9+flJhh4+B0Ovmx2NgGAgF+T6LRKFmtVj7+TqeT2tvbyePx8J85efIkfyZYM4rE+5G43ra2tvLPt9ls3JSeiPi52O12vg4zOBwOMpvN5PV6KRQK8WtJfI9CoRC1t7fz8eno6OBj6HK5+DET30nWOICNVyQSIZvNRna7Pen5Y4FzYvDvdruppaWFXzt7BhwOB5lMJn5OXV1d/Hf8fn/Sz3s8HqqqqiIiStqwJf4/+17ic5/47rNzIeqZS1iDJXbf2FgwsHGOx+N0+PDhpOOxZgg/FJcaqAri8TgxxRsAztUUCoWcE5Oeno5oNIpwOMx5LAzNzc1QqVTIzMyE2WyGRCJBZmYmAPD+wXa7nVtLsc+SSCTw+/2cLxMKhaDT6eB2u7kCLRQKobq6mqf4AXCh1t69exGPx7mwiSn3vF4vsrKyUF5ezs37WWmDwePxwO12cxWeUqkEEXHStMvl4lwZALzHMuudHY/Hec9hsViMM2fOYODAgYhEIpxzxMD4WYzXEY/H+e+lkEIK/9mg70rOjMYjEAg4J5Xx0JmvaUZGBqLRKCKRSBLF6PTp09wySqvVwuVyAQAvETOlPPsc+o7DaLPZklTDnZ2dyMvLQygU4r7SjLp1obsIK2sSEacCMNjtdj7/WSwWZGVlJVGUgsEgotEoFy3F43HubuLxeCCTyTjdKZHexBxRmCYhLy8vyb3gQhoUu+729nbk5uZCJBLBZDJxr2qm0r4QjFZF3+khmChXLBZzrUHi2mAymZCdnc3Lnd3d3dBqtUnHDgQC3Kpox44dePjhh/H8889zXrDJZIJQKITRaPynsQ6FQlykE4vFIJPJOA/WZrPBYDDw9ZWtiReWVdlazO59Iq+SXTNbvxLXFva80XfcS3ZNrMzNBDEWiwVarZaLt1QqFff+pu84qezeM+pBJBJBU1MT96hltJZEoTBz0WF+tdFoFCdOnMDjjz/OGy2cPn2aK/PZ2LW3tyM/Px/nz5/ntlqMd8veH4/HA61Wi/b2ds71ZM4ODCxeYPeavQ+Mr+1wOLgfceLzFw6H4fF4oNFoYDabQUS80UYsFuNOHO3t7TAajUnewMwak639EomEH5txiJnQKhHM4kskEqGjo4Nfd6JoKbF1cuJ7B/S804xHCoC3PWV2WxKJBPF4nNNJ2LPg8Xg4LSkjIwNOp5PPNxeCid4ikQji8fgPdi1i7zB9ZwXGRINMvM7m14sGquxrpgRjXJm0tDQ4nU5otdokbgczzY/FYigqKuIvUDweT1KZZmRkQKfTccXgmTNnUFBQALVajXA4zINcNiF1dHSgsLCQk93Pnz/PuzOwiwPAA125XM5fbma/kdi5ymazQavVJvXoTXwgPB4P7yPMjh2PxznHlZ03gKSFwOfz8Uk3GAwiIyOD//vCQDUlqEohhf9sXCxQZSb0TOQA9AQJwWCQ+0cyHlrihtrpdPKNcXd3N4LBIPLz80FEsNvtiMViMBgMqK6uRr9+/bgwlQlwEoPYxKCN8UPZYsfmRBbMMEEX+zk2tzKbK6ba9ng8yM3NRVdXFzIzMyESibgfJJvna2pqkJeXxz1PmWIYQFKQabFYEIvFkJubC5vNxgUbTGXe0dHBF3YWjAPJAfyF94TdF6FQmGRsz+Zy1uyA3ZdoNAqz2cz9XwGgoaEBhYWFPMFy+vRpNDQ04NVXX0VeXh6ef/55vu4lOtwAPeugSqVCMBhEIBBIOs/Ozk6EQiGUlJTwn2XjwhInAFBXV4eioiJIpdKkNY59zXxb2TrG/p91yGIbI/Z99hyyNYr9P9CzhrGAh92bCz8zEAggHA5zg3y27sfjcdhsNh5kMesnljTq6upCTk4OYrEYt0CbOHEiFixYgLlz5/Jxsdvt3GWHwefzQS6Xc8suIkJOTk7S/U5ci9m/WdOHwsJCdHd3IxKJQCqVIjMzE7FYDG63G1KplL9vzBmDrdWMw514P+LxOOdxsw1DRkYGj0+Y7RqLLcRiMQ+K3W43AoEAFAoF3ySxd5RtvsRiMR/vRNeBRGcLr9cLqVTK4zOgZ2Ol0Wj4/bNarVxcLhQKYbFYuMMRE2ExMRxzL0qMR5guh40/EXEROtusXajd+a/iUgPVS+KoBoPBf1kyZ6UfVn5gaXYi4uUK9rOMy5N4HLvdTn6/nyKRCP/M7u5u/rXf7yen08lT8MFgMImPmshjubAEwL4fi8X4/3V3d/OvXS4XL2Gw7/n9frLZbEmp/MTfT/x8VsJj/04smbHyAPv9RMRiMQqHw0nXnEIKKfxn4lJK/4lUIlaSu5CfXldXx+cTr9f7T2U1ViJjJTyi77lngUCAf93e3s7nxUgkkkRdSqRSsdIim98YdYuVhl0uFy8JJpaIE/n2rHRutVqT5rILKVaJHMFwOMzHwev1JpWoE8vEjDrFSqiJa4vVak3i/l6MRpV4zAvLumyNuXBs2H1ix3W73bRz506SyWR09913U0dHBy9xJ143Ww8YZS7xPjscDv75F667iddos9k4BS5RjxEKhZLKusFgkB+P/T9Rckk88fPZ77F7yO5/Ih0hkULCaHqJZWX2fLCxDwaD5Pf7k+gSXq+X0/nYfWI/z8Zr2LBhdN9991EsFqPOzs4k6gOjq7BxcTgc/Dlg58biC/b9QCCQRJFg1x+NRjm9JBaLkc/nS7o+dj6JMQ6j5l1I92A88lgsxs+NXSs7T/Yss59lx2Ng32OUkXg8zu+H3++neDzOx4Jpg9jxEscykdISi8XI7/eTx+NJmh/Y+5tIAUkcr2AwmPReJdIrI5EI/zz2d+K7/690N/8V/Gil/39VWkkhhRRSSOHiGVVW1WHVGeZLzeZZZgvFMjvd3d28JPtTGmr/V8HOnWW+WKk10XvzYmBm6YnVL1ZivNxg9+lfVbfYvRUIBLzkfWFJF/i+EseyxlqtlmeHmFUYAO65yUqxP5bjC6NhsAooGzfWMIFlD9PS0pJoHj6fD/F4nGcMGZ2NWTayhgo/FN3d3VCpVJx+wDKgF2ZCLwf+Fe2FZRRDoVDS9bG2oDKZjHu1X+6GPKzazLKsQM9zFwwGk+hB/w7s/guFQu6F6/F4kJGRcdH4jd2DxGeTfY89P4mVZlbFuJBO+V/FpWZUU95IKaSQQgqXCYkNSdgiKBAIeMkV+D4gYtZ6rJvefwLYdTH6AGtqwprBXAyM6yaRSJL4lTKZjHtx/neCeYwyXqZQKIRUKuVm9ayBA9DjBarRaHjQyygDALgXKQtOE5s9/BB4vV5YLBbuaymVStHV1YVYLAaNRoNoNMpbXrKAnHnIsoYNNpsNTU1N8Pv9vKzNSrw/FOFwGFlZWbxFr9Pp5M/+T5EEYyVvl8vF+bqMR8oC0sbGRgA9DRtkMhk8Hg/sdvtP0jWS6WOAHkoI8/S91CDV5XIhFArB5XJxz1cAPPi7GNhnsiC1u7sbdrud+/0yugN7xtgmh/lC/1RIBaoppJBCCpcJjGvJRCmJPDAWwBIR7xLEMovBYBC1tbX/zWd/cahUKt7VKhwOA+gRsADft4z+d0jsVQ/0ZN/Y7/93cvgZr5dlQ1nGFAAXy7AsE/OVZZVIxo9krb0T7y9D4kblh0ChUMBgMICIuD5Dr9fzz2LNaux2O0wmEwBw3YRYLIbdbodOp0NJSQmUSiUCgQAsFsuP5pEZDAYRiUTQ3t7ONRosE31hS9LLBSLijYKY6CpxQ8Q4r36/n/N4GS/7coM1HgLAfWwdDgfnpV8MarUacrkccrkcAoGAZ2ZZVvZiKCwshFgshtVqBdDT0pU9TyzDnJmZycXq7F2NRqM/ScWDIRWoppBCCilcJlBCa0+GC9ufyuVyLkRhil+ZTMbFov+T0dXVhUAgAI/HA6fTCeD7DPGlBDtMxcxKjjk5OVCr1Vyk9d8BFqTG43FYLBa0trbyc2UZOZFIxEuUwPeZ4VgsBr/fD4FAwINwFnCzv2OxWJIrxA9BTU0Np1io1Wr4fD4u3uno6ODBRWZmJnJzc3nGze/3IxQKcRcb5oaQnp4OrVaLtLQ03r70h0ClUkEikXA6hFarxdmzZwEgSWB4uRCLxXgmPBKJ4Ny5c0kNgpjojFUBAHDVOxPVXU4w4WJrayvkcjkXLLIs9MXANnWJgW00Gk1qiPTvwLrRsXeNbWZYYyOG2tpa2Gw2nkn9qSmhqUA1hRRSSOEygQVtTKnLgqDEsrhAIOAtNDdt2oQHHngAR44c+dGybpcTzJlFqVTytq7MHuhSA7HE7J9AIEB9fT1WrlyJHTt2XLbzZrjwHCmh01U8Hsdf/vIXfPDBB5yTxzYUzAGGBXOM18eU4CwDxe6/WCz+Jz7zj4Hy8nIAwIkTJ3h7bwB4+umncd111+GGG27Au+++C4vFwtt4M5smqVSaZHsFAFVVVbjuuuvw6KOP/ihZVavVCpvNBqlUCpPJhP379+PnP/85duzYwbN4lxMs++3xePDRRx/hqaeewunTpzmvk1E72traIBQKUVNTg6VLl+Lrr7++7OcG9FBK6uvrsXjxYhw4cIDbuwG4pIwoowjp9fok96LElsL/DswKj2W52UbGYDBwPnZnZyeefvppfPjhh4jFYjyYZp2sfgqkAtUUUkghhcsElslhX7NSn0gkQmNjI+dh6nQ6FBQUIBKJ4OTJkwiFQv8RXstCoRBHjhwB8H1P+rS0NESj0aTM8f8LYrGYZ36Y7ZbVakVbW9tPEsgwJAaoLEglIjQ0NKChoQFElJQ9ZWIqxmNkto2hUIj/3MGDB7kHJwtuf2wfbRZg9uvXDyKRCGfPnsXvf/97fPnll7j22mvx29/+Ftdffz0MBgP3t41Go/D5fHC73XC73dzjVCKRYPDgwcjKykIgEPhRxl+v13PrJblcDp1Oh/Pnz0Mmk/0/vTp/TDC6hkwmQ1dXF06cOIFQKMQ3EYn+pAC4jVQgEEB7e/tlPz+3282z20x8ySoTl0KdCYfDaGxsTPJqTRTWXQy5ubkQi8Xwer2cItHW1sarJGxDU1dXh7a2Nv57idSXnwKpQDWFFFJI4TKCZW0A8LJxLBbDvn378H/+z//ByZMnAfQEHTKZDGlpaf/kFfk/FVu2bMEvf/lLHDhwABaLBUKhEKFQCLFY7JIEISzQ8ng8UKvVEIlEGD16NN544w3Mnj37cp/+vzyfxD+5ublIS0vjTgShUChp48EymOw6mHF/S0sLnnvuOdTV1SUFHExU9WMFqsxAnvE909LS0NXVhcmTJ+OJJ57AtGnToFAoEAqFYLfb4Xa7oVKpIJfL0dLSguzsbOzbtw8AYDabYbFY4HA4kJ6e/qM9g9FoFE6nk2efGRf7pxTjSCQS3tRBp9MlKc0BIDs7G9FoFCNGjMDLL7+Ma6+9Nqlxz+VCWloa+vXrh/Xr12PMmDFJYrxLoR48++yz+MMf/oCWlhY4HA44HA6+8biU8nxHRwfi8TgUCgUEAgGOHTuGefPmYevWrTzw1el0yMzM5I022HyW4qimkEIKKfwvQSAQ4IFMYkBTVVUFs9nMJ3wW5AA9C9ilZFT+u1FYWIi6ujpIpVKo1WquFL5UfiPr2BQKhZK6RRUXF8NsNl/OU78oiIhnHpnaXyqV8gA8sezP7qtcLudG7Xv27EFra2uSaIjb7SRk2n8IZDIZVCoVsrKy4HQ6kZGRga6uLt75ivFPmdk9e9ZisRgfXxbQpKenIzs7G+FwmGf1fij8fj9/NrKysuBwOLiw8KeoGMjlckSjUQQCAfj9fu7UwLjjrITNBFbp6em8G9VPQb1hXZ7Kysp4BpdlQi+FOuPxeGAymaDX6zm3GPheGHYxGI1GRKNRXtnRaDSora3l9nDsGTeZTDxAZZszNlf9FEgFqimkkEIKlxFMketyuRCPx/HBBx8gPz8fzz33HL766isMGTIEzz77LGQyGVwuFwwGA2pra/H73/8e+fn50Gq1uO+++2C325MWT4vFgs2bN6N///4oKyvD9OnT8fbbbwP4vgUkW2gYnywWiyESieCNN97Az372MwgEAlx99dV45513+HHb29sxduxYPProo9i1axdmzJgBuVyOESNGYOvWrYhEIvj6668xceJETJ48GQAwZcoU3HDDDWhqakJGRgY0Gg127dqFG2+8EQKBAKNGjcLnn3+OtrY2EBGampqwYsUK3H///Xj44YexdOlSrFq1ClarFWfPnoVUKsW5c+cAAAcOHEB6ejo+//xzPPHEEzAYDCgvL8ett96Kmpoaft4ejwfRaBRPPfUUDAYD1Go1Fi9ejPXr12P06NGoq6tDZ2dn0s8LBAJ0d3dDIBBg3759mD17NmQyGcaMGYO1a9dylbPNZuNfd3V14U9/+hPGjRuHjIwMTJkyBf/4xz/42M2ePRtTpkyB1WrFL3/5S1x//fX49ttvkZaWBolEgqNHj+Luu++GSqXCwIEDsXTpUgA9KniPx8O7OjGwe3j8+HHMnz+fX//MmTNRV1cHmUwGh8OBTz/9FNOmTcPnn3+ODRs2QCwW46mnnoLX6+WdpdLT07Fnzx6MGzcO119/PSKRCCZNmoSZM2ciGAyiu7sbSqUSSqUS27Ztw+jRo9GrVy/069cPn3zySZLVEwDs3bsX1157LQoKClBRUYEXX3yRn7fX6+XX4ff7EY1GebB/5swZrFmzBkajEcOGDcNtt93GRWuJJfdDhw5h0aJFnPP70EMP8QpE4tg0Nzdj9erV6N27N9RqNWbNmoU9e/bAYrHwAJSV9LVaLRoaGgAA+/fvx7hx4/D6668DAL744gtIpVI0NjZCIBDAarVi6dKluOeee/DRRx/hlltugUAgwLRp0/DFF1/wgJ51m1uzZg2Ki4shEAhwxx134B//+AcqKyuxd+9edHR08PNmwWgkEsGpU6cgkUhgsVgQDodx6tQpCAQC7Nq1C08++ST69euH3NxcXH/99bBarfB6vdiwYQMKCwvx5z//GV9//TWys7Px7LPP8oxneno6XnvtNVRWVkIoFGLEiBH4+9//zp97tmEKBALcOmzWrFkYPHgwOjs7sWDBAvTv3x+BQADHjh1DaWkppFIptmzZgsrKShgMBkycOBG7du0C8L2oy+fzobW1FXPnzkVubu4lPd+XhIt1pkohhRRSSOFf42KdqTweDzkcjn/qUrR371564YUXaOLEidTR0UFWq5UaGhroiy++oIyMDBo1ahT99a9/pX379tETTzxB11xzDa1Zs4Z3tHG5XPTEE09QSUkJrVu3jj7++GN69NFHqV+/fvTBBx8QESV1DGKdenw+H9177700efJkevzxx+mdd96ht956iyorK+n5558nop4OOwsWLKDevXvTLbfcQu+99x5t376dli5dShMnTqRDhw4REVFLSwu9/PLLNHDgQNqzZw+53W7exWbdunXUt29fevrpp+mtt96idevW0YgRI+iFF17gY7B06VJSq9V0++2306JFi2jdunUUCATo2LFjlJmZSadOnaKmpiY6f/48AaBbbrmFHn30Udq2bRu99957VFJSQnfeeScREXV0dBAR0RNPPEF5eXm0Zs0aOnz4ML3yyiv085//nADQtm3biIjo22+/pa6uLiLq6fATCoXo66+/pnHjxtHy5ctp7dq19MEHH9Dvfvc7SktLo8WLFxMRUXNzM1ksFpo5cyaNHz+e3nvvPfrss89o7ty5NGnSJHr33XeJiKi2tpbeeOMNGjt2LL355ptUX19PRD3diI4fP05XXnklPfDAA7R792565ZVX6IYbbqCpU6fSyZMniain0xDrMOT1eikajdJrr71GlZWVtGzZMnrttdfoww8/pGXLltG4ceOorq6OiIja2trowIEDdP3119Mf/vAHisfj/DqJvl/PQ6EQHT9+nDZu3EglJSX07rvv8nN0Op00evRoGj58OM2bN4/27dtHzz77LK1YsYJGjBhBbW1t/HjPPPMMFRQU0NNPP03r16+ndevW0YQJE+gvf/lLUrerxM5fVVVVBIBuvvlmevzxx2nPnj30l7/8hWbMmEGzZs2ihoYG/nt79uyh0aNH0w033EDV1dV0/PhxmjlzJg0ZMoQ6Ozv5O/bNN99Q//79aerUqbR582batm0bLVy4kCoqKujw4cNkNpvp/PnztHXrVho5ciQdP36cIpEIHTlyhMrLy+nvf/877d+/n6LRKJ07d46USiWdOnWK4vE42Ww2Gj58OJWUlNDzzz9Pb7/9Nj3zzDO0YsUKuuKKK6ipqYmf73333UeVlZX03HPP0c6dO+m1116joUOHEgA6evQo/zm/35/U2eno0aMEgD7++GMiIjKZTASAZs2aRU899RRt2LCB3nnnHbrmmmto6dKlvCvVwYMH6YEHHqDrrruO9u3bx7tKmUwmuvXWW2nKlCn02GOP0e7du+mFF16g0aNH00MPPURut5s/V0REXV1d5PV6yWw209atW+nGG2+kRx99lD9TRES33norqdVquu++++jLL7+kTz/9lObMmUNjx46lzZs3E1FPV6nTp0/TmDFj6E9/+hO9+eabF32+L7Uz1f98tn4KKaSQwn8omFCIlcPpu77ZAwcOxMGDBxEKhZCTkwOhUIhwOIxQKASdTofp06dj8eLF8Hg8KC4uxvHjx7kIJRKJ4JtvvsFbb72Fjz/+GEOHDgUATJ8+He3t7di0aRNmzJjBS9SsW1Q8HsdXX32F8+fP48EHH8SkSZMAAE1NTWhubsb+/fsxatQoFBcXw2azYciQIXjkkUdQXl7ODe4PHTrEM15KpRKFhYWc18h4kLW1tdi4cSOefvppTJ8+nY+FzWbD5s2bMXLkSIwaNQoulwujR4/GsmXLUFRUBK1WC5lMhng8DrvdDrvdjkGDBnGxFsvaKpVKuFwuPPTQQ3j77bdRX18PmUyGQ4cO4csvv8Tq1asxa9YsqNVq9OrVC1qtFh9//DHKysrgcDgwfPhwXupkZcyDBw9CLBZj3rx56NOnD5RKJYYPH47W1lYuIlEoFPjHP/4Bg8GAJ598Er169QLQQ3946aWXeAa4rKwMcrkca9asQTQahdFohNPpRFpaGl566SX06dMHS5YsQVFRESZOnIihQ4diwYIFaG1txZAhQxAKhaDVahEIBDiX8ujRoygoKMDKlStRXFwMAKioqMD8+fPx4osv4rnnnuNlXI/HA6/Xi2g0iuzsbFgsFuh0OgiFQrS3t/MsJrv3V1xxBXr37o1AIAChUIisrCwolUosWbIElZWV6NevHzo6OvDXv/4V1dXVyM/PR3NzM7788ku88sormDJlCrxeLxQKBWw2G/bu3Ys5c+YgIyODC3tkMhmi0SgXaA0ePBg33ngjysvL0bdvX6hUKjzyyCOoqqpCaWkpTCYTNm3ahKysLPz973+HXq/H2bNn8be//Q133303/vCHP+Dpp5+GUqnE5s2bMX78ePz5z39GNBqFXq/H5MmTcc899+Bvf/sbXnvtNRgMBuzevRterxclJSVob2/HsmXLMGbMGPz617/mzycTEdXX16N3796QyWTQarXIy8vDuHHj0L9/f0ilUhw5cgQffvghTp48icLCQlRXV+Ojjz7Cr371K/zqV7+CQqGA3W6HUCjE448/jng8zn1ZA4EAlEolMjIy0NHRAbFYjPz8fBQXF8PpdHL/5FGjRmHevHlQKBSQSCRoaWnBxo0b0dLSgv79+2PYsGHYsWMHPB4Pxo4dy49tsVjQ3NyMxYsXY8GCBZz3HYlE8O677+Lmm2/G0KFDuc2UTqfjYreCggJOhQCA/Px8dHd3o6mpCaNGjcKCBQtgNBoRiURQWFiIGTNm8DkuGo1i69atUKvVWLp0Kbe8+nfP96UKslKl/xRSSCGFywTGQ4xEIlAqlbytpkajQVdXFzIyMnD8+HEAQF5eHiwWC4qKirBw4UJIJBJkZmYiPz8fEyZM4O0WI5EIuru70b9/fwwePBhnzpxBe3s7JBIJfvGLX6CtrQ1NTU3o6uoC8L0FDbPCUalU6N+/P6cDiMViDBgwgPtcGgwGOJ1OqFQqbn9ERLj22mthMBjgcDhgt9uh1Wqh1Wp5m8qsrCyUlZXB6/Xi/PnzKC0thdfrRWdnJ2w2G6677jqYzWbEYjGEQiEYDAYUFBRg+PDhKCgo4AseU2ozb1X6TjVfUlLCFeR6vR7Dhg2D2WxGIBBAQUEBTp8+DbPZjJkzZ3JRSlZWFgYNGoTx48fj1KlTvOSp0+l4B6fGxkYcOnQI06ZNQ0VFBS9rl5aWIiMjAwMHDkRXVxd0Oh1uvvlmTtOoqqqC3W5HVlYW1Go1GhoacOjQoaRuW7m5uUhPT+f+q0ePHsXPfvYzFBUVIRwOo6OjAwaDAf3790dnZye6u7u5pRLroFRTU4PDhw/j9ttvR3FxMQKBAKLRKEpLS/Hb3/4Whw8fhtVqhUAggNFohMFgQG5uLvx+P4DvHQkEAgGnoQDgz4fH44HL5eKfFwqFUFBQgMrKSpjNZuh0OhQVFeHKK69ER0cHotEoPvvsM7hcLhiNRrS1tXHu66hRo7Bz507U1tZyARXzS/V6vYjFYjAajbj66qtRXl4Or9eL7Oxs3H777SgvL0d1dTUikQgaGxuxa9cu3HnnncjOzoZQKERBQQH0ej3GjRuHjo4O2O12HDx4EMePH4fRaAQRQaPRIBKJIBwO49prr8XOnTuxdetWuFwuKBQKFBYW4osvvsDdd9+NiRMn4rnnnuObFoVCAYfDAYVCwT1lu7u7odFoMG7cOAwaNIg/m0VFRXyT5vf7sWfPHhgMBixZsgRKpRIOhwM6nQ4TJkyARqOB1+vlz2NBQQE0Gg08Hg+ysrJgsVjQ3t4OgUAAjUbDrexGjx4NrVbLg/uxY8dCLpdDJBLBZDJBIpFwlw273Y5AIIBwOMw3ZTfdFEwGigAAIABJREFUdBNEIhEXxy1cuBBarRZbtmzhokCr1QqxWIx4PA6XywWr1Qq32w29Xg+32w2fz4dwOIzi4mJUVlaib9++UCgU0Gq1/H6Ew2E0NTWhvb0dBw8exPjx46FQKGAymS76fF8qUhnVFFJIIYXLBJa1CAQCkEqlPIBiXWSUSiX69OkDoCdAU6lUAHr4pxKJBFarFVlZWVwlLZfLEQqF8Prrr2PPnj2QSCQQi8Xo3bs3z+gVFxfzDjOxWAzFxcWwWq2QSqUwm8146623sHHjRsjlcthsNqjVarhcLuTk5CAQCOD8+fMYOXIkDAYDOjo6ePZHIpEgFApBr9fzbAnjLDJBjsViwTfffAOTyYTJkyfDZDIhJyeHcx+ZGXljYyP3IWWG/8z/kV1Teno6vF4v5zUGg8GkXvYmkwkqlQo6nY4vugUFBWhpaYFGo+GCIqvVCr/fz1uJ+nw+yOVyZGZmckV6Y2Mj5s6dC5/Px70pW1pa4HK5uHk/0JOd3r9/P+rr67Fv3z5s374dBoMBLS0tWLx4MSorKwH0WG3Rd1zcYDAIvV6Pd955B1arFfPmzcOsWbMAfG+IHw6HodfrsXDhQh5Mq1Qqnok7fvw4P3dm/+X3+xGJRNDU1IRTp06huLgYOTk5cDgcsFgsPCvG1OOU0GKTiDiPl3l3suMzdwOgR2BFRHC5XMjLy4NIJIJYLEZtbS1MJhNGjRrFs5jd3d1cvCWTyZCZmYlIJAKxWAyLxcID6I6ODjidToRCId7GNC0tDQUFBaitreXdvRobG6FUKtHd3Y2srCxoNBp0dnYiLy8PDocDZrMZpaWlsFqt6N+/P+88BfSo/IuLiyGRSHh3LMZNffHFF1FXV4cZM2ZApVKhuroaCoUCUqkUaWlpUCgUfOzEYjG3j4rH43C73bwTGWukAPQ4JvTu3RtmsxkajQaZmZmwWq1obm6G2WyGWCzm7zYDszdjGwe2cWRZ9HA4zDPVQM/Grbm5GUqlkgfvbLPI5gW1Wo2qqirodDrIZDKYTCbk5uYiFArB5/OhvLwcra2tiEajnIvMnmudTofS0lJEo1HI5XKoVCo0NzdDoVAgIyMDdrud3wugh3c8bNgwtLa2YuzYsdi2bRs++eQTfPLJJ3j33XfR2toKIvq3z/elWGgBqUA1hRRSSOGygfXyZhMyWzRZdtXj8UAsFnPFPwtApFIp9Ho99Ho94vE4dDodTCYTOjs7YTQaUV5eDo1Gg9tuuw1qtRpqtRrhcBitra0YOXIkpFIp7HY7vF4vCgsLIZFIoFKpoFQqMXfuXNx0002QyWRQKBQ8qPN4PBgyZAjq6upw8OBBXH311bzMx0rJzFqJlUjFYjG0Wi1EIhEPAGOxGCZNmoRbbrkFAwcORGdnJ/R6Pdrb25Geno6BAwdCLBYjHA7DaDRyWkJaWhqCwSAyMjJ4CZtlo8LhMEpKSiCTyXiAZjQaoVKp0N3dDb1eD6vViszMTFxxxRXwer0IBoOQSqXQarXwer0YPHgwAoEAsrKyeBYY6FFey+VyfmxGB1Cr1cjMzORq6rq6OpjNZqxZswYTJ07EkiVL8OKLL8Jms+GPf/xjUglUKpVCLpejsLAwSVUfi8Xw4IMPYuzYsVAoFPD5fHA4HLwjFwusLBYLlEol0tPTuZ0TCyokEgn/06tXL2g0GhiNRpSWlnJhGHMBkMvl/H4lXhsTAXm9Xp55BXqCj+zsbBQWFsLr9fL7qVAo0N7ezsV4ffv2hUwmw9tvvw2VSgWfzwe1Wo1AIMAz3+3t7dBqtZBIJEldu4AeQ/lIJMKDbvZZ7L6xMQR6Au2WlhaoVCrk5eWhuLgYZ86cQSQSgcPhQHNzM/R6PVQqFerr6yEWi1FSUgKhUIhgMIiRI0dCJpPBYrGgoaEBs2bNwh133IHHHnsMvXv3xsSJE5PGxOPxQKfTob29nYu4otEo0tLSoNfreUDLsrfM2un/svee4XFWZ/7/Z/poNJqialVsy3LF4ELAmDgYcIDQsWEJppmeBMNmk2yK4QqhBAgkhLKEHiA4JAFCCQRjlmo7BbBNsw3Gkqw+0vTeZ87/hXIOI0Mw115/rvDbPZ83lkejp52n3M997vv7TaVSKsiWOrEzZsxQphj5fF4F8/X19ZRKJUZGRmhsbGTy5Mm4XC6VdTQYDNhstgnuUgaDQc0ySBtTg8HA8PAwJpOJsbExXC4XHR0dxGIxZa0KKNUH+SIoP4ePZPHEP+S6EokEg4ODBINBJk+eTG9vLyMjI7S1tVFfX08qlaJYLFJbW8vQ0BBLlizB6XQyY8YM3G43//Ef/8GcOXOwWq0qu/zPzu/POvWvA1WNRqP5nJAuRPLBYLVa1c9NTU3U1tYSj8dpampStZeJRILa2lolpSM946UOpMlkoq2tjffee49TTjmFaDSKz+dj1qxZar3Dw8O0traqjI/L5SKdTtPT00M8Hue4445T8kA7duygq6uL7u5uisUi06dPV8G0FAKvqqoil8thtVrp7+9XU/dvvPEGLpcLIYTaLzltuGLFCmpra9m6dSsLFiwAxoMB6acus2XRaJRSqaQepDLDJEXarVYrDoeDsbExWltbKZfL2Gw2MpkM3d3dqtbtoIMO4tprryUajSpbyFKpRDAYpKmpiU2bNnHCCSeo7vdgMKiC0MbGRt577z1VTmA0GmloaMDpdPL666+r7X3xxRcB+M///E9VA9zc3KyyfH6/Xy0zEokQj8eVJeehhx6KyWRi/vz5HH744QwMDNDR0aHGLBQKEY1GsdvtNDY2AuNlG1VVVUybNo2RkRG+/OUvk06nSSaTNDY2sn37dgwGgwqGY7GYenmIx+N4PB41fpW6tna7nWQyqQIqg8FANptV7lUy8y11f2X2S75AzJkzh7q6Otra2jjggAOUnJFcvzw/pKRRbW0tsViMWCxGXV2dCsLC4bDKPvp8PubOnYvJZKK6upqZM2eqLKPUs41Gozz77LMcddRRNDU1kc1mOeuss3juueeYM2eOmp0IhULEYjFsNhsDAwNUVVVRXV3NvHnzOOOMM5g5cyabNm3i/vvvZ+HChWrWA8ZfBGpqalQtrpT5Ev/Q1i2VSqRSKaXkAeMOYY8//rh6MdixYwdz584lEAjg9/uVa1hlgJhMJlWwNzo6qjLv++yzDzU1NaTTaTKZDAaDQWVlu7q6lBavvJ/IFx7pfNfU1MS2bduIRqN4PB7eeecdurq6yGaz/P3vf+e0005T5UM1NTXqRS0cDpPNZmlpaaGhoUG5qdXV1akXZviornt4eJh4PK5KhRwOByaTiUMOOYQjjjjiY/Jan3R+f9aMqq5R1Wg0ms+JSmecXC6ntA2j0aiytTSbzUQiEYQQtLS0qAyVrLmrrq7G5/ORzWaVf3xXVxe9vb3cd999eDweZs2aRaFQYGhoiHfffVc9TOLxOIVCgXg8jsPh4LzzzuPdd9/lN7/5jdrG2bNnEwgEVEZndHSU5uZmZX0ptShHRkZwOp2qnjSXy9Ha2srQ0JAKSEZHR5kxYwb5fJ7bbruNVCrFggULEEIwNDSkaha3b9+uatXkVL905pG1a1J0PpvNEo/HMZlMuN1u7Ha7qresq6tj0qRJvPPOOxx22GEkEgnuvvtuFaCbTCYKhQJvvPEGTU1NJJNJJVXk8XgwmUxMmzaNGTNm8Je//AWXy0VjYyMWi4VQKMSmTZv4yle+QigUYnR0lHg8TmtrKx988IEqLRgZGWHHjh0IIdR0t5yGlQESjAcmxx9/PL/+9a8ZGhqio6ODUqlELBZj8+bN1NTUYDAYVGmDNEE44IADmDp1Ks888wyAsrBMp9M888wzHHPMMUyaNIlUKkVbW5vytJdB8NjYmDqmsqFHZnfluMnspjzePp8Pk8mktiUQCNDS0oLD4VCZ3VAoxLvvvguMBxyhUAiz2czY2JjKjldXV6v66draWurr6wmFQjz++OMkEgmVMfzggw/YsGED++67L3a7nfb2drq6unjhhRcIBoNq+/P5PK+99hrz589XtY91dXVs2LCB2tpa9SJkMBh45JFHmDdvHl1dXcybN0+9BBWLRfx+P1deeSXDw8PcdtttwEfBcKlUUg188vyXzZBWq1XV+xYKBTU9fvjhh9PX18f69eux2WzMnDmTRCJBJBJR8mDyHJDBrcfjwW63E4/HVYmQxWIhEokQi8WoqalRpS7Nzc1ks1lCoRA+n09du/KFNBAI0NnZidFopKamhmw2yzvvvEMul2P//ffH4XDw/PPP4/P5OOWUU4jFYjQ3N6t6XEC5deVyOfL5vLJCDofD6v5UKBTUC4fL5aKhoQG/34/H48HpdHLMMcfw61//moGBAVKp1F7P78+KzqhqNBrN54SsxwKUXqEQgmg0ypIlS7j33ntZv349CxcuVNOlUhdz6tSp6gHZ1tZGNBqlrq4OIQQLFy5k+fLl/OAHPyCRSHDYYYexYcMGNm3axOzZs/n617+Ox+PB5XIxNDSk7Crb2tpYsmQJDz30EN3d3Zxwwgls3ryZp556iiOPPJITTjgBq9WqgkFAid27XC66u7tVpreqqopQKMShhx7KunXrqK+vZ/HixZTLZS655BIuvvhiLBYLXV1duN1unnrqKQYHB7nxxhuZPXs2RqORUCikArmxsTG8Xq86ZtlsVikhwHimK5PJqMBW/MPq1G63Y7fbmTRpEt///vdZs2YNdrud2bNns2vXLtasWUNtba0KhGE8UAuHwzgcDux2O0cffTTd3d2cc845nHrqqZjNZp577jl6enrYuXMnbrebUqlEZ2cnzzzzDFdddRUXXnghPT09vPjii7zzzjuqntHlctHe3o7dbue5557DbDaz7777MnnyZE466STOPvtsbr75Zg444AC8Xi9PPfUUo6OjLF++nNNOOw0YDxxlvWWhUGDFihXcf//9rFy5knPOOYd0Os1DDz3E8PAwV199tQrcd+/eTblcVkEGMMFhqq6uTumJys7x++67j5UrV7J48WK6u7vxer3MmzePeDyurDIdDgevv/46K1euJBqNcuihh3L55Zfzox/9iM2bN7N8+XIikQhPP/00pVKJCy64QGnstrW1kUgkVAAFsHHjRvx+P6tWreKPf/yjckSaM2eO2s5LL72U008/nWg0yvLly0mn0zzxxBM0NDSwcOFCVfP5la98hXfeeYeTTjqJVatWUVVVxSOPPMLf/vY3Hn74YWVfW11dTTqdVi5LiUSCFStW8Nhjj7H//vvzla98RWUyZcbPZrMxMjLCggULcDgcqkazsbGRbDZLLBajvr6ebDbLLbfcwpVXXskHH3zAmWeeyfPPP8+dd95JPp+ntrZWNRZVjqvcNrPZrOqaZR1yOBxW12A4HKampoZEIoHValVB44wZM1TD2KJFi1i4cCHf/OY3eemll/jBD37ABRdcwLx583jqqad4+umn+d73vqfUKoLBoHqhA/B6vQwPDzN9+nSefvppampqOPjgg1XTlrQNlvW7Uv0jFouRSqVobGzkxBNP5MYbb+Qb3/gG5513Hk6nc6/n92dBB6oajUbzOSE9tyvr3AwGg+qkXrlyJeeeey5nn302999/PyaTiWKxiNfrVdOpMN7ssM8++/Dhhx/S1dXFPvvsw09/+lMWLFjAY489xhVXXMHUqVO56KKLOPnkk2loaCAUCuHxeGhra6NYLJLL5ZgxYwYPPPAAa9eu5a677uLuu+/my1/+MocffjgXXnghXq+XsbExqqurcTgcxONxampq1LToAQccQENDg/K0X7ZsGX/605948cUX1bTeggULOP/88zGZTDz88MNcf/31TJ06lbPOOotvfetbzJ49m/7+foxGI/vssw9+vx+n00l1dbXKWi1YsEB1SrvdbpURkw91aR0qg135wF29ejXhcJgHH3yQ3bt3c+aZZ3L33XdzzTXXYLVacbvd7N69mylTplBbW0skEsFqtbJ06VJMJhP/9V//xerVq5k7dy4rVqxQDVhDQ0NMnjyZU089lUQiwW233cbKlSs56aSTOOaYY5g9e7bKEH/44YfU1NRwzTXX8N3vfpeXX36ZJ598kng8zpFHHskbb7zBGWecwZ///GesViuLFy/m29/+NkuXLsVgMBCNRjGbzSrbaLFYOP3005kyZQr33HMPZ5xxBl6vl8WLF3Pdddcxe/ZsotGo6t6X9aP9/f20tbVhNBonTMNK/3aTycTpp5/OY489RiAQYObMmSqrvmXLFs444ww1xZzJZFi6dKnKEBuNRg499FDuvvtufvOb37BixQoaGxs5/fTTOffcc5kyZQrhcBhAOWL19fWRy+U4/PDDWbZsGZlMhqOPPpqWlhaWLl3KUUcdRXt7O4CSB3v++ee56aabWLlyJVarleOOO45vfetbHHjggYTDYVKpFIceeigul4u7776bH/zgB0QiEZYtW8bvf/97FixYQCqVYnh4WMl0hcNh1YS3evVqXnjhBW6//XYcDgdWq5XJkyerzHM+n2fmzJlEo1GGhoaUreru3bsB2HfffamqqsLpdLJq1Sp2797Ngw8+yBNPPMH8+fN5+OGHOf3008lms+plqVgsEo/HqaqqYmxsDIvFwsEHH4zJZFKuYosWLcJsNisXL/nvkUceSalUIplMkslkOO6441i3bh2/+tWv2LZtG06nk5kzZ3Ldddexbds2fvKTnxAIBGhqauJ73/seq1atIhgMEovF6OzspFwuk8vllBKJNG545JFHuOyyy3jmmWcwmUzMnj2b1tZWpSxQVVWlmkKrq6vVy+XJJ59MVVUVf/zjH7nyyisxmUyfen5/1ql/Lfiv0Wg0/0P2JvifTqdFuVwWpVJJZDIZJWgtxLiYuxS+DgaDIhKJCCGECIfDIhAICCGEuhdHo1ERDAbVPTkYDIpwOCzS6bQYGBhQy5F/L9cjlymEEH6/XwwNDSnx9WQyKdLptCiVSiIejwshhMhms0IIIXp7ez9xfzdv3izS6bTatkQiIUZGRkShUBCRSET09/eLnTt3TvibaDQ6Yb/lPsXjcfW3kmw2K3K5nHjjjTdEoVAQ0WhUCCHEBx98IIQYNyyQ68/n86Knp0f9bSAQEJFIRKTTaWWMMDQ0JHK5nHA6neKZZ56ZsA2hUEgIMS4uXrlP8XhcGSTI4ySEUOPo9/uVsUHlcZfHWorsp1IpkUql1FgODQ2JUCgk8vm8Oga7d+8W4XBYZDIZkclk1OfyuPl8PhEIBNT5JD+X4/RJn/n9frVdhUJBnZtyGfJ8lcc9Go1OGLPK/ZfnSjqdFtu2bVOi8lKwfmRkRIyMjEwYX0nlWFUeR2nO8M+QxhGlUkkkk8kJ5gHyOO1JsVicsC6/36/WJ/8VQqj9jEQiE7a5chzl8rPZrIjFYhPE+YUYN0xIJBKiWCyKkZERIcT4Mdy8ebP6jtzmHTt2CKvVKl5++WVRKBTUcd3zeG3dunXC/996662P7WM0GhW7d+9W561cRjabFTt27FDfk9ubzWbV/aJQKHzsGqw8x9Pp9ITjJ4SYYArw4YcfqvNanjcyZpSMjo6qc12I8XvI3s7vzyr4byiXy6JySkRG8VKoVxZpazQajWYi4h+ZBNk0JbMMsh5Ofg4o+SUpSSP+0WUrCQQCqrkhHA4raSApKQSoTl8pjyOpXE+hUFCWlVK6yWQyqd/7/f4JXeTiH/JDHo+HdDqNw+EgEAiQz+dpampSncJ7bnM6nf7Y5zIDJ4RQHc5NTU0Aqtawrq7uY92+6XRa1V2azWbV8V1J5T5KA4Kamho++OADZs6cSSwWY8uWLcyZM4fGxkZisRiZTIa1a9eyceNGfvazn9Hc3IzL5VKNRpXLDofDOJ1OlcXetWuXkrCS2U35O1HhVZ9IJJR0l81mIxaL0dTUxODgIFarlaamJgKBgCq/6O3tZerUqXz44YdMnz59wjEoFApK61TW08pjFYvFsFgs6nwYGBigvr6eSCRCa2ur2i6DwaAaxsQ/GoAk8vzcE/msj8fjuFwu8vm8qpusbACSyCaoyvNHNtvU1NRgsViIxWK43W5GR0dV/WhjY6Mq95CWtLFYjGw2qxq+jEajmmaWyE73Sk3YfD6P0WhUJhFSOkoIoexqZY1k5RR35fZLuat8Po/VaiUejyOEwOl0IoQgkUjg9XrJ5/NK8kvqzcrxlLz00kscdNBBCCEYGRlhxowZXHPNNbzyyiv84Q9/UPWcDodDKRvIhj9ZzhKNRtWYy/NdZuqlqkaxWFRybrLpUc6+lMtlenp66OrqIhAI4HQ6yefzSplA1pZWNt/JqXy/30+5XJ7QdCd/JykUCqrswGQyEQqFlJqIEELdn+QYVfJJ57dsDpXnrSwJKBaLWCwWde7qQFWj0Wj+h+wtUJWSTvI7ewaNRqOR9957j7lz5wLjU/x2u109LGQjhnRySaVSE+rEwuEwHo8Ho9FILBYjn8+rYBfGp2ylpFTlgyOTyRCJRFQQKRtfRkZGaGpqUvd9Kacla0IdDody2JLThnV1deTzeeLxuJoKlI0hgJIfcrlcSjJI6rfK7ZKyVLKZxOv1qq7lUChEXV0diURCTTvLB7qsIWxubuaDDz7g8ssvJ5lMct5556lmnNtuu41vfOMbXHTRRTQ3NwPjnuQmk0mtQx4vqTe5Z2BTWa9ZKZBeKBSUXm0gEGDSpEnqQS4DTFl2IZ+n1dXV5PN5TCYTw8PDuN1uXC6XOg6y/rfyvJHBifjHNPCe+psul4tsNquUEeLxOE6n82MvM/Kck6TTafWi4XA4Phawyv/n83kV/EoveYvFwujoqDJ7qLwmKl/S5HhWBiOZTEY1DdpsNrWvcmyMRiNVVVVKRWHPoFUGQ3JbKvdJHhPZRS9rnKPRKE1NTWo85MuHDELr6uqUGoTD4cDhcKjAKZfLKRknSSgUUvXRPp+Pc889F4/Hw7nnnovX62XLli3ceuutnH322VxyySXY7XZ1DlUi63flvhsMBhwOh3p5qq+vVyYPdrsdi8VCMplU15j4h+bqni8U8t4zMjKiyi+KxaIyNRBCkM1m8Xg8StWg8jhL8wf5IiR1XT0eD/l8XqlJyOtGvlzKe4PJZGJgYOBTz295fulAVaPRaD4n9haoygxhZaYRPspshUIh6uvrEULQ19fHlClTAOjp6aG9vR2j0ahu7PLBIwO2vr4+pk6dSiqVolwuq4cdjAe48gEtA0TZES0zIIAKPiSyXk3K1TQ0NKiHiPy3MviuPA6VgXAikVAZVlmjKzOBqVQKu90+4QElM39Go5FcLqeCeSEE6XRabW8+n1f/ymyR1WpVD8pCocDPf/5zHnvsMd566y1WrVrF/Pnzueyyy9R2DgwM4PV6JwiwV26TVGcwm80MDg6qrKcci0rTgU8KvuLxuMoWSRkoGfj29/fT2trK6OioqneUQa/MMsJ45spoNKpgTI6J7KaXQVNlICjdhiq1N/cco8pxMhgMxONxFUDFYjFKpRL19fWUy2XV+GQ2m1Xw6vV6VTayMsMnx1iOh/y+3A+v16uMBaQNsPiH45i8bqRaggyAKs8xaW/a0NAwYbxlc5GsW5YvctK0ofL8rtx3+aIwNDSkrrPR0dEJjWeyu16K38vtkPqgctnSzADgl7/8JbfeeivpdJqpU6dy6aWXcsYZZ6hxluupq6tT2rPSFEPWfadSKSZNmjShllP+rXyBkP+XddyV+rjyepISbXIMEokE0WiU9vZ2TCbTBDMBqY0q1Twqu/4rs/MyuwsfBbKyXlXGkCaTiXQ6TTQapaWl5VPPb/l9HahqNBrN58TeAlX54JUZoMrMj/xuNBqlUCioqUQ5pSkfCJXSNl6v92P3ZTktarVaVZd8ZdAqs2EyC5vL5VT2U2bChoaGcLlcKviTAuDShEB2/geDQVwu14R12Ww21U0trVXlA01mauTxkdsdDocZHh5WmWRpMZpKpVSGR2ZoQqGQ0pKVouHSLcjhcGCz2ZTzlsvlIhKJYDabJ7gaASqgA5R0jgzSpOGCzWabkAmWY9Dd3U1HRweZTEZpZcqgbGhoiNra2gkZSfn3cgq0ct3yvInH48TjceWSJUkkEkqXVmZpJaFQCIPBoKbXZYmHzJbJJilpqSkzyJUvETKQkT/LwFNOH0sjCjldLzPdchkywJEvI9KQQB5X+dK058uLDH7lsuS0sYw3ZMAD45neUCikPOXlMZW/rwxAS6WSumYAZTAgVTJkQG40GkmlUipbKpcpx1Fm2WWWsRLpTCWvg8p9qsysy3GX5xuM6wqnUilV0lJZwiK3X74gyZctuQ8yEJRNhnIGIJ/PK2k3eS5ZLBZVClGJ1EuV2135YiHLA6QzGaCcySqn/SsNBuR9TsqnSeQ1WXmeDw4Ofur5DTpQ1Wg0ms+VvQWqMP5gkEGLvClXTsPKTn+z2TxBT1FOCUqJKnljT6fTpFIpFdhWBpRyGlV2BstaPSmDI7vm5bbJAKqyVk0Gm/KBK58HVquVsbExVS4gH/Dw0fRzZeBqMBgm1J1arVYSiQSlUkkFAqVSSQUUgAos8/m80vmsnFaW2atKeZvKYLSyFlQGVPLhXvl7mT2TwYDJZFL7kk6nKZfLqpZQmg3I/ZbHQwbqMtsm9z2TyeD3+9lnn31U1lEGgbKMYc/ygMpga8/6XLkeWWcoP6t8mZFi/JXTr/JFqfIlac+6wUQioVQmpASSXGbld+UxjsViJJNJVRMLKFF6WVdZWbsrJdkqp7c/SZpIZoOlIsGeU/l7voBFIhFVQlEqldTUshwbmfmXmdNsNovb7f5YnfOecY4cL3nNSd3iymxhuVwmnU6rz6uqqujv76e9vX2C5a8kmUyqMoJYLEZjY6Oq4a6trVWlFTLzLmcRZEmD/FmOh7SclUGy/Bu5X9I2tfJFSZ5fsrZdvkRWqjpUapzueb7mcjlVNyzPc3mspSJIZS19JpNRSgKfdn7rqX+NRqP5nPksgaokk8moALVQKHzuYD0IAAAgAElEQVQsayORGUEp+xIOh6mrq1NB08jICB6PRz38ZLArdR1lQCWDMRkEVwbIUmJGZnoqp4xjsZjKoslmk8oHtWy0kU03MtiStW976p3KBhW3260EymE8IJaC6nK9Uq9UBl2yuQs+CiI+iUwmoxy+9vxu5RSnFKOXWZ/K/ZLPu2KxqOSo5N/LKXyZzbJarRMyX9IrfU9kQ5S0uJTbJ6nMbEmnpUgkojKhleeWXN/AwAAtLS0Talhl0CG/IzOOldsoA6bK2kAYLzPp7OxECMHY2Bg1NTXq2O1t/OV65LIrSzUqLXWlHS6Mvyw4HI5/Opaa/zt81kBVO1NpNBrN50QqlSIej6tuWmmj6PF48Pv9wHjAFgqFlAOM1+tV9qWyJKAyc9HS0qL8uC0Wi5o2lzarw8PDhMNhJk2aRDweJ5FIkMlkVBAkm4hk3WM6nVaal4CaUgwGg7S0tBAMBolEIiqAlKUGMNFdRjZYFItF5VIEKAcfGBef9/l8qlRAuvTcddddzJo1i3fffXdCx3BllsZms+H3+xkcHFR/98orr7By5UoefPBBFQQGAgG1P9lsFqfTSSgUUoGs1+ulu7tbHQsZBEq7U7PZzOTJk0mlUoTDYTXVLzNWwWCQ4eFhtf9Go1EFqdlsVmWNS6XSBOcfGTDCeHB4/fXXc+211yqL3UKhoFyIhoeHSSQSjIyMqKxaMpkkn8/T0dGhsu9y/blcjmAwiNFoZP369Sxbtow77rhDHcfKTBowYYpdTqEXi0XWrVvH2WefzWuvvUapVNrr+Mspc6fTqV6Y5Llrs9nUOeHxeFTtr6wzlTWwGs3e0IGqRqPRfE7sGeTE43FSqRRvvPEGl19+Oc3NzdTV1TF//nyOPPJIurq6OOOMM3j33XdxuVzY7XaCwSBr1qyho6OD8847T9WVtbe3UywWVfduKBRi/fr1HHHEEZxzzjn09PTgcrnwer1UVVXx/PPPs3r1alpbW5k7dy7nn38+Dz74IB6Ph46ODjUNLKf/KmvW6uvrMRgM+Hw+HA6HCrTNZjPvv/8+gJKyKpfLtLW1kUqlGBsbo66ujkAgwNatWzGZTDQ3NyvZoJaWFgBmzJjB3Llzqa+vx+fzqexKMBgkmUySSCQol8s0NjbS3t6O2+0mHo9z2GGHUSgU8Pl8jI2NMTg4qJyhgsGgyi5KJYJYLEaxWGTatGm43e4JlpZer1fJ5gBK5qhyur1QKNDS0kJrayvRaHSCVe3w8DB2u52amhqKxSKFQkF1hsvAPJfLsWXLFpXB3LZtG6lUimg0SjKZVOuGcZkneXykWYGU+BocHKRYLFJTU8PIyAhWq5X6+npMJhMdHR04nU6am5tVllVKIElk6YHD4aClpYWRkRHV4DQ4OEhDQ4MSvf+08Zc1toFAgEgkQiQSUeenrGGV+yTrG+UyP0mCTKP5JHSgqtFoNJ8jstYTUFP6DQ0N9PX18aUvfYmtW7dyxx13cOGFF3LbbbeRz+dZvnw5r7zyipqSb2howGw2MzQ0pKbyZYAlNVEbGxt588032blzJ4lEgs7OThUsXn311Zx55pm0tbVx//3389xzz5FKpfj5z3/Oww8/rLYvk8lgMpmIRCLU1NQQDofV1L70a5cBTGNjI263m1mzZpFMJtm5cyd2ux2r1YrP56O6ulplOaVjVblcZmhoSGlSAuzcuZNNmzYxOjqqpKFk9rG+vh6n00lNTQ2vv/46p556Kvfeey/pdBqbzUY2m+Wtt95SU+ft7e0qyytrXXO5HHa7nerqavx+v1JDkNPWTqdTjZHb7VZSQA6HA6fTyd///ndGRkaor68nGo3S19cHoKSPpDZla2srpVKJcDisGrXq6uro6+vD4XAoSa2FCxeSTqc5++yzuffee6murqatrQ2v14vJZJqQgZZqArFYjFwux6RJk7BYLNTX16sgWb5gpNNpuru7yeVyjI2NEQgEgI/KG2TwL5vjZJMXjE/pSzvZUCiEzWajqalpr+Pv9Xrx+/00NDRw00038fOf/5yGhgYCgYAK/CvrFOW2yNprjeazoC1UNRqN5nMilUpRKBRUXWM+n8fhcNDc3KysEqdMmcL8+fPV38ydO5dbbrmFO++8k4MPPphkMqm6brdu3cr69es555xzlEC52WwmEong9/t5+eWX6erqwul0qqaK/v5+tm7dyo033sjZZ5/Njh07OPDAA3nyySe5/vrr+eEPf8j06dNZtGjRhA7hQqGgunUDgQDZbJb29nYVIAUCAaqqqvD5fHR1dTFjxgxCoRBCCJqbm1WAVemdPjw8rGwyo9EoqVSKGTNmMHPmTFWXZrPZlEh8qVSit7eXlpYWPB4PH374Ifvvv78qCeju7uawww5jwYIFZLNZVccLH+lTSm1MgK6uLrXtDQ0NE+pNZU2llA6SjTuLFi1SYyNF6ePxOOl0mkmTJrFjxw7mzZtHJpNR2cbKDLqsdR0dHcXj8RCLxTCbzbS1talspxCC/v5+Ojs7Vd1xOp3GbrcTj8eVjqxUZJCZ0lAoxIwZM4DxhqTOzk4ikQhDQ0PqmMvMsCwfcTgcqsFGjqXMgGYyGWbNmkW5XP5Yk9onjb8QQklV7dq1S5kNNDQ0KDUBIQSjo6Oq7nZwcJCmpqaP6YlqNP8MnVHVaDSazwkpzSKbAmQwEI1GCQaDpNNpPB4PqVSKgYEBQqEQc+fOpbOzk/7+frq7u1UTz1FHHcWxxx5LT08PhUIBg8GA2+2murqa1tZW5T9+yCGHUF1drTJrY2NjrFu3jvb2dmpqajjooIPUtlx00UUsW7ZMdfHK7ZQyQtFolHA4zP3338/y5ctpa2tj2rRp3HLLLTQ0NOB0Omlra2Pt2rUsXbqUl156iccff5wDDjgAh8PBo48+ytSpU1UgJF1+vvvd79LS0sLRRx/NTTfdxPr166mtrVVZQOnOk0ql6Orq4oILLmC//fZjaGiI3/zmN8yaNYsPP/wQm83G2NgY7733Hq+++iqXXHIJ1dXVLF68mJ6eHtWlXl9fT319PTt27OD8889n3333pb6+nuuvv54tW7Yonch0Oo3RaFTZvoGBAQDWrVvHEUccwZw5czjkkEO44oorlNblwoULefbZZ6mpqeG3v/0tF110EQaDgUcffZSdO3diMBj485//zO9+9zsMBgOvvPIKxWKRH/zgB6xZs4a3336b9evX861vfYuenh6VTXY4HDz88MOsWrWKF154AZvNhtPp5He/+x1HHnkkNpuNCy64gGuvvZb+/n7lilUulz/WjCUbpyo7/99//30uvfRSGhsbmTNnDnfccQcDAwP4fL4JGeRPG/+GhgbWrl2L0+lkw4YNbNiwAYfDwW9/+1tV6tDX18dNN91Ec3MzTU1N3HjjjfT09KhsrkazN3SgqtFoNJ8jUgUAoLW1laqqKpqamlQtoWzY6ejoUA1WM2bMIBKJ0NDQQFtbm/rOkiVLWLduHevWrSMWixGNRolEIsTjcdatW8fChQvZf//9lf1pU1MTZrOZjo4Otm3bRjAYJJvNMjQ0RE1NDUajkXvuuYf58+fT29ursoiyrtDj8XDRRRfx0ksv8e1vf5t169Zx1lln8dBDD3HnnXeqrKjb7eatt97irrvuYnBwkB/+8Ic88cQTXHHFFfz4xz+mt7cXi8WC0+nkO9/5Dq+//jo33ngj119/PX19fbz77rskEgmy2SzJZBK3283Y2Bgulwu/388vfvEL3nvvPTo6Ojj55JNZv34906dPp729nVAoxPPPP8/f/vY3jjzySH7729+ycOFCjjrqKKV3mkwmefbZZ7n88ssxmUzcd999PPLII7z99tvcfvvtyslJ7rcM7Do6OvjFL37BxRdfzNKlS3nyySc555xzePXVVznvvPMYHR0lFAoxdepUXC4XV199Nel0mvvuu49jjz2WaDRKbW0t//7v/84777zDL3/5S4444ggMBgP9/f2k02nmzJnD5MmTGRoaYtOmTcrBrFQq8frrr2Oz2Tj44IMxGAx885vf5L777mPJkiVs3bqVWbNmsX79etatWweMN0clEgkmTZpEOBz+mIVqZaf/ww8/zMaNG7n11lv5/e9/Tzwe58EHHwRg1qxZ7N69e6/jn0gkOOGEExgeHmbFihWccsopjI2NceKJJypXo0suuYRIJML999/PAw88QCwW49///d8n1ONqNJ+GnvrXaDSazwkpLSStHiWBQIBgMKjcY4LBIHa7nZkzZwKwYcMG5TolfePNZjPHHXcct91224Qaz4GBAaLRKK+++ir33nsvpVKJRx99lGAwqILbX/3qVxx55JG88sorXHTRRXzta19TDS3SI1xOi0tjgUQiwV//+lfy+Tw333yz6jZfs2YNQ0NDbN68mdNOO01ZPJZKJS666CJOO+00JbL+/e9/n7/85S/88Ic/xG638/vf/55HH32UO++8k2OOOYaqqioWL17M2rVrueOOO+js7FRSUm63m1QqpaawY7EYRqOR+fPnK/H9ZDKJ0Wjk4IMP5rTTTmPatGlYrVamTp3Kiy++yNq1a7n44ouJx+O8+OKLtLe3s3r1aqZPn66ylhdeeCEvvfQSJ598smo4qqqqolQq0d/fTzAY5OKLL+byyy8HYMGCBXR0dPDjH/8Yt9tNsVhkdHSUQqHAqlWr+N73vqey0V6vl2QyyXe+8x0uv/xyYrGYaiKq9LufOXMmhx56KDt37lQuWYFAgEwmw7x586ipqeHdd9+lr6+P2267jQULFpBKpfjxj3/MDTfcwMaNGzn55JNpaWmhr6+P3bt343a7lVxa5fkohGD79u089thjPPTQQyxatIiqqioWLVpEY2Mjd955J8lkkqlTp7J+/fpPHf9zzz0Xk8mkzmGDwUBjY6Oqo77vvvswmUxcffXVNDc3YzAY2G+//bjkkkt4+OGHWbNmzed5+Wn+l6AzqhqNRvM5UdkwIoPWdDqtZItkE099fb0S9b7pppvYvHkz8+bNU65E06dPZ3BwEKvVyuWXX85dd92F3++nVCrR0dHBww8/zJe//GUOO+wwXn31VWC8C9/j8SCE4Ktf/SobNmygo6ODCy64ALfbzbJly3jhhRdUAJhMJslkMkpqyOl0ctRRR/HYY48xd+5cJWdlsVhobW3l/fffV4Hd6OgokydPZvHixRgMBtVgNHPmTMrlsmpAev/992ltbeWEE05QwVxtbS1ut5tAIKCEyKW8kWwYA5Tto+yql37zADNnzmTmzJnq/3PmzKGmpkbVq6bTaf70pz/R2dnJ9OnT1T4vXLiQWbNmKeUCr9erTBekjeT111/Pj370I2C8ASudTlNXV8fAwAA9PT00NTWRy+UolUqceOKJ2Gw2IpGImvoulUrqBcTtdqvazGw2S7FYVL7tixcv5q233qJUKlEoFNi2bRt///vfOeeccwiHw+y3334899xzalrfbrerTvpCoUB1dbVyV5JNbYBqHpPHAeCNN95g1qxZHHzwwarcAlCKDKFQCGCv4y+tMUOhEG1tbUyaNEmpQcTjcTZu3MiBBx6o6pJlve38+fPZuXOnUomozPpqNHuiA1WNRqP5nJC6lXIKulQqqUxebW0tV155JZMmTcJgMGA2m3G5XKxZs4aFCxdyww03KA3O3t5eEokEVVVVdHZ2YrVa2bBhAwaDga1bt7JlyxbVkCV1Wn0+H0ajkVgsRjweZ8mSJdx77734/X7Wr1/PPvvsw+rVq/nJT35CIpFQnuIy2DEYDKTTaXp7e7nuuus4/vjjVYbu6aefprGxUdXc1tXV0dzcTCqVUi43kUhEuUI1NzerjOCKFStUMCgbk7xeL9OnT6enp4doNKpKIlpaWsjlcoRCIWVHOzo6SiAQUNsqu+UTiQSFQoFoNEoikWDmzJnE43Fef/11kskk8XicNWvW4PF4aGhowGAw4HA4ePLJJycESvl8nkAggNVqxeVykc1m+d3vfseyZctobW2lubmZU089lVQqRTabVZahxWJRNW1J9ynpLtTZ2QnArl27GB4exmq1UldXR7lcVjJZhxxyCENDQ7z99tu43W76+vpobW2lvb1dNYTt2rWL9evXc9BBB+HxeJg2bRrXXXcd5XKZ7u5uDAYDQ0NDVFdXq5cDaVKQSCRwuVwUi0Wy2SyTJ0/GbrfT0dHBrl271Hl24IEHKoOCvY2/LCVwOBz09vYSjUZVBvytt97CYrHw4x//WPnRT548mfr6em699ValAKDR7A099a/RaDSfE9JuUE7DysBGiuJ///vf55BDDlEySfX19SqIlW4/gBKhB5g6dSpf/vKXefrppzn55JPZuXMnTqeT448/nlKppDK2lVPoUgBfuhotW7aMjo4OfvWrX7Fhwwb++te/MnfuXKXbWSwWlVnADTfcQDab5cYbb+TQQw9l165d3H777Tz33HNKZ1S6LyUSCSwWiypzqK2t5d1338Xr9eL1erHb7fT29irfcJvNRrFYpLu7m2KxyH777YfdbieVSlFXV0coFMLpdFJXV0c4HFbTzDKrKLVF5c+AcmkKhULsv//+HHTQQTz99NOEQiGeeeYZmpqa2LJlC0uWLKG2tpbe3l7cbjc+n0+ZLUjb2Vwux+rVqxkcHOSMM87g8ccfx+l08utf/5qbb76Z5uZmjEYjDQ0NeDweZabg8XiIRqNks1mMRqPKnE+ZMkX9LIQglUop56YpU6aw33778fLLL/OlL32J5557jksuuUQ5WuVyOVatWsVBBx3EddddR21tLe3t7dx000389a9/ZerUqdjtdubOnUu5XFYmBLI5LJ/PK8comVkdGhqitbWVKVOmKGH+N998E5fLpcwjPm38I5EIbrebqqoq2tralHWmLGd45ZVXuOqqqzjttNPIZDJ0d3djt9uZMmWKOj81mr2hM6oajUbzOSE94SvrBOWULYzXQh511FF89atfVZlSp9NJVVUV+XweQElGeb1exsbGKBQKfO1rX+P111/nxRdf5K9//SuzZs1SmblsNqvE6AcHB1m7di0XXnghQ0ND1NfXqynhyZMnc9FFF2E2m7Hb7djtdorFIoODg6TTaVwuF0899ZRqjtp3331VF77X6+Xwww9XXuqRSITh4WFlCSoRQtDa2srg4CDlchmXy0UwGMTr9eLz+di1axfV1dXMnj2bYDDI9u3blYkBjAefkUgEIQROp5PGxkbGxsZU05nMsiaTSZWhS6fTKhu4adMm4vE48+fPZ9GiRUQiEfbdd1++8Y1vMHPmTJxOJ52dney77740NzersZGC/bt378bv9/Otb32Lc889V1nOTps2jZ07d+L3+xkZGaG/v18F19IpzOv1qiY4n89HT0+POtZy+2TG1W63I4Tg/PPP54033uD555/H5/MxY8YM3G43sVhMddSfeuqpLFmyhPnz5yuNWWlpOjY2xvbt29m1a5cqPZDnnHzpkcdy586dyrpS6vI2Nzcr/dhoNLrX8W9tbVXnqdVqxWazKe3eQqHA+eefj8PhwGg0Mm/ePE455RS+8pWvqGy1RvNZ0IGqRqPRfE7ImslyuUw6nVbe1uVymUmTJimNVRgXkN9nn32wWCzE43ElfC8f9AMDAzQ2NuLxeDj44IOZN28ev/jFL3j77bf56le/qqaRJ0+erOxW29vbKZVKbNmyhUgkgtPppLu7my1btmC1Wtm1axd9fX0MDQ2pIKy9vR2Xy8XIyAher5dUKoUQgrq6OqqrqxkZGVEi+FarFYvFomSP9tlnH0wmE+FwmHQ6TSwWUyUJmzdv5oQTTmB0dJRHHnmE5uZmurq62L59O2+88QazZ8/GZDIpGSapEdvU1ESpVGLbtm0UCgUlNSXp7OzEZrOpukqTyUSpVGLWrFksWLAAl8uF0Wikvb2ddevWKckpk8mE0+lkdHRU2Xn6fD7i8TgOh4NSqYTH42H79u28+eabwLgFbLFYZGxsDBjXH21pacFsNpPL5ZQovsya1tXV4Xa7aWxspL6+XtWf1tTU4Ha7VeBqs9kYHBxk4cKFRKNRbr/9dhYtWkRHRwdWq5VSqaSMHKQGr2xeyuVyeDwetm3bRnNzs5LnGhkZUecSjAerhUIBm83GgQceSDabZXR0lFKpRF9fHx6Ph4GBAex2O7t27cLj8ex1/B0Oh6pRHRkZURnvyZMn43A4GB4eZuPGjRMsel0uF4lEQhkBaDR7Q0/9azQazeeM0WjEbDZjtVqVu1E8Hqezs1Nl3MLhMHPmzFHNSOVyGafTicPhUPWJMiuWSqU49dRT+bd/+zeOPfZYli1bpjKR8XicZDJJKBRSnegbN25kxYoVLF26lEsuuYRQKMQVV1zByy+/zKGHHsoZZ5wBoCSNamtraWlpYerUqTQ0NPCd73yHZcuW4XA4eOuttxgdHZ3QUZ7NZhFCqADZarXicDjI5XK8+uqrXHPNNbS1tWEwGJgxYwZXXXWVCrD+8pe/8Nxzz1FVVaWm7wGVfa2vr8dsNuPxeHA6nbz22msUCgUOOeQQmpubefPNN5kyZQqNjY3E43Hcbjdut5vNmzdz9NFHMzQ0RFtbG6tXr+ass87iiiuu4Nxzz8Xj8fDb3/6W4eFhzjzzTI455hjcbrc6xqOjo5jNZhYtWsTbb7/NHXfcQU1NDe+8846Sg5IuWLJWs7u7m66uLgqFgiodGBgYIJ1O43a7GRkZoaWlBYvFwujoqHpJMRqNNDU1kc/nmTVrFg8++CAXXnghTqeTnp4eOjs7Oe6443jggQf44Q9/yLHHHkt1dTXXXHMNo6OjdHZ2MmXKFOCjhq94PI7RaFRZVVnT63a7Oeyww3jzzTc56aST+MlPfkJLSwv33Xcff/7znzGbzSrY3tv479q1i/b2dpxOJ11dXWzatImf/exnHHHEERxwwAHccMMNnHDCCVx77bWcfPLJTJ48mY0bN7J27VouvfRSVq9e/flddJr/NeiMqkaj0XxOpNPpCWLrMB4w5HI59ttvP9U53dzczJw5c4DxcoD29nY8Hg9jY2PK6eewww5TU8bRaJRZs2axaNEiTjzxRLW+7u5uzGYzCxYsIJFIqLrWq666iquvvppUKsVRRx3FihUr2Lp1KxdffDHf/e53gfG6VGn7KTPAM2bM4Ec/+hHNzc3ccccdPPvssyxcuJAzzzxT1bH29/fT0NDAvHnziEQiDA4OKgkmKfKez+eJxWKUSiXuvPNOjjvuOL7//e9z6aWXcsghh3DZZZdht9vZvn07oVBIicHX19eze/duYrEYX/rSlzj77LP529/+xk033cTIyAi5XA6v16saeCKRiKq/lNP4bW1twLis1JtvvsnMmTM58cQTWbp0KbW1tSxfvpyjjz4ah8NBNpslGAySTCZpbW2lqamJm2++mWnTpnHllVfys5/9DLvdznnnncfRRx9NT08PPT09JJNJFi9erFQe5P7n83nmz5+vbFnl72XwvGDBAoLBIDabDZvNhtFoZPny5ZxyyinMmTOHeDxOQ0MDMK6t+9RTT1EsFrnwwgv5+c9/zq233spll12GzWZj9+7djI6OUl1dPSHgl1n9UqmkmsPq6ur4+te/zqpVq1izZg3XXnsthUKBn/70p9jtdrZs2YLZbN7r+MuXFZvNxvHHH09zczP3338/jz/+OKFQiK6uLh544AGOOOIIrr32Wo477jh6e3u5/vrrueyyy/5/uso0/9sxlMtlIe3UYLxov1QqYTQa1TSVRqPRaD6OrKWU0lPywV0ulyfUasrp4tbWVvVZKBSirq6OZDJJsVjE4/EowXYZ3FmtVtVNPmnSJHbv3q0yZ0IICoUCVqtVBT4w7g8vM3iZTAYhBA6HQwVKskZVLh9QTV4ymyi3DT6yIk0mk1RXV2MwGCY0+AghsNvtjI6OMmnSJHUswuEwNTU1xGIxNVUvG42kzmaxWKRUKqk6Xtlgk0wmsVqtyrlLukZJ6SVpDysDv3K5TCaTUc1CuVxOWbBmMhksFgulUgmHw4Hf71eBbTqdVvu8p2WonJr2+/0UCgUmT56s1iOz4JUOUL29vUydOlWNt9FoxGg0TlifZOfOncyYMYNSqaRUD+T4FAoFMpmM2pZ4PK6MDzweD/F4/GPHEz4KfnO5nApw5bG12WyqyWzP7cnlchPO1T2tTT9t/GWNazQaxe12Uy6XiUaj6tzJZrPY7Xa1HpPJpMY9Eomo7+2p96r5v4GMMeV5VCgUsFgsyk5Z3l91oKrRaDT/Qz5roKrRaDSaiXzWQFVP/Ws0Go1Go9FovpDoQFWj0Wg0Go1G84VEB6oajUaj0Wg0mi8kOlDVaDQajUaj0Xwh0YGqRqPRaDQajeYLiQ5UNRqNRqPRaDRfSHSgqtFoNBqNRqP5QmJOp9NUV1crAWav14vRaCQQCNDQ0KB0rDQajUYzEalBnc/nSafTEwTM0+k0VVVV/+It1Gg0mi8m6XQas9ms7pOpVAqn04nZbFbubgAGIYQIh8MYjUY8Hg8Gg0EFp5VOHRqNRqOZSCQSoaamBrPZDMDIyAhLlixh8+bNeL3ef/HWaTQazRcbIQS5XA6LxUK5XMZisZBKpaipqVHOc2YYtzmTVnAyQ2AymaiqqqJYLP7r9kCj0Wi+wMi3fmk52tLSQm9vLwaDQVl3ajQajebjmM1mhBAkEgkcDgfV1dXAeEwqrYEBzJlMhpaWFgqFAvX19QghVHagqqqKTCbzL9kBjUaj+aJjsVgwGo3kcrkJnx911FFs3rxZZQQ0Go1G83Gam5spFosEAgH12ZFHHkkkElH/N5TLZRGPxymXy3i9XiwWC4VCAYB8Pq8zAhqNRvNPkKVSBoNhwmeRSAQhxISsgEaj0Wg+Qt43/X4/dXV1mEwmAD744ANmzZqlylDNBoMBt9tNuVwmkUjg8XjI5/MqE6Cn/jUajeaTMZvN+Hw+GhsbSafTxONxli5dSjabZdKkSeqlX6PRaDQTyefz2Gw2LBYL6XQam81GqVSio6ODOe/hfMcAACAASURBVHPmqO8ZisWikF2rTqdTZQiEEBSLRZ1R1Wg0mk8hl8tRKBRwOp3AeJYgFovhcrn+xVum0Wg0X1xkI5WMP43GccXUWCyGx+NRGVVjsVjEZDLhcDgolUpUVVWRy+UQQuggVaPRaD6FYDCIzWbD4XCQz+cZGRmhtbUVl8ul6/s1Go3mUzAYDFgsFlwuF0ajkVgsBoDb7cZut3/0vXK5LGSnP4xPZZVKJYxGo+r+12g0Gs3HkW/85XIZo9GIwWDAYDBQLpcn1K1qNBqNZiIyxpR1/oVCAYvFombzVUb1X7ydGo1Go9FoNBrNJ6IDVY1Go9FoNBrNFxIdqGo0Go1Go9FovpDoQFWj0Wg0Go1G84VEB6oajUaj0Wg0mi8kOlDVaDQajUaj0Xwh0YGqRqPRaDQajeYLyWcKVKPRKJFIBIB4PM7IyAiAErQOBALqe5JQKKR+liKuPp+PTCZDOp0Gxu1Z0+k0wWAQgHvuuYeLL74YGNclzGazapnBYFDZucptkQ5au3fvVnpb3d3dar3y+x988AH7778/f/jDHz7R0nB0dFT9vHv3bsrlMvl8fsIy5P6tXLmS7373u2QyGQqFglqeEELtZyKRAMbtweTvk8mkWk5vb686lqVSiVwuN+H32Wx2wrL3hs/nw+/3Tzg28NFxT6VSFAoFdbwTiYT6XblcVsdOflfuc+X2yzHL5XLkcjlSqdTHtiOXy5HNZikWixO2Q6P5v0zl/QXGr5P+/n4AwuEw8NF1u+f9S/4exu+3mUxG3ZskwWBwwr03l8spXWyALVu2qJ8TicSE38nlB4NBdT+X96JwOKyuf3l/qbz+5X1u+/btpFIpvv3tb2Oz2fjqV7/K4OAg8NF9Qy5P3vMKhYJy9Kr83p73l3g8Dozfp/Zcb6FQIJPJEI/HOfnkk/nv//5vCoUCiUSCXC6nbMD9fj+5XA5APbsqyefzantzuZy6/xWLRTZt2oTJZOK1114DxnUf5fETQpBOp0mlUmpdg4ODZLNZhBCsXLmSs846S627clwqj8vGjRvVvsrPK48HjD8T5LEoFosTzCT8fr9afzAYVGP1Sfdojeb/RfYaqA4NDeHxeDCbzYTDYVwuFw0NDSqIFELQ0NBAsVicEGxVBlnyImpubqaqqgqHwwGM3xDNZjP19fVs376dDz/8kHw+T19fH0ajEbvdrmwJ6+vrMZvNRCIRampqlEBssVjEarWSSqWIxWK0t7er9VUGmf+MVCpFbW0t+XyefD5PY2MjRqMRq9VKMpkkm82Sz+cRQuByuaitrVV+tPl8HpPJRE9PDwaDgWw2C4DVaqWvrw+r1YrFYiGRSGA0GhkcHCSTydDR0QGgLBZtNhtOp5NCoUCpVMJut2OxWD6TM1gmk8FsNtPY2AiM3+zkw8fhcJDJZKiurp5g4FBTU0NNTQ2jo6MYjUZCoRA+n49isYgQArPZzMDAgBIxz2QyytqsVCphs9morq5mbGyMUCik9ksu32w2Y7PZ1E1Wo/m/SiQSYdKkSaRSKbq7uykWi2zbto2rr76alStX4vF4gPH7UDQaZdq0afT09HDQQQfxzW9+k9raWt5++218Ph9VVVVUVVWpl8yBgQFCoRD19fV4PB6KxSKhUAibzYbJZCKdTpNOp1m4cCEAPT096t65detW4CPDApPJpK5Xs9lMoVCgtrYWi8WiLA6l3aG8/mtqagCYNWsWd955J0899RRr167l6quvVvcHh8NBPB7H5/NRU1ODy+UikUiQSqWw2Wx7vb+4XC5yuRwjIyMUi0W13rGxMdLpNFVVVWzfvp10Oo3P56NUKuFwOLDZbIyOjpLP57Hb7ep+VFdXp16mYTywE0LQ3t6OEIJQKMTw8LB6vuyNUqlEdXU1fX19BAIB2tvbsdvtBINBmpqamDp1qgpkbTYbsVhMOUDC+P16yZIl9PX14XK5cDgc7NixA4fDQTabxWQyMTo6it1ux+VykUwm6e/vp6qqCr/fz/DwMI2Njerlp76+Xj0L5Do0mv/nKZfLQgghisWiKBaLAhClUkl9NjIyIoQQIpfLiXA4LEqlkgiFQiKVSgkhhMjn8yIUCglJJBJRfx8KhcTAwID63e7du4UQQoyNjYnh4WEhhBCBQEAIIUQ6nVbfKxQKIpPJiGQyKYQQYmRkRMRiMSGEEKOjo+p7sVhMxONxIYQQ5XJZ5HI5IYQQ0WhUFAoF9b33339f7LfffuL3v/+9yOfzohL5vVKpJCKRiFqWEEIkEgmRSCRENptVx+PMM88U55xzjvD5fGoZ8ljI7Y3H42JgYECUy2VRLBZFqVQSAwMDYvny5eKWW25Ry/f7/SKTyahjIpHHpHIf/hnyWEciEdHb26s+C4fD6jujo6OiUCio777zzjtqXLPZrCgWi0IIoY6f3Af5t5KBgQFRKBREMpkU0WhUfV55TOXf7XleaDT/GymXy+o6l9c1oH6W17ekVCqJQCAg7rnnHuHxeMQTTzwx4XdCCHHVVVeJlpYW8fe//134/X71+2AwKBKJhPq/vO6CwaAIBoPq82g0qq5D+f2xsTERi8XUtb7nNhUKhQnXtM/nE+VyWZRKJXVfE0KI/v5+4fP51LU9ODgo3n//fXHggQeKBx98UG2v3H8hxu/TAwMDapvktg8NDe31/lK5X9u3b1fPDXmvHhwcFEKM34NDoZAIBAITtrdYLKr7aOX9NBgMimw2K/L5vFqWvI9LIpGI2LhxozAajeLVV19Vy5PHUO5jLBZTx3lwcFBEo1FRLBbF6tWrxdlnn62eH5lMRj3ncrmciEajwufziQ8//FB9lslkRF9fn5g9e7Z4+umn1fnT19cndu7cKYQQanmSbDarllssFkUulxOFQuFj39NovmjseS3Je1qhUBCA+t5eM6rNzc0UCgWsViter5dkMkltbS0Oh4PBwUHi8Ti1tbX4fD6SySRut1tNXZtMJtrb2/H7/cTjcSZPngyAxWKhpaUFGH97l8RiMaLRqMqmin+87Tc2NqrsY1NTE4FAgHK5jMvlwmazAePTSjILCuPZ1Moprn+G2WxWmUOZIRgeHgZQGd1yuUwymcRgMFBXV0ddXR1Wq5ViscjAwAAOh4NgMKjsZuPxOO3t7RgMBnbt2qWylm+99Rb7778/BoMB3//H3nvHR1lm/f/v6T2TXkghoQWkSG+KqCDYQBAbYsO+in0DK+IiLisqigVXv4IILCIoNhQVXcoq+CAISDWQQBrpk5lk+kym3L8/8tzXJrur8Ht0V9H7/Xr5MiGTmbvkPte5zvmcc+rqSEtLE8ffYa7t/+7k5SjDD9HY2EgkEsFkMolIbTQaxW63A21Rl4yMDFQqFQ0NDQD069ePrKwsvF5vh8j3sWPHkCSJY8eOiWuRnJws0pTyOVksFux2O/X19TidTo4cOSLeQ45U6HQ6Zfyuwm8eSZLwer0i2xIKhUhNTeWaa65hxIgRHDx4kFAoRGNjIy6Xi5qaGnbs2MH1119Pz549SUtLAxDRQavVSiAQ4MCBA+h0OqqqqoRNikajRCIREhIS0Gq1OJ1O8TzKUTxZPiBH4GpqaojH42i1Wux2O5FIRHyOHOmsqakRUdyEhAQyMzNJTk4GICcnR2Rg0tPThe367rvvCIVCBAIBEhISyM3NFVmcpqYmdDod2dnZJ7UvKSkpFBcX4/P56N69O1lZWQCUlJQQi8VE9FBen1JTU0WEExAZnoaGBiRJYvv27UBbFstgMHSwU6FQiHg8jt/vx+PxiGj3DxGLxUhISBAytJycHOx2Oz6fT0jIDAaDkF3JUc7a2lrsdjuZmZl0796deDzeIbJstVo5cuSIkMUlJibSo0cPoG2dbGpqEutUfX29eF/52GOx2Cll5BQUTgdO6gm1d/hCoZBI23/99dfMnz+fbt26kZKSwsMPP0xjYyPRaBSz2Uw0GuWee+7hlVde4c0332TixIlMmzaNb7/9lieeeIIrr7yS5cuXc9ZZZ/GnP/2JhoYGXnzxRebMmYPH46G4uJizzz6blStXCmPrcDjYtWsXV199Ne+//z4Oh4Pm5mY+/PBD5syZQ3p6Or179+bJJ58kEAiIxeFkyBoyedas7KRt376diy66iNTUVPr06cOSJUtwOp34/X5CoRBarZbMzEzC4TCPP/44hYWFZGdnM2vWLHbv3k1VVRU9e/akf//+DBs2jPLyciZNmkSvXr2orKzE6/USDAZxOp0sXbqUpKQkLBYLixcvprKysoPu7PuIRCJMmjSJoqIiIpEIzc3N6PV64Sxv2bIFaDNuBoOhwwJYVFQk0vWNjY2cccYZqFQqPv30U6666ipUKhXjxo1j7969HZz+l156iXHjxrFjxw6mT5/OCy+8wP79+wGE4/3PXyso/Fax2WwEAgEaGxsxm81Ca3nTTTexevVq1q1bR3p6Oqmpqbz++utUVFQwYcIEsdmMxWKUlJQwZ84cVCoVt9xyC4cOHQIQm9PGxkb27t3Lyy+/zDnnnENhYSFXXHEFxcXF1NTUkJSUhE6nY+7cudx8882sWrWKW2+9lddee61DPYHf78flcmG1WvF6vaxatYp7772XXr16MWDAANasWSPs8Z49e5g7dy5jxoyhvr6eKVOm0LlzZx544AF69+6N0WjEbDZTW1srdKUqlYply5YxcODAU7Iv5513HnPnzqW4uJg33niDsWPHsmzZMhYvXkzfvn3x+/289dZbDBs2jNWrV1NWVsb69euZOnUqVVVVQutpMBjYtGkTr732GjU1NVitVpqbm5kzZw6XXXYZSUlJXHjhhTz77LNYLBYSEhI66Ei/D41GQ1NTE1988QV33303KpWK3r17s27dOrxeLz169KC0tFQEdOrr61mwYAFnn302KpWKc889l507d6JSqaisrOTWW28lPz+fXbt2sXTpUi6//HKam5tFIOOrr75i4cKFDBgwgMsvv5xZs2YJfbPL5cJgMJCamkokEjmlQIeCwumA9mQvkDWTzc3NxONxUlJSWLt2LStXrmTIkCGsW7eOuro6tm7dysMPP8zTTz9N586dOXjwIH6/n1mzZjFo0CDOO+88brzxRiwWC3v27KGsrIy6ujpuvPFGsrOzyc/Pp6mpiePHj5OYmEhCQgL9+/enpKREODyyRqelpYXc3FzS0tJYu3Ytjz76KFOmTGHJkiXk5uYyffp0/H4/L7744ildhPaaWQC73c6OHTt47rnnsNlsrFy5EoPBwObNm3njjTf44x//SKdOnfj2228ZMGAAl112GQaDgdWrVxONRnnllVe45JJL+PTTT9HpdOzbt499+/Zx2223cdtttzFlyhRSUlJwu92EQiFuuukmkpOTWb9+PaFQiBdffJHNmzezZs0aEbn4PvR6PZ07dyYUCmE0GolGo7jdbo4cOSK0rgDFxcU8+eST9O7dmwkTJmCxWFi5ciXjxo3jk08+ITU1Fa/Xy6WXXorBYOCKK67g5ptvZuvWrbzwwgvs2bOHOXPmEA6H0el07Ny5kxMnTjBq1Chyc3NF9EGSJCKRCPF4/JQ0XgoKv2bkSJfNZhM6cZVKRWZmJhdccAHvvPMOK1eu5Nprr2Xfvn2Ulpby4IMPMnz4cCKRCE1NTfz9739nwYIFDBkyhB07dlBcXMz06dNpbGxkypQp5ObmUl1dzZNPPondbmfWrFkAfPPNN9x000288cYb6PV6KisriUQibNy4kRMnTjBo0CC6desmMmVWqxW73Y7JZCIej/Pqq6+ydOlSioqKmDlzJps3b+bDDz9k+/btPP744wwaNAiLxcLIkSN57rnnOOOMM1i0aBHQVjBqt9vR6/Wkp6ej1Wo5duwYL7zwAtXV1UyfPp2//OUvfPDBBz9oXyZNmoTX6yUrK4uWlha2bNlCIBDgjDPO4N5770Wj0dCjRw9R65CamorBYKCmpgatVisydkajkbfeektEP91uNzNmzECj0XDHHXegUqmor6/ngw8+wGw2c/PNN4t14YcIBALodDqWLl2Kw+Fgw4YNBAIB1qxZw9atW5k6dSoajYbk5GQaGxu5+OKLyc7OZuXKlej1epYtW8bkyZNZtmwZI0eOZPHixTz00EPcddddTJw4kdtuu41QKITFYuHgwYPccMMNTJo0iZUrV1JeXs7GjRt57bXXePDBB+nSpYvQGStOqsKviZM6qnLhkF6vB9qiqk1NTWRmZnL//feTnJxMeXk5ZrOZZ555hl27dtG5c2cKCwtpaWlh3LhxvPjii6KgR5IkYrEYQ4YMYfny5eIBhLZ0cUZGBh6PB61Wy+TJk1m+fDl79uyhe/fuqFQqtm3bxtChQ+nduzetra1s2bKFoqIibr/9dmpra9FqtUyfPp3PP/+czz//nHHjxp30Isiygmg0Khyuv/71r7hcLjZu3Eg8Hkej0TBq1CiOHDnC7t27aW5uZsCAASxdupT8/HyuvPJKCgoKsFgsLF++nNtuu40PP/yQxx57DI/HI4oROnXqhMvlIhwOY7PZWLJkCSkpKcydO5euXbsiSRKpqak8+eSTrFq1iocffvgHjz0jI4PrrruOqVOnsm7dOq688kpCoRDvvvsuZ555JtOmTcPn83H48GFMJhNFRUW4XC66d+9Onz59uPbaa/n0008ZP3481dXV9O3bl5tuuonBgwfjcrnIz8/HZDJRWlqKz+cjNTWVjIwMwuEwRUVFXHnllaLQDBD3V075KSj8lgmFQlRUVNClSxc0Gg0Oh4PU1FSgLZ07adIkVq1axa5du9iyZQvl5eVMnDiRxsZGIbtaunQpDz/8MFOnTqWpqYnhw4eTn5/PAw88wB133CEKtQoLCznnnHM4++yzUavVjB49mnfeeYdPPvmERx99lLS0NNRqNf3792fhwoXk5eWJ1Hk0GiUajYpCyB07dvDmm2/y4IMPcs8996BSqejXrx87d+7kxRdfZNeuXaSnp9OzZ0/0ej0nTpxgxowZNDc3k5SUhN1uJyUlBa/XK5xFuaDq2muvZeLEiWg0GpKSkn7Qvtx8883iuNavX49Wq+WRRx5h7Nixooo+JSUFtVrN8ePHGTdunIgoL1q0iGeeeYZoNEppaSkVFRXMmTOHnJwcysrKCIVCXH311YwfPx673Y7T6eTo0aMcPnwYnU53Shm5hoYGli9fTiQS4bHHHhPrzaBBg5g/f75wnD0eDzt27GDEiBHcf//9dO/enWPHjrFixQouv/xyPvnkEy666CJxL/x+P/n5+aLQ1+l0smbNGq6//npmzJhBUlISAwYMIC8vj3vuuYdhw4bRpUsXotEooVBIFI8pWS2FXwMndVTlVigWi4VgMIgkScyYMYNgMIjJZMLj8VBQUIDBYBCVmdDWBsVms9GjRw+hR4W2FFVSUhKFhYVoNBpUKhUFBQVAW/un5ORk1Go1ZrOZXr16UVdXR21trahc3bJlC5deeikWi4V4PM6iRYuwWq04HA7xOWPGjOHBBx/k0UcfPekFCIVChMNhzGYzer0etVqNw+Fgx44dTJ06lXA4jN1uF8fauXNn0tLS0Gg01NXVcdttt+H1erFarSKCGAwGSUlJobS0VEQXO3fuLNpzde/eXWi+SktLSUhIoGvXrqJV1cCBA0lPT/+3rVT+GZ/PR0FBAVarVURPS0tLKS8vp3///oTDYVwuF6tXr2batGmo1Wq6d+9OIBAgMzOTsWPHsm7dOq677jrS0tJ46qmnRGQ5OTmZ5ORkwuGwqOCVJRXZ2dmMGzdOyCQkScLj8YjIkby4KCj8llGr1fTs2RNo0yXKNqqkpIQePXpw1VVXsX79em699VZsNhtTpkzhiiuuANrS8J999pmwCfImVm7hFA6H2blzJ6NGjeKqq67ioosuEs+j7DBefPHFNDU1EQ6HUavVNDc3k5yczODBg4G259bv92O1WkVbOb1ez/Hjx0lISGDatGlCa9+9e3cuueQSFixYwLFjx4jFYjQ2Ngqdp8PhENHZlJQUcQxut5uEhARGjRpFt27dSE9PR6PREIlE6Nmz5w/aF3kdiUajZGZmMnLkSHJyclCr1UIa4XQ60Wq1hEIhsXYMHz4cn88n2jjt27cPs9ksHPOEhATeffddcQ2CwSA2m42srCw+/vhj4vF4h7qB7yMtLY1Dhw6Rn58vnNSmpiays7NJSEigoqKC7OxsACZOnMill15KKBSiqqqKbt264XA4KCgowOfz4Xa70Wq1QnYg64X1ej2xWIz169czZ84cUlNTCQQCJCUlcc455zBw4EBqamqorq4mJycHaKuTUAIFCr8WTpofCAaDHYqU5FTWu+++y/XXX09ycrLYbVdVVQlhurybbi+Wl3WdkiSRnJyMRqMhFAphs9kIh8OoVCq8Xq9wuPLy8jj77LMpLi7G4XBw6NAhfD4fF154IdBmoIxGIytWrOCaa64hJSWFxMREYYTl9lJy7zuPxyOOr6qqCmhLCZlMJgKBAFarFbfbTTwep7Gxkb59+6LRaMTvBAIBLBYLx44dw2AwCGG/w+Hg/vvv54wzziAxMZHc3FwWL14sUu9yOr5Lly7C+bTb7ZSXl7N9+3bWr1+PSqVCq9WSk5ODSqXigw8+wO/3Cz2bXFgmt7CKxWI0NTVhtVoxGAxcdtllbNu2DbfbTSAQ4NChQ4wfP55QKEQwGESlUjF79mySk5NJS0vDYrGQkpLC448/zrBhwyguLhb991588UVGjx6NSqVCpVLx0ksvodfrcTqdmM1mVCoVsVisQy8/lUqF3W7vUAygoPBbR85EAR027HJhjFar5aabbqK5uZloNMo111wjNrEGg4Gmpia++eYbevbsSX5+PiqVCqPRyEUXXSS0lnK69/jx48yYMYNevXqRnZ2NSqVi+fLluN1uUZwaCATIyckRBVXhcFjYlng8TlJSEpIkUVFRQVZWlrD73bt3F9m0a6+9li1btiBJEmazGa1Wi1qtxmAwEAwG0el0tLa2kpSUJN5XpVIRj8ex2WzMnz+foUOHotfrT9m+hMNh4UxrNBqh32/fPzQrK0vUG1xzzTW88847VFZW0tzczJ49e8jNzaVfv34Awo4vWLCA4cOHYzabMZvNLF68mHA4LIqYjEYj8XhcrEkqlUrY8JaWFhobG9m/fz8DBgwQxyrbXJ/PR2trK36/n9bWVlQqFY2NjSxcuJCzzjoLu91OdnY2ixYtEudlsViEEyo7qc3NzZSXl1NZWcm1115Lp06dSEtLE38La9asQaVSkZOTg9PpxOl0kpCQcErFxAoKpwMnDXmZzWYkSaKhoYGuXbtSU1PDu+++y7vvvsuVV17JkiVLCIVCHD9+XBTn1NTUEI1GRWpG3sXKWteamhp8Ph96vR63240kSWg0GpGmUKlUorF1t27d2Lx5M1OnTmXTpk107tyZvLw8WlpaSEtLY/bs2ZSUlHDdddfx9ttv09rayoYNG1iyZAmJiYkYjUbxf1l+AJCZmQm07TwNBoPYnUuSRHNzM+np6TgcDqFT8nq9aDQa0ctQLjKrrKzk6quv5oILLuC1116jR48e1NbW8uKLL4pqUznaKvcIlEX6VqsVtVrNtGnTuOKKK1CpVFRUVIjKV5VKhcFgEEYe2iLcJpMJtVpNamoqbreb5ORkxo4dy+23386ll17KwYMHufjii4XmrKqqSgj1p02bhtfrpaysjKSkJNRqNfF4nF69egEwYcIEDAYD8+fPp3///vj9fh599FEikQgZGRmierZLly6nVOyloKDw/fj9fgYOHMjo0aPp2rUrmZmZojhGq9VSXV3NhRdeyLRp08jNzcVisRCLxTh69Cg9evTAarViNpv56quvKCoqYuLEiaxYsYJevXrhcDh46KGHRE9Ok8kk+pJGo1ERfVWpVB2Gfsi2xev10qVLF1wuF6FQiE6dOmE0GqmqqsJisQhHtK6uTjja7Xt3yn1dMzIyANi5cyfPPvssGRkZzJ8/n5EjR+Lz+X7QvnTv3h1oc/4aGhqEAyl/thz8kJ08WdOflZXF+eefT0lJCd26daO4uJjFixdTV1cHtDm49957LxkZGbz00ksUFhYCMHv2bFFFH4lEOgy3aWpqEtIE+Rjq6+vJzc0V2aNAIIDdbsdms2G1WunWrZvoZb1p0yamT5/OFVdcwbp160Rv8CeeeIK0tDSCwSBGoxG73U5LSwsmkwmXy0VycjLp6en4/X5ef/117HY74XCYLl26EAgERG9sp9NJSkqKuP51dXUiwqqgcDpzUkfV4/GQkpJC165dqa+vJxqN8tVXX3Huuedy55130tTURCwWw+VyiaiknOowm81EIhGRFtZoNGLnKqd+7HY7wWAQjUYjdu8ajYZYLIbdbmfEiBFs3LiRbdu2sX//fqZNm4bdbhepp127dnHhhRdyzTXXCCOZkZEhirXkqIG8uwVEWkWuxJSdQGjTyapUKoYMGSIiwYFAQGgv5ckuOp0OrVbLK6+8QteuXXn22Wepra0Vgn7ZwZWNms/nw+v1ioEHoVCIxMREzj//fJEqKygoEBIH+Mc0ErkFihzdlR1dn89HZmYm0WiULl260KtXL+rr63n//feZPHkyvXr1ory8nIKCAvr160csFuOMM85Ao9EwcuRI8Tk+n4/6+nq2bt3K/v372bBhA/369ROL2cCBA/nLX/7C7t27GTlyJGazmZKSEpHSVFBQ+L8hbzrLy8vp2rUrOp2O9PR0IpEI1dXV9O/fn+3bt9OvXz969OiB3+8nISGBgQMHCvlVQ0MD27dvJxgMct999+FyudBoNHTt2pXExET69OlDQ0MDkUiEwsJC3G43hw4dYsSIEUBH2Q60ZW2SkpKora3lwIED9O7dm+TkZBFBrKurY8iQIdTX15ORkSH06CqVSkyzk4vGMjIyxHAYvV7P7t27WbVqFaNGjeLo0aMUFhb+oH2Ro4qyQ26xWEhMTESn0xEMBkVrLXlSoNzBRKfTMXjwYNatW8f48eMJBAJ06tQJ63sH4gAAIABJREFUg8FAJBJh7969VFVV8ac//YlBgwYJiUH7AtRQKESPHj3o2bOnkBvI16uqqgqbzYbf76dnz55UVFSIrjjxeByPx0NNTQ3FxcXceeedAHz77bcMHjyYZ555RmTp5EmNPp8PjUYjpkkFAgFsNhvJycliKmP//v3p3LkzI0eOxGg00tLSgk6nw2KxiN/x+Xyo1Wp0Op3ipCr8ajhp6j8lJUWkhM1mM507dxYtmuT2TNnZ2ZhMJpqbm9m3bx8tLS243W6RzpbTORaLBavVSmJiIhaLBZ1OJ1LVGo0Gu90u9KCBQAC3202fPn0YMmQIf/7zn6mtreWCCy4gGAySk5NDTU0NoVBICPI9Hg/19fV4PB4ikYgQsptMJqHFkguj7HY7qampqNVqMYpPkiQx+aSgoECM5JOngrSfkCLrWXNzc3G73Rw9elQUYh05ckSM3ispKaGpqQmv10tOTg7hcBi32y10XbJhl1tLlZeX09LSwsGDB4W2KzExURSiydOwrFYrmZmZovAsJSWFwsJCHn/8cQKBAP369cPlclFQUCB6KzY2NlJWViZ6HMZiMT799FMReXW73cLIQVu0p6amhr1795Kens7IkSPFopaSksJ33333H/zTVFD49SNvXi0WCyaTiVAohN/vR6fTUVBQwFlnnUU0GuWjjz7C6XSi1+uRJAmXy8Xu3btF+r9v377YbDZ8Ph/Z2dlotVq+/vprKisr2blzJ5mZmXTp0oVdu3bR2trK0KFDqaqqIhKJiNS97IipVCry8vKw2WzClkKbjGHXrl2UlpaSk5NDZmamkAelp6cLp1uSJDFtr7GxEaPRiM/no6Kigvz8fBF9LCwsPKl9icfjIvUuO79ywCEUCgnpk9wPW64lSEpKYtSoUdTX1/PGG28wbdo00b/VbDazZ88esXbI7wVtm/YTJ06gUqmwWq0UFxdz5MgRysvLRdDFYDBgs9lISkrizDPPJCsri++++46GhgZqa2tpbW1Fp9MJiYbc0zYYDFJcXCzkCfv378ftdgvJmUajIRqN0traSmpqqmj3mJqaisfjoUuXLrz33nuUl5fjcrnEOrpr1y6h8ZWDQDqd7l9G9yoonK6cUnuq9PR0GhoayMjIwOVycf7557N8+XIcDgfXX389a9eu5dNPP8XhcDBgwAASExOpqqoiHA6LHn3ybr20tJTa2lrq6+sJBoNCYxUKhURaRk5TyaMA+/Xrx6OPPirSQG63m8zMTAoKCkhMTOTpp58mGAzSuXNn3nnnHb755hvRvNntdlNXV0dqaqoo1JK1Ow0NDSQlJYndtFwMlZWVxfDhw/n666+ZMGECEyZMEI7rZ599xi233AK0acLOPPNMnn/+eebPn88VV1zB5s2bOXr0KE1NTTidTnr06EEwGMRut5OXl8fXX39NRkYGF1xwAQAPPPAA1113Hddffz333HMPQ4YM4ZlnnuHDDz9k/vz5jB8/Ho/HI6IJ8gACaEutJSQkiPF8Y8eO5dlnn2XKlCkMHjwYs9lMQ0MDWq2WGTNmMHPmTGbOnMkFF1xATU0NO3fu5G9/+xs1NTVMnDiRq6++mnfeeYc777yTK6+8kqSkJD7++GM2btyI3W4XhQ6SJJGfn680lFZQ+AmIxWJIkiQyKO2LYJKSkrjlllt45ZVXaGho4MYbb6S2tpZVq1bh9/tZvnw5JpMJn89HWVkZv/vd77j88ssBePPNN9m7d6/oadra2kpKSgqRSASv1yt6sMI/WvRBm60eMGAAU6ZMYdSoUbzwwgsMHDiQkpIS3n77bUaNGsV5552H2+3Gbrdz4sQJ3G43DodDbKKhzQmXs2rdunUD2vT8RUVFXHzxxaSnp7Nly5YftC9Go5FIJILf76e+vh6/309tba2IFgeDQU6cOEE8Hhejo+VoZX5+PmazmQ8//JDFixeTmZkpIrS9e/cmNzdX2N1AIMD777/Phg0bGDRokHjvwsJCEdTIyMjo4DhDW3Hwfffdx6BBg7jxxht54oknOHr0KE899RT79u0jHA5zzz33oNfrGTBgAJs2beKJJ57gzDPPJDs7Wziyffv2FfKz1tZWunfvzsaNG+nSpQt9+/Zl2LBhFBUVMXnyZCRJYsSIEaSnp/Pqq68SDoeZPHmyuO9yZlGWtykonO5o5s6d+1h7jdLjjz/O3LlzhW6publZGLHW1lai0SiDBw8mGo2yf/9+Hn/8caZPn87vfvc7kSofPXo0er2etWvXMmLECPr06YNOpyMej+N0OnG5XCJVbTab0el0BAIB9u/fT2JiImeffbbQb8pTriRJYsKECRQWFooG2jabjeHDh5ORkcEf//hH3nvvPe666y5GjhzJl19+yZAhQxg6dCgNDQ0cPXqU7Oxs0Y/PbDaLSnmj0YherxeRT6vVSkFBAb169aK4uJh33nmHkpISLr74YgYPHkwoFCIrK4uePXvStWtXsrOz2bx5M1u2bCEcDnPTTTdRUFDA0aNHGTVqFCkpKWRmZhIIBHj11Vf5+uuvKSwspHfv3iQmJgpjNXfuXFavXk1WVhZXXXUV11xzDVqtFp1Oh1qtFpGISCRCOBzG6/VisVj47rvvyMrKIisri7179zJs2DDGjh0rogLhcJhu3boxYMAAysrKePPNN9m0aRPxeJwHHniAsWPHYjabSUhIIC8vj88//5wtW7bw5Zdfct1113H22WdjNBrJzs4mLS2N0tJSDhw4wIABA+jSpcvP85eroPALQvrf2fAqlYp58+YJG3oyDAYDjY2N7Ny5k/z8fM455xxR+HTixAkSExMZPXo04XCYb775hocffphPPvlEbEpl+9CrVy9GjBjB2rVrefXVV/H7/dxyyy1kZGRw+PBh+vbtS1ZWFmvXrkWv1zN27FgqKipEqyzZAfP5fBiNRlHYeckll/DOO+8wc+ZMnE4nY8aM4c477yQvLw+j0Si0mx6Ph759+5KdnS2cwVAoJCRLgUCAlpYWLrroIpxOJ2vXrqW2tpYJEyac1L7IKX2Xy0U0GmXUqFGYTCZR6CRHMnv37k23bt3EJMVQKITT6aRbt24MHz5cRE81Gg35+fn07NmTPXv2sGzZMsrLy/nd737H1KlThT3Nz89nx44dbNq0iXPPPZfs7GxcLhfxeFzUO8hSrj59+uD1ern99ts5ePAgt912G2eccQZ1dXVcffXVaDQajEYjPXr04L333uOVV16hsrKSFStWkJOTw759++jatSu5ubnodDo8Hg9ffvklL730Epdeeik5OTlYLBauvPJKDh8+zB/+8Ac+++wzxo8fz+zZsxkzZoyon/D7/SJSq6DwS0aSpA6ZHDkrEo/H+dOf/sRjjz3W9kJ5xqo8wxgQM6flOaxVVVWSw+EQs+DlOcJ1dXVSY2OjmMcszxt2OBziPRobG8XXMl6vV8yzr6+vFzOWm5ubO8xdrq+vl8LhsORyuaQTJ050mClfX18vvq+rqxOfvX///g6fI79XeXm5FA6HpdraWqmoqEjKy8uTAPFfcnKylJmZKY0ePVrasmWL1NzcLIXDYamqqkpqbW2VYrGY1NTUJFVVVYn3b/+5DQ0N0p49e8TP5JnUktQ2C9rtdkuS1DbPWT7u+vr6DrO7q6qqxPnLv/eHP/xBGjFihGQ2m8WxarVaKTc3VyosLJT++te/ivnaH3/8sTRmzBjp0KFDUjQalb777juppqZGqqurE9dBvqfBYFByOBxSdXW1JElts3bl+drRaFT8jiRJUmlpqVRWViZ+1v4+KCj8lonH41I8Hpei0aiYVw10mHX/Q/h8Pikej0sNDQ1i7n17m+DxeKTm5mYxp76qqkrMcHe5XJIktT3XHo9HvL797HlJarPH7WfMy19LkiTFYjEpEAhI8Xhccrvdwv7IdiIWi0kOh0NqaWmRgsFgB1su24t4PC6VlZWJufQNDQ0drk9NTY34t1gsJrndbsnpdAqb+EP2JRwOi/XB6XRKe/fu/ZfP8Pv90nfffSfsoEwkEhHXobm5Wfw8HA5LPp9PkiRJ2Hb5/jU2NkqHDx/u8D4HDhyQ/hn5vns8HnEd5HORkY9VXh/l83M6neI42q8TMu3XAPk4JUkSa6b8fq2treJYPR5Ph7XJ5XJ1+BtQUPglItsZ2V7Kz34kEpHa/Ng2VPF4XJIr0qGt0jQWi4kUuVzYJGs15eKc9oRCIdGGyWAw4Pf7hZZKr9cL0b/P50OSJKGlknd8cocAWRTu9/uF7khG1mbK/Tnl42ppaSElJYX6+voOqY6GhgbR4FqesSx77P/zP/9DdXU1eXl5ordgQkICHo8HtVrN+PHjCYfDeDweMWu7PT6fr0Ok0+VyiUlT7cceyv1E5ebRcl8+OR0vV2g2NDSIilw5LZecnCz6FMqzrpOSktBqtbS2thIMBnG73WRkZHDuuecSCoVYt24db775Ju+++y4Oh4POnTuLeyjr22w2G16vVxQNSJJEXV2daJ0j90uU76vT6SQ7O5t4PE59fT2dOnUSgv9/vkcKCr81pHatndRqtYiq/v+ZzCbbx0gkIlo7yXZYp9MJ2ZX8OrmFn9FoFK3qAoGAaBUVjUYJBoOiRZHcElCeJS/bIb/fj8ViEY3hpf+NCgMdenJWVlbSuXNn8fnhcJhIJILVahV2rb3ta2lpITExUVTky+ei0WiE7l62izU1NSe1L7L9liUSOp2OxsZG0tPTicfjeL3eDnZXLtRVq9VoNBrRv1Y+3/b/l+sn/rliXrbROp1OSDHKy8tFi7B/d888Hg+pqanEYjHKysqEHZWvpXxd5Kb88vrndrtFllCn04nuN7Imt7m5WRxbLBbD6XSSnp4uzrV9Y3+Px0M4HBZDEBQUfsnIf8Oy7ZGfJ9k+yPb1lBxVhV8227Zt429/+xvffPMN11xzDRMnTiQpKUk03FZQUPjP8FM4qgoKCgq/RU7VUVXCYac50WiUdevW8c0333DBBRcIPZQczVBQUFBQUFBQOF1RIqq/AmpqajCbzSJ6KheLtZ+Ko6Cg8NOjRFQVFBQU/m8oEdXfCB6PRwxYaG5uFlNKJEkS+i8FBQUFBQUFhdMRxVE9zZELE5xOJ1arVRSkAWKcoIKCgoKCgoLC6YjiqJ7mtLS0YLPZRIcDh8MhwuXp6ek/89EpKCgoKCgoKPzfURzV05xoNIpGoxHtUhISEkSrEgUFBQUFBQWF0xml0dppjjxZJhqNAm1Tq2KxmBgnqKCgoKCgoKBwuqKW58Y3NTWh0WhQq9Wo1Wp8Pp9S8X8aYbPZALBarWg0GkWfqqDwX0Cu8g+FQsjdU6xWK83NzT/3oSkoKCj8ogkEAgCi4t/tdgP8S2tNreyM2mw2QqEQer2eaDRKNBoVE4wUFBQUFP4Vj8dDS0sLXbt2pbW1FUDMgYe2DIeCgoKCwr9is9lwu91IkkRiYiJ2u536+noAMjIyxOu0FRUV5Ofno9Pp0Ov15OTkYLfbCQQC9OnTh+++++7nOgcFBQWFXzTp6enk5eWxa9cu8vPzqaioAGDQoEGUlZUpYywVFBQUvge537TRaCQpKYnGxkai0SjnnHMODQ0N4nUqSZIkl8uFxWLBYDCI2cKJiYmUlZWRn5//M56GgoKCwi+X+vp63G43vXr1oqmpidTUVFQqFa2treh0OmRplYKCgoJCR+SNvM/nIxaLYbFYaGlpoaWlhVGjRlFXVwf8r6MqV4xDW9rK7/eLN5InVikoKCgodESj0RCLxXC73UIXrlaraW1tJRaLKWOMFRQUFL4Hp9NJeno6LS0tqFQq7HY7AMFgkOTkZILBIADa1tZWTCYTPp8Po9FIa2sr8Xgct9tNUlKSUlCloKCg8D3U19eTmZkpIgGxWAyVSoVWq6WyspKuXbv+3IeooKCg8IvEarUCkJiYSCAQoLGxkVAohEaj6dAHXhWJRCStVksgEMBsNqNWq4nH40SjUSUaoKCgoHASIpEIHo+HlJQU4B8VrIr9VFBQUPh+wuEwwWCwQzQVwOv1kpCQIIYXqSORCPF4HI1GQyQSQa/XK5WqCgoKCqeAJElEIhFSUlKEHjUhIUGRTCkoKCicAna7HbvdTjQaFQVUNpsNvV4vXqM2Go2o1Wq0Wi1qtZpwOIxGo0Gr1f5XjK0kSaJ3VjweF8ZeblnwY2ltbSUajRIIBIT2Vv48uZ3MqbxHLBYjFAqJvl8Kp4Z8jdtvfpxO5891OAoKPzkmk0mk/KGtZZVsZH0+n3hdNBolFAqJ7yVJ6vB9IBDA4/F0sHvtB3fIr4/H4//yu/9JZHsJiM88Vdt5MmKxGF6vt8NnycNL/ht2Ql4f5POKRCI4HA6An6QQTl4v5LVH7q8bCoWIRqPiOkqShNfrRQ4chUIhYrGYWHfi8TiRSASv1yv+Pn6qe6Cg8HOh1WpRqVRIkoRWqxU6//bPBvwCRqi2D/nKBkqv13cIA/8Y4vE4arUas9lMIBAgGo3icrkwGAynpL/1er2o1Wr0er14fTweF4ZHbrSv8O9pbW1Fr9fjcrnIyMgQ103+dwWFXzOyBisWi3XYtMkSK7lPdTwex2QyCWfX5/PhcrnIy8sD2hweSZIwmUyiUva/0ePa6/UKx0kOaAA/WdstjUaDzWYjEonQ3NwsdGktLS1CSvGfRK/XixY50LYeJSUlia9/LNFoVDiZkUiEpKQkIpGIuHfhcFi8TqfTodPpgI73Vl531Go1sVhMvPanCOQoKJwOqOLxuCRPVAFEJFV+KP7TxVSyIxkIBMQOVnYs5Z/9WLxeLzabDb/fj8ViEf9+Kuf377S6kUhEFEwo/DCNjY2kp6eLeyDzz/dCQeF0RHYWZFslT6pq7/zIUbv2joiMvOmNRqOYzWYMBkOHn8sjkTUaDTqdjkgkgt/vJx6PYzAYfpZnqL3z9WM/v7q6GmgrprBarcTjcbEWhcNh4ej/J5GnigWDQfR6PWazmdbWViRJ+pf78WOQbd4/20S5JkSlUqFWq4lEIuJ7QESb5HZn8vdKj16F0x3ZtkmSJLT9Op3uXzZjP/tfuuycRqNRrFYrVqtVRFZ/qh6EHo9HpFTkdgeSJOHxeE76u3IURJ5AE4lERGRW4eSkpqYCbREhp9OJ2+0WE9AUFH7tyI6XWq0WTmokEiEUConIqtlsJiEhAb1eTzgcxu12i5RxOBzu4OBqNBrMZjM2mw2z2fwfP345Vd3S0iJS9NFoVDh0P5acnBySk5NFwKC5uRmVSvVf60ErbzAMBgNarVYEH/x+/08SsayvrycYDOL1emlpaQH+sbmRbaDcxkyn0xEKhQiHwx2iuSqVinA4TCgUQqfT/ddkeQoKvxR+9oiqTPvI5U/ZcSAcDnfYFft8PiKRCJIkkZCQcNLPcbvdYlKXbJjltHVzc7NIEyn8e6LRKOFwGIvF8i/3oqWlhcTExJ/x6BQUfhynElGNxWLie1l7JTtH4XBYfC3b2nA4LGyvXC8QDAbx+XzodDrxzPxUGadTIRaLiaiH7DDJx/djOHDgAP369QMQ0RS3201raytpaWk/xaH/IKFQ6N9KKH4q29R+DZUkSTihBoNB/B3I9vGHjueff+b3+4VzraBwunLaRFShrbmrWq2murqa6upq1Gq1iHz+WGQjcfjwYUKhkIjamkymU3rIZa2svOjU1tZSVlYG8F9JS53utE/laTQaDhw4IAqrfqp7rKDwS6a9A6pSqUhISMBqtaLT6YQt+ueUvtlsRqfTiWfHZDKRlpaGwWDA4/Hg8/n+a8VUVVVVQp8ai8XQ6/UEg8GfJOIoO6l+v5+Ghgb8fj92u520tLQORVb/KVpbWwmHwxw8eFAUUfn9/p8sQKNWq9m1axfQtoYEAgH0ej3RaFTc2/abjfYFJMXFxRQXF//bnylpf4XfEj/7X3s0GhUP7UcffcRHH30kBOM/RXrd6/Vy+PBhZs+ezbp164B/TJOR01o/hKwXamlpoaSkhJUrV7JmzZoO1ZcK349er0etVuN0Otm4cSNTp05l69atAGRlZf3MR6eg8J9Fdiblja6cUYhEIhw9epTy8nJisRhGo1FEEwOBAMFgUBR91tXVUVVVRTQaxWQyYbVaf7LU+8lYtmwZs2fP5n/+53/w+Xx4vV4RTf0ponlylNHn87F8+XLy8/O59NJL2bt377/oef8TaLVaGhoaePvtt9mzZw/QJvOSo90/lg0bNnD99dfz1Vdf0djYKCKosVhMBEvaF+nK2tiamho2bNjAhg0bqKmpQZIkMYwH+Mmuv4LC6cDP7qhqtVpMJhM6nY6dO3eyc+dOdDrdKUc8T4bVasVms3H8+HGxY5ZTKKeStg+Hw2i1WrKyssjIyKCxsZHy8nKi0agytesUaGlpQavVYrFYKCwspKSkBK1WSygUUtqrKPzqkR0LuQ1LNBolGAzyxRdfsHTpUi6//HJef/11ISey2+0YjUZMJhPJycnEYjEWLVrEuHHjmDVrFidOnBBdSP4bOsVwOExVVRUWiwWr1SqcY7mV0o9FpVLR1NTECy+8wAcffMD06dNZtGgR/fv3/0kLmb4PuRvM9u3bOXbsmPj3n0pDn5eXR0lJCQaDAbvdTmJiYodaCfhHtxu5q4MsxTt+/DjHjx8Xrc9MJpMIjig1Egq/JU7JUZUNks/nE+2FgsGg6E/a3uGQHyRZjC73wvN4POJ1JSUlQJv+U34/gBdeeIEVK1YI3Ra0GXpZhN7+85uamsQiIO98vV6veICbmppEIUIgEECj0ZCdnU0kEsFsNnfQwwLCiQWoq6sT52C1WvH5fLS2torficViIo0nHxu0OWXy+bfvPdjS0kJ5eTlDhgzhpZdeEu8hLzQej6dDmkvuvSgXgMmVnv8OWXMrI79PbW0t8I90USAQEO8r/ywQCIhrJx9DIBAQxyUbU/ka+Xy+Dr0N29+7WCxGTU2NiCDNmzePyZMni7Y2RqMRn89HNBolKSkJl8slFgO58rd9sUFTU9O/PV8FhdMJs9ksnifZ7mg0GoYMGcKBAweorq5my5YtHZ5TtVpNKBTC5/PR0NDA3r17aWlpwe12k5ubK95brVZ3sBvtv5afJdkOyf+Xj0X+uVzU5fP5mDlzJrNmzRLPcDweJzU1lUAgQEJCAtAmQYC2bIjH4yEYDIrisPa0t0uVlZXAP+yJHEGVCYfDfP7559x99938+c9/JjU1FbVaLV5TU1Mj3ksuZm1/LrI9gzabJNs0+f+NjY0dji0ej+N0OsX6kZGRwdatW5kxYwZOp1NIulpaWjoUdMnFt3JBqGzDXS6X0CHLxxSLxWhqahLtDWVNaSwWw2AwkJiYKKLJZrMZn89HXV2d6AqQmJgoJAJ5eXliGI/8GXq9XqwJ7a8NwGeffUZeXh6fffaZiM5DW2FX+2v+73rxSpIk7L3SM1zhl8JJHdVoNCp2mlarVTgQJpOJpqYmdDoder2eUCjEiRMnRNRAbrmSkpJCWVkZ8XhcPOi5ublIkiSiB/X19R0ilHLPOaBD9MBsNmOxWKioqBDjXmVnORQKYbPZ0Gg0lJSUCGN3MmRj1r6Xq2yMdTod+/fvR6PRiHN0Op2kpKSQmZkJtLVVqaqq4tChQyQmJqJSqairq8Nut+NwOAiFQlgsFnw+H1arFYPBgM/nQ6PR4HQ6CQaDJCQkYLPZCAaDNDU1ieM+FQ2nWq0W162qqgpJkqitraVTp06iqbSsAY5EIrS2tooigebmZrRaLaWlpeIYzGYzfr+fkpIScR0cDge1tbVYrVZSUlJwu90cP35cnFd1dbWYzWs0GnE6nbS2torm3bJDKk+dsFgsdOrUCZ/Ph9vtFgUCgUCAQCCASqUiNTVVmZCm8KtHkiSOHTsm9Klms5m6ujpR7PnFF1+wc+dOmpqaKCgowOv1cvDgQerq6lCpVOj1ekpKSpAkCUmSRHo+MTERp9OJyWSivLwcu92O3++ntbWVxsZGbDabcHR0Op1wqnw+n9i0q1QqHA5Hh0EGsnMqd2mRiyGMRiORSISmpiacTid6vV5U7lssFtxutygyMxgMWK1W3G43Pp+Po0ePkpeXh9lspqGhQWS6QqEQLpeL7OxsdDodDocDn8+H2WzG5XIRCoVoaGigU6dOAJSWlhKJRIRcwmAwEI1GRW/WSCRCQ0MDarWalJQUIf3SarUcOXKEQCBASkoKfr+fgwcPkpGRgVqtFtdDq9VSX18v1i05ANI+0ilv9DUajeh48kPI19ZqtYpikvT0dBISEqirq+vgZMvFdBqNhqamJpqbm3G5XCKAIm92RowYwZAhQzhy5IhYJ6HNIXc4HFRXV2MwGHA4HMK2NzU1iTZdGo0Gj8fzX5GWKCicCif15LRaLV27dhXfy02Yd+zYwcKFCxkyZAgqlYrrr7+epKQkgsGgcFomTJjAjTfeyIYNGxg7diyvvfYafr+f3//+99x9993MnDmTkSNH8sUXX1BRUcH06dO5/fbbCYfDOBwORo0axTvvvIPL5cLhcNDc3MyhQ4e45ZZb2LJlC1VVVWi1Wj7++GPuu+8+MjIyGDZsGEuWLEGSpA7Rzu9DdvLap/ETExPx+Xxs27aNt99+m7y8PPLy8nj99dex2Wx4vV5RYFBbW0tCQgK7d++msLAQnU7HnXfeySeffCIM+Pnnn0+/fv34+9//zrx58zjrrLPYuXOnMKAVFRU8/PDDDB06lGHDhvHQQw9RUlJySg29zWYz7733Hl27dqW8vJxFixZxySWXkJ+fzyOPPILZbGbfvn0sWLCAiy++mG7dunHDDTdQX19PdnY2ra2tdO/enUgkwvPPP0+vXr3o3r07d9xxBwsWLCAcDpOVlUWnTp1Yvnw5vXr1Ytu2bRw4cID+/fvTt29f5s2bJ5zT1157jQEDBvDEE0/w7bff0qdPH2bPnk1lZSW9evWisLCQ7du38/TTTzNq1CjOOOMMHnroISorK+nUqZOoKlZQ+C0wadIkUlNT2bhxI263G7VaTUJCgii8+eabb7jkkkuwW9fQAAAgAElEQVS48sor6d27N1qtlj59+pCVlcW+fft49tlnmTRpElarlTvuuIPjx4+L58fv9/PWW29x4403snnzZt5880369u1L7969Wbx4MS6XC6PRyAcffEBBQQFvvPEGq1atIi8vj48//lg0v5elU08//TRDhgwhPT2dhx9+GIPBIKKC0GZD4/E4SUlJ6PV6mpqa2Lx5M7fffjuJiYmMHTuWBQsWiAio3W5n4cKF3HHHHbz//vtcd911XHfddXz44YeEQiESExNJTk4WG+xgMIjBYOCll17i4osvxmq1MmnSJHbv3g20ja5NTExkw4YNjBkzho0bN3LPPfdgt9uprq7mk08+YeDAgbzyyivceOON5Ofn8+2333Lw4EEWLlzI+++/j8fj4euvv2bmzJnCSZSHHrz66qs8+OCD1NTUiOs7d+5cxo8fT05ODoMHD+b555/vEHk9GXq9nvLycjZv3sz8+fPR6/UMGjSIjRs3otfr6dOnj+ipmpSURElJCc8++yxXXXUVnTt3ZsaMGbzxxhsAHDp0iMsuu4yhQ4fy3nvv8eSTT1JQUEA4HMbj8dDc3ExqairPPPMMJpOJCy64gK1btxKLxUhNTUWSJNEeTEHhl8RJHVVZOxUMBkVaZM2aNTzwwAM0Nzfz8MMPc+TIEUKhEBMmTADadq4ffvgh6enp7Nmzh/Xr1zN+/HgGDRrEd999R3l5OVu2bOHQoUOMGjWKnJwcsrOzSU9Px2azkZKSQqdOncjMzGTHjh3k5OSQmZlJSkoK5eXl1NfXk5WVRU5ODmvWrGHRokWcccYZLFy4kKlTp1JWVsa0adNOqb2J0WgUEeB4PC52p5s3b2bJkiW89957zJkzh3Xr1uH1enn55Zfxer1iYkynTp246qqr+OSTT7jtttvYsGED3bp148Ybb6SlpYVjx46xbds2vv32WwYMGMDcuXPZvn07w4YNo7GxkePHjzN79myOHz9OUVERjz32GDU1NRQVFVFVVXXS44/H4yQnJ1NWVsZdd92FzWZj3rx5zJ07l0WLFpGZmcnjjz+OwWDgvvvu49577yUej7Ny5Up8Ph/xeByv18tZZ53FunXruO6663j99dcpKiritdde4y9/+YtI93fr1o2jR48yZ84cVq9ezbJly7jhhhuorKxk1qxZtLa2cuutt7J582bmzZvHwIED2b9/P/PmzaNz5840NDRw9OhR1q1bR3p6OjNnzuSuu+6itraW+fPnU1NTg8lkEg66osNS+LUzevRoxo0bx9q1a/H5fEiShMViQafTcfDgQT7//HPOO+88kpKSOHDgAFVVVahUKvbu3UtRURGrVq1iwYIF/L//9//Iz8/n1ltvZe3atYTDYfLy8ojH41RUVPDggw9SWlrK0qVLeeqpp3jiiSd47rnnqK+v5/zzz8fj8XDZZZdx2WWXEQgEOP/882lubsZgMLB161ZefvllkpKSWLJkCUVFRezatYvJkydjNptFGlmtVndI269YsYJx48Zx7rnnsm3bNm6++Wa2bdvGCy+8QFlZGW63m3nz5rFq1Souv/xynnrqKebNm8fZZ5+N0Wjs0NNUr9eTkZHBI488wqZNm7jlllv4+uuvGTNmDOPGjWP+/PlkZGQIe1ZVVcW9995LJBJh0aJF5OTkkJKSQm1tLc899xwmk4knn3wSi8VCPB5n9+7d4nyNRiOHDx+mrKyMaDSKwWBArVazb98+0X2hrq6OhQsXcvjwYSZOnMjixYu5/PLL2bdvH6tXryYWi53ydMXa2lpmzZpFdXU1W7du5fHHH2fJkiUiSCPr/EtLS7nrrrv48MMPmT59Om+99RYqlYqlS5fy2WefMWzYMF588UWWLVvG5MmTmT17Nrt376alpYWEhAROnDhB//79cTgcfPnllzz44IM8/fTTFBUVUVtb26GwS26fpaDwS+Ck1Ury1Kj2feVcLhd9+vTh1Vdf5cSJE+Tn53PNNdfw8ssvs2rVKm699VYmTpzIq6++Sk5ODsuWLSM7O5uWlhZMJhMGg4GsrCxWr15NUlIS9fX1xGIxMZmkurqa1NRUpk2bxqOPPkpNTY342bZt2xg6dChZWVm43W42btzI5MmTue+++4A2bWr37t25//772bp1K+edd95JL4KsQ5IbcOt0Onbs2EFtbS3FxcWix1dWVhaVlZWYTCZRufnJJ58gSRLPP/+8SEH16dOHpqYmVq5cybx588QEEqPRiMPhEDqm1NRUli9fjiRJPPLII5x55plAW8uWoqIiPvroI3Fe30ckEiEhIYHc3Fzmz5/P+PHjcTqd5ObmkpaWxh/+8AfuuusuxowZg9lspqmpifLycjZt2sS0adPIysri4MGDmM1m/vjHP3L++eeLFPzvf/97VqxYgdVqFVERSZJYsGABF110ESdOnGDevHmsXLmSV155hUgkQjAYJCsrS1T7y1Wu7YtKBg8ezJQpU8SkKoPBwPr16ztojOVJPAoKv2bq6+sZPnw4a9eupbS0lKSkJKxWK5IksWPHDgYPHsz48ePZt28fVquVwsJCIpEI69evx2azUVxcLHSLcgr/q6++4tJLL6WgoEBo7J955hmuuuoqAAYNGsSBAweoqKggMzOT0tJSunfvLiYjmUwmKioqyM/PJxaLkZuby4QJEzjnnHPo1q0bnTp1Ih6P43A40Gg0Yhys3HtbrVazY8cOVqxYwbZt2xg8eDBGo5GBAwei1+t5+eWX6dGjB7fccgvl5eVYLBZqa2vJy8tj9OjRQvspSZLQsn/77bdkZmaKDi4DBgzAbrczbNgwQqEQgUAAl8uF3W7H5XIBMHfuXKZNm0ZNTQ3Hjx8XgYjbb7+d3//+91RWVtK5c2dha3JzczEYDAwYMIDBgwdz8OBBhg8fjlqt5vjx4xw5coTHHnsMvV6Pw+GgrKyMhx56iCFDhmAwGCgpKeHYsWMcPHgQp9MpMmYn46OPPqJPnz489NBDFBYWimveuXNn6urqhJyqpKSECy64gEsvvZTevXvj9/s577zzuOWWW9i7dy/jx49Hp9MRDodxuVxoNBpSUlJISUmhpaWFFStWcM455/DHP/6RtLQ0hgwZwtChQ5kxYwabNm3ihhtuAP5RgyHrkhUUfm5OKfVvMBjo1KmT0CHdfffdPP3000SjUfLz8/F6vaSkpNC7d2/UarVIeZSVlTFgwAAyMzOJRqMkJiZy7NgxKisrmT59unBEMjMzsVqtVFdX43A4SExMxGg00qVLF0wmE8ePH8dut+P1eiktLeWiiy4iLS2NpKQkVq5cyaxZs/j/2Pvy+KjK6/1n9n1NMskkIRCSsIawlM0oAoIiFK1bpVQKKlqrWNS6flGUuqK0lLov4FosqLWKuKFWwKgosgohJIHsmZnMvtzZZ87vj/R9zYjfwu8nLdDffT4fPiSTmXvfe+e95z3vOc95zsGDBwGAcxuTyeQx9YpmXZIMBgOvRne5XGhra8OkSZOQTCY5qd9oNMJoNCKTyXAdwUsuuQRvvvkmd1ITiQSSySQGDhyIPXv2oLGxEQaDAVKpFAcPHsTYsWNhNpvR2NgIqVSKuro6jBgxAiNHjkRzczN8Ph9GjhyJYcOGob6+/qjjV6lUUKlU6OjoQL9+/SCRSNCvXz/EYjE4HA74/X6Ul5dDpVIhEAggPz8fp59+OqxWKwoKChAKhfDCCy9ApVKhsLCQF5tls1lce+21iMViPMLpdruh1+t5JTAr7FAoFNi3bx8v2NJqtZz2wHRrmTi1wWDAlClToFar0dXVBZ/Ph/z8fOh0OuTl5SEWi/ECvf9EZxoRIk4kmA2tqanBpk2boNfrEYvF0NnZibfeegvDhw9HUVERXC4Xd8AOHTqEzZs3Y+LEifD5fHxz3dXVhYkTJ6K9vR2hUAg9PT1Ip9MoLCzEyJEjcejQIX7OiRMnIhQKoaurC1VVVejs7ITdbofdbofT6cSAAQM43WrQoEGYNGkSt6eVlZWw2Wz4+uuvEQwGeSQuk8kgHo8jEAhwbqvRaOR2PplMYvz48fx8TqcT5eXlqKyshMfj4UWsfr+fF6/abDaYzWaMHj0adrsdr7zyCk477TRe8MRUWA4fPgwiQjabRWlpKc444wxUVVWhsbERJSUlqKiogMvlQkFBASZPngyHw4H+/fvzcbFNcjAYhE6nw/jx4/Hhhx8C6N00MzpCZWUlQqEQampq8Mwzz6C6upoXiVZWVmLw4MG8CO5Y5Au3bduGhoYGDBgwAGVlZVAqldBoNMjPz+ei56w2oLa2Fr/97W+Rl5eHpqYmXiPg9Xqxe/duRCIR5OfnY9iwYTAajVCr1WhqauKO544dOzBu3DgUFBRwNQGDwQClUskL8VjBsuikijiZcFRHlaWHgd4qSFYJuXv3bvzP//wPLBYLjEYjZs+ejdWrV/NWcA6HA4MGDUJpaSkcDgcnotvtdpx77rmoq6uDXq+HIAjo7u5GOByGTqdDUVERF7OuqKjAhAkTsGnTJgC9jq/H40FFRQUnwh8+fBjvvPMOT+9otVpcfvnl6OjoOCaOKjMmjESuVqsRCoXQ2tqKUaNGcWkQ4LvCJbVaDZ1OB51Oh2g0itbWVtx8880oKSlBUVERKisrsXz5cpjNZpSXlwPojdqWl5ejubkZqVQKBQUF2LZtG/bs2YMHH3wQFosFVVVVGDhwIAoKCvD8888fU+ooFouhtbUVeXl5cDgc0Gg0cLvd0Gg0MJlMsNls3HFkxQUs8tLQ0MCve+LEiRg+fDiPaMbjcRAR5s6diz179qC5uZmrDxQWFqKsrAx+vx+JRAIjR47EmDFjUFxcDKPRCKfTyVNW0WgU4XAYgiCgp6cHfr8fVVVVUCgUKCkpgdVqxaBBg9DZ2cnnidFohEqlylEVECHivxEGgwF2ux1Tp07F9u3b4XK5oFAoUFdXB5/Ph9raWi5ZREQIh8O8F315eTmsVitisRhCoRA0Gg0WLlyInp4efP3117DZbJBKpfD5fLDb7aioqEAgEEAmk8GYMWN4NJMVLLlcLjidThQVFXF7zDaOQC9XMxQKIZFIoLS0FHa7nRf4AL02jo2VbZhramoQDAbR3d0Ns9mMQYMGwW63Y/v27SgqKoIgCDh06BCMRiNPO1ut1pwK+n379vFiH51Oh8ceewzTpk2DRCLBgAEDUF9fj7a2NjidTigUCrS0tGD//v0YOXIkKisrAfQWmtrtdjgcDr4OOZ1OCIIArVbLi9GA3kLhM888E263G1u2bOHFWZdffjm3XUBvfcD69etx3nnnQaFQID8/H0uXLkVnZye/hqNh2LBhcDqdGDFiBOfSBoNBFBcXw+v1wmq18vbdJpMJhw8fxuOPP46LL74YFosFo0ePxubNm2G323n78YaGBuzfvx96vR5VVVWQyWRobW3FZ599hptuugn9+/dHZWUllEol+vfvj23btiEUCsHn80Gn03EnVbS/Ik4WHNVR1ev1XBKEReEee+wxLFmyhBcRCYKAr7/+GuPGjYNcLufVoBKJBJFIBHK5HIlEgjuhdXV1qKys5NG74uJiGAwGCILAKymlUil0Oh1mzpyJTz75BF1dXWhoaEBJSQl+8pOfcI29jRs3YsmSJZg9ezY++ugjuFwurFu3jnd8ORpYtJAVILC2Xa2trUf0tA4Gg3C73bwan4hQX1+PG264AUajEW+99RYOHTqEgwcPYuHChTAajbzQoLu7GxqNBmazGalUijv4RqMRy5cvx/PPP49NmzZh8+bNWLt2LdatW4cLLrjgmMZvMpng9XpRUlKCUCiEgoIC9PT0QKVScZWEWCwGjUbDFx6z2Yyqqir+XW3fvp1fP9DbgzsSiWDXrl3QaDSorKzkkVG3241EIgGLxcL7UHd2dmL37t38nMXFxdBoNLxyVqvVorCwEEAvPaOjowPAd3I8SqUS+fn5fM5EIhGxPa2I/3qwgtBRo0ZBEAS8//77vIhq0qRJqK2tRU9PD5xOJ6xWK1QqFU+7M0kkhUIBrVYLq9WKr776ClarFeXl5YhEIohGoxg5ciR27NiBbDYLs9kMo9GIuro6lJWVQaFQwGq1cqUAi8WCaDQKg8EAhUKB4uJi7qiWlZXBaDRCEASEQiGuxMJaHqZSKa4X6/P5EAwGcfjwYVitVq5C4vF4UFZWBkEQ4Pf7uSJARUUFb0vNbD+L0FZXVyMvLw9qtRqlpaXo6OjAXXfdhUgkgm+//RYXXXQRFAoFT7Uzp3zXrl08k8VUBdh1NDc3o6ioCLFYDCaTCTKZDBKJBHq9HjKZDIMGDYJWq0VjYyMSiQS2bdvG7VEqlcLu3bvxi1/8Alu2bMFtt92GaDSKrq4uXHfddSgpKeFZqWP5/hUKBVwuF9xuN0pLS6FUKrm6DKM1mM1mbN++HZdccgmi0Si++eYbbNmyBR988AGuueYaBINBuFwuaLVaVFVV8Wr/bDYLv9/P6yruvvtu3H///di2bRs+++wzfPLJJ/joo49w/vnn8+hqKBTimwIRIk4GHJWjyiQrNBoNlxvavHkzzjrrLF74w2SjGAE7FApBIpFAoVAglUrBarXyKlCbzcajZcwpSqVSSCQSPK3MduUAMHz4cGg0GnzxxReoq6vDL3/5S65vevDgQbzwwgu48847cd5550EQBGQyGRiNRlgsFgSDQc6ZYj3n2TmZvp1Op0M6nYZareY8XIPBgHPOOQfbt2/HnDlzuLwH6wbCUm3hcBh1dXVIp9O46aabYDQaEYlEUFZWhkQiAYPBwO9bTU0NLxbSarVwOp3Q6XSwWCwIh8O48MILubTMqFGjuJxVX+NPRIjFYtzg+nw+zhtVKBTo6enByJEjEQgEYDAYeFrIbrdzx16j0XAqA4uasB10MBiEyWTiBXRutxstLS0488wzuVaiz+fjepDMkT98+DBMJhOMRiNSqRQ0Gg3C4TA0Gg0ymQw3eKz1bDqdRr9+/Xh3L5VKxQsZBEGA1WqFRCLh4xAh4lRFIpGAUqnkzxaTXEsmk1y+j0VHf/7zn+Ojjz5CaWkp6urq8Kc//QnRaBREBJvNhnA4DKVSyZuVML1p1vJTLpejvr4egUAAdrsdcrkcJpMJBw4c4DZJqVRyCg57vpi8H7PfLEXOOmB5vV7e1lqpVMJsNvP39tXyzGQy/PkfPHgwnE4nT9EzHqxarcarr76KGTNmcGH7qqoq1NXVYfbs2Xwjz2QPWRZHIpHg9ddfh9VqxdVXX43q6mpks1lUVFRAIpFALpfD7/ejoKAAOp0OHR0dKC0tBQBe+Mrsos/nw+DBgwH0UtsikQh0Oh3n3LLXf/rTn2LHjh1cTuvss88G0BsccLlcPJtXUVHBuylarVa4XC7e0ZDJLqpUKvT09PCUfDqd5s1uhg0bhoMHD/Li33g8zhsRpFIpzuXfunUrzGYzbrnlFiiVStTU1PAgklKp5HaWSYGFQiG+dtXW1sLn82HMmDGYNGkSpwNotVouX8ha5LL1IBQKiRQAEScFjhpRVavVXDvVZDIhFotBr9fDZDIhm82ipKQEANDQ0IC2tjauC6rT6dDe3o5EIoFAIIBkMolUKsX1AZmYcTKZhEKhgE6ng1ar5U6vQqFAMplEYWEhhg0bhieeeAI9PT0oLCzkDyTTTWUpaOZ07d69Gx0dHSgqKkImk0E4HIbNZoPH40Emk4HX64XBYOC7eabx2leiqqKiAl6vl+vMsYhwUVER168zGAxobW3l94IdhznI9fX1XBO2p6cHJpOJp7CKiorQv39/jB07Fk1NTfjiiy+g1+tht9uRSqVQV1fH+UXRaJRHLNg9BHpTZGzXrNVqeWTAbDYjk8lwh95gMMDr9SIUCvEuUclkkkcQxo4dC7/fj40bN0IQBMjlcrS2tuLzzz+HSqXikZf8/HxO0AfAo6nFxcVIpVK8JWo2m+ULHNudZ7NZVFZWcv3BSCQCg8HADaFUKuWcNuaUiy0CRZzqUCgUXD+UifgzTjzTEpXJZNBqtRg/fjwOHTqEP/zhDxg0aBAqKiqg0+kgl8sRjUahUqng8XhQVFSEiy++GM8++yy6u7thMBgQCoUgCAL27t2LSZMmcYeI0YFMJhPPMAWDQe607t+/H1qtFvn5+XC73TlOaiaTOernmS1ijpJcLkcqlYJEIkFhYSHWrl0LIkJVVRU8Hg/effdd6HQ6VFZWQiaTIRaLQaFQYODAgbDZbFxLlHHUpVIpHA4H2traEI1GUVhYyNPUTK2lu7sb+fn5GDRoENra2njxLUvtsw2zUqnkwvtMCJ9FHomIc/aZgzh27Fjs3r0bL7/8MsaNG8epWMzWC4LAtbX9fj9SqRT8fj8aGxvh9/v5fWNFujabDYlEAvF4HPF4HMFgEPn5+TAYDAgGg1xdRSaTca4/S92Hw2FIJBIYDAbuuDY2NqKzs5M75YyaxwJDTJGBaXbPnj0bq1atwoEDB/jx3W43Dh48CKfTySkbDocDbrf7mOQRRYj4T+ConkAsFuNFM8yplMvleOKJJ+BwOPDLX/4Sf/7zn/Huu+/yqAHreFFVVcU5h0qlEjabDS6Xi6fDmVEDwJ0/9jOLqimVSpxxxhl46qmnMGfOHF60xDhZw4cPx8aNG6HRaGA0GvHhhx9i8+bNUCgUnD+l1+sRCAQwYsQIhEIhTka3WCzc2ZPJZNxR1Wq1GD58OLZv344lS5bgkksugVwux9q1a/Hqq69i4cKFsFqt6OzsxPz58zFnzhxcc801mDt3LtxuN9avX48vv/wSV155JRQKBU/NjxgxAk1NTfj4449RU1MDi8WCadOm4emnn8aqVavwxRdfID8/H83NzTh06BDOOeccXHHFFVxAGuilG7AdczKZhNVqRTQahUajQU9PD+LxOGKxGNczdDqdkMvlKCgo4JyvZDLJoyFOpxPTpk3D+vXr8dhjjyEUCmHKlCnYtGkTVqxYgZtuugm1tbXIZDLo6elBJpOB3++H3+/nhWVqtRptbW3wer08DZmfnw+Px4O//vWvmD17NgwGAy+SMBgMvLOL0WhEd3c3T1GxTQjrxCJCxKmMSCQCo9EIvV7PMzsAuNg6exY1Gg0mTpwIrVaLDz/8EE8++STy8vLgdruRzWZ5Op45D7Nnz8Zbb72FxYsXY+HChVz/c9u2bbjhhhtQWloKn88Hm82GwsJCLoDPAgKsRfWoUaMAgFOGmHzciBEjMHTo0KN+nkUOAfCNJbOfl112GZYvXw6ZTIbq6mp88skn2LlzJ/Lz8zF+/HjedKClpQVerxfNzc05UTx2bJPJBJ1Ox5221atXo7y8HD/72c9www03YP/+/TAYDIhGoygpKeH8S/Y5oHcdY3ZRLpfzoiWgd73xeDxQqVS8fbdGo4HBYIDNZsPu3bvx4IMPco5/KBSCUqmE3W7HsmXLcP311/Oq+rfeegu1tbWw2+3o6uri2StGLWPyV31x+eWXY+HChTj33HNxxx13QK/XY/369XjhhRcwf/58NDc3o7q6GmPGjMGyZctw5ZVXYsGCBQgGg3j66adRV1eH/v378yYL4XAYer0ef//732Gz2XDWWWfBaDRi7ty5uP3227F69WqUlpZiypQpeOSRR2A0GnHOOeegsLCQF8AqlUrR/oo4aXDUiKpGo4HP50NTUxOUSiXy8vLwzDPPYMmSJXj//fcxYcIEjBw5Eh9++CEuvfRSHDhwAEBvYwDWrYlVFLJdY15eHqcCsBQyEaGiogIVFRW8jRv722mnnYaf//znmDNnDgoLC0FESKVSUKvVeOihhzB69GgsWbIE1157LWpqarBixQpMnz4dW7ZsQSAQ4IR5tVrNx5KXl8c5kay7lcPhQDgchslkwsUXX4w77rgDhw4dwsKFC3H33XdjwoQJePjhh1FYWIimpiaUlpZi5MiRuO222+D3+7Fo0SK8++67uPrqq3Hvvfdi+/btcDgcvHCoqqoK69atw+9//3tuXGfPno0bbrgBNpsNr732Gh599FG0t7dj2rRpuOyyywD0LmoOh4NHKthOvaCgICe6GggEoFAoYLFYOL+prKwMHo8HsVgMkUiEG+vS0lL4/X5umB577DGuoTps2DA8//zz+NOf/oRf/epXXAyaiFBdXQ2lUsk5XWzxqq2tzWmbWF1djZkzZ+Lmm2/GW2+9xYn5/fv3h9Pp5AsJW4Bra2tz5sKxVMyKEHGqgG2EWTo7m82iuroaQ4YM4ZkJhUKBefPmYdasWTj77LMhkUhQUFCAwsJClJSU5BQmDhkyBG+++SYsFgt+/etfc53Uxx9/HLNnz4ZEIoHVauUNSZLJJHeWiQiCICAQCKCpqQlOpxNmsxkXXHAB5HI5Hn74Yaxdu5bLRv2rz2s0Gh6BZNcF9Cq5zJ07Fw8++CDee+89zJs3D++99x7OP/98vPTSS6ioqMCOHTs4RWz48OEwGo05zz1LWzOHqba2FldddRXkcjlWrVqFmTNn8ms//fTTsXPnTjgcDt5ViRXUptNpXlswYsQIPnbG13e5XLxNaTgcRiaT4Zmg8ePHY/jw4SguLkYsFkMmk4HNZsO0adPw+OOP4+DBg5gzZw4eeOAB/PKXv8RTTz2Fqqoq7Nq1CyUlJQiHwxg+fDiPoPr9fn7seDyOcDiM6upq/PnPf8bQoUOxYMECLv/3wgsvQKPRoLq6GuFwGIMHD8aGDRsgCALOO+88rFmzBkuWLMGSJUvQ3d3NN/p2ux2LFy9GZ2cnLrroInz00UcAgGnTpuGZZ55BOBzGAw88gFmzZmHAgAE444wzMGHCBO5AGwwGqFQq3rhAhIgTjmw2S0RE6XSa0uk0AaBMJsNf2759OzEkEglKJBJERNTS0sLfFwwGKZVKUSgUomg0mvN6OBym76O7u5s8Hg//PZVKERFRR0cHdXR05LzGztvc3ExsrJlMhpLJJCWTSSIiOnToEH+vz+fjP7P3s2uJRCLk8Xjo3HPPJbvdTgDIYDAQALLb7aTVamnChAlUV1dHka/CJzUAACAASURBVEiEYrEYhcNhSiaTfDyxWIzS6TQREXV1deWMMZvNUjAYJKfTye9B388REUWjUT7ujo4OCgQC/HePx0OdnZ0kCAKFw2ESBIGWLVtGU6ZMIZvNxsfK/snlcnrppZfI6XTysYRCIXI6nUREJAgCeb3eI+5/LBbjrwuCQF1dXeT3+/nfOzs7ye12H3EfQ6EQbdu2jV9TOp2mRCJB4XCYmpubKRqNkiAIlMlkKBwO82O63W6KRqNERBQIBPh9aG1t5cf/6quviIj4vUilUvxnESJOVmSzWcpms5ROp/lzAiDH9iQSCQqFQpRKpUgQBG4/Dh8+TM3NzUT0nZ2Ix+O0e/du/ln2LNfX1+ccs7u7m1KpFH+uiHqfW3asaDTKj9nQ0MDf4/V6KRKJ5FwDs1XZbJYSiQTF43Fyu90UCoWO6fPhcJjbAq/Xy9cAdp0HDx7kz31fO0PUa3/Y9fW9X33XjWQySeFwmLLZLIXDYcpkMtTT08P/3tbWlmP3/xX27dv3g3alq6uL34e+95ToO5vFxhuPxymZTPJrSafT1NbWRkS9a15TUxO/DiKi/fv3H3G+eDzOz0vUa1vZa36/n9rb28ntdvPXGhsb+WeDwSB/nZ2DHcflcvHz9fT05Nh/dk/T6TQFg0G+bvdFKBTi31swGDxi3CJEHE+wucZsW9/1HwB/nySbzRIjtQPghGom3sz4MvF4HPn5+Th06BAGDhzIuUSMv8r4iQDQ1dUFk8nEifSMD6RQKHjBTSqV4iTzeDx+RDqk72tMMB8Aj45KJBIEg0Ge/pbJZEgkEpx/FAqFUFRUlFPNH41Godfr8c4778BsNkMqlXJN05qaGuzfvx/pdBoXX3wx50f1LehhLfVY9xUAnPeZTqePIJ6HQiGoVCrIZDJesOX3+zkd4Z8bBX6svoVTDB0dHdi3bx+CwSBvTciI7+l0GhaLBTU1NT+4CWHRa6YNmEwmeZtD1rRApVIhHA5DJpPB5/NBpVJxUr/b7UZ+fj5cLhfy8vKOEOBnxR2s+peBFXf07frVV2qLjeuHwL53FqFhRWAiRJyMoH9GANlzzHh+2WyWP8fs+dJqtZxrztLO9M9CISKCy+VCUVERgFz7x9LhmUyGFyX15dN7vV44HA5UV1fz1w4cOIAhQ4bwGgF23Gw2y7WRBUGAIAiwWCz8mWNUHgami/q/fd5oNOak6xkHlOmgyuVyxGIxnoJvb2/naWXWHvX7doWdg0V0LRZLjoIL47CyQjCpVMpT/1qtFq2trbBarUgmk3ycTHGE3U+1Ws2LwxidjY3F4/HAbDZzvr5Op0NPT0+O3e97LKA3+stsOvvuvF4vLBYL/0xLSwtKS0uhUCjQ0dGB4uJiyGQydHV18VqP9vZ22Gw2qNVqRCIRBAIBlJaW8nnC5hNbm+mf2SfGD+5LE2NzkslbMbWDgQMH5lyH0+kEAF7Ixrpqia1URfy70XceM5+SqYgwBSYAOKqjyvhTLBUPgAuys05VQG8Fut/vR0lJSY5A/PfbmDKhfOaksuPJZDKeNlYoFDnOD1MeUKlUCAaDXELE7/fDYrFw3isTiGaOEas8l8vlcDgcOc503yrVcDjMua/sRkUiEd68oO/nGDweD0+FMUdWEIQcB6svP0qpVHK6AnuNSX6xpgLMgLNFjvW7jkQiOS0F2T0JBALQarU5i0QsFoNcLuffTSQSgUQiyZEaYeoGzFHtayiBXsNVWFjIDVUkEuHFakxnFgAn90ejUZ7CY4UfjEPb10F1u908rSSRSDhhn/5ZYCcIAiQSCdRqNU+FigVVIk5mHM1RZWoZbKMN9D77rMpeq9XyjSTb9BqNRvT09MBmsyGZTKKrqwvl5eUgIng8HhQUFCCbzcLr9SKVSuXYrs7OTq7dzJ7vbDbLnS9m/FnHQaYhylRItFotL/5hNQL/6vNMsSM/P/+IczJnKJFIwO1281T4D23os9ksX1NYoW3f9YYVwOr1ev460/S2Wq0AgG+//RYjRoyAw+HgzjdDX7vMxsjAAiHfd5qj0SjUajVvCcs29xKJhBedMbvKCl5Z8RIbE3PiE4kEVzQBvlug29vbuSqB2+1GOp3m6w0bD+sSRkQ4cOAAhg0bBqB3g2IymXLuRyKR4PbTZrNxp56NkzV2YPNQr9dz/VR2T1gQic1lESL+XThWR/WoqX+i3lQxS2/1TbF4PJ6cVA4L27LUEVFvGsXj8fBjslQPO34ymcwJ//YdTzKZPCJF0vd9mUyGp4/ZOIm+S1n0pSqwtFEkEuFjYO9PpVI5aY7vpzzS6TQFAgF+7dlsllwuV8419z0eu26WsmL3yOl08jQgS5+x9Bq7Bz8ERkNIJBIUCARyzsP+Ho/H+THYvfs+WHoqlUpRJpOhRCKRQ9Xo6OjISWMyKsf3ry2ZTB6R/uvu7uY/950T7P5/n4LQN73G7nffudH3ZxEiTlYcS+qfPYuRSIQ/N31TrocPH+bvYc8OeybY+6PRaM4zxOweo0H1PQ+zvX3Px+xoNpsln89H2WyWUqnUD6bMo9Eop0od7fNExNPwwWCQ20Vmj9iY+r4ej8cpEolwOkRfW8BsEUvxx+PxHHucSCQ4xYHB7/fz8fUdq8vlylkLiL6zs6lUKofSxM7Ljs3sMhFxmlomk+H3oy+Vgc2Bvt850Xc2r+99YLbz+/e27/wh6rV/2WyW06n6XgPRd+shO0dXVxe30ez6+67HoVCI2tra+HfGaAB97XosFsuhfIk2WMS/G8c19S9ChAgRIo4EHUPqX4QIESJEHIljjagetepfhAgRIkSIECFChIgTAdFRFSFChAgRIkSIEHFSQnRURYgQIUKECBEiRJyUEB1VESJEiBAhQoQIESclREdVhAgRIkSIECFCxEkJ0VEVIUKECBEiRIgQcVJCdFRFiBAhQoQIESJEnJSQSyQS3gWlsrISACCTyVBYWAiPx8P1VUWIECFCRC4KCgrgdrsBAEVFRQgEAgAAq9XKfxYhQoQIET+MgoICeL1eyGQyaDQahEIhDB8+POc9OYL/giCguroa7e3tvL1eMpk8QcMXIUKEiJMb2WwWmUwGOp0OXq8Xcrkc48aNw549e5DJZHh7ZREiRIgQkYtUKpXTPlqr1cLtdsPv9+P8889HQ0MDAECSTCZJEASk02nk5+fndFWJxWLQaDQn+FJEiBAh4uQE60kfiUSg1WoRj8eh0+m+61EtQoQIESL+JUKhEIgIJpMJAODz+ZCXl8ftqFyhUEClUsFsNgMA1Go1gsEgzGYzkskk5HL5CRu8CBEiRJwK6OjowNChQ6HVarnNTCaTYhtVESJEiPhfoFAokMlk+P+BQABmsxlWqxV6vZ6/T+J2u8lsNsPlcqGkpAQSiQREJEZTRYgQIeIoSKVSAHoNLrOZzIayaKsIESJEiDgSRIREIgG1Wg0AEAQBMpkMRAStVssjqlKDwQC5XA6dTpdzAK/X+x8ftAgRIkScSshkMpBKe8VTJBIJnE4nDAYDBEEQnVQRIkSI+BeQSCRIJBKIRqMAAKVSCblcfgR1Si6RSJBOp2E2myEIAvR6PYLBIIqLiwFA5FqJECFCxP8CqVQKmUyGlpYWlJeXI5lMoqCggKuliPZThAgRIn4YEokESqUSsVgMRASpVAqNRgO5XI6CgoLv3kdE1DfNL5FIkEwmoVAoTtTYRYgQIeKUABEhlUpBqVQik8lAJpPx1D9TThEhQoQIEUdCEASezU+n04jFYlCr1YhEIrBard+l/okIGo0GmUyGRwFkMhkA/Ec0VBOJBIDewoNUKoVUKsUlsdjffgzYsfx+P3+tu7sbABCJRI76+Vgshkgkgkwmg3g8jlQqBSJCJBLh/LR/BY/HAwBHaCoeOnTomK/hZAf7nlwuF2KxGL/WUyGa1HeOC4KAVCqFTCaTMzfY959KpSAIwg9+VsT/v2CFAIwCAIBzrDKZDLLZLLLZLNLpNJLJZM68YfYpGAwinU4D6JW8AnptD9BbEcuOycBSZccLwWCQnysajSKbzR6TfTsZcDLYH4/Hg0QigWw2i3A4DACnzP1j8y0ej8PhcPBxH6/xs7kVDodz5hXbzLEx9F3v0+l0zu/MHvf9Tn0+H1+L2WcYXC7XcRm7iH8vGDeViCCXy6FWq6FQKGAwGHLed8I7U6lUKsTjccTjcSgUCigUCv67SqX60cdnOoZExCd5Xl4eABxT1FilUkGv10Mmk0GtVnP+hFKpPKbPG41Gfv5gMMgXncLCwv+n6znZEI/HEY1GkUqlYLPZoNFouIIEc9JPZiQSCW44dTodFAoFj5KxzRvbnCgUCr77S6VSx2UjJeK/G6zqn4i4wxqPxxGJRLhDAwAmkwlyuRzRaJR/RqPR8GhtMplEJBJBJBLhRVrHY6PEbCILThiNRmi1Wkil0lNCseBE2x/mFOfn50OpVPLNCHBs68vJAJ/Ph0wmA7VaDbvdjnQ6jWAwyOfEj0EikeA2VaFQIJ1OIxqNIhKJwO1284wDW5/Zc8JsbiAQQDqd5ut4Mpnk91yn03HbzTYJzOn+b1lfRfTihLP9mSGWyWR856XVaiGTyZBKpX70wx6JRKBUKqFUKrlzIZVKkclkkE6nj+oMBwIB6PV6bnzYw8GM4/eL0L4Ptpjo9XpIpVL+YOn1eiQSiePijJ9IsB1QIpFAOp1GOByGwWCARqPJ4ZicrGBzQSKR8OIXlmXo6zD03cmn0+kjImgiRPwQmL2Ry+U/KP4fDAZzXvf7/dBqtfD7/bBYLIjFYnyz+/3Ps/f8GAiCgGQyCZPJhEgkwqkL8XgcMpnsiMjGyYYTbX/MZjNCoRCMRiOXdWRakER0Sjj7RASHw4Hi4mJIpVIoFApIpdLjYt8SiQT0ej1SqRSPnrF53Fd+CADkcjlvoCGTyfg45HJ5TlCAralyuRwymSznuWDzQKfTwefzwWq1/uhrEHHiccIdVbaLUigUfOLKZDJkMpnjkrqRSqXcUQW+e0ii0ShfAP4VTCYTd5qZU6pSqaBSqY6JOsCkvlQqVY6jCuC/wlHt6emBwWDgO2O2G2Zpy5PdUKjVaj7evouyWq3m84+9h4HxaE6ViImIEwe1Ws05q8lkEolEgm9y5HI5pFIpp5PodLqcVBgRcRvl8Xj4hkkQBNhsNu4Q/Rjo9XruGDD7G41GTwknFTg57E8kEoHRaEQ8HgfQG/VjUcBTwVFlDn0ymeTSQMdrXWLzNxaLQSKRwOfzIZVK8Y2b1WpFIpGAXC7ngQIWzWeZSwA8MMQCPkBvwEAQBGg0GmSzWT5mZpePR0RYxMmBE+6oKpVKvgtmuyatVotoNHpcDKVMJkM6ncb+/ftRXl4OjUbDUxHH+nngOy6F1+uFIAgoKys7podZq9Vyo8mMaCQSgcViOSZH+WSHzWYD0Gs0IpEIT7udSuibRmVcQoVCgQMHDgAAhg0bhnQ6DZlMxiOwovSQiGMBS33KZLIc2ZW+tiMWi/GOVoyWZDAYeJfAbDYLo9HIF22ZTIZEIgGJRHJcHIquri7EYjHk5+fDbDbzyNapgBNtfxKJBIqKigCA2wTmNDc2NmLQoEH/0fH83yISiUCv1yMWi0Emk0EmkyEWi/FrOR6OdlNTE0pKSqBQKFBYWJgTaWZZTja32aYpk8nA6XTC7XZjyJAhOfOxryOq0Wggk8k4x5XZaQCnfBBIxHc4KXKXBoMBXq8Xq1atwqpVq+D1eo/bbp6I0NDQgOXLl+O9996Dy+Xizgjji/4rsCKHTCYDh8OB5557Dk8//XQO6fxo0Gg0PJViMBhgNBr/a3Z72WwWXV1dePLJJ3HFFVfg448/hsfjQTwezyk8OlmRTqchkUj498Gcg2AwiE2bNmHTpk0IBoO8rTAAnh7tS94XIeKHkE6nkU6nufSKSqWCQqFAOByG2+0GgJxNDxFh9+7dvPiTbW7Zhj4UCvEI0vGAIAj4/PPPcf/992Pv3r2IRqO8OOxY7OOJxom2Py6XC1KpFB9//DHmzp0Ls9mMX//61wiHwye9kwr0RtR3796Nu+66Cxs2bADQG5TJZDLHhYO/du1aLFy4EFu2bOHFbiyzwCCRSLhtjUajyGQyEAQB9fX1WLlyJQ4cOACdTseVieLxOC++YfQAlUqFZDIJjUYDtVoNr9fLg0siTn2ccEeVpUvUajXcbjfcbjefYOxvPwYsRbtnzx6kUilYLBZIpVKYTKYjODI/BIPBwFMQGo0GjY2NaGlpgdFoPKbOXcxYplIpfPXVVxAEIYcYfqojHo8jLy8PeXl5CAQCqKmpQX5+PtRq9SkRlWHOZt/IgUqlAhGhvr4e9fX1R6TC2HtFR1XE0aDX63mRTTabRTQaxZ49e/D888/jtttu40UrbKHduXMnli1bhp07dyISifDoZldXF5YuXYq7774b3d3dxy2ayub6119/DYvFwiO5JpPpqPz7kwEn2v6UlZWhsbERd911FyoqKvDnP/8Z999/PwwGA/bu3ftvP//xQCqVQkdHB6+U70tL+bEoKirCjh07kJ+fD71ez7n/4XCYN8XoW/CcSCR45srhcOCrr75CNBrNodCwgiugd31lG754PM7HvG/fvh89dhEnD054/pLtfvLy8vDQQw8d8dqPBeO/JJNJWCwWKJVK9PT0wGKxQCKRHPVhlEqlCAaDMJlMnDbAOnmxtMm/AktTfPPNN3j66acxY8YMTJ48GSUlJT9YXHGqIZvNQqvVwmAwoLm5GW63GzKZDHl5eacEx41FsxgnmqX9TSYTpwOYTCZIJBLOrepL5hch4l8hk8kgFovxIhWtVgubzYZUKoW2tjYEAgGYTCZotVqEQiHs378fb7/9NqZOnYrx48dzFYCSkhL+c3FxMZfy+7E86XQ6Db1ez3mvRMQjVqeCBuyJtj/ZbBYHDx6Ex+PB4sWLMXToUF4UXFNT828//4+Fx+PBuHHjsHLlSs7n9fl8MJvNx2V9Kigo4I4mg1KphFqt5huh79tgoHeDl81mYTabecFgPB6HWq3mASKmwcmcVvbZAwcOYMWKFWhubsbChQt/9DWIOPE46paJiLiMCosO9k0JRaNRhEIhHv0UBAE9PT0AeonujJ/p8Xh4BLGtrQ3AdxEpJjehVqsRj8eRTqdhsViQTCZBRHA6nfx87Jh9tdPYRGXjcjgc/JgqlYoXQrHx22w27nAyHbdoNMqvoa9sDPsbSy+wTjQAON8U6DVYkUiEa60yaSP28CgUCuzatQtSqRT5+fn8XCzN8f3zfl939X9DKpVCU1PTEdEDdq+/X7zFyOzsbywt2dPTg/b2dv5epjX7/XExKRPmrCmVSvh8Psjlctjtdp7eAXq/h76teNnrbCzsuB0dHfx1NnfS6TTi8XjOONg8YHQOBjaWQCDA51YwGOSOZzKZ5DI2fc8RjUYhl8t5+j8UCkGhUKCjo4PTARQKBSQSCf8+QqEQv9d9dS/ZGFhUgs1FJrXW97q9Xu8Rc0zEfyckEkmOagjj3p999tnYu3cvAoEAn/9EhM8//xyjRo3C+vXroVQqeb/r3bt3Y9euXZg0aRLC4TCX+olEInxeM1u0f//+HxwLm/dA77MJgNMQCgsLEQ6HIZFIoNFouC1gKdq+nH42xx0OB389FotxBw3ItV+BQCDH5rBjsv/ZuFtaWgD0Pk99ZYj62gCv14tkMglBEJDNZrnT4na7UVpaCovFgry8PAiCwJ/JUCjEzxUKhTitwu12I5vNchsVi8Vy2jmy59btdvPxM3vZ97issUMymeR2o6+tY/crGAzC5/MB6LWpfr8/Rwe07zX2tQ9MZovdB/Y7s0PffvvtEfe9vb2dj9PpdPLr7+np4XaLbbyBXnktNjaLxZIj7dXZ2cl/FgSBf0/pdJp/pq9OOfsso9dJpVL4fD7odDq+duj1ehAR56QC4N2I2NxkagEsYtrR0cEDSx6Ph4+9q6sLQO+63t3dDb/fz+9pMplELBbj96qjo4M/iw6HI2cNEgSB35u+/oqIE49jclRVKhVisRh0Oh28Xi+MRiO2b9+OBQsWoLq6GuXl5bjyyiuxa9cuHjFwuVy49dZbsXLlSqxYsQLnnHMOHnnkETQ0NOCOO+7ArbfeisceewxVVVV455130NDQgBtvvBE33XQTwuEw9u7di9NOOw1btmzhnCwiQltbGxYvXox3330XXq8X0WgUr7zyChYtWoTKykqUl5fjpZdegsFgOCZRbBY10Gq1vLrbYDAgmUzinXfewVVXXYVp06ZhwoQJuP/+++Hz+Ti/zGKxQK/Xo76+HitWrMDs2bNRWFiI6dOnY+vWrdzRGTNmDC6//HK0tLRg0aJFOO200/CPf/wDQC/f0eVy4brrrkNVVRXKyspwxRVXoL6+/pi+QJ/Ph5dffhm33normpqauMP97LPP4uyzz0ZrayvXrKuvr8dtt92GTZs2cacsFArhhhtuwBlnnIELL7wQ8+fPR11dHYqLi/nDLZVK8dFHH+H2229HeXk5Ro8ejaVLl6KzsxPRaBRWqxV79uyBy+XCWWedBbvdjmAwiG+++QYXXnghXn75ZUSj0RyOkUqlgsFgQGdnJ/r16wcA+Mtf/oKBAwfiH//4B/7whz9g0qRJmDJlCn7729/iiy++QGFhIfx+Px5++GHceeedOHjwIFwuF1KpFDweD1588UX88Y9/5Ib+ww8/RG1tLTZu3Ijly5dDp9Nh5MiRWL16NZqamlBfX4/a2lqMHTsW559/Pv74xz8im83CZDLB4/FAoVBAEASsXbsW8+fPR0VFBRYtWoTXX3+d7+5ZtMzlcuHBBx/ErFmzYDQasWDBArzxxhtQq9VQq9VoaGjAueeei6VLl2LDhg0YM2YMbr/99mP6jkWc+mALLBO1NhgMKCsrw8GDB1FYWMjncE9PD6ZPnw6j0Yimpia0tbVBp9PB4XDg0KFDmDBhAi/QVCgUWLlyJaqrq1FSUoI777wTra2tGD58OKLRKF/An3jiCVx00UUYM2YMpk+fjjVr1sBut3PBdK1Wi2w2yzeCra2tkEgkGDx4ML788kvO6++L5uZm3HfffbjvvvuwadMm/OpXv4LZbMasWbPw+uuvc9vrdruxdOlS3HvvvWhvb4dCoYBKpcK3336LyZMnY9myZdDr9fjiiy8wduxYvP3221ixYgWsViumTZuGyy+/HEQEt9uNOXPmoLa2FjNmzMBtt92GcDjMnQm1Wo2enh68+uqruO222zB9+nTY7XbcfvvtMBqNUKlU/PwWiwWvv/465s+fD4VCgYsvvhiPPvooNBoNV3O57rrrsGDBAjz11FOYO3cufv3rX6O1tRVyuZxvamUyGWbMmIErr7wSzc3NmDBhAqZOnQqDwQC3241IJIKPP/4YS5YsQWlpKex2O5544gl8++23MBgMPFJ4+eWXY9GiRVixYgWGDBnCqQPMCczPzwcA2O12AMBrr72GmpoamEwmjB49mgdm9u3bB7PZjI0bN6KyshLvvPMO5syZgzPOOAP79u3Dhg0bMH36dDz33HNYtGgR8vPz0dTUhC1btuCaa67BZ599hs7OTrz11lu46aabsHPnThARSktL0djYiA0bNuAnP/kJLwKWyWT4y1/+gmnTpmH8+PEYM2YMVqxYAZVKxbsMHQ3MgXY6nZg1axZKS0tx3nnnYdGiRWhsbAQRoaamBoIgYPDgwQCAW2+9FbW1tRg8eDDmzJkDl8uFeDyOHTt24M4778QvfvELbNmyBffccw9++tOforGxEW63G16vF/369cOjjz4Kq9WKGTNmYNWqVdi7dy/69esHnU6HYDAIv9/PdXFFnBw4qqPKdEhZhEin0+G1117DrbfeCpVKhWeffRbPPfcc8vPzsWzZMm7surq64HK58OSTT2LNmjWYOXMm5s2bB6PRiO7ubrz88svYunUrLr74YpxzzjkYNGgQl5iwWCwYMmQIhgwZgvXr18NoNHJH1el0YuvWrdzYb9u2DatWrUI6ncabb76JW265BY8++igWLFhwzKmr73chAoAdO3ZgzZo16OjowNKlS7F48WLs3r0bn376KUpKSpCfn895MNdeey2+/vprXHPNNVi9ejXGjRuHhx9+GC+++CL8fj/efvttvPLKKygrK8O8efPw5ZdfYtasWfB6vdi/fz8efvhhCIKAZ555Bk8++SQikQgee+wxvrP8VygsLIRGo0FHRwcqKiqg1Wohl8uxf/9+bN++HV6vF3q9HiaTCbFYDJ9++imUSiWMRiPC4TAuu+wyZDIZ3Hnnnbj33nuRTqexYsUK7Nq1C9FoFB6PB+FwGI899hjC4TBee+01rFy5Ejt37sTSpUthNpvR1dWFfv36obi4GJ2dnZDJZNi6dSueffZZzJgxA8OGDcsRdk4mkzyyW1pain379sHv92P48OEwm81YtmwZ/H4/Vq1ahfnz58PpdOKRRx7h9I3y8nI0Nzejs7MTVqsVarUaeXl5cLlc2LNnD+RyOUpLSxEOh7Fr1y7cfffdsNvtqKurw4wZM/Dcc8/huuuuw+9+9zvceOONuPnmmzFq1CisW7cOr7zyCo+iqtVqfPrpp/jb3/6Gn/3sZ5yasnz5cnz44YdIpVL8uXj99dfx5Zdf4oorrsAbb7yByZMn44477sDKlSsB9O72k8kk1qxZg7/97W84//zzMWPGjGOanyJOfTBHVaFQQKlUwmw2o6amBtu2bYNSqUQgEEB9fT0SiQQuvfRSVFRU4PPPP0f//v3R2tqK1tZWTJkyBVVVVZDJZGhqasLZZ5+NxsZG3H333Vi9ejUCgQAmTpyIPXv2QKvVoqSkBM8++yz++te/YujQoVizZg2uuOIKPPzww1i1ahWsViskEgkEQYBUKoXdbkdPTw/C4TCuuOIKnH322cjPz4fVaoVMJuOZH7PZDIlEgj179uCVV17Bxo0b8atf/QrvvfceBEHAQw89xB3bQCCAhoYGWK1WlJWVwe12IxgMQi6XIxaLjAM9+QAAIABJREFU4cILL0R9fT2XGrr++utBRPjggw8wfPhw7Nu3DzNnzsT8+fNRWVmJV199FZMmTcJ7772Hl156iW9+PR4PDh8+jAMHDsBms2HhwoW466678P777+M3v/kNDhw4gLKyMmg0Gtx33314/PHHUVtbi61bt/LN9LJly9DT0wObzQaPx4P6+np8+OGH3CFiUeeOjg7IZDLodDps3boVjzzyCE4//XR88MEHWLFiBVwuFxQKBbq6unDjjTdCIpHg6aefxosvvojGxkacddZZ2LlzJy9Yq6iowOuvv46///3vmDdvHqZPn46WlhZYrVYujg/0RlRnzZqFN998E9dddx3ef/99zJ49G/PmzcO6detQXV3N0/ZVVVX4zW9+A4PBgAsuuAA6nQ42mw3ffvstHnzwQSQSCdx1113o378/zGYzNm3aBIlEgqKiIhQUFGDfvn1wOBw8GlxSUoJvvvkGVVVV0Ol0aG1txaWXXopPP/0UtbW1WLlyJWbOnInNmzfjzTff5AGfo0Gr1eLw4cN4+OGHEQqFcMcdd+Cuu+6CzWbDSy+9BK/Xi0gkAoVCgW+//RZTp05FfX097r33Xjz11FMgIixevBiff/45ysvLsXLlSnz++ecYNGgQbrzxRqxduxb9+vVDYWEhgsEgzj33XLz//vt48sknsXz5cmzcuBH33HMPdu3ahXQ6jby8PF6D0NjYeHyNgIj/d2SzWSIiSqfTlE6nCQBlMhn+WjQaJSKiaDRKPp+PiIiWLl1Kv/3tbymZTBIRUUtLC23YsIHGjx9Pf/3rX4nhtNNOowsuuICIiLZt20YdHR0Ui8WoqqqKrr76agqHwxSLxcjj8VBnZyctWrSIFi5cSO3t7XT48GF6++23acyYMRQMBomIKBwO0/33309XXXUVRSIRIiKaO3cuPfHEE3xsRERvvPEGzZo1i4/lwIEDVFNTQ+vWreNjZkgmk/was9ks+f1+CoVC9OCDD9Lpp59Obrebnz8YDNKiRYto1qxZ1NraSkREzz33HF166aUUCoXI7/dTLBajdDpNF1xwAS1fvpyfZ8uWLTR06FD64osviIioo6ODiIh+97vf0axZs6ilpYW/t76+niZPnpzz+f8N4XCYVq9eTaeddhq1tLRQPB6nzZs305lnnkmjRo3ix0gkEvTyyy/TlClTyOVyUTwep1WrVtGkSZPo8OHD/Hjbtm2jmTNn0kMPPURERJlMhq6//npasGABeTwe8vv9RET05ZdfUr9+/eiNN96gSCRCb7/9NlVXV1NLSwt99tlndMEFF9DNN9/Mj5tOpykUCh0x/u7ubkqlUkREtGHDBgJA99xzD0WjUf69PPPMMzRixAhyOp1ERPTqq6/SqFGjqKuri19bIpGgRx55hCZPnkwul4uIiNavX081NTW0fv166u7upmw2Sx6Phy666CIaNmwYbdiwgY8jFArR+eefT7fccgvF43Hy+Xy0cOFCmjx5Mm3bto0EQSAiIo/HQ5dccgmdd955/LMfffQRDRw4kF5++WX+7Ozdu5fuueceuvHGG0kQBNqxYwedd955dPXVV1NzczMREf9fxKmLbDZL2WyW0uk0MVsKgP/M/o/FYjm/R6NRWrlyJU2ZMoWIeuff7bffTtdffz2lUil67rnnaO7cudTT00NERNdffz39/Oc/p2w2Sw0NDXTPPffQTTfdRPF4nI+loaGB5s2bRx999BF1dnbSzp07afr06fTiiy9SNBrlz9mdd95JkydPpqamJhIEgdavX0/jxo2jgwcPUltbG82YMYNuvvlmPlY2bofDQYlEgoh67eYll1xCl112Ge3evZs/mw0NDTRixAh6+umn+XWfffbZdN999xERkdfrJUEQqLW1lSZOnEjr1q0jol77KJfLad26dTnX9MADD9DAgQPp/vvvp7a2NiLqtXnLli2jM888kzweD4XDYXrhhRdo4MCB9Nxzz5HD4eCff+aZZ2jw4MFUX19Pbrebvv76axoxYgStXr2avycajdKaNWto6tSp1NPTQ4Ig0PXXX08jR46kTz75hK81iUSC2z8ioq6uLgqHw/TWW2+RUqnk9qqxsZGIiK688kq67LLLKBAIUDabpUgkQpFIhC677DK65ZZbKBQKUSKRoKuvvprOOOMMeu+997iNTKVS/LxOp5PC4TDt2bOHbrjhBtq0aVPOHHzggQfoyiuvpIMHD1I2m6U33niDANAf/vCHnHvxzjvvcPuaTqeJqNe+B4NBGjBgAF8vk8kkLViwgO666y4i6l33kskkTZo0iTZu3Ejt7e3U3d1Nl1xyCX366af8+MFgkG644QaaP38+pdNpEgSBPvvsM5JKpbR582Yi+s7PYHMqmUzS3/72NyotLaUXX3yRiIgikQhls1m6+eabaerUqbRlyxYiIvrkk0/o2muvJbfbzeeS0+mkxYsX0x133MHHsWHDBhozZgy376lUinw+H/3+97+nxYsX0969e/lYurq66LLLLqP7778/x4cQ8Z9B37lARNw/S6VSBIC/76gRVY1Gg66uLmg0Gh7Z/N3vfodHH32US0kMGDAANpsNDQ0NsNlsyGQy2LdvH+x2OyZOnIiOjg5MmDABpaWlCIVCOOecc1BQUIBEIsGjYUVFRZDL5dBoNLDb7SgtLcXo0aOhVqtRV1cHoDfN/fHHH2PKlCnQ6XTw+/1Yu3YtLr/8clgsFvj9fqRSKSSTSTgcDpSVlR3VUad/diECelPSJpMJgiBg586dOP3006HT6Tjpm3FyRowYgf79+8Pn8+Gqq67CQw89xKkGarUa0WiU85FYVJRpuH722WdIJBIoLS1FIBCAz+fDhAkTMGDAALS3t6O9vR2DBw/GsGHDcPjw4aOOX6/XY9q0aZDJZNi3bx9UKhWy2SwGDx6MhQsX4osvvuAUiS+//BJnnXUWbDYbenp68MYbb+AXv/gFysvL4XQ6EY/HMWHCBIwZMwYejweBQAAHDhzgn8vLy0Mmk0FLSwsmTpyIn/70p/jHP/4BnU6HlpYW5OXlYefOnbjzzjsxatQoTuMAwCubWUcwxgVi6Syfz4fy8nIAwDnnnMM5walUCv379wfQy+9raWnh3XSAXn6q3+/PaZ7AuGXxeBxtbW04/fTTYbfbkclkkJeXhylTpsBisaC2thbBYBCtra3Q6/WYOHEiBEFAIBCATCaDVqvF2LFjUVNTwyPCgiBgzpw5UKvV2Lp1KzweD5qamjBq1CjMmzcPUqkU0WgUNpsNU6ZMwdq1a+Hz+TBmzBhEIhHk5eWhoqIC+/btQ0VFxVG/XxGnNlilMuPTsUijRCLBkCFDeEpfqVRi+/btOP3000FEqK6uxqFDhxAOh+H1ejk/NZvNQiqVYvv27VAoFIjFYvD7/XC73SgoKIDNZsOrr76KUCjEBdZPO+00aDQaNDc3AwCuuOIKRCIROJ1O3gXLZDLx7ENRUREeeOAB3l44kUjwDlmsw18kEoEgCBg+fDhGjhyJbDaLnp4eFBcXY9CgQZwWw4oTGc3AarVCq9XC5/MhFArx42g0GhQWFmLgwIGcf5tKpTBw4EAMHz4c11xzDUpLS9HU1AQAmDp1ao4mbX5+PgYOHIiqqiouYN/Z2YmZM2cilUqhs7MTer0era2tGD16NMaMGQOn0wmXywUiQmVlJZqbm3kmcMCAAZgyZQrOOuss6HQ6BAIBRKNRrtPKirj0ej3C4TCGDh2KhoYGeDweVFVVYf/+/Xj11Vdx0UUXcSUFVicxevRotLS0IBKJIJVKweFw4Cc/+QlmzpzJufRyuRyhUAjRaBSFhYXQ6/UwGo1YtWoVzjrrLITDYUQiEXi9XnR2dqKpqQkqlQoSiQRjx46FzWbD2LFjUVRUxPWgi4uLAQCXXnopZDIZ52H6fD4YjUa+nisUCkydOhWbN2+Gy+WCwWDA5s2bkUgkYDabYTabYbfbsWbNGkyZMoVfg9FoRF5eHhobG+FwOI45o3n48GEUFxfj3HPPRSaTwZ49eyCRSHDuueciEolwrdxx48bhySefhFqtxubNm2G1WiGVSpFMJnHo0CFOdRk6dCgvrguFQpDL5XA6ndi8eTMqKyvRv39/LlFpMBj4XLVYLAgGgzh8+DD8fv9xUR0ScXxwVEc1Go2iuLiYc3Li8Tjnwfz+97/nshHXXnstQqEQnE4nJBIJSktL+aLfr18/NDY2wuVyoaCgAN988w2SySTy8vI48Vomk3ESNNNH02q1mDBhAj744ANeCCQIAv4Pe18eJVV1rf9VVdc8zz1PTN10AzLIJAICDoBTNCZqhBDjEI3J+4kaXZqAKOJEjHlBRXzBWeNsEo0o6nMABQSZFFp6oueurrnq1jzc3x/t3lYBCb5nsp5J7rcWi+7qqlv3nnvPPvvs/e1vNzY2csWfTCbD/fffj2XLlmHSpElQqVRYunQpdu/e/bV0TgsLY4gMT4TxE044AVqtFl1dXZzKUKlU8Hg8SKVSCIVC6OvrQy6Xw69+9StMnToVZWVlGDNmDD777DMcPHiQUxuCIGDs2LGorq7m1EJPTw/ef/993HvvvdDpdBgzZgwaGxuh1WrxyiuvfC2OD01kt9uNrVu3wuv1YteuXRgzZgxmzZqFXC6H/v5+BAIBviYAXGBE3N6ysjJotVoYDAbccccd8Pl8UKlU6O3tRUtLCy699FLIZDJMnToV9fX1MJvNWL9+PcaPH49EIgGtVotoNIqNGzey41dRUVFUhEFdT2KxGN9L6n0ul8sRiURgNBphs9m4cE2pVMLhcHCBmtPpRF1dHfR6Pfr7+6FQKOB2u2E0GlnvtrCRwvTp09mRzefz8Pl86OzsRDKZhE6ng9lshtPp5HtCi7fJZIIgCNi2bRu0Wi0EQUAoFEJ1dTXsdjteeOEF/sz27dvxl7/8BQ6HgxekhQsX4pRTTsHo0aN57Au7r9TX1x/33kr410A+ny9yVMUv5XXq6uqgVqvx8ccfo6enB5FIBBMmTEA0GuX5qFar8fbbb2NoaAjf+973kM1m4Xa70draio0bN8Jut2Pq1Kn8XD788MOQy+UYMWIEnn/+eXz66aeYPXs26urqMHXqVMhkMjQ1NWHXrl1cZEJp6ldeeQXPP/88Fi9ejP7+fiiVSi4Slclk7HgkEgluUkB60mVlZXC5XAiFQkilUtyOMxAIwOFwwO12HyXyXllZCYfDAb1ez+fQ29vLgvOxWAyxWAz79+9HR0cH5HI5Ro0ahVwuh/b2duj1euYRhsNhCIIAjUbDxTllZWWw2Wxwu914++23odFosGvXLvzhD3/ApEmTMHHiRNTW1sLtdmPevHno6emB1+uFy+XCF198gfb2dvh8Pm4DSm2viRNqsViQSqVw6NAhtiWkAtPd3Q2XywWNRgO5XA6/34+Ojg64XC5MnToVL730Etrb25FKpTBjxgzE43FEo1E4nU7odDocPnwYZWVlUCgUCAQCPKaBQAC/+93vcOaZZ6K6uhrNzc144YUXYDQa4XK50N7ejr1793LhnCiKMJvNSKfTcLlcMBgMGBgYgM/ng9VqhUajYaoCOdTZbBbTp0+HWq3GRx99hGw2i88++wxNTU0YP348jEYjcrkcurq6cOONN+KEE05gSsCKFStgt9u/toapUqnEvn37cMIJJ8DtdkMul2PmzJlIJpMsKSmTydDf3w+tVouBgQGsWLEC119/PZxOJ8444wysX78etbW13M6WON0nnngiP1elpaVQq9W47rrrUFFRgdraWmg0GlRUVOCxxx7jgjGDwYD6+noeGwnfDhxXXycajUKn0yGZTMJgMEChUOA///M/sX79elx88cUYGhpCJBLBJ598guuuu44d187OThiNRjgcDvT09LD4cUtLCwwGAz8EDoeDdzcUechkMojH47Db7ZgzZw7Wr1+Pvr4+fPLJJ5g0aRKam5uRy+WgUqmwevVqvP3227jgggtwww03wOVyYffu3bjiiiu+VtWeQqFgHi4VjZFDTooCFouFZWDsdjtXa9bX12Pfvn1YvXo1VCoVnn/+eUycOBFvv/02XnvtNVRUVMBsNsNsNuODDz7Ae++9h0WLFkGlUrF+otvtxpIlS9DY2Ijy8nJ22M1m89fq453P52EwGLBgwQLs3bsXX3zxBT755BPcdNNNGDt2LCoqKrBlyxZYrVYoFAo4HA5Eo1GWurnrrrswfvx45lBGIhFks1nU1NRw1TEArFixAvPmzUM4HIZSqYTFYsHg4CAqKyuh1WrhcDjw6aefYsWKFTj77LPx29/+FqeeeioaGhqQTqchCALkcnlRL2wAHGG1WCwcWdm2bRsqKyuh0WiQzWa58EqtViOVSqGjowOxWAx2ux3pdBoqlQq5XA6CIHDFMDC8IH788ccYM2YMlEolOjs7UVdXhwkTJuD111+HKIrweDxwu918PqQlCQxHZE499VSubqb3UW90Gk+1Wo3Fixfj6quvhtPpxL59+2CxWOBwOJDNZjF+/Hjs3LkTTU1NHHmiRUWKqv5rg5zSwoYS9H9FRQVGjBiBtrY2ZLNZdpqo0n/cuHF46KGHMGHCBJSXl8Pj8UChUCAcDmNgYAA333wzJk6cCJVKxRHPkpISjnyWlJTgvPPOw/z581FXVwer1YqhoSHU19cjmUyiqakJgiCgtrYWbW1tmDx5Mh566CFs2LABBoMBdXV13PWnUAaLOLZarRZ2u52VMiKRCJqamiCXy7Fjxw6ceuqpsFgsCIfD6O3txeDgICwWC0sM9fb2or+/H4ODgxBFEXq9nh1XANyGtLKykjnnpEkrfqno4fP54HK52E5QNDWVSiGdTmNoaAijRo0qanE6Z84cfOc730FTUxNkMhlHfg0GAyZPnswBEOLWU6aGOiiWlZUhmUyyXZs+fTp27NgB4KsGDTqdjou3KJNitVoRjUYxODiI8ePHo6amBiaTCd3d3fB6vSyjqFKpYLfbi9QE1Go1YrEYLrzwQpjNZtx5552oq6vD0NAQHn30US480uv1aGxshMvlYmnF8vJy7N69G59++ilKSkpQV1cHh8MBj8fDEpCCILACQTqdRllZGSZMmIC+vj50dXXh4MGDGDFiBNvGrq4u3HnnnTCZTHj44Ycxa9Ys9PT08FoYj8eZ3/q3QNk1pVKJUCjEWS9y2kVRhNPphM1mw+7du/HjH/8YJ510El599VVun/vII4/g0KFD/Nx8+umnMJlM2LFjB2bNmoXS0lLs27cPPT09uPbaazFjxgwolUpey1UqFcrKypDNZll+MB6Ps/qQhP97HNdRtVgsyOVycLlciMfjSKVS2L9/PxYtWoRf/vKXyOfz7ARVVVWhu7sbMpkM1dXV6O7uxogRI7iqGxh2TClyR5G4TCbDbdVIq5SkRcaMGYNsNouenh689dZbmDlzJlQqFWKxGDo6OvDqq6/i8ssvx5VXXslSFzKZDF1dXV+rRSmlpWgnTG34qFtWJBJhfbn29nbkcjnodDqEQiHY7XZs3rwZXV1d2LRpE6xWK2KxGM466yy8//77+OKLL9gpcblcMJlMRbJOJIJss9lw4YUXQhRF7kLT09NTNG5/DXSNDocDg4OD6OjoQH9/P5qbmxGJRDBx4kS0t7fD7XZj/PjxGDNmDHfH0mg0MJlMmDx5MkdDDAYDSzZRZPuEE05Ac3MzTjzxRIiiCI1Gg76+PkydOhUAeFJPmzYNixYtwrRp07B//37cddddePjhh6HT6YrEw3O5HDKZDDQaDY837YSHhoYwc+ZM7jii0WgQCoXQ29vLRoyiFPSPIkNWqxXl5eUQRRGJRAIWiwVTp07F9u3bMWvWLNTV1XFaatSoUYjFYkUREIqad3d3w2AwYNy4cWhvb4fRaITBYEA4HIZer0c8HkdpaSkqKirYqHs8HtTV1aGurg7jxo3D4cOHUVtby/fb6XRyZbDL5cLAwIDkpP4bgFqgEqiPOXWpq62thSAI2L17NxoaGqBUKll9pLm5GTt27IAgCGhubsb48ePh8/lQWlrKUaczzjgD8XgcarUaCoUC6XSaKQH19fXYvHkzFixYwIECygS53W74fD4uCq2pqcH999+PeDyOTz/9FOvXr8esWbM4ekaNB3K5HG8gY7EY3G43Ojo6OEPQ3t6OTCaDcePGQRAERKNRJJNJVFdXo7S0lKu8yXEsLS2Fw+HgLIfT6eS+8A6HA1arFa2trYhEIigvL0c2m4VOp+NNPTm2uVwO0WiUHVRguFlLKBTC3r17MXHiRKjVajQ0NGDz5s0499xzUVpaCplMxnrYZH/j8Tji8ThvemmzTs56MpnkVLHdbmfKVjAY5HFQqVSYNm0aO5/AcCTaaDRCEAQYjUZ4PB4YDAbWbdZqtQgGg1zMSd9rNBpx+PBhfP7550in07jqqqswc+ZMtj0VFRXYvn07SkpK4HK50NbWhqGhIVgsFigUCsTjcUycOBFmsxmhUAh+v583ANlsFnV1dVCpVJDJZEin0xwUmDJlCh599FG43W4cPHgQ119/PQYGBmAwGNDa2oqdO3fiueeew8SJExEIBFBVVYX6+nq88sor0Gq1cDqdTNX4a1AoFBg9ejT27t3LgRGKqFssFiSTSQQCASgUCuzevRv5fB4rV66Ew+FAZWUltzQfM2YMQqEQ8vk8Ro8ejWw2i4aGBs68OhwOKBQKjB07FmeddRZvgsjvAIZlxEpLS5FMJqHVaiWd7G8Rjpv6J229WCwGnU7HvA7agVHv888++4z16GgHaLVaeaLG43HEYjF2aimUD4CNM0U3ATAXyOFw4Hvf+x4uuugiCIKAZcuWQRAEFvolZwUAR0I/+OAD1NbWMo/HbDZzNXosFivqbEFOeC6XY72/bDaLa665Bi+88EJR+p10XgcGBiCTyaBUKhEOh2G321lDUK/Xo6urCzt37uTIYSqV4spZMlrEgZw4cSI2bdrEWni0I29tbeUxJj5noX5sPB7ndHg0GsXs2bORSCSwYsUKLF68mB21k08+GR9++CFef/11jBkzhh1Gg8GAU045Ba+99hprklosFnR1daGvr48NhNlsxsyZM/HMM89g//793F7PYrFg27ZtiEQivPuljiYA8Mtf/hKtra3Ml6NrSCaTnKKj+0hjSyjUQCStPzI0dL+y2Sy6u7vh9/uh1Wo5XUbfQxug1tZW5r5GIhFesOm5JiNVXl4Ot9vNncNsNhsSiQS2bdsGURQRCoW4k8r777+PhoYGjjpPnjwZhw4dwgcffABguAK5trYWXq8XH330EYDhxUahUPAcIW6uhH9tEDebQLaKXps7dy4efvhhvP7665g3bx6AYZtkNBoxffp07NmzBxs3bsS0adNYV1qv12P69OnYsmUL/H4/5HI5stksgsEgotEot1qdPn06BEHAk08+yd9PkdcDBw4wpUUmk2HUqFGIRqOw2Wz46U9/imAwiDvuuIOzTZlMBnK5vKj9NKmClJaWIhgMIp/Ps+wVaUobjUaMHTuW09HEU08mk4hEIky3kslkyOVy3LlILOhARA5FLpdDOByGVqtFLBZjDm0ikUBZWRm6urrw7rvvsnpMPp/Hyy+/DIPBgNNPPx2JRALTpk0DAGzcuJHbJRsMBkQiEezatQsqlYqPK5PJihRnyEZpNJqiSJvVaoUoihxpTSQSaGxsRE1NDZ599lneDCsUCuzfvx/vvvsuTjzxREyYMAEGgwGhUAilpaXIZDIwm80YGhpiwXvSJzWbzUyTIgfW7/fD7/ejra0NZWVlaG9v52eBPk/PE4AiucbKykqmpJDmtE6ng81mY/3q2bNnAxiWDayqqkJVVRVMJhOMRiNisRgUCgW0Wi0SiQRf4/79+2G1Wllai8bPZrPxZ2idp/t+2mmnYdu2bXjvvfcAfFUr4vV6i+o5WltbMXnyZM4g0LOxc+dOvi/kAyiVSsTjcej1erS3t6OiogIXXHABnn76aezevZs3AxT9p+eYaBaShuq3C8fdMjgcDjYShIGBAezatQtr165FU1MTnnvuOXzwwQfo7+9HbW0tVCoVvF4vzGYzNBoNVCoVp2e9Xi8L/gJgXmE0GuX0mM/n44Xdbrezg1lRUcERzVQqBbfbjaqqKrz44ovMhdq3bx8ef/xx5j3qdDqEw2E4nU6o1Wp2gMmoW61W6PV6KBQKjh4TmV2tVuPHP/4xlixZArlcjjfeeAObNm3C0qVL4Xa70dfXh7lz5+K5557DHXfcgdmzZyMej+OVV17B+++/jwULFsDlciEcDsPv98PpdGLz5s1wOByYM2cOzGYzrrnmGsyePRuXXnoprrvuOowdOxZvvfUWXn31VVx00UW45JJLOFpYuMMjjVYAvJDU1tbizTffhMViYXK82+2GzWbDF198wcYJGN4cXHzxxfjv//5vrFq1CgsXLsSCBQuwZcsWPP300zjttNOwatUq2Gw2NDY2Yvv27XjmmWfQ39+PdDqNjo4ObNq0CQ888AAqKyvR1taGw4cPMydVoVBg+fLlWLFiBVQqFX70ox/xuWs0GqTTaRgMhqIIczgchlwu58hIKBTiKEoqleKIeVlZGerr63HdddfhoYcewjvvvIM333wTmzdvRmlpKWw2G0dV6fmlZ00QBAiCAIfDAbPZzH8LBoMsBk08La/XC1EUMWvWLNx999045ZRTsGjRIuzevRtPPvkkwuEwUqkUZs2ahRNOOAF33XUX9u7di4ULF6KkpATLly/HBRdcgNraWh5zclASiQR6e3sxatSo/9mMlfAvBZPJBJfLBbvdDofDAaPRyIL+tbW1MJvNKC0tRWNjI2QyGZxOJ8LhMCoqKmA0GrFgwQKsXLkStbW1ePDBB7Fnzx784Ac/wJIlSzB69GjMnz8fTz/9NIaGhnDOOecgnU7j7bffxuDgIG6++WZMmjQJlZWVeP/99+H3+7kw9uqrr8ZvfvMbnHHGGTj55JNRUlLCIvXV1dWw2WzMsdVoNOw8ZTIZ2O12jmL5cBJ6AAAgAElEQVRFo1E+/lNPPYXm5mY899xz2L17N/M/yeGRy+Xo6Ojg4klK3btcLpSUlEChULCDSPUHNpsN3d3d6Onpgd/vx4svvohEIoGqqiqWQTzllFMwcuRIrm+YN28e/vjHP+Ljjz/Gbbfdhg8++IC5mGvWrEFDQwOamprY2Toeent7kUwmkc/nuTDHYrHg+uuvx9KlS3H22WfjoosuwogRI3DfffchFArhZz/7GTvy+XweXq+XNxEU4JDL5Xy9FNiIRqO48847cfbZZ2PixIm4/vrr0dLSAq1Wi8bGRo56C4KAcDgMo9HITUcGBga4SIu0rIHh9ZaE9UlHms5hxIgRePXVV3H33XdzYKm7uxsVFRUwGAy46aabcP755yMUCmHTpk34y1/+gnPPPRdVVVXw+/3wer1MHSRQfQTx+UeMGIHvfOc7WL9+PQ4cOIC6ujr09/fj5z//OaZOnYre3l6MHDkSU6ZMwZIlSzA4OIiTTjoJ1dXVeOihh/DJJ59g5MiRvB6Gw2EYDAa89tprqKmpQVVVFeRyOc4991y89NJLuOGGG/Db3/4WH330EVpbW/H5559j4cKFuOyyyzh7mkgkiqKtEv5voVi5cuWttIMFgNtuuw0rV67kXW0kEuFdLhWqLFy4ENlsFk899RQ2bNiA73znO/jhD3+IgYEB2Gw2TJo0CcDwrnX8+PGor6/nY3V3d+PAgQOor6/niBQJzxPfqKGhASaTiVsEkuO7aNEijBo1CgaDgXUu582bhz179mDdunXo7OzEsmXLMGvWLMRiMVRVVaGyspIr/kaNGoWGhgZks1mYTCZYLBbudZ3JZBCNRiGXy6HX69Hc3IwJEyZg//79eOKJJ7B3715cfPHFGD9+PFpbW1FeXo6xY8eipKQEbrcbn3/+OdauXQuZTIZbbrkFNTU1eOyxx7Bw4UJotVpUV1ejvLwcv//97/HOO++grq4OI0eOhM1mw/nnnw+5XI5rr70Wv/vd71BfX4/LLrsMCxcuhNVqhVarRS6XQyqVKrovKpUKbW1tnMYnTu0VV1wBm83G3KhgMAiTyYTTTz+dHf90Oo3y8nKceuqpiEQi2LhxIzZu3IiSkhL86Ec/wuLFi3mDMXHiRJSWlmLr1q1Yu3YtXnrpJdTW1uLKK69k4nlfXx/i8Tjmz58Pp9MJhUKBUaNG4fXXX4fJZEJ5eXnRJsXn80Gv10MulzO3tKWlBS0tLZg7dy4aGhpgNpuRyWRw4MABfPzxx5g9ezbKyspQWlqKsWPHYufOnbj++uvh9/sxZswYnHvuuaisrMSMGTPY8G/btg1TpkyB3W6HSqWCXC5HS0sLQqEQKisrUVFRAblcjlQqxYUUEydOhEwmQ09PD3Q6Hf7jP/4Dd955J6644grU19fjsccew+TJkyGXy1mTdt68eSgvL8fbb7+Ne++9l3Uur7zySlRUVCAQCOC9996DVqvF1KlTYTQa/y4tgiV8O0CLmkwmw6pVq9iGHg/ZbBbxeByNjY2YM2dO0ebNYDDgvffeg91ux4wZM9heaTQaTJ48GbNnz0YkEsG6deuwevVquFwu3Hbbbfj+97/PTVIWLVqEsrIyHDx4EPfccw8reCxduhSTJk3i5hjt7e04++yzOZMwefJkbN++He+88w6qq6vhdruh1+thMpkgk8lw8OBBPPPMM2hsbER1dTU0Gg0GBgYQCARw4MAB1lU2m82YMmUKBEHAgw8+iKeeegozZ87ET37yE67qr6iogMfjwZ49ezBhwgTU1tayk0pFsVOnTuW07NDQENrb29HT04O5c+fC5XKxisFZZ52Fzs5ObNiwAR988AGWLl2KZcuWwel0IpPJQK1Wo7m5GXq9HslkEsuXL4cgCPjud7+LCy+8EM3Nzejr68Of//xndHV14aKLLgKAouxLIWKxGNrb2xEOhzF37lzIZDKmDdTU1OCMM87AgQMHcM899+Dtt9/GmDFj8POf/xwnnXQSd9hqa2uDwWDA6NGjYbPZkEql2LkkxQWLxYL6+npUVVVhz549ePHFF/HUU09hzZo17JTPmTMHgUAA+Xwe+/btw5QpU9DQ0MDd9MiZnz17Nj9nMpkMg4OD6OnpQUNDA0pLS5nmBIBVXi677DIYjUZueDBixAg0NTXhzTffxJNPPom2tjZcdtllOOecc7gOZdKkSfj444/R39+PyZMn89ojk8mgVqs5Mm61WnHaaafh5ZdfxqOPPopt27Zh7NixWLFiBR5++GEsW7YMDocDFRUVmDRpEoLBIB5++GFEIhHccMMNqKmpQV9fH3O5SeFl06ZNuPXWW3HLLbdgaGgIJpMJ1113HbZv347bb78dH374IcrLy7FkyRIsXboU4XCY26uTQy8VVP1jQVl5AJzhIF787bffjltvvXX4jcfTURXFYS28eDwuplIpMRaL8c+JREKMRCKs/UYaWIFAQMxkMmIsFjumNll7eztr5ZE+ZSwWEw8dOiQeOnSo6DXS7evu7ha9Xi/rEdJ5ieKwTqrX6xVjsZjY19fHnxFFka+ls7NTzGaz4uDgoLhkyRLRZDKJAPifXC4XHQ6HeNZZZ4mvvvqqmEgkxFwuJw4NDYnhcJiP6fP5RJ/PJ4qiyDp3ojissRePx0WPxyO2tbUV6e3FYjGxvb1dFMVhTTy6Pq/Xy2NMGod0raRL+LOf/UxsaGgQ1Wq1CEA0m82iw+Hgc37wwQf5c21tbazPGo1G+XuGhobEQCAgdnd3i6I4rD+XTqdZ2zQWi4nRaFSMRCJ8PoXnQvc2Go0eNa6iOKyB5vf7xc7OTtZ9LLy33d3d4u233y66XC4RgGiz2UQAosFgEAGIdrtd3LhxoxiNRsWuri4xHo+LiURC9Pv9rE1Iz5bX6xV7e3v5NdK4JezZs0eMxWJiOp0WY7FYkY4gIRKJsG6tIAg8FqFQSBwcHBQFQRBTqRRfy+DgIGuziqIoDgwMiKFQiH9PJBJiMBgUQ6GQmMlkxHg8ztdeeH70miiKYm9vb9EzIuGfE8fTUT0e4vG42NHRIba3txfNr3w+z88+2V1RHNbo9Pv9rOlZaCMJiUSC7Ws6nRZ7e3vFwcFB8dChQ/w8ptNpMRQKiZFIRBwaGuJnsdAOkd2gY9J3kd3N5XKsaVn42Y6ODtHv9/ProVCo6Pj9/f2iKH61TtDrLS0txxwjsgM0zwptVCKREA8fPiwmk0m2mTT2NEfJTsdiMbaPojg8j4eGhnhuh8Pho+ZtLpcTc7ncce/nwYMHizRCyT6SRnU4HObzE0WR10x6ndaZQg1Zuq9kTwp1qAufDxoHer8gCDzGhe+LRqPi7t27xWQyKebzeX5/KpUSDx48KAYCAf7+wvs6MDAghsNhtm2iKPL9LDwnstFkn+k5KVzT6ZwKQd+VSqXEfD4vxmKxIntbeCxBEPi5EwSBz4OO0dLSwtdO11f4zNP6ks1mxUAgUDRusViM71/hfZDwj8PX1VGV5fN5kaKlALjqjbingUCAie1fOrZMBj9yh9nW1gaHw8HpdYqaiV9KElkslqIiHeJ/arXaojA7/UwSKJT+oM9S9eXQ0BDS6TQqKysBgLUEAbD+G0VPqbsFAHzwwQdMYCeuU2G1ZnNzM18vAO5PTB26KL1VuNsNh8NF1ezAcDo5nU7D7XbjwIEDGDt2LFKpFBcK0XlS14xMJsPfm8lkEAqFYDQasX37dr4PFosFKpWKW9kqlUrMnDkTwDAlo6ysDKlUqiiaSuNH40OR6kgkApPJhFgsVqSTSP2RqeCDQFqlkUiEI5KZTIbHjZ4ZuVzOdJH+/n44HA60tbUhFotBJpMhHA4zR9VsNqO7uxunnHIK6/xRWkr8crdF3Ca/34+KigoA4Da2FGWhdD8VBKhUqqIiCY/HA7lcDpfLBVEUWcOXdF41Gg0/H+l0uohvS6CUrEajQSqVQiwWK0p7UlvLkpISeDwepppQZWsul+N0WyaT4VSahH9eiF9moogvT5G3fD7/P04bEi+SbHAqlWLuYCgUgtVqhd/vL4rEF6pWkBoJpS8DgQBsNhui0ShnL+h7gsEg61MSqMocGE5nV1ZWIplMMqeQ7Ijf70c+n4fT6UQ2m4VMJkMmk0E4HIbb7UYul+O50NHRgcbGRoiiiL1796KxsRFqtRrxeJz5toVzBQAXz5JWNal+FEIQBKRSKR6LfD6Prq4u1NXVcftS4qZTgZLBYOBOfdQqlfrJE/+zpKSE1yy6j8Bfj6jSOImiyJQlp9PJ3FKr1cr2CADrjer1ek6LE09f/JKuVNjFj2yuTCZjW55IJKBSqZDP59Hd3Y3Kykqo1WocOnQIo0eP5nWA0tfpdJrHthCUji+MGhK9itYGKnimtSMYDMJisRSdO7VLTSQSvJYduRaGw2HWz6W6A7oGu90OQRD4OaPnkuYUSY+Vl5cXFcDS+eZyuSLaBdlVur/0GtFICu8bvY+KyWgNKPQlJPzjQM8bzTfyTUgJguzrcR1V4o1GIhEMDAxArVYz587n83GYlioMAbBgOjmK4pekeLVajUAgAKvVylQC+o5UKsUTlKpYyTn0+XxM8tbpdKwBR3+nBxJAUXGN+Fc4JoVGks6PHtBYLMaGwe/3I5vNQqPRsGQJTQgC9XwnXT3gK4cR+Mq5pnMmDhFdIxHAydCRYaRjkUNEi4/4ZZFBPB7nax4aGoLdbmfHrqOjAyNHjiwykF6vFzabjceMjHcgEODGCEcaSuL69Pf3Qy6XM5H+WNctCALLTCWTSXi93iLVgnQ6zc9WX18fampqWOGADAkZR3pYiQOq1Wq5gI+umb5XLFBKoCrmvXv3YsKECQBQpAFZ+CwUVu4Cw04mKRHQmAmCwILqVITV1dXFnCdCKBRCSUlJkQElJ4EKx0idQC6XH2VIJfzz4ps6qplMhh0kovjE43HmJIqiyFXI9LyQw0LPO6WQ6VlOp9NcHR+JRGAwGFjTlDZXJpMJarWaN4WDg4PIZrOoqqpCIpGAx+NBVVUV2/RUKsW6xlTESXQjKpgl20iOiEwmY0eLnG6ynZFIhNs9kxNTuHmORqNM8aLvB8DFq+KXUoZDQ0MQRREul4vfS+MSDAaRzWbhdDo5zU0NOaLRKMxmMwddaANJziGtCYVpyWPdT7JVfwuFCi79/f1wu928bqZSKb420o4m558K8Y60tYODg0yvIkSjUdYmpzEXBIEbOtDvxHGmZ4vkAWm9TaVSHLxQqVQ8TlQwGw6Hed3yeDxch0LnQIVWiUQC0WgUdrsdBoOBq+yPBM2bwvWTQAXQZWVl3ErW5XJxg4Hq6moOppFTSXOENLZpTAsDa1QTQzxn+ixJB5rNZubQHsvBl/D3w9d1VI9bTEUCzm63m6WQ/H4/V18Dwze4v78fBoMBRqORd6TA8MRXKBRHdWYh2QjaRRVWxFM0lRZxIofT7/TQUTWowWBAb28v5HI5ysvLkclkePdEzjBV+QFgA06FMxRBo4pEOlfi1BQ67MCwk0POCUVALRYLR2ULd5MejwcVFRXspCkUCnZWiKNDzjAtTvT91O+5cIJns1neRND4AuDoZCaT4ftEDhwZJIVCwZOTDHFlZSV3jbFYLNDpdBz5pOsgSTHgK13ddDoNjUbDE5mKoch5JGfX5/PxrtZoNHKRCH0/LcLE1SMdXmC4gMDlcrFTSRW/FMUNh8MwmUy8CNPnaCNV6Mzm83mWndFoNEUGFvhKeobGDABHR2g84/F40TjIZDJ4vd6iyA0ZR4qkarVafnZoYSeQkLiEf1/k8/mizSE5eeS0kv0BvnLu6Jmx2+0YGBiAy+Uq2nABX0XJqDhRrVbDZrNx//hCB5tsKW2uVSoVzyFq9EJZBJr35GQVZrlsNhtXqtPaoFar8dlnn6GyshIWiwU+nw9qtbpIqo+yF1TsaDKZ2LkhFZZCm1+oNS1+qW88ODgIhUIBp9PJWRTqNASAlRCqqqrYTmk0Gh4nr9cLhUIBm83GxZ6JRKJIVu+vIZ1Oc30FAHYkKYNiNptZHYUyQrQ+UdU83XMasyOPTwoEwHCUlpQJqJKf7h0VStFmhJ6TbDbL6xs5moUg55a+22KxcISUnid6TsmG0rGoIyRlKKmbo8PhYL6tVqvlAmfSKo/H4zCZTEep8Hg8Huj1elRWVjJHtq6ujtcmvV6P6upqtLW1YeTIkbyuFW4OKTtHoEwEZS2oWYNarcaBAwdgMBhYQo2uVyqk+hbheBzVwr9Tj3iCIAhFXKRcLlfEmyFeSjab5dfp/0Juy7F6wNNrhZxUURS53zPxbIj3cyRnMpPJiJlMRkyn08x7oH7VoigW8QPp73R+hZwVOgfi2xZybQiFHDI6Hn0/fZ56bScSCTGTyYi5XI75GYU8SkEQxHg8XjTO6XRazOfzYigUKuq1XchFK+Q/FfKSjuQ2HXntR6LwnhMK+Ur0PZlMhr+bzj+XyxVdN32OxiYUCvF5EY+Jvov4SaI4zCmi+57NZsVkMlnEnaPrCYVCfA40rqIoFvFkk8nkUc8Ggc6lkA9F40yfSSQS/JnC99H5EwKBAN8bmkuFPK5CTmshD0fCPze+KUe18NnM5XJF9nRgYKBoXojiV3OX+HXEnyQbVHi8Qs5rKpUSvV5vEWe6r69PFEWx6Nmk5zqXyzG3s7DOIBaLiYlEoshmiqLInO/Cc8zlckXvo7lInHayf4FAoGju0/nSfKLzy+VyzJkvvDZ6D92HI6+l0O4Uvh6NRos48GRLCu351+WoFt63Qm5k4WcL14i2tjY+fiHH2Ofz8T0k+0a/x+PxIttNNpLuTzAYLFpLyCZGIhG+l7lcjseT1rrCa6d7Q9dRWH9C3E9RFMUdO3bwz7TOiuJXttfn8/Fx6PsikUjRM0Hj4vP5itbyY9VtZDIZ5iofyR9NpVJFrxXWZhTa6cJ7ROeZSqWKnu/29nb+/sIaFAn/GHxtjqooDm+tC1uSktBxNpv9WjtKCRIkSPh3RGG2JZfLcaaAOI8SD1mCBAkSjg3qhqlQKGA2m4soIoVqVLIvI5NIpVKwWCxFfwS+EguWIEGCBAnFUCgU8Hq9CIfDGDlyJAAw14roPhIkSJAg4WgUUirz+Tz6+vpY2566lAGATBRFcXBwkHsDy2QyhEIh7pBxZGWoBAkSJEgYBhWQAF8VGBZqHX+dNs4SJEiQ8O8IUgaSy+XM3waGudbEKQaAkkgkgtLSUni9XhiNRjidTpjNZrS3t2PEiBFFfaolSJAgQcJXKKzKViqV2Lt3L84//3xW/pDspwQJEiQcGwqFokgdiIoBxS9VmQiyL4nxLN1hsVi4SpQkAiRIkCBBwrEhFkikAcOp/8IWlRIkSJAg4WiQdFsqlUI4HIbD4SiShCMaagnJTJBoO0klAV+J6UqQIEGChKOhUChY769QMF+tVqOvr09qkytBggQJfwUUTS2UO00kEtwYg1BS2P2EjGqhhiaRWSVIkCBBQjGqqqrQ3t4OYFjfmTqdqdVqOBwO+Hy+/8vTkyBBgoRvLSibX1JSApvNxrr906ZNQyQS4ffJRFEUKRKQTqdhtVq5PVoymTxmNwkJEiRIkIAioXcCibhTVygJEiRIkHA0QqEQbDYbUqkUhoaG4Ha7uXlQVVUVO6tfu4WqBAkSJEgohih+sxaqEiRIkPDviq/bQlV+nONIkCBBggQJEiRIkPB/AslRlSBBggQJEiRIkPCthOSoSpAgQYIECRIkSPhWQnJUJUiQIEGCBAkSJHwrITmqEiRIkCBBggQJEr6VkBxVCRIkSJAgQYIECd9KSI6qBAkSJEiQIEGChG8ljuuoiqKIVCqFVCqFXC6HdDoNQRCQyWT4Pfl8nvWuUqkUMpkMRFFELBYDAP6dPpPNZhEMBvnzXV1dAIB4PI5kMgkAGBgY4L/Ta4Ig8GvUDSaTySCTybAObD6fRzabRT6fP+rzgUCg6JyoRWzhe4+89nQ6zb8PDQ0hFoshnU7D7/cXXX8ymUQ2my36LP1+6NAhft3j8Rx1LX8LyWSSz4OOR+MYi8W4Ew4wrEkmCAKSySSPA73vSAiCgHQ6jVQqxb9TF7J8Pi911JEg4e+EwvlKc7HQVoRCIbZfiUSCfz7WvBVFEdFotMj+/j3mdyaTQTqdZjteCLKfsVgM1Mmwp6en6D25XI5tcTabZbtaeMxsNotEIlFkU/P5PJ8jMGxj6Tzj8TiGhoYADDdWoPfRazQekUgE6XQa6XQaoVCoaAxo3UkkEkVjRkilUkXnmU6nuYXjscYhHo8jnU4XrRvBYBD5fJ5tOv2fzWaL7DONE40jgKKxiEajPL5/7T7Q+iNBwr8Tjiv4T/9KSkqgVCoBDE+uZDIJmUzG4qzAcEeWwgYBZJiMRiNPbgCQy+VQq9V8DLVazYKvwFcisPF4HHL5sC+t0Wh4AsvlcoRCIVgsFgAoep1AhoSEt6nDFr0Wi8VgNpuPaRAKDYUoihAEASqVivt4A8NGJRaLobS0lA1W4fcTAoEAtFottFpt0ev9/f2w2WzQaDR/8wYlk0loNBq+DlEUkUgkoNVq+R7R2KpUqqM6iWWzWYiiCKVSiYGBAeTzeVRUVPAYDw0NcWedWCwGvV4PYNiAq9Xqv3luEiT8u+N4gv+ZTAbJZBJGo5E/k0gkkEwmoVar4fP5UF1dDWDYptD7gsEgrFYrEokEOy9arZbthSiKHCD4JvPb6/VCr9ezbRNFEclkErlcjq9lYGAAI0aMKPo8naPRaIRcLi+yfYW2nECtEmkNyeVyiMfjbBez2SxUKhXkcjk7ldTr2+fzweFwFB0vk8kgFApBrVbz+2h9ISgUCkSjURgMhqLzofGUy+VF9pJsLZ1PSUkJf8eR9vvIsSrsQDY0NASHw4FIJAKLxcJObD6fh0ajKbL51BXS4/FArVbDYrHweurxeOB2u/lcSkpKir4XwDHPS4KEfxZ8XcH/r9WZKp1O8wHI0ACATCZDOp3myU6RvHQ6DYVCAaPRyAYxEonAZDIVGW7aodpsNsTj8aLIpsFggNfrhc1mQzAYhMlkYgNjMpl4B0+TniKaJSUlUKvVRYYpGo3C5/OhvLycna9CowQUG/7C61MoFAiHwzCbzQCA3t5eZDIZ1NXVHTXgZLSUSiU0Gg1kMhmfkyAIiEaj7HDbbLb/0c2MRqPQ6/V888LhMEwmEy8QqVQKSqUScrkc2WyWowdarbbIqQfAEQYaR9pc0D0GhhdTtVp9TOdbggQJw/g6nami0SgUCgV0Oh3PzUIHo6WlBXq9HlVVVfD5fDCbzVAqlcd00AohCAIMBsPfZX5TFPNYjk8gEIDNZuPz6evrQ0VFBeLxOFKpFDQaTdHneHGRyRAIBKBUKqFWq1FSUsJjUmifaeMNoCgAEolEeNEym81IpVIQBIHtYOECFw6HEYlEUFFRAblczu8rvAe0Lul0Ol6zCoMcb7zxBmbNmsWbhWw2y99RGLjI5XL8vWq1GvF4HN3d3WhoaODnoPDalEolO5mEZDKJTCZTtIE5cjxoYxCJRJDL5WAymaBQKHitlrpGSvhnx9d1VEuOcxwA4B0zTVD6XS6XF01A2vWRswQAarUag4ODRQ4uOasqlarIWbz33nshk8lw0003AQCcTicAQK/Xc7SQUikKhQKZTAaCIECn0x0zMkm7+E8++QRPP/00FixYgNNOOw1arRbRaJSd5ELQQlNobOjn3t5erF27FkqlEj/72c9gt9uhUqnYaBZGG7LZLOLxOAwGA7q6ulBZWQmDwYBcLsf9a49cYP4aiHpB7+3t7cVDDz0Ej8eDBx54ABqNhh1wMq6F94UMLRltpVLJ6UKFQgFBEBCLxXi8s9ks0uk0O74SJEj430OtViOVSvG8orna2dkJk8mEhoYGfq/dbkcymeRIqMfjgdFohEql4s042Ryyqd9kflNwgZwuQjweZ6oCRWQdDgdEUcTy5cvx+eefI5fL4b333oNCoWBnjDJZCoUCMpnsmBtyygDRudF7hoaGoFQqOapIkWKyq3K5HE899RQ6OzuxatUqjuYCYBtIv+v1+iKH7lgOIQVGQqEQBEHAE088AaVSiaamJpSVlSGdTkOn0/G6p1AojrKtqVQKf/7zn/Hiiy/ixhtvRFlZGZxOJ9LpNPL5PIxGI3K5HEeJ8/k8B1M0Gg1CoRDy+TysVivS6TSvGXQNADhiXHivKbBSuK5KkPCviuN6IWTwKH2tUqkgiiLi8TiCwSCi0Sj8fj8GBgb4vRqNBkqlEoFAAMCwobbb7WwQbTYb0uk05HI5vF4vUqkUZDIZRx2BYQPg8/kQj8ePOp/C45JjnM/nEQ6H4fP5EIvFIIoiG3STyYQvvvgC6XQadrsdOp0ObrcbNputaLcsl8uhUCiKnLN8Pl9k8BKJBDQaDaqrq/n92WwWkUgEHo8HgUCAo6iUntfr9VAoFOjt7YVCoYDVav3aTioA6HS6ItqBWq1GOBzmSCshEokgFAox/5a4U2azGTKZDL29vcyRNRgMvFPPZrN8fKJGGAyGo6IAEiRI+J8hEolApVJBr9fzRl4mk6Grqwtr1qyBw+FAWVkZZDIZHA4Hfv7zn0MQBDidTiiVSrjdbuh0OpSUlHDkkuyrWq3+xvNbp9PBYDDw+RFPU6fTwel0ora2FjqdDl1dXQiFQrj55pvR39+PCy+8EE8++SQ0Gg3bCXJSj9zoh0Ih9Pf3s1NG30MUCOCregCr1QqZTIZoNAqr1Qq5XI7+/n4IgsD0hlQqBbPZDL/fD5/Ph76+Pnb8wuEwgsEgU7ai0WhRpo7WD6KVURQ8Ho9j9+7dGBwc5PcqlUrmvhZSy5LJJHN+1Wo1AoEAWlpaYDabUVFRwTQxo9HIgQ+ZTAaDwQCLxQKDwcAOpsViKaLAUTS5s7MTwWAQra2tbOOJcldSUgKFQsFjJ0HCvzqO64kUciGJq3osLiQhGAxCoVDAZDJxyt9sNiOXy6Gnpwc2mw0mkwnZbBbhcBhWqxUlJSVIpVJYu3Yt831mUMQAACAASURBVG9oJ6vT6ZBMJuHz+WC32+FyuZiInkwmOWUkl8s5PU8g4nomk4HX60Umk2HDRbxVpVJ5lGEtRD6f50gDpWP6+/uZDqFQKKBSqWAymWAwGIqOo1Qq0d/fj/LycoTDYXz3u9/FVVddhSVLliAcDh/FVzoW+vv74Xa7Oc1Di45cLofD4ShyYPV6fdHuW6/XcxrMYDCgsrKS/0apwUwmU+Qw+/3+ohSTlF6SIOGbg6JyRJWSy+X47LPPcM8992DSpElQqVQIBAK455578P3vfx8LFizAtddeC61WywWSWq22KGtDztM3nd/kMCoUChgMhqNsey6XQ01NDQBgz549OPnkk3HVVVfBbrcfxfE/lr2wWCxF5xCLxaBUKqHT6djh1Ov1qKysRCqVQiQSgUaj4esym8183bfffjunBClCLAgCIpEIr1Vkh8kZp4It2jAUjiEAXs/Iibbb7QBQxKml4ANlEQvtdmHwhrioWq0WSqWSKVv0foqaymQylJSU4IYbboBarcavfvUr2Gw2pmzRBsVqtRadK9HT5HL5MaPEEiT8K+K4jmohB5IcVWB44vp8PuTzeUQiEU5fUXoEGK7cJx5le3s7ysvL2dkr3DkbjUY2JlRoBYAnt0ajQTab5Z2pz+djxzAUChUR4NVqNXMcvF4vjEYjqqqqYDKZ4HQ6YTQai/hZdNxCEI+MSPK0czWbzXC73RzRNZlM8Hq9bDBFUUQoFOIxyGQy0Ov1yGaz6OnpQT6fh9/vRzweR01NzV9VGyiE0+mEQqGAVqtlI2YwGCAIAoLBIBdTqVQqXnx8Ph9kMhlMJlNRlSqpNWi1Wl5glEol2tvbOXpD0V8aB8lRlSDhfw9K4wqCUDSHnU4nnE4nDh8+jBtuuIF5oKeddhrWrVuHDRs2YMGCBZg6dSq0Wm1RsQ5Vtlsslr/L/KZsGSm8UCGVXC5nLrxWq8Xu3bthtVoxcuRItolkO4/FzUwkEszTL7yGfD5f9De9Xs82X61Wsz3t6emBTqdjx47oDhT0IEoEpdez2SzXPnR3d7NzTSAFFeKZ5nI5pg+IosiRXqJZ0PWQQ1+4FtL9TCaTsFqtqK+vh0ajgcFgYJ5dKpWCXq/ntYQcYtoIUCDFZrNxca3T6UQqlYJOp8PAwADKysp4I2E0Gvl4hQEUCRL+1XHc1H8qlUI6nYZGo+FJLQgC3njjDdx3332YP38+pk6diquuugqHDh2CWq2GXq/HoUOHcOONN2LNmjV47LHHcMYZZ+C//uu/sGvXLpx33nm45ZZb8OSTT6K6uhoPP/wwBEHANddcg+XLl0OhUODNN9/EjBkz8MILLyAWizG/891338Vdd92Fl156CbFYDBaLBdu2bcMll1yC8vJyNDY24rbbbsPhw4c5pSaXy+H3+xGJRJDJZI6qUi0EFYMlEgnEYjGceuqpqKurw/jx43HfffdxJJQcRKfTiYGBAaxduxbNzc0oLy/HxRdfjC1btsBsNsNsNmPKlCmYOHEi9u/fjzVr1mDGjBno7u4+itZwLCiVSnz00UeYP38+DAYDpkyZgscffxyBQADV1dVFEdW+vj7cddddmD59Opqbm3HWWWdhx44dTLVYsWIFL4omkwl+vx/BYBAbNmzAvffei87OTi4CK+TSSZAg4X8HkuaTy+XsyKTTaUSjUQiCALfbDQAcHdNoNFi2bBnmzp2LRx99lKX2MpkM2tracPvtt2PGjBlobGzESSed9I3ndzKZRDqdxu7du3H11VfDbrejtLQUK1euRH9/P+x2O7RaLZ588kmcfPLJePbZZ3HFFVegpqYGq1evBvCVNBVtvLPZLARBgN/vx5IlSzBt2jRMmDABN954Izo6OngdOXDgAHQ6HbZu3YpLL70URqMRW7Zswf79+3HBBRfg8ccfx+9+9zucd955vEZcdNFFuOaaa1BbW4s//elPOO2009DS0sKOZDqdxoYNG3DTTTfhrbfeQiaTQTwex/bt23H11VejvLwco0ePxv33349EIsERUqqpKJSNUqlUXNRBtvCzzz7D3XffjXnz5sHlcmH9+vX4+OOPEQwGWZZKFEV4vV78/ve/R1NTE2pra3HKKafg0UcfZbmsNWvWwGq14oknnsAdd9yBGTNm4Omnn0YwGGT5qZdffhkjRoxAbW0tLrnkErzzzjtHbQgkSPh3wHGf+FAoBJVKhXA4zJN48+bNWLlyJTKZDH7/+9/jrrvuQiaTwaWXXoqhoSHe2UYiEWzYsAF/+MMfcNVVV6GiogIOhwMulwt33nknNm7ciNWrV2PEiBFIp9PQarW8Qx81ahSmT5+OTZs2carG4/Egn89j06ZNmD59OkwmE5599llccMEFmDNnDp566ince++9ePfdd3HLLbcgnU5z1STtvgEUOWCUzgGG+WSiKEKn02HPnj1YuHAhtFot1q9fjzVr1uDAgQN4/vnnOQ2nUCjg9Xrxwx/+EO+88w7uvvtubN68GW63GytXrsTrr78OANi9ezc+/PBD1NfXY/Xq1dixYweqqqo4okAo1F4l7N27FzfddBOsViuee+453HbbbfjjH/+IrVu3wuPxIJPJQKVS4bPPPsMVV1yBjz/+GOvXr8eGDRvQ3NyMCy+8EDt37oRcLkdjYyN/jvi68Xgcb775JhobGzFy5EgAwxWyFF2QIEHC/x6FPFIAnEpWqVRFDhI5JxRNO/PMM/H666+jp6cHSqUSra2tuPbaa/HRRx/hN7/5DZ599llMmzbtG89vlUqFjz76CIsWLYJer8fjjz+OZ555BqFQCN/73vewZ88eAMDixYvR2dmJU045BT/5yU8Qi8Vw7bXXclR2aGiI7aggCHj55Zdx9tlnY968eVizZg2uv/56vPfee7j77rvZHpNjd/nllyMUCuG2225DbW0t3G43BEHAb3/7W2zduhXz58/H2LFjIQgCampqkMvlEAgEMGvWLMjlcuzbt49VT1QqFb744guYTCbMnTsXSqUSjzzyCK655hrU19fjiSeewCOPPIKXX34ZK1euhMfj4aIykqsqVEegSGsmk8HAwADuu+8+vPPOO/jBD36AP/3pT4hEInjssccwMDCAiooKAMNyWrfeeiueeOIJPPDAA/j1r3+N888/Hw888ABuu+02KJVKXH755fj8889x2WWX4dxzz8WhQ4fwgx/8gKlsN998M/7whz9g7dq1eOCBB3DGGWfgrLPOwksvvYR8Pn9MnVcJEv5VcdzUv9Vq5TQJ6e51d3fjzDPPxKpVqyCTyXDiiSdypLOjowM2mw06nQ6JRALz58/HDTfcgMmTJyOfz+PQoUPo6+vDOeecg5deegnxeJx1QildlE6n4Xa7MWfOHPz617/mIq3y8nI89thjOPnkk1FaWgpRFHmnfM0117CT29nZiZdffhn9/f2ora39+oPxpUFKpVLYtWsX3G431q1bxzqH9fX1zEv1+/3Q6XTYsmULmpubsXz5cmg0GlitVowaNQpLly7FO++8gzlz5nARhMFggFar5YIK4scSCiVtiArx8ssvQ6/XY82aNaitrYVarca0adNwySWXcHVvX18fBEGA3W7H6tWrUVFRAYVCgblz56Krqwt/+tOfUF9fjwULFuCxxx7Dli1bMGXKFHi9XrS0tECj0aCxsZGjzSaTqUiSS4IECf8YEN+SaE8kJzcwMIDGxkYMDQ3BbDajtbUVJ5xwAhYtWoQZM2YAACZMmIDDhw9/o/mdSqXwwgsvYPHixbj55pu5Ar+urg6/+MUv8Morr6CpqQk2mw2Dg4MoKSlBWVkZ1x9QKrqqqor1po1GI7xeL5YtW4bly5cDGLZnI0aMwP/7f/8PPT09aGpqYuf80ksvxY9+9COUlpZCoVCgtbUVcrkcc+fOxapVq2A2m2GxWJiyQBxQm82Gmpoa7Ny5E2eddRZSqRRisRh6enqwYMEC1uJub2/HlVdeicsuuwxqtZqj3KtXr+bgC9G1SKu60C53dXWhpqYGbW1teO+99/DII49g3LhxcLlcOPHEEzF9+nTcc8892LVrFxYvXoyenh5Eo1H84he/wLRp03iMDh8+zGuZ0+lEIpHgdcxkMqGzsxNyuRyff/453nrrLaxatQrz58/HwMAAZ+42b96M008//X+0rkmQ8M+O4zqqRBQnp0Wv12PZsmXM4yTekEajgcfjQVdXF5qamqDRaJBOpzF16lSMHDmSeVQUUa2urubIKzCcLiKuqUwmg16vx7hx4yAIAj799FOMHj0aOp0Or732Gn7605/CYrEgnU7j/vvvZ8PS2dmJuro6VFRUoL+/Hzt37vxaE5qkPsi5HhwcxJYtWzB+/HhUV1ezrt3IkSNRWlqKcDgMpVIJrVaLU089FbW1taisrERvby9SqRRcLhdKS0uLqkUpNUXfBXwVXSk8B3oP8aB27dqFkSNHYsyYMbxolZaWYvTo0TAajXA4HHA4HBg5ciRcLhffJ1pELBYLOjs7YTQaYbPZcNJJJ2H79u18T99//31UVVVh4sSJnGbU6/VIJBKSoypBwj8YpBdKDiLZxHw+j2g0ioqKCthsNpxzzjmYMmUK9Hp9UfOUbzq/Dxw4gDfffBP33XcfbDYbenp6YLVa0dzcjCuuuAK33347rrrqKlRWVrIjTXUKZC9JO5oq9Gtra3HmmWdixIgRCIVCUCqVnPk5ePAg+vv70dTUBIfDAY1Gg2nTpnE0ksZEp9Nh/PjxaGxs5Nepip+0uTUaDebOnYuXXnoJgUAAZWVl2LdvH4LBIGbMmAG5XA6dTod169YB+KpDGB3r008/5ahuoaA+1ULQuVBx1fbt26HRaDB9+nTo9XoOrrS2tiKdTqO+vh4AMG3aNDQ2NsJkMsHn87Huq1qtRmdnJ/r7+1nyy+PxMC2ktLQUWq0WH330EWw2G8aNG1f0+rhx47B69Wp4PB6YTCa0trZi1KhRf+cnUoKEbx+Om/onEXuqxlSr1TCbzdi/fz+uuOIKyOVyVFZW4vLLL8fBgwdhMBjgcDg4vR4Oh7mgSKvVQq1WIxaLQaPRIBaLwe/3QxAExONxlJSUsP5dPp+H3W7HrFmz8O6770KpVGLfvn0YHBzEpEmTWJLK7/fjN7/5DZYuXYqFCxdCr9fjhz/8ITutx0Nh9y1g2DDF43F0dnaiubmZZVRI/srr9bJTm8lkmHN23333YenSpRg5ciRkMhkef/xxXhSoaCuZTBa1Wj2yG1fh7yTa3dvbi/HjxwMY3oWr1Wp4PB7odDr09/cjk8ngwIED8Pv9cLlcWLduHU444QQu/Prwww+5iGFwcBAnnXQSWlpa8MYbb6CkpATbtm3DlClTOGJB53Y8NQIJEiR8cxB/HhiOFHZ2dkKhUKC0tJSlknbt2sXp+ieffBL19fUwmUxwuVzfeH4Hg0H09vbCbDYjm82iqqoKBoMB4XAYKpUKHo8HXq8X8XicAxI+nw/BYJBtm0qlYsoCHbehoQFvvPEGzj33XEyfPp15msCwHms8HkdHRwfruUajUQwMDLCjTs54LBbjeoHC9rLkTJ5++unIZrPYu3cv5HI53n//fdTU1GD06NEQRZFT5OvWrcMZZ5zBhU+XXnop0uk0SxlSIOFIHe1IJMJFuzt27MDFF19c1CrVbrdzttFqtaKlpQWZTAaxWAwPPfQQLrjgApYXu//++9HT04Py8nLO3qlUKtjtdvj9fmi1Wng8Htx///3YunUrTjzxRMhkMlitVrjdbvzkJz+BIAi8nkhOqoR/FxzXUSXdPUoZ5fN5rFu3Dg8++CBKS0sRjUZx6NAh3HvvvRg7diwymQwCgQBXvBNZnYp+SMLDZrPBZrPBbrfDYDBAFEU2RtFoFNlsFjabDeeddx62bt2KdDqNrVu3stGjc/v1r3+NAwcOYPLkyXjqqafQ0tKC1157jdNix0OhgDKhUPvueNi0aRPuv/9+7NmzB1deeSU6Ojrw+eef4+qrr+bICB2fKmwLVQqOh8KuJnQ+hVWrCoUCY8eORTAYxLhx/5+97w6Tqr76/0yfndnZnWV7X+kIioDdoIDYxZAgUXixa4zGGGON+KKiqFiCYgigFBGjIthFBBVQEAUpKnUp2+v0PnPnzp17fn+s3+MMGOH9Je/zptzP8/AwO3PLt55zvqeegFAohIULFyIWi+HDDz9EXl4eysrKIKqPjR07FoWFhfjiiy9w6NAh+P1+nHXWWQDA2hKR0uZYgr00aNDw/w9FUTilnM/n40pU7e3tOO6442C32zFixAjs3bsX5513Hvbu3Yv3338fkUgEGzZs+F/f34L+Z9KxTFopsqy43W4QEcrKypBMJvHYY4/hueeew+9+9zu89957qK+vx4IFCzBo0CB0dXUhnU5j6NCh7L/rcDhQXFzMvrOBQIA1oIJ/iKh3kUpKlmXU1taiT58+WLduHRKJBLZt28aBpzqdDuXl5bjhhhuwaNEi/PGPf8SGDRvw3Xff4f3334fFYmGrVyaEC8CxQJZlDB8+HJIkobu7GwMHDsTu3btx1VVX4csvv8TcuXOxd+9euN1uzJo1C4WFhdi2bRva2tpY4xoOh5kXFBYWYvjw4bjuuuvw5JNP4osvvsD69evxyiuvYM6cOXj77bdRW1uLpqamY+IfGjT8O+Copn8hYAoztSRJ2L59OxwOB2bOnIn9+/ejX79+KC8v55J1Igl0NBrlU7zH44HVaoXBYEBhYSFkWeZ61gDYN0gQPkE8Bg4cCI/Hg88//xzfffcdxo8fD7PZDFmWEQqF8Oqrr2LmzJmYNGkSt/nTTz/Fzp07UVZWdtQBEKZ24IdgJpvNht69e2Pv3r3Q6XScny8/Px/FxcUIhUKIx+PIy8vDhg0b+PRcWloKo9GIfv36ceJ/EThgsVjgcDhgs9nY1ypTi5pZqk/4r+bk5KCurg579+4F0MPIHA4HysrKEIvFUFZWhnA4DIPBgDfffBNVVVV45JFHYLVaceDAAZxxxhkYOXIkgsEgJEli89qpp56K1tZWvPbaa6irq8PgwYO5XJ+YN1EpJTOrgAYNGv6xkCQJRUVFUFWV0zLt3r0b7777LkaMGMFVjVavXg2Hw4E5c+bAYDCgq6vrH7K/CwoKUFVVhVAoBKPRyKb//Px8zmoilAnd3d2QJAnFxcUoKChAPB6HwWCAxWJBdXU1l1Zta2vDvHnz8PDDD+Oiiy6CzWaDqqo46aST0NHRwSb/Xbt2AQDn6RamdKGlFfQy029fURQoisLXA8App5yCd955B6tWrYIkSRg5ciQrGtra2tDZ2Ym77roL5513HlRVRXNzMyorK9k/NfPZAFijqqoq8vLyEI1G4XQ6ceqpp2Lx4sX4wx/+AKAn9ZjP50MkEmHlDNATENfS0oLZs2fDZDKhpqYG8XicS8KecMIJTO9LSkqg0+lQUVGBaDQKIkJpaSlWr16NZ555hjXYRUVFnMsV6Ak2FtplDRr+3XHM6ani8ThcLhcTNOH0P2DAAOj1enR1dcHr9XL1DJFnT5i1ysvLUVBQAEVR2Ond6XRyJRUAnMTYbrez0OZ0OjFixAgsWrQIgUAAI0aMyKoHK4RCr9eLaDQKWZbh8/lY0DsaBBE0Go2c26+8vBwjR47Erl270Nrays85dOgQuru7OR1LIpFAQUEBn/6NRiMkSUJXVxcnoQbAJjMRrerxeDjKVBDbTHOTqFKSm5uLE088EfX19Th06BDy8/NhNpvhdrvR1NSUVS9aCNFbt24F0MMA/X4/Dh48iJaWFkQiEXZjOOmkk3Do0CG8/PLLOOecc7gmuIDor1aeT4OG/10IOik0kuFwGEuXLoVOp8PZZ58NoGc/CjOvcAcwGo3o7u7+u/f38ccfjwsuuADvv/8+/H4/m/53796NF198EZdccgn7U+r1eqRSqSz3JFHeGUCWhlKY34Xwp6oq9uzZg3g8zm4EhYWFnB2ms7MTkiQhFotxQn3h2ypKbsfjcXadEoVWVFXF6aefDpvNhoULF2LgwIGorKzkNn755ZcsoLe1tTGP2bhxIxwOR5bSIFNDKTKypFIp5mGnnXYaJEnC5s2bOctBcXEx+wibzWbs2rULbrebC9bU1tZCr9dz0RrhvhAIBDiHrMfj4SArs9mMM844A6FQCCtXrkQqlWKN+6FDh9gHF0BWVUINGv6dcVSNqsVi4aT8wtc0Eolg586dmDNnDgYNGoTPP/8cK1eu5NrVdrsdkiTBbrejoqKCn+X3+xGNRrOCpkQQgYjQFEKqOBHb7XZceumlmDhxIiZNmoSSkhL2JcrLy0NNTQ2WLFmCdDqNyspK7NixAwsWLOA8eEeDMGuJBP1WqxV6vR4nn3wy3njjDdx222245pprYLFY8M477+Ddd9/FhAkT2DepX79+aGlpwQMPPIApU6Zgx44dePPNN+F2u3HBBRew/5hInt3c3Izm5mbU1NRwCVcBoVkQn3NycnDppZdizZo1uO+++3DNNdewn1p9fT0GDhyI4uJieDweVFVVYf369dDpdPB4PEin05g8eTIaGxtx4403ory8nInh6NGj8dxzzyEajWLYsGFcUxvo0SoL/2Etj6oGDf+7SCaTWLt2LRKJBGw2G5577jl88803uO+++3DhhRfCZDLB6/Vy4v77778fl156KaxWK+655x60tbX9Xftbr9czbXU6nTj99NNhsVjw/vvvw+124/LLL4fNZuP4BKAn/RIADrYMBAIwGo0oKipCJBJBcXExzjrrLEyZMgV//OMfUVVVhT179uCRRx5BXl4ekskkC5uRSAR6vR7V1dUAegT3cDjMcQuChgvFRE5OTlYhEkVRMGjQINTW1mLWrFmYP38+84d0Oo0rrrgCy5cvx4wZMzBlyhScfvrpeO+99/Dcc8/BYrGwmV+Uys6kx6LATW1tLVKpFPr27YtRo0bhwQcfxC9/+UucfPLJ+Pjjj/HSSy8hPz+fy2oXFhais7MTDz74IG699Va0trZixYoVnI1BBKGZTCaoqor6+nqsWrUKY8aMQTqdxmmnnYbRo0fj/vvvR2trK0455RQ0NDTg7bffxvHHH4/f/OY3rPXWoOE/AYaHHnroYWF2B4BHHnkEDz30EJviE4kEC1vixPmzn/0MRqMRK1aswMKFCzFu3DhcdtllfKIeM2YMQqEQPv/8cxQUFOCEE07gzXngwAE0NTXBbDbj3HPPZYG0qakJTU1NMBqNnEtPpGsSEezHHXcczjrrLFgsFvbPHDZsGCRJwoMPPohvv/0Wp512Gi677DImVGeccQb27NmDbdu2oaqqCmeeeSZisRgn/ZckiQVnn8/HqU9qa2sxbNgwbNy4EbNmzUJHRwfOO+88DBs2DHV1daioqIDT6cTAgQNRU1ODNWvW4MUXX4TFYsFVV12FU089FQcPHsTYsWM5+r64uBjPP/88Vq5ciREjRqBv377seiBJEqeoMRgM7INVVVWF0tJSrFu3DvPmzUNnZycuuOACnHPOOWhvb8fo0aNRUFCAAQMGYPDgwVi3bh1efPFFBINB3HzzzRg6dCjWrl2L8ePHw+l0IplMoqCgAFu2bEFdXR1uu+02AGCTkvhflHnUoEHD0ZF5uJ4+fTrT0Hg8zgKeqLCkKAo2b96MSCSCuXPn4qWXXsLrr7+O7du34+yzz8YDDzyACy+8EFarlWveDxo0CIMHD8aHH36I559/Hj6fD1OnTsXAgQP/rv0tDvhjxozB5s2bMWPGDLz33ns466yz8Pjjj2PgwIFIJpPIzc3F3r17sW/fPvTu3RunnHIKB/Xk5OSwoGez2WAymbj4yjPPPIO1a9eiX79++N3vfodoNIq6ujrOCPDmm29i4sSJXNrUaDSivb0dX3/9NSwWC84991yEQiG24G3atAm9evXC4MGDuVRqOBzmin+33HILly8VmVMuuugipNNpzJw5E+vXr8e4ceNw+eWXIxKJID8/H6eccgqamprQ1taG0tJSDBkyhH15RQlWk8kEh8OBPn36IJFI4K233sLcuXMxduxYXHzxxfB4PBgyZAj69OkDvV6PcePGYfPmzXj88cfR3d2N8ePHY9SoUZzdRsQTlJeXo6GhAa+++iokScJZZ52FvLw81NbWcpGZ1157Da2trbj88ssxZcoUlJaWZlWJ1KDhXxUiKxIAPjAK+efRRx/Fww8/3HOhqqpERKQoCimKQgAonU7zd8lkktLpNMViMfL5fKQoCgk0NzdTW1sbuVwu8vl8FAqF+HdZlsntdvO1fr+fQqEQERFJkkT79u2jdDpNsixTKpWiWCxGXq+XvF4vxWIxSqVSJMsypdNpkiSJ2traqLOzk1RVpVgsRn6/nzLh8XhIkiT+e+fOnURE/M7u7m4iInK73TRx4kTKz88nAASA9Ho9GQwGstvt9POf/5zWrFlDyWSSn9XU1ETxeJyIiFpbW+nQoUNERCTGLrOPkUiEiIhSqRS1trYSEVEgECCfz8ffe71e2rJlC1177bVkMBgIANntdurVqxfp9Xoym810+eWX0/vvv5/1/HA4TMFgkP8OBoMUDocpFovxuCcSCQoEApRIJIiIKBqNUlNTE/ddtGHy5Mm0YsUKSqVSPPfpdJpUVT2iXxo0aPhxiP2iKArvGwD8WezDVCpF0WiU75Nlmerr6/nvcDjMtONwpFKprPeFw2Gmdf/I/S3ofSKRoFgsRrFYjIiIfD4fqapKiUSCdu/eze1samoiSZKYjou+EhGl02lqa2ujUCiURZfr6+uZlsZiMWpoaODfPB4PKYpC4XCYvF5v1vcCbW1tTPvb29upubmZf9uzZw+/+/A+ptNp6urqYjos7ne5XEREFI/HaceOHcwvMuciHo9n9SEajVIgECBJkvj+ffv28diLd7hcLurq6sriVdu2baOOjg4iyuZNTU1NPN5iLlKpFKmqSp2dndTS0kKyLP/NNmnQ8K8IIbeI/SrWeCqVoh45tgc6VVVJaB+BnhN3Op3m03ZmrXdZymkgZwAAIABJREFUlqGq6lG1bdFolPPGCSd+4Ic8diLISvjexGIxrioi3iOyBsiyzJkDBITpyG63w+fzcZ47WZYhyzJyc3PR3t6OkpISeDweVFZWci5UAPj444+h0+lQVFTEwV5erxc+nw9OpxNDhgxBVVXVj0Z+ZroUEBGCwSDy8vKyximznRaLhYO0hPlNRNCuX7+eK7TodDoYjUZO1zVkyBAMGzYMzc3N7MslxlDkQ0yn05yJ4W9lKTh06BBXpGlra+OSs0899RSuueYaTJo0ie87/H8NGjT8NOh7S5TIjCL2YWbxDqBn38qyDKPRmOVSQ4cllxd+kWKP5+XlQZZlKIoCs9nMNESUYQ0EAn/3/o7H40gkEjAajUeYkxVFyQqqzCzhmRlMBQCJRAIAsmIDhNtYNBrlan5ADw8QljrxORqNwmazIZlMIicnh+9NJBIwm81H0NhQKMRJ8wEwv1JVlX1dJUmCqqpZlQlFeinx/h+b01AoBKfTyWMtNKFCiyz4keAr4n8RECXotZh7MW8iCCyTF2TyUlFh63D+K2IZ6PuML4fzRA0a/hUh1rigg5nxR5lB9UcVVKPRKAdPiVrKwoRltVrh9/tRUlICg8GAYDAIRVGQn5/P+UiFHw4AjtYUphmxSVVVhSRJWYROEAXgB5+ogoKCLGKVKQQDYH8n8V2mcNrZ2Qmj0Qin04lQKASHwwGj0chCsiilmlmdRKTays/PBxFxFS3hq5tIJDgqVJSaFQQx0+dJp9Ox0Cp8w3Jzc7lCiiA49H0KK6DHV8vj8bDvlpiHw/ObZhJN4d8lUt4IQtzc3Ay73Q6DwYAVK1bg7bffxrBhwzBz5swjUrNoQqoGDceOYxFUhXAizP7i8G2xWJgg/y2hI1OQERkARFYVgX/k/j78UB2Px1lIJSJEIhGmezk5OVm/p9Np7hvQQ5vo+zKtHo8HNpsNBQUFICK43W6UlpYC6El6X1xcnFUlymw2o6OjA4WFhbBareyGlkqlWFmSSfvFtclkEvn5+Ux7MwVKRVFYwBPCYDgc5jyowqVMjJPwhRU0Vgi6mQFdIjj48NSDItDVbDZzAFVubi4sFgtXX8zNzYUkSTCbzcxPcnJymGcFg0HodDoW0sXhRfAqwUs1aPhXxT9MUDUYDFzqTgiXqVQKFovlbxI9EaAknieIhNjsQhgTKavE6VNEMWb+7XA4uGyp8FcFwP5J8XgcoVCIg7aENldoJYiIU2D9GITwTN/7Soj+CSKXSaRlWWbtgSRJf3MMJEmCwWCAyWRCMBjkfKqC+Auh1efzwWAw8MldtOVwjYuYB51OxwcFs9nMRQcAsEb28EUQCoU4YG3x4sV49tlnccEFF+Dee++Fz+fLqvyiQYOG/xmOJqiKUsjiYA/0aNjEns7UrIn9LzKAiGwqTqeTS39mWp6CwSBUVf279rdIeC9SQgkaEovFEI/HOWWWCP4ReU5FInxBB39M0M48RGdClmVOySeEWhErIGijGB8hCIvsCGIM/X4/J8MXYywS5hcWFrIwK5QXIu+0oJvpdJpTDIpxTafTiEQiXElK8B/BRzLbmwnR1lgsBkVRYLFYuChMJsR7RNUxq9UKs9mcxUNE9gGDwXBUjWnmIUGDhn9F/EMF1R97uKIofNoDwJVERM1k+r4kaDKZZI0s0BMhKrSe4sQpGiWIgBAWMx3ZxfeCmAuNBNBzIhencwCcZkq0Ta/XI5lMIpFIgIg48bUkSUcEigkGISBJEpc0FUROCI/CVG82m7OeKUkSMya9Xp8VcRsOhxGPx1FeXs7vEC4VQgsdDAZhs9k436w4QQuIE3wmIRPjL65NJBIIh8OoqKjImkefz4dgMIiampqjpp863CypQYOGbByLRlWYjkW56UwI65TQ8h3L+8SBNRKJcPaRv3d/Cxr0Y4dvoUk1GAxZblxGo5GtT0LbJzSWmSmsWltbUVFRwRWsEokEC5Mulwvl5eUsFIq+tLe3o7y8nIVLIdxmHvb1ej0ikQjnphaFB4RiwG638yEhMwPM4TRVWLkEPRXVskTfxD8xFpmWMpPJBEmSYLPZEAgEWLEjLG8ej4fnSGhMhVAs3ieUDYIxh8Nh6HQ6VtIIvkff5xk/lmw2GjT8K+AfJqi6XC6uqywS9gsc7j8qfE+FUCpO1MK0n3liF1HtVquV/Ygyq1eJ+sfxeJwjPkVZVQBZfkvClN/e3o7q6momMADY7H74yRUAfy+EajFYQnsqSRJrK0SbM814AFhYFomoDyf0oh3t7e0oKCjI8ovK7BuALM1vJvMRJWxVVc0y+4l3CtNYLBZDKpWCzWbjdokMB8Jk9D9JOaUJqho0/DSO1UdV7GEAfCjPPJD/mNAnniFoaCKRYB/G3NxcmM3mv3t/u1wu5OfnM80WmkbRTpPJxIwkFouxxvNw/87MZPwiclcI35l0VafTZfmnCoh83YLGiTHK9O8UJU9F8ZVMCOHy8Gh4Ebcg+FQ8Hmetaa9evVixYDAYsuIARP+DwSAsFsuPmtiFe1gqlUJOTg7zsx/rp5hXIXAKhYjZbOZn/JR2VPCnzMIEwkVCg4Z/VfyvaFSFo7gojSpM8rFYDGazmYmkKIGal5fHwmqmxlIEDzmdzqyceMJdINMnS5hwVFVFIBDg02kwGERhYWGWQ393d3eWY70g3iI/q3iG0H5mVqXKNLsLwih8izKDADLTWWUGfYnrk8kkrFYrB1EJk5Qw14vKMKKKl6g6AvQIrqqqZgUZHO6Yn2lOOzxX7OGO+cFgEE6nMyvgLBAIsCArmM7fgiaoatDw0ziaoJoprGQeLDPvPTzoCsgutiGE3JycnKxrM12I/t79LYQgAFk0X9B4QVcynxkIBNh8/bfuyaRXgj5n0sJ0Og2v15tlERPaVVG5MFPRIDSkwqVMlINVVZXdvoTwJ4RTQedFqrBM+iksgEBPcJag3YePDwBWqBiNRnbFyqS3whTf2dmZZckKBoMsCAvteqZSJtO9TFj9xPgIwT9zHoVrmiakavhXxzELqvF4nIT/k6jaEYlEftTnUYMGDRo0/AAhXIgyoULb53a7tYIZGjRo0PATyDyEKooCn8/Hh1Zx2AYAfWYqDJPJxCYUDRo0aNDw0xB+ij6fj7Vr4XD4R337NWjQoEFDNkKhEEKhEIxGIwupkUiEg/gBwCjMPcL3ReShExVRNGjQoEHDj0OYs3NzcxEMBrNyXDY0NKBPnz7/103UoEGDhn9KpNNpznoUj8cRjUbZZ7ympoav0xERZeYbtdvtXDNaPEiDBg0aNBwJg8FwRBo4kW9aK3OpQYMGDX8bPp8PJSUlnDNYBEkmEgn06tWLc+sbxZci3ZNIj+R0OtHY2Ii6urr/u15o0KBBwz8xOjs7EQqFMGjQIA6MFOmMRD5NDRo0aNBwJEpKSgD8EMSvKAqCwSDLoALG5uZm1NXVIZVKQafToaqqCpWVlYjH4xgyZAj27t37f9UHDRo0aPinRklJCWpqavD111+jrq4Ozc3NAICBAweisbHxJ0tNa9CgQcN/MkR2FKvVioKCArjdbiiKgrPPPhvd3d18nY6+j/8XuUsLCgoQiUQ4J+rhJTs1aNCgQUMPwuEwgsEg+vTpw87/NTU1qK+vh9Pp5HRTGjRo0KAhGyaTCaFQCETE9NLn8wEATjrpJBZWdYqikMFg4OpOwufqx5Iya9CgQYOGIxGLxWC32zk4oKWlJatYiAYNGjRoyIbImQz05AcOhUKcVz6rcNP/TwlVDRo0aNBw7JWpNGjQoEFDNo414b/mQKVBgwYNGjRo0KDhnxKaoKpBgwYNGjRo0KDhnxKaoKpBgwYNGjRo0KDhnxKaoKpBgwYNGjRo0KDhnxKaoKpBgwYNGjRo0KDhnxKaoKpBgwYNGjRo0KDhnxKaoKpBgwYNGjRo0KDhnxLHJKh2d3dznlUAUBQFAJBIJKAoClRVRSKRAADIssyVBUQOrMx7Y7EY/y++DwaDAICuri6+T5IkAD2VX0TFl8z7/X4/ACCZTHIbVFXldxJR1nuJCLIsZ32nqioCgQA/Kx6Pw+12c5uTyST3KRKJIJFIIJVK8T9Rx1vU9o5EIvxsj8fDv0WjUf7e6/UCAAKBAPcnFoshFApl9S+znaJtYoxTqRSPlRi3cDgMAPwccY9oYyAQgKIo6Ojo4N/FPaL/ooqOaFsqlUI8Hkc6nUYqlUIkEuH2ifE7vH8+ny9rvgTE2EiSBFVV4fF4eK7EOzOfTUSIxWKQJAmpVArhcJivTyaTvMYyx9XlcvHfLS0t/Fn0LxaLIR6PH9E2gWQyiVgsdkS/wuEwUqkU/y3GKRgM8hiK70TfD2+fhv9cZO5DgUgkwntc0Aqx/lVVzVqnLpeL156gAYJmyrKctY/8fj9kWYYsy/zO7u7uLLogIOh4MplEZ2cntzVzH4k2KoqCUCjENDDznYqiIJ1OM40Vv4nni7Ky4ncAaG1t5ed7vV6m96J/QM++a29v5z4IHDp0iO8lIqZt4h2RSIT7njnG4ppM+iSSjIvxFe3IpJPJZJKfl0gk+JrMsflb/c+cR/HeZDKJrq4uvl/QHPHMWCyWNb7iGYJ3iO8Ezcmcr8y1lsmPxDNSqRTP9eHjnUgkuB8CYm2Ktquqys8V70okElljGo/HEY1GoaoqFEXhsZVlGcFgEKlUiudCURQQEfx+fxY/Erw3s+3RaJTbm9nuTGTOlSRJ/LeoIx+NRlleAH6QUZqamgD0jH84HM7qp9vtzlofLpeL14AYZ/F3JBLh+1KpVFY/Mu8RcoaqqsyfgJ51LtrkcrmgqmoWX4xGo1l7WfwmyzKSyWTWehM86Kfkq8wxFvs6k1ZlPk/MnWi3JEk8Z6J/6XSa17BYE2J/CCiKkjVPxwRVVYmISFEUUhSFAFA6nebviIgkSeL/29vbKR6Pk4C4JhqNktvtJlmW+TsiosbGRiIi2r59O7W0tBAR0f79+/n3ZDJJPwZJksjn8xERUSwWI5/PR5FIhNrb24mIqKurixKJBBER+f1+crlcWW2KRCIkyzL3RXyf2bdwOExERJFIJKvNRMTvdrvdFAqFsn5LJpMUi8WyvlMUhaLRKKXTaUomk9Td3U3hcJjS6TSl02lKpVJZzz38fYFAgNLpNPn9fm5TIpGgpqYmIiJSVZX7S0SUTqdJURTq6uri74LBIMViMZJlmYLBYNb7fqy9ok2yLJMsy9xmAbfbTUQ9c5E5T5FIhDweDyWTSYpEIrw+MqGqKjU3N1MymaRwOMzzJtabgN/v5/FJJBIUDAYpEAiQoihHXOvxeLgfqVSKPB4PybJMXq+Xr2lvb+d+ZY5xU1MTr1uPx0PpdJr7GgqFyOv1Zl0fi8UoEomQ1+vl5xH1zH08HiePx8PzIMYkGAxSa2srX5u59jT8e0JVVVJVNWu9AuDPiUSC960syxQOh0mW5axnZK6nUCjEnwVNTiaTlE6nSVVV3mtut5sikQgR9axJ8Y7MtUpEfA1Rz3rcuXNn1h7atWvXj/aJiKihoYGIevZCJu2RZZkCgQBJksR7VSCRSJDX6yWfz0fhcJhpZ2dnJ4XD4aw+iL2VeX80Gj2CVon9HQwGqbOz84j2dnd3U3t7OyUSCUqlUkz3JUni8RDPDIVCFAqFKBAIUDQa5XE5/F2BQICIiOmcQGZbOzo6jtp/IiKXy3VEnw6HoiiUSCSyaKnP56NgMJjFi9LpNEWjUV5Dh89vc3Mz0/5IJJLFF/1+f9bzxW+CLxNR1pyJ+Rf3ijHJvEesTcELMte2GPt4PM6fk8kkXyPmMnNtNTQ08Prz+XzkdruZd4hnKorC8+R2u8nj8WSt+0AgwO8QY6GqKvOzvXv38phKksRj6PV6qaOjg4h61ng0GuW/Dx+PVCpFyWQy67vMdno8HgqHwxQIBCgSifBn0bfDeWZXVxe3I5FIMA0g6pnHSCRC0Wg0SxYRslUgEOAxFmta4GjyVeYezKRlkiSxbCHaI56lqmrWexobG/m39vZ2/izWdCwWy5ofSZK4vWLviHER85ZKpahHpu7BMQmqoVCIwuEwJRKJLCHV5/OxYNXW1pZFLP1+/9/cnB0dHSzsxWIxUhSFF21DQwOFw+Gsdx8++EQ/EJLMjShJErnd7qz3Hs4UxKDEYjFyuVz0q1/9ihYuXEgej4ckScoSPASi0Si1traS2+1moU0IJuJdPyasZX6fuQgFUqkU1dfX/6gwnSkwEmUvgEOHDvEGDIVCTKSFkCfGePLkyfToo49SY2MjL3yx+cWCj0ajWeObTCYpEAhk9Ssej5PX66XOzs6s+RefFUUhn8/HffX5fPw+v99Pv/vd7+iWW27huWhsbKS9e/fy+zIRDof5OYqiUHNzc9bmFO2Nx+Pkdrtp/PjxtHHjxqxnqKrK7SUi2rNnD4+3eO4vf/lLeuyxx1hAzpyDTMJK1LO2xXO3b9/OzxBrNJOZZD7j8O80/PvhaIJqJkGORCK8PyVJou+++466u7uJ6AcBKZVK8b1tbW1ZjFAwukya5vP5+KDZ0dGRteZ8Ph+l02mKxWJML8SaTafTvH/T6TQ1NjZSJBKh5uZmuummm+jOO+/ktgqhz+v1Zh0KMwU0IVAI+ib68OWXX/I1mcy3u7ub36+qKgUCAeru7mZeEwqFKJVKMYMXz82kM0uXLqXCwkIaNWoULVmyJIuOJRIJcrvdWfs0sw1if4fDYeru7uYxFe8JhUJZB4FgMMhCdDQaPeJA8Lf6f/DgQZo0aRI9+uijLBTE43EWPhKJBCs4RLt8Pl8WXezu7qZYLJZ1SBEClHhfZt8zxznzGb/97W/ppptuylpT9fX1/HnHjh38WcxNV1cXKwjEu1pbW2ny5Mn09ttv8/XRaDRLsZU5XocOHSKiHh44ZcoUuuGGG/i6cDhMLpeLBV9B64PBII+hGAuh9FFV9Qj+KNau3+8nWZaZPyeTySwlUSwWozlz5tCePXuOmEOiHnnC7Xb/qEDZ1tbGB4VDhw6RJEmUSCRYDhJzGA6Hs+QHASHcin+i/5lzl7m3BQ8We/zwuSEiuv322+muu+7iOfd4PNTc3MzywtHkqx8TIAXENYlEgg85QiGXuT5lWaYDBw5kKZa8Xm/WHAlFWzgcznr/sQqqxmPRuopyVlarFcAP6man08nq26qqKgA9qulUKoWCggJWB7e0tGDAgAHo7OxEbm4uKioqAPSo+MvKyiDLMpcb7N27N783mUwiLy+PTU56vR6yLMNoNPJ7S0pKIEkSotEoevXqheLiYqiqyqW4MssYUoZJQ6fTQa/Xw+12o6SkhOvLClOEeL/JZILdbofdbs/63W63I7P0rDAvJBIJRKNRFBUVIZFIgIhgsVi4HVarFel0GjqdDrIsY8CAAQB6zDrpdBqlpaUAAIvFwmaG2tpaWK1WblefPn0A9JinKisroSgKrFYrrFYrmpqakJOTA5vNhoMHD+KEE07Acccdx/3Ozc2F2Wzmv00mE8xmM5eADIfDPBadnZ2oqKiALMsoLCwE0GPOaG9vh9VqRVFREQKBAAoKCrLqmlssFjbNOBwOWCyWrHJome0xm83w+/3Iz89nc5Dou9frRW1tLZLJJGRZhtls5nmIRCL45ptv0NrayuZDRVFQVlYGnU7H7Q2FQhgwYACCwSAURYFOp4Pb7UYikWCTvhjbSCQCRVF4vtLpNGRZRlVVFQ4ePIi6ujoMHz4cLpcLJpMJqqqiqKgINpuN+xaNRnmv6PWaC/h/OnJycgCATYd5eXkAevbWggULcPDgQSxfvhzpdBo+nw85OTkwmUxoa2vDsmXLYDAYcOONN3JZQZ1Oh1gshvz8fCSTSfTq1QuJRAIGg4HpqjBdij2p0+kQCoWQn58Pr9eL3NxcpNNpboter0d1dTWMRiNyc3Oh0+ng8/ngcDhAROjq6oLT6eQ9FY1GYTQaYbFY4HK5UFpaiuLiYu6zoihMk8444ww0Njaid+/eKCoqwoEDB1BdXc10TtAPp9OZNW7iHaIOuM/ng9VqRa9eveD3+7Fz5048+OCDuPnmm9G7d2+cfvrpMBqNCAQCICL06tULVquVXRb0ej0KCgrYFKuqKmRZhsPhQDqd5muSySRKS0uRl5eHaDSKdDoNs9mcRTNlWUYsFoPVakUwGPzJ/vft2xcNDQ2oqanh8YtEIjAajbDb7UwjZFmGwWDgPkejUUiSxO+x2Wxoa2uD3W7nd2WaTyORCLxeL5xOJ9NIr9fL9FeMt6qqKCwsZNc7wX+AHt4rzPMlJSVIJpMoKyvj34U5NxKJwGq1oq2tDd3d3VnvFO5TmfxA0Hur1crjSkTQ6/VwOBxwOByQZRmJRAImk4nXcH5+PlRVhdHYI6akUimk02mYTCaYTCbIsoz29nbU1tYiNzcXubm5PP6qqsJut8NoNDKfBICpU6eitLSU13YqlcK2bdswZ84c7Nq1Cw0NDRgyZAgeeOAB9OnTB9XV1eju7kZ5eTnLOFarFX369IEkSbBarTAajdxGMW9irj0eD+x2O/MV4VZms9nYZcJisfBY+Xw+lJaWQqfTIRKJwGazITc3l2Uw4U4h+J3P52N3HwAoKipi/q2qKsxm80/KV8JMn5OTg0QiwaWfVVWFzWZDS0sLKioqWJ5Lp9M81+FwGLFYDOXl5airq2OZRlEUdHV1YciQIejo6IDJZOJ+CBkylUoxTz8WHFVQlSSJF10ymWQiWFJSAp1OxwRFvDyZTKKkpATpdBq33XYbEokElixZgkgkkiWg9urVC4WFhTzZQmANhULwer0YOHAgT2CmgCkIlxBOZVlGbm4unE4nJEmC0WiE2WxmoiMWvhhkvV4PvV4Ps9mMdDqN1atXQ5ZldHd3s0Aq7rNYLAiFQrDb7UilUggGg7BYLFmbMHOw9Xo9cnNzszahYFA5OTlcz1ZRFBakBcGwWCw8juJZqqqitrYWQI/wZrFY2M/G6XSisrISHR0dKCwsZL82QRTa2tpQW1sLWZbh9/uhqiosFgszzng8DlmW4XQ6kUql4Pf7UVJSgnA4jJycHBiNRlRUVCAYDMJms7FwbTKZeMO2tbXBZrNxm1taWuBwONCrVy8YDAaEw2EWftPpNAt4xcXFMBgM8Hg8KC4uhl6vh8FggKIo3D7xHuFLI4TfUCiEsrIyOBwOnHnmmfjss894TQA9gqmiKCgsLERzczOqq6thMBjgdDp5U5aXlyM3NxfFxcXIyclBOp1GPB6H2WzmZ4lx3rFjB6644gqsXLkS/fr14zkXhP/AgQOoqqqCzWaDLMvQ6/W8biVJyiJCGv7zIPa8TqeDxWJhwSSRSOCbb77B1q1b8dJLL+H222/POlQXFxejra0Nfr8f0WiU6QAApkeyLEOSJBbyBMPJy8tjxhWLxWC321FTUwMAKCgogNlsBhGxYCN80JPJJAoKCmCxWFjgEHtJHLDFnjaZTCzUif4IWkjf+2oK2t67d2+0traipqYG/fv3h8vlQk5ODlwuF7edvvcJ1+v1CAaD0Ol0yM3NRSgUgsFgQGFhIdra2ngvf/zxxxgxYgTuvvtu6PV65OfnA0DWfhPCeWFhIY9HSUkJv0/wFdEGcVgXUBSFBSGgx8fP4XBkHfaP1n+DwYBUKsXv6OzshNFoZMa/d+9eHH/88TCbzfB6vTCbzcjLy+PfzWYz+zxWV1fD7XazL2I6nebn5ufnM+0UPspCGSPiASKRCBwOB4+VwKFDh1BcXMzfi9gAq9XKgmtBQQHC4TDKy8tx/PHHY9GiRby2xNj5/X7k5uYyfzx48CAqKyths9kQj8fR2tqKkpISyLKMxsZGVriIg4zgSTk5OZAkCX369MGTTz6JkSNHorS0NGtuxcGtd+/eiEajiMfjKCoqgl6vBxFlCY9CabJ27Vp0dnZi0qRJqK6uBgBs374dl112Gc455xxMnz4dBQUF2LRpE6ZPn45Ro0bhT3/6Ex8ohC+qOCiEQiEWVDs7O1FUVASr1YpZs2ahoaEBjz32GH8natqLdSXmSQi0LpcLRqMRZWVlCIfDkCQJpaWlaG5uRl1dHYAeH1GDwcDCfTQaRf/+/eH3+1FUVIRQKAS3280HP51Od1T5SsQZHX4Y8/v9MJlMWXQnEonA5/OhqKgIubm5UFUV5eXlWT6/4pAzZMgQAOADAvCDT7egh/8THFVQzdQYBgIBFjIikQiam5txwgknoKWlBWazGeXl5XxfR0cHL2Kfz8cbLxwOw2q1spOuJEkIBAIoLS1FU1MTBgwYgOLiYp5MSZKQk5MDi8WC9vZ25OTkoLCwkJ+XSVyEMAX0LE6Xy8UEGsgmTmKwhHZUCGepVIo3fDAYZEJgNBr5e9EPMR6JRCJLYAOA/fv3Y9CgQVn3fPXVV+jXrx8L6Lm5ubBYLPB6vXwKAn4gsEDPqdhkMvHfwrndbDbDZDKxRtXr9SKRSCA3NxexWIwFJ3H6FAKYIHROpxNOpxNEhFAoBJvNBp1OxycusfAcDgef4hRF4YXtcDhQXV3NGotMoVpcn5eXx47zFouFiUM8HodOp+MNLwiQ0Whk7UZXVxcGDhwIq9UKt9sNIkJOTg5ycnIQDAZhMpn4BJ05V/n5+cyU6urq4Ha7oaoq8vLyYLPZYDAYkJeXh/3796NPnz4IBAKsXRIbVWg8nE4nrFYrMxC/3494PM79aGxsRP/+/VkAFgzJ7XbDZrMdwRA0/OchEokgLy8PVqsVBoMBsVgMFosFTqcTxcXFcDqdePzxx9G/f39cdNFFHDBTVFQEn8+HyspK1molk0ns378fdXV1sNlsvL+AH7RnghZKkgSz2cxaWr1ej1gsBpPJhHg8zhYRoQESzEcIQYWFhSzwZjIwQXdDoRA/Sxx4hVbGYrEwPWxra0N1dTVqamoQi8Wg0+lYuCstLUUsFmOakp+fzxasQCCASCTCe4iIkJeXx38L5UI0Gs06qAaDQRiNRraSNDU14bjjjuM+mEwm1NfXo1evXigpKUFraysUkcUXAAAgAElEQVQqKys5CKa6upp5il6vR21tLVRVRSgUQmlpKfR6PdPbsrKyo/bf5XKhsLAQvXr1gqqqrKwRwtrxxx8PAMxDbDYbAoEA4vE4KisrYbVaeY6sVitrSC0WC1KpFGuQhVApNHR5eXksBAk6W1FRAZ/Ph+bmZjgcDhbg+/btC+CHQ81xxx2HWCyGZDIJi8WCwsJCGAwGFBUVob29nQ8LmVbGVCqFoqIiDkKyWCx8sG9paUFtbS0GDhyI5uZmmM1m9OnThwVn0U7R/87OTsRiMVZICCHbaDTyIUkcaGw2Gwv+gj7X1NTAZDLB5/MhPz+fD31Lly7FjTfeiNNOO4352axZszBx4kT893//N3Q6HQoKCjBq1CgMGjQI9913H4YOHYpJkybBYDAwHw2FQggGg6itrWUBtLS0FAaDAU1NTQgEAujVqxdKS0t53g4dOgSTyYTevXuztU6SJOTn5yMcDvOeEHwuLy8PkUiEhdR4PM57A+jR3Op0OmzatAkVFRV8WMvkOUIB81PyVU5ODu+NxsZG6HQ6HHfccbBarazka2lp4cNT5l7LyclBJBJBTk4Oa9qLi4sRjUbh9/tZcWexWPjARkQsFAt+fyw4qm3SbrcjnU7D4/HA4XDAYDBAkiS8++67WLRoEXJzc3HllVfi5ZdfRjgchtvtxt13342xY8di9uzZmD9/PgYNGoTXX3+dTQfNzc2444470K9fP5xzzjmYOnUqXC4XBgwYgO7ubjz++OOYMGECR8ZZLBa43W48+uijePrpp7Fnzx4AQHt7O2655RaUl5fD4XDgnnvuwTfffIOOjg4QEerq6rIiywwGAwunyWQSiUQCY8eOxRtvvAGgh6g8+uijuPXWW7FgwQLcf//9yMnJwamnnoq5c+dytJ3H44HBYEBtbS1sNhtvnEAggGg0io0bN+Khhx7CJ598AoPBAFVV4fV68cILL+CDDz7gzaaqKh599FFMmzYNW7du5Xa+8847mDJlCiwWC6688kosXrwYwA9Mr7y8HB6PB9OmTYNOp0O/fv2wYMECFmL1ej3Kysrg9/tBRLy49u3bhyeffBKvvvoq9u7di0AgAJ1Oh23btuHqq6+GTqfDiSeeiCVLlvABoq2tDU8++SQefvhhfPzxx3j66adRXl6OoUOH4sMPP4TRaGTCBAArV67EyJEjUVtbiyFDhmDevHmsAfb5fAiHw7DZbMjJyeGMC0LQFQTgk08+wYwZM/Dmm2/ijjvuwLhx49C/f3/ccsstOHjwIJxOJ6LRKLZv3w673Y6PPvqIGXY8Hsedd96JAQMGoLKyEm+//TY+/fRTjBkzBjt37kQsFkN7ezvOPPNMKIqCb7/9FnfccQeb6d577z04HA5s2bIFo0ePxqhRo1BaWoqRI0fi2muvRWVlJQ4dOoSDBw9ixYoVLNxPmTIF77zzDgCwZloQAw3/uRAHZ7E+FUWBLMuw2WywWq244oorMHToUKxevRperzfLzUgINSJ6/N1338W0adPQ3NzMWjaj0YjHHnsMEydOZFo3d+5cjB49Gu+++y6effZZDBs2DAMHDsTdd9+NVCqFb7/9FjfffDOcTicuvvhiPPXUUwB6hKeuri42z86ePRtDhw5FWVkZBgwYgCVLlvB1gUCABYunnnoKdXV16N27N66//nps2bIFQA+DkyQJDocDCxcuxBNPPIHCwkJ88MEHAMDWKqfTiaKiIphMJmzevBn33nsvRo0aBafTiSuvvBKrVq1ipv7RRx9h5MiRWLhwITZt2oRTTjkF9957L7755hsA4MNlOBxGS0sLpk2bhm+++QbBYJCVKw8++CA++eQTSJKEmpoaSJKEV199FbNnz0ZjYyOCwSC8Xi/27t2LyspKDB48GL/4xS8wd+5cttoJene0/gsB0uVysYl2165duOuuu/DUU0/hq6++Ykvf559/jmuvvRZ9+/bFuHHj8Oqrr6KlpYW1cs888wzOPPNMzJ8/H08//TSGDh2KkSNHYtasWbBYLDCbzSykrlmzBuPGjYNOp8MZZ5yBmTNnor29HRUVFWz6TiQSiMVicLlcICK4XC6MHj0aDzzwAF5//XX84he/QEFBAU466SQsXLiQrVzBYBATJkzArFmzEAgEmJ+tX78eEydORF1dHc4//3z8+c9/xtNPP437778fjY2NAH5wufj000/x+9//HjqdDhMnTsTMmTOhKAo6Oztxyy234Fe/+hW+/PJLXHjhhTyH4iDwpz/9CWPGjEFxcTEuueQSzJkzByaTCUVFRTCbzawEE+5XDocDa9asQTKZxJgxYwD0CHoulwsejwd9+/ZFUVERK9pSqRTGjx+Pq666Cnv37mU5pL6+HosXL8bkyZMxYsQInHjiiZg7dy7i8TgMBgNmzZqFU089Fc899xyef/55mM1mbNq0Cbt378b8+fOxdOlSjuQ3GAyw2Wy4/vrrMX36dLhcLgQCAdxyyy24/fbbMX/+fEycOBEPPvggWlpakJOTg48++gijRo2C3W7HBRdcgL/+9a/o06cPKisr4fV6mcYsXLgQN998M/r3739M8lU8HkdDQwPmzZuHxYsXw+fzQa/XZ7nviQPqa6+9hl/96lcYOnQo8vPz8dBDD6GhoQEOh4MF8OnTp+O+++7Drl27MG7cOMyaNQtNTU2w2+1sjVAUJSsrxdFwTE50woQhCOgLL7yA1157DYlEAsuWLcNtt92GVatW4frrr4der8czzzyD+fPn49e//jWuvvpqfPbZZ/iv//ovWK1W1NfX44orroDFYsGyZcvwxBNPYP/+/bj77rtx8OBBlJWVoaKiAl988QWSySS/MxgMoq2tDcXFxRg8eDAaGhowadIk+P1+LFy4EMuXL0dLSwvuvvtubNu2DTab7Yi0COKULFJPxWIxFq6NRiNKS0tRX1+PFStWoLm5Gf3798dHH32E3r17Y8WKFfj0008B9JxQM/2DhM+u2WxGbm4ubDYburq6+EQiSRK6u7vxxhtvYN26dQB6hOZkMomOjg5YLBYMGjQIADB79my88MILGDFiBD7++GNcfvnlWLx4MZ555hn2uzl48CAeeOABHDhwAOvXr8esWbPw3Xff4d5770VnZydMJtMRfp9+vx/Lly/Hli1bcNJJJ+G0005Dbm4uFi5ciFmzZqFPnz74+OOPce+992L27NmYOXMmCgoKkJ+fj0gkgqVLl+L555/H0KFD8fnnn+PSSy/FVVddha+//pr7vGHDBixduhQlJSV44okn8MILL2DTpk1YvXo1du3ahfz8fOTl5bEJX/i2Op1O6PV61nL4fD688cYb+Mtf/oLi4mI89thj+M1vfoMtW7Zg6dKlAHq0MSKNVqY5ZsaMGVi7di1uuOEGLFiwAAcOHMALL7yAXbt2QZIk2O12lJaW4rPPPsPXX3+NZ599FuPHj8d7772HESNGYPHixfj0008xcuRI/PWvf8WKFSuQTCbx2muvYc6cOdDpdKiursYjjzyC999/H6+88gqWLVuGgQMH4v7778eiRYsgyzIqKir+RxtRw78nxCFRrAWhqZBlmX3Ap0yZgtWrV+ODDz5gc213dzcSiQSnmLHZbIjFYqivr0dRUVGWZsXpdLIwK/xWd+7ciWeeeQbDhw/H7bffjquuugorV67E5ZdfjmnTpmHw4MFYtmwZTj/9dCxbtgwvv/wydDod6urq0NXVhXXr1uGjjz7C1KlTsXLlSowZMwYPPfQQ5s6dC7PZjJqaGtTX12P06NFob2/HCy+8gL/85S+IxWJ48cUXUV9fj9raWjQ0NMBkMuHhhx/G3r17MWPGDD4k5ufnQ5IkhEIhxGIxfPHFF5g3bx6+++47XHvttdixYwesViseeOABbNy4EQBw0UUX4cMPP8R1112Hs88+G+vWrcMjjzyCYcOGAQC73wjXr/Xr17OJ3GKxwOfzYcWKFdi5cyf7q/r9fuzbtw+RSAS9e/dGr1698N577+Hqq6/GjBkzMH/+fJxxxhlYsmQJ5syZAyJCQUEBC3Y/1X/hWiQEKZ1Oh7Vr16KpqQk33ngjzjjjDBgMBixatAjTpk1DVVUVVq9ejUmTJuHRRx/Fxo0bOR3X4MGD4Xa7mSbNmjUL1157LV577TXMnz+fhdSNGzfiz3/+MxRFwfr163Hdddehvr4eb731Fnbv3s0aLREDUlJSAkVRUFVVBbPZjLVr12LDhg249tprsXDhQtTV1WH58uU4ePAgurq6UF5ejs2bN2PgwIGsrf/ss88we/ZsEBHmzJmD3/72t9ixYwemT5+Ovn37oqamBu3t7SgoKMB3332Hv/zlL/jZz36GTZs2oaqqCvPmzUN9fT3sdjteeOEFrFy5EscffzzmzZuH+++/HyNHjoQkSXj55Zfx5ptv4swzz8TWrVtx0UUX4cUXX8Svf/1rRKNRlJWVMc8T7nPxeBwbNmzAqFGj2C3D6XSy0mf58uXw+XwIhULs9heJRHD77bfjkUceQWVlJdxuNxYtWoSFCxdi7NixWL58Oa688ko8++yzWLVqFbxeL379619j69atuOeee3DNNdegvb0dp59+OgYNGgRJkuB2u7PcZhKJBJqbm1FSUoLS0lIUFBQglUrh9ddfx/Lly9G3b1+Ul5ejuroau3fvxpIlS1BSUoK33noLd955J9atW4d58+aho6OD3SXWr1+PRYsWwel04tlnnz2qfBUIBFjR1tzczBaAzJgY4cqxatUqLF26FIqi4N5778Unn3yCnTt34r//+7+xYcMG9m9ta2vDt99+i7vuugtDhgzB4MGD2bIt0sFlKtCOCccS9d/a2srR/Yqi0HXXXUe33nprVtqi5cuXU0FBAX3wwQccqTV58mS69tprieiHCLa5c+fS73//+6woxk8//ZSKiopozZo1RNQToThw4EBasmQJP2v9+vVUWVlJX331FRERvfjiizRixAiOYJRlmTweD40ZM4amTp2aFXWXGVkmotxSqRTt37+fRowYQS+//DIR9UQcTpkyhcaPH0/Nzc0cbdrR0UFXXHEFPfzww6QoCsXjcX5mPB7Pinbr6OggSZLoqquuomnTplE8HqdAIEAzZ86ks846i0499VT67rvvsvr59ddfU2NjI7lcLjrhhBN4DEW6lWeffZYuvfRSTkfx/PPPU01NDUdhijZedNFF9Pzzz1M6naa2tjYaPXo03XPPPURE9Mgjj5DD4aCvvvqK+3DgwAE67bTTaNmyZTwX7e3t9NJLL9HFF19MTU1NFI1GacKECXT++efT/v37KR6PUzweJ5fLRWPGjKGHHnqI+3/nnXfShRdeyNG2RD3Rm9dddx1dd911vFZSqRRFIhGOmBZzJCKRZ8+eTYWFhTwOIkXPU089RZdddhlHvH755Zdkt9tpw4YNFAgE6MCBA3TcccfR/PnzKRMrVqygvLw8+vzzz4moJy3K6NGj6Re/+AWn11IUhfbt20cjR46k+fPn8zpZv3495efn05o1a0hVVUqn0/TVV19RSUkJrVq1itvf2tpK99xzD910000UCASyoqM1/PviaFH/REemohNR5Oeddx49+OCDFI1GaebMmTR48GA6ePAgX3f99dfTL3/5SyLqoTMLFiygs88+m/bv30+pVIqzCTz77LN08cUXc8T0q6++Sn369KF3332XkskkR9zecccddOKJJ9KWLVs4C0A4HKapU6fSFVdcQaFQiNLpNN1888101llnZWUH8fl8NG7cOJo8eTLzhyeeeIIuvfRS5g1ERLt27aIzzzyTFi9eTNFolLZv304A6PXXX+c0NWJsMjMYRKNR+sMf/kCTJ0/m/S0ygNxxxx102WWXcfQ4EdH06dPpnHPO4ewA4nmZtD6ZTNL5559PzzzzDN83bdo0GjVqFA0dOpQaGho4Ndjxxx9Pq1ev5vRVFRUVtGTJEuYjkiTRggULaNiwYRxh/fDDDx+1/+FwmEaPHk1z5syhUChEf/rTn8hisdCBAwc4wnrPnj104okn0muvvZa1Tl555RUaO3YsHTx4kEKhEGc5WL58OWdkaG9vpyeeeILOPfdcisVilEwm6e6776Zzzz2XXC4Xj00kEqGrr76abrrppqx1mU6nOZtEV1cXjR07lm6++WZORxSPx2nv3r00YsQIpqt79uyh4cOH0yuvvMLpEO+++276+c9/Tm63m5LJJMsTEyZMoCuvvJLTWE2ePJlGjRpFBw4c4HRlHR0ddMkll9C9997LEfA7d+6k4cOH04cffsjPkiSJLrjgArr//vu5D/F4nJYtW0YnnngiHTx4MCsjgBjfpqYmGjlyJL3zzjsUj8dJlmVuT319PZ1yyik0ePBguvXWW6mxsTHrd7FGt23bRjfeeCOtW7eO5z8YDNIf//hHuuGGG6irq4vH8/bbb6dJkyZxZD8R0ZQpU+j3v/89p9VMpVLU0NBAF154IU2fPp0zKl1++eV02WWXUUNDA4VCIU4jeeutt9LFF1/McpSQQS655BK67777ODXWc889RzNmzOAUjERHl68kSaK1a9fSgAEDaPPmzUTUwyPT6TTTiWQySVdffTVdf/31PBdC7pgwYQL99re/5ewgkyZNotNPP52z7fwUjjXq/6gaVUmSUF1dzc7EIgq6oaEB+/fv5+smTpyIjo4OXHrppQiFQti9ezeqqqpQW1uL3bt3cwTZhAkT8Nxzz3FwTygUQl1dHU444QTs3r0bXV1dyM/Px9ixY7Fp0yZ0dXVBkiRs3LgRI0aMYB9K4Rzc0NCArq4ultBXrFiBxx57jE3Jx9I/cbLW6XQcWe5wONi3TPhGCl8Ls9nMjtFGo5Gj5FRVhcPhgNlsRlVVFZqamtgk4/V6MX78eAwdOhT79u2DLMv4+uuvodfrUVNTg/LycqxduxbpdJpPGiLB8YABA7Bjxw5s374dzc3N2LBhA2bMmMGqeZfLhby8PPTv3x+7d+9GJBJBVVUVcnNzUVlZiSeeeAJvvfUWPvjgA5x88snssL5161aoqsqO6tFoFJWVlTj55JOxdetWtLa2cqRteXk5Bx9ZLBbk5+ez75zf70dLSwuby4uLixEOhzlS12g0QlGUrMTFmZH1QjOt1+uRk5PDpsCysjIORskca+GHR98XBSgoKIDBYMCePXugKAquvvpqjgjdunUrRo4cieHDh3PS8KKiIjgcDpx66qnsdC/m1WQy8XuAHg1YKBRCRUUFf1deXg673Y6dO3cilUqhra0NFRUVeOqppzBt2jSOkN63b99R15+G/2xYrVZIkoTx48dj0KBBmDp1KmdOET6SwWCQA6VcLhf7d4lMI7FYLMuNRlEUlJSU4MQTT2R3J4vFgtzcXLaSiOhbSZLYL04EjYhMIDqdDgaDAW1tbejVqxemTp2KzZs3Y8uWLfD7/Vi3bh1OOukkFBQU8B4eMmQITjjhBGzatImjnYEeFzLxTpE5RQRnAj0+tl999RUGDx7Mvud2ux0mkwkTJkzAt99+yxaUAwcOsN/nT0Gn02HUqFH49ttv4ff74fP50N3djYkTJ+Lkk0/G/v37kZOTg2+//RbV1dUYMmQIVFXFK6+8gpqaGowcORKpVAotLS2wWCwYPnw4ZFnGli1bEA6HsX379qP2PxwOo3fv3tiyZQvef/99rFmzBu+99x7sdju7D7S2tiKZTOKcc85BMBiEqqrYsmULBgwYgE8//RSBQIB9BIuKitC3b192f6qsrEReXh7KyspQX18PVVWxatUqnH/++ay9kiQpK+Csu7ub513QU/G/CEYWtFDwP0HHBej7xPAi3qSpqQm9e/dGLBZj/hiNRnHyySejqqoKOp3u/7H35eFNVtv6b5M2bcYmneeZtrRQoGUGESgzCCKjjBdUnGfE4wQIKiiDiHpUHK8o6kERBTkoCKKglKkCZWihE23TNknTNnObpPv3R12L1HOOcO/Bc/zd0/d5fLAlJPn2t7+9117rfd8Fp9MJf39/hIeHIz4+nvmnGo0GkZGRCA0N5UoBOfaUlJRAr9czJ5UEvhUVFSgtLYVcLsfYsWNx8uRJhIaGorq6Gmq1Gg6Hg5v+WCwW6PV6BAUF8XWS4DoxMREff/wxZsyYgSNHjiAnJwfdunXDCy+8gIaGBhgMBgQEBCAnJwerV6/GsGHDEBYWxvzYuro6VFdXc2xgMBjg9XoRHh4Oq9XKSnidTofKykpERUXxWJLwlp5RmUwGrVaLiIgIhIaGQq1Wo6GhgSmFPXv2RFVVFYufbDYb0tLSEBgYiKioKLS0tGD69Om4//77ERYWxtWK34qvLBYLAgMDceTIEXTv3p31F9HR0XC73exoc/HiRRw5cgR9+vQBAHbLiYmJwejRo3Hq1CkUFhbC398f0dHRyM3N7eAY8c/iioGqbycpmUwGuVyOOXPmwOl0YtKkSRg+fDhWrFiBkydPsnCIlJbNzc2sJgeAxMREREREYP/+/Zg1axbS0tLQpUsX9O7dG/v370d8fDyio6MRFBSEsWPHYuvWrcx/PHXqFMaNG8eio/z8fMyYMQO33HILMjMzsWbNGpw6dYpJ7DQB/iegYIUeTgqI6KGln33flx5eIQSLjPz8/NCjRw+UlZWhpKQEP//8M86cOYPhw4cjLy8PZ86cYXHa6NGj2SaCgrubbroJfn5+yM3NRWpqKiZOnIi2tjYkJCQgPDwcX331FR5++GGEhITAz88PGRkZ6NWrF9577z0uAZ48eRI2mw2ffvopzpw5w68jwRjQLvg6efIkRo8eDblczkT9fv36sVKUBFm+1hJUXlOpVFAqlVwq0Ov1yM7OBtC+AYeGhnJQGxoa2kGY5vmlO8XfU/8RmZxKmrSQUjmCxp+oEDU1NVCr1Th48CCys7PhcDh4UevTpw+MRiMfsIibJISA0WjkIJXu86/dF4jkTp10DAYDEhMT8ac//QmfffYZunXrhhdffBGffPIJ7HY7wsPDYTQa4XQ6mc7RiU78IwQFBaGlpQUZGRkYPXo0Dh48iC+++AItLS1Qq9Ww2+2QSqUIDg6GUqmEy+WCx+OB2WzmgEKpVCIkJARRUVHQaDTsWOFyufj58vPzg1wuZ/oNqdN1Oh0UCgVz0hwOB+RyOTIzM5liQJuX2+1GWVkZVCoVbDYbDAYDnnvuOSiVSt5sQ0JCsH37dpjN5g7doFQqVQfRq/ilrGgwGPi5sdvt6NevHwsoqfMNceSoS1V6ejoqKyshlUo7CGR9Qdd9/fXX4/Tp06iurkZZWRkMBgPGjBmD3NxcfP311xBC4NChQ2wfpdVqodfrUVRUhPz8fKSlpSErKwtqtRp5eXmora2FQqHApUuXUFJScsXrp+DFYDBg27ZtzIslatCFCxdw4sQJGAwGZGVlQafTISkpCZMnT8aQIUMQGRnJ1k20F1KATsGxSqWC0WhEZmYmLBYLAgIC0KdPH0RHR7NQyWKxwM/Pj0WldNihwwgADlTJ6pAEx5SooXWRxpa4tefPn8fx48cxatQoFv+0tLQgODiYuxuSJRWJvOi9yG4yMDCwQzdIUu+npaUhPj4efn5+0Gq1uPPOO3Ho0CEMHToUa9aswRtvvMEJCJ1Ox84ICoWCOyXZ7XbU1NRAo9HwnAHaBWxBQUEIDw/H/PnzsX//fuzduxeTJ0/GsmXLcOuttyI4OJjL4y6XC7feeityc3PRvXt3yGQyXLp0iYNgoN0ZgqwyieJjsVggk8k4cDt+/Djq6uqQmJjIAT9Zb5Fom55PEvydOHECI0eOREJCAo+dUqmE0+nE0aNH+TAaHR2NHTt2YMKECVcVX1VWVsLhcGDfvn0YMGBAB8cQcuFwOp24cOECysrKMG3aNEilUjQ0NDB1ISMjgw9ERFci959rhSuq/olwTcT+8vJypKen48CBAzhx4gQOHz6MHTt24PPPP0e3bt2wYsUKJCcnIzAwEEII6PV6aLVabtG1atUqfP/995g8eTI2bNiAwMBA/PDDD3jqqafg8XhgMBigVquRmZmJoUOH4uDBg6ivr0dpaSluvfVWVFZWQqlUIiIiAgsXLsTUqVNhNpvx2muv4cknn8SkSZOwZs0aqFSqv1GG/z34qtt8bRN+rUajQJROab5ervTv3G43K+hyc3MhhEBTUxMuXryIpKQkJCYmwmAw4K9//StOnDiBoqIihIaGIi4uDhKJhNV169atg1qtRk1NDZ/ewsPDkZWVhfr6esTHx2PixImYPXs2XC4X+636+flh4MCBiI6ORmVlJaKjo/HNN99g2bJl+O6777B8+XKsXr2a+UkBAQHo3r07/vSnPyE4OJhVwEajETk5Oayg93g8LAojtSRtEKRSFkIgICAARqORlbdutxsGg4GDXrLD8ff3R0BAAC/uQEf/WuIW01jT/fENVOn1QUFBfJiixcxsNiM2NpY3xvLycj5pk2esUqnkDZpAPoa0SAohUFBQgD59+iA5ORlutxuRkZGwWCyYO3cuxowZg71796K2thYrVqzAunXr8Pzzz2PEiBEALqtoO9GJ3wJtPMOHD0dJSQneffddpKamspcieX06HA7OiNbX1yMkJARGoxF1dXXc3jAoKIg3PnpG6LmlwIKyVR6PhzNrGo2GHUOcTicMBgO7gQQEBKCurg4XLlzooGZ3Op14+OGHMXz4cERHR0MqleL48eNISEhAXFwc+6YSZxS47F9NFSjiR1JryNraWshkMgQHB3OygTxhydeYNnFyA6F1w7f6Qp+VnJwMpVKJuro66PV6REdHIyIiggW+pNLOz8+Hw+GAXq+Hw+FAbm4upk+fjpSUFHZDKCsrQ3JyMoYNG4aioiJERUVh4sSJv3n9TU1NaGlpgcFgwJNPPonNmzdj27ZtWLJkCSvj6+vrERUVhQcffBCjR4/GTz/9hICAAN438/Ly0NzczF6vNA4ajYYdXkjcVlJSAiEETp48if79+7PVGNmZAZdbWPpaOPmOHznFEGhd/PXYAu1CnLS0NERFRcFoNMLhcF87PBQAACAASURBVLAllr+/PydhaI+ktZtcBSgbTQEdBeP0+tLSUnYNoPH69ttvYTQasWnTJvz3f/83Xn31VcydOxezZs1CbGwsIiIi2AKT5rzH42HXF7fbDX9/fxiNRg4gKQvbr18/9OvXD/n5+Xjsscewbt06zJ8/H263G8uXL0d5eTk2bdqE3r1749SpU3jttdfYWk0ulyMkJISDvba2NvZ3paDZYrEgLy8PTU1NaGho4O/n7+/Pvq4AuKLi9XrZkaekpARpaWmIi4vjSgdVf6nF+YcffoiCggLMmDEDL7/8MmQy2W/GVz///DOcTieamprQv39/thwli0nSdZAl5YkTJ9C/f39O5iUlJeHEiRMoKSmB1+uFSqVCQkICrFYrzp07d82SNVcMVOPi4mA2m3nDTUpKYv/LhIQE5ObmMil69erVcDgcbElCUTV5nQLt3mrjx4/HqFGjuIw/c+ZMrFu3jktWQHt2Ky8vD0eOHEFZWRl69uyJUaNGdXhYyBYiNTUVffr0wcqVKzFz5kxs374djzzyyFUNgFQq7VBKpj+prOYbyFC/YHqN2+3mYIuCG6D9NNmlSxdkZmZi165dqKmpwcSJE6FUKpGdnQ2FQoHvvvsO5eXlWLt2LZ86s7OzsWfPHqSmprJtCdlfHDp0iIM2Kk/ExMQgNDQUBoMBQ4cOBQCUlpYCANLS0mC1WrFo0SIMGTIEXq8Xzz33HHbv3o0bb7wREokEcXFxcLvdGDNmDPz9/dmT8ezZswgJCUFISAhnZSgo/7VNl1QqhcPhgMPh4NIEuUMYjUZER0cjNjaWeyyTT6tvEwQCbTpEByBzZAL5yEqlUl78Ghoa+EQ3cOBALF68mLNEtMkPGjQIMTExqKmpQffu3REYGAi9Xo++ffv+zef73uu2tjb07t0bRUVFqKqqQteuXdHS0sLZroSEBMydOxdWqxVz587Fs88+iw8//BBZWVmIiYm5ajPjTvznwm63s8o+Pj4ed955J+6++25s2LABVqsVmZmZsFqt3EObshxdu3aF2+1GeHg4wsPDIZPJOBghCg1tzBSotra2/o24lBS41CucbJLCw8P5IEeir9TUVPTr1w8Oh4MFIJGRkRgzZgxXKaZPn95hfSCXFVo3KRCi5iiUNW5qakJmZiarwwMDA/mg53a7cfHiRaSlpUEqlaKuro5FnX8vm+r72TqdDr169cKPP/6IyspKjBs3Dv7+/ujRowcUCgWOHDmCwsJCjBgxgte88ePH49y5cxg+fDh/J/L8pOugqtCVrp/Kt1OmTEGXLl2wZs0a3HTTTcjOzsaoUaNQV1eHQYMG4fz58xg/fjxiYmKQkJDAew3RA4KCgjhwp0wdZdNdLhciIiJQWlqK+Ph4xMfHw2g0Qi6Xs2hNpVJBLpdzkOYbhBAoOeCbQKB1mP7ed+5IJBIuDatUKhQXF/PPISEhUCqV0Gg0bBJP3udtbW1MKyA/VF/KCY2z2+3G0KFDkZiYyJ7YEokEYWFh8Pf3x6pVq1BSUoLt27fjwIEDGD58OF8r+XyScX14eDjbItK12+12zJ07F2vXroVOp0NaWho7wYwcORLvvfceNwT68ssvsW/fPmzfvh1dunRBRUUFcnJykJaWhpaWFhY1JiYm8kHSNyg3mUzsAEHXR1lfiUTCB0zaAynLbLPZoFKpkJqayskW+l18fDwcDgfHCkC7BWZ8fDymTp2Kuro6xMbG/mZ8tWvXLhQVFSE9PR25ubnsHw+0O2g0NjYyJSgrKwtFRUUYOXIkB/YKhQIVFRWYPHkyevfujdraWhQVFUGj0VzTiuIVS/+khCOLjYKCAsyePRtLly5FWFgYZ99GjhwJt9sNp9PJk99gMPAp6ezZs7h06RIaGhrQ1taGHj16AGhfqLds2YKqqiokJSWhqqoKQHuA3LNnT+zcuRObNm1ijqDX64XBYMD69esxdepU9lcj5X6XLl3Q2NjIFlZXApld06SmiewbwNLPQPviR6dL+o8eYFq86OeBAwfi7bffxuHDh/l64+PjkZOTg++++w4Oh4NPnjqdDj169EBjYyP27t2LiooKtLa2wmQyobq6mj0EZTIZQkNDsWXLFphMJrS0tDCf5Pjx46wSJu5Q165dYTKZcN1112Hu3Ll48cUXcf78eQQEBCArKwvV1dV466232JSY3o+sOygAp9IEjQddd0REBBQKBXQ6Hfr374+TJ0/i1KlTEEIgPDwcBQUFnCUh/1tazMjMnyfjL8b/dKL3PdVTxtbtdvNn+2Zp/Pz8kJqaCn9/f7z66qtobGyEWq2GXq/HwYMHUVpa2sEAuq2tjceKNjvfkiT9/uDBg+zmUFdXh8DAQOzatQuxsbE4c+YMc2R1Oh0aGxu5yxkdPjrRid8C+SzS3IuIiMBtt92GHTt24NixY5DL5VyVysrKQlVVFds7tbW1oaysDI2NjR24hVS2pUoDBRUUNNIcp0AVuLwOOp1O9qA+evQod7wi1XNmZia6deuG5ORkjB07FkePHsWJEyeYegAAhw8fRkVFBcrLywGgw+fSGktZVcoSarVajBkzBkVFRTh8+DCXis+dO4fXX38dycnJHKi2traioaEBISEh/7D0T58rk8mQnZ2NL7/8EoWFhcjLy4NUKkVISAjy8vLw1ltvISIiAtdffz3cbjfOnDmDhoYGlJSUYPfu3QDaOwFSlnL//v0A2i3oRo8efcXr1+v17FOak5ODsLAwPPTQQ1i5ciUuXrzI2bzKykq8++67uHTpEgwGA+85H3zwAWfZKKtOgQRRAgCwRkOhUGDy5Mk4d+4cr3ktLS04efIkTp48yQcjOqD4ZqFpDtK6SplOGl9K3tDc8R3nrl274siRIzAYDOxzDQDHjh1jDi7NQwpKqepK2UOintFzIZFIUFBQgOrqaiQlJXGGbvPmzWxDlpOTgzFjxuDs2bPo0qULVCoVqqur2fea/LzT09NRVlYGj8fD2UuKU95//33Ex8cz9aV3794wmUzcwMBsNrM1ZPfu3bmyZzKZsHfvXrZZk0gkXN00m81MsVAoFBg0aBDTJ4F2ncTFixe5ZE6HSYpFaHypgUJOTg7PTYvFAovFgpKSEtTX16OpqQmVlZV8kKXGOeSH+1vx1aFDh/Dll18iLy+PvZ79/f1576KOkn5+fhg8eDBKSkqYK15dXc3PCVGOIiIikJmZyfPuWuGKGVUykaX2npGRkRgwYAC2bduG8vJyrFixAh988AH27NmD7OxsqNVqBAQEoLa2FomJifjqq69QXFyMyMhIJCQkYOjQodi0aRNzOGpra7F161bU19dzGYoytunp6cjMzERVVRXGjRsH4HIZgsyFV6xYgeuvvx4hISE4ceIECgsLMXXqVGRnZ/9Np5Hfgu/iTUGqbxBKr/F9sH1PZ748GwqIcnNzodVq0aNHDyQkJPDJNDU1FatWrcL48ePRu3dv6PV6eL1edOvWDVOnTsW7776Lc+fOYf78+RBC4Pnnn0dsbCzmzJmD/v3745FHHsHNN9+Mu+++Gw888ABkMhkKCgrw888/Y9GiRVyCCQkJwblz5zBixAgoFAqMHj0aH330ET7++GPEx8cjKysLGzZswLx583D8+HEsW7YM5eXlWLp0KZRKJV566SUOUH03BN+Azmq1sogsJycH+/btwzvvvIOEhAR069YNH3/8Mfbs2YMBAwbA4XAwod+X2/uP7gdtasDlxg4UqNLJPyIiAtXV1cjKykJ4eDjuuOMObN68GUqlEr1798aFCxewc+dOGI1GPt0rFApuJuCb1aUTLc0BABg/fjyef/557Ny5EyNGjIBGo8GQIUOQk5ODpUuXYtGiRVAqldi7dy8KCwsxbdo05gn7NnHoRCf+Hmh9oudBIpFgzJgxGDt2LL755hsYDAbmdqenp7M/KmWMfvjhBxw5coQN6+kQTWIoAmXRqGJBIMN66rjk8XhgNBrx5ZdfoqmpCbfffjuCg4Oxd+9e7NmzBytXrmRu3IgRI/Dee+/hoYcewiOPPILg4GC89tprMJvNePLJJzFo0CBUVVUx75HWU1pffc3GrVYrunbtigMHDuCdd97B4MGDkZKSgm+//RbFxcV46qmnOLBISEhgGz4A/zBYpQMstVDOzs5GREQEG40PHjwYa9euxaxZszjQyM7ORnZ2NoqLi7F69Wro9XrMmTMHx44dw8GDB6FWq5lOcP/996NPnz6/ef16vR719fUYMmQIGhoaEBoaiqFDh+KHH37An//8Z7zwwgsYPHgwFi5ciJdeegmRkZHIzs7GkSNHsGbNGgwaNAgXL15Ely5dmHZFpXuiJMhkMrhcLigUCjQ3NyMnJwdvvPEGFi9ejNmzZ0Ov18NsNqOsrIwb1JA9om8S5tdzkvYr39f4+pJTsBYWFoYlS5Zg0qRJuP322zFw4EDExsbi+++/R0VFBUJCQjh4omQDVQjIRoyyiG1tbcxv7dGjB06ePMnl/ISEBEyYMAEffvghjh49iptuugk//vgjdu7ciaFDh6K5uRkajYbF3qmpqWhtbeVOSUVFRZgwYQI/T6GhoViwYAEWLFiAwMBA9OnTh+0Tly1bBoVCgYkTJyIqKgpDhw7FY489hvT0dNxxxx3IyMjAp59+iqqqKmg0Go4FyB6uvr4en3zyCRISEpCXl4fY2Fjs3LkTjz76KG666SYIIfDwww9DLpd3oOrQs0r6EIPBgLi4OEyfPh07d+7Es88+i+HDh0On02H79u04deoUVCoV0tPTAbRXvD/55BP4+flhzJgx+Omnn34zvoqLi0N9fT1yc3P5vpLQnZpX+Pn5cUV79erVeOihh5Cfn4+srCy88sorCAsLw4IFC7jJEInfrmVXxitGcZQhJB/A5uZmLF68GIsXL4bT6URKSgo++OADZGdn48MPP4RKpYJarUZ0dDRmz56NyMhITJs2DVu3bkV1dTWWL1+OOXPmYOXKlXj11VdhNBqxfv16TJkyBTt27GDBUFNTE9LT0zFw4EDk5OSgZ8+ecDgc3NJ13rx5WLNmDfz9/bF48WLMnz8fP/74IzZu3IgxY8agrq7uqoJUEkr5BqfA5UCJJpAvz8s3YAPwN9lYKs3ExMQgOTkZPXv27JA97NWrF2JjYzFr1ix4vV7ExMQgJiYGXq8XS5cuxeLFi2G32zFgwADceOONGDx4MB599FEMGDAAXq8XYWFh2LlzJ7p164Y777wTkydPRnl5OWbPno38/HzI5XJERERwVys66UulUqxduxZffvklVq9eDZVKhWHDhqGgoAAejwddunTBrFmz0LNnT7z66qucxaYyjW8p27f7C5WT8vPzMXfuXDQ1NWHjxo1YsmQJpk2bhrFjx6Jnz57QaDRwOBxwOp1oaWnpUA4k0APqcrm4VMOT9RfODgWqEomEW705HA5ER0dj3rx5mD59Ot58801MnDgRP/74I2bPno2RI0eyEAVoPw3S+/+ae0WnfmpXt2jRImzevBkvvfQSTp06heTkZLz++uvIyMjAzJkzMXXqVBw8eBAPPvggpk2bxgcpX5eDTnTi74FKflTKlcvlkEqleOaZZ9jZJDIyEs3NzWhtbcXSpUvhcrnw4IMPYvny5ejevTv69OmDnJwchISEcCtUoP0Z9c2IEYWH1jQqP0okEtTX13OTipycHMyZMwcPPPAANm/ezJnTDz/8ELfeeiuA9rWvT58++Omnn5CcnIwnnngC+fn5UCqVeOCBB7jESBksEpv40qfInJ061owZMwZPP/00/P39sWHDBowaNQrl5eW47777MGbMGH6/hoYGdO/enbsyXQkZGRno2rUrxowZw3w/k8mEbt26YdiwYejduzeLRqxWK5xOJ5YuXYp169bh8OHDGDZsGB555BEMHjwYN998M3MyAVzx+iMjI+FwOGAwGFhgnJCQgLvuugufffYZ3njjDQQEBGDJkiVYsWIFNm3ahJEjR2LGjBnsQ56SksKd8ugeU8YrMDAQ9fX1iImJQWlpKaKiopCXl4dVq1ZBrVZj7ty5+PzzzxEbG4sbb7wR3bt3h8vlgtvt7rAvEH7tqkKJIeLu0+/pz7CwMJSVlSEuLg7r16+HXC7H6tWrsXnzZnTr1g0DBgxAdnZ2h5aelEElRxzaeynL7u/vj+TkZAwfPhw7duzAM888gz179kCj0eC5557DpEmTcOrUKYwZMwafffYZpkyZglWrViE+Pp65oampqbDZbPxMJSQk4NKlS7wmEx1h3rx5uHDhAsxmMzZu3Ihx48bhoYcewsKFC/HOO++gX79+aG1tRXh4OL755htcf/31WLZsGZ544gn069cPU6ZMgUwmY+chhUKB8ePHw8/PD4sWLcKZM2fQ0tKCyZMn46OPPsKRI0cwatQorFq1Ck899RR3gKOxUCgUUCqVrPGIi4uD0WhEdnY21qxZw/qIZ599FgMGDMCECRN4rplMJqxcuRJPPPEEvvvuO4wZM+aK8dWECRPQvXt39noFLvvmezweBAQEsIjxhhtuwEMPPQSHw4GlS5eyw8/ChQvRr18/jjcCAwOhVquvrY/41fio/p5wuVyirq6OPc/Id0yIdi+vyZMni7ffflvo9Xr+vclkYp9KX79U8oyz2+3ipZdeEomJiSIwMFAAEACETCYTUqlUJCQkiGXLlnV4z9+C1WplD9DDhw+Lm2++WWg0Gn5frVYr5HK5ACCGDh0qvv32WyHEv2b8/n9CXV2deO6550RsbKwAIIKCgoREIhFSqVQAEJmZmeKll14SdXV17IN4JZD/H8FqtfL8Ja/WwsJC4e/vL86fP8/zheZbJzrxz+BqfFT/yCBfU7oGug5fz+lrAZvNxj7E5M1IPtC/hfr6eiGEYL9jei9fL+tO/PvgdDrZ25PWVlq3m5ubxT333CPuvfde9h4l/1chBHuw0notRMf939ef9n+LhoYGIYQQ586dE3l5eewl6ovGxkae6zQ3hRAd9pX/La5mHXC73cLhcFzVfvc/BY1nVVUVP2++43ql+Or3xtX6qF6x9P97IzAwEJGRkfB4PGwBlJCQALfbjbq6OjgcDiQmJjIP0+12s+WGzWbrUJKg0zvxdHQ6HRISEpgfQyratrY2dO3alVumXQm+6vC8vDzcf//9mDFjBvuhUWaAOmP07NkTAP6mpPKfCJPJBH9/f7bQmTx5MpOsY2NjOatJPLuePXuyJdTfs676NcgShmynyE+vb9++TFb/6quv0KtXLz5dCyG4j/XVUkM60Yn/iyARJYlOALBym7Kg/wyampqg1WrR0tLCLS197ZCuBGrdSPZK5GHciT8GgoKCYLPZUF1djTNnziA1NRURERGQyWRobGzE4cOHMWvWLJ5LlKkjYTBlUsUvntjkUECev/8syCJJKpVyS9fY2FgkJyezVgK4TL2h6pxCobimPqD/CESFoc8nkSG5JVC29H8LcvYg1T5pKgCgoKDgivHVlVyT/lX4tweq5eXl7A1GbbYMBgMr+Xr06IGMjAwA4LIVgTzegMs8JeIyxsfHY/r06X+XJ0GcmKvhsLrdbuZ20Ht169YNvXv35gWX6AC+k408Qv/Tld+/5mn62mtQe0HizlmtVn4w7HY73G4384n+Edra2lhEYjKZ8PPPP8NkMqGyshKpqanYvXs3du3ahTvvvBNRUVEsCPAVy3WiE/+pICqNb1AaFBTEPMJ/9rBN6zM5EACXA1QyLv8tiF+oQGSPSGt2p/XbHwfiF9HpW2+9hb59+2LatGmor6/HypUrERERgfHjx0OhULBlFIAOtoO09kulUg6SiE52NcmKK4EEbSkpKYiJicHOnTtx3333sSuM7zxSKBSwWCwscvy94XK5mHpIMYxSqbxmAWJgYGAHcbtcLselS5ewYcMGmEymK8ZXfxT823fq5ORk7mJBas6//OUv2LJlCy5cuIC5c+dyho26qxC/kW6A+IWvSHwv4sH4esjRf/Q+QUFBzJX6LRBPkYz8AXBmoK2tDU6nExaLhdWXANhC6T89SAXAKkaywPHz82OPW4vFApPJxKda6hYCtJ9wr6YXsMvlgtlsBtBOJL/55puRnZ2N999/H4MHD4Zer8fgwYMxZ84cFh3IZDKo1Wq2CulEJ/5TQSpy6jxotVqZP3gtXCvocP9rHmRra+tVBcEymQwWi4V/pmf211Zbnfj3gLwzZ8yYgZUrV6KmpgaDBg3Cvffei9zcXNxzzz1IT0/vsP8C6DC/SAdBc0UIAYfD0UG49c98P/INNplMePLJJzluIO2Jn58fLBYL81dJVOj7ff+3uFKwp1QqO3S69LUDuxagMSZrsICAAJw8eRIHDhxAa2vrVcVXfwT4tbW1iV9bLJEa71qcqK8GJJyh0xb5ktHpin5HE9nhcLDtBC1Yvjf71xlO4PLkJ7Xp1YJEDr+GbwaQxD2+QgFqxfmfjoaGBlZ7CiE6jCV5ldLJmqgbAFjN+j891TU2NkIqlUKj0QAA++ABYNsUau1ot9vZhaATnfjfgA5ZlOkjcZ6vY8UfHXS4p8M2tcy8FhUHslDyFeRQNetqM1Zkz0Vd8pRK5T9clzvxrwVlJYHLZWvKBtIz4OfnB7PZzCbx1BjHZDJBoVAw5YT2VKfTCY1G8z/ap/8RmpubERwczO4EQHvLb+q2RTaG5COsVqtZyERWlNcS4lfiP2rUQLENrRnUAOFaOMcYjUaEhoby82yxWDjeIxrAP4qvfm/4VlSpaRJ561LMAPwBAlXfQIJA5Xbq2BAYGNihJzUAVqiRiS6dyoDLFhrUkYLsHuikQHYbvuX8fwTqhUvfi0rWZEHk5+fHZS3ievkGW1eTFfxPAXVU+XXZnXhyxE2ie+V7+LjS+9psNjbFBtrvlclkYh5yQ0MDgoOD+f40NDQgPDz897nQTvzH4P9CoGq32zuYrbe2tsLtdl+zjIovpQe4HJBc7SHx10EpdbK6Ei2oE/8aWK1WWCwWxMbGAmjfmxsbGxEZGQmJRIKmpiZuy+rr3EPNKVpbWzlY9aXjEVf0nwEFYMSVrqmp4e/590Bz/9ettK8FaK3w/ZOSbEDHZhLXEpTMa2trg9VqhUKh4CCUxue34qvfE1cbqP7bS/++Jwar1co2D2T+SwNG3UwIvgEMBTTkL+drf0StAoH2QVepVNzn+Gp8vsg6gkoTdOOoNE0PmsfjQVBQEJv8Unn5Px106HA6nXxIAMAZFiq/iF8M/ckehWx6rgTqpx0cHMx0AqPRCLfbjejoaFRXV7PnItn10MbciU78p4M2ZbJ9amho4I5I16L06XQ60dzczBsRPd9XS7ux2Wzw8/NDZWUlG43b7Xa21+rEvxfNzc1Qq9WIjY1FS0sLKisrERQUhOjoaFgsFrZe8903qaJF+zAFSS6XC+fOnYPNZgPQnsT6Z0FdCLVaLdO+mpqaAIArCBcuXGALJt896VpSS3yDU9//aE7TZ1PTgWtFPQDag0G5XA6JRIKoqChoNBrU1tYCwFXFV38E/NsDVTpxeb1eqNVqREVF8U11u90dTt3Up52893x5pr5qUvIyJZNrr9fLDwO97/9kElAmEPhbz0/fjhSUySUHgE4OFVjZKZPJ2CuOTky+f+9LrHc4HDCbzVfV2UKhUHRQSmo0GoSHh/MBJS4uDkIIPkE6HA6o1WpotVoYjcbf78I70Yn/D0CK46qqKqxduxZr165lk/5rsVkdP34cJ0+eRFVVVQeu6dUeFFUqFUpLS7Fs2TK8/PLLsFgsCA4ORlhYWCfH/A+A4OBgtLS0oL6+HoGBgVzBslqt0Gq1kEgkvPbSoSMwMJB1BdQIwM/PD2fPnsW6deuwadMmeDweJCUl/dPfTwjRIYYIDw/nzCo1HNqyZQs2b96MyspKFmj77lG/BygWWbRoEV577TV2PKLuYv7+/tckmfLBBx8gPz8fBQUFkMvlHPwTR/hK8dUfBf/2QBVo7ynr26KUMp2/7ilPYhtfXotvmpz+LdlGEQIDA/lhANChRHw1kEql3JfYF1SiIBIy/axQKKBSqf5wp5J/F35dwvfl/vhmWKl7jUKhQEhIyFXdI6VSyXQM3/kil8v5M3xLPb40k87Sfyf+VfA1v25ubuYOPFu2bEGfPn0QEREBjUaD8ePHY//+/RzUkcCU4JuBsdvtHQ7Dra2taGxs5AMedZ2iw58QgrNItbW1HdoQJyUloampCY2NjYiJiYHb7Wb1M70vgA4HcLoOQllZGYDLB3un04ns7GxUVFTg9ttvh0aj4fdRq9XcnYgyXHSdHo+nQzZNLpfDZDKxcMe3YQCNA9DOZfUFjQVxYum96d/T59GYUPaPGiI4nU7+bg6Hg1uY0s9UwQOA0tJSzk5RZ0AAHJD5Nv+g39Hnejwe/hyTycRJlLKyMv693W7n66Pxpz/r6+sBtM8x+hzfQ7jX60VVVRVfN4lY6e/ILorGqLa2lv+f3o+ynAS73Q6n0wmTyYTAwECmYdB3VKvVaGxs7DDutEe6XC5ERESwsp9ek5SUhJqaGrY0JFADGN95DbRnXGmsHA4H9Ho9H16orE6BJ2V1ab7FxsZyy+KKigrYbDbodDp+z8bGRt5/GhoauDWp77j7zn2v1wuLxcLi7V/fa6IJkpk+0SVqa2vR2tqKuLi4Dm29Cb4/U9MPSswQbDZbh/nm+/0CAgJgNpvZakun0zH1QiqVdnh2ZDIZNy3wpeY5HA6eYw6H49/SyOYPEah2ohOd6MT/RdDm5nuI0mg0MJvN+OCDD7B06VLcd9992LhxI7Zu3YqUlBTMnj0bGzduBNB+gCNRqcvl4o2moaGBD2nNzc3cH16tVvNGSTQkr9eL5uZm3rRtNhva2toglUphMpm457tUKmWuf0BAAPdTl8lkLLpQqVTQ6/WoqalBcHAwLBYLb8Z0IPR4PEzfCQgIQHZ2NjIzM/HJJ5/w5k7dqKRSKbRaLaxWK0JDQ3HmzBmMHj0a27ZtAwBui0kiHNJOmEwm3kwrKyvhdDoREREBRMgkgQAAIABJREFUIQQHG1qtlvvJ22w2DoDcbjeqq6sRGhoKq9XKgQhREshLUy6XcwBGOgQKhChp4vF4YLFYkJqaiqCgIBQXFyMwMBAKhQL19fXMzW1ubkZlZSWA9kRJZWUlWwVR1ynxS6enpqYmnDp1CikpKdBqtXj88ccxc+ZMxMTEcMnYbDZzYBwZGcltvJVKJex2Ox90KioqIJVKERcXx8HcmjVrsH37dhiNRnZkIbcHm83GlDagPRHQ1tbWgWNMwZhcLmfqHvW3T0pKgtVq5XI7ieZsNhsuXLjASR/gcladAsK2tjZotVoolUq2eKRuaVKplCkqjY2NMBqNiIiIQEBAAFO9YmJiIJPJUF9fz2IommvUeQ0A31ObzcZq+MbGRqhUKkRGRkKpVDIVoampCaGhoVCpVHC5XBzQU0a0paUFJpOJ5ykFhzabDQaDASEhIXC5XMz3poBPp9PB4XAgJSUF58+fZz/Z0NBQnD17FsBlERR91+DgYO5+6e/vj5qaGjQ3N0OlUkGhUODw4cPcrraqqoqFi5Q9JX4w3VsSJu7btw+5ubk4evQopFIpqqurERgYiMbGRlRUVEChULAzAFWRKysrOQv8r0BnoNqJTnSiE78zKENEws9Lly5h/fr1uP/++zFhwgTk5+dj9OjRePnll7Fq1Srs2rULu3fvhkQiQV1dHaqqqniDp+CxpqaGhSoREREd2l02NTXBYrFwGT86OhoulwsGgwEqlQqxsbGs2KYe5U6nkzncVqsVNTU1ANrbhBK1prq6GvHx8dysQ6vVcjBO7gHE8aPvmpubi4EDB+Ldd9+F2WzmbBf9G6C9ymIwGFBRUQG73Q6NRsPiDpvNhujoaERERMBoNEImkyEsLAwSiQRGoxFZWVmcdSX7O8qmUUCr0Wi4BE391e12O9RqNeLi4jgQowyWrzq7urqaAwzKVPr7+8NisUCpVEKj0aC8vBwWiwXJycmsTaD2qY2NjYiOjkZCQgJsNhsUCgXCwsLQ0tKChIQEfk+r1QqXy4Xw8HBER0ejsbER1dXV0Ol0sNvtOH36NLxeL/uLKpVKvmcUyNXU1EAqlSI1NRWXLl3i8nl9fT00Gg28Xi8OHDiAb775BjqdjucPZacdDgePxfnz53nOAu2e57W1tazZsFqtHKyEhoZydYyyqX5+figtLQXQXn1MTk4GAOZhkh4FaHdkKSsrQ2trKx8u6L4pFAo4nU4YDAaYzWbExsYiLCwMTqeTBbhUwq6rq4PT6eQmPPX19fDz80N8fDw0Gg2kUimqqqrgdDqh0+mgVCrZx722thZmsxlGoxF2ux1BQUEc3FKmmKiEdA1OpxNhYWEd2hfTtVP1rqCggOc7jQEFjcXFxejfvz/Pu5aWFmRlZaGuro4zvDRmQEebqdjYWDb0B9r93V0uFwIDAxEfH8/3TqfTsVUn8YJbWlo4M+pyuXhNKi0t5Xa3Op2O509RURHsdjuvY1qtln3v/xXoDFQ70YlOdOJ3wq8VvJTtbGpqwtmzZ5GTkwOdTsc0FCEE+vfvD51Ox3Z9zz77LD788EO43W40NTVxCfTpp5/GRx99BIlEgtraWkyfPh3Tpk1DQUEB3nnnHQQHB2PRokV45513ALQHjRSsffHFF7jzzjsRFBSECRMmYOfOnZz50Wg0LJDZv38/fvzxR8TFxUGtVuO5556Dy+XiMuT8+fNxxx13oLGxkW2tLBYL7r77bowdOxb+/v7QaDTIzc2FyWTC6dOnOTNKGcn6+npUV1dj+fLlWL58OQoKCrBgwQIMHDgQLS0taG1txZEjR3Du3Dno9XpMmTIFAQEByM3NRUVFBaqrq+FwOBAVFQWv14tjx47h+eefh5+fH3r16oUFCxagvr4eMpkMJ06cQE1NDRISEqBUKuFyuVBXVweTyYSvv/4aDz30EGJiYjB06FBs374dc+bMwY4dOxAaGoqWlhY899xzWL16NZqbm6HValFRUYFz585h5MiR+OqrryCTyeB0OuFyufDjjz/irbfeQlhYGJKTk/Hmm2+ioqICADjILC4uxpo1axAdHY3g4GA8+OCDuHjxIo9Vz5498cwzz2D//v2YNm0a3n77bZw/fx7BwcFctg8ICEBrayscDgcqKysxfvx4SCQSTJo0CY899hiPzapVq9CnTx+YzWZs3boVCoUCBw8eRF1dHYQQqKqqwt13381B1ptvvony8nIEBQWhsbER77//PpYsWcKOEBKJBAkJCZg7dy5uu+02uFwupn8UFhZi4MCBmDZtGqZMmYL9+/ezmLW2tpaDz5ycHCQlJWHWrFm4cOECIiMjYTAYmENKQRhpDyIiImC32/HMM89g5syZ0Gq1mDBhAtavX4/KykpERUVBq9Vi//79SExMxOnTp3Hfffehe/fuWLVqFaxWK+Lj4/kAVFZWBrVaDSEEtm/fjtmzZyM/Px8PPvggNm/ezMEYBfCtra346KOPMHPmTKjVaixYsADPPvss6uvr4fF4oNVqOfO5bds29OzZE/PmzcPYsWNxxx13oK6uDkB7hj0tLQ3Jyck4ceIEl+8dDge/Z3NzMwe7hYWF2LRpE6KiopCYmIhXX30VFy5cQGhoKFwuF/R6PaqqqrBixQr0798f/v7+eOihh3D69GmuFtBhRiKRcKA9fPhwjB8/Hg0NDXj88cdx7733QqVSobi4GB6PBy+88AJuu+025OXlYeTIkXj55ZdRW1uL4OBgPrz9K9AZqHaiE53oxO8IEicAYE5eWFgYBgwYgG+++QYAcPHiRQDt/EGdToc333wTffv2hdfrRWlpKc6dOwev18ueixSQOZ1ONDQ0ICoqChkZGTh79iyef/55mM1mfP/99wgLC8MLL7yAvXv3AmgPVvfv34+XX34ZbW1tOHDgAMaNG4fvv/8eW7ZswaVLlxAQEICGhgZ8/vnnWLhwIcrLy/Huu+9iy5Yt0Ov1uOmmmyCRSKDVajFixAiUlZWhqKgINpsNZrOZOZfjx48H0B58x8bGol+/fvjhhx9gs9m4dC6TyRAUFITMzEzcc889WL58Ofr374/HH38cX3zxBaRSKaKjoxEXF4dt27Zh9erVmDFjBr7//nvk5ORg8eLFbCHodrvx9ddfY926dairq8OhQ4fw2muvQSKR4I477kBlZSVyc3OZolBWVoagoCBERUWhsLAQ9913H/z8/PDOO+9g+fLlePPNN3H+/HmUlpZyME1lUfLmTEpK4u4/ERERaGpqgkKhgNFoxNNPP43Dhw9j27ZteOmll/DFF19g8eLFPBeqq6tx6623oqioCOvWrcPRo0dRWVmJKVOmoKamBt27d0d1dTVmzpyJGTNm4PXXX8f48eMRFxfHImRqRKNUKvH2229j5syZuO6667Bnzx4sXrwYP//8MwYNGoSamhosWbIE77//PoYNG4Y5c+agrKwMvXv3RlRUFPbu3YtJkyYhOzsbhYWF2LJlC0pLS7F48WLO7kVHR2PPnj0oKChAQ0MDpFIpjh8/DqlUiry8PERGRiIlJQWPPPIIVqxYgdtuuw0vvPACAgMD8eyzz2LdunXw9/dHSkoKPv74Y/Tv3x8jRozA66+/jtmzZ+P999/HG2+8ASEEEhMT0dDQgICAAJSUlABoz7o3NzfjgQcewN69e5GZmYmPPvoI/fv3x86dO7FhwwYA7dk+p9MJr9eLSZMmwWAw4JZbbsGsWbOgVqtRX18Pg8EAmUyGlJQUlJSU4M9//jMKCwsxfvx4LF26FFFRUbjrrrvwxhtvoL6+HmlpabBarcjPz8eqVauQn5+PI0eOoE+fPjh69Cg2b94MuVyOlpYWGAwGvPLKK5gyZQr+67/+C2+99RZuuukm6PV6rF+/nmklZM3p7++PxMREKBQKbNiwAcXFxbjhhhsQGhqK+vp6FBcX49FHH8XOnTtx6NAhbN68GV988QUefPBBDrTVajXefPNNvPzyy7jnnntw6NAh6HQ6nD9/Hnq9/m/47ORK9NJLL6GwsBBtbW144403sGHDBlRXVyMjIwOrV6/G+vXr0atXL3z++eeYNWsWvv/+e8ybNw8AmA7wL0FbW5sQQgiPxyM8Ho8AILxeL/+uE53oRCc68ffR1tYm2trahMfjEbSWAuD/F0IIi8UibDYbv97r9Qq73S4++OADAUDMmzdPvPfee6K5uVmYTKYO/661tVUsW7ZM3HXXXaKhoYH/rrKyUkyZMkU8/vjj/LqpU6eKCRMmiOLiYn6d2WwW/fv3Fxs3bhTNzc1Cr9eLJ598UkyePFmcP39eCNG+zhuNRnHHHXeIhx9+WNhsNlFcXCy2bdsmXnnlFVFdXS2EEEKv14uSkhIRGhoqdu7cKbxer6ioqBDdunUTa9as4c/ctWuX6Nu3r/jhhx9EW1ubsNvtwuPxiK1bt4pBgwaJkpISfi3tNXRtdXV1IjU1VXzxxRdCCCGampqEw+EQ48ePFwsXLhRer1eYzWZx/PhxcerUKdGtWzfx4osvCpfLJTwej3j44YfFkiVLRFFRkTCbzcJqtYpjx46J6667TrzyyitCCCFKS0uF2+0WQghhtVpFcXGxuO+++8TixYvFsWPH+B4YDAaRm5srNm7cyN910KBB4qmnnuowB06dOiWGDRsmPvzwQ3Hq1ClRVVUlFixYIObPny+sVqsQQgi73S6+/vprcdNNN4mvvvpKFBcXi59++kn07NlTVFZW8nsVFhaK+fPndxjPhx9+WAwZMqTDmJlMJuF2u4XH4xFWq1UYDAbxyCOPiCeeeEIYjUZhNpuFEEJs3rxZJCUlifr6emEymYTL5RI333yzuPPOO3kMGhsbxYsvvijuu+8+YbFY+HcHDhwQwcHB4uuvvxZer1fo9Xoxfvx48f7774uysjIhhBDffvut0Gq1Yt++fUIIIbZt2yZ69OghCgoK+Pu2tLSIF198Udx4442ioqJCuN1ucdttt4nbb79d6PV60dzczO9/yy23iLVr1/J3oznR0tIibDab+PTTT8WQIUPEJ5980uE5eeONN8SwYcPE4cOHhRBCfPrpp0IikYhXXnlFtLa28j1oaWnhOUfXedddd4lJkyaJs2fPCqfTKYQQwmQyiaVLl4pFixbx81RQUCBGjRolduzYITwejzAYDKKwsFBs2bJFJCQkiD179gibzSaqq6vFiBEjxEcffSTMZrPweDyivr5evP/++6JHjx5i8+bN/DwlJyeLTZs2iYsXL4rly5eLjIwMsX///g7PxB133CE2bNggnE6naG5uFhaLRZw4cUIMHjxYbN++XQghxNatW0VaWprYu3evsFqt4tKlS6KtrU0sXrxYZGRkiNLSUuFwOHjOeL1eXqPOnDkjAIhjx47xuJw+fVrk5uaKL7/8UlRVVfHvd+zYITIyMsTXX3/N68I/A4ox6bvQvXK73QIAv64zo9qJTnSiE78TfD0MgcvKcoVCgdGjR6O8vBx6vR73338/QkJCMHHiROzbtw8nT55EUFAQjEYjc+JIAd7U1MRcUHK3CAgIQHR0NBITE6FUKmE2m+FwOCCTyZCcnMxiG5fLhdLSUmRkZLAQhgRKxJuTy+VIT0/HkCFDsHDhQlbqR0dHszpaLpfDarUiMTER119/PYqKiviajx49isjISCQnJ7M4yePxIDo6GlVVVR2UzHRNEokEjY2NzLFTqVSoq6tDcHAwLl26BIlEgsjISC655+bmsvVc9+7dERgYiB9++AGFhYUIDQ2FUqmETqeDn58fEhMTERsby3y/lJQUFlGRr/bu3bvRs2dP5OTksIDF6/WiR48esNvtqK2tRVVVFYKDgxEcHIzW1laYTCY0NTVBCIG6ujq0tbWhe/fu0Gq1KCwsxIwZMwC08w4VCgUGDBiAkpISHDt2jDmqTqcTu3fvZr5gz549sXr1atxyyy0sigkPD4dCoWDOsPilYYKvhVhQUBC0Wi1OnTrFvNby8nLMmTMHn3zyCSIiItgfNzQ0FMHBwbBarTyed999N9asWQOZTAaz2QytVovu3bsjIyMDVquV+b+JiYk4fPgw81hPnjyJG2+8ETk5OXA4HKioqEBCQgK6dOmCxsZGmM1m+Pn5ISQkhF0iysvLsXv3buTl5SE6OppV5g6HA5cuXYLFYuHytN1uR2RkJNMbzp49i8jISPTu3RuNjY2oqqqCTCbDlClTYLFY8NVXXwEAEhISEBQUhISEBDaOt1qtnMl3uVyoqqpiPmZISAi6dOnCrhAajQbR0dE4ePAg7HY77HY7PvvsM5jNZuTn50MqlSI8PByJiYm4+eabkZCQgHPnzkGpVOKHH37A3r17MW7cOOh0Oni9XkRERGD69OnIy8vD/v37YbPZEBgYiOHDh6O5uRk7duzAp59+ii1btqBHjx4QQiAkJATHjx/H9u3boVQq4e/vD5VKBbVajfj4eKSlpaGwsBC1tbUoKSlBUlISunfvDpVKhfj4eNhsNgwYMAA6nY67gtH8IeGg0Whkj2OXy8VUi9LSUthsNgwePJg96gFg2LBh6Nq1K/bt2/ebjROuNToD1U50ohOd+J1AndDISNzpdLIwIiwsDElJSdixYwfOnDmDo0ePIj4+Hvn5+di2bRskEgmCg4O5YUV8fDxvounp6Sz0oM6CNTU18Hg8iI2NhU6n488hERLZv5WWliI9PZ1V735+fggPD0dwcDDcbjeam5vZCqqgoAAbNmxgf8fc3FzU1NTg+PHjLGAZMGAAzp07h1OnTqG4uBhlZWXo378/iz0oUHW73XA4HGzV5fV6WaVOnpsWiwVSqRTl5eVsqRMWFsZcX1JLm0wmCCHQo0cPFBUVcVvOQ4cO4ZlnnkHXrl35usLDw7Ft27YOfGGFQoHQ0FDY7XbYbDaUlJQgKysLXq8Xdrsd9fX1iIqKYucCuVwOnU7Hdj9erxdhYWFspUciKKvVinPnzuHMmTMYN24cIiIimLOYnZ2NkpISaDQaqFQq9OrVCzfccAOWLVuGoUOHYvHixdi9ezdCQkI4MImPj0dtbS0SExNht9vR2NgIi8WCpKQkNDc3w2azcfAyZcoUOJ1O9OrVCzfeeCN27dqFc+fOoW/fvrDZbIiMjITdbofb7YZer4dOp+OAtaGhAQaDAdOmTUNWVhaioqIQEhKCI0eOoL6+HhEREYiKikJWVhaOHDmCqqoq6PV6fPHFFxgwYAAfvoqKirBjxw5ERUUhNjYWCQkJkMlkeOCBB3Dp0iVuAOFwOJCdnQ2gozMGeWpTlzcSchkMBuh0OhiNRh4XnU6H+Ph4Vuanp6ezKIzmGgVTNpuNlfdNTU3weDyIj49Ha2srDAYDP6cBAQFwOp3sVnH27Fm0tbVBLpfD6/UiKSkJcrkcFRUVEEJAp9OhuLgYubm5rPSvq6vD7NmzYbVameYCtAvxcnNz4fV62fXi9OnT+Pbbb/Hpp58iJSUFUqmURW4Es9mMp59+GgEBAQgLC4NarUZMTAzee+896HQ6CCFQVlaGESNGALjcfpXawZpMJj5sUrdPGqPw8HDU19dDq9UyLcnr9eLEiRNITk6Gw+FAdHQ0ey17PB7ceOONOH/+/L+Uo9rZjL4TnehEJ34nUJBmt9shk8k4E0WtAi0WCxQKBWJjYxEbG4t33nkH8+fPx7hx4zB69Gj06tWLvYWNRiNiYmLg8XhQWVkJlUrFPdSBdm4eeae2tLQgNDQUjY2N3PyEml00Njay8letVnOgQJs7BYOvv/463n33XSxduhTPPfccJBIJLl26hLlz57Kdkp+fH6677jq8/fbbKCkpQXp6Onbs2IHDhw//DTeXrHFI+KNQKLijHwAOfMWv+qH7+fmhtrYWPXr0YMGXVCqFw+HgVrU0zi0tLdi4cSOys7NhsVggl8thNpvRpUsX7u1OKvrAwEAEBgaioaEBcXFxqKurQ1paGmdvAbD9l1arZVumkJAQ2O12yOVy7nTk7+/PFk8UiLz66qvo2rUrZDIZWxvpdDpotVo0NzcjPDwcq1atwu23347vv/8eFy9exMKFC5GcnIxt27bxd4iMjMRXX32FuLg4AOjQ5U+lUrE1kkKhwJ49e1BcXIzPPvsM27Ztw2OPPYaVK1diwoQJ7Iag0Whgt9vhcrkQFBQEtVqN1atX469//SuWLFmC1atXIz09HT/99BMWLFiAxMREAO1WVwsWLMD27duZ23z69GmMGjWKG/WEhoYiPz8f9957L/M6yQYtKCgIWVlZOHDgACwWC88NIQT0ej2ioqLgdrs5u3y1LYjJIYKCLGr8QmNF7hY0bmRPRe07lUolz8HW1lZ2oqDAlr4PPatkuUXfj54DAHwgo1awZA9H94qqFoGBgbBarQgMDMSRI0fw0UcfYevWrdi+fTt69OjBrgTkAfvoo4+iT58+sFqtCAkJQWVlJRITE+F0OhETEwOn08lcYlon2tra0NjYiODgYLYAo8Ogb6dGOtRScCyVSvn7+x7u6LBKh51/ZWe4zkC1E53oRCd+J5CdEHlKut1uGAwG7N27F3/961/x8ccfc5bV39+fM30ZGRmw2+28aZBPZHV1NeLi4hAeHg6LxYLIyEjYbDYOnKjc7XA4oFQqoVQqcenSJaSmpnKAmJGRgbq6Os4eyeVy1NTUsAG7zWaD1WrF7t27MXXqVIwePZpbn1Jf7oSEBC4XqlQq5OXl4S9/+QsyMzPRt29fdOnSBS6Xi4MCep1KpeKsVFtbGweKfn5+0Gq10Ol0CAsL+5sWqWFhYezpSZY8Ho8HRqORPV6joqKQm5sLh8OBQYMG8b91uVxwu92w2Wxc/iRHBX9/f4SHhyMmJgYXLlzA2LFjAYDH1G63IykpCbW1tWhoaIDb7YbZbIZKpYLJZEJYWBgfQCQSCQfA/fr1Q0REBLp27cqZYepeSM1qSP2elpaGtLQ0GAwG9OvXD6tWrcInn3yCGTNmQK1WczDp8Xg4uAfAhx5qTRsbGwuj0YikpCQ8/vjjePzxx7F27VqsX78ew4cPBwBun0m0CYfDgYaGBpSVlWHOnDno27cvwsLCUFtbi9TUVM7oUzaxuLgYgwcPhslkwiuvvIJp06bBZDIhPDycTe0TExNxww03oKGhAcnJyVAoFEyVANoPb7169YLVamX6ikQiQUtLC8LCwhAUFISWlhYEBARwNjIiIgKNjY0IDw9nuzadTsfdK0tKSqDX69GzZ0/YbDYO9HwPPeQTDFwuf1Pm3Gw28yEGaFflHzlyBH379mV/3q5du+Lbb7/lVqQkisrMzMRPP/2Em2++GTExMcjIyMCSJUuwdu1ayGQy2O12Plzt27eP6Q41NTWIiYnBvHnzkJWVhalTp+K2225DQkIC5syZw9SPQYMGITQ0FP369UNzczMkEgkiIiK4zTytDQUFBaiqqkJKSgqAyw1BNBoNqqurIZFIkJKSAo1Gg5aWFg5e9Xo9XC4XunTpAoVCAavVirCwMD7o1dbW8uGttLQUX3/9NeLi4jpL/53oRCc68X8B1H0JuNzJTqPRwO1247vvvmN7ILVaDblcDofDgaKiIoSFhaGkpAQ2m425c7t27eKsGpWo6T0pi+N2u9kdgFTScXFxyMnJQXBwMMLDw9GtWzfs3r0bDQ0NnLGJjIyE2WyG3W7nzE9KSgqCg4Oh0WjYHLytrQ3V1dWoq6uDxWJhft+QIUNQXFyMzZs3Y+LEiQAuZ0ZbW1s5o6rVahEaGgo/Pz/OXFGnQVKy2+125jOK/8femYdJWVz7/9v7vs30TM8MAwPDqgKKiQsmiiJINCJJlCioURP1KqJBY8zlXpdoElHjNTHGHRX1GhIlBqNRuRg33GLAIIjszMCs3T297+9Wvz8m59ANGPjlXgy5tz7PwzPNTPfbVfW+VfWtU6fO+WuwfpPJhEqlwsKfsg8ahoGmpiYkEgn2Ef3444+RSCTYFzaXy6Gvrw/Nzc3s9xuNRjnjlt/vx/HHH4+1a9fWZA0LBAKIxWJwuVxwu90YOnQojj32WORyOdhsNvh8PuTzeXR2dnI80rq6OowZMwaHH344HnroIfZ3JT/WjRs3or+/H5s2bcLSpUtxySWXYOvWrQAGT2LPmjULbW1t6OvrQyQS4QxhFEOULFzkb7t9+3b4/X68+eabmDNnDu6++26kUilO6nDllVeyH20ikYCiKPD5fOyCQYkMKFJDKBSC3+9HfX093n33XU5MQCHRhg4dismTJ+OVV17B8uXLMWbMGIwcORIejwfhcBiTJk3Cyy+/jF/+8pdoaGjgZz+dTrNIHDlyJL7whS/gV7/6FaxWK2KxGPuzbtiwAclkksMoeTweDuBvt9tx+OGHIxqNYvXq1QiFQmhsbITD4cAHH3yAcrmMY489FvX19SiVShzPlL53T6FqMpnQ1NSEzZs3Y/Pmzcjn8+xO43Q6sX37dsyYMYPDc02cOBEdHR14+eWXkclkUCgU8Kc//QnLly+HruscD7W9vR1TpkzBRx99BGDQytrX14c///nPyOfzOO644wAMxlRdu3Yturu70dLSghkzZuDqq6/GCy+8gNWrV8NkMmHkyJH40pe+hN/+9rf45JNPeBektbUVsVgMTqcTAwMDOO2002CxWLBu3TqkUilOS0+xlseNG4f29nbouo5EIsEB/ZPJJCKRCILBILZs2YKuri74fD7MnDkT3d3d+Oijj+Byudi6/8Ybb0DTNJx++unsz/p5IC2qEolEcpCguJoul4u3J30+H2bNmoXOzk6ce+65mD17Ns4//3z09vZi7dq1WLlyJSZPnoy5c+ciFAqhra0Nt912Gx8CIr82Clzu9Xo5aDulraSg86FQCF1dXdB1HTNmzEAoFML555+PNWvW4PLLL8fZZ58Nh8OB5557DqtXr8aMGTOQyWQwbNgwJBIJXHvttfB6vWhsbMSbb76Jl19+GblcjuOtknVv/PjxGDVqFFauXInp06eztbFcLnOQ8Y8++gjDhw/nw2Fk3aw+5AEALS0tGBgYwKpVqzA82pc3AAAgAElEQVR16lQWxJVKpebwELlE9Pb24oQTTsC4ceMwa9YszJ49Gw6HA3PnzoWiKFi+fDk+/PBDXHPNNTj33HPZQgkMitjW1lZMmzYNs2fPRjQaxdVXX42dO3di2bJleOeddzBs2DD4/X6YTCbY7XY888wzCIfDOPXUU7F27Vo88sgj6OjogNVqxdatW3HYYYdhwYIF+PrXv45zzjkHF154IcaMGYNnnnkGn376KW644QaceOKJ+PTTT/HYY4/h1ltvxXXXXYd0Oo0nn3wSH3/8MebNm8dB+tva2mAymfDSSy/h7LPPRnNzM2eoGjlyJIBBP+E1a9bgoYceQmtrK4466ij09vbizjvvxMSJEzFu3DjY7XZkMhm0t7fjiSeewFe+8hWMGzcObrcbEydOxOLFizEwMIBx48ahXC7jscceY0uj3W5Hf38/mpqa0N7ezmmwp02bhlAoxKL3G9/4Bl5++WUsW7YM8Xgc3/zmN7Fy5Uq88sormDBhAq666iqMHDkSp556Km688UZccskluPLKK7Fr1y48++yz6OnpQWtrKzKZDJLJJIYNG4ZMJoNIJAK73Y5p06bh1Vdfxf333481a9bgzDPPxLJly7Bq1Sp8/etfx9SpU6EoCvr7+zFixAg+PAXsXihS2wGDVsdJkybhlltuwezZs/H1r38d48ePx8svv4wHH3wQS5cuRX19PXw+H0499VS0tbVh0aJFmDt3Lk488UR8+OGHePnllzF16lRMmDCB+8WsWbMwc+ZM3HjjjTjttNPQ0dGBRx55BCNGjMCll14KXdfR0dGByZMn80JM0zRceOGF2LBhA1vVR40ahYkTJ+L555/Hww8/jNNOOw0+nw/vvfceHn/8cdx999346le/iunTp3N4KrLg9vb24qGHHkJDQwO2bNkCh8OBUCgEu92Obdu2YdSoUQDAFvb169ezeA+Hw1iwYAHOOOMM/OAHP8CXv/xlrF69GkuXLsX48eNxzDHHsLvE54IMTyWRSCR/HwcanqpSqQhN0zhskBBCbNu2TTz33HNizpw5orW1VQAQZ5xxhvjhD38otm/fzu8rlUri+eefF2PGjBFDhgwRM2fOFKtXrxYXX3yxuP3220U+nxf9/f3iRz/6kbj66qtFZ2enyGazIhqNCl3Xxbx588Ttt98uhBAcJuuNN94QX/va10QoFBJTp04VTz/9tFiwYIG4+eabRT6f57F/8eLFYvjw4cJut4sLL7xQLF68WFxyySXiRz/6kejt7RXlclmUy2UhhBCXXnqpOP300zmUEJVdiMFQPGeddZb45S9/KRKJhMjlcsIwjJrX1J533XWXmDx5snA4HGL79u3i7bffFvPnzxeLFi0SXV1dIhaLiUQiIXbu3CkmT54snn76aVEoFERXV5cwDEOsWbNG3HzzzQKAaG1tFTfffLN46623+DtSqZQQQnC5S6WSUBRFvP/++2LWrFmiqalJTJ48Wbzwwgti4cKF4oc//GFNaLD77rtPHHnkkQKAOP/888XKlSvFzJkzOfyVEINhprq6usS8efMEAGG1WsV1110nVqxYURPu54033hBXX3218Pl8AoCYOXOmeO2112rarqenR5x33nli7NixYv78+aKjo4M/v2vXLiHEYFifzs5O8dRTT4lzzz2X6/7II4+Ijo4OkclkOFRWNBoVRx99tBg/fry47777OBzXPffcI04++WTh9/vF/PnzxR//+Edx/vnni7vuuqtGE6iqKm666Sbx1a9+VRQKBVEul0U8Hhe6rot8Pi8qlYp49tlnxSmnnCKsVquYPn26ePzxx7kNVVUVuq6L999/Xxx//PECgJgyZYp49tlnxXe/+11x5513cpgsagN6NugZvu2228RZZ50lAIhvfOMb4sknnxTr1q3j53bNmjXCarWKTz/9VFQqFSHE7lBohmFwGCRFUcS8efPEFVdcIbZu3Sq+/e1v83148cUXubzbtm0TQgyG2rrjjjvESSedJACIE044QfzoRz+qKWcsFhPZbFa88cYb4stf/rJwuVxiwoQJ4tprrxW5XE7kcjnxl7/8RQghxNlnn11T3/7+frF27VoxYcIEcc899whFUUQ8Hhdvv/22uOCCC8Tw4cOF3+8XV1xxhXj//feFEINhrAYGBvh5Gz58uGhubhbXX3+9eOSRR8Q555wjVq1axfeJSKfT3KYLFy4UdXV1YsqUKfyeTCYj7rvvPjFnzhxx9NFHi0mTJon777+/5vP/XQ40PJUUqhKJRPJ3ciBCNZVK8QCcy+VEsVgUQuwelKPRqKhUKiIajQohhCgWi8IwDFGpVHiCJOG3c+dOkc/nRTabFcVikUWXYRgim82KWCxWUz6KdUgiwTAMUSwWRalUEsVikd/f39/P16T3kgjq7+/fq97V30NC4MwzzxQPPfQQCx8SRul0Wjz//PNi5syZLLJUVeU6CSFEPB4XO3bs2GvOqY6zSnWldiOoPTOZDF+rt7eXP0ffVR2bUwjBiwaK4ymE4HiT5XJZFItFMX36dPHAAw8IwzDErl27WJDRZE5tQ0Jjz3pVl4/KQ/+n+53JZLgNqz/b29vLYqBUKnF70jVJHO3atYvvB5WPoHinVN9CoSAURRGFQkH09vaKSqXCQiyfz4uBgQGh6zp/77Zt20QymeQyp9NpoWmaWLBggVi0aFHNs6Hruujr6+N6btmyRSiKIpLJZM3iJ5vNCk3TRGdnZ41wyufzIpfLCVVVRS6XE4VCgf+WyWRENBrlNqPnmOpffY3qOMJ9fX3cF6mN6TX1GSEGFxbd3d179Ssqc6lU4rrRzz3J5XL8bNIiSAjB8Yr3fG77+/tFKpWq6UvVi5jqxZsQtc8rtQ1dk+pGn68ef+hv1d/f19cnNE0TiqIIVVVFsVisae+1a9fy62QyKXp7e8WaNWv4PdX37b+DjKMqkUgk/2Aolin5xtGhClVVa3Kj2+12PmXscDiQTqdht9t5a9fj8WDdunWc+tNsNsPlcsHr9XJMSJ/Ph3A4DMMwEI/Hkcvl+HCIYRjo7e2FyWSCy+XieKmUujUSifD2o8/nQzqd5nzhFCYonU5j165dSKfTfBCDDhy9+uqrMJlMOO6449ifkU5Lr1+/Hn/+85/x1a9+lXOHU8gu8rWkNKMWi4XjOxaLRWQyGY4pabPZAAzmc0+n0ygWizU+wNTG4XCYD4zU1dUhm82yTyswuN1P4ZmAQR/CjRs34p133kFdXR1cLhccDgc+/vhjvP7662hsbOR88eFwmFO/plIpRCIR6LrOrgQWi4VP/ufzeT7IRaHC6Pr0Oh6Pcw76Xbt2wePxIB6Po7Ozk9OqVioVmEwmeL1eGIaBXbt2IZFIwOl0Yt26dRg6dCgaGhqgKArC4TCEEHxwacSIEcjn81BVlX1tbTYb+wXTvSA/U/INBQbjv44cOZIP6FHc1eXLl2PTpk04+eSTEYlEOKVuMpnkg2PkW22z2eD1euHxePhUuc1mQ6VSQWtrK8LhMJLJJAzD4JS2iqLw4bRsNsuHlhobG1FXV4eenh4MDAxwO9KBK6pLe3s7yuUyisUix0lVVZWjDACD2//V923o0KEYMmQI3G43XC4XgsEgYrEYp4R1Op2czjQUCqFcLqNQKHCbaJrGfbFUKkFRFOTzeQDgz1HGt0wmw7+nsGxUptbWVmzcuJGfc2rLYrHIZff7/dB1HQMDA7DZbMjn8xwqig4vFgoFVCoV5PN59PX18fd3d3dzJjtVVaEoCiwWC1wuF4dq0zQNLS0tAMBRQJqbm3H00UfD7XZD13UIIZBMJvG5IS2qEolE8vexP4sqjaGVSkWk02mhqqowDEOUSiW26pAFslAo8NhbbbXZunUrvyYLaaVSYcufELutiaVSibPPEJ988gm/Xr9+PVuLotEof45+CiG4jKqqCkVRarZKq6112WxWrF27Vnz00Ufi1FNPFVdffbWIRqM11qRMJiMeffRRcfHFF7M1LBqNcvtQHchiWC6XhWEYNeXRdV1omsbtVL3NmkqluEyVSkWUy+UayyllbqKyVGeKIouSEEL853/+pxg2bJi4++67xYoVK8RLL70kJk6cKGbPni1SqRR/j6qqolwusyVOiN1Wxnw+L3RdF4qi7GU9U1VVxOPxmvfQPSLrFNWPrJl9fX01LgfpdLqmbcn6Sm3V1dVVY2mlLXZqm+pno9oFhV5Xbz+TtbJUKrFVv7+/X7z00kvi9NNPFwsWLODnqDqjUSqVEtlsVqiqKjKZjCgWi1wGeo6rLbaapvH7q62A1fefyk51J6sePUeKoghd10V3dzdbD6vbjepRfU3qf1R3er+maSKVStV8njKB0eeoDHT/yAI8MDCw132ne5tKpWqeW+rf1dcrFAo17hlC7LbM0s9YLMbuFfTddB90XefrUV01TeNrFwqFmudWiMHxK5VK1fQZujf0HaVSqSZ7GlnR96zr38OBWlRNhmEIChgNDK5IdF3nVSGt+iUSiURSi/jroQyKO0injCm+53+XZDIJl8sFl8tVcwCJDit9HhSLRba0knVK13U4nU789re/xXXXXYfTTjsNN910EwfBpwgEfX19eOuttzB16lQOzr5nHEshBDRN4xBY1KbUnvtDURTY7Xb+GY/H0dDQgHQ6zfE0q09/V5PJZDh+67vvvouf//znWLFiBUaNGoWzzjoL3/3udxEKhaBpWk12MavVWhPO6LNQVRWVSgUejweapkHXdQ4LRpasQxlFUThO6yuvvIJbb70VY8aMwR133IERI0b8o4sn+SenegygsYViIlNGMQCQQlUikUj+Tg62UK0ml8shm80iFArBYrEgn89z+KODDaV+pUxBFCwfAAcfB3YLPxKfmqahu7sbI0eOhNls5kxKAFhQir9GQwBqg7x/lrishspE1wRQM29VX/ezrmUYBotP2rK3Wq3sikFik7bKi8UiHA4HuyLsDwrPtWcZ6Jk51KHEAACwefNmNDc3w+/3I5FIfG7Pn+R/J1KoSiQSyUHmYAtVRVE4R7vFYkE6nYbP5/vcxmUKLyWEgKIoMJlMLFqojjSpULpIu93O2YD2hDLakE8cib9q/n/bTdM0TlRA5aCUlyQ2P0uoUnmEEBxGCxj0zywUCqirq+P5sDoGp2EYB3QPCoUCpxel4O/AoF9lPp/nxAOHKpTNaV/3ksJVSSR/LwcqVA/95ZxEIpH8H4WEHx2moPSblC70YEOB+ovFIsxmM4tUVVWRy+UADIoxSiNKW/CURpT+dXR08GEWOujj8Xi4DtUikKh+/VmQaBR/jY3pcDhQX18Pt9u9T3G1L+iQEaWVpevU1dWhXC5zoPiBgQEMDAzAZDLBYrEcUMBz8dd88A6Hgw9EUTxWcjk4lBFCcDvm83lOJqBpmhSpks8NKVQlEonkECWRSMBqtXLmIACcKed/2rVgX9CWNYlQTdOQTCaRz+c573cwGEQwGITT6UR3dzeEEAgGg8jn8xBCwGazYdiwYbDZbLDZbHyiuLOzk9OKEtXitPr3n0W1Jbvav3Xz5s0cUeBvQelrKfuTqqrcroqicDpP+i4qU6VSOaCA5+QeQSf1AfDn/hl2K8nirSgKDMNAKBSC1+tFpVKpOYkukRxMpFCVSCSSQxQ6bBMKhVAsFtlXsq6uriYsz8GCwmu5XC4OUwUAgUCAQw8lEgkW0S6Xi8Wcw+Fgq6vFYkE2m0U0GkV/fz9+97vf4YILLkC5XGa3s2pfVeDAhCqJaGDw8FUul8POnTvxxBNP4J577tnv5/1+P1wuF/x+PxoaGmp8XUmIUd0aGxs51BD9bn/QgbKHHnoIjz76KPr6+qDrOjRN4zBFhzKVSgWapqFUKvH9oINy9CxIJAcbKVQlEonkEMXtdmPNmjUABlOLkvBLp9NIpVIH/fspziIAzrdeV1eHUqmETz75BAA4tzq9pm1/XddRX1+P3t5eZLNZ+P1+RCIRDBkyBIVCAbt27UKlUmGhahgGvwZQ8/qzKBaL7FJAgrOlpQWaptXEzfwsotEo8vk8x2MtlUocg9Lr9UJVVRbCsViMrbRWq/WArk9l6ujowJYtW+Byudjn90BdE/6ROBwOWK1WBAIB+Hw+XiyRFV0i+TyQQlUikUgOUV555RXMnTsXK1euBDB4cAgY3D7eX2ik/wnIwqjrOuLxOG+Lr169Gv/+7/+Ohx56CADQ3NzMW9sWiwUWiwVerxfpdBo//vGP8ctf/hKbNm3i6yqKghEjRkBVVbbUkZ8pbd8fiI+q1+vlQxelUgm6rkNRFKRSqQOyekYiEa4jJUOgoPhWqxU2mw11dXVIpVK44447cMcddyCVStUkIPhbUN51n88Hm83GFud8Pv9PceIfGPRNLZVKNS4gQgi59S/53Pjn6CkSiUTyTwqdLM/lciy+yAJJdHR0sAWxu7sbwKB/qsfjQUdHBywWC2fvAXYLVmDw9HX1NixljKm2uNJpc2DwMBNlvan+vmw2yyfggUFrJUWE0XWdMygpigKHw4FNmzahrq4OO3fuhGEYbFl1uVwwm82IxWJ8MKmrqwsul4u/o66uDkIIziAFDFpUXS4XcrkcZyPSdZ3LTtZkYPfWO/lOksjUNA2FQgF+v5+zLNFhq23btnHb7ymyqtsnGo1yG2YyGZhMJlQqFSiKwhZXiuxAIjudTrNQr77vLpcLyWQSDoeD28JsNiMYDB6QRfZQwOv18j212+18uGxfERskkoOBFKoSiURykKhUKmydczqdbEEUQmDr1q1YsGABWlpaMH78eEyfPh1Lly5Fa2srPvzwQ8ydOxennnoqNE3DWWedhdNPP51PmieTSTz44IMYM2YMpkyZgksuuQT33XcfW/tWrFiBESNGYNmyZUilUvB4POjt7cWKFSvwta99DatXr0Zvby+6u7vR2toKABw/tLOzE3fddReOPPJIWK1WnHLKKXjjjTfg9XqxY8cOfOUrX8G3v/1t9Pb24txzz8UPf/hDrFixAslkEkIIZDIZdHV14bXXXkMkEsHzzz+PJUuW4Mwzz8SSJUtgsViQTCbx/vvv4+OPP8bPfvYztLW1oaGhAd/5znegqircbjdisRgsFgui0SjmzZuH0aNHY9iwYbjkkkvw6aefAhi03pKQJiFIKTrj8Tj+8Ic/4JJLLkFTUxMWLFiAF198ES6XCxaLBR0dHdA0DTt37sT3vvc9HHHEEZgwYQIWLlyInp4eVCoVuFwuLFmyBOPHj8cjjzyCJ554Al/4whfw1FNPQdd15HI5KIqCZ599FvPnz4fJZMJZZ52FRx99FDabDRaLBVarld0nqhcY5FIgkUj+NlKoSiQSyUGCtsqLxSILVk3TEI/H8Ytf/AIbN27Evffeiy1btuDLX/4y5s6diyVLluDYY4/Fww8/jN/85jcQQuD3v/89VqxYwSGUfv3rX+POO+/E4sWLcc011wAAHnzwQTzzzDMAgBkzZmDKlCl48803WdwGAgF0dnbCMAwce+yxaGlp4fJs374dLS0tyOfzuPrqq7Fjxw7ceuuteP3113HMMcfg3nvvxZNPPon29nY888wzuPPOOzFixAjcf//9uPHGGzFjxgzU1dXB7XYjEAhg6NChmDp1KlavXo1jjjkGM2bMwLJlyzBv3jyYTCb4fD588YtfxI033oiWlhbcf//9uOOOO1i4FgoFNDY2YsOGDbjzzjtRKBTw8MMP44EHHkA+n8d9992Hvr4+FqqKorAlmEJkJZNJLFq0CDNnzsQ999yD9vZ2nH322XjhhRfgcDgwYsQIbNiwAXPmzIHVasW1116L7373u3A6nbjggguwatUq2O12TJs2DR9++CHOPvtszJ49Gx999BGmTZsGm82GQCCAefPmYdmyZbj88svx5JNP4ogjjsCzzz6L5557jq291UJVVVWOGymRSPaPXNJJJBLJQYJO5mezWbjdbpjNZpjNZkSjUSxevBjvvvsu2trakEwmcdVVV8HhcKC7uxuKoqCtrQ3xeBwA0NTUhJ6eHkQiEWzbtg2LFy/G66+/jtbWVpx00km46qqrsGjRImzYsAHr169Hc3Mzpk2bhv/6r/+CpmkoFovweDz44x//iDPOOAM2mw2qqnIszJEjR8IwDCxduhRerxfXX389Ro0aBWDwtPvDDz+MTz/9FPF4HM3NzZgwYQIKhQJaW1vR1NQEs9nMB5soq5PT6cTEiRP59dixY6HrOkcJ2Lp1Kx555BFMmDABo0aNgq7riMVi6OnpQSqVgq7rePzxx9Hd3Y37778fw4cP57JeeeWVeOqpp/CDH/wAAGp8Wym4v9lsxpIlSzBq1ChkMhmcdNJJWL9+PTKZDDKZDOx2O5YvX45AIIAbb7wRQ4YMAQDMmjULc+fOxdNPP4329na0t7djYGAAw4YNAzDoH1xfX494PI4PP/wQ69evxzXXXIOjjjoKp5xyCrZs2QJVVbF06VLMmDGDRTSF0fpnyUglkRwqyN4ikUgkBwnyQ9wzlJTP50NLSwtWr16NYDCI0aNHo66uDhdddBGmT5/O2Z3IB3LdunUYMmQIYrEYxo0bh+3bt6O9vR2GYaBcLmPXrl3I5/McmD8YDGL69OlYt24d1qxZA6vViq6uLrz77rs4+uijkc1m+TDQq6++ilgsBrPZjMsuuww//elP0drair6+PgCD2+uJRIIzSgGDvqF2ux3JZJJ9a51OJwKBAPvRhkIh7NixA8OGDYPJZMKWLVtgsVhQX18Pi8WCSCSCE044AaFQiH1h/X4/PvroI3g8HrjdbiSTSRx33HEYPnw4du3ahV27dmHs2LE4/PDDsWPHDi5f9cEmTdNYTI4aNQqKoiAQCGDYsGEYO3Ystm/fzrFTX3rpJVx99dXse1upVBAIBHDnnXfirbfeYqtnpVJBKpVCX18f+682NDRg48aNOPLII3H++efDZDIhnU6jra0Nhx12GGKxGHK5HB/yIvFcHe9VIpHsH2lRlUgkkoNEsVhEIBDgVJl0erq9vR033ngjbrrpJtx666345je/iSlTpuBrX/saWltbWbQlEgmMHz8e4XAYABAOh1EoFNDT04Of/vSneP/999HZ2cmpTE899VSMHDmSA/WPGzcOH3zwAWbNmoU33ngD48ePxzHHHMNZkVRVxVe+8hV+TYegHnnkEXzwwQd47bXXWBifd9550HUdmUwGuq7D6/UiFArB7/cDGDxQRCfCXS4XhBBob29HIpGAEIItopT9yWw2I51OIxKJABg8TDVu3Dg0NDTA7/djzZo1eOutt7Bs2TLccccd/Bk6jDV9+vQaS6UQApqmwTAMOBwOBAIBPrHu8/kQj8dhtVrhcrnQ1NSEdevWIZFIIJlMolQq8WKCDkGZTCZ8/PHHsNvtGDJkCKeRHT16NCqVCnK5HLZt24ZHH30Uv/rVrxAMBtHT04MjjjgCPT09LNCry1VdVmlZlUgODClUJRKJ5CBRfWBG13UYhgG73Q6bzYZzzjkHZ555Jt5880288847+N73vod7770XCxcuxJQpU5DL5WAymdDd3Q232414PA6n04mOjg5cf/31OO2003DDDTfwqfSnnnoK69atQ2dnJ0aMGIFRo0bhsssuw+9//3usW7cOr732GiZPngyPx4NsNssZpHbu3ImWlhbYbDa89957uPHGG3HYYYfhJz/5CZYsWQKTyYQbbrgBNpsNiqIgHA6jWCxyLFQ66U+WUWB3pANVVRGLxTB8+HAIIbB582a0t7dj/PjxiEajyGQyGDduHIDB7fve3l5Eo1GUy2V4PB5EIhFceOGFOOyww9DS0gKLxYJUKoVAIFDzfQQJQbqe1+uFpmmw2+0YOnQofD4fNm/ejGw2iwkTJiAUCkFVVYwYMQLA4Cn/QCAAVVXh9Xrh8XjQ0NDAee19Ph+2bt2K0aNHo1wuw26347zzzsPFF18Mv9+PzZs3o7m5GeVyGZFIBMFgkKM90EG66hzmEolk/0ihKpFIJAcJj8fDIZ9KpRK8Xi/MZjOSySS8Xi+sVitmz56Nk08+GTfccAP+9V//FS+88AJOPPFEBINBNDU1sWC12WwwmUzo6+vDjh07cMIJJyASicDv90PXdbjdbggh0NDQAIfDwVbZHTt24O2330Y0GsXJJ58Mt9sNh8PBB3waGhpgs9lQKpWwcuVKeL1e3HnnnRxflEJBBYNBeL1epFIpJJNJmEwmNDY2sjtAOp1GMBiEruucLrVUKqGxsRGZTAalUgljx45FPp/Hli1bcPjhh3PQ+N7eXkQiEdTX16OtrY0tol6vF3V1dTjvvPNY7NntdnR1dWHo0KEAdvun0tY6hfKqVCpcJgDo6upCb28vjjnmGPj9fvzlL3+B2+2G2+1GZ2cnhg8fDq/Xi46ODraYDhkyBNlsFk1NTdi5cydbVDVNg9/vh6qq8Pv9+NKXvgRN0zB58mRomgar1YpCoQC3280n/Sk6Ad1HiURyYMh9B4lEIjmIkPWMYlHm83k8//zzmDhxIorFIvL5PG93WywWNDQ0oLe3F8Cg6wCFtTKbzfB6veyH2tTUxCK1u7sbDocD6XSat5MNw8BRRx2FiRMn4j/+4z9QKBRw5plnIpvNwmKxoFKpIJ/Pcygos9mMIUOGwGazobe3l1Nn2u12lMtlrF27lkM7GYaBYDAIl8uFaDQKYNAnlbI8EU6nE/39/SgUCggGg2xR9ng8yOfz8Pl86O3tRSAQgGEY6O/v55izjY2NmDRpEl599VWsX7+e66SqKrZu3Yp8Pg9g0GpN0QuAwWxK1G4ulws9PT0ABoW2x+Ph7FItLS344he/iBdffJHLbLFYEA6H8cADD2DKlCloaWlBOBxGPB5HJBJBc3Mzurq6YLFYkM/ncdJJJ+HVV1/F448/zoI4kUggHo9jx44dKBaL8Pv9bN0lX9p/hvSpEsmhghSqEolEcpBQFIWtoWazGbquw263Y8yYMZg2bRouuugivPzyy1i7di1+9rOfYcWKFawHzAQAACAASURBVHzQinwrJ0yYgPfeew9/+tOfAAxmgXK73bj88suxaNEi/P73v8eCBQuwcOFC9hsdGBiAxWJBY2MjJk+ejGQyiSOOOAJ1dXWwWq0QQsBiscDhcAAYPNzlcDhQqVSwatUq3HfffVi5ciWeeeYZnHLKKVixYgXGjBnDPrajR4+Gx+PBihUr8Pbbb2NgYICvY7Vakc/nEYvFoCgKTjzxROi6jieeeAIbNmyA3W6HqqpIJBJQFAXNzc3weDyw2Wx8iIq26+fPn4+NGzfi29/+Nn7zm99gy5YtuPfee3HzzTfjySefRDqdRqFQgKZpLNB1XefUnw6Hg0/zWywWuN1udseIRCKYP38+PvnkE1x77bVYvnw5XnrpJVx00UV4++23cdFFF7H4pLSq27Ztw4oVK7Blyxb4fD7MmTMHU6dOxbJly/Dzn/8cr776KlauXImbbroJDzzwAMxmM1KpFGKxGLLZLPvrWq1WmdlJIjlApFCVSCSSg0R19iGTycSn5SdOnIhzzjkHRxxxBL7//e9j0qRJ2LBhA37xi1/gqquugsvlgsPhwMSJE3H88cfjwQcfxO23345PP/0Uxx9/PH7yk5/A7Xbj0UcfxVNPPYVZs2bhpz/9KQqFAt5//32Ew2GYzWZks1kcc8wxGDVqFE466STO/qRpGhRFQS6Xg6ZpbI286qqrcM8992Dr1q0444wzsHz5cvzbv/0bLrvsMmzevBk2mw1+vx8bN27E/Pnz8bvf/Q5Lly7FSy+9hB07dkDTNE6f2tjYCIfDgaOOOoqTCLz99ttsdW1ra0N3dzfy+TxyuRz6+/thtVoRDofR39/PB5JWrVqFOXPm4NJLL8VRRx2F7du349/+7d8wZ84ceL1eFp+UlSoej8PhcMDpdCIejyOZTKJQKKCzsxN+vx8ulwvd3d2Ix+MYOXIkFi9ejKOOOgrz5s3DpZdeitGjR+Ohhx7ChAkT8PHHHwMAhg8fjtmzZyOdTuP222/H008/DWAwW9aiRYswa9YsLF++HOeeey4effRROBwOLFq0iP1RJ0yYgEmTJvEhN4/HIw9SSSQHiMkwDEGhQYDBbRRd13n1T35MEolEIqmFtvWrT3RTrEyTyYRSqVQT6J+2goHagzulUgkej4dP7wODIa2qfSxTqRT7PVIUgWg0yiGVAoEAisUi3G43crkcbDYbnE4nXn/9ddx///247bbbMGbMGJjNZqiqypmTAKBcLqO/v59P5lPqUr/fj56eHrZKUlzXhoYGAINCzWw2c0gqYNCKXC6X4XA4YDKZ+DT9wMAAXC4XnE4nMpkMuxFUh+4yDAM9PT3sf0pzEPl9AoO+pna7HZFIhP1TKRoAvWf79u3wer0cUYDuFaUzJf9b+s5yuQy32w3DMJDL5eB0OtnarOs6NE3j/5dKJWQyGTidTiiKgsbGRiiKwu1kt9vZWkpW646ODj6YRX62Esn/dah/k485jUuaptUcOpRCVSKRSP5O9idUDcPgQVdVVRSLRfh8PlgsFpTLZSQSiRoRGAwG2Y8xl8vB4XBA07S98qr39/dDCIHm5mYe3IFBgeZyueD1elkQf+c734Hdbsdtt92GhoYGFAoFGIYBn8/HgrFaOEWjUcRiMUyYMAH5fB5msxkulwu9vb0YMmQIKpUKenp60NraylmgyJdVCMEi1ePxoFQqQQixz7zwdBqexLDP5+MyA4P+ublcDpFIBJlMBqqqcpguVVWRTqf51L7D4WCxX00mk+HDSxRSCwBn68pms2hsbIRhGIjH49B1HeFwmOPYCiF4bgyFQnvVoVQqwTCMmu/t7+9HMBiE0+lEPp+vEcVCCGSzWQQCATm/Sv7Pc6BCVZ76l0gkkoOE2WxmsUon0jVN45BSQ4YMQS6X40M8FBjf5XKxVTEejyOfz8Pv98MwDLjdbjidTg595PP5kEgkUCqVMHLkSADAzp07sW7dOvz617/G1q1b8ZOf/AQulwvJZBIejwcOhwP5fB6BQAClUgnFYhG6rsPn8yESibAl0mKx8Kl+mjQcDgfa29sRi8XQ2NjIv3M6nTV1rjZ4UD16e3vh8/nQ3t4On8+HXC4HAPD7/fD5fDVtR9EJ6O+5XK4mAgFZdaltKZVqPp+HzWZDpVKBx+Ph8lenLq1uR2BwwqQ6FwoF2O32mvIoisLRGxRFgcfjYYt4JpOBYRjs92sYBpxOJ7LZLHw+H0qlEhwOB8xmM8rlMn+noihcNolE8tlIoSqRSCQHEcMw+GR6dQYlek1/GxgYQENDA0aPHs1C1m63o7m5mcMakc8rba/7fD7s3LkTbW1tAICenh7U19fDbDbj9ttvR7lcxrnnnosTTzwRmqahXC6zb6SiKCgUCmwNLJVK6Orqgs/ng8fjQW9vL9ra2tDX1wen04nW1lZks1nEYjG0tbWhsbERiUQCZrMZDoeDRSAJMQq8TyLY6XTiyCOP5Pp3dHSwhZTI5XK8fe9yuVAulznT1J6HoTo6OjBs2DAWwmSNJbcIn88HXddRqVTgcDg485TL5UKlUoHb7eZtfbJw032hkGAUkYFcNsjFAAC8Xi+i0SgL3HQ6DYvFwt9P5SHXAnJRIPFdHWNXIpF8NnLrXyKRSP5ODmTrn/xGSeQIIVikFotFqKrKvqo2m439UovFIiqVCkKhEPr6+ngLnLagVVVFpVKB1+uFqqrIZrOor69ni60QAvl8HsFgsMbXNZlMwmKxcHYqCgnV2toKABzAn2KJhsNhFnuUYclut++VWYkSGpAAIxFoNptht9tZFO/YsQOBQAD19fX8vnQ6jfr6ev7u6mtTsH1g0NpJaUhJ8NEBNfrswMAAwuEwUqkUQqEQJwgoFovsB5zL5eD1etmPmEQxpWOl3xHJZJIFKG3nVyoVlEolBINBbN++na3Zuq7z+0kAkz8rCXZahMgDVZL/yxywj6oQQlR3SjqZWr3yl0gkEsneVCoVqKoKj8cDRVH4AJGu6ygWizX+iRKJRCLZTfWODsVtJt/uurq63T6q1aK0UChwQGmfzwez2SxTvUkkEslnYLPZ4HA40N3djdbWVvT392Ps2LFQFAVer1eOnxKJRPIZ0IFL8uMm96hQKMQ+6ABgpeDDtDVEDvY08MpUbxKJRLJvaKuqtbWVg/v39fWxK5UcPyUSieSzURQFTqcTbrcbqqpyjGcKhQcAZgr4XCgUaj5M/kMSiUQi2TeUUx4YdAOIRCLIZrNwuVyc4lMikUgkeyOEgMPh4PB1FF1jzwX+Xj6qLpcLfX19CAaDyGQy+4x/J5FIJJLB8E1msxlbtmzBmDFjAIBP51cqFXlYRiKRSD4Dm83GYeXo8CUd+qwOX2dSFEVQrmSK41edVUXGeZNIJJJ9Q6dV6WR3uVyGy+WSvqkSiURygGSzWQghOBJJMplEfX397sNUVqsVwWAQuq4jm81i6NChMJlMHFJFUZR/ZPklEonkkEXTNA6UH4/HYbPZMGrUKBSLRQ7jJJFIJJK9oYgpwO640vF4HKlUCmPHjuX3mYQQgjKMjBo1Ctu3bwcARCIRDAwM8KEAiUQikdRSV1eHZDIJAGhqakImk0GpVKr5vUQikUj2TUNDAxKJBGfBy2azOOKII7Bhw4bdcVRlwH+JRCL5+9hfwH+JRCKR7JsDDfgvPf0lEolEIpFIJIckUqhKJBKJRCKRSA5JpFCVSCQSiUQikRySSKEqkUgkEolEIjkkkUJVIpFIJBKJRHJIIoWqRCKRSCQSieSQRApViUQikUgkEskhyX6FqqZpnH1F13WoqlqTrUpRFKiqWvN+in2VSCT4/6VSqeZ9pVIJQggUi0UAgxkKMplMzXeXy2UMDAzw3wmK+ZpMJmEYBueJrf4clYHKXKlUoKoqDMMAMBj3UNO0mnKrqsr5Zul9iqKgXC6jXC6jUqnw3zRNq2mHcrnMZUilUlwvCvqdSqVq6lapVCCEgKqqNekW6XX170qlEkqlEv9fVVXkcjn+DiKfz9e0Z7lchqqqiMfj/B7DMFCpVGqu97fQdZ2vQ+UqlUqoVCoABu8x1Z++u1gs1lyf7iu1pRCC7yv9PhaL1bQn3TMA6Ovr499ROeh3e6aq1DQNpVKp5t5KJP9I6JktFAooFAoAwM+npmmIRqM8xlb36f7+fn5dqVTQ29vLnzMMg68FDPZT6v80dtFYVd1HFEVBIpGo+Z7qMTybzXIfpb7+WUlfdF3fq/8JIfZ6f/X4XN0G2Wx2r/dRn6frV7ddLBbjv5XL5ZrPFotF/myxWKwZX4QQPH7vOa5SLvF8Pg8AfI2BgQEYhoF8Ps/tuS/2V3+6fi6XQzQa3et+VNd3X+NyoVComfto7qm+xqpVqwAMtmexWOS5RlEUnr+r27q67SqVSs29ofJ+Vh0LhQK3iaqqez2Pe85JRCaT2et+G4bB30fzB5Wlej6l+YPuaaFQqOkLe0Jzc3V/ymazrF2qdcae7V/9/+p2ovkGGJzT97zvlNkzk8nsM5unpmkoFosoFovcbvQ80jNTfZ8BIJ1OQ1EU5HI55HK5vfTKntqrVCrVlPlvPbf/bOw34D+9tlqt/CHDMFh4BoNBJBIJ6LoOv9/P73e5XADAObCBwYfFarXCbrdDCMGBXena1YO31Wqt+c50Oo1gMAhgUPSFQiH+Gwkgm80Gu93OYozKRzeMAnJXUy3AXS4XzGYzD85er/czG46umc1mEQgEeKKxWCycCqyabdu2YdSoUahUKlAUBU6nEzabDZVKBTabDcViEXa7nYPe2u12FItF+P1+ALuFrd1uh9m8e32RSCRgs9n4fdWdxGazge4ttZHVaoXH46m5xv8PJASrr0Gdw+l0olQqwWw2w+FwoFQqwWq1wmw2w2KxQFVV5PN5hEIhpNNpWK1WGIbBZQcGB3S32w2z2YxisQiPx4NKpYLqZ5QCBDscjn2Wkd63r/stkfxPsr+A/7Rg9Pl8/BmaUBwOB9xuN0qlEo+XJFRo/Nu1axfa2tr4b3Rdi8XCz38mk4HVaoXb7YbJZEIul4PdbofD4eDxxmQywePxcH+gidLtdvNrh8PBQbYzmQwMw0BdXR2AwfHHbDbDbDbz5Gi1WnnSt9lscLvdPGaXy2UUCgXu22azGfl8Hh6PB1arlVN0p1IpeDyefaaapbGmuu0AsBj3er1IJBJwOBzwer0stJqamgAMjiUejweGYXC50uk0bDYbp20k4vE4QqEQyuUyvF7vXsluFEWB2Wxm44LJZILD4WBR+Fn1t1qtnL+cnhcah8nI4nA49qp/qVRCsVhEfX09t4WmabBYLDw3k3GnpaUFhUIBJpMJdrsdmqbxnLtn/axWK5LJJFwuF1wuFwqFAnRdh8fj4fqqqopUKsV1KpVKsNvtsFqt0DQNbrcbwO5nnupFQdrpGgMDA2hubua/0xhO7WIymfi5z2Qy3E75fB7ZbBYtLS28gPB6vWygoWeSngUSftQHbDYbDMNAuVzmslIg+T3b2OFw1MyFVCdVVVnj1NfX8+8rlQoKhQLq6uqQSqWgKAqCweBec5GqqigWi6wpqrUM9X3qi5lMBkIIuFwunuv2fOaBQa1R/bd8Pg+n01lzbaJSqSCfz/Pzc6hyoAH/DzgzFYnI6kahVUT1QEMDHjAoKFVVRSgU2ushyefzsFgsfNPMZnNN50omk7Db7fB4PNB1HblcjsXpwMAAvF4vzGYzDMPYq1PuC2qI6rLTKicUCrG4pY5DA6iqqjwB0WqYBDFBAw9ZiKnNqLNpmoZkMonGxkZomsYTTbVIrxbf1b9PJpPweDx7dYRSqYRUKoWGhgaoqgqHw1Fzw4UQSCaT0DQNkUiEy2mz2bgTftYEUY2u6yzcnU4nD4TVnZhW2TTQ22w2uFwunuzoXlksFl5wVA9yXV1daG1tZct1MBjke5XP5+H1emveT6/pb1Q3RVF4At9X55VI/qc5kMxUuVwOFouFRSEtigl6dmnsVRQFLpeLJ1lg0IpE4oosp42NjWxV8Xg8GBgYQDgcZoGWyWRqFvQAeGyn1zSekSXJ4XAgnU6jXC6jqamJx3jDMODz+Xj8oAVoNSTKrVZrjaEik8kgEonwYt7hcCCZTMLpdHIdyXpLYozK5/f72QLrdrt5fDOZTGwE6ejowIgRI/j7VFWFz+fj9hgYGIDH4+H0jC6XCzabDYVCgcdai8UCp9PJcwtZupxOJ9LpNDRNg9/vh9PphKZpLNr3V38A2LFjB/x+P8LhMNLpNAzDQCAQQLFYhM/nYwvpnnOkYRiIxWJwu9018x2AvcbCdDoNj8fD94eeQQCw2+28YKkWQP39/SzqyVoZDodrnkun08njKhkbcrkcHA4HHA4HP2tkfKLni0Q9Pc/V91kIweXfvHkzxo4dC8MwEI1Gkc/nMXr0aLbYWiyWmrH8L3/5CyZNmoRUKgWn01nTztTnqN+Vy2UW+D6fD7quw2QywWazIZ/P82KhWvhbLJYaIwz1u2w2C7/fj1KphFgshra2NjYu0dxPC0la8BFk6Q4Gg3A6nWxJJm1Ez8GelMtldHd3IxgM1twXYLclXAgBi8XClnZKQ/r3GqI+bw5UqB7wbG4ymXgrqVrckGUQGBRPyWQSdXV1cLlcPEiqqore3l64XC4EAgHkcjkIIeD1evlBy2azLEatViuvmhRFgd1urxlw6abRVjw9gOVyGYZh8IqKcm4ThmHUbNurqop58+bhyiuvxNFHH83fZbFYEAgEYDaba+pKq0ZarVH9E4kEQqEQ3G43rwqpfrR6bGxsBIAawZ1MJmGxWFBfX49SqcS/j8fjaG5u5rakstOARp2tqamJB4R0Ol1T1k2bNuHJJ5/E0KFDcfnllyMUCvFgQwPw/kQqAO645XKZJ2Kbzcb3nAbD5557DoZh4IILLoDf70cul4PP5+MOQyvmSqUCwzAwMDCAhoYGPP7443jppZdw1VVX4dRTT4XL5UK5XEYul0NDQwNbN1RV5QWJoiiw2Wzwer3IZrNwu91wOp17LVj2tYqWSD5vyLJJ4w4tOjs6OhAIBFBXV7fPxXZ/fz9CoRAvyuhzbre7xqpJ/ZgEHlndHA5HzY5W9a4PjWE0RtLkqes6fvGLX6BSqWDBggUYOnToXmKXJnghBPe/6sm5Uqkgl8vBbDbD4/Gwe5DVakUqlUIwGERdXV3NFqwQgq3Ie45LVB8SX2azGblcDqtWrcLNN98MRVFw3nnn4bLLLqvZBaN5ghbOAGp2b+jekHUUABsFTCYTW5Gr5xCqB20jl0qlv1n/fD6Pu+++G+3t7bj44ovhdrtZtFWLE2pPmmfJmBEOh/dadNN8ZzKZsHHjRixcuBA//vGP0dTUhMbGRi6HrutIp9Oor69n66+mafB4PIjFYrjlllswYsQIXHHFFQiHwyiXy0gkEhBCsPWddsjo2SIrPD1T1c8GGbx0XYfNZuPPkeWy+n4qioKdO3fiww8/hMPhQHNzM5qbm3k+IYMPCVZVVeH3+zFp0iQA4EVYX18fGhoaYLVa2b2DhLPdbueFEc19iqKwuNtXn9N1HYZh8E/a/aR79eKLL2LJkiW44YYbcPLJJ7OBz2Qy1SwsqQ5msxl+v5+fu3w+zwaxQCDAeoXqFI1GMWzYMDidThQKBd6FpQULPfukG6qNb+RGuKdbwv8G9itU0+k0fD4f32hgcFCpVCooFos84NCW8pAhQwDs9jm12WwIBAJoaWnhz+652qAbmUql2MJKKzNaDZJIpO0NGoipA9BKdk9hST/ZhGwy1Vg+du7cib6+PlitVvj9fvYJ0XUdgUCAt9LJUkdlJ58aEuo2m41XVLRyDwaD8Hg8vAKl1SXVudpySFskANhqST/pgadBmLZ53G43MpkM/H4/fD5fTd0bGxuxbds2Hqyr3SN0XYfdbmdh/regbUO6VyQS/X4/34dSqYSOjo4aPxuyuFRbLACweCXhLoRAd3d3TafbM096PB5HU1MTD2JOp5OtAbT1QX5YZK2q3oaTSP5RUF+n/kDP9s6dO3H77bdDVVVce+21GD9+PPuiB4NBxGIxPPDAAwCAa665BpFIhCf30aNH8y4QCSaydpLgrHYroEUmWX8Icm8ym801Yq6vrw+apqGurg7RaBQNDQ0sOGiSpd0wEirVbk80RpKfYGNjI/r7+1FXVweTyYREIoGmpiYW8LQ1SmMR+aeTCLDZbGyJKhQKEELgzTffxL333oujjz4aU6dOxXHHHVdj+FBVFYlEApFIhHeYTCYTW0dpu5YEDlmRfT5fjXtEJpNBMBiE1WpFPp+HEIIFSbVx4bPqDwB/+tOfYLVaeYyj+Yx2H2nxT99LwoyMBLTdDAAulwt2u53ve29vL7q7uwGAjTVk0DAMA/X19YjH42hoaEBTUxOP+S0tLdi0aROGDh3K7U6L/UKhUGOprHYbo/FWCIH+/n6Ew2HeXbPb7XC73bxbSM8KWVvJ+mqxWPDmm2/inXfeQX19PYYNG4b169dj1qxZAIDHH38cU6dO5XKT0alcLqO3txd33XUX/vCHP+C6667Dtddey+UkdwZqR3JpoDlJURQ2VtF8lE6nWbTabDYuOz27dH+p3TRNQzweZ5FLOxHU5lRfErulUgkWiwUmkwnZbBZCCASDQf5+6nsAEAgE4HA4+Nq0IDUMg11mqF8TJFrtdnuN8Yj6z57i+Z+V/c7ktC1PlbdarTxwOJ1O6LoOl8uFYrGI7u5u1NXVwe12o7u7G4899hh0Xce//Mu/YPjw4SiVSjXCN51O11ggyYoJDDZ2NptFOBxm0Uc3UNd1ZDKZmpUu/Y0EJFncSGiZTCYepKu3Md57770aHzFaidHARp9RFAWFQoEHfKp/qVRi0RWLxeBwOHirgHyhCoUC1zkSiSCXy9VsW5dKJV7pUSeqFqY0mRB0P8hiWL0Vlkql4Pf7efulpaWFBTENSLTaTSQSXPbPglb21RMZ3Z9EIoG6ujqEw2Fcf/31cLvd8Pv9LBYVRcHAwACamppgsVjY74n802KxGCKRCAvngYEBOBwOFrOxWAyNjY1oampCLpfDVVddBQC4//77ecuK6kRW+GoXD2lRlRwq0DYdTXhmsxmffPIJPvjgAxx55JFob2+Hz+djERgOh5HJZFgsRSIR2O129lctl8vsx15t1crn8+zqQ2MzbcHSYQ4hBEKhUM32PLkDeb1eFqler7fGQkm7TdTnaLyqtrjl83l2YyAh6na7ub/SwjmVSsHn8/EiU9d1HmurxR5BIpnOKZRKJfT09OCZZ57hRX42m60xqNB3er1e9k31+/01O4PRaBSRSIS3+D0eD88ZTqezxpeVxDKVjf7/t+ofiUTg8/nQ0NDA4xLNo9W+q8Buly8SXAB4Z2pP1y8SONOnT8fRRx/NvojpdJotb9Se0WgUdXV1vMVNB5gqlQobkOg9tN1aKBTYAnnzzTcjlUph4cKFGDduHM9fZAHd00pN7Ud1oHmUdvGSySQ+/PBDxGIxXHTRRTynkqX2zTffxHHHHYeGhgZks1k4HA6e6zOZDNauXYt4PI7hw4cDGDTckNW22kpN5z9sNhv6+voQDAa5TGStpeep+qAvGYGqFyzFYpEPkdEc39fXh/r6+n0ae8xmc01ZyMeZrLvAoMWV/Lx1XUc4HIbT6USxWOTndfr06fj+97+P888/H7quIxqNwu/3w2azsetfNdUGvQNxifxnYb9CtXowK5fL7N9TKpXQ29uL5uZmuN1uvlkkqOjmkvP28OHDazogMDjwpdNpHsS9Xi+sVivi8TgcDgcPanQzYrEYDMNAU1MTQqEQd2wafD0eDw8e1c7KAPY6VEMrK5PJxALUYrEgFoux2KZtELfbzSslRVHYZ8dms7G1wuFwIBAI8MCeSqUwbNiwwUb+61bRpk2b0N7ezqtk6hTxeJzfS+zatYu3/WiwpImr2sGe2pNeNzc3Q1VVuN1ueDwedHZ2oq+vr2ZASiaTOOyww/YrUqkefr8fDoeD3SVIzNfX17NVIBKJ1Nx7at+Wlha2ZtMWGfklNTY2IpvNIpvNYsiQIXC5XHyYhBYCtKrWdZ3rQJaWeDzOCyf6PloQAIMT16HuTC753w2NB/l8Hi6Xi607DQ0NPK794Q9/QF1dHS666CLebgQGF1ojR46E3+/nxd2WLVswfvx43tIPhUI8Fo8cOZI/29PTA7PZjObmZrYE+v3+GmugyWRiUUWWMprgyF8zHA5z9JZIJFJz4IasetXuSHseQDUMg/t7JpNBuVxGJBJhayZtFVcfXCLhTGKCLKU08XZ1dWHXrl1oampCOp0GMChKqZ0KhQLXs7u7G62trXuJ+XK5jJaWlhoBGI/HEQwGeZwnN6mBgQHous7Cl9qPLGZ/q/4UYYF208gAQX791e+n+ZUEYkdHB8aOHcuRV8g31maz8b0igw+JF5pDK5UKBgYGUFdXh1GjRsFisaCvr49FfblcRn19PfvP+v1+3nGjuRgYHIcDgQBisRifoK8+0EuitnqntHrRQZEHAHBbb9iwAdFoFLNmzWKxWV9fj87OTjQ2NmLDhg0olUo1h4SJ3/72t0gmk3C73YhGowAGNQrNkeTuQJ8lH1NaBFYqFWzevBkTJ05EKpVi9wDaESY/SfLDzmQycLlcLGhNJhOi0Sh8Ph+am5v54CK1KUUi8nq9fJCPDrdVHwa3Wq3w+XwoFos8DlT7N/f09PD5G/Jrt9lsCIfD3Fc8Hg9SqRQvuqp9a2k+/GfxVd0vhmEIIYTQNE1omiYACF3X+XflclnQe4h4PC6WLl0qvvOd7wi32y2am5vFj3/8Y2EYhsjn8+KWW24Rzc3NAoAAICZOnCjuvvtuEY/HhRBCvPbaa+Ib3/iGGDZsmGhsbBTXXHON6OzsFEII8cknn4h58+aJ66+/Xnz66aciFosJIYRIpVJi/vz54oorrhDd3d2iUqmITZs2iblz54ohQ4aIQCAgLr/8crFu3TouJ5Vd13Wh6zq/LpVKIpVKif7+YTFS9wAAIABJREFUfjFp0iTx2GOPCSGE6OnpEdddd51YuHChePzxx8U111wjAIhp06aJp59+mssihBCVSkUUi0UhhBADAwMik8mITCYjdF0XzzzzjJg5c6b485//zO26ZcsW8a1vfUs8+uij/DlN08T1118v5s2bJ9avXy8ymYzI5XLi/fffF5MmTRJ+v1+cdNJJYsmSJSKRSAhVVfn7161bJ2699VYRDofFyJEjxTnnnCM2btzIf+/q6hInnniiuOeee0SlUhFCCNHd3S1uueUWcfHFF4sNGzYITdPE/rj44ovFz372M7F48WLxrW99S7S0tIgJEyaIhx9+mJ+TXC4nrrjiCnHJJZeIdDothBAiGo0KTdPENddcI1paWsTIkSPFlVdeKV588UUxZ84c8V//j733jo+yzN6Hr2QykzaTzKRMyqTREhIgCUiTLkgRC6igsK6CIsUCUUBZlq9YAEUXEWVFWQMq2EBWRAQUFFBBmkgVkkB6n0yml0zJ3O8f8RyfiSj8fu/uu373zfl8/BiSmed57vLc97nPuc517d0rhBBi586dIiEhQZw8eVKsWLFCxMfHC51OJ5544glhNBqFEEKsXLlSqFQqnk8qlUqsXLmSn3HPnj1i/PjxIjw8XHTv3l2sWrVKNDQ0XLVtHdZh/2/N7/cLv98vfD4fr5MA+Gdag+i98Hg8wu12C71eL2644QYxa9YsMXLkSPHoo4/yuuBwOITD4RCzZs0SkydP5vv8/e9/F+PGjROXL18WQgh+f5966ilx2223CSHa1ubVq1eL8ePHi127donbb79dJCcni4yMDPH888+LqqoqceLECXH//feLiIgI0a9fP/Hiiy8Kt9st3G63cLlcYsaMGWLmzJnis88+E9dff73Q6XRi2LBhYsuWLcLlcgm/3x+w9j3zzDMiPj5eqNVq8eijj4ozZ84In88nvF6vOHv2rNBqtWLt2rXiscceEzqdTuzdu1fY7Xbh8XgC1iCv1ytOnDghlixZIvr06SMiIyPFn//8Z3HgwAH+zL59+8To0aMFABESEiIAiD/96U+irKxMCCF4rRNCiM2bN4uxY8eKw4cPCyGEsNvt4uDBg+KJJ54IWD/0er1YsWKFuPvuu0Vtba0QQojy8nJx8uRJ0bt3b5GUlCSGDx8uPvroI2GxWITT6RRWq/Wa2m8wGMTYsWPFa6+9Jlwul7DZbKK8vFysXLlSjB49WlRUVAiXy8Xj2draKhobG0VhYaEYM2aMOHHihJg7d66Ij48X6enp4tlnnxWVlZU8t/bu3SsSEhLEuXPnRHNzs3C5XMJgMIiVK1eKrKwsERkZKRYtWiTeeecdMXnyZLFr1y7hcrmE3W4X48aNE0uWLBHHjx8XI0aMEADEhAkTxPHjx4XD4RAfffQRr7kARGRkpHj88cd5zIqKisS8efNEfn6+iImJERMnThT79+/nfnU6ncLv9wuTycT/rq+vF3/729/ElClT+HNVVVWisrJSjBo1SsyePVvk5eWJAwcO8H0cDodoamoSPp9PjB07Vtx1113irrvuEps2beJ7CNG2J86fP1906tRJdOrUSdx2223iu+++E0K0+Q9Wq1V88MEHYuLEiaKwsFC8/vrrIiQkRPTp00c8//zz4tKlS/xMVqtV1NXViYULF4rMzEyRkpIinnrqKfHyyy+LXr16ibKyMmGz2XiuvPbaa2LgwIFCrVaLESNGiI8++ojf9ZUrV4pJkyaJLVu28PXPnz8v3n77bdGvXz/2WQwGg/D7/aK0tFRMmzaN+10ul4vRo0eLL7/8kr+/Z88esWjRIgFAZGdni4ULF4rDhw/zXKI16Y9u9Iw0hh6PRwjRthYA4M9d1d0mmiEyl8uFHTt2YNGiRejZsye2b9+O119/He+//z6mTp0Ko9GIZ555Bl988QUefvhhzJo1C99//z0mT56MuLg4nDhxAjNnzkRcXBw+/PBDvP322ygtLcWiRYtgMBiQk5ODqVOnYu3atRyat1qtCA4OxoEDBzBo0CBoNBpcvHgRjzzyCEJDQ7Ft2zZs3LgRfr8fkydPxvfff8/PS/gk6UkjLCwMSqUSFouFw+3V1dUc4SssLMSBAweQl5eHr776Crm5uVi0aFHAdaXh/tDQUERFRTEWdsiQITAYDKiqquJ0VHV1NXbs2IHjx49zVIVoODp37oy0tDRERUXho48+wpw5czB79mxs2bIF99xzDxYsWIB//vOfnLKprq7Gvffei/LycmzevBlLly5FcnIyZs2ahUOHDgFow6jGxsYGFFk9/fTTOHjwIObNm4ecnJwAbtT2nIitra1wu93QaDRYv3499uzZg759+2L9+vUYOnQo1qxZg6+++orZACj6IC1amD59Or744gssXboUGzduhEajwWOPPYZLly4hIyODccwWiwVPPvkkwsPD8e677+K5557Drl27sHbtWggh8NBDD+Hs2bOYPn06HnzwQRQVFeGhhx5CS0sLdu/ejdmzZyM3Nxf79u3Ds88+i82bN2P69OlMbdJhHfafstDQUK7yBsBRJ8KLZmRkYN68edi2bRvWr1/P9D+0XlE2ob6+ngsNKRvTPlpCkcTU1FTs3r0bTz/9NMaPH4+NGzdi8eLFePrppzF27FgsWrQIY8aMwdatWzF69GisW7cOGzdu5ILF+Ph4vPvuu9i6dSsKCgpQWFiI7Oxs3HPPPdixYwdDjYxGI+69915UVlbipZdewnfffYf6+nosXrwY33zzDaf19Xo9XnnlFTgcDixatAgej4cjYNJM15kzZzBv3jwcPnwYq1atwtatW6FSqTBz5kx89dVXAIAbb7wR27dvx4svvoghQ4agsrIS69atY0gERSMtFgtGjRqF0tJSpoSiiNO6detQUVEBm80Gh8MBt9uN8vJyDB48GMHBwfB4PDh69CgeeeQR3HXXXXjnnXdw9913Y8GCBXjnnXc4uut0Oq/afor+6fV63ne++eYbbN68GS+99BLS0tIQGhrKa29wcDDUajV8Ph/OnDmDyZMnIz8/Hxs2bMBTTz2FLVu2YPXq1ZzqDg8PR1NTE9M2yeVy/O1vf8PKlSsxY8YM7N27F0lJSVi9ejU++eQTLpyj7NyePXvw0ksvYebMmfjmm2+g0WgwduxYmM1m3HbbbWhoaMCSJUtw8803o6ioCAsWLOD97IUXXkBFRQVmzpyJzz//HMnJybj55puxefNmAIFwDcooWK1WbNmyBZMnT+bMWHJyMvR6PVQqFUaMGIGRI0fiH//4R0CUPSoqCocOHUJzczMefPDBAAxsUFAQTp48iblz5+LixYt44YUX8MknnyA6Ohp33HEHTp8+DYVCAZVKBYfDgUOHDuH1119HUFAQDh06hBkzZmDNmjXYuHEjgLaIp0wmw9KlS7F9+3Y8/vjjWLduHUJCQvD6668zYwVZQUEBtm7diieffBJbt27FsGHDsHTpUqxfvx5yuRxDhw7F6dOnub11dXVIT0/Hnj17cMcdd3DUWK1Ww+VyoVOnTvjHP/6BgwcPIj8/H6tWrcKGDRswdOhQAMBnn32GBx54AGazGXv27MGrr76KqqoqLFiwAMXFxQy9+G/iEr+mahNaTOrq6pizbfDgwbjnnnsQHx+PixcvorCwELfffjvOnDmD1NRU5Obmwmq1wmQyITQ0FKmpqQDaOvmRRx7Bww8/zNhWlUqF++67D19++SXuueceqFQqZGVlYd++fejevTtCQ0Nx5MgRLt6yWq1oampCSUkJ5s6diwEDBiAoKAgJCQm4fPkyLly4gF69el0TRuPYsWOYMmUKYmNjOew+YMAAzJgxA8OHD2fqp7Nnz8JgMDDVSWhoKPOkUUqDMFzh4eFITU1FWVkZ7rjjDgBtpMw9evTApUuXUF5ejry8PLjdbpw/fx633347bDYbfvjhB2zevBnTpk3DnXfeyeB7pVKJ9evXo2fPnrj++uvx3nvvYdCgQViyZAkXrw0YMADPPvss03fU1NSgvr4eaWlpsNvtWLt2LYqLi7FixQr06tUrgLfu96yhoQGRkZFYtmwZunbtCrlcjt69e+Pbb7/FxYsXMWTIEC6ioorEsLAw7N27F+fOncObb76JAQMGICIiAllZWYiJicFHH33ETiQ5uFOnTsW0adNQX1/P/XTmzBkGoxM/HgDGCMlkMrz33nu49957sXTpUshkMpSVlWHt2rV4/PHHsW/fPtx+++3XMsU7rMP+I6ZQKHDdddfh6aefxrp16zBr1ixYLBbExsYGpMUTExMZr0rOL+HxqdiSCMvdbjeys7PxP//zP+jbty+SkpJQVlaGP//5z7BYLJgyZQoGDx4MjUaD4cOH4/Lly6itrYXBYIBcLkdjYyP69u2LhQsXIi8vD16vF1lZWYiIiMDBgwcxYcIEKBQKLF26FPHx8Zg1axby8/MBAAsWLMDGjRtx5MgR9OzZk1Ovjz76KCZNmsTrFfALC4HZbEZiYiJ27NiBbt26YcmSJcjMzAQAjBs3jg+63bp1g0KhgFarRVNTE9MESqmy6P9yuRyhoaHIz8/HiRMncN111wEADh06hLy8PJSWlqKsrAx5eXnQ6/UoKipirGdZWRnef/99TJkyBQUFBQB+oTf84osvMGzYMOTk5GDNmjVXbX9SUhKampqg0+lw5MgRbN26FR9//DG2bNmC/Pz8gKpxclYJBxwWFoYXX3wR48aNQ1RUFCoqKlBcXMzFvvQ9lUqFhoYG1NTUoKmpCQcPHsQbb7yBKVOmwOFwICcnBykpKXjqqacCuEZDQ0Oh0+nwyiuvICUlhemSfvzxR+zduxfTpk1jCiiCHRCE4uLFi9i+fTvef/993HLLLQCA/Px8hISE4MKFC4xzpmIjKsAiqjOquyDomBACzc3NaGlpQd++fbFu3TqUlpaiS5cuHCz79NNPMXLkSCQnJ/PeS3CEnTt3IjU1FUuWLEH37t3h9/vx6quv4i9/+QtefvllPPPMM+jSpQvUajWEEJg/fz5Gjx6NuLg49OjRA9XV1bDb7TAYDJDJZPjqq6+wc+dObNu2DYMGDUJwcDBuvPFGhISE4JNPPoHD4UBiYiIOHTqEqKgoPPzww7jhhhugUCgwYsQInDt3Dnq9Hj6fD127dkXPnj1x9uxZTJ06FQqFAk1NTaiursYdd9zBWFaCctD8jYqKgtVqRXp6OvtPVVVV+Pzzz3HnnXdi+fLliIiIQEtLCzIyMvDss8/i/fffxzPPPAOz2Rzgm/xvt6tGVCnq5Xa7IZPJ4HA48MMPP6CqqooxFxkZGRg0aBAqKiqQnZ0NAKisrERUVBSys7MDqsHHjBmDBQsWIDw8HCUlJWhpaUHXrl25ug8AunXrhj/96U9oampiR/f48ePIz8/HsGHDEBsbi+DgYERERKBv375oaGiA3+/H4MGD8emnn+Luu++GUqm8pkKa9PR06HQ6REREMJaoa9euzMsnl8sxYMAA6HQ6NDU1weFwMEaHogLE+0WOsVKpRF5eHk6dOsUVpefOncODDz4ItVqN4uJiAMDZs2fh8XiQnZ0NnU7HFC1jxozhwiC73Q6dToeffvqJMVsnTpyATqeDQqGAw+GAxWKBUqmETCZDRUUFIiMjkZiYiKSkJCQkJOCLL75AYWEhnnnmGWRmZiIkJARms/lXSiFXMrVajaysLKSmpsJoNMLr9SImJgbp6ekc/aHFLD4+nqMNJSUliIqKQs+ePTmim5CQgMGDB3NEhbDOffr0QZ8+fRASEoLU1FSkpaUxUJ9YIKSE1FSd6ff70aNHD3z//fc4cuQIZDIZ0tPTMXToUGzevLnDSe2wP7wZjUakpKRg1KhRCAsLw9KlS7logyhyzGYzF8cQBQ1Fk2JjYxEdHc2k5xqNhjF5vXr1gk6nQ3BwMHQ6HXr37g2Xy4Ubb7wRcXFxCA8Ph1KpREZGBtNM0dqWm5vLh+mWlhakp6djwIAB2LVrF6qrq+F0OvH9998jPz8fubm5jHHt168fFAoFi8DQ3pGbm4vU1FQu8qTIMBUsmc1m7N69GykpKcjMzAxgK8jKysLRo0fhcDiQlJTE9IEURGi/zksdvQEDBmD37t2w2+1wOBw4duwY/vSnPyE0NBTl5eW4dOkSfvzxR7S2tuKmm26CXC7HmTNnYDQaMXDgQPh8PlRXVzN3ZklJCaxWKxQKBfbv33/V9hPW1e/3o6KiAufPn8crr7yCnJycgGembByAgOKi/v37B1SFd+7cGSUlJairq2OWmZCQEOh0OqSkpKC6uhpWqxW9e/fmdVatVmPw4MHw+XzM30kFUd26dUNKSgqANi7VrKwsJCQkoKamhnGxRMMlfqY1BNoinF27dmXqsVOnTkEIgVdffRUPPvggKioqArDHVAnf1NTE1fTSaDrtvzKZDKNHj0ZISAgOHDjAfselS5ewa9cujB07FrGxsdDr9VzVbjKZ8N1336Fz587o3r07v1cajQZ33XUXDh8+jLq6OuaXValUuO6665CQkMCk+d26dcOlS5fg8Xig0WhQWVmJtLQ0pKWlBdTnEMaXAi1DhgzB8uXLMXbsWLS0tKChoQFyuRxZWVk4dOgQTCYTtFotrr/+enz77bdobm5GWFgYfvzxR9jtdvTq1SsA/0rUb0FBQYiOjkZ0dDQMBgMr2On1epw+fRojRoxgHyc4OBjdunXDgAEDcODAAeYRvhI36/9WuyYJVaISSUhIQGRkJN58803mKrvxxhvx5ptvYt++fQgLC0OXLl0AtDmAVqsVBoMBxcXF/LINHToU//znPzFp0iSMGzeOJ8PJkycBACUlJYiIiIBGo8G7776LS5cuwWg04quvvsKAAQOYhiU5ORkPPvggUlJSMGHCBCxevBh79+5lEPO1pn2pmMpiscBut8Pr9UKpVDIpvd1uZ/B6a2trQLGONGLb0tLCL15oaCh69+6N0tJSmEwmnD9/HsHBwRg7diyGDBmCU6dOAQBOnz6Nnj17wmg0wul0Ys+ePdi/fz9uueUWdswyMjIwduxYqFQq+P1+HD9+HEePHsUrr7yCLl26QKvVIisrCyNHjsSOHTtw7tw5WK1WrvI9e/Ysnn/+efTo0QMpKSlcgJCenn5N1BUulws5OTlMxC+Xy2Gz2dCrVy8YDAZWMWlubmYJPaKg0el0TM1D1DvELUhpTAA8l5qamvgETjRawC8qPcQ1SEB9u92OiRMnIjU1FbfffjtycnLwwQcf4Mcff+QDU4d12B/ZyEGJiYnBwoULsWnTJvzwww9cgR4bG8uyjET9QwVD5PTJ5XJ2iMLCwhAcHIympiamw6FiKrfbjerq6gAVp/r6eq6+pwwLZTAaGxshhIBKpYIQAvHx8TAajairq8OFCxcQGhqK+fPnMwWUXC5HWloa02olJSVBq9VCJpNBrVbDZrOxkhOlhImMvaqqCkII9O/fn1lAKBo0aNAgJCUl4fz58/D5fDAYDBzZk0ZTxc8sBPR7hUKB/v37o7KyEgaDAeXl5fB4PJgwYQIGDhyIkydPolu3bgDanMDU1FS0trbihx9+QHFxMUaPHg21Wo3evXsjMzMTs2fPhslkQmNjI0pKSnD58uWrtj86Ohp2ux3fffcd1q1bB6VSifz8fGg0GjQ1NTFLgRTGIX7m+SSlQpKkjoiIYKosKkwmp5jWUjo8SNWuGhsbWZ42OjqaIRlRUVHo1KkTQ9CIeSU6Ohp9+/ZlyqO4uDjmtLbZbPB4PMjIyMBf/vIXTJ8+Hd27d8fu3btx8eJFnDt3Dl26dOECLtoTie9bGlEFAqEwVAQdHx+PQYMGYe/evQx3++abbxAXF4fu3bvzfkL7Q319PVpaWpCTk8P7XlxcHLxeL1JTU5GQkMDMAK2trejcuTMaGxvh9XoRHR3NdFz0zvn9fpw/fx69e/dGQkICQ3EoAyAtlALaCuaee+45TJ06FZ07d4ZCocCXX34Jp9PJ4zJo0CAYDAacOHECYWFh+O6779C7d29kZGSwEpZUCIi4aKV7HtFVnT59GklJSVw4SdRpAwYMgMViwYULF3iM/1vsqqn/kJAQ1NTUQCaTISkpiVM5hYWFUCqVePnll3H06FGsXLkSDz74IFasWAGDwQCLxYK8vDy0traiW7duzB348ccfY+fOnRg5ciReeeUVpKamYvPmzXjrrbcQExPDeI0xY8Zg+/btjM1qbGzE0KFDufq1S5cuWLhwIe69914cPXoUX3zxBR555BF06tQJL7zwAq677jrU1tYGpJquZA6HAy0tLbxIk+48ECjBSXQbdEohJSmpsgWZEAKZmZkIDg5GVVUVjh8/jk6dOiEoKAh9+vTBypUrUVNTg5qaGgwZMgRdunRhbNmIESNwzz33IC4ujiVpq6ur0aNHD6SmpqK+vh7du3fHiBEjMHz4cDQ3NyMqKoqJgjUaDSto2Gw2VFVVYe7cuSgqKsKXX34Jn8+HHj16oKSkhNNrv2d0+paSYtOiKtVF/r81jUaDkydPIiIiAvHx8VyZmp6ejsrKSk6JSTkVpemMHj16YN68ebj//vtx+vRpvPXWWzh58iReeOEF3Hnnnb9iU+iwDvsjmVarZVL28ePHY9KkSdi4cSO0Wi0UCgXCw8MDOIsJfxYVFcUy0VTBT++JyWRCcHAwO1But5tlICntK2USUKvVqK+vh9fr5UO7FGoDgHGpdB9yChcvXoxbb72VFZ+I7YWCBUQCT8wpFDWU4uGvZlf6rFSBiIxw9rRuBwcHo3v37tDpdCguLobBYECXLl2QmJiIIUOG4Nlnn8WRI0ewb98+3HLLLZDJZBxpzM3NxZw5c5iUnSLDmZmZyM7OZv7Nq7XfbDYjNzeX0+QvvPACNm/ejOeeey4g4iVtj5T8XwiB2NhYPtxLFbL+FWY0GmE0GnmdLC0tZZUqEqshqAHVHxDzzuTJk6HX6/Hjjz/i/fffxzvvvIPk5GQ899xz6Nq16xXFCq5kUu5XoI22acKECZgzZw5KSkrgdrvx/fffY/r06cwMI+XM/T2jfZCCTcSXSlFMAMwYRJRSxHUupRSTzn/pvGtoaEBhYSH0ej0WL16MrVu34tChQ/j222+xb98+dsjz8vKQlZWFw4cPo2fPnjh37hzmzp0bwNojZU2gSn8p3RrBJ7xebwCzwv8f7KotJcoLAkQDbYOTmpqKiooKPP3005DL5fjHP/6BBQsWIC8vD3fddRc8Hg9Onz7NpMQZGRmIiorCrl270K9fPy6eAYDrr78e8+fPh9VqRWJiImv05uTkYPfu3UhKSkJKSgr69evHmJTKykpEREQgOTkZvXr1woQJE3DmzBncfffd2LFjB6677rproiZKTU3lCUCnYuKak9JeEEaHJkp7a68LnZycjOzsbHzyySeoqKjAnXfeCZlMhl69ekEmk2HHjh0oLS3F8OHDmXtULpfDYDBg0KBBnBoiGhqXy8WFDm63G2azGUOHDmWOVuIcBcCKLyEhIRg7dixmz56Ny5cvY9SoUUhJSWFqKqKf+T3TarUoLi5GeHh4gLJJbW0tcnJyIJfLodFoEBsby5KItLgePXoUVqs1gLORTtPUHoJwkNMbGxvLxRCxsbHMC0enSgKJU9SntraW8WcjRozAY489ho0bN2LGjBm49dZbrzr+HdZh/0kj0nzxMyXQjBkz8PDDD2PdunVwuVyIiorid4ccVRIfIZw5FZSQtLFcLmfJSKl5PB4olUqmRZLJZFCpVLDb7VwgQteWYgzp80ajEbGxsdDpdIiPj+fsyfXXXw+gLbKkVCoRGhqKiooKVo7z+XxMqE90chThIxnOtLQ0BAUF4fjx45gwYQI732FhYZy67dmzJ0JCQliKlBw5ouKRps/JgoODkZmZia+//hpWqxWjRo2C3+9Hbm4uR68uXbqESZMm8Xo4ZswY7Ny5EyNGjIBWq+WgBNFEkRNPwYffa39dXR2am5vx17/+Ff3798c///lPjBw5EhkZGXjggQcCnlXqqJLRWk4E9BaLBU6nk/HKHo+H116gLXL32WefsWSqQqFAQkICGhoaeM4QrSMJuKjVar4+OXBlZWXo27cvWlpa4HA4YDQa0dLSwoEkiqxnZ2dj5MiRGDNmDFwuF0aNGoUNGzZg06ZNAQW6lM4mjm/yJWhPJVGYkJAQOBwODBgwAJmZmdizZw+0Wi2MRiNuuukmPohJnbSkpCSEhYXhwoULvC/QWDY2NqKyshJarZazcufPn0dGRgaCgoJgMBgCeLfJYezcuTMuXLgAvV6PuLg4pq+k56Paiffeew9FRUVYuXIlevTogcjISIwdOxbFxcXo2bMnq8NRodjXX3+N7du3w+Px4LrrrvuVVCiZlNaK9kCHwwG5XM6YWiqu8vl8UCqVOHbsGKKjo5GTkxNAXfnfYNdEskX4HqVSiaamJjz22GNYvnw5MjIyIJfLcfnyZQwYMABCCNx6661M6q/RaDBgwAB07tw5QEqUUsjl5eUwm82cAiFnpa6uDhqNBnfffTf27t2Ld955B71792aMlsFgwKFDhzBv3jwA4JcrJycHPXv2ZAUOUvP4PXO5XGhqamLMD3EParVaxoiRyoPP52OuObonke+3V/IIDw/HoEGDsGPHDphMJuTm5kKr1SImJgbXX389PvroI3g8ngAsbF5eHhITE7F7926UlZUxnqW+vh5fffUVb0JDhw5FQ0MDLly4EADEPnz4MDuT9AJQ6i0sLAyPPvoo3n77bZSVlV1RP/hKRmNCcIz4+HjmQ6VCDpJibGpqYmxZZmYmrFYrzp8/zymKxsZGHD58mLG1Xq8XTqcTaWlpcLlcKC0t5RQQcb/SRiRdJGpra3kBnz17NubOncvprcbGRuTl5aFPnz64ePHi1Sd3h3XYf9CIB7Surg5AWwX0jBkzcPbsWRw+fBhOp5MjnaQiRDApo9EIvV6P0tJShgYEBwdzSpiuSXzPtPmZTCZeG8kRlerdazQaFBUVYf/+/VxZXl1djeNDy9jeAAAgAElEQVTHj+OWW25BamoqF50eOXIEJ06cYH5nIQTOnz/PmMbIyEhERESw0iA5BaQMRY6QWq3G+PHjUVNTg5KSEsa6ezweXLx4Ef3790dERATq6+s5hSytlqcIavssWHBwMHr16oUjR46goqICffv2RWtrK6KiojBs2DA89thjCA4ORp8+fXgtJbL37du3w+fzcQanpqYG33zzDffdqFGjrtp+2kdIwS8mJgYzZ87Ec889h6qqKrS0tPzqQEFROyo0BdqgCT6fD/Hx8fB4PLwOU0q6trYWNTU1SE1NRVRUFE6dOsXrrNlsxuHDh5m7kw4ySqUSKSkpzDdKzAFJSUm8P2i1Wk7jV1RUMOzk66+/xuLFi1FUVBSgqjVw4ECkpKTA5XJxzQfwC+E9qZyZTCZuG3Gz02fJGb777rtx4MABfPzxx8jNzUV0dDTzBpNIDgleDB06FGVlZSgqKgIAxMTEwGQy4eDBgxgyZAizzBDelLhf1Wo1ZxtIQIMK0Orq6lBdXc1CBR6PBw0NDYxzBcDZUJ1Ox7zCDocDFy9exKlTp1hZyuv1YsSIEbDb7di4cSP69u3L8AQAAY43wT6oOJmiwXFxcdDpdIx3NZvNfP1Lly7h2LFjuOGGGxieR7CJ/wa7akS1paUFKSkpqK2tRWRkJLRaLbp06YL33nsPADB8+HC43W5s2LAB+fn5ASIA4eHheP3119GnTx+mgcrMzMRrr70GlUqFHj16YP/+/XjnnXe4aMput6Nz584A2lRMsrKycOHCBdxyyy0ICgpi5yo2NhanTp3CuHHjsHz5cvz444/45JNPcPbsWcycOTOAGP/3zO12IyYmhouZqOqPgOBUvEB4H3K6goKCAtL/0olG2JCcnBwYjUbk5+ezsoZer0fv3r3x8ssv45577kF+fj6qq6uRmpqK7OxsDBw4EMuWLYPX60W/fv0AAGvWrIFGo8HAgQPh8Xhw3333Ydq0aSgoKEBBQQHkcjkuXLiADz/8EAUFBZg4cWIAVZTdbkd6ejoefvhhHDx4ECtWrMBLL730K1WLK5nH44FOp0NVVRWSk5Nht9thMpmQmprKFcjiZ7JnknJUKBS46aab8Mknn2DOnDmYP38+srOz8eWXX2LLli3QaDScEiFIiFqtZooZKqrasWMHAARsQBaLBVVVVfxcgwcPxquvvgqtVovRo0fDZDLh73//O3Q6HZNJd1iH/VFNo9HAYrFAp9PB7/cjLi4Os2bNwg8//IC33noLnTt3RnBwMJxOJ7p3746wsDB8+umnXNTx9ttvY8+ePejRoweioqLQ3NzM0tW0mUZFRcFms7GKDqkNUho1NjYWLpcLdrsdTqcTfr8fR44cwcsvv4ympiZoNBrs3LkTGzduxKZNmxAWFsaUcvfffz8WLlyIWbNmoUePHti2bRt27tyJpUuXIi0tjWFDpLkO/BIdJIolItKfMGEC5s6di9mzZ2Pp0qVwuVzYvn07vvrqK7z55pv8Pre0tECr1fI6S45de7quoKAgxMTEIC8vj2mi0tLSODLZp08fPPPMM1i2bBnLcRuNRowZMwZ//etf8dBDD8FsNqN79+5wOBz48ssv0drair59+yIoKAh33HEH9u/f/7vtDw8PZzgBVW6PHz8eR48exbPPPovVq1f/6tlpvaM1j7JqROzf2NjIxPTiZ2nSxMREpKSkICkpCSNGjMBDDz2E6upqDB48GCdOnMDGjRtRUlLC0ASz2cwa8s3NzbxXkiQrFYDZ7XbY7XbU19fj7NmzUCqV6Ny5M0uev/766+jcuTP69++Po0ePYtu2bSgoKGDxFcJoUnRQGlElaVSlUgmv1wur1Qqn04nQ0FDU1tZi+PDhWLRoEcxmM/7yl7/A4/EwDIacf6qzuPXWW7FgwQLMnz8f06ZNQ1ZWFlavXo2TJ0/ipZdegkqlgsVigUwmY1YcggV6PB7U19dDqVQGQA+PHj2K6dOnY+HChdDpdDh16hTeffdduN1uKJVKxsUeOHAAc+fOxfTp0+H1evHKK6/gzJkzvH8TtjQ/Px+xsbH49ttv8fzzz/PcAAIzsnRoVCgUUKvVOHv2LHbs2IHc3Fx06tQJU6ZMwZ///Ge4XC5MnToVMpkMhYWFqKqqwhNPPMEBwX8FNO+PYleNqBIIPy4ujrVz58+fj//5n//BhQsXMGLECCxYsACZmZlYt24dnzAsFgvmz58PrVaLxx9/HFu2bEFiYiKefvppPP7443j99dcxdepU2Gw2fPHFFxg9ejROnjwJpVIJp9MJk8mEhIQE9O3bF7fffjtPKr1ej5aWFg6jJyYmYtKkSbj55ptRW1uL9evXY+zYsYiIiOCKRaqgBcDh/9bWVqSkpAQA2UtLS5Gbmwu5XI5jx44xHvLChQtITU1l/Xi/389VhXRNn8+Huro6GAwGPqGlpqaiX79+GDhwIGPREhMTkZOTg+HDh3OFIi1gMTExeOyxx1BYWIhjx47hjjvuwOLFi3HDDTdg6dKljCfLycnB2rVrMWDAABQUFGDq1Kk4duwYVq1ahTvvvBMqlQqXL19GYmIiy8na7XZERUVh4cKFOH78ODZv3sz0Nm63m1Mz0nEneTyv14u0tDR4PB6EhoaiU6dOaGxs5Op7s9mM0NBQ5sOzWq1wOBx44403cPPNN+Opp57C1KlTER8fj+XLlwfIDpaWlmLEiBGoq6vj6ADpf8fExHBlK20MwcHBmDlzJj788ENERkbiL3/5C9auXYv9+/fjhhtuwCOPPIIePXpg2bJl6NWr17/wVemwDvs/N6pkpp+pUOLEiRPIzc3lTRoAY88AYNKkSRg5ciTcbjeKiooQHx+P6OhorFy5EgAwbdo0PPDAAxg2bBhWr14NrVbLDoZcLmd2DnIU9Ho9amtr0bdvX6auIVyl2WyGEIIpfyIjIzF58mQsWLAAq1evxsyZM1FUVITNmzdj/PjxHGVMSUnBu+++i1GjRuGJJ57A8OHDUV1djTVr1uDGG2/kg75Op2PIQlNTE2dNCHNJbc7NzcXatWsxdOhQPPnkk5g6dSrkcjneeust3HjjjQDA0VSqGic1IWmauX0aVSaTYfz48bjrrruYISUmJgYpKSkYN24cr5NA2xpMDABffvklPvvsM8yZMwfLly9Ht27d8OyzzyIuLg6xsbHIzMy8avv1ej10Oh1aW1s53d2tWzfMnTsX3377LXbs2IH6+noEBQXxvkQpaIVCwXR/NpsNUVFRsNvt6N27Ny5fvsxKS6R4RvvSihUrsGrVKrzxxhuYOHEiSkpKsGzZMvTs2ZP7jwpYqTgLaEs3X758memYvF4voqKiMGLECPTr1w+LFi3CSy+9BJPJhLFjx2LDhg3w+/0oLCzEjTfeiC+++AJr165FQUEBMznQs9Pekp6ejkmTJmHbtm1cmOT1elFfX49OnTpxwZNOp4NKpcLcuXNx/fXXIysri53DyMhIZGRkwGg0cuT6uuuuw9q1a5GdnY3FixfjjjvugMViwcaNG3HzzTezQhb5FZTRA9oc1bi4OKjVajQ1NXGR1dKlSzF69GisWLECM2bMgN1ux/LlyzFkyBAcOnQIYWFh6Nq1K7777jtERkZi0qRJWL16NR5++GH87W9/g9VqRX19Pb/7wcHBuO+++9CnTx90796dZYRpjkrnKwCkpaVhzpw5OH78OJYuXYqDBw8CaIvkb9q0CbGxsbjppptQUFCAtLQ0vPzyy8jKymIJ+P8qDOvVlKnIvF4vKzEIIURra6uorKwUjY2NorGxMeBvXq9XOJ1O0dLSIjwej7BarazkQeZ2u4XNZmMlkcbGRiGEEEajUVRXVwsh2tQhJk6cKN58803+vlTBQPpMfr+fr2UwGMSyZctEVFSUCA4OFgqFQkRGRrKSSVJSkliyZIkoLS1lxSdSWyHFFb/fL6xWKyslWCwWYTabxeXLl8XDDz8coNhB90hMTBT33HOP2Lt3L6tISdtYV1fHvz958iT3ldvt5vuQ2e120dDQENA+Uq4io/FpaGjg79PYCSFEcXEx91dtbS0rqhgMBlFSUiL69u3Lyhfh4eHcnrCwMDF79mxx5MiRgLGxWCw8Ds3NzUIIwaojjY2Norm5OaAdpPLidDqF1+sVPp9PFBYWitzcXHHs2DF+1gsXLgQo3Uj7QDrmQrSplFRUVPAzUT+07z+Xy8XP2GEd9u+yqylTkVKM1+vl+SxE2/pVVFQkzGazaGlp4XWAzOVyifLycl4bmpqaRH19vXA6ncLtdgu73S58Ph+rFNF7SEa/p7XNbreLmpoaUVNTIxwOhxDil7XC6XQKm83G//Z4PMJsNvO7aDAYAlT5hPhFmU+v14vm5mZem+x2u2hpaQlYh3744Qf+mdQJDQaDMBqNorW1Vbjd7oC9xuVyCYvFwtcis1qtwmw2815lNpt5XSFVJxqP9lZXV8f9S2MihAhol9/vD7gf/dzc3MwqeWTUvmtpf0VFBa9Fra2tvAcYDIaAcZPeW4i2MaR1kcbT7/eLc+fOBbTj7NmzrL5I162trRUmk0mYzWZhtVrFrl27RJcuXcR3333H19Tr9TwXpPeuqanh9kr7x2AwBOzjtBeR4hbtnw6HI0BVSjq2Pp9PfPDBB2LGjBli586d/CxOpzNAWbG5uZmfrbi4WLQ36e+kfe3z+VgpUgjBfS3dL8rLy/lnao/P5xMnTpwIuId0Hknf3fLy8oB/kzkcjl/NVyF+2QdbWlrEvHnzxNy5c3/13d8yr9crSktL2Scia2lpEfX19cJoNPK4UD+QwpxUyfKPateqTBXk9/sFnUgBMA0TVbJT0Yv4+cRNlXHtjYqNgF/oNYA2zWkirieVJIpEkiZvaGgoHA4HV947HA74fD789NNPePLJJ/Haa68hLy+PT1MAGIhvNpsZL0r0EsTPuX//fqZBioiIYKoQu92OzMxMdOnSBS6XKwBfSjhVaj+lG6R26tQp1NbWokuXLjCbzXxSI2357OxsJCYmMu8c4UWpYArAFQuZCAcbFBQUoHzV0tLCkRLgF/3k0NBQyGSyAM1ogmhQn1AqhcaDgPRAm25yZGQkU8QolUo0NzfDbDYjKyuL+zwsLCzg2ekadIqnVAU9KxV/rVy5EgsWLGBOw9LSUrzxxhswGo1YvHgxU8MQhILGVaFQ8HwibBeAX9FpUZRGehoVP1c+UzqtfWVwh3XYv9KEpFiE5htFx6Rzj/BrISEhvyLh9ng88Hq9AXrl7ecupbnp3aXoKykkURFjUFAQF9EQQwsVftCaQms9YQXp3fP5fIzVu5J5PB4IIfj526+d1A9ErQOAnw1oSyvHxsYiNDQ0gGNT/FwEdSVdcq/XC7fbzRXb9Px+v59xjVJMqvT/AGC1WqFSqQKqqg0GA0dzac+RRjypyNPr9TJWkIp+qJAmLCzsivtg+/bTWimEYKgD8cOGh4dzBJXmDxWFhYeH89pHWEXaL2icqX6C2kL3OXLkCHr16sXFUTabDW+//Ta2b9+Ol19+mSkDdTodZxT1ej2USiUiIiKYqiosLOxXevE0V0lsgfZhMurHkJAQns/0jhBvrtlsxubNm3H+/Hm8+OKLUKvVaGlp4b6m70uZDWgOUJ9K70ljEhoaGjAmdrsdwcHBCA0NRX19PfPFUhEiQV2oCJmyj5SFUKlULPBDfoTD4UBsbCxHiV0uV8D+SdcXP+NfAbBwQWNjIwoKCjBs2DBMnz6di8ev1fx+PxfsURS9PYewkBR7S6nb/qhG6wDNaWpT+yKza3JUaQDowmSUtiHgN4GqaSEBwDejf9ONpWFpSkFRp9fV1WH79u3YtWsXcnJysGzZMnZ+iBg4NDQ0ANvj9XoZsyOlkKAJZrfbOc1BgGfiICQ8DvH3kaNE3wHaFjfxc3GAzWaDEIKLtmiBoO+T0Utut9uZAosGISgoCDabjbFR1A6pOAINID0rLaqUpoqIiIDNZoPL5YJarWbsDm0AtFHRd0jFxWQywWg0MuctqdmQQ06A89DQUE7/NDc3M87WZDIhJiYGNpsNKpUKzc3N7Ky6XC7Ex8ejoqICzz33HIxGI6ZPn47k5GRs3rwZn3/+OZ5//nlMmjQJFouFF0QCq9NCKITgSluaK1SoRZXJISEhvOhL56NcLud2d1iH/TvtWhxVWg+pMp8KS6QHbVr7aK10uVycoqX33u12c2U/AA4AFBUVMa5foVCgqKgImZmZTJZOaw6tG1TxT89EjgE5nSaTidlempqaoFarWezF7/fzu0UHZIfDAY/HE+C8+f1+2Gw2rhUwmUwICgqCWq3mgpXo6GjuL+l+QIwAJGBAPLBKpZJ5r4OCgtg5l9qVDqaEfyT8PI0J9SOtGdKDcEtLC7Mk0J5GbCNS54CqsX+r/S6XC4mJiQEODQA0NTUhODgYUVFRzB9KRkUy4eHhPEb0PUpZh4SEQKlUMttLeXk50tPT4ff7MXr0aLjdbqxZswZ1dXU4ceIE9uzZg9zcXGzYsCHgYG+z2QIOOS0tLbDZbMwmQZ+hgxQxQlCRX2xsLMPHqA+l6zH5E9QXhK0+d+4cPvzwQyQmJmLWrFlMUk8wMrlcDrfbzfhbq9XK+xP93NDQEODosVPTroqfIBKkcNXQ0ACdThdQBEbvocFgYJlZmpMUfJHem/Y+6Zy12+0sgEP3J3XIb7/9FsuXL0dISAi2b99+zYpRRA1GMBoAvA8bDAYOQtHeTnOPDrLXwpX+n7RrdVSvOfUvRFu42W63/2ZImdJXlG4iczgcwmazCa/XK1wul9Dr9cJsNgshBIf7vV4vp8P37NkjevfuLaZNm8Z/lz4Lhd1dLpewWq2ioaGB0wT0e7PZLFpbW4XH4xF+v59/lqYJpGa32zkNQWYwGBjGIE250/NIr+XxeDiFJ0RbOoLSAH6/n1M8Pp+P7+P1ernPXC6XcLlcv0pht79n+74lu1K7rFYrt91isQSkPyorK4Xdbg+4H/XRlYygFW63O+BeLpdLuN1u4ff7A1IfFotFlJSUiFdffVV06tRJKBQK8fjjj4vPPvtMCPFLqpLScT6fT9hsNuHxeBgqQH30W9bS0hKQLpWax+P51Zh1WIf9q+1qqf/W1lbhdDoD0s0ej4ffdSk8hdZJMum75nA4fgWfEiLw/WgPj/L5fAEpa5fLFbDGURpe2hZp+vy31kpqF631VzKfz8fvptfrDXh2gltJ06Q+n++q77Pdbhd2u/03P/NbJl0vpeMkbYu0rbQuC/HLGuNwOITJZBJ2u53Xdr1ef9X2t99Daa2ka0uf8UrrOn2H/i+FawghfgVJoPV7x44dQqPRCK1WKyZOnCg++OADvk9zc7OoqKgIgEK03xtp/M1mc8Bz0VxvD1WR3l+6h7SHu+j1eoavnD59WixfvlyYzWZuj3SeENyBrknjIr2HFE7ncDiE0Wjk55K2x2Kx/Oae4nQ6RUNDA/cF3ZPeRek+SZ+7fPnyr/rfZDKJpqYmvi+1fevWrUIul4ubbrqJ23T48OFf9d2VrP17IoWOtJ9bHo/ninPuj2z/stQ/ACafpagBhZTFz+kMOpmIn1P+0pB9U1MTYmJiAk5x5EnbbDao1eqAqkM6eYeFhcFutyMuLo6pVaR8mwQXkKbL3G43g4hJ1aN9ip1SCCQNS+kCej6KAhA9CvBLlIOgAOLnKndK51OElKJ89HmKVoifWQPohOpwODiaQkVqFEWkqAz1OfHckUoFANZINhqN3E76bnv9a4vFAqvVygVbFBmlk2RjYyMSEhK4fyhC7PV6YTabmfO0PUxBr9cjLCws4LQvTQPRCdXpdHKxWXBwMOrq6jj6I4RAXV0ddDodHA4H8zgSswJFzqUnReK6pTlLXIgEF5FSewCB6mEd1mH/ahPXEFElqA6tGVcy4gKld1zKMkLFEdJoocFg4PU5ISGBo08xMTGcKg4PD79iQQUVHlFGirJRlBmjtZ+KZ81mM6vyUSFU+5Si2+3mYjGFQsFR2/YwJaIuvNJ+QOs88SX7f5aP1Wg0DKGi6Ctxs/4exZ74OQ3qdDqZK5RI1F0uF/PXUn9QJIqeNzw8PABW9Xv2W+0HfoFICCE4xR4ZGckUWzTOBHuiyCFFJCmiJ+13t9sdABGzWCwM0RNCwGQyITk5GUDbWh0SEoKYmJgAqBxZY2Mj9wXxZFP2SipFTvSDJO0JgKvlQ0NDeY+k94DmWPsUPmUAiYxfq9XyPkF7jjQS2NzcjOjoaE7JE+tEe1YfeufoPSG1SIK00PtH7fR6vQy3ID5aiqhSFtPpdCIsLIznAEmpUtuIPkraRtq/5HI5SktL0bVr14DnpH37WuaVdGwJNkLziWAKlB2h/Y9gI/8b7F+W+m+/oJBRdXZ7x5TM6/Vy6pwmrdFoZMoQqTkcDrjdbpbqa487NJlMTGtBmCdKxVB4m9IWpJMs7QQAzL1GKZPfw92Q0UJJWvMAAu5BnSvFfdL3iLCanlWa0peSG9MzXWkDk2ItaSGkdJGUHPpKk1L6THSYoLS/1+uFVqtlR5/SVLQZ/dZmSk43Yb7IoSXeWKvVyuk8UgUzGo2ssBUaGsoHEar6p361Wq0B7fitl5gOElFRUb85Nzusw/6/smtxVIFfDtIAWJ+bNs/2FHh2u50dHtpcKd1KhzTpYYywlVQBb7PZ4Pf7A/CXUoyf1+sNOAASJRW9c3Tgl67rtKmT80fPQFRThLkkI2ojKb7fZrNxxT5h64OCgqBUKq+Ii22PYyWBgWtNZ9L6TOla6ZpIQQpiH/gtLLsUKw/8Aosi6AY5ur/XfmKeab9PUtr9StRaBBGhPZTGne5PKXZa0xUKBSIjI1FdXY2kpKSA4ID02larFQACAgxGo5H35PaOLO0dUjlUGhuTyfS7BwVpAIoUBwHwXkvp8/b3bF/7cCUsNP2OIAg0tiTG4Pf7mfNcup/RtdvPb2n/qFQqbqv0oEL3oOcmrCvtzcQvTk4wOenE9yqTyTjwExERcc2HIMK80mdpLNrj1qVG/MjXQtH5n7R/maMKgJWBpA6kdEGWRleBXxe90EmVXki++c8neKJHIkopk8mE+Ph4WCwWPr3QBKAXj14uOmXRy0SN9/9MEk+nG+mktNlsAZgsqRFek5xRhULBnUdtpPbRxKWTNEUNqJPpZyoCIzA50HbKlUq00fVo8pEjS2MjXcwoSkGLZVBQEMspKpVKBtmHhYWhtrYWKSkpTMxP9Cu0ORIomxxH6gOK5NBzSBd5Kd4nODgYDoeDcT2klCVVnVGpVAGLDU1O2qiob0JDQzmyQAtYdHQ030c6hrRZUB/RPJPiptuf5jusw/7VdjVHtf1G5/uZT5K+K33/yZmk95DWTSoOlTpDRMsTERHBayG9o7TxU/SFomLt1xGHw8Hk93TN9hhUWpelWQ2p40N4SQpGkCNA65/RaGRdeukacKVi0vbFWiQXS1kyKfaR/vZ76jvUv+RQSIvFqM+kBSnt10FyPsg5vFIk+Grtl2Z9KBMnXeOuVCxGggJSnD1l4SgCTk4y7UcVFRXIyMjgqHz7tZoihOHh4fB4PDAajYzvpKACOcbktFI/03NTcMbj8fBhi34mx1B6kKD+UCgUTNtIWU76GWgTUkhJSYHJZEJ0dHRAlJOi+jQ2NAflcnlARlVqNM6UHSBFNAoKSf0T6fspxaIS7pYizXSvoKAglJWVcVZQ+gzkAEsLlykCK5PJmC+d/iZdC37L2hcM2+12jppK5xSAADU3ep4/emT134JR7bAO67AO67Bf7GoYVak5nU7GWRJGmzDehEMjrB5hIYX4BcvY2toqbDYbY0sJH2exWERVVRXfh3B2NpuN6XqEEIzjJ5wdXYOw6YTDlOIE7XZ7AL6WrKam5lc/E6UUGd3PaDQG4ALr6+v57/Rf+7/5fD5hsVgYCyvF5rW2tnLbpc8nvTf1rxQDTNcW4hcavCvhVY1GI+99UgxiSUkJ/+x0Ovkz1PdS2iJqE+H66VrSeeJwOLhWgzD+hNGn69BYEK6TzGq1Mn6R6JZoXhBFFvWLtA30zNLxoNoFoqLy+Xy/ojBrj4Wl70jHj9rSnrqpqalJNDc3B/Q1PbOU1kqIwHnVHo/b0tISMAZE7Sb9N/UNtdPpdPLv6b7UT0TJ5nA4hNfrDaAKk84Vad2F9Hmk36G/URvb9zn9vrGxkZ/HYDDwz/R9+r20VoPmBRmNnXSNoP7S6/Xc//Sc9IxSerHGxkb+u5SaTkon9n+KBf+/sWvFqP6x3e0O67AO67D/xeZwOGC1WjnFHBkZyfRxhPOmFD/QFsmxWq0BbBYUYQoODmbS8++//x73338/9u/fj6ioKKSmpqKqqgrV1dUchQgNDcXx48fRuXNnnDx5EiEhIaioqAiA22g0Gr4PpS5VKhVaW1uZmicsLAwGgwFAG9WOz+dDWVkZPvvsMzQ3N7MYS1RUFCIjI+FwOGC32zmKq9Fo0NDQAKAtypOYmAi3243Tp0+ja9eu+Prrr5nonaBEdD273Q6FQgGXy4Xm5mZmTNBoNHA4HJzqBQKpechiYmLQ2NiI2tpargew2+2sgkgsAo2NjTCbzXxtwtNqNBro9Xo4nU6m02tqamI8oNfr5ShZRkYGIiMjWQWLcJcGgwEGgwEajQZOp5PlRYkykRgGqC1hYWE8RqTupFAoYDKZoNfr+fdUF0GKXRStpMgfsbbQ+On1eo7MkYIZzQMAiI+PZyqziIgI7g+gLSNptVpRUVEBoE1RjSAIlAWkPm1ubub+1+v1uHjxIu6++24cP36c34mMjAzGwErlfmku0XwjKjEyGgODwYDo6GhuI70n1DeNjY2YMmUKCgsLOT1fXV2NjIwMxMXFoa6ujiGAxCwTHR3NjD4Ei6DoN81Hen6Sh1Wr1fwOut1uVFZW4vvvv8eAAQNQVVXFaliUqtdqtYiOjmbGBGJccLvdnB2OjY2FXC5njDl9huSWT506hYkTJ+Ldd9+F1WqFwWDgDGt8fDzPHeo3ep/oug5TSYsAACAASURBVBaLBVqtFuHh4YyZDg4OhtVqDYg2E17+j2AdjmqHdViHddi/ySIjIwPS1qTadvz4cSxZsoShAlQEGBcXh0GDBmHZsmU4e/YsamtrOc1aWVkJm82G5ORkll61Wq0MV0pLS0Nqair8fj9qamoYMmCz2VBTUwOz2YyMjAwolUpcvHiRaeeKiopgMpkY908SnXFxcWhoaAhwWFJTU+Hz+WCz2bBx40Zs2bIFAAKcE8J80qYItGHO7XY7KioqON3tcrlQX1/PKWiZTMZOH9EBknNgNBqRkJAAhUKBpqYmToVLC9Da4zGBNqcyISEBOp2OYRXkDIaHh8NgMEChUCAhIQFqtRpGoxE2m40LsAAgOjqauaSbm5sRHx8PlUqFCxcuwO/3s5NFKXVKnROkTa1WM8yBnAYqDK6vrw8oNCPYldlsZjqxyspKBAcHIyEhgYt1iWLR4XCgrKwMFRUVLMELgPG8JpMJ4eHhiIuLC5DUTEhIYCVAwo5SsTDQBmlQq9VoaGhAcXExDAYDoqKifiVLTUW35BArlUqkpaUBaDvUaLVaVFdXM4yPirWowKu2thYymYypEknKl8YzLi4OJSUlXFhbUVEBvV6PuLg4rreoqakBAMaNAkBycjJKSkpw+vRp7guqyyA4Ao0RHQYaGxv5AGCxWOBwOBj7a7PZ2HkmBzM4OBgNDQ0YOXIkgDbYZGJiIqqrq5GcnIzi4mJER0ejoqICHo8HJpOJx6C+vp7hDEFBQSxnbjAYWJnT4XAwrptgiEajET179oRMJkNxcTHPLbfbjZqaGpSXlzMEkxxbrVbLa4cUamQ0GplDlmBCNAbNzc2/Wavyn7D/Io2tDuuwDuuwP55RxAkAR0iIa/iZZ57BkCFDmCC8sbERMpkMSUlJyM3NBQCOxqWnpwMA65R/+umnjFNvaWlBXV0dkpOTOQoKgIsodTodtFotamtrYbFYkJWVBaBt0xVCIC4ujjk5aROm60l5HElCevz48RBCYMOGDRg0aBAyMjK4IJKq2oG2iGZdXR22bduGH3/8EatWreICl6ioKERERCAuLg42m4011Mlx1Ov1cLvdSE1NZQeWCjepGIyKVKiwlyKGhNGMj4/naBQJGxiNRnb84uLieGNWqVSMp7XZbGhubmZnLj4+HsHBwYiNjUVlZSXS09ORnZ0dgPmlqCU5qnQ/cqSJ+B1oc5BmzJgBnU6HZcuWQaFQwGq1Bgi1UCFuYmIiOxgU8aLaicjISHTu3BmHDh3CrFmzsGbNGvTv3x9qtRoOh4M136XML9XV1exsSwuZqqurkZiYiIaGBshkMsTHxyMxMZEPEh6Ph7HF9LxhYWHsmNJ4KZVKaDQadOnSBa2trbBarZDL5YiOjobT6QwobCNsrNPpDOBulclkzAJBeNDW1lZkZGRw7Qz1LxH5S59RpVIhPj4eI0eOREhISAAmWCaTIS4ujlkKCM8qFbZJSkpiR1+j0UClUnGthd1uh0qlQlhYGB8M9Ho9oqKiWIDDYDCgZ8+eANoi7VJ86qVLl9CtWzfGTp87dw7p6en8fWoHvUPV1dUcgSWGDmLnqaioQGpqKmdqyJqbm7Ft2zZ8+umnWL9+Pa8dwC+4esIOk8AFsYeInxmE/kjFyh0R1Q7rsA7rsH+TUQSHIlX0/6SkJI545uXlYdCgQejbty/Gjx+PcePGIS8vj69BtExUZJOSksKRRqLxCwsLQ3JyMhwOB/R6PadDiYCcxDQ0Gg1ycnIgk8lQW1sLg8HAxSQRERHMwEL0RhRpBdqc3oqKCna8+/Tpg/T0dLz33ntM9k6boMfjgcvl4kibXq/H5cuXoVarYbVaUVJSwmwEDQ0NiIqK4r+RPrpWq0VqaioX1ZCj7Ha7UVJSAgCs9CUkojLUFvp3WVkZOzWVlZWIiYlBQkICTCYTgF8iwJGRkRxpU6lUiI2NhVqt5mhXbW0tgF/EADweDxcQkVOfn5+PxsZGLmgl+iK/389Oqt1ux6VLlxAWFoampiZcvHgRANjhA8BFQEFBQYiOjkZtbS1XqtfU1HCBblNTE4C2CF1paSkSEhKYnoocF4vFEkASHxMTw4W2arUapaWlfCAICwuDVqtFfHw8Ryrr6+uh1+sRHByM5ORkLtylVDLQVqCs0WiQmpoKjUaD6upqAG1RvU6dOuHy5cuIiIhAeHg4jEYjkpOT4XQ6YTQaIZPJoFarORNAMBmKYIaEhDDDDAC+ttvtRnl5ORfQ0oGCKusB4MyZMwDAggtKpZKj0RaLhR1/uVwOtVoNi8UCg8GAoKAgOJ1OFlUgyEV4eDjUajW/AxTB1Wq1TJNIRYgtLS0wGo0A2jIR5eXluHTpEtLS0mC325mVo1OnToiKioLBYGCIjFqthtfrxenTp5GamorY2FgWyaD3ITU1FfHx8QwbsFqtHIUnSjkSBQLA85LUwQAgLi4OSqWS21NVVQWVSgWNRsPf+yNYh6PaYR3WYR32b7LIyEjExMSwA0cKPWazGQaDAVqtliNUJNFIFcEulwsPPPAAXnrpJaxcuRLDhg3DnDlzYDab8dNPPyEtLQ0NDQ2oqqoC0OYcrl69GsOGDUNWVhZuvfVW1NTUwGazITY2FgqFgjfmHTt2YOnSpUhLS0P//v3x2GOPMVXS4cOHMXr0aKxfvx4ajQYKhQLnzp3DJ598gvvuuw8nT55EZWUlkpKScNNNN2Hfvn24fPkyQkJCoFKp4HQ64XQ6ER4ejk8//RSZmZlYsWIFjh07BrlcjiVLliAzM5MlRA0GA7Zu3YqBAwciNjYWy5YtQ1VVFWw2GyorK2G32+FyubBz507ceeedyM/Px8yZM/Hee+8x5IAq0okKkLCHDocDP/zwAzIzMxEUFIRNmzbh888/x6RJk1BaWgqv14vPP/8cN910E7Zu3coOTm1tLdatW4cePXrg2LFjfA+fz4ezZ8+ioKAAERERuOWWW3Dq1CloNBqYzWY0NzcjISEBu3fvxm233YbY2FjccMMNeOihh9gJLywsxH333YcNGzZg06ZNuOWWW1BYWAin04ny8nLGX3o8HthsNng8HqxZs4Yj7StWrMD+/ftRXFwMr9eLLl26YN68efD5fMjPz8ecOXOYGQcAPv74Y8ycORO5ubnIzc3Fiy++iOrqauh0Oly8eBGPP/44Vq1aBavVCo/HA71ej9raWkyZMgUrV64E0OaIXbp0CY8++igSExPRs2dPFBQUsKNGB7DKykosWrQI2dnZ6Nq1K3bs2IE9e/YgJSWFq7ppDvr9fsTExMBoNMJiseDcuXNYtWoVIiMj0alTJ8ybNw/l5eX46aefALRFWTdt2oSCggK89dZbmDdvHgoKCnDhwgU4nU52rAjWIZPJkJiYiPfeew933XUX/h/23jxOqurM/39Xde1VXVW9d9MLNLsIsonsKIJbVIxL3AB1RiUaR3FDRQSHEOMYZdQYCRgnCG5oxhUJggoYUVFZBAEb7Gbpfe+qrn093z96zrF7zCg/J0Tnl/N+vXjRXV11l3Nv3fu5z3mezzN48GAuvfRSNmzYgNPpxOFw0NjYiNFo5PXXX+fiiy9m8uTJlJSUMHPmTOVoID1MAfbu3cu9997LwIEDsVgszJ8/n88++0yJYJPJRGlpKX379qWurk7l0L777rtcf/31VFRUYLVaOXz4MH6/nxdeeIETTzwRk8nETTfdxPbt21U6TyAQYMSIEbzyyisUFxeTl5fHrFmzWLt2LSaTiebmZmUvaTAYcLvd+Hw+li1bxiWXXMJNN93Em2++yahRo3j00UdVxLSuro733nuPM844A4PBwNChQ1m1ahXQ9RAcCASoqan5qy2Cfyi0UNVoNJrjiLSrgq5iEbvdTkFBAWVlZVRWVqrIoszxk22eZevKV199lYqKCiZMmMDEiRMRQlBTU0NnZyc7duxg8ODBCCG44447WL9+PT//+c95+OGHufjii1m8eDHQFaGrq6sjFArxu9/9jlmzZjFgwAC2bdvGhRdeyObNm5k/fz6xWIyRI0eSk5NDbW2tKrTp27cvtbW1uN1u+vbtq+ztTjrpJGw2G9u2bVP7K4UCwPTp06moqODuu+/m3HPPpaqqiieeeIKamhoaGhrIzMzkwQcfZPPmzTz88MO8/PLL7Nu3j5///OdkZmbSu3dvsrOzeeGFF3j22Wc54YQTWLZsGb/4xS+49dZbWbduHYFAAKPRqCK6UjQFAgEWLVrE5Zdfzr/8y7+wd+9erFYrd9xxB6+88oqy/PJ4PCrtweVykUqlKCgooKioCIvFoiJfeXl5/OY3v2HFihV4vV5ee+01Tj/9dBYsWMAjjzyC1+slJyeHP/3pT1x++eVMmjSJd955h6uuuoqKigolbv/5n/+Zp556imuvvZZ7772XpUuXcs011+BwOFSxD6Dsiy699FJqamp48803WbNmDcFgkFtuuYX9+/djsVioqqri8ccfJz8/n+eff54nn3wSIQTZ2dmsXbuWlStXAnDPPffwy1/+koMHDzJ37lygK5pXWFjIrl27VES5sLCQw4cP09zczJQpUygqKmLHjh3Mnj0bgJdffpn58+dz4MABFixYQFVVFTk5ObS1tXH//fezf/9+7rjjDtasWcP+/ftZvXo1brebmpoaFf1vamrC5XJx4MAB8vLyqKqq4pprriEajbJ+/Xp+97vfkZGRwdy5czl8+DCxWEwVYb311lssXryYhoYGBg8eTO/evcnMzFTHyefzEQwG6ejo4I477mD37t3MmzeP+fPnEwqFuP7669m5c6fKgd20aROPP/442dnZrFmzhpUrVxKNRjn99NPZu3cvbrcbj8fDhg0buO2226itrWXBggXs2rULl8vFmWeeyWuvvQZ0FZTZbDbeeecd+vfvj8FgIBKJMH/+fIYOHcqpp55KIpFg2LBhLFu2jPnz5/Ob3/yGPXv24PV6mTt3rmqxarPZ2LBhAwsXLuTSSy/l7bffZvz48axatYq1a9f28EiVsx69evXiF7/4BatXr+bJJ59k6NChtLe3c9FFF1FdXY3dbmfRokVcf/31XHbZZVRXV3P55ZezcuVKbr31VlVM6XA41Hf/R4G2p9JoNJrvx7G0UBXia+sg+XtTU5M49dRTxcMPP6x+l9Ys7e3tyvLn5ptvFmPHjhXvvvtuD4uajRs3iszMTPHZZ58JIYT45JNPxMknnyxuvvlm9Z5gMCief/55UVRUJNauXSuE6Go5ed9994mnn35apFIpZWXzwQcfiPz8fPHJJ58IIYRYunSpOP3000V1dbVqJXnBBReIW265pUcrymg0Km655RZx7733ikAg0MMOyufziUgkIkKhkFixYoUYNmyY6OjoUGOzZcsWAYinnnpK2QHF43HxyCOPiMmTJ4vPP/9cJJNJ8fnnn4sTTzxRrFy5Ui1XCCFWrFghzjnnHNV6u/t+p1IpUVlZKU4//XTxwAMPqH1PJpNi06ZNIisrS3z66adCCCG2bt0qALFp0yb1eSGEePbZZ8XJJ58sDh48KCoqKkRVVZWYMGGC+P3vf9/j3vj73/9enHXWWWLfvn2is7NT3H333eKyyy4TyWRSHbNXXnlFAGLfvn3qXPjpT38qrrzySrWcAwcOqPdL+6xXX31VDBkyRLz11ls97MauuOIKcdddd6nz6a233lLL776M2bNniwcffFCtIxKJiBUrVojRo0eLnTt3CiGEeO2118SQIUPEjh07RCQSEclkUtx9993izDPPFEIIsWfPHnHnnXeKWbNmKcur1tZWUVVVJUpKSsTrr78uhBDizTffFIMHDxarVq3qcTwWL14spkyZIvbt26fOGyG+tk2Kx+NiyZIlYtq0aaK6ulqk02lllXXGGWeIefPmiSNHjohEIiGeeeYZ4XA4xEsvvdRjHbJlutxHIYSYOnWquOGGG0RTU1OP9uDjxo0TCxYsUOv/yU9+Iq688koRDAaFz+dTx3b69OnihhtuELFYTITDYbF48WLxk5/8RLVPDYVCoqGhQdx+++3ikksuEa2trSIajYrFixeLSy65RHz44YeisrJS9O/fX9xxxx2ivr5enfurVq0SY8aMETt27FBWX+FwWPzqV78Ss2bNErt37xZCCHHJJZeIWbNmqfawQnRZrp122mliyZIl6jwRousaI22umpqaxL/+67+KCy64QOzfv1+t9/e//7045ZRTxMcff6zWKYQQ//Ef/yFKS0vFp59+qvb/21oo/63Q9lQajUbzA9M9b1JaTMnct0Qiwbx588jJyaF///6q9fENN9ygbICSySTl5eVMmzaNaDRKLBajpaWFXr16EQgEVKpAMBikubmZf/qnf1KVxYlEArvdrvIuQ6EQRUVF3HfffcyePRuj0YjT6eTIkSMqB1bmwY4ZM4YDBw5w4MABXC4Xu3fvpqGhgbFjx2IymQgGg6qjXnZ2NpFIhAMHDqhcSGlUbrPZMJvNHDp0SOWhypxOGXUdNWoUhYWFtLe3YzabOfXUUzl48CCFhYUIIVQ+6owZM4hGo6oqfMqUKXz00UcqgiqEoKWlRVX/79ixg2g0ysiRI4GuvGBZ9T9q1CgaGhpUPmd2drZKH5BFTLFYjPr6egYMGMCgQYN45plnMJlMnHPOOarQJBqNcsopp7Bjx44ellXRaJSKigplXn7RRRcRCAQoKytTVdperxeXy0VLSwuJRIKBAwdiNptpbm4mJyeHdDpNUVERNpuNr776CqfTSUZGBjk5ObzwwgssWrRITfGnUilycnLUGMpGAKtXr2bOnDkqhUDmMre2tlJVVUU0GmXKlClkZmaya9cuhBDKYumcc85R1f+ff/4548aNU8U+FosFr9fLqFGj2LdvH52dnXz++ecMGDCAyZMnA10OF8lkksGDB9PU1ITT6VSWXbKxhKxqf/3117n88sspLS1VDWwA7rrrLpYvX65cIIQQTJ48WbWHlbmV3W3J0um0MuwvLi5W9lBms5nW1lauuuoqtmzZgtFo5MiRI3z00Udcf/31OJ1O1ZI0HA5z/vnns3fvXiorK2lvb+fjjz/mtNNOU8VbspjtwgsvZOPGjXzxxRdYrVZ69erFzp07MZlMXHnllVx66aU88sgjqqPk0aNHaWpqYvDgwSo/VX4/CwsLVdOIyspKdu/ezcUXX0xbWxtZWVmkUik15S9TemTKRm5urjovPR6PKi4sLy+nqakJ6MrXLikpYezYsapBQCAQ4Gc/+xnl5eVs3bpVdar7MTUL+PFsiUaj0fz/DFl9LqfzZZWxw+EgOzubO++8kxdffJF3332XTZs28ec//5mFCxcyZMgQANWFRraDtFqtypoHuqr26+vr+fDDDxk7diylpaVYrVYaGxsxm80MGjSImpoahg8fTjAYpLGxEavVyltvvcX48eMxGAyceeaZXHHFFYRCIVVEMnnyZCZPnswHH3yAEIIvv/ySgoICBg4cCNCj25bFYmH//v2qOltWDktLqra2Nnr37k1eXh579uwhkUjQq1cv4vE4brebzs5OlRsquwrJvvTRaJSamhr27dvH0KFDKS0tZfTo0RgMBk444QRMJpMq9pE2P3a7nVgspoTiOeecA3S5JdTV1VFWVobT6SQrKwuDwUBbWxvt7e10dHTg8/kIBAKqW86wYcP44x//CMCgQYP44osvGDx4sLIVc7vdXHLJJfh8PlXE9qtf/YpAIMBPfvITLrzwQpYuXcqnn36Ky+VS41ZdXU3v3r0Jh8Pk5eVhNptpbGzE7/erqf/Ozk6GDBnCxRdfzFNPPcXgwYOZOnUq77//Pm1tbTgcDiKRiHKEkBZFNTU1pFIp7HY7DQ0NfPDBB9x1113KJ/e6667j6NGjDBw4UOVfTpkyhT179pBMJlU3seHDhxMIBIhGo7z77rsqz9FoNNK/f3+Ki4vZuHGj8vw8fPgwFouF8vJyZUMluyc5nU517kvS6TSZmZl89dVXxONxiouLVfvgkpISKisrGTRoEKNHj1bFXGazmd27d1NUVNSjA9f/9P0yGAyqC5YsqisuLqa+vp6Ojg4+//xz1c507969FBQUAFBfX8/06dOprq5WOaPpdJri4mL8fj/RaBSPx0NmZqZKh/F4PPh8PnVe/PKXv1QPb9JFAqB3797s27ePl19+mRNPPFEV840fP5758+fz0ksvsXPnTqDLIaCkpITS0lLa29vx+XwUFRXhcrnU1H/37oyS7h08v/zySwoLCwmHw9TU1FBSUqIq+6WgF0LQp08fKioqyMzMxGg0cvjw4f/t5e9vhran0mg0muOEbGHp8XhUr3bZ6ld6FQ4ZMoSSkhLV6lEWATU1NWGxWFTBUSQSYcCAAbS2tipboebmZoYOHYoQgj179qj1trS0UFhYSHNzM+l0mqqqKsaOHYvdbmf+/Pm8+eabLF26lLPPPpvKykq2bdvGHXfcoSKLBw8eZNKkSaxdu5bq6mo+/fRTTjjhBGW4LvchHo/j8XiUhVZnZ6fyBQVU5Njn86m/yUpxWaksxSV8LThka0uXy0V7ezsjRoxg0aJFQFdFtKz+j0ajnHfeeWqbZHOEuro62traSCQSNDY2kpmZqW7Qu3btYtu2bcpcPj8/nyFDhjB+/HiysrJoampSzQsCgQBjxowB4IMPPqB37948+uijSohXVVWRkZFB3759KSkpUXmSL7zwAtXV1bz22mt8+OGHLFu2jIkTJ/LQQw9RWlqK1+uloqJC2WcZDAa8Xq+yN5L2QA6Hg1tvvZV58+bxpz/9ia+++oorr7ySMWPGcO+999KnTx8MBoOKKp944onKBqmxsZFnn32W559/nrvuuouHHnqIhoYGdu7cyUMPPaSEtYyqLl68mJ07d6p81YEDB5Kdnc1XX30FwO23305paSmdnZ3KJiqdTpOXl6cK6WTVekNDA6WlpaqNrsfjoaOjA4fDoY6pjL736dOHSCTCl19+yTnnnMPhw4cpLy+nf//+fPzxx+rcF0LQq1cv3G43mZmZyuf0275f8XictrY21VpctlX1er3KAaKlpYXs7Owe53afPn3YtGmTcipoaWlRnrf5+fmqOFJ+h4UQyn5MPuwNGDCAGTNm8PrrrzN9+nSGDx9OU1MTBQUFmM1mpk6dypw5c8jKyiIYDBKNRsnNzaVv376UlZWxYcOGHtHleDyurMKampro6Ojo0XIY6CFYZQT6xBNPVJ+XYrq+vp6cnBwlouPxODk5Ocp+LS8vj/Ly8u9zyTsuaKGq0Wg0xwnZD11Ov0NXsZG8oXi9XjWNKf6rp720XOrbt6+6yXf3ipRRnEQiQUFBAXv37mXQoEGcdNJJNDY2Eo/HGTRoEB0dHRQVFZGfn6/SAHbs2MG6deu47rrrOPvsswkEAirtoL29nc8//5yTTjqJ4uJipk+froTOF198wbXXXqumKaUzAXRNgUo/zEAggNvtVt6YwWCQnJwcjEYjQogekT8pqHw+H/F4XAmuzs5OJUQOHTqk/DzPOOMMXC6X6g2fTqeVzU4ikSASiWC32zGbzfTt25eZM2eyb98+WlpaVHOAzMxM+vbtS0FBAfv27aOwsBCz2czRo0fZuHEjl112WQ/LJb/fr6bKx44dqzxIfT4fY8aMYfTo0RiNRg4cOEBBQQFNTU2qWM7r9TJmzBhCoRDvvPMOS5Ys4dChQzidTjwej4o4NjQ04Ha7lf1ULBZTRV6RSERN5V955ZV0dHTwT//0T8yZM4enn36ap556Sp07wWCQ2tpaCgsL8Xq9+Hw+Vq9ezbx585g5cyb19fUMGjSISCTC7t271Vi53W7GjRuH2+3m3Xff5fDhw4wfP14d02g0Sr9+/SgrK+O8885TIk0KsgMHDuD3+xkzZgxbtmzh8OHDFBcXK6/U4cOH86tf/Yr8/HwKCwuVoJPHLpVKMXbsWOVSIL8PlZWVakp/8ODBVFVVceTIEdUtTDo5fNv3q3sHr/79++Pz+Xj77bcZNmwYo0aNYvfu3YwfP141IICuyLvsfGaz2SgoKCAajdK7d2/279/PxRdfTDKZ5MiRIwwYMIAdO3aQmZmpxhK6HhRnz57NqFGj2LBhA0uXLuXRRx8lPz+f6upq+vXrRzAYZMKECSqKC6gGHUIICgsLmT59Ort27WLYsGHqIejIkSO0tbVRUlKimhfIYyL3QUZJBw4cqHxYBw8ejMPhoKKigpKSEpqbm2ltbaW0tJSWlhZWr17N6tWrleeqLDD8MaCn/jUajeY4IUWPzJuT5vmylWg6nVbRMJ/PR3t7O21tbSr/NJFIqBxE6JqSlP6IoVCIyspKhg4dSu/evfniiy/YtWsXeXl5WCwWXC4Xb731ljI/h64bYXFxMbm5uXR2dmIymejo6OB3v/sdhYWFjBkzhkgkgtPpxG6307dvX/7whz8Qj8cZPnx4D09Vh8OByWRi7969nHDCCWo6FFBtSrvnykmDdavVqrwkS0pKVBcgm82m1j106FDC4TB9+/blvPPOY8+ePSxcuBDoioAeOHCAhoYGDh06pNIipJG8z+ejpaUFg8FAS0sLGzduVKbtLS0trFu3Dp/Pp/JVJ02axNixY5XBv4wyyXxA2fFp0qRJVFZW8t577zF69Gigy0dT5vj6/X7y8vKYNm0av/71r1Wky+l0qmlY2R3IYrGQnZ2Ny+VS3p+yW1dWVpYSPMuXL+fcc8+lqalJ5Sna7Xb69eunpn67m9w7HA7cbrdqquDxeJQdlNPpRAih7J5kO1f5tzFjxvDGG29QUVHBuHHjgK5c1BEjRnD++eezfPly9u7di8FgIBgMKl/QoUOHKrcAj8ejZgL8fj8dHR28/fbb9OrVS62rX79+qrmBzWajuLiYwsJC3njjDdLpNFarlaNHj9K/f3/+4z/+g4KCAoYMGaKaLkhfWpl3+m3fr23btmEwGFQ+sslkUi1Ew+EwEydOxOFw8Nxzz6nGEYWFhWRmZvLAAw8wefJk8vLyKCoqYsKECbz55pvsglzrwAAAIABJREFU378fs9nMgAEDCAQCLFu2jCFDhqjcXNkJTT7gPP/88+zZs4df//rXSjRPmDCB9evXs2PHjh5+pUePHsXn8yGEYPjw4Xi9Xg4dOoTRaFTesrILXVNTk3pYlMJcCtV4PK4i/n369FGC8/zzz6eyspJVq1aRn5+vHgq+/PJL9dn29nbS6fSPRqSCjqhqNBrNccdoNGIymbBYLPh8Po4cOaKKTfx+PzabTbWylMRiMWWMHolEcLlcakpaehxK8/FBgwZx5ZVXcs8991BVVcXkyZPZs2cPf/7zn6mqqlKG5ZMmTWLkyJHMnz+fQCBAnz59ePfdd3n11Vepra2lurqanJwcMjIyKCsr46yzzuKtt95ixowZDBgwoIfpvsViUS1Yr776atUzXE6/SoHa2dlJTk4Ozc3N3HPPPcycOZNx48Zx6NAhamtr6d27tzJ0l/3Wd+7cic1m4/Dhw/Tr14+7776buXPn0t7ezoMPPsj+/fvZunUrTqeT9vZ21Y1JdpYClGh88cUXaW1tpU+fPsRiMd577z3V5tJsNhOPx0kkEqxatQqPx4PFYmHr1q288sorTJw4kcrKSsxmMzk5OVx//fU8/PDDHD58mJEjR5KXl8crr7xCZ2cnCxcupKSkhNmzZ7NgwQLi8ThTpkyhvb2d//zP/2TixImccMIJKr1ACMFf/vIXVqxYwRlnnEFJSYnylvX7/VgsFk477TRefvllfvnLX3LBBRdQV1dHMplk48aN3H777cpCyO12M3ToUD777DN8Ph/Tpk3D5XIxYsQI5s6dy8GDB5kyZQpPPPEE7777Lrm5ufTu3Zt0Oq26NY0bN44VK1ZwyimnMHjwYNW2NJFIMH78eDZv3syaNWsYMmQIR48eJT8/n3vvvZf33nuPsrIy8vPzycnJ4cYbb2TatGn87Gc/4/333+eNN95QucS9e/fGarWqDlXS73bx4sV8+OGHDBgwgH/7t3+jT58+3H///ezbt485c+YAXV3OZC6v0+lUPqff9v367LPPuPHGGznvvPMYOHAgl19+ORkZGWzfvp1YLEYqleKRRx7h4osv5oYbbuCMM86gpqaGyspKXC4X1113HalUCiEEZ511Fhs3buSll17C5XJRXl7OunXr6Ojo4JprrlGpIpFIROWxyg5Wc+fO5cEHH2TEiBFcfvnlDBkyhEsvvZRrrrmGefPmMXToUHbt2sWHH37IhAkTOOusszjxxBNZsmQJp512mrL8MhgMvPDCC2zZsoUxY8aogicp0OV4GgwGysvL2bt3LytXruT000/HYrEwdepUzjzzTBYsWIDFYmHcuHHcd9997Ny5k5tuuolx48aRnZ2N3+9XD6M/CrQ9lUaj0Xw/vsueKhQKqeuotOVpa2sT27ZtE7fddptYsWKF2L9/v7KVkcuUn7366qvFHXfcIQ4fPqxsk6LRqHjppZdEnz59xP79+0U4HFbWOE899ZQYNGiQAMScOXPEhg0bxNixY5UVUW1traitrRV33XWXKC8vFwMGDBA333yz2LJlixg7dqz493//dxGPx5VtzccffywmTpwo1qxZI4QQIhaLiUAgIAKBgAiHw+LVV18VF154ofjggw/UPkrbHyGEaGhoEA0NDaK+vl7cfPPNYty4ceKqq64S7e3t4vPPPxdOp1NUV1eL+vp6ZbWzdu1accopp4hDhw4JIYSoqqoS7e3t4v333xdnn322MBqNorS0VMybN09UVFQoK69UKiUCgYA6HpFIRCQSCfHggw+KMWPGiLy8PHH11VeLl19+WQwbNky89dZbora2VgghRGVlpZg7d64YMGCA6N27t/j5z38uXnvtNTFy5EhlqyTtgf74xz+K2bNni7y8PDF06FBx6623itbW1h77/dRTT4mLLrpIAGL69Oli0aJFYt++faK9vV34fD5lQTZixAgxadIk8eijj6r99/v9orGxUS3rww8/FEuXLhX5+fmipKREXHDBBWL16tWis7NTnVNCCLFo0SIxceJEMXnyZLFlyxYhhBBffvmlWLhwoSgrKxODBg0S999/v3j11VfFzJkzxeLFi4UQX9/nDx48KKZMmSJWrFjxV8/1TZs2iSuuuEIUFhaK/v37i3/5l38Re/bsEUIIZbEkhBAPPPCAKC4uFr169RJz584Va9asEaeccoqyIPvLX/4ihBDi6NGjar0dHR2isrJSPPHEE6J///7C6XSKc889V9mvpVIpUV1dLZ577jlxxhlniIqKCpFOp7/z+7V06VLx0ksvifLycuF2u8X1118vdu3aJWpqanp8ZvXq1WLWrFmiT58+Ii8vT8ydO1ds375dxGIxZZUlhBCbN28WCxcuFP369RNer1fcdNNN4v333xfRaFS0tbWJjo4O8corr4hx48aJgwcPCiGE+Oyzz0RnZ6e4+eabxaWXXioaGxtFW1ubaG1tFX/84x/FtGnTBCCmTp0qVq5cKTo7O5UFWzgcFitWrBBXXHGFyMnJEePHjxf//u//LhYtWiQWLFjQ41ohiUQiIh6Pi0OHDokFCxYIi8Uili5dKhoaGkQ4HBYtLS3ihRdeEOPGjROAOO2008Rzzz3X45jIc/14c6z2VFqoajQazffku4SqJJFIKFEkaW1t/caFOhgM9hCkfr9fXY+7eyZKIdnZ2aleq6+vV5+Tf49EIqKjo0PdAKLRqHp/R0eH6OzsVOuWy+++XW+//ba46qqrxJYtW9T7ut/E7rnnHrFkyRIlrA4ePKi2SYoXuf3SY1WOQzQaFalUStTV1am/SXGaSqVEOp1W4k/euLvvZ/fxEKJL4EnPV7n8WCwmEomE2v9QKCS2b98uAOVVKdcdiUR6CC55829vb+9xPCORiIjFYj3EgRQztbW1aluln2cwGBR+v1+JInl85Tg1Nzer9wYCAZFKpZToltvT1NSk3h8IBEQsFhNCdJ0Hcp9TqZTw+/3qoSeZTKrj3draqj4jhBBHjhxRP0txsm3bNnHRRReJLVu2CJ/Pp/a5oaFBLbO2tlZtqzwO8lyLxWJqXLofh1Qqpd7T3Wc3FAr1OH/D4XAPv9Pux6A7dXV1PY6TEP/z9ysajfY45w8fPtzjb+l0Wo2LPG7JZLKH3688B+W2hsPhHt6ncv3dz5G6ujohxNffazkeDQ0NPfZPngs+n0/EYjG1Dc3NzSKVSvXQYHKZQohv7H/349V9zHw+nzp2cj/C4bBIp9M9PGNDoZD6XDqdFtXV1eLvwbEKVUM6nRYGg0HlHsmqUxlCltWbGo1Go+mJ+K8iBllxLm2LZA7djx05lS+EIJFIqBxAIQSxWIwbbriBESNG8LOf/Yzi4mLlYgCwfft2fvOb33DjjTcydepUlW8rvTaTySThcFj5f0rkvUaOj/iv6mSDwaDeJ7qCKN95/5EFO9FoVK3X7/erXNmnn36a6667jvr6emw2G9nZ2dx///2sWbOG999/X1VR/z2Q1fxms5lUKtWjAOiHQlahQ1fnqpaWFn71q199Iw1FozkeSI0pv/+JREJ5D8vrEOgcVY1Go/mHRRagGI1GMjMzycjIIBAI8NFHH/HJJ5+we/durrzySoqLi2loaCAjI4P8/Hw+++wzli1bxrnnnqu8VeHrYo50Oo0QQhUFJRIJEokE8XicdDqNxWLBZrMpkSxvSPKGBRyT4XhnZyfZ2dlKBFosFiVuU6kUGzZsYNOmTZx//vnk5+ezcuVKjhw5wj333IPX6/2bjuVfQxbKyN7yEtm84Yfup15QUMCaNWvYtm0b1dXV/OQnPyE/P5/a2lpisRj9+vX7QbdPowEtVDUajeYfFhl5lEQiEfbt28eGDRtYv34999xzD6eeeirQVcwio6nRaJTTTjuN888/X/lhSvN/QEVD4/G4io44HI6/Wpwho9DdBeuxRqOzsrKArqIyKWxtNpsSvH/6059YvHgxDz30ED6fT/VCv+KKK1QV+vEkMzOTZDKpHgYk0prqh6ajo4OtW7dy5MgRxowZw9lnn01GRkYPOzSN5odGT/1rNBrN9+T/+tT/0aNHlbF+d+PwSCRCe3s7xcXFqgq9eycnv9+vOlEBqoJaCtHu3pbxeFxVZQOq5aO0T+qO7Fx0rO0b5ZS/jNjKNADZHra1tZW8vDzS6TRHjx5VJuayYcLfAxk9lZZiRqMRt9tNOBz+UVRV+3w+1ShBTsO2tLRQUFCgOmlpNMeDY53610JVo9Fovif/14Vqd4QQqhe7FK3pdJpAIIDdbicjI4NgMKh6lgcCAVwuF0IIZUxvsVhUx6ruIqx7/3CLxaJEqxSX/z1f9ViFajAYxOFwqK5EVqtVNRcwGAxqu1KpFIlEQnXGSiaTKm3geNLR0UFWVlYP4S4Favdc2h+KpqYm5b8qNYC+52v+XugcVY1Go9F8K3L6O5FIqKl76WkajUZxuVxKgEqkqJSm/mazGZvN1qMQSooeWaAlP989h7WhoQGXy6X6zctldy+u+i66R/ykSAWorq7G4XDgdDqJxWI4nU6sVquKbrpcruMuUrtv36FDh3C73fTq1Uvt1w8tUgHVCEKmJ3R/0JLdzDSaHxrdmUqj0Wj+QZEG+ZmZmWRlZeFyuVTHJvhaOEajUQDVcSgcDpOTk6Oiod2jcEajUQlGIQQZGRlKoEJXlPGZZ57hmmuuIRwOq85c3wchBIFAQEVII5EI1dXVvP766zz22GPYbDacTic+n4/W1la1vY2NjYTD4e+93v+v2/fiiy+yatUqDh48iM/nI5lMqvagPyTdj5XVasVkMhEKhQC0SNX8aNARVY1Go/kHRdpNyalz2aVITv/LqWvoiqC6XC7sdjt+v7/H1L4Us3a7vUc+qoweyu5PJpOJrKwsLBYLLS0tqtiqewRViuNjiah2bx3p8XgwGAy43W5aWlrYs2cPoVCIZDJJZmam2iaTyYTT6fy7CNWMjAySySSHDx8mJyeHgoKCHm1m5QPBD4W095LHXeb2Go3GH0VqgkYDOqKq0Wg0xw0phkKhkLJsktFJv98PdOVpySiW/L+hoQGATz/9FIPBwEcffQRAfX090DV1Lttn1tbWqvXJZQKqPatERvBSqRStra0IIbBarWqZQggyMzPx+XxYLBYCgYASqalUqsc0+6FDh5g6dSovvfSS2i+73U5bW5vqZy73Z+7cuVx77bUqf1Vum9VqJRQKqSKt1tZWIpEIBoNBjQN0FV9174ceDAbV/sj0BEBNWRuNRsLhsHICyMrKUiJVfjYQCKjipu7HSormWCymXpe9z++55x6uu+469bdUKkVHR4fKo5PHDODIkSNAl1CV6RGRSEQVi8l0hB8aOS52u/0btmBapGp+LGihqtFoNMcJi8VCIpHAYDCoymoZRXM4HMTjcXw+H06nk+rqaiUWCgoKVBTy5JNPpq2tjb1799KrVy9qa2tJJpPYbDZCoRC5ublKhHo8Hurr64lEIsRiMdxuN36/n6qqKlpbW4Eu4Zebm4vBYODw4cP06tULQAlHafaeSCTw+XzE43EqKirUawCNjY00NzeTSCTo6OjAYDAQDofxeDxKiLe0tKjCK7fbTWdnJyaTiVgspgqcevXqRX19Pa2trWRmZmK32+ns7KSpqQnoyqF1u91kZmYSiURobW1VQioSiahocDqdVs4DJpMJm82Gw+HAbrcTDodpbGzs0UBACma5P+3t7TgcDkwmE83NzVitVtra2kilUng8HhoaGlSaQnNzs1p/VlaWEtHZ2dkEg0Fqa2vp06cP7e3tPfJtjUajWn/3AjKNRvPtaKGq0Wg0xwmTyUQymVQCJRqNqgjcvn37uPPOO5kxYwY5OTk88MAD1NbW8sUXX7Bz504mTJjApEmT2L59OzNnzuSxxx4DuqKCqVSK559/nunTp1NeXs6ZZ57Js88+q8RfS0sLLpeLTZs2YTab6devH263m02bNnHuuefy9ttvEw6HlV1TRUUFTU1NSjAvWbKEa665hgEDBvDTn/5UibNAIMDEiROZN28e+/fvZ/bs2dx0001s2bKFjo4OTCYT6XSa6upq1q1bR0ZGBo8//jivvvoqp556KosXL8ZqtTJ58mR27NjBxx9/zPLlyznzzDMZOnQoDz74IIlEgv79+9PR0QF0RSfnz5/PKaecwtixY7njjjs4ePCg6kSVSqVUpLL7OPv9frZu3cp9993HmDFjmDZtGs888wzQ5b/a1NSE1+ulubmZBQsWqCYEixYt4uDBg5hMJjIyMliyZAnDhw/niSee4Nlnn2X06NE89thjuFwutZ7f/e53nHXWWYwdO5ZLL72UDRs2qGItmQqRkZGhxKncXo1G891oeyqNRqP5nhyLPVUsFlNCpa2tDY/HQ0tLCwsXLqS9vZ0LL7yQ7OxsVq5cyV/+8hdee+01Jk6cSCgU4osvvmD8+PGsW7eOkSNHEggEGDhwILfddhubN2/m2muvZeDAgezatYtVq1bx85//nFmzZhGNRlmwYAGFhYXcfvvtFBQUEAqF+MMf/sDzzz/P008/zZAhQzCbzT3aora2tnLppZeSl5fH1KlT8Xq9bNmyhQ0bNvDiiy8ybtw42tvbefvtt3njjTeYPXs2U6ZMwe1209TUhMfjUZHG5uZmvF4vc+bMwWg08sADD1BUVERbWxtr167lySefJJlMMnfuXPr06cNzzz3HJ598wrhx43jsscdwOp3s3buXX//61ySTSc477zxl4m8wGFi6dCnFxcWqLamMtAYCAW6++WYOHjyI2+3mggsuwOl0snv3bt577z2uvfZabrjhBsxmM0eOHOH0009n5MiR3HTTTQD84Q9/4MMPP+SZZ56hV69eDB48mJqaGhYvXowQggceeIDCwkIqKiro168fTz75JC+88AK/+MUvEEKwZ88e3nvvPW6//Xauvvpq4vE4t99+OyaTiSVLluB2uwmFQqp4SaP5R0XbU2k0Gs0PjCxWkRdjk8mEyWTi6NGj/Od//ievv/46p512GtXV1SxbtowHHniAVatWccIJJ2AwGAgGg4waNYpAIIDZbGbgwIFs375dvX/ChAmEQiHOOussqqur+eCDD/jnf/5ncnNz6devHxs2bGD27Nnk5eURCoU4ePAgM2bMYNiwYSo4ceTIEXr37k1bWxsHDx6kuLiYW265hTFjxgAwevRoCgsLWb16NePGjQNgwoQJ3HrrrZx66qlqObJnvIx05ufn09TURG5urpr2b29vJysri0gkQm1tLY8//jjjx4+ntLSU0aNH89xzz7F582bq6+vJy8tj3bp1CCFYsGABw4cPB+Ckk05i3rx5rF27lhtuuOFbx/++++5j0qRJAHz88cfU1NQoy63m5maeeOIJpk2bxsKFCykrKyOZTDJ69GgeeOABli9fztNPP000GsXpdJJOpzGZTDgcDpLJJIMHD2bdunVs2rSJOXPmcM0116j1zps3j1WrVnHJJZeQSqV63JAleupfozk29NS/RqPRHCfi8XgPgSILaCwWC0VFRdTW1vLpp59SVlaGx+Phtttu46GHHiI7O5usrCxycnLYuXMnkyZNwuVyEQgEOPnkk1m+fDknnXQSnZ2dKg82nU6Tm5sLdHWcuuWWW6ipqaG+vl5VcW/dupXc3Fx8Pp/yTh00aBA2m43i4mKGDBnCo48+ypgxY1Sua15eHlVVVTidTmpqasjOzsZut9O3b1+8Xi9er1eJ1cbGRmX4H41GVXQkFouRl5dHdna2ioD26tWLSZMmYbPZSKfTOJ1OJeLdbjder5etW7cybNgwhg8fTmVlJe3t7QwfPpwhQ4awf/9+bDabSjeIxWIqDzU7O5uysjIlrNPpNGVlZdjtdmpqakin0+Tk5LBlyxZOPvlk1bSgs7MTo9HI2WefzWeffUZ1dbVanmxE4Ha7EUIQj8dZv349brebq6++mtraWurq6gAoKyvD7XYTCASIRCIqF1aKU7PZrGcrNZpjREdUNRqN5jghp3bj8XiPqd6ysjLuvPNO7rrrLtLpNJMmTWLWrFn89Kc/VZXpLS0tNDQ0UFBQQG1tLR6Ph8zMTKCraOqJJ57g+eefZ9euXVgsFgwGAwMHDsTtduN2u/n000+ZMGECmzdvZuzYsezevZvS0lIuv/xyVc0PXb6m1dXVlJaWkpubS319PcuWLWP58uV88cUXFBYW4vf7mTp1KqWlpXz11VdKHMoiKhlx7F5hH4/HsdvtCCFwOBxEIhH1u8zdjUQiyg4pFothMBhwOBzYbDY++eQTdu/ezebNm3n44Yfx+Xx4PB6VrjBnzhygKy81nU6ryCV0RXVlYZfBYMBisVBcXExZWRnxeJz6+npqa2uxWq3KHcBut6vq/OLiYjweD3V1dQwdOpRYLKaaF3R2duJyuQiHw2RnZ/Pkk0+yfv162tvb6d+/Pw0NDYRCIU477TRVRCWj6t39ZTUazbGhhapGo9EcJ2RHJtm+UxrT5+bmcu211zJjxgy2b9/OG2+8we23387SpUtZtmwZXq+X0tJSnE4noVCI9vZ2JcgqKyu5/vrrKSkp4YknnuDkk0/myy+/5J133uGdd97h6NGj9O7dWxUfbd68mdbWVhUVlbZMVquVdDqNy+Vi+PDh+P1+vvrqK6666ipGjhzJM888Q2lpKZFIhPvuu0/5pvbu3Zv29nYikQgul4t4PI7T6aS9vV05EJjNZiUepWBtbGykvLycUCiEw+FQwk+a30tBZzQalSB1u93cddddFBcX43K5yMvLo7m5mWQyidvtVvm1RqNR7U8kEiEajRIOh5U1VCKRIBQKUVtbS2lpKSUlJSoC29bWRmlpKdBlUSWdEmTqBXQVsGVlZWG1WvH5fLjdboxGI3V1dZx11lncfPPNDBw4kJ07d5Kfn4/L5SIYDKrWszabrYdnqhTl3Tt+aTSav44WqhqNRnOciMViGI1G5fUp+9HH43ECgQBut5tzzjmHYcOGcf/993PjjTfyzDPPsHTpUmXAb7PZVN6n0Whk27ZttLa28tRTTzFo0CA6OjoYMWIEGzduxGAw4PV6iUajmEwmpk+fzm9/+1vWrl3LG2+8wYIFC5Sgy8jIwO/3k5OTo5b96quv4vF4+O1vf0skEsHr9dLZ2amiwU1NTRQUFGA2mwkEAvj9frKyslQubjgcRgiB2WzGYDCQTCZxuVwqUto9KipTApxOpxK2MlLZ2dlJYWGhsn+68MILCQaDBAIBRowYoZoPJJNJDAYD8Xgci8WifFXb2tpUhBRQhvbdo66ZmZnK/zUSiahpfYADBw4QDAYZNmwYHR0d5OTkEIlECAaDlJWVqXajpaWldHR0MGTIEMrLy8nKylLpF8FgUAlon8+Hy+VS54G0wtJoNN+NzlHVaDSa44TVaiWVShEMBpVoM5lMrFmzhjPPPJP6+nr8fj8lJSVkZmYyePBgmpqaaGpq6tH+02QyEQwGSafTFBQUEAwGVY5jVlaW8kqVbi2RSASTyURBQQGXXHIJq1evpra2ltGjRwNw+PBhDAYDOTk5qs+7y+UiKyuLUChETU0NXq+XlpYW5U0qhMDtdpNKpairq8Pj8RAKhWhqasJkMuH1enE4HEp0RqNRMjMzqa6upqKiguzsbLxeLwB1dXVkZmaSnZ2tHAekmJSdqxwOByeffDJfffUVH330ES6Xi6KiIhKJBFu3blUpCIAS9VKEulwurFYrra2tpFIplU6Qm5urWoO63W4mT57M+++/T319vRrPhoYG3n77bcaPH4/X68Vut5NMJvF6vVitVhoaGkgkEtjtdjweD21tbXz00UdEIhGVmlFTU8NXX32l2st6vV7MZjNtbW3K41aj0Rwb+pFOo9FojhNyGtxsNhOPx1VBTnZ2NoWFhVxzzTX827/9GwaDgTfeeIMnnniCF198kezsbGpra3E4HJSXl7Njxw6i0SgTJkwgJyeHVCrF/PnzlWXTSy+9xJ///Gd++tOfkp2drTxI3W43gwYN4vHHH+faa68lNzcXIQQDBgxQ2yZzTKPRKOl0mpqaGhYtWsQ555xDNBpl5cqVfPzxx8yaNYtQKERGRgZFRUX069ePI0eOsGnTJs477zwyMzMJBoMq+uvxeEgmkwwfPpwPP/yQ1atXM2rUKEpKSpSnaENDAx6PRwn6pqYmAoEAHR0dFBUVMW3aNJYvX85jjz3GRx99RG5uLpWVlVRVVXHmmWdSXl6OyWTCYrFgNpsxmUxKCLa2tqqpdyEEbW1tBAIBjEYjgUAAm83Gbbfdxrnnnsv999/PzJkzEUKwatUqPvvsM1555RWMRiM2m41IJEIgEKCqqort27czefJk0uk0t912G1u2bOE3v/kNdXV1jBo1irq6Ot555x1MJhPLly+nrq6OlpYWlccrhW93WzCNRvM/oyOqGo1Gc5yIRqNkZGSof52dnWRkZHDeeefx5JNPcuqpp3LqqacyY8YMtm7dyvr16xk+fDgmk4mSkhKGDx/OVVddxdKlS1m6dCmHDx/m5JNPZuXKlSSTSe68806WLl3KnDlzWL16NfF4nLVr15KVlUVLSws2m43y8nL69evHZZddproomc1m1Ro0Ho+TSqWw2+3cdNNNvPDCC4TDYX7xi1+wbt06FixYwMMPP4zRaKSlpQWLxUJWVhY/+9nPePrpp3nsscfYtm0b0WhUVeHHYjEV1R05ciSdnZ0sX76cd999l7y8PMrLy4nH42raHrqKovLz8xk2bJgqOjrvvPOYO3cu+fn5vPzyy/z2t7+lurqaadOmMXPmTJLJZI9uX7KqfsCAAQwcOBCn04kQgmQySTQapW/fvpSWliKEIJVK4XQ6Wb9+Pf3792fmzJlcdtlllJaW8uc//5mcnBw1jW+327nzzjspLi7mkksu4a677sJqtRIMBnnooYdYtGgRr732GmeccQZ//OMfGTduHEuWLAG6HAf69u1Lv379eqRwyO5YGo3m29GG/xqNRvM9ORbD/0gkgsViISMjQ9lVZWRkKG9U6BJ5IZH8AAAgAElEQVRpZrOZ2tpaSkpKqKuro7i4mOrqasrKyvD7/dhsNmXtBF2FPw6Hg3Q6jRCC5uZmXC6Xmn6WbN++nYULF/LQQw9RXl6O1WolEAiQk5OjxCV0tVZtb2/H6XQSDAaVmGxqaqKkpAQhBNFolGAwSH5+vqrib2hooKioiHA4rPxPzWYzDodDRQ0jkQihUIjW1lb69++v8ljl+ECXGIxGo9TW1tK/f39CoRDJZFKlE7S1tRGNRsnKylLjLQu8ZHV/PB4nMzOTo0ePYrfb1VjI6f6GhgZSqRQlJSUqrxW+9ruV4yAtqCKRCDabjUAggMfjAfhGJFQWXDmdTpWXK3Nv5fjW1tYSi8Xo1auXOgdkvqpG84/KsRr+a6Gq0Wg035NjEap+vx+r1YrNZiOVShGLxcjIyCCZTKqWpWVlZVRVVdGvXz+1PFlFH4/HSSQShMNhQqEQZWVlNDc3U1hY+Fe3KRQKYbfb2bt3Ly6XSxVGLVu2DEBNfbvdbsLhMLFYjFgsRn5+vopkdr9hmEwm4vE4n3zyCZMnTwa+9ocFaGtrIzc3V30WUNFUKf6CwWAPAR2LxdT+BwIBTCaTEpOSYDCIw+HosU0mk+mvGuXL+5c05+9Od0H/37fRYrHQ2dmp8nylxVZHR4ey8AoEAqTTaSVUjx49is1mU92+5PqkU4AsyDp69ChFRUXfqOyPxWIIIdQDgkbzj4oWqhqNRnOc+S6hGolElI8ooCrou0fkuguoxsZG3G63en9HRwfhcJji4uIe6/X7/Xg8HhWBbW1tpbq6mlGjRuH3+7Hb7QQCAR555BE+//xzbrzxRmbMmNHjmt7a2qqmtmXkLxqNEo/Hicfj6m8HDhxg0KBBQJdYrKmpwWKxUFJSorZHim+TydQjSvvfo481NTWUlJSQTqcJhULqPiNFYDgcVlFJWZUfj8cJBoNYLBYsFosaW+mgYDKZelg/yddDoRAul0u1sK2vr6eoqEhZcxmNRjUWGRkZtLS0YDQaycnJUVFq6fkai8U4evQoHo9HdeAKhUKYTCZaW1vxer1KsLa0tGC1WlXEVEbO5b/u26nFquYfGS1UNRqN5jjzXUJV2icZjUai0agSYICa3m9paSEvL0+JOhmlk1ZQAPX19fTq1YuOjg6cTqeyYrJYLKowSArCQCCAEIKLL76Y5uZmFi1axMUXX6xEYigUUvZR8Xgcl8tFc3Mz+fn5+P1+MjMzMRqNBINBJaysViuVlZX0798fQIm/5uZmioqK8Pl82O12rFYrbW1tuN1uZXAvp/A9Hg/t7e1kZ2f3GEN5c0qlUsqOS0ZBA4EAmZmZ33ovkrmu0m1AetbKSLQQApfLpab04/G48myV65bes93HWlpgdY+ayn33+Xzq2MiuWNJtIS8vD/j6QUDuC6BSOKRfrG6jqvlHRgtVjUajOc4cy9S/RqPRaL7JsQpVXfWv0Wg0Go1Go/lRooWqRqPRaDQajeZHiRaqGo1Go9FoNJofJVqoajQajUaj0Wh+lGihqtFoNBqNRqP5UaKFqkaj0Wg0Go3mR4kWqhqNRqPRaDSaHyUmg8GgzJ6lmXNGRgYFBQW0trYqf1WNRqPR9CQvL4+WlhYACgsL8fl8AGRnZ6ufNRqNRvPXycvLo62tjYyMDOx2O52dnZx44ok93tPD8D8UCjF06FCqq6tVN414PP4Dbb5Go9H8uEmn06RSKZxOJ21tbZhMJsaMGcPu3btJpVLf6POu0Wg0mi4SiQROp5POzk5MJhMOh4OWlhY6OjqYMWMGFRUVABji8biQLe5yc3O/0afabrf/wLui0Wg0P06SySQmk4lgMIjD4SAajeJ0OlVHFY1Go9F8O52dnQgh8Hg8ALS3t5OTk6Ouoyaz2YzVasXr9QJgs9nw+/14vV7i8Tgmk+kH23iNRqP5v0BNTQ0nnHACDodDXTNlD3qNRqPRfBOz2UwqlVL/+3w+vF4v2dnZuFwu9T5DS0uL8Hq9NDU1UVxcjMFgQAiho6kajUbzHSQSCaDrgiuvmfIaKqOtGo1Go/kmQghisRg2mw2AUChERkYGQggcDoeKqBozMzMxmUw4nc4eC2hra/u7b7RGo9H8XyKVSmE0dpmnGAwGGhsbyczMJBQKaZGq0Wg034LBYCAWixEOhwGwWCyYTKZvpE6ZDAYDyWQSr9dLKBTC5XLh9/vp1asXgM610mg0mv8Bo9FIRkYGhw8fpry8nHg8Tl5ennJL0ddPjUaj+esYDAYsFguRSAQhBEajEbvdjslkIi8v7+v3CSFE92l+g8FAPB7HbDb/UNuu0Wg0/ycQQpBIJLBYLKRSKTIyMtTUv3RO0Wg0Gs03CYVCajY/mUwSiUSw2WwEg0Gys7O/nvoXQmC320mlUioKkJGRAfA38VAVQhAIBEgmkyQSCRXilRv5Xfh8PlKplMoFk8sEiEQipNNp9XosFiMajarfu/9No9FojgeyEECmAAAqxyqZTBKLxfD7/UDXNaq9vV29J5FIqH/Qdc2KRCLq2ptKpYhGo6TTaRKJBIFAQF3//hbWgdLrNZFIqO2S2/ljQAhBU1OTGj85HpJoNEosFutxr5KWYcdy/0qn0z3en0qlSKfTaoyj0SjRaJREIqFeT6VSPSLl3V+Tx0l+Th6jQCCg3t/Z2amWrdH8IyNzU4UQmEwmbDYbZrOZzMzMHu877klUBoOhx0q7XzysVut3fl66EcRiMSU8U6kUDocDu91OIpFQNwir1aqSc2OxGPF4nNzc3L/l7mg0Gs0xk0qlsFqtPa5R8mcZPZAR2WAwSCqVwmazEQqFMJvN2O12FTgwGo2kUimSySRms/lvklYgK2vNZjPZ2dnq9R/LjJrBYMDj8ah7hXRREEIoK0V53Zdi0OFwqIKMY1n+X3tNvi5vpP+dcDhMMpkEUDdY+Tmj0fiN8ev+UCF//p+WrdFoenLchar8UhoMBqLRKCaTiUgkgsViIRqN9rAg+DZkNS2gIhBms5lkMkk8HsdoNGIymTAajVgslmMSwRqNRnM8CYVCWK1W0um0SgWQIioSieBwOEilUhgMBsxmMxaLBYvFQjKZVIJVRhvMZrP6rBRo/1vktRi6rqtCCCWM0+n0MV+fjyfdhWMkElGvy3GT2+t0Okkmk+p3Ob7ftezu//93/H6/CpCYTCaVP/ffi4/h66lLKWCNRiMOh+MbESK3263erwvuNJrv5rh/SywWC0IIgsGgSpSVHMtFUE7tSCNY6LpgtLW1YbFY1JdeJuOm02nlX6ifWDUazQ+JjJ4mEgklhqQ/tcvlIhaL0dzcTFlZWY/agO75rbIyVnbAklPV3VMNvi+ZmZlKXLlcrh+d76tMe+g+RS+3UxYCy+hzd4Equ9x8X4QQPQzI4euUAhnN7R5Rle93Op09jovf78fj8WCxWAiFQhgMBrVdkUjkG1OcGo3mm/xdHufkU6+civnoo4/o27cvhYWF3/lZm82mBKe0zMrJyVFT+nKqX1aPwdeehvIiodFoND8EMnVJRtegS/CYTCYVTcvOzsZoNPYQihaLBYPB0CNyJ3MajUYjkUgEg8HwN4nImUwmVQQGUF1djRCC3r17/6+X/b9FjoMsULPZbEoIyu41wWBQRYIzMjJoaWnBYDB877QvGfAQQlBbW0tOTo4SoHIGL5VKqdlCi8Wixk9uWygUoq2tjeLiYiWyZTRYzg5qkarRHBv/+0fy76ClpUVNU6XTaaqrq3nqqadYv349HR0d3/n5QCBAc3MzBw4c4PHHH+e3v/0tBw4coKWlhUAgQDqdVmI2mUwqMWy327VI1Wg0PzjJZFJNH8uoXDweZ9++fXR2dqpZISkUZaeWxsZGvvzyS7Wc7nmOf4toKkBzczPxeFxtV0VFBc888wzPP/88LS0tf5N1/G8wGo1qXGQEE6CxsZGNGzcyZMgQLrroIh5//HEOHjxIOp3G7XYf87W/e+FU99dkLvDdd9/NqlWrqKioIBwOYzQasVqtOBwOvF4vXq8Xh8Ohco/D4TAVFRWsWrWKu+++G+iKqppMpv/H3nmHWVWee/vevffpjWGoAzioSAkSsBALiEZj1HyaaDTBhiYgYgweFXs0YEOPRoMarCTREMHEBBQUQSlBkABDqNP2zOzZvffvjznv62w14jknJzHJuq+Ly3Fmz9prrT3reZ/3Kb+HsrIyOaY8Fov9je6QgsK/Pv/nEVWXyyWNqs1mI51Oc/jwYcaMGfOZdT6fxGazYbPZsFgsBAIBisUi1dXV0rgfPnyYxsZGoN/QBwIBDAaDrPNS5GEUFBT+UYhaVBH5jEajGI1GQqEQL7zwAn19fcyZM4eamhq52c5ms6TTaV566SWgv6axpqZGOpRCu/VvEU01mUwltZ1Wq5Wuri7S6fSXwnbmcjm5foiazkwmw/bt21mxYgUzZsygpaWFE088kaFDhwL9DWuJRIJAIEBlZeXnHl/cT0BGbQeWGXi9XorFIuXl5Ue9HyJKXl5eTrFYxOv1Eo1G5fE7OjpQqVTU1tai1WpJpVJKeZqCwhfg/9xR1Wq1pNNpIpEIDodD1qUOjDJ8HoFAALfbjUajIRKJlMiAtLW1MWfOHC666CLOOeccbDYbbrdb7sAVeSoFBYV/NDqdrkSGxWAwkMvlWLNmDVu2bOGMM86gsrKypGY/Go2yfft27Ha7bBoymUwy+pfL5WSp0/8GESzw+XxUVVVRXV2Nw+Ggq6vrS+GoCkdSlHbpdDoymQxer5cPP/yQJUuW0NTUBPTfs0wmg8fjwWw2fyEnUKwlwpkUtabCWc1ms2g0Glk7nEwmSSaTWCwW2cyWTqeJx+OYTCZMJpOslxV1yeJ+3n///ajVan784x9TUVHxpZEAU1D4snPU/NFA2Q+heyp04AQiRfTJ14nUfl9fH4DsaM1kMiW7yVAoJHUERTQBSrX8RF1QWVkZDoeDZDJJLBajq6sLg8FAT0+PPDeh1Sr07fx+vzz+QK3AL0NqS0FB4V8X0c0vcDqdZDIZLBYLTqcTo9HI5Zdfjt/vJx6P093dDfQ7ona7HZPJJB1Yg8GAz+cjlUqVOJHt7e3AxzWswm5ms1lyuRyHDh2SrxW6qSI7JWx5dXW1tIdtbW1Eo1HZMBSNRmV9pbDx6XSaYrEoy616e3tpa2uT79PV1QWUliv4fL6S0dwi/V0sFonH4/JcAoGAvBa9Xi8dVfE+er2eHTt2MGrUKPR6vbxekX1LpVKy2SyTycjj7t+/X763WAd0Ol2JxKEYfWs2m/H5fFgsFqkDLq4hm81iMBhoa2sjk8lgMBgIBAKyUbivr494PF7ijIoeDbGOifcWn5tYnwYGYpSpZgoK/XwhR9VgMMhdpN/vx263s2XLFi699FL0ej1nnHEG3/zmNykUCuRyOSwWC1u3bsXlcvHmm2+yYMECRo4cycSJE1m6dClWq5Xq6mr6+vrw+Xz8x3/8B3fccQdtbW3odDoMBgMfffQR06ZN46233sLn88ma00gkwltvvcXNN9/MmWeeyfbt21mwYAHXXnstq1atkl2Vb775JhdccAFut5sZM2Zw5513kkwmcbvdRKNRDhw4UDKiS0FBQeHvzfTp05k1axZ33HEHuVxO2jghRxUKhTCbzSSTSZ577jl+/OMf09raCnzskN56662ce+65MqJ49913c8opp/Dee+9x9dVXc/HFFzNy5Ei+/e1vo9fr2b59O9dffz1ut5vp06fzk5/8hNbWVoxGIxqNhokTJ1JeXs7PfvYzTjzxRI455hjOP/98li1bJhuAgsEgKpWKSCTCD37wA6ZMmcK5557Ld77zHTZs2EBNTQ2FQoHW1lZUKhUPPfQQy5cvZ/jw4bz++utAvxMfjUbxer2YzWbsdjs7d+5k8eLFnHbaaVitVqZMmcLWrVuJRCLkcjm6u7upqanh9ddfZ9OmTYwYMYLLL7+cP/zhD4TDYdn5n0gkCIfD6PV6tm7dypVXXsk555zD6NGjueCCC4jFYgSDQRnMAPjDH/7A1VdfjUaj4fzzz2fv3r2yx0KlUtHX18eyZcv4+c9/TiwWo6GhQao23Hrrrdx///0A1NbWEovF6O7uJh6P8+ijjzJ69GiWLVvGsmXLGD16NE899RSJRIKuri56e3v54Q9/iE6nQ6fTsWDBArZt26ZEXBUU/oujOqqxWAy9Xi93pRaLhRUrVnDjjTdiMBh49913ueGGG8hms8ycOZPDhw8DMG7cOPbs2cPMmTOxWq0sXbqUyy67jLa2Nv74xz9y8OBBysrKCIVC7N27F7fbTUNDAz6fTxafC40/i8Uid75ms5kpU6bwgx/8gJ/+9KeYzWb+4z/+gyeeeIKzzjoLu93OihUrmDdvHiNHjuQ3v/kNs2bN4vXXX+cb3/gGXq8Xm83GkCFD/m/vrIKCgsJRGDduHJdffjnbt2/npZdekjqdgUAAnU5HOp2W01ri8Tjr16+X0T3hyIwaNQqfzyfLAaZPn867777LNddcQ3NzMzfeeCNnn302mzZtYurUqVx33XWMHz+etWvX0tLSwurVq3nzzTex2Wz4/X42bNjAO++8w+9+9zvuu+8+Fi1aRF1dHYsWLWLx4sX09fVRVVVFLpfj4osvJp/Ps3DhQulsP/DAA2zfvp1EIsGOHTuora3ljjvuYNWqVSxZsoTBgwezfft2LBYLNpuNiooKMpkM77//Ppdffjmtra3Mnj2bX/3qV1xwwQWcdNJJdHV1kc1maWlp4U9/+hOnnnoq48eP5+233+aRRx7htNNOw+FwyNpdm82Gw+Fg9erVPP7443R1dXHTTTexcOFCurq6ePjhh0mlUqhUKqxWKz/72c+YPXs2FRUVvPTSS1xyySXcfffdeL1estksLpcLg8HAwYMH2bFjh4w+iyhuT0+PjFyLkoDKykpqa2s566yz2Lx5MzNnzpRfz5o1C6vVKmuUk8kkmzdv5r333qOtrY2ZM2eWRKgVFP6dOWqNqkhP2O12gsEgLpeLXbt20dLSwuLFi9HpdEyYMIGpU6dy/PHHk0gk8Hq96PV6LrvsMmbPns2cOXMYNWoUiUSCQ4cO8cEHH+BwOAgGg9TX16NSqWS5gKgHMpvNmM1mwuGwFKJOp9NSFHvIkCEYDAZOPfVUMpmMlFLZvXs37733Hscddxz33nsvWq2Wk08+mZNOOomrr76ad955hzPPPBO73V7SiKWgoKDw96ZYLDJlyhS++93vsnjxYk455RSGDx9OPB6nUCjgcrnIZDJoNBqOOeYYbDYbVquVTCaD3W6nt7cXt9tNVVUVFouFnp4eDhw4QHV1NUuWLOGUU05Br9czZswYrFYrL774IkuWLGHq1Kn09PSwdOlSLr30Unbv3i2zUclkkkGDBrFw4ULq6+s5+eST+frXv04+n6e9vZ2ysjJisRjz5s0jHo8zf/58Bg8eDEBZWRmLFi3izTff5LjjjmPUqFFEIhEWLFjALbfcQkdHB1qtlqqqKsLhMEajkXw+TzAYZM2aNRxzzDHcdNNNjBw5ksOHD/OVr3yFlStXsmjRIp566ikKhQJVVVV89atfpaOjg3HjxgEfp8/F+pFMJkkkEvzyl7/klFNO4fLLL0eMC6+vr+fKK69k/PjxnHTSSWg0Gvbt28esWbOYM2eOrHkdNGgQF110kUzBC6c6nU5jsVjkaO9cLkdZWRnl5eVks1nC4bBsfPP5fAwePJi+vj4aGxvJ5/PY7XZ5nO7ubvx+Pz/84Q9xu90MGjSIhoYG/t//+3/84he/4K677vrH/GEqKHyJOGpE1WQy0dnZiclkwm63UygUmDdvHo888giJRELWiR45coRRo0bx4YcfotFoUKvVuN1upk6dKqOXZrNZduxrtVpcLpccByhqptxuN2azmUAgQCQSkVNZRI1SKBQiEonQ3d3N/v372bJlC01NTajVaoLBIKNGjaKmpoZ9+/bh9/vp6emhvb2diRMn8sc//pELL7xQjletra39P7/BCgoKCn8NYf+uuOIKHA4HjzzyCLFYjKFDh8rJfbFYjL6+PmlvAVmHX1FRwZEjR9i5cyc9PT1UVlaiVqux2WyyhhNg6NChFItFgsEgxxxzDNAf8dPpdDQ3N6PRaAgEAmg0GsaMGUNzczMnnHACLpcL6E/Tjxs3jjfeeIM9e/YQi8VIpVJcdNFFDB48mO7ublKpFBMnTuT444+nr6+PUCiEWq0mGo0yY8YMeZyqqiqy2Sw2m42+vj7MZjO1tbVs3LgRp9MpI8WNjY1EIhFeffVVfvnLX7Jr1y7C4TCbN29m7969ZLNZuU5ks1mMRqOcBCVKxZ599lkuueQSjEZjSX1tKBRi0KBBVFVV0dPTw4svvsjEiROlk9rT0yMdba1WSygUIhQKyeECNpsNjUaD0Wjk4MGDhEIhrFarHBJQVVVFX1+fvP+xWIxYLEY8HpefoV6vJxqN0tXVRSgUkg5xbW0tL7zwguKkKij8F0d1VBOJBDU1NUQiETQaDalUCqfTyapVq1i0aBHTpk1jwoQJzJw5k/Xr1xMIBKioqMDn8/H73/+eqqoq4vE4oVBICvAbDAYikQixWIxAIEBZWRmVlZUlI1LT6TR1dXU4nc4SIX9Ry1RVVcXxxx/PoEGD2Lt3L36/X8q1nH766QwfPpyGhgYuv/xyNm3aRE9PDx6PB6/XS3l5uewgVVBQUPhHIRwzi8XC3Xffze9//3uee+45OWI6GAzK8qdAICCF7MXGvb29ndraWs4++2xqamqA/vpRjUZDKBQiFosRiUSkduf555+Pw+Hg0KFD5PN5IpEIbrdbllaJRtcDBw7Q1dUlm5XsdjuTJ0/G7/fT3d2N1+tl7969XHvttQwdOpTq6mrZ+HX33XeXOGnQ31wVj8dlA61arSYSiVBdXU06neaDDz6gvb2d73znO4wdOxbodxbr6+sJBAI0NjbS0dGBy+ViwoQJ0hEtLy/H5XJhs9lQq9UEAgF8Ph+hUIhkMkmhUODXv/415557rszCzZ07F6PRyJYtW+jp6cFms8kGt+7ubtnIJGpcAVk/Kpq+RCRVoNVqMRqNMvtntVrR6XTy/jc2NhIKhQgGgzQ1NZHNZonFYnzjG9/grLPOYuHChZx33nksXLiQZ599lrq6upLjKyj8O3NUR1V0f4pRdhqNhkceeYQFCxbgdrt5+umn2bBhA6tXr6alpYWmpiZp7KB/TKrb7cbpdEptuUOHDsmRfU6nk3A4TEdHh9yVix1xR0cHXq+X7u5uOT7QYrGQSqXw+/0cOXKErq4uxo0bh8fjkTvShoYGlixZwkcffcQpp5zCXXfdxbBhw7j99tuprq4mHo+zbdu2krnRCgoKCn9vRPNPOp3m9NNPZ9q0aaxatYr333+fQqEgnTur1UqhUKCiogKz2Sy7x+vr69m3bx+//e1v6ezsBPq1q51OJ5WVlVgsFqk5bTQa6ejoYN++fbJxyuPxEI/HSafTVFZWSnkll8tFTU2NzGhBf9d8JpNBr9djs9nIZrPcd999PProo2zdupWNGzfy61//mlWrVjF//nz0ej3t7e20tLRQUVGBxWLB4/HQ2tqKRqORa4LBYMBut1MsFtmxYwednZ309vZSWVlJNBqlp6cHnU5HbW0toVCIvr4+ysrKOHjwIB9++KFUldFoNLjdbsrLy3E6nVgsFp599lmZ/vf5fPT09DB//nzMZjMulwuHw0FPTw9+v5+KigqqqqpQq9VUVFQA/euf2EhYLJaSEeDCkbRYLKhUKsLhMMlkkq6uLg4fPoxOp6OiogK73S6bdysqKvjLX/4io7IADzzwAMuXL+f222/nwIEDLFiwgCuuuIKdO3f+Hf4CFRS+/BzVUXU6neTzeSoqKkilUiQSCT766CNmzJjBLbfcQlNTE4MHD8Zut6PRaAgGg0SjURKJBFOmTKG1tRW/3y8d07q6Ompra8lms2SzWaLRKKlUioaGBqqqqmRU1W63k0qlqKurw2q1ymku6XRayoOUlZVRU1PDjh076Ovrk8LViUSCiooKbDYbN9xwA9u3b2fZsmXcc889bN68mXQ6zbhx4xT5DwUFhX8owWAQg8EgU+zz58/H5/Px2GOPyRS+kIAKBALkcjm6uroIBoNSo7q2tpZjjjmG4cOHk8lkpJi81+uV73P48GGGDh3Knj17aGpqorq6WkphpVIpKTV1+PBhaasHRmJFynr8+PHSwbJardjtdsaNG8e4ceNobm7m1FNPZebMmYwcORKtVktzczM7d+4km82STCbJZrOMGDECv99PoVCQ6Xi9Xo/b7SaRSFBbWytF8zOZDG63m2QyKSUNy8rKaGtro7GxkZaWFtxut9QyTafTFAoFKUv10ksvMWrUKK677joSiQQGg4FLL72UXC4nG9fq6upoamqS61ZPT48clyp0W0UPRTabRavVYrFYZH2ty+UinU6TTqcpKyuT/RIul4tgMEhvby9DhgyR066GDRsm171IJEI6neb444/n7LPPZunSpaxfv54tW7awdu3av9vfoYLCl5kvHFGNx+OYzWZyuRw2m03OV3Y4HMRiMXw+H+3t7Xi9XjweDy0tLTQ3N7Nx40Y5mUWr1dLa2iq1/MSuctSoUezYsYPe3l4MBgP5fL7kITabzSVpJL1ej8lkKnFcxSzm/fv3M3fuXBYuXEh1dTWAnLhy8sknS4Mm5kYrKCgo/F+i0WikQybSyRaLRTqZomE0GAwydOhQ5syZw9tvv81zzz0nO//z+Txjxoyhra2NQ4cOMXz4cCkHuHfvXvR6vYyotre3YzAYUKlUUse0sbGRgwcP4nK55CAU4Rwnk0mMRiNqtZpBgwYRCoU4dOgQO3bsIJFIyNT4zp07GTduHE6nk6FDh3LssceyatUq9u7dC/QHNY4cOUJnZyepVIpAICBraUV/gyi3EiNHHQ6HbAybNWsWb7zxBu+++66Ug/J4PFxzzTWceeaZjB49mkQiQSqVorKyUq4Rwok0Go3o9dueVK0AACAASURBVHoZgDAajTidTqlRarVa0Wq1fPDBByQSCaLRKFqtlmw2yznnnMPKlStJJBJUVlbKUrcjR47gdrvRarVEo1GOP/54du/eTTwel81bhw4dIpFIYDabiUQi9Pb2yvvqdrulQytUCcLhMBaLBY1Gw/z587nmmmukFq5oypoyZUqJ5reCwr8zR+36LysrK9GaA/B6vWzbto2f/vSnnHTSSTz11FNs2bKFaDTKqFGjgH4jce655/K9732PfD7PN7/5TY4cOcKLL77I9u3bufDCC4H+4vq6ujrWr1/P888/z5gxY3jllVfYvn07fX19RCIRkskk6XRa1qGKiGqhUMDj8aBSqVi9ejXTpk1j5MiR1NbW8sQTT+BwOPjKV77C3r17WbduHWq1mpqaGurr64F+8WthrBUUFBT+1mSzWXQ6nUyf6/V64vG4lDfat28fxWJRptsBTjvtNNatW8dzzz2HWq3G7/fjcDhobm6moaGBZ599lh07djBhwgSefvpp3nvvPbLZLFarFb1eT2NjI8FgELvdjk6nkxHTfD6P0Wikp6eHQYMGybIDq9VKb28vfX19OBwOqT16yy23MHfuXBoaGnjggQd4+eWXef3112loaCCRSPDjH/+YCy+8kEWLFnHmmWcyffp0NmzYwAsvvMBpp53GokWL2L59O2azWZaCAbI0TDjSZrOZ8vJyTj75ZNavX8+9995LW1sbI0aMYM6cOcTjccaNGyfT8YlEgsOHD5NOp1Gr1XIggPiv+LpYLNLS0sJ//ud/0tTURFlZGW+//TabNm2ivb1divwPGjSIE044gXvvvZcbb7yRWbNmsW/fPtauXUsoFCKfz0t975qaGv70pz9x0003MXPmTFpbW3n//ffZuHEj559/Pna7XU4TEzqt8Xgcv99POp3myJEjrF69mkmTJtHU1MTFF1/M9773PakFrlareeKJJ/jwww/5+c9//nf7O1VQ+DKjue22224XhfkAd9xxB7fddpss1o9EIphMJlQqlZTWOPPMM8nlcjz//PPcc889nH766Vx11VW0t7eTSqVoamrC4/FQU1PD5MmTeeyxx1iyZAkul4urrroKnU5HT08P06dPx2w2c8IJJxCLxXj88cd5/vnnmTx5MldddRXZbJZp06ZRX1+PWq3m0KFD1NXVMXnyZBmhNRgMPPTQQ/zyl79k0qRJDBkyhDPPPJO6ujrefPNNfvSjH9HW1saUKVOYM2cOo0ePplAoEAwGsVgsf5N52QoKCv/eFItF6SQtWrRI2lChBS0cVo1GI7v3e3t7qa6uZtSoUVitVrxer6zdVKvVpFIp7HY73/zmN9FoNNjtdqZMmcK2bdu477772Lx5M5MmTeL000/HaDTS0tKCy+Vi//79rF27lgsuuICysjLpNAk5qGOPPVaOmo5Go6xduxaNRsOpp56KwWBg27ZtuN1uLrvsMpYvX868efOwWq2y1jMej0t5plmzZhGJRKSYvVar5bvf/S4zZ86UDu/APgKNRoNKpcJgMGAymaTagMVioba2lhEjRtDW1sZzzz3H4sWLGTp0qNRJFU1SHo+HvXv30tXVxQUXXCDXAuF4ivIxlUrFcccdRzqdZtmyZfz+97/nsssu44wzzqCzs5Oqqirq6+sxmUwMHjyY4cOH86c//YmlS5eSyWS44YYb2LlzJ8ceeyyVlZWk02nGjx+Pw+FgzZo1vPDCC+j1eqZNm8awYcOwWCy43W70ej0HDx7ko48+YsqUKQwZMgSXy0V1dTW/+tWvWL58OQAtLS2MHDmSsWPHcvjwYa699lqeeeYZTjzxRObPn8/EiRPlZkJB4V+RYrFY8tyKPqhCocCdd97J7bff3v+zQqFQFE4o9HcvivFz+XxedvoXi0U0Gg25XA6VSiUPZjQa6evrw263y/S83+8nlUpRVVVFJBKRkYJ169Yxbtw4KUtSVlYG9KfDisUiTqeTXC6Hz+ejurpajmA1mUwYjUYOHTqEVquVDVEOh0Ne8MB0ikqlwufzodfrcTgcssPS5XIRjUZlecHAwngFBQWF/y5igz9wJr0wuCqVqiQlbDAYMBgM0p4ePnyY+vp6dDqdbFhVq9VYrVZyuRydnZ24XC7UarXsJhcSTPBxtNbr9coyJ6/Xi1qtprKyUjY+wcejpf1+P7W1tbKRKRwO43Q6gf5aVZFlEqL10F/+JepShSyVsN3RaFSuBcViEbPZ/Cnn6i9/+Qu1tbXyvIVTLygUCnLAgcPhoFAoyCim3+/H4/EA/TbeYDBgNBrZtm0bw4cPlyUEwu4PRHwm4muxfoga0nQ6La8zkUjIbJ34vmg4E+zcuZOWlhYADh06RFlZGZFIhNra2k9dUyQSkU1syWQSv99PXV3dp+6nODdxveJzEJFiJZCi8K+M8DHF8yNsmqgPF/b1qI7qQEkU6H+oYrEYNpsNlUpFZ2en1CPt7OykvLz8U/OtDxw4QFNTU4nhDoVCFAoFenp6aG5ulh2fzc3NGAwGEokExWIRi8UiT16Qy+Xw+/2yK1QYKmGEB75Oq9USDocJBoM0NjZKI5TNZuns7FQE/xUUFP7HHM1RFfZGNCaJ5qiBDohoEhIMdDCFNiogHdJCoUB3dzcul4tQKER1dTWZTIa2tjYpvA9IB1LYd/Ge4v3F+yQSCXK5nHSs/H6/lGvyer2MGDGCXC5Hb2+vlMAa6BzH43GSyaQMVmQyGZLJpGwGg34nU+hji4YkvV5PPp+Xo6zFeSWTSTmyW6wFvb29NDQ0AP3SVrFYTDbZivv+WYiaVnGsT75PR0cH1dXVcoiC6P4XdcXFYpHOzk6am5vlMYWsojifQqEgtV9NJhP5fJ5oNCo3AIAMzGSzWbxeLw0NDbI2WaytsVgMlUqFxWKRn4Nw0hUU/hX5mzmqYkcZiUTwer0YDAbp3A2MikYiEVnMHo1GKRQKUoS5UChII9jZ2YnD4aBYLGKz2aQhT6fTJQ1OkUgEs9kspUEA2dAlFgC1Wo1Op2P37t2yNlbMWB46dCg9PT2YzeaS3ev+/ftpaGiQQwn+moFTUFBQOBpf1FEV3egGg4FMJkMul8NisUjnxGq1AshGU6PRKJuMWltbGTFiBADd3d1oNBrKy8tlCh6QUwOFzY7FYhgMBtnNr9FopKMWi8Wkbc3n8/K9w+Gw1CMF5PE7OzvRarVUVlZK58rtdqNWq2lra5MOW7FYJJlMyshpOByW1ybGu34WmUyGYDAobfXA4wiHVNDV1SVlszo6Oqirq/tcGy5+X2TS9Ho94XCYaDQqI5x9fX2oVCrpFCaTSRkdBmhtbaW+vl4upuL7A6Om0B9lra6ulsMFotEoLpcLk8kko6hiwqLRaJR/GyKiPLABzu12H+1PT0Hhn56/maMqdOTErh76d3pCsqq7u5vKykoZZYX+XazoIhXRAtHRb7Va0Wg0JQ/5rl27pLh/X18fBoMBm80mJalEh38qlZKRXOhfHBKJBFarlWAwSC6Xo7y8nEwmg8/no7a2lng8jsFgIJlMotPppB6rMOCK6L+CgsL/lKM5qrlcjnw+L6OHoiZLiNFbrVbpGIrXCodSHDOTyZBIJGSETjg2YlZ8XV0de/bsobKyUko5dXd3M3jwYJnKFq8V6WqNRiOHnoimH7fbTTabpaOjA5PJRFVVVUnkFD4OTogRoXq9Xk5VcjqdaDQa4vG4dOiEM2wymWRwIZlMylpdUSsrAiKpVIpwOCwnISYSCdLpNNFoVDrEyWSSTCZTUvr11z4blUpFR0eHbBI7ePAgQ4YMQa/Xc+TIEerq6uQo1GKxKO/JwPVBrDfhcBi/3y+nVwknePfu3QwePFg6t11dXRgMBjweD4lEQvZ4iM8uk8lgNBrlmmU0GkuCKYCU2lIcVoV/Zf5mjqowvvl8XnafCkMaj8flGLlEIiFfKyaZCEFktVqNz+ejsrJSzoo2mUx4vV7Kysqks5hOp6VhCAaDUs5DjE4Vta6JRIJ8Po/NZpOlBCKdIyIL8LFGoZAHUalUUmNQjPBTUFBQ+J9yNEcVPo5MfpYjmsvl5H/NZjNqtVqWV5nNZrLZrEwnazQafD4f5eXl8v2KxSKpVErW22cyGXp7e6mrq5OvFZG73t5eKioqyOfzUvZPTAsE5LmIyGcoFJIZrEAgQGVlpTyPgdHcgXxWKl68RzQalU1YA51BUY8pnFpx3FAohF6vx2w2ywCG0D4V1/Z5n4m4JpE9E18DfzVi+8n7kM/nKRQKsrRB8FlRaZ/Ph9PpLJnyZbFY5DopAjd6vV6uScJhN5vNJeVun3VeCgr/anxhR7VYLBaTyaQ0dCL1oEQaFRQUFD6fgTrOmUxGpm/z+bzM9igoKCgofJqBG95cLic1nWOxGG63Wzqq2oFOaTwex2q1SpFnsWNXUFBQUPg0Ql9T1Et2d3czYsQIMpkMVqtVsZ8KCgoKfwWLxSKbJw0GA1qtVmpKD8yYaMUs51AohNPpJBaL4XA4vlChuoKCgsK/MyJVVVdXRyaTQaVS4fV6ZSmVYj8VFBQU/jqiZluUOuVyOdlnJFBHo1FyuZwcQydQZDEUFBQUPp+B0kSi6VQMSYnFYv/gs1NQUFD48lIsFjEYDFJJQyiifHKD/6kaVdHk5HQ6pfadgoKCgsKnEU0y+/btY/jw4QCymUZ0uSsoKCgofBqhxJTJZMjn8+RyOaluYrPZiEajAKgymUwxHo+Ty+UoKysr6Vgd6MAqKCgoKJQiulWFDJ/owFdqUxUUFBS+GJFIhGKxKBVIAoEAHo/n42YqrVaL0+kkn88TiUSor68vmSCVyWT+keevoKCg8KVFSE7ZbDZ8Ph86nY6hQ4eSSCRKpJ4UFBQUFEoRiimAbOr3+XwEg0E55AT+K/Uv9PWGDh3KgQMHAKisrKSvr082BSgoKCgolOJ2uwkEAgBUVVURDodJJpMl31dQUFBQ+GzKy8vx+/1oNBpMJhORSITRo0fz5z//+b8/QlVBQUFBoZQvIvivoKCgoPBpvqjgv1Lpr6CgoKCgoKCg8KVEcVQVFBQUFBQUFBS+lCiOqoKCgoKCgoKCwpcSxVFVUFBQUFBQUFD4UqI4qgoKCgoKCgoKCl9KFEdVQUFBQUFBQUHhS4niqCooKCgoKCgoKHwpOaqjmsvlKBQKR/1eJpMhl8vJ/0+n0596jfheKpUimUzK77e3twPIua6RSKTk97LZLLlcjlQqRTabBUCMff2kqHYmkyGbzZLP54nH43/1uvL5POl0uuR40D+6KxwOA/0TEqBfK/GTgw/EfFoFBQWFz2OgjRF2RtjKXC5HT0+PnHCVSCTk73V3d8uv0+k0XV1d8vcKhUKJfcvn88RiMTkRSxy7UCiUjHPNZDL4/f6S9xE2E/ptbyqVolgsUiwWSSaTf3XoSz6f/9So2M+ylWKO9yfvwSftfCaTIZ1Olxx/4L3r7e2VP0ulUvLrcDhMOp0uscfhcFheQz6fL1mLCoWCPPd8Pk9XVxdQer/FWpTL5Ugmk/LY+/fvL3mPeDxOsViU5ynWpIHnF4vF5Nc9PT3y64HXKq4/kUjIY4nvffJ6g8Gg/P2B66ggmUyWrMUKCv/sfCHB/3w+L38uRKyFsHUwGJQjWOPxOCqVCr1ej8lkQq1Wk0wm0el0ZLNZ9Hq9HCAQDofJ5/P4/X6GDRtGR0cHANXV1UQiEVwuF9FolHA4jNPpxGq1Av1GP5PJoNFoMBqNQP+DKQyyeF0ymcRkMhGNRjEYDFJENp1Oo1arMZvNACQSCYxGIz6fD7VaTXl5Oel0GoPBQCQSwWw2S4Mnb5pKhVarVQS9FRT+zTma4H82myWVSmGz2eTvJJNJUqkUBoMBs9ksbZX4GfTbYa1WS1tbG4MGDZI/E8fVaDQYDAag35ZqtVrMZjMqlYpoNIper8dgMEgHTqVSYbFYpM0SttBsNsuvhZ0sFouEw2EKhQJutxtA2k21Wi0dKa1WKzf1Op0Os9mMVqsF+h2reDyO3W4HQK1WE4vFsFgsaLVaOaI7GAxisVg+c9SscBIH3jtAOuPC1ofDYRwOB7lcjs7OTmw2G1arFb1e//Fkm0/Y6oGfm1iTfD4f5eXl8nqz2Sxmsxm1uj+eE4/HsVgs8t64XC55jGAwiNvtLnmfWCyG1WolGAzK10K/8xmNRvF4PPJeFQoFuSaJa0wkEjidTrRaLT6fT6536XSasrIy+dp0Ok08Hpcje8XrBo6nVFD4MvJFBf+P6qgO3DXrdDr50ApyuZw0Tp+kr6+v5IHKZrPSiGu1WtRqNZFIBLvdLh9qgD179tDc3FxyrGKxSDqdJp/Py4fP7/djMpmIxWK4XC5pWACOHDmCy+WShlI4siqVilwuRyKRIJVK4XA45CIRCoVwOp10dnZit9sxGo2fckhzuRzFYhGNRvOpe6GgoPDvxReZTBWNRtFoNNIpzGaz0uZAv6OSyWSk7c1kMphMphLHRThJgIycVlRUyGioxWKR9jYajUqHaqCDBEjbLr4uFovodDoZ3TMYDIRCIVKpFFVVVeTzeSKRCIVCAZvNJoMOwn4PRDjlWq1WXl8qlSIcDlNZWSmjxgaDgUAggNFolNcoore5XE46jvl8HrvdLiOwImgg7nEqlZK2X61Wk0ql5Pt6vV6qq6tLrltEJwcGTATt7e3U19cDSCd64OcK/euNx+PB5/Oh0+lwOp3E43ESiQQOh0M68QMdRI1GIzcLPp+PpqYm4GPnWtyjYrEoz11EaS0WC/l8/q+ur4lEgng8jsPh+ExHX0Hhy87fbDJVNpuVu/dPGqZ0Oo1Wq6VQKJBMJgmFQiQSCYLBIL/4xS/4xje+wUcffUQoFCKXy8lIJPQb71QqxYEDB5g6dSoffPAB6XSajz76iIULF7JixQqZ6olGo3i9XtLptHwgW1tbeeCBB7j//vvJZDLodLqSCxs0aJA0FiL1I5xLvV6P0+mUhjiTyVAoFHA6nQB4PB5plD+Z3tdqtdJhV9IrCgoKR8NgMJDP58nlcmQyGWnDDh06JB02u92O2WzGZrPh8Xgwm810d3fLyF4sFiOXy5HL5TCbzeh0OqDfHg10isR/1Wo1BoOhJGUsfl+k1BOJBIFAgGw2S6FQIBwO4/V6+clPfsL9999PW1sbarUal8uFx+NBr9dLGy7S58FgUDq5Op0Oo9FIPp8nGo0Sj8cxGo3STmq1WiKRCNlsFrfbXZLiLhaLaLVajEYjFosFi8UigwwajQadTodKpZILWjQa5a233mLSpEmccMIJvPjii8Tjcfr6+oD+zFwwGJRpeDFH3GQyodFoSKVSBAIBIpEIv/3tb5k0aRLvv/8+2WxWRpSj0agM4MRiMSKRCNdeey07duzAbDaTz+e59dZbWb58OeFwWG5QxJopPg+VSsXq1av53ve+xzvvvAN87HQDGI1G6aTm83lMJhNWq1Xe62w2SyAQkOcbi8XI5/NyzRN/T6J0QERs29ra/nZ/xAoK/0A+e6s2AIPBIJ1LYeCEB5zNZmV6SXwtIgFarZYjR45QWVmJ2Wwu2Znq9Xr5cJlMJpLJJGazGYPBQDKZZP/+/RSLRSoqKuRO3mKxlDjKLpeLZDJJR0cHZWVlsr4rm80Sj8cZNGiQTKmYTCa0Wi2ZTEbuVu12O1qtFqvVSmdnJ1qtlsrKSrxeL2VlZcTjcUKhkIzUAjKSIM5diagqKCh8HiJjJCKQItJ65MgR7rnnHrLZLHPnzmXMmDEkk0mSySROp5Pe3l4ef/xxAK6//noqKyvJZDIcOXKEYcOG4XK5pFOUyWTkxrpQKMhyJ1FWkEql5AZ9YHQun89jtVpRq9XodLqSaGQul8PtdtPT00N5eTkajYZkMkk6nS5x9kTEVkRGhPMEH9emVlRU0N3dLVPjfr+fqqoquXao1eoSu5rNZmX2DD52gEVdbrFYZN26dTz88MNMnTqVc889lxNPPBG9Xo/VaiWdTrN//35Gjx5d8lkIp91oNMp/ADabja6urpJ1QrynQK/Xk06n2b17NxMnTpQlCfv375cOrUajwWKxyM+hr6+PiooKGcHt6uqS6X6dTidLCITTKsovhLPv8/moqqqiWCzicDjkewzckIjgysBSDo1Gg16vV9L+Cv8yHNVRFYga1IG1oQMdNuGcitSWVqvF6XTKFBX0GwrhPAoHcujQobzxxhvSuInUj3jwkskkVquVWCyG3W4nl8uh1+txuVwkEgk8Ho8sUxCplIEP8sCHdaCDLJoKPB4PHo9HXpOo09LpdJ960EVqSxhWcS4KCgoKn4dIs4uIqlqtZteuXbz//vuMHTuWpqYmbDabdALLysoIh8PkcjmZOtfr9bJeNZVKodfrSSQSJen9WCxGZWWlfE+TySSbhkTdY7FYxOVylaTns9mstLXCSbVarbIcCz5OmQubVywWZQBC2NxYLCbLGIQjajabqaqqApClYMFgEJvNJu3owBT3QGdXIJxk4Zglk0k6OztZs2YNHR0dspa2u7ubqqoq6aSGw2F5D4SjKkoHRIBErF35fJ5wOCydzYGoVCoaGhp4+eWXZR1rMplk+PDhaDQaqqqqZBOvSqVCrVZTUVFBIpGQ64RKpcJgMMj+DJ1Oh81mkwEPjUYj+zwMBgNVVVWyZE2j0aBSqUin06hUKgKBgMxyihpfm81GJpOR5ReihllB4Z+do4YERYpHRFKF85bJZDh48CDRaFQ2IgElaSFhZMPhsEyvW61W7HY7DocDjUaDVqvF4XDIgvmysjIZgRWRAuH0qtVqWUYgdteZTIauri70ej3d3d3k83lcLhfd3d3SAIr0fjQaxe/3EwgEKBQKeDweQqGQNJAbNmzA7XaTTCblItHa2ioNnNlsRq/XUygUPlP5QEFBQWEgwtGLxWKyfhGgvLxcOjyrV6/m1VdfBZBlVCJa2tTUhN1ul136+/btA5AbZpFZOnDgAFarVW64Ozs7ZemUqGk1m82UlZVRXl4unapkMolGo8Fms0mnSUQbRRrd7/fT09NT4qSKa0kmk8RiMWmLrVYrbrcbu90uo4Otra1Av9Mout5Fpm5go64glUoRjUZJJBKyY95kMslARHt7O21tbVRVVdHd3U1FRYVM1wuH2Ov1ylpd0VjmdDpxOp0YDAYZcdTpdPj9ftmtb7Va0el0JJNJ2tvbicfj8l6ZzWYZgRY1saFQCK/XK4MYYu0T1yucbrvdLjcpFosFt9st77fP56OrqwuVSiXPLxaLyXsgys9EgEQEU+x2u9ykRCIR8vm8PP5fq2tVUPhn5KiOqthF63Q6uUNLpVJs2rSJl19+mREjRjB58mR++MMfsmXLFqLRqHyY1Go18Xichx56iFGjRjF06FBuueUW2traZD3PypUraW5uZt26dfT29kpnNJvNYrPZZM3QqlWruOSSS6irq2Py5Mm88sorJV2pAA888ACXXXYZDz74IFdccQXz588nkUig0Wjo6enh4YcfZvz48YwePZpbbrmF3bt343Q6CQQC/O53v+OCCy5g8+bNPPDAA0yZMgWDwcDzzz/Phg0bZDeu0WiUKTRlx6qgoPB5CPslHECr1So3zbFYjNmzZ1MsFtm6datUSBmoMrJ161aqqqowmUw89thj3HjjjRw4cEAqrQDce++9zJs3D+h3WB588EFmz57N9u3bOe+88xg5ciRjx47l3nvvpb29na1bt3Lttddit9uZNm0aDz74oFRSEYRCITZt2sTkyZMZO3YsF1xwAStWrJCNP6JWNpVKsXjxYgYPHkxlZSXXXXcdO3fulIGKP//5z0ydOpWlS5dy++23M27cOP74xz+WSDoJpzWXy7F161buuusuTjrpJCoqKrj66qtZt24d0B/VXLNmDVdccQU33XQTGzdupLa2lm9/+9vs379fpscLhQLl5eUyyLFt2zauvPJK3G43brebK6+8km3btklnzuFwMGTIEFQqFffddx/Dhw9n1KhRLFy4kEAgINe+zs5ORo8ezdNPP00kEsFiseBwOGSZgs1mw2w24/V6ufvuuxk0aBAtLS3cfPPN7Nixg3g8jtVqJR6P8+KLLzJy5EhWrlzJ3LlzmT17Nm+++SbQ3/vx7LPPcuGFF1JWVsa5557L+vXricfj5PN5du/ezaOPPspVV13FqlWr+PrXv47H4+Gkk07i9ddflyUCnyfPqKDwz8RRHdVoNCpT9WJXv3XrVm655RZ27tzJk08+yWuvvUZnZydXX301vb29cjcYDAa5+OKLqa+v58EHH+TOO+/ktddeY8mSJSSTSfR6PZWVlRw6dAiTyURZWZnsnBVdl1qtloMHD/KjH/2IeDzOihUruPnmm1m5ciWvvPIKPp9PGu1gMMhrr73Gxo0bqa6u5qSTTsJisbBnzx5uuukm3nnnHRYvXsw777zD3r17+e53v4vX65WNDOFwmO9///uYTCYeeeQRnn32Wd555x2effZZALnz9vv9pFIpRZ5KQUHhczEYDBQKBRkNFCllsdltbGzk+uuv51e/+hVPPvmkdABFhqq8vJx8Po/X68VkMpFKpUin09L5HUg8HsdsNlNfX88bb7zBbbfdxowZM1i2bBk333wzt912G6effjo33XQTp512GitWrOBrX/sajz/+OMuWLSObzWI0GikvL+e5555jxYoV/OAHP+Dpp5+mubmZiy++mJUrV8rUeSAQ4Nvf/jZHjhzh/vvv591338Xr9XLzzTezfv166Xz29vby4IMPEo/Huemmm8hkMjIzN9CG7tixg+uvv5733nuPn/70p6xYsQKbzcb3v/991qxZA8D06dN57bXX+MlPfsKUKVM4cOAATz75JI2NjSUSiiJau2fPHq699loSiQRPPfUUy5cvR6/XM3fuXD788ENZjnHgwAHuvPNOVCoVDz/8MPfccw9bt27lhhtukI1SwWAQj8eDxWLBYDCgUqmIx+PYbDbZMNbd3c2jjz7KM888w5IlS3j00UfRaDQsXboUjUYjFQKSoPFcfQAAIABJREFUySRer5errroKj8fDV7/6Vc444ww6OztZsmQJjz32GJdccgmvvvoqU6dO5aKLLuL1119HpVIxcuRINmzYwEcffcSrr77Kddddx7Jly2hsbGTu3Lns2rULoKRZTUHhn5mj5geEHqoouI9Go6xatYqRI0eyaNEiampq6OrqYsWKFZx33nk8+eST3H///TJlsnjxYs444wzsdjuHDx+mtbW1pJvyaGQyGZ544glGjBjBbbfdRmNjI2azmUmTJsl6J9FN63K5mD59OjfeeCM1NTXU1dWRSqXYsmULxWKRn/3sZzQ2NuL3+1m+fDmzZ89m9erVXHrppdhsNpxOJxdddBGXXHKJlH7p6Ojg7bffprOzk/r6elmqoNVqS/QPFRQUFP676PV6xo0bx2233cbjjz/O7NmzCYfDeDwemRYXNZCilEo4v6lUStadqtVq0um0/Nfc3Mwtt9zCCSecQHV1NQcPHuSSSy4hHA5z0UUXceKJJ+JyuZg2bRr79++ns7OTvr4+dDodPT09nHDCCcyfP5+xY8eSzWYZMWIEZrOZdevWcc4556DX67n11lspLy9n9uzZHHvssQDccMMNLFu2jE2bNjFmzBgpqzVnzhzOP/98amtr5bWL0qxQKERVVRUrV65k2LBhLFy4kOHDhwNwxhlncOutt7Js2TKGDRuGXq+noqJCSkSJNLhYo4TjKwa6vPbaa5SXl/Pwww/jdrtJpVKMGjWKq666irVr13LsscdiMBhwuVzMmjWL8847j8GDB8v7u2LFCqkHK0q9RA1qsVikp6eH5uZmLBYLiUSCHTt28Oqrr3LnnXfyrW99C71ez/jx4xk0aBDPP/+8LGUQZWTPP/88zc3NMnO5detW1q5dy7Jly/jKV74CwIwZM8jn86xbt45Ro0bhcrkwGAxYLBauuuoqJkyYQKFQoLq6mo6ODo4cOcLYsWNlPa+Cwj87R42oarVaent78Xq9hEIhgsEgBw4coL6+nurqanK5HCaTib6+Pp566ilmz54txY89Hg8TJkyQUQSHw0FTUxP79u2jq6vrM6dqfJJMJsOGDRs47rjjaGlpkWkioZEnaqGEwLTNZqOxsVHWvEajUR566CEmTJhAY2MjuVwOj8dDKpXCYrHwu9/9jng8LutXx44dW3JdJ554In19fYRCIZnqF062Ik+loKDwvyEQCFBXV8epp56K0Wjk1ltvJRaLyVrHQqFAKBSS9YmilEB033s8HhwOh5ze53K5sFgs2Gw2jjnmGGpra1Gr1dTW1nLccceRTCaZPn06ZWVlUgapsbFRDjcRjV4tLS2MHTuWdDpNKpVi0KBBTJw4kdWrV9Pe3k4ikWDjxo0ce+yxtLS0SM3p8ePHo9fr8fv9sjkpnU7T0tJCfX19SX1nOp2WclShUIg33niDuro6hg8fXqJWMGLECN5//33i8TjV1dVoNBp5zaJTf6CTCkj1l1dffZVZs2ZJm200GvF4PDzzzDNMnDhRDp2Jx+MMHTqUhoYGoL8edOjQoQSDQdkgJhQbxD+1Wk1DQwPJZJJDhw7h9Xo5dOgQgwcP5jvf+Q46nY5IJILD4cDj8RCLxUpKyKqqqqisrMRut8ugy549e0ilUtTW1hIMBunt7SUSiTB48GD27duHx+PBarXicrkYOnQoLS0t8nzHjBmDRqOhtbW1ZAKWgsI/O0d1VDOZDE6nk+rqaux2O+FwmPb2dioqKlCpVDKSqdfr0el0NDU14XK56Orqwm63o1KpSCQSssNSTNoQmnZH4/DhwwDU19dTKBRKxs6l02kp8SHe3263U1FRIQcBiBGA8+bNk4XtKpWKs846i+XLl8tuW2HohMEQhlQYpYFTQUQ5xMCOWAUFBYX/LqIe1e12M3/+fH7xi1+wdetWQqEQFosFj8cjm1GF9JAQeh+Y6Ro4rU806EQiEYrFIrFYTDq37e3tsk5S6FOLWs6Bqilms5menh6KxSI2m41isUh5eTmBQICuri52796NwWBg3rx5VFZWolKp0Ol0NDQ0SFmt6upqKioqpIySKAcDZAd/LpfDZrPR1tZGsVhkwoQJsilIBAYmT55MdXU1u3btIpfL0dfXJ5uIRCTyk9MDhaaoXq8nm81SXl4ulQLsdjs2m41JkyahVqsxmUzS9gvFGeH4J5NJmUIX93vg5xaPxwmHwzQ1NTFkyBC2bdvGsGHDSCQSpNNpqQWbSCQwGAxSkcHv9wNgsVjk2tLe3s7GjRvp7u7muOOOY8yYMYwcOZJhw4Zx1113sW/fPiKRCKFQiFAohMPhwGg00t3dTSKRkNqzbrdbNuopKPwr8L9uDRQ7VdE8JR5k4fgVi0W5mzSZTORyOTn16YsgZDnEsUS9rKgtEk6qyWQqEbgWUlStra00NTXx9a9/nUmTJjFy5EgOHjwoR7OKcxYSIiK9I0byBYNBeb7hcFhqun7W1BcFBQWF/w4VFRWEQiE8Hg8zZszg/PPPZ9myZVJ/02QyYbfbZaRTjEO12+1SvzqZTEr7KGr11Wq1dCDT6TQej0dqdooNvVACcDqdsnNdOF4DhwoAJZFE4aQVCgVuvvlmZs2aRSQSkfZdOE2xWAwx9dBsNkuZKKDEqTwan/VacS4DXyNknMT6MFDWCT6WCANkJDadTuNwOOTo74GTFo1Go6wFFiNtB65Dn8XAEeOiPGDg5EexfokBNGIdE8MOxo4dy4gRI2hoaKChoYGysjJ8Pp+ULmtubsbv95coMABSolF8xmJK1idlthQU/hk5qqOq1+vp7e2VmnwOh4P6+np6e3vlQxyJRNDpdLJMwGazyZSImAUtxJ/D4bDUlhM/+zyamprQaDR0dHTIh1M4lSIyKzplI5EIfr+fvr4+2Z1fU1PD7t27Ofvssxk7diw1NTUMHjyYzZs3M2HCBJkiGShhJUapCjkRoVAgCuFNJpPccSsyIAoKCv9ThGh+sVjEarVyxRVXcM011/D444+TTCax2+0y8yQcVTEpUIzhFBFBEQEU+pyf7AMQ8lFiXLWQpYrFYnJClji20FJNp9Py9YFAAI/HQ21tLeXl5SQSCVQqlayl9Pv9WK1WDAYDhw8fxmq1EolEyOVyciyrmOyXyWSkwH00GqWhoQGVSsXmzZs555xzpPNtNBp577336OrqYsyYMWi1WsrKygiFQtIuD3R+hY6pWBvEWiH0VYXqQj6f5/DhwzKKKrRkBw5oEKUHQmRfqCIIR1M0/Wo0Gg4ePAjA+PHjeemll2Qz8MDPKJvNSjktoWMr1i2z2Syd2zfffJOtW7ei1+vldC/xuQaDQSKRCIAsj9Dr9RiNRjkVUvxcjKFUUPhn56ip/1wuR0VFBdXV1TidTlwuF0OGDKG9vR2v14vFYpEzli+99FIefvhhTCYToVBIThGBjyOU5eXlZDIZysvLS2ZZ/zV0Oh1Tpkzhww8/ZNeuXXIn2t3dLSd6CL09lUqFw+GgrKwMq9UqIxJXXnklL7/8Mm1tbcRiMWKxGBMmTGDfvn0yvS9S/sKoAHKwQG9vLxqNBpfLJetSLRaLUqOqoKDwvyIUCgHQ1dUFQE1NDVdccQU7d+7kvffeK5m2V19fj16vZ9u2bUB/fWtvby8HDhyQpQEila3X6+UxdTqd1PgUWSIhXSQcUa1WK0sHXC4Xe/fu5a233pLTBtvb29m8eTNnnXUW9fX1mEwmJk6cyKZNm9iyZYus/S8Wi+zatYtkMinn1YtxowPrSIVeqOgtcDqdzJgxg46ODvbt24fJZMJoNJLJZNizZw8TJkyQ0k/CuRNNZSqVSo6Nhf5opgiqzJo1i5UrV5bov/p8Pr71rW+xZs0anE6nLOFyu90lExA/KRUm6oZFZFalUtHW1obRaGTw4MHU1NTQ1NTEkSNHePnll4H+9UT0OLhcLmw2m/wcBmqfQr+G+OTJk0kmk2zcuJFAIIDFYkGj0eD1egkEArhcLpxOp4yyq1Qq2Y8htGLF9SiNvgr/KhzVUR0oPh2JRLDZbJx11lns3buXefPm8dvf/hav18u3vvUtWltbufjii+np6ZEC0iqVSs5aFtOlenp6ZATgaGg0GmbPns2+ffu488472bBhA2vWrGHBggU888wzsua1WCx+ata03+/HbDZz8sknk0gkePjhh3nxxRfZuXMnDz30EF/72tfk7GUxNUsgdtiiBkiIaXd3d8sJXUo0VUFB4X+Dy+UiHA5TW1tLoVCgrKyM2bNnyybOpqYm1Go1iUSCkSNHYjQa+c1vfsOaNWs4cOAAc+fO5de//jXZbBa73S6zWCKqCv0Np9lsFo/HI2s/xTRBMfikoqKCWCxGb28vhUKBTZs2sXjxYl555RXWrl3L/fffz9KlSzn55JMxGo2kUikWLFiARqNh/vz5vPLKK3z44YfcddddXHzxxezevZtEIkE0GpWpb9EIKyKaQqJQiPSfc845/OUvf+HKK6/k7bff5o033uDaa6/llVde4fLLL6exsZHq6mrS6TQVFRXkcjnpMAIljqrQrZ05cyY9PT3MmzePVatWsX79eh544AF8Ph/HHXec7HMQvy/OD/rXnv/P3nvHSVle/f/v6XWnzzZgqYv0oiIalSgSBWsMFiyJNZaofEXUJBoBiYKxG4lGwN6N5sFCNAVj7yVCUOpSFnZ3ZnZ2er9n5vfHPtflLGrw9/3GRx5zvV8vX7LszH1f9z3Muc91zuecI9Lptf8Jx1Wn09HQ0EAkEiGbzcrU/QknnMCvf/1rHnvsMV5//XUWLVrE7373O8LhMF6v9wuRcY/HI4usJk2axKRJkzjjjDN47LHH+POf/8zzzz/P2WefzcKFCykUCoRCIRKJhJStidG7sVhMSh+y2Wyf55lC8b+Z3TqqotBIGDaAfffdl+uuu45x48bxwx/+kFmzZtG/f3+WLVvGqFGjgN5+coFAgFQqhdVqJZVK4XK5SKfTTJw4kU2bNkmdkNfrJR6PE41GZQPlYDAoC6UGDx7MHXfcwfbt2znhhBNYtmwZe++9N9dffz06nU7qtKDXeAhNj5goMnbsWJYtW8agQYNYuHAhRx99NJ9++ikPPvggp5xyCtCbohk4cKCcpGW1WonH47S1tXHUUUexefNmoHeXKnoAKkdVoVD8K8TAEfFn0ZLp/fffZ9y4cTidTlmsI+wVwAknnMDUqVMpFAqsW7eOYDCI2+3mhhtuAOCMM87g7LPPZsqUKdx6663U19dLeZTJZKJUKsl2TADhcJidO3ey7777Eo/HsdlsUlcaj8dlZkrYtxNPPJG5c+dy66238tOf/pR169bx8MMPc+SRR6JpGhaLhf79+/Pggw9y2GGHccUVV/D973+f9vZ2br/9dqZNm4bBYKBUKtGvXz/pmEUiEVkLIFLz4prHjRvHnXfeycEHH8yVV17JKaecgslkYtmyZUybNg1ARlO9Xq+MJgpHWIxzrdW0jh8/nmXLluFwODjnnHM47bTTKJVK3HXXXUyePFlGKwcPHszq1av7jAgvFotyDKwYeyoiztFoFLPZTCQSYdSoUWzbtg3ojYrOmTOHWbNmcc0113D88cczePBgFi9ezLBhw2hvb5cTsGw2G+VyWWYkRVHdHXfcwTXXXMOzzz7Lj370I+68805++MMfsmTJErmeESNGsGPHDqk3Fs652WzGbrejadrXrgNRKPZ0dJVKpVor9haNkoU4W/TxE0a0doTqjh078Hq9cryq2C3C5ykWocXZvn07LS0tVKtV1q5dy5gxY6QRbWtrkw5uqVQiGo3S2NgoK/xrJ0AJYy8E7YVCQe7IxU69Vj8kECL/2mbZBoNBjswDePPNNznwwAOlwRO8//77TJo0Ceh1aIX2SqSnFArFfya1aWGR2hbaSZFNslqtaJpGoVCQ9rNUKtHW1kZjY6PUhorCUOjN6HR1ddHc3IxOp5MjncXoaZHt2blzJy0tLVJXLxD2VtM02SlAyAy8Xq+MpoqInCh4EkU4ws76/X6i0aic9iQQtjadTsvskrh+oUMVNvTDDz9kn332AaC7u5tAIEA0GkWv10tJWK0GNJ/PS8e2dgLgrt1W0uk0DoejTwFT7Z+BPr2uRQZPBBhqf/f6669z8MEHA5/rSkWf2trphxs3bqS1tVV+9iIzWCwWZVZP9LQVXQecTifhcJh4PM7IkSMpl8u0t7fLin+LxSJrJITTCb1dAIReNpFI0NzcLEeLd3Z2MmDAgD7trkwmE2+++SaTJ09Wfb4V/ysQ/qX4LokCQKGvltmL3Tmq1WpV/p1IeQtjW4umaaTTacrlMiaTSWprcrkcer2eVColdaBiUaJyUq/Xk06npfE0Go2kUikZxQ2FQlQqFRobG2XaRBhGcaG1Fy1ak9jt9j5tW3adJCXai0DvTG5RHBUKhTCZTNJA7dy5k379+sl0ldPp7HNehULxn8nuHFVBqVSSdmvX0cvFYpFSqSTt6q56TviikyUCB6KIRuj1RctAUYjjcDjI5XJ9qsSFrTcYDMRiMdm9RNO0Ps7yrghnTKz/yxwhoeMUm3+xNujV4fr9fumYCfspdKC7TtoS11koFGRVvFh/pVLBZDLJ4ingC/8HZMGWWC98rt2sDYSIgjFARktFxq9YLMreryICLq5T6G9FRBOQUrfaQibxmQiEM7zr/RX3X3Si+aqsXU9PT5+ir9pIujivclQVezpf11H92rlr4aCWSiXZdFpUbopKzy+bhFEqlfoUK4mJVUajUTp8+XweTdNkw/5QKEShUJDNl0XEVCxafOFFIYDf70fTNLZv3y6bK5vNZjmTWnxZS6US8Xiccrksx6YK4yT6o1arVdkXVhgoYVBSqZQ8dywWw+FwKEOgUCj+JbUt/EQRjV6vx2KxyEiocFKFjctkMn3myYtWSoVCQTpcfr8f6I2eDhkyBOi1jW1tbQwfPlxu6kVEV2gxRcV/pVKR/U1FlTz02jaTyYTT6ZQjqg0GA4VCQRazQq/NNJlMZDIZeR4hFatUKqRSKTkSNhaLYbfbsVgssg+saAslorAC8VwRAwxEGy4xtlSMr66N2gp2DUbUbgp2bXNlsVioVqtyUqKIgIr7Cr1RzWAwiNlspru7W3YNcDgcUgta65QKZx96NxXbt2+nX79+sp9rd3e37D4Qi8Xkc8poNEpJhChEE1FR0ZmhVCpJjbG4F+Iz1+v1RKNRPB4P4XAYj8ejnk2K7wy7jajm83kpgt8V4SiKRvq1vdyg12g4HA65m6yNhIrdXqVSIZlM4vF45K5WpIegd3crJAXiC2y1WikUCvT09ODz+aTzKAyoiO7+qxFyQhgvrhmQ7bNEJLWnp4e6ujpphESEAiCZTGI0Gr9W5wKFQvHdZHcRVSFPqh0aIqKhBoOBVCol7U02m+2T2q61l9lslnK5LAukBLVRt1QqJZvzC5su9JzQG+mrVqvSgam1s+JaaouTvirKKa5X0zRZgLQrQjYm2gkKhws+jwaKAivxek3TZD/TXRERaeitxv+qqO+uRCIR7Ha7HIQg1i7S+sFgUH4WoktNbcZMSDfg88yaIJfL9cnUCVlZ7ecsplMJLa2mafT09BAIBPpEYIXuVxQGf9l9F8+j2nGxYmqZy+WSn3/tpkCh2JP5t6X+a5skf9kOtpbaVH4t4steq/0UxlsI0sVuPJ1Oy/nN4otXixDfiy+hmHOt0+nk38ViMbLZLA0NDTJFI/RDwukUKSWRNvF4POh0OqmDqo3ail10Pp+XQwIUCoXi66T+i8WiNLxf1deytqocPs8aiU1+rQMJvU6msNkNDQ0yI+Tz+aTUSqSud6W2vZLQpIrMl2jzJGy/GG8qnGQR9dvVBgpNpuhbKqK24totFgsGg4F4PE5dXd0XZFMiKCKkX+IeirZOIiosoq+iN2uto/1ln03tPauVPAiKxaLsLxuPx2VLLIGYLCV6hYv0unC8RWst+LxwTrTNam9vZ+DAgYRCITk0RqfTSYcT+NJ/D0KHKqKrLpcLk8kkZQwiql4oFAgEArLHqpDXic9nV7mBQrGn8W9zVEWLDvH7XYXrtY6gMCLieKJNlMfjkaNLRRsoIdw3Go2yyEns/MvlMoVCAbvdLqUCYg419EYORKWkmEAFvTtOsXv+Mmp35bVR4tqoRLValTv+WiMiCg6kZuK/tUFqOpVC8Z/L19WoCpsGn2/4hc5SSKmEHUun09LhE86RKAYVdlSke8XrAVlYJDbbQrIkzl2rb621f7tGcneNDIr3iIp64dSKLJl4XtSmmiuVimxHKEilUjLCK9oV6nQ62fN6V3bVsYoBA183i1WtVmXBriieFccVGwKbzSYdPdGLVpxX6GsTiYQscqpUKjLLV7sJENk40ctbfDahUIhgMCg/z9pnjShws9vtfZ5v4v7lcrk+/bojkQhNTU1yQmLtONd8Pi+nJYqxurX6YIViT+TfWkxVOxoVkCkfIfgGvvAa6LujzWQysn+fMJTVapVIJEJ9fT3Q+0UUbalEVLXWUNXqowRipKCIrIqJLEJaIGY3izSaMAbCEIiKW+g1Kg0NDXLnLiK6wqgJx1VclxKrKxT/2ezOUa0t0tE0rU/boF0jfsKZrJ2AJAy3KEoV9kbIoOx2u5RACSdI6F7z+bws/qwtPBJ2OpPJSL2+OGalUpHypnQ6LUdyCudq12iqqDcQo0VFoZGw3T09PdhsNukQfpXsAL5YrCVsu9BrivMKey4a+/+rz6b2s6iVNIjnWu3vROZvy5YtDB48WB5HPBfE+oUDGIlEcLlcX+rUi89NOMhCNtDR0UFzc7O8/lpnXARSzGazfG4JB7q24EtoW0V0tXbTISZZiferFoqKPZmv7ahms9mqxWKRO+a6ujrZpFn9I1coFIqvplqtksvl+rR7crvdhMNhpRFUKBSKf0GhUJAT1jRNIxqN0tDQACA3YgD62iIosXtT84EVCoVi94jqc9EXFHr1jKp1nUKhUOweMWTJaDRKJzWVSvXRihtFWltUcYq2JalUSukvFQqF4l/Q1dUl2w2JoiOhvd+8eTNDhw79tpeoUCgUeyTlcrlPMWI6nZYF7qI9KYCuWq1Wa7VDDodDNsEXB1IoFArFFxHFprVt7UTFdblcVvIphUKh+Aqi0Sj19fXE43FZiAi9enmfzyd7RhvFX4oG1KIS0ePx0NbWxqBBg769q1AoFIo9mI6ODhKJBCNHjpQFMqJYR7QpUigUCsUXEYX0oohftJ3bdSS0cevWrQwaNEi2HOnfvz/9+vUjm80yZswYPv3002/rGhQKhWKPpr6+npaWFt577z0GDRrE1q1bARgxYgRtbW2q57JCoVB8BaLrhtVqxev1Eg6H0TSNKVOm0NXVJV+nq/53/b9o7+T1ekmlUqTTaQwGw1f2JFUoFIr/dJLJJPF4nKFDh0rxf0tLC+vWrcPj8VAqlb7lFSoUCsWeiclkIpFIUK1Wpb2MRqMATJgwQTqrOk3TqgaDQfaKE5qr2v5/CoVCofhqxHhlURywbds2qVlVKBQKxRepnT5aKpVIJBKyv7LooQxfczKVQqFQKL7I151MpVAoFIq+fN2G/0pApVAoFAqFQqHYI1GOqkKhUCgUCoVij0Q5qgqFQqFQKBSKPRLlqCoUCoVCoVAo9kiUo6pQKBQKhUKh2CNRjqpCoVAoFAqFYo9EOaoKhUKhUCgUij2Sr+WoZjKZPv8Xva3S6TSVSoVKpYKmaeRyORKJBIlEQs64FtNaKpUKmUyGSqVCtVqlUCgAkEgk5HnEcVOpFNlsFkD+PxaLydd1d3cDyN6vgnK53Od4lUqFUqlEuVymUCj0mbstzq9QKBTfJNlsto/tgV4bJ+xXJBIBPrevlUpF2j2AUChEOp0GIJfLARCPx4Fe+yrsJkBPTw/FYpFisSjP2dXV1ccuCjRNA3ptYUdHh1xrKBSSrxFr1DSNRCJBLpejVCr1OaemaZTLZarVap/1iOOLsbLi9wDbt2+Xx+/u7iafz/e5Puid+rVjxw55DYJNmzb1WVvtvao9R+09TSaTcj3iXLXvyefzpFKpPpPExD3O5XLk83mq1SqpVApAfh7i2OK1gHwmwufPv3w+L99TrVZJJpNfWGPttWzZsqXP+sQ9rn1ufdlnqlB8F/laDf9TqRROp5NisYjFYmHbtm0EAgEcDgehUIhgMIher5dNrwU9PT0YDAbcbrf8u3K5TCaTQa/Xy8lX2WyWaDSK3+/HbrfL1yaTSVwuV58FCwMgzpPP5ykWi2ia1mcSTC6Xw2AwYDabyWazGI1GzGYzpVKJSCSCw+Hosy6FQqH4/8vuGv4Lp8hqtVIqlcjn81itVkwmkzxGLpcjk8kQCARIJpMUi0UCgYC0yeVyGaPRiE6nkzY4Eolgs9mkXa5UKlitVjRNw2g0ymPXThisVCqsXbuWoUOHYrfb0TSNdevWMWbMmC9ck06no62tjSFDhsjx2mKcdqlUIpPJYLPZyOVy1NXVycEw+XyeTCaDTqeTDbtdLhednZ04nc4+z5FoNIrb7Uan08n3i/fWPgfEsyGRSJDNZmlqapK/E1MULRaLHMcI9HkWVCoVisUisVgMv9+P2WwGegMebrcbTdOwWCzymRKLxdDpdHg8HiKRCMFgsM8zUdM0tmzZwvDhw8lkMrhcLkqlEnq9no6ODgYMGEA8HpdOfUtLi7xv4nNPp9MUi0V8Ph/ZbJZEIkGhUMBoNNK/f3+59kgkQi6Xo76+HqvVSrlcpqenB6vVisPh6PO8VSj+t/Fvbfhvt9tl1DQUCnHvvfdy2223sW3bNhoaGiiXy9LAlstlGcX0+Xy43W7i8TidnZ2k02kMBgMul0sazw8++ID/83/+DytWrJDGKRqNUigUMJvN0lhnMhkWLVrE9ddfTzKZpFqtUq1WsVqt8nipVIrt27fLXbWYDGMymeRoWJPJRHNzM263W+7qFQqF4pugWq3KzX+hUJA2qFAosHr1akKhEDabTdoqu92O3+8HoLOzk23btmE2m9EjH+xLAAAgAElEQVTr9SQSCbnZDgaDOJ1Oenp6pKPX0dHRJ1LX09OD3W6XjpBer2fUqFHSnpdKJcaMGUOlUmHLli2k02m2bdvG+eefz9y5c6WzZ7Va0el0RKNRotEoJpMJj8eD0WjE4/FgMBiIRCLs3LkTAL/fj9frpa6ujrVr1wLQ1NREoVBAp9NhsVgIhULY7XaMRiN6vZ54PE4oFKJcLsvniaZppFIpDAYD+Xwet9uNxWKRUcWHH36YkSNHcvzxx/P73/+erq4ufD4fPp+PSqXC5s2bOe2007j44ouxWq00NTVhNpvZtGkTXV1dBAIBTCYTNpuNTCbDxo0bCYfDeL1ePB4PuVwOvV6PpmnyYXrllVeyePFiRowYgcFgkJ9bsVjs8/Obb77JfffdJ53UbDYrNxQigurz+SgWi9jtdpqamhg0aJAMzCSTSZLJJMFgkJaWFhlwyWazBINB6urq+kSSFYrvMsbdvUDsII1GIw6HA51Ox9atW9HpdAQCASqVCkajsU/ks1wuyy+53W7H4XDg8Xjk73t6eqTHPH78eLZu3YrNZiObzWIymfB6vej1elKpFJVKBbvdTqFQoKenh3K5TD6fl4Ykl8vh8/kIh8M0NzfLubEWi4VSqUQ2m8XlckkDEo/HsdvtmM1mmpub/933U6FQKCQ2mw34PFUs7GRHRwfLli1j48aNPPXUU5TLZaLRKDabDZPJRHt7O0888QQGg4Fzzz1XRhl0Oh2ZTAa3202hUMDn88nskbBnyWSSSqUiHU2dTkcikcDtdtPd3Y3T6aRcLsu16PV6BgwYgNFoxOl0Sqe0rq6OarVKZ2cnHo9HOtDpdBqj0SgdzoaGBoLBoLxmTdPQNA2r1coBBxwgI7OBQIANGzYwYMAAGhoagN7opXAMaxHnEPY8Go1itVrx+Xz09PSwevVq5s2bx5lnnsmwYcM48MADCQaDdHV1US6Xqa+vZ+jQoTQ1NdHT00M2m2Xbtm20tLQwbNgwoDfCKdbqdDppbW0FeiPcOp0Om82GzWYjmUxiNBqx2+2sX7+euro6dDoda9euZdiwYaTTaUKhEEOHDqW5uZmenh7eeOMNVq1axUUXXYTRaMRkMmGxWABwOBwyqFOtVtm5cyfVahWfzyej4larFbPZzM6dO3E6nbjdbrnpyOVycm0KxX8Cu3VUBSJEK74cer1epv6F0UkkEhSLRYLBoEyvAITDYSqVijSMbrdbpnq2bNmC1WplzJgx2O12meaB3l2qSM/7fD5uuummPvKC2nSaz+dDr9fT09NDIpHAYDDI3WwymaRQKMhUSSKRwOVyScOhUCgU3wQipSUiicJ25XI5Pv74Y95//33uv/9+Zs+eLTfTAMFgkPb2dnp6ekin0wwcOFD+zuFwUCqVKBaLctMOyHS8y+WS2shMJoPD4ZC20Ov1YjabqVardHd34/F4ZBasUCjg9Xpl1DKTyaBpGn6/X6adk8kker1eRoWF7c/lchSLRXlssTar1cqQIUPYvn07LS0tDB8+XEaRQ6GQXHu1WiWdTsvoqk6nw+l0Slvu9/tpb2/HYDDg8Xj4y1/+wj777MMll1yCxWLB4XAA0NjYKHWmsViMUChEqVTCbrczcuRIoNdBTSaTmM1m6QhXq1UymYx8xhUKBUKhEFarFbfbTTqdplAoMGjQICk/Gz16NND7LHS73dKB9Pl8LF68GEDK5qA3SFIul/H7/RgMBrZv387gwYNpbGyUz0PoDeSI9/Tr109qYD0eDzabTdaAKEdV8Z/Cbh1Vg8GAXq8nl8tJkbhIPyUSCRoaGmSqXziVhUIBTdOkQXW5XNIgpNNpMpkMdXV1xGIxBg0a1EfA73K5+miESqWS1FyJCGuttrQ2klsqlbBYLAwePBhAGjnxGpFmEetIJBLU19f/P99EhUKh+DJSqRQulwur1YrBYCCTyWCxWPB4PASDQTweD4sWLWL48OHMmDFDFooGAgGi0Sj9+vWjsbER6LWr69evZ9CgQdjtdqmNhF69ZV1dXR/tvtlsllFavV5PJpPBZDKRzWaxWq0EAgHS6TT5fJ5AIIDT6aRQKJDNZvH7/dLhrQ06eL1eoNe2imMVi0XpROVyOSwWi7Sz7e3tDBgwgJaWFqk/Fc5tQ0MDmUyGXC6Hpmm43W5MJhMOh4NYLEYqlZK2Xmhdxc/FYlFGT4UUTJxT6EBFlDKdTpPL5chms3g8HkwmEyaTibq6uj7XJxxsEf2sr6/vU3glfi+0uuVymVAoRHNzM4FAAOh1jguFAi6Xi2q1isVioaOjA7/fL51yce8GDRrUR1Pc1dWF1WqlWq1iNpvJZDLymWWxWOR9Esfp6enpo8VVKL6r7FajKnbGer0eg8GA3W6npaUFi8XCBx98wIQJExg0aBDTpk3j3nvvJR6PY7FYMJvNFAoFXnnlFc455xwaGhoYMmQIc+bMobOzUxYcrF27llKpRDwe57HHHmPmzJkMHjyYk046iU2bNskqy1gsxsKFC7nuuuukYL5YLFIoFJg/fz5Tp04lGAxy+umns3LlSgCpicpkMtxxxx2MHTuWQYMGcfjhh/PQQw8pJ1WhUHyjiCipcCg1TZPOh9Vq5eSTT2b8+PG89NJLdHd343A4ZHRQpPI1TSObzbJixQquueYatm7dKu2i0Wjk+uuv58QTT5SRvrvuuotDDz2UFStWcNtttzFx4kRGjBjB5ZdfTqlU4h//+Afnn38+Ho+HI488khtvvBHotaednZ24XC7S6TR33HEH48ePp7Gxkb322osHHnhAvi4Wi2G327Hb7dx4440MGjSIIUOGcPbZZ/Puu+8CsG3bNvL5PHV1dSxfvpzFixfj9/t5/vnngV6HTcjChF70nXfe4corr+SQQw7B4/Ewa9Ys/vSnP0mN6osvvsjBBx/M8uXLefPNN2lsbORXv/oV4XAYvV5PqVQiHA6Ty+XweDxEo1EaGxt58cUX+dGPfkR9fT2nnXYazz77LLlcDpPJRDKZRKfTYTabeeCBBwgGg5hMJo455hja29vZuHGjTMcHAgGKxSKPPvooRx11FBMmTGDGjBncfPPNdHR04PV6sVqt3HvvvZx88smYzWbpaBYKBR544AFOPPFExo0bx4ABA3j++edpb28HeqPBHo+H119/nXPPPRen08nkyZO59dZb6enpkVpmUbchgj8KxXedr1VMJSrmi8Ui3d3dtLW18cILL/DLX/6SBQsWcNNNNzFq1CjuuecelixZAvTual999VXmzJnDgAED+OMf/8j8+fNZt24d8+fP5x//+AeBQIChQ4diNpt54YUXWLFiBTNnzuTZZ5/F7XYzadIkoFfPZbVaSaVSpFIp7HY78Xgcg8HAbbfdxmuvvcYFF1zAH/7wB/baay9++tOf8tRTT1FfX4/D4eCBBx7g0UcfZebMmTz33HNMnDiRJUuWcOWVV35zd1ahUPzHI5wJ4ViKiv9isUhHRwfNzc2cfvrpvPTSSzz//PPodDr0ej1dXV3kcjmi0SjQW2SVyWRYt26d7LgCvZkhj8cjnVmhW129ejU333wze++9N7Nnz+bHP/4xL7zwAieccALXXHMNo0eP5oknnmD//ffniSee4MEHH0Sn0zFo0CA6Ozt5+eWXefHFF7nqqqt44YUXmDp1KvPnz+euu+7CbDbT0tLCunXrOPTQQ9mxYwf33HMPv/vd78hkMixdupR169YxcOBANm/ejMlkYsGCBXz66adcd911fO9735MR1Hw+TyKRIJPJ8MYbb3D33XfzySefcOaZZ/LRRx9htVq5+uqref311wGYMWMGK1eu5KyzzmLKlCls2LCBX//611LaUK1WpVShp6eHxsZGbr/9dm666Sbmzp3L008/TbFY5LrrruNPf/oTuVwOl8vF22+/zWmnncarr77K0qVLef7552ltbWXGjBl0dXXh8XhIp9Ns2bKFFStWsHLlSmbOnMn9999PQ0MDS5cu5aOPPqJcLsvX9vT0sGXLFhkBvfvuu3nkkUc46KCDpOM+d+5cXnjhBdm94N5772XevHkMHjyY999/n8suu4xXXnmFiy++mDVr1uB0OmU2s7ZzhELxXWa3qX+z2Uw+n6dcLsvdfqlUYty4cSxZsoRhw4YRi8U4+eST+fnPf85bb70ltUeffPIJs2bN4sILL8Tv93PggQcyZMgQTjzxRE4//XQmTJhAJBKhUqkwadIkbrzxRhlF8Pl8FAoFFi5cyKJFi/pUxgpZwMsvv8xvf/tbVq5cydixYzEajYwfPx6LxcKjjz7K1KlTKRaL/PWvf2XWrFmcdtppNDQ0MG7cOJqamnj22WfZvn07Pp9PaoJEG5JavZhCoVD831Iul2WxkcVike2ZRDp35syZdHZ2csstt3DwwQczbNgwGhsb0TRNakyF9KqxsZF0Ok19fT2apmG326W8SqSsK5UKAwcO5IorrmDGjBlST9rd3c3LL7/MsmXL2GuvvXC73Rx44IGYTCZefPFFjj/+eNlOsKGhgYcffhiLxYLL5WLIkCHs3LmTN998kwsuuAC9Xs+KFStwOp3ccccdUhIwYMAAzj//fN5++20GDBhAfX09sViMu+66i2OPPRaz2Syr46vVqjxfJpPhj3/8I5qmcf/999Pc3EwqleKee+7hF7/4Bb/73e8YOnQoQ4cOxeVyYTab0el0sqWh0WikWq1iMplk1NHhcBAOh5kwYQIrV66UDuPEiRO54YYbWL58OdOmTZNFTSaTiYsuuoiRI0fi8/mYPHky27dv54EHHmD//feXm4jRo0ezcOFChg0bRi6X46ijjuLMM8/k0Ucf5bDDDqNUKmE2m3E4HLhcLlKpFJ2dnSxfvpzrr7+eQw45pE9h26JFi5gyZQqjRo3ixRdf5JhjjuHCCy/E5/MxdOhQgsEgV199NVu2bJGtxRSK/yS+VkTVarVK7VO5XJb6nZaWFvL5PF6vl3Q6TXNzc59WLD/72c+45JJL8Pv9srrRarVy0EEHUSwW2bFjBy0tLWiaRv/+/Wlubqa7u5tyuczYsWPZZ5996OjokGJ/0fg4FosRj8d5//33Ofroo7FYLNJQ2e129t9/fzRNo7u7m0AggNvt5uOPP5aNtYvFImeddRZ/+9vfZKWlOLYofhDXqlAoFN8UVquVfD7PD3/4Q0aOHMlVV11FOp2WfTkHDhxIPB6XhVKhUAiz2YzRaKRSqci+1LFYTBaSappGfX0948aNk06hxWLB6XTi9Xpxu91SZyka2dtsNllsajKZpCNoMBhob2/H5/Nx1VVX8c477/Duu+/S09PDyy+/zIQJE/B6vVJ2MGbMGMaOHcubb76Jw+GQTfYdDoc8Z62dFVHB7u5u3n77bUaPHi2DBg6HA5PJxMyZM/nHP/4hh75s2LABv9//tfSZTqeTvfbai0KhILWqLpeL8ePHEwqF5DCFSZMmcffdd3PggQfKtlFOp5OWlhapaRXrGTx4MMOGDSMej8s1HXLIIaxfv56dO3eSSqXo6enBbDaTSqWoq6vj448/xu12M2HCBNmHNRAIEAgEWLNmDQaDgWKxyAEHHMBbb70lO+N4vV6OOOIIPvvsM4499li54bBarfJ5plB819mtoxqLxYjFYuTzeSqVitSpOp1OWVQFvZX8o0eP5o033uD9998nn8/jcDj4+OOPOeGEE2hqamLIkCGcdtppPPPMM3z22Wf079+fnTt3EggE5C7R6XTKfn0jR45k3bp1UnAvdqlGoxGj0Uh7ezvLli3jqKOOks70gAEDOOaYY3jrrbekGP24444jFosxa9YsjjzySJ555hnsdjvbtm3D6XRKJ3dXx7R2SolCoVD8u7FarRQKBfbaay+OOOII3njjDZ599lkKhQJ1dXWyEt3tduNwOMjn82iaJh0hYRN9Ph+NjY24XC40TZNFUrVZKJvNhtvtlhHJarWK1+vFbrfLgtlsNovNZmPEiBFSYjBgwACg1x62tbXhdDpJp9OEw2EWLVqEw+GQDrHP52PFihX09PQQiUSko+p0OvsEO0Qj73A4TCaTIRgMkslkmDx5MlarlXA4TD6fJ5lMUldXh9frlVOqhg8fzrZt2/pUyn8VmqYRCAQwm804nU75nGhsbKSjo0MWoZlMJrq7u7nyyisZMmQIFosFm83G7bffDvQWOn300Ue0trbK55rH45EZwFGjRvHxxx/LaLfVasXj8cieqa+88gpvvfUWkyZNYuDAgey1117odDpmzpwJINsvzp07l1KpxPe//30OOOAAbrjhBsLhMNVqlU8++QSv10sgECAej39hGI5C8V1lt6l/kdIRDfYLhQLFYlG2+HC5XLKAym63k06naWpqIhAIcOutt/LUU0/x4x//mOXLl1OpVFizZg3XXHMNPp+Pzs5OeY54PC5bU1mtVqLRqDSc5XKZYrEop6OItFmlUpHaqY0bN9La2kpTUxNvv/0248ePZ/z48UCvrklIFF599VVmz57NggULmD9/vuwfKNI6tXwdQ6hQKBT/L4iq76lTp7Jhwwbuv/9+hg4dik6nkxG5crlMNpuVEdFQKITP5yMSidDV1UU8HqdUKmG1WmUzfxG5FMNahKxJpMc1TZMRVTE0RQQFwuEwiUQCu92OyWSiq6uLjRs3yoBCKBQil8sxd+5cpk6dSlNTEwaDgQ8//JCWlhb69+8v+6bq9XppW4WdFR1khIRBdGHp7OzEbDbL5v4Gg0H2hBXPAeFkh8Ph3d7brq4uHA4HXq+XbDZLPB6nubmZYrFINBqVUxJXrVrFtddey7hx4/jzn//MwIEDCYfDXHnllSSTSRobG2lsbGTZsmUYDAYmTpxIoVDAYrGQSqVkZFVk/jKZDIlEQk6ZGj9+PEcffTRHHHEEY8aMwWKxsGXLFpxOJ9VqldbWVnmPXnrpJdauXcsnn3zCbbfdxuOPP855553HRRddBCDH3e7ae1ah+K7ytfuoappGoVCQTfx1Op2cjiEa6IdCIVpbWwkEAuj1ep588klOOukkjj/+eGls9Xo9yWSSsWPH0tTUxLZt29i+fTv77bcfJpOJrVu30tDQgM/no729nZEjR8p+caI3YKFQkMa1sbGRKVOmMHnyZJLJJF6vF5/Ph9/vZ/v27eTzeYYPH864cePYsGED8+bNY968eZxzzjncfffdHHroobKZspAt7JqWUigUim8CMYIznU4zYMAALrzwQi666CJuv/12UqkUI0aMIJVKyYlNotfoyJEj5YQq0bda9FbV6/XYbDbsdrt09ES3gdqskV6vx2w2y98VCgVyuRx2u51gMCgjraLoa+jQoUyePJlsNkt9fT0NDQ00NDQwffp0QqEQ1WqVk046qU9/T6FFFZFVYVfFUBgRNY7H44wYMYK2tjagV8sr9LmlUolNmzYxbNgwDAYDXV1djB8/nldffXW393fy5Mm89dZbcrCAcLQ3bNjAIYccwvjx44lGo2zatIlAIMC8efPw+/3EYjE8Hg+jRo1iw4YNcmRtKpVC0zTZChGQPVEPP/xw2XrLaDTKoTbJZJJsNsuOHTs4/vjj6devH+FwmP32208GQwqFAoVCQbZ8nDRpEmPHjuW8887j5ptvZt68eQQCAQ477LA+3SBqx+UqFN9Vdpv67+7uluNIhTYqnU6zZs0aVq5cSSqVwmw2s2PHDp588kn23Xdf2Xh/yJAhFAoFAoEABoNBGsWOjg42b97MmjVr8Pl8eL1eOjs76ezspLm5GZvNxvr16/nss8849NBDpQZVGDu73Y7NZmPKlCm88sor/OY3v8FisRAMBjEajeTzedasWUNDQ4NM7S9ZsoThw4fLViDnn38+mUxGptIA2ZhbpKUUCoXim0Q0xRcb5Pr6en7605/y/PPP88EHH2Cz2ejo6JBOU3t7u2zvVKlUaGtrIxaLyc4sZrNZjjwVaWcR0RS2Tc7P/m9HFZB1AGLaXygU4v3335cTr8LhMPfeey8jRoxgzJgxDB48mBkzZvD+++/z0UcfSekBwDvvvMPWrVvZsmULQJ/zViqVPlFVMdrV4/Ewffp0/vnPf/LOO++QTqepVqt89tln/P73v5e6UKHljEajX0ujun79epLJJIlEgs2bNxOPx4HeHqSlUon6+no5/ECMgNU0DbPZjM1m46233pJpdqfTid1uZ+fOnWzatEnqcjs7O1m1ahWtra1SEicc1mw2i9Fo5KCDDiKRSHDnnXcSjUapr6+XTurNN9+Mpmm4XC5OOukkjj32WBkQSiQSTJkyhf79++NyuWS/1o6Oji9kABWK7yq73Y6Jmc6CQqFAJBLh3Xff5ZlnnqGxsZHXXnuNJ554gi1btsieeolEggkTJvCLX/wCi8XC8OHDefbZZ3nnnXeIRCI0NTUxduxYOjs7aW9v55133kGv13PqqafS09PDCy+8wGuvvcbcuXOlhlQYBiHKnzJlCt/73vd47rnn+lTtr1+/Hr/fz1VXXUV9fT2nnHIKTz31FNVqlQMOOICVK1fy9NNPy9nKYmdcqVRkJSrQp7BKoVAo/t0IZ0PYWL1ez/Tp05kxYwZ/+ctfCIfDMsU7fPhw2R/V6XRSqVR4/fXXee+992TrPiFjEsVQAqPRKOfV10ZVRcP+uro6nE4nmqYRiUR47rnniMfjnH/++bjdbv72t7/x17/+lV//+teyC8G0adN44IEHuOyyy7jiiitwu93cfffd9PT08Ktf/YoDDzyQ9vZ2jEajdJ7FhEMR9RWOciqVYuTIkbz66qvcd999HHTQQQwZMoRVq1axfv16rrnmGtmSq6WlhY6Ojq+V8QoGgzz88MPMnz+fU045hW3btnHbbbexYcMGbr75Zjo7O2lqamLvvfdmyZIlXH311Zx88sls27aNRYsWsWPHDi655BLy+Tzt7e00NDTwX//1X8yePZuZM2fidrv55z//SSgUYuLEidLZT6fTJJNJ2Zlhv/3248ILL+TRRx/FaDRyzDHHsG7dOv7+97/LCG65XOaQQw7hj3/8IzfccAP77bcfer2eefPmodfrOeCAAwCIRCI0NDQoR1XxH8NuHVUxxaRYLMoxqKNHj8Zms3Hqqady7rnnEolEGDZsGJdffjn7778/1WoVt9vN6aefjsfjYfHixeTzec4880yWLFnCggULeO2115g4cSKVSoXhw4dz2GGHMXbsWC666CLWrVvHhRdeyOOPP87ee+8tq1uLxaKcbCVE64888gj33XcfTz31FB999BEHHngg++yzD2eccYZ0aO+44w5WrFjBfffdx+zZs2lubmbhwoXMmDFDjmsV6bHaL79oI6NQKBTfBEJTWiwWpSMm+nyuXr2aYrFIQ0ODrOafN28e1157LXPmzKGuro5LL71URgRFtXqhUAB6nVMxaQmQQ1aEfhWQ6f1QKCQdq3HjxmGxWPjRj37E0qVLWblyJVOmTJEt/6A3IDBp0iTefvtt5s6dy9VXX81nn33GGWecwU9+8hM5TEWkp2unOYmUuNlsJpvNYjKZqFarTJ8+naamJu655x5uv/121q1bx0knncTs2bOZPn26PF4ikZCdBXZHd3c3ixcvJhgM8stf/pL29nZGjRrFvHnzOOaYY4DegMThhx/O448/zty5c1m+fDnHHXccDz30EM899xzvvvsumqYxbNgwOjo6mDJlCueddx533XUXq1atYsyYMVx44YVS9hAKheR4WeGId3R0cMUVV9CvXz9++9vf8vvf/x6/38+JJ57IpZdeitvtplqtsmDBAvbdd19uuukmrr/+enQ6HVdffTXnnXeefEYFg0HK5XKfceIKxXcZXaVSqdZOuxA6Tb1eL3e/CoVCofgiIo0unAYhHxIpboVCoVB8OcLHFNnrUqmEyWSSm1kpU/qW16lQKBQKhUKhUHwpylFVKBQKhUKhUOyRKEdVoVAoFAqFQrFHohxVhUKhUCgUCsUeiXJUFQqFQqFQKBR7JMpRVSgUCoVCoVDskShHVaFQKBQKhUKxR6IX859Fzz+bzUapVKJSqageqgqFQvEvyGQysv8fQDgcxuv1otPpyOfz3/LqFAqFYs+lWq2STCblkJJCoUC1WsVoNMqJfAA6TdOqYuqT0+nsM5dZNF1VKBQKxZeTTCapVCrSsArHtXb0tEKhUCj6kkgkcLvd8ud0Oo3ZbCaTyeDz+WTDf6PBYMBgMGA0GkmlUgQCATkuVaFQKBRfjclkwm63YzQaicfjdHd3c8ghh9DV1UVdXR12u/3bXqJCoVDskbjdbkqlEh0dHXi9Xlwul/Q9BwwYIF+nq1QqVRER8Hq9mEwmmcaqnROtUCgUir4kEglMJhMOh0OO/xNZKTVGVaFQKL6a7du3M3DgQAByuRxWqxWdTkc4HKahoeHziGo+n5derdvtRtO0PnrVXC73rV2EQqFQ7Mk0NzeTy+WIxWLSQQUYOnQobW1t3/LqFAqFYs+lX79+7Ny5E4BgMIjJZKKjo4MJEyb0eZ2uWq1WOzo6aGpqQqfTodfrKZVKGAwGMpkMFovl21i/QqFQ7PHE43GKxSKZTIbW1lagV6OaSqVwOp1omvYtr1ChUCj2TDo7O2WKPxKJoNPpCAQCVCoV3G43qVQKACOA1WolkUjg8XioVquy2j+Xy+FwOL6lS1AoFIo9G5fLhdlslj/v3LmT5uZmEokEFotFSacUCoXiKxBOajqdRqfT4XQ6gd7Nfjqdlq/TpdPpqsPhoFAoYDQaCQaD9PT0EIlECAaDMpWlUCgUir4ImVS5XCYSidDY2CglAJlMRhVTKRQKxVdQLpeJxWI4nU5sNhv5fJ58Po/JZKJfv37E43Hgv4updDod5XIZAKPRSLlcRq/XUy6XVS9VhUKh+ArERr5SqaDX69HpdOh0OlVIpVAoFLtB+JjValW29TOZTLI1qrCvajKVQqFQKBQKhWKPRDmqCoVCoVAoFIo9EuWoKhQKhUKhUCj2SJSjqlAoFAqFQqHYI1GOqkKhUCgUCoVij0Q5qgqFQpaTe0EAACAASURBVKFQKBSKPRLlqCoUCoVCoVAo9kh266iKPlbZbBZAjgSMRCIUi0X5Ok3TqFarskFrZ2cnQJ/pAvl8HoCuri6KxSKFQoFCoSDfn8/nKZVK8rXiz52dnRSLRbmWXC4HQCaTYeHChRx++OGEQiF5HrGu2vUpFArFt4WmaXKmtSAajQK9PViht6dgoVCgp6cHgGQySSwWY9u2bSxdupSrrrpKvjcej0vbGYvFZB9sTdNIp9NUq1USiQTJZBKAnp4eYrGYPO/xxx/PRRddRD6fJ5FISFtbKpWkna21weFwGEDa7EwmI8cbrl27lkwmw6WXXorFYuEHP/gB7e3t8ngCYaPF34nrrFar9PT0UKlU5HMmEokAn9v62uNkMhn5O3Hv8vk8hUIBTdPkMyqdTsvrF88ecZxYLMaFF17I7NmzKZVK8lmRz+fJ5XJ9nk1i3ZVKhVQqJdcWi8VIJpNyPYlEgkQiIe+X+Dyh91kk1iDuo1hjtVqlWq3Ka6l9lon1176nq6urz+ezfPlyxo8fz+rVq6ml9j6Ew2EKhQJz5syhubmZI444glAoJO/Htm3b5Ps6Ojrk+xKJhPwZIJVKkc/n5TUrFP8TGHf3AtG0OhqNUigU0Ov1uN1ugsEg0PtlNZvNZDIZ6uvrcbvdAHJQgNPppLu7m0AgQHd3NwD9+/cnnU7LcVmZTAaTyUSxWMRqtcrzmkwmotGonPaSTqcpFovU1dUBqKlZCoVijyabzWKxWDAajTQ0NAC9DtrGjRt58sknCQaDHHnkkYwfPx6DwUAikcBsNnPUUUfRr18/li5ditlsJhqNsn79ejo7OwkEAmQyGTweD9FoFLfbLe1tJBLBbrej0+lwu93SWfH5fJTLZRKJBCaTiX333ZfNmzdTLpflkIJqtYqmaRiNvY8Fi8WCTqejUCjIQEGhUMDlcmGxWOQ1jhw5kltvvZUVK1bwyCOP0L9/fxwOB6FQiIaGBtrb23E6nfL6t27dSv/+/fH5fPI1LpcLnU6HXq+nVCrh9/splUrYbDag1zG3WCzY7Xb5jBCNwguFgvy72oCGeL5omkY2myWdTmM0GnE6nXi9XsxmM/l8nkqlIu+fGIer1/fGcEqlEg0NDWSzWUqlkrynGzdupLW1Feh11IcMGYLb7ZYBGIPBIP/r6enB5/ORSCSwWq3kcjmsVivJZFIOhigWi0SjUUwmk7xP4XCY+vp6du7cSblcxu/3Y7FY8Pl85HI58vk8dXV1OJ1OfD4fFouFXC5HsVjEZrNRrVZJJpO4XC6cTiezZs3igw8+4KqrrmLYsGF4PB452GfgwIFEIhH0ej3Nzc1UKhVsNhsGgwG3200ul6OtrY3W1lbMZjPJZJJcLic/H4Xim2S3EdVPP/0U6J3J6vV6MRgMlEol4vE4xWIRs9mMw+Ggvr4eTdNIJBJUq1Xq6+vlMRwOhzRO/fr1o7OzE6fTSTweJ5lMSuPscrmoVCpEo1G5w/b7/WzcuJFkMoler8fn86HX6+nq6pKGSKFQKPZE7Ha7jHaKiJler8disbB69Wr8fr+cd53JZKhUKpxzzjkMGDCAU089lWg0Sjwe52c/+xl33303gUAAvV5Pv379SKfT+P1+OU0QIBAI4HA4iEajbN++HYPBQHd3N5qmSccpnU4Ti8WoVqvYbDacTqd0TovFooyyFYtFKpUKmqbRv39/dDod8Xicrq4uGQ3dsWMHGzZs4A9/+APXXnsthxxyCAcccABer5eGhgY0TaOpqQmv10sulyMej9Pa2orNZqO7u1s6ZV1dXcTjcaxWKyaTCb1eT7FYJJfLsXHjRoLBIA6Hg3Q6jcFgYPXq1fK6LRYLbW1tQK+juWHDBoxGo8zSFQoFfD4ffr8fj8dDqVSiVCoRDodlJlA4pl8W/AiHw+RyOfR6PalUCq/XS2trK+FwmFQqxejRozGbzXR2dmI2m7FYLDKyCkgnuq6ujj/96U+0tLSwatUqXC4XHo+HdDpNuVymqakJs9lMOp0mFApRX19PNBqlubmZlpYWGSUXGUmv10upVCKdTpPNZrFardhsNtxutzyOz+ejs7OT9evX093dzaWXXsrFF1/M9OnT5b9HEbU1m83yPiQSCQwGAxs3bgTAZrNJ517TNGKxmHJSFf9j7NZRHTVqFNCbfg+HwzidTkwmE0ajEb1eT6VSoVgssmPHDoxGIx6Ph0qlQnd3N+3t7WQyGYxGI/3796dcLlMsFmlqagJ6d+wulwubzUZHRwexWAyr1UpdXR1NTU0yHdPa2orL5SIcDhOJRDAYDPj9fhVRVSgU/ysQDl8mk6Guro7Ro0fjcrnYsWMHJpOJdDpNoVBg4cKFbN26lWOPPZZDDjkEv9+P3+/H7XZTX19PPp/vI22qVqvkcjmZjha22e/309LSQqVSIRAIoGka3d3dOJ1OmpubCYfDOBwOCoWCdFhEdE9EFUulEnq9np07d0rHy+Vy0djYiM/nA3qzY0ajke3bt1NfXy8zcJ9++in5fB6j0cjOnTspFArYbLY+ciwRAQyHw/Tv3x+v1wvAhg0b6O7uplqtYjKZaG1tJR6PYzAYMJvNRCIRxo0bh16vx2AwEIvFGDJkCOFwmHg8ztixY0kkEhQKBRmFLZVK6HQ6EokEqVSKVCol1ysis4CUD4josslkIhgM4vf7cTgc1NXV0dbWxtatW6mvr8doNEq5QiAQIBKJUC6XGTJkCMlkkmKxKKPa2WxWOnybN2/uIykQjnk+n8fpdBIMBonH4xiNRjmS1+l04na7aWlpweFw0NnZic1mQ6/XE4vF2LRpk9xEZLNZdDodXV1deL1eotEoDQ0NmM1mNm3aJK/VYDDg9XrRNA23243X6yWZTOL1eqlWq7S2trJ+/XoAmpubgV5JQEtLi9wcKRTfNLt1VIWBampqor6+ng0bNvCrX/2Kq6++mldeeYWTTjqJkSNHcuKJJ/L000/T09PDvffey0knncTUqVM5++yz2bBhA6FQSKbBUqkUH3zwAfPnz0en03HCCSdw3333SQ2X0G51dHRw44030trais/n4/LLL+fDDz8E+u78FQqFYk9E2Ci9Xo/dbsdgMFAul2VWyGq1yjnXN9xwA+vWrePOO+9k2rRpAHR3d1MoFJg7dy4/+clPSCQSRCIRLr30Uq6//noee+wx5syZw7777svUqVO55ZZb5Lk7Ozvp7u5mw4YNzJ8/n2AwSEtLCw899BD5fF5qYEVEr1wuy+gf9EoUHn74YWbPns3IkSOZOHEijz/+uHS8PvzwQ+bPn89hhx1GV1cXM2fOZODAgcyZM4fRo0fLNPfAgQOxWCw8+uijTJgwgZ///OdcccUVTJw4kVGjRnH55ZcTiUR49dVXOffcc5k2bRrHHXccixcvRqfT0dnZKZ3Hjo4OPv74Y/bZZx+MRiNnnnkmb7zxBsVikUAggMvlolQq8d5773HllVficDg44IADOPfcc/nnP/8pHX7hFIoIothICOdYSCFyuRyPP/4455xzDgaDgZEjR7Jq1SrcbjfhcBibzUYoFOInP/kJCxYs4PXXX2f//ffHYDBwxhlnsHXrVorFIl1dXUydOpWpU6eyceNGFixYwIIFCwCkQ79mzRoWLVqE0+lk1KhRLFq0SEosRM3HZ599xqmnnsqUKVM48MADuffee1m3bh3Nzc2MGTOGQCBAtVrFbrfj8/lobGzknnvuYfr06Tz22GPMnTuXadOmMX/+fDweD/F4nM7OTq677jp8Ph91dXUsXLiQdevW0d7eTiKRYK+99mL58uWMHj2au+66iyuuuILDDjtMOrwKxTfNbh1Vt9tNMpmUwvnBgwfT1tbGQw89xC233MLFF1/Meeedx+DBg7ngggs44YQT6Ojo4NRTT+Wmm24ilUoxffp0XC6XFMaHw2FOPvlkKpUKr7/+OhdccAEfffQRv/nNb0gmkwQCAXbu3Mkll1zCe++9x+LFi3n66acZOHAg11xzDU888QQOh0PuZBUKhWJPpFKpYDab+2R/8vm8/Fmv16PT6XjmmWdYunQpxx13HA6HA7PZLLX9VquVaDSKw+Ggf//+tLS00NHRwQsvvMDLL7/M/vvvz7XXXsvYsWNZunQpTz75JNVqlaamJkqlElOnTuXdd99l1apV3HPPPXz00Uc8//zz+P1+nE6n1CKK6CJAe3s7f/nLX7jqqqs48sgjeeSRRzjyyCN57rnnOOOMM9i8eTP77LMPp5xyCkuXLuWII47gggsuIJPJcNttt9HW1kY0GsVms9HW1kY6nWbUqFFks1nWr19PIBDgvvvu42c/+xnr16/nBz/4AYsWLWL8+PE89thjTJ8+nSVLljB79myampoIBALodDpuv/12FixYwGWXXca7776Ly+Xiqquu4q233qJSqZBIJPjDH/7Aueeei8lk4qmnnmLOnDnk83kefPBB1qxZA/RGnuvq6mQhk4gOms1mGRXO5XL85je/4ayzzmLw4MF89NFHnHnmmSxfvpwlS5bgdDrZsmULer2eQqHAgw8+yLPPPsv111/PW2+9RWdnJz/4wQ+Ix+M0Njby1FNPccstt9Da2sqSJUu47LLLSKfTBINBXnrpJRYvXkxjYyNLly7l5ptvJhwOc8YZZ7Bu3Tr69esHwLJly9ixYwcnnngi99xzDytXruTvf/87a9euJR6Po9frqVarRKNRGWU/66yzWLlyJd///ve57rrr2Lp1K+effz6RSIRMJsOMGTPYtGkTjz76KE8++STt7e0ceeSRUjNbLpdpbm5mx44dLF++nFwux+mnn47D4fif+RIp/uPZbTGV0DGZTCag98tbrVY5+uijufHGG3E4HBx11FFUKhUOPvhgHA4HZ5xxBoMHD6ZSqTBixAhmzpzJn//8Z4466ijS6TTXX389Rx11FPPnz6euro5isYher+fOO+/kww8/ZPTo0axduxaHwyF33jqdjr322ouuri5Wr17NrFmz8Hg83/gNUigUiv9bRETs/2PvzMPkrKr8/6l976rqpbo73elO0kk6i4kkkJBANsGYRQEBUVQMqCg6LtER9YcYBkUBZRABHbcoOgwCIiIim6Kyy5IAiYTsnfSS7urqqq693lrf+/uj5166AYcMAwbhfp4nTyqVt96t6j333HPP+R5ZSONwOFTBUkNDAwcPHiSRSPCzn/2MSy+9lHPOOUdFNRsbG4GxaJrNZsPlcrFjxw4ikQhNTU3U1dVxzjnnsHz5cgB2797N9u3byWazxONx7HY7P/jBD5g/fz6XXHIJRx99NIVCgfnz5xONRunv76eurk6dq3TQyuUyzzzzDLfddhv/+q//ymc+8xksFgvz58/n8ccf55prruGJJ54gEokwa9YsnE4n/f39fPrTnyaZTBIOhwkGg6ogqr29XRXcptNp1q5dyymnnKI+XyqVuO6663jf+97HmjVrmDlzJkuXLgXGIog9PT1MmTKFO+64Q0X/WlpamDRpEt///ve58MILufzyy/nRj35EQ0MDjz76KJ/61Kf4whe+gM1mwzRN+vr6uOWWW9iwYQMwVog1ODiI1+udMGmQEdZcLseBAwd48skn+clPfsLq1atpbW1lwYIFtLe3c+GFFzJjxgzOPPNM8vk8w8PDrF69mu9+97vK4f/1r3/Naaedxp/+9CeGhoZYvnw5q1at4gtf+AKLFy+mqakJt9vN6Ogov/nNb5g2bRrvf//7sVgseDwe6uvr+fjHP8727duZNWsWmzdvVo7wu9/9bqxWK6tXr+Y///M/ueKKK0in0yrVYzxut5uuri61CpnNZlUKwvnnn89RRx3Fpk2b6OzsxG63s2DBAs4//3yuuuoqvv/97yvH12q1snHjRs444wyVtqHR/CN42YiqxWJRyeemaeJ2u2loaKCpqYlQKERdXR2JRILh4WGsViszZ85kypQpVKtVTNNURlU6oz09PezYsYOTTz4ZGJO7cDqdnH766VSrVfbv309TUxNLly7l5ptvZuHChdjtdgzDoLGxEZvNRjQaJZvNTpDu0Gg0mtcbcpm8Wq3idDqx2WxYrVYKhQKjo6McOnSID37wgxw6dIjHH3+cVCqlonuFQoF8Pk9HRwehUEjl+ofDYex2O0uWLGH58uVKtqijo4OmpiYlreTz+fjrX//K29/+do4++mjK5TIWi4W2tjb8fj+tra1q21KpRKVSUZHVVCrFgQMH+OAHP4jFYmHv3r00Njbyzne+k3w+z759+6jVasRiMRwOBzabjZGREcLhsCrySiaTOBwOlf4go8sLFiygtbUVm81GJBJh+vTpmKbJWWedxcyZM+np6cFmszF9+nRV2V6tVtm3bx/ZbJZjjz2WOXPmKPWXrq4uYEzxwO/389WvfpUvfelL2Gw2VYQ7a9YsnnnmGVUIHAqFcLvdyjmXmKaJaZpEo1H27dtHLBbjhBNOUHUVu3bt4oMf/CDLly9ny5YtGIbB0NAQwWCQBQsW4PP5yOfz+Hw+2traOPXUU7npppvUZKKnp4dQKMTOnTtVbnK1WuW5556jo6ODzs5O9T12d3czd+5c9u3bp6Qfg8Egp59+Om63m1KpRK1WU/dVRsYlUl7K6/WSTCYpFArMmjWLfD5POBxm9+7dPPTQQ6xcuZJJkyap311raytr167lr3/9K/v27cNqteJwOGhoaGDFihV4vV7S6bQuZtb8wzgswX9ZFWm1WpX8xXjtN1mxLx/mWq2G3W6nUqlQLBYJhUIkk0lcLhepVIodO3awevVq6urqqKurY9asWVgsFh555BFlqGUO1wUXXMDkyZPp7OzE7XZz55134vf7MU1TRSfkOcr0BCk7IosCNBqN5kggI3TytWmaeL1ecrkcDoeDvr4+3vve97Jlyxa2bNnCLbfcgsPhYGBgAK/XqyQBYUzWKRgMUiwWVXGRzPsfHR1VRS7ZbJZgMMjevXsZHh6mra2N0dFRJfeUTCaxWq1Uq1VcLpcqOkokEqqAaP/+/bS2tiod7BkzZlAsFonH43zgAx/gz3/+s8qFlIW1MsompQbD4bCSORJCYLfblbNsGAa1Wo1iscjIyAiTJ0+mWq0yMjLCtGnTyOfzWCwWlQqWSqX44x//SG9vL36/X0l+WSwWvvCFL3DgwAGmTZumHPTf/va3rF+/nmAwSGNjIx/96EdVcVgoFKK3txePx6NkoqrVqpLGKhaLTJ8+naeffprOzk58Pp/SS501axa1Wo0ZM2awY8cOldsbi8VIp9PY7XZaW1tVvuvs2bPZt28fBw4cIJ/P09bWhhBCTQpcLhe9vb1s2bJFRa4tFguNjY00NjZy5513Uq1WMQyDXbt28Y53vIN8Ps9DDz1EIBCYMCZHIpEJGqwwNhYWCgXK5TKhUIh0Ok1dXR2ZTEYVXBWLRTweDy6XS33f06dPx+VyEY1GyefzCCFoamrCMAxyuRymaepiKs0/jJdd+gfUzLNSqahIqdSl83q9+P1+EonEi5xDWc0fDAbV7GtkZATDMPjlL3/JvHnzME2TvXv3Mm3aNHw+HyMjIypp/tRTT+Wd73wn9957L01NTXg8Hj796U/z7LPPqoe0vr5eKQdIuQy5tCaLFDQajeZIIJ3MF+bzNTU10djYyMqVK9m4cSPZbJZLL72Uz372s0yaNIkzzjgD0zQJBoOkUikKhYJapi8Wi/h8PuVkyMIZGIvCZrNZ3G437e3tlMtl7HY79fX1E5Z93W43yWRSyVQBKg8UoLm5GYfDwbRp0xgdHaVYLDJp0iTcbjd9fX34fD5VpT80NEQymaRarU6QLJJ2uFqtYrFYCIfDKo1MOrdut1ulDhiGwdSpU9X9isfjDA4OksvliEQiHHXUUaRSKW688Ube8pa3KF1Ym81Gf38/gUCAXC7H+eefj2EYvPe97+XGG2+kWCxy9913s3HjRlUc3NbWRktLC4lEgkAgoFLbxuvDhkIhJXYv7/2OHTuYM2cOkUiEhoYGSqUS3d3drFq1Si3jj9cHl4VR43XE5TnLYEuhUKBarfK9732PdevWceDAAfbt28eaNWvYv38/DQ0NqsHD0NAQoVCIhQsXYhgGiUSCJUuWcPHFF3Po0CEWLlwIoPRpJX6/Xwn8e71eYEyxwWq10tDQwKFDh2hra8Pr9ZLNZlVand1ux+FwKFkqOZa/MHqr0byWvKyjKvXZZFWk2+1WgtJSxFhW8pumSTgcVjNlKSOVTqeVLMmqVat461vfSjqdJhwO09bWRldXl5LZmDlzJiMjIzz00EP4/X7OP/98mpqa2L17N1OmTCEYDLJw4UKsViv79+8nGo0Sj8eJx+M4nU5KpRIWi0U9jBqNRnMkGa/TeejQIRobG0mn0/T19bFixQqy2SzlcplTTjmFbdu28R//8R/MnDmT5uZmWlpaVOeoQCCAaZpUKhUcDgfFYhG3200ul1O2r1Ao0NTUpKKWra2t9PT0KAmqdDpNIBDAbrer7aRz5na7KRaLarm9r6+P7du3M3fuXOrr60mlUsRiMYaGhli0aBHRaFSJ4UvBfpkHKRsJBAIBarUao6OjKkghVV0sFguxWAy3201bWxuBQIBMJkMikaC1tZX29naWLVtGNptVTpLdbufMM8+kXC6zfft2li5dqpzMarVKNpvlwIEDrF+/nnPOOQdANaip1WoTnMi7776bKVOmUCwWlXSi3+9X519XV8eUKVNIJBJks1k6OjqYO3cumUyGG264gXe+852Ew2G2bNnC/fffz+LFi9WEAcaimddee606rlxpdDgcuFwutXJos9lYvHgxNpsNr9fLiSeeyIknnkhvby/HHXecikgfe+yx3HrrrQwODjJp0iQymQzt7e388Y9/ZObMmaphhJzcNDc3q8i01+sllUqpQFI+n1cas7Kzmfz9SEmxbDarivlM01SOrtT7tdvtWktV8w/hsFqoyjwYKRgtjZndbld5q/IBkMsycklodHSUgwcPquWThoYGFi9ezK233kpbWxvZbBafz8fu3bu59957AQiHw/T391NfX6+MWnd3N+VymZ07dzI0NESpVKKrq4twOMykSZNUVHX8Uptu86bRaI4k+Xye0dFRFakMBAJ4PB5CoRCNjY1kMhn6+/tpaGgAYOPGjUSjUX70ox/R0tICoGStpJySTG2S+Yd2ux2n04nT6cThcFBXV4fdbicYDLJixQqee+45lRMpuwL29/ertCyZigCoQqCZM2fi8XjIZDIqx9TpdPLEE0+wd+9e2tvbVcdAi8VCJBJR9lcIgcvlwu/3E4vFcLlcNDc3K0F7GcHMZDJEIhEllp9IJKirq2Pq1KkqOinbZweDQebPn08+n+f222+nv7+fY445BofDwaOPPsrAwACpVIqdO3ficrmYMWMGo6OjJBIJYrGYErMfHh5WqRFLly7F6XTi9Xrx+Xwq2uv1egkEAixatIg//elPPPvsszQ2NlIul+nr6+Phhx8mHo/T0tKiOjlNnz4dGKu52LZtm4pU12o11q5dq+6T1M0tFAo4HA4Mw+Ctb30rxxxzDLfccgsNDQ2qWr+zs5Nnn32WfD5PT08PTU1NFItFtmzZAoxFeXt6enC5XBw4cIBgMEgwGGR0dJTu7m71ncnfhLw2QHW4WrVqFVu2bFETFtl0595772Xx4sXMnDkTQMmq2e129d3KJhEazWvNy/7SfD6fykm12+2qctNisUzoTpHNZolGowwODpLNZtXS/LRp05g8ebLKY02lUixevJh7772XT3ziE5x22mkIIXjyySfZtm0b+/fvZ8OGDSxatIjNmzdz3XXXEYlEsNls/PKXv+TJJ5/kgx/8IC6Xi3w+TzQapVarkUgkVFtX+QCNd1o1Go3mH43P56NWq6mJvPx7aGiISqVCqVRSTVV6e3tpa2vjBz/4AV/84hc599xzueSSSwiHwwQCAWKxGDAWDLDZbDgcDpWr6na7sVqt5HI54vG4ssGf+tSnOOmkk9i4cSPnnnsuxWKRxx57jLvuuouzzjpLLc/LfEPZFWrx4sVs2LCB5cuXc/XVV7Nw4UL27NnDr371K5YvX87b3vY2Fb2TepuyGYuMWmazWeWgl0oldu/eTbVaJZVKAaiVOKvVSktLiwosZDIZ5dCn02nV6rOtrY2Ojg4uv/xylixZwvve9z6Ghoa4/PLLOf744/nOd77Dcccdxze+8Q0uuugi1q5dy3ve8x6uvPJKHn30UbLZLJ2dnQAql9Pv91MqlSbIUsl70t3dzec//3kuuOACDhw4wIoVK3jooYfYtm0bJ510EmvWrKGvr4/6+npGRka48cYbaWtrY+nSpfT393PJJZcwbdo05syZo7puGYbB/PnzeeaZZzBNk3Xr1uHxeHjXu97FPffcw2c/+1mOO+44Fi9ezPnnn88zzzzDLbfcwpIlS+js7OTmm2/msssu4+GHH+aMM87ggQce4OKLL2bBggWq8UJHR4e6/4FAQOUBm6bJ0NCQSg3x+Xx85jOf4YQTTiCRSPCpT30KgM2bN/Poo4/y85//HCEExWKRRCKhul3JaKp2VDX/KA7Lk5MV+zL5e86cOSxcuFAlasPYstH8+fPp6OhQM/BCoUBvby+BQIDe3l5gzIn8yEc+wp133snIyAgnnXQSGzZsIBqN8slPfpIzzjgDv9/P+vXrufzyy3nyySe58soruf3227n88sv59a9/TW9vL1u3bsXr9VJXV0dnZyeGYahcqPG9qjUajeZIMn5Al92pRkZGmDJlCq2trQghiEajqrJ/1apVnHnmmdxzzz089dRTDA0NqaiqjDwGAgGVUyp1WQuFAjNnzqS7u1vZw1qtxre//W0WLVrEBRdcwKWXXsratWv57ne/q3I8YWx5HMZstrTp73nPe/jDH/7A/fffz/Lly/nZz37G8uXL2bhxo+ptbxgGgUCApUuX0tLSoro+jS+0hTFZw0wmw7HHHqvuh9Qy9Xg8tLS0KAdWivbLAiEpg3TUUUfxm9/8F4WHNgAAIABJREFUhrPOOotnnnmGpUuXsmnTJj73uc9xzjnnMDg4iM1m4/bbb+fUU0/lgQce4KSTTmLevHl873vfY+HChTzyyCPY7Xaam5sxDIOuri5SqRTZbJZisUgul1P5oC6Xi//3//4f73vf+3jwwQc55phj2LRpE93d3Vx00UVEIhE6Ojro7+/HZrOxceNGOjo62LBhAx/72MeYNWsWGzduZP369UplYObMmaxdu1bpgz/55JMArFy5kp/+9KfU1dXx0Y9+lOOPP56lS5dy0003sWTJEtXh8corr+Rd73oXv//971m3bh2jo6Ncd911hEIhnn32WTo6OhgZGWHv3r1K+tEwDEqlEmvWrCESiahrrVarTJkyhccee4ympibWrFnD+vXrqaur409/+hPHHHOM0ogNhUIcf/zxVCoVtT+9Yqn5R2ExTVNYLBY1o5aza6vVSq1Ww2azKVkMufz/t7/9jVAoxOTJkymXy8oY7dixg2nTpqkoq8ylGhwcpLGxUfVhnjp1qqpsla1VZYGAaZr09PTg9/tpaWmhr6+P9vZ2Je8iKxU9Ho962IrF4gTtuFqtpmaN4zutaDQazauJLESSbTDlEq9sR5rP51WO4gtXeGKxGIVCgc7OThXNy+fzJBIJOjo6JhTE5HI5stmsUlaRS/V+v39CR6XnnnuOmTNnKjtus9kwDIN9+/Yxffp01YZURvikTrYkl8uppXapADA6OqryKl/YDz4YDCKE4ODBg7S2tuJ2u4nFYkQiEQBl42HMLkejUVpbW7FarcTjcVwul4rayeKsXC6nXsuooHSgS6US9fX1Km/TMAy8Xq+6Vsnu3bvp6OhQlex1dXVqX7IIuFQqEYvFaGpqUukTwIQxrVAoYLPZVPGX/J7kvqRM4uc+9zkWLVrEl770JXVeclyVK5EyvQPGun5ZrVY8Hg+GYagUBKkc4HQ6OXToEB0dHVitVlVwLK9RqidI+a/R0VFcLhdWq1VV9ctlfKkMkEgkVM4pjE2acrkcoVBINZeQv8tIJKK+X/ldHzx4kBkzZuj6D82rhnxuZeG79Bml7VGNUkzTFEIIUa1WRbVaFYCo1WrqPSGEyOfzQggh0um0GI9hGEIIIVKplBBCiHK5LIQQolAoiGKxKCqVivq3EEIMDAyoz+7Zs0cIIUQul1OflccRQohKpaL+b3h4WL0vz2HXrl3qPdM01TGr1aqoVCoik8kIjUajeS0xTVOYpimq1aqQthRQr8dTKBRELpcTuVxOJJNJ9f7IyIioVCoimUwqG5pIJNT+0+m0ssnJZFKMjo6q4xYKBZHJZNTn4vG4EGLMflYqFdHf3y+EEMoeSpv+QrLZrLLnQozZ5VKpJIQQ4uDBg+r8hRCiWCyKbDYrhHjxGCDPcfz/lctlMTw8LKLRqBBCqP1K5DiRzWZFuVwWpmmKSqWitpNjhRBCDA4OCiHGxiR5j2OxmLofg4ODf/ca4/H4hGPLcy4UChO+D8MwRK1WU9crjyHE89+LEM/f08HBQbFixQrx9a9/XY1Z8u/x9y2TyYhqtSrK5bIoFosTjifE2NhWrVYnjKfyXshrzefzIhaLqf288F6OjIyo6+/r61OfG/97kuddKpUmnGcmk1H7k99JLBZTvz35vmmaolgsvuRvXKP53yB/q/K3JO1YpVIRgNrusCKqGo1Go3kx4mUiqpo3Pul0mnXr1nH00Ufzne98R6WfjY/MajSaF3O4EVVdbaTRaDQazSsgk8lgGAaLFi1i9uzZFItFpSmrW4xqNK8OOqKq0Wg0rxAdUX1zY5omQgh2795NY2MjkUhEj5sazWFyuBFVrS+h0Wg0Gs0rwDRNDMNQEmPiv9UOyuWyFsPXaF4l9NK/RqPRaDSvAJvNNkGmKZfLqWp/KfOl0Wj+b+iIqkaj0Wg0rwCLxaIknOD5LmKy6YFGo/m/oyOqGo1Go9G8AsrlMg6Hg1wupxovVKtVYKwbl0aj+b+jHVWNRqPRaF4BpVIJu92umsvY7XZM0wR0Z0SN5tXCKh+qeDyOzWbDarWqntG6clGj0Wj+PrLKv1gsqtxEv99PMpk80qem+QcQCASAiW1ytXaqRnN4yDxuWfEvWzqPf54A7NIZDQQCFItFnE4n1WqVarWq2pBqNBqN5sVkMhlSqRRdXV2Uy2UAfD6fajNaqVSO5OlpNBrN65ZAIEA6nUYIQSgUIhgMEo1GAVT7aAD7wYMHmTJlCg6HA6fTSXt7O8FgkEKhwFve8haee+65I3UNGo1G87omEonQ0dHBE088wZQpUzh48CAARx99ND09Pcph1Wg0Gs1EpN602+0mHA4Ti8WoVqusWLGC4eFhtZ1FCCFGR0fx+Xy4XC4sFgvJZJJQKERPTw9Tpkw5gpeh0Wg0r1+i0SjpdJrZs2cTj8dpbGzEYrGoIhuZWqXRaDSaiciJfC6Xo1ar4fP5SKVSpFIpli9fztDQEPDfjqphGEqc2OfzTdCFkx2rNBqNRjMRm81GrVYjnU5TX18PjBnfcrlMrVZ7Ua6VRqPRaMZIJBJEIhFSqdQEqTfDMKivr1dtiO2yg0Yul8PtdlMulzFNk3Q6TTgc1gVVGo1G83eIRqO0tLSoSECtVsNisWC32+nt7aWrq+tIn6JGo9G8LpF6w6FQiEKhQCwWo1gsYrPZiEQiajtLpVIRdrudQqGA1+vFarVimibValVHAzQajeZlqFQqZDIZGhoagOcrWLX91Gg0mr9PqVTCMIwXNc7IZrPU1dUhhADAWqlUME0Tm81GpVLB6XTqSlWNRqM5DIQQVCoVGhoaVD5qXV2dTpnSaDSawyAYDBIMBqlWq6qAKhAITJB5s5imKaT+H4zpV9VqNaxWK7VaTS/9azQazd9BzvhN08RqtSpdVVnNqjmyVKtVNYbJiYQs4NA5xBrNkUX6mEIItRLlcDioVqs4HA5lX/VTqtFoNJo3JHa7nWKxiGmaeL1eYExk3Gq1ao1wjeafBC3yp9FoNJo3JLK4bbxT6na7Gb+KqNFoXt9oR1Wj0Wg0b0gKhQIulwur1Uo2myWbzWK1WnG5XKp9o0ajeX2jl/41Go1G84YkEAhgmibFYlG1uC0UCrjdbgKBwBE+O41GczhoR1Wj0Wg0b1gMw8DhcCj5sHK5jGEY+Hy+I3xmGo3mcNCOqkaj0WjekFQqFVwuF+VymWw2C4DH48HlcqkKY41G8/pGO6oajUajeUNis9mwWq3s37+fn//85wCcc845dHd3K7kqjUbz+uZli6mKxSL5fB6A0dFRYGzpZGhoSG2TSqXIZDIADA0NUavVVD4QjOnXxeNxAGKxmHpf7q9YLJLL5dT7sluBTH6XyA4w8nWxWFTHlzz33HPAmH5eNpslnU6rY/T397/o2JJkMgnArl271DVWq9WXuz0ajUbzd5EFO4VCQdmucrms9AGr1SoXXXQRJ5xwAvX19XR0dPChD32I/fv3T7ChBw8eVK9LpRLJZJJkMqlslPz/SqVCtVqdYLvG29ZCoUCpVFLnVSqVJuxX2lRAyToB9PX1qfcNw1D2X+5bno9k79696rV8f7xNHRkZUf9fq9VIJBJqm/H2vFQqUavV1HlJe16r1cjn86o5zeDg4IuOZ5omhmFQrVbp7u5m9+7dlMtluru7qVarE4qp5H4PHDig9q8dWY3m9cHLOqputxvDMBgdHcXhcFCr1XA6nbS2tgJjjqfNZqOurg4Ah8OBzWbD4XDQ399PJpPBarXS2NgIPG/YBgcHcblcGIaB2+3G5/MRjUYxDINyuUwmkyEQCBAIBNi5cyfFYhGHw0GxWFRisG63m5GREdUnFmDOnDl885vfZOnSpQQCAYLBIHv27MHtdjN58mQymQymaRIKhYhGo8roS429WbNmkcvlyOfzajDRaDSaV4IUlJf2CsDpdGKaJvv27eNjH/sYjz/+ONOnT+eGG27ga1/7GocOHeKTn/wk99xzD/39/dRqNaZMmaLsaaFQIBwOEw6HsdvtGIZBY2MjpmlimiZ2u52RkRHlaFWrVVKpFPl8Xi17e71eDMOgUqlQKBRIp9O4XC7sdjupVIpKpaJs/7nnnsvmzZsBiMfjeDweWltbSSaT+P1+DMMgEAgQDocpFoscOHCAGTNmUK1WyefzOJ1O1cHLbrdTqVRoamoCxsYDm81GQ0ODGltCoRCVSoX9+/djsViw2Wy43W6q1Soul4t0Ok2xWMTn81EsFtX+stkshmEQDocRQpDL5fD5fFgsFoQQWK1WMpmMamjj9/up1WoMDg6q11OnTiUej1OpVFRjAI1Gc2R52aX/XC6Hw+FQfVij0SiBQACfz0c8HicSiQCwfft2urq6aGxsJJFI0NDQwKRJk7DZbOzdu5empiZyuRzTpk0DwO/34/P5yOfzxONxGhsbiUQiyjg4HA6Gh4dpbGxk9uzZACQSCSKRCJVKhT179tDV1aVyjGw2G/l8nkQigdVqpauri/3799PV1aWqO8vlMoVCgXK5TDgcpqWlhVqtht/vx+FwEIvF1PXkcjnC4fCrea81Gs2bDGnPrFbrhA4s2WyWu+++m4cffpjf/e53ysYBrF+/nk2bNvGtb32LRx55BBhbNZo8ebLapqenB4/Hg81mIxQK4fF4ALBYLFSrVerr67FareRyOUKhEIBy0qTzXCwWlY3buXOnkmyqr68HxoIQpmni8/nYt28fBw8eZNKkSRSLxQm2slqtYrVasdvtOByOCecpC5aGhoZwOp34fD56enro7u5W0dzh4WGam5uJx+OUy2Xq6uool8t0dXUB0Nvbi9frpampCbvdTqlUwufzkUqlCIVCpFIpvF6vsvO1Wo1MJqOurVqtYhgGnZ2dyvFNJpPY7XYCgQCTJk0Cxmx+sVgkEAjgcrnIZDIqAKPRaI4cLztllE6cXI6PRCL4fD4effRRLrroIhW1vPPOO3nqqaeU0ZJLMd/+9rc599xzWbhwIRs2bOD6668nnU7jdDo5cOAA999/PyeffDL33HMPxWKR5557jlgsxuOPP86pp56qlrSuv/56jjrqKH784x9z880388lPfpLu7m4uu+wy/vSnP1GtVrn77rtZuXIlX/nKV7j55ptZtmwZX/7yl2ltbeXWW29l5cqVPPbYY1x00UU0NjZyxx13cOyxx/L1r3+dZDKpDG+pVOKss87ioosueg1vvUajeaNjtVonLOEbhgGMTfhvu+02TjrpJOWkSpvZ3NzMvHnzcDgc3HnnnWSzWUKhENu2beMDH/gA8+fPZ8mSJVx66aXKAUyn0/T19XH11Vfzjne8g76+Pmq1GkII9uzZw7e+9S2++tWvsnfvXlKpFL/61a945zvfyU9+8hMuueQS1q5dy8qVK/n6179OJpMhm83yve99j9bWVh544AFuvPFGjjvuOH7xi1+Qz+f54Q9/yJe+9CV++tOfsmzZMi644AKuv/56IpEIv/vd75SYvhCC++67j/e+973cc889AMyYMUNdr9/vp7m5mVwux1133cWGDRuYMmUKp5xyCtdffz3xeJzOzk5cLhdCCJ555hn+5V/+hZaWFtrb23n/+99PMpmckC4wOjrKyMgIJ598MhaLhRNPPJEbbriBSqVCLBZjeHiYSqVCIBBg165d3HzzzcydO5empia++MUvsn37dlKplHZSNZrXCYdVTGW1WnE6nQwMDNDW1sbevXv57ne/i2ma/OEPf8AwDL7//e/zl7/8hU2bNnHccccRDoc5++yz2bZtG1/5ylcwTROXy8UXv/hFdu7cySWXXMLUqVM5ePAgjz32GOVyGa/Xy6xZs4Cx2e2+fftIJBJ0dXWxfPlyEokEmzdv5vjjj+dDH/oQ2WyWzZs343A4mD17NmvWrGHOnDlcd9117Ny5k3/7t39j4cKF5HI5kskkTzzxBBdeeCFLly7lyiuvZN68eSxbtoze3l61fJVKpdi3bx+pVIqTTz75Nb35Go3mjY2MqMp+80IITNMkFovx2GOPcfXVV6t+19IxqlarnHPOOZx00klMmTKFTCbDtm3bOPfcczn77LNZvHgxTU1NPProo5x66qls3LiR97///XR0dDBt2jRVD1AulwkEAlgsFkZGRjh48CDNzc1qaX3r1q1kMhkuvPBCrrrqKp599lluvvlm/H4/3/jGN7j44os599xzufjiiwkGg9x00020trYyOjrKAw88QCKR4MEHH2Tt2rWceOKJzJ07l3Xr1rFjxw5mzJjBvHnziMfj7N69m5GREWbMmEGxWFTjSUdHBwDPPvssX/7ylymVSqxbt47zzjuPoaEhPve5zzFp0iROPPFEcrkcjzzyCJs2bWL+/Pls3rwZv9/Pddddx+mnn85DDz3EwYMHsVgsNDY28ra3vY3u7m6effZZnnjiCR577DHuueceurq6aG5uBsbyUn/3u99x4403csUVV+B2u7nppps4+eST+cUvfsG0adOYPn36P/ono9FoXsDLOqpCCMrlMm63m3A4TC6X4+qrryaZTLJ582aam5upVqvMnTuXCy64gG3btrF8+XJ+9rOf0dPTw+bNm5kzZw4ul4tcLsf555/PT37yE8444wz1WblsVS6XcTqdZLNZdu/ezfTp02lqaiKfz7N161YMw+CTn/wkp5xyilqeGhgYYOvWrTz11FOsXbuWOXPmMHXqVO677z5mzJjByMgILS0tOBwOIpEIl1xyCatXr6ZcLtPQ0MCyZcvYtGkThw4doqWlhcbGRq666irq6uro7u5+be++RqN5wzNeAknma2YyGQzDIJPJ0Nvby7Rp08hms0oySTqYMJbydMcdd1BfX8/b3vY2Ojs78fv9nHzyybS3t7N9+3Y+85nPAM/n/g8PDzNjxgyy2Sw+n4/6+npV5CrzVydNmsQ3vvEN1qxZg8fj4ZhjjiGfzxONRonH4zgcDhobGwmHwyxYsIDW1laVGrBgwQIeeOABfvnLX9LZ2amW+Ds6OvjRj37Epk2bVLFXoVBgw4YNLF68WOXDWiwWlcaVzWZpbGzk9NNPZ/369VSrVdxuN4VCgS9/+cs89thjFItFbrvtNt7+9rfz+c9/HtM0aW5u5i1veQsf/vCH+ehHP8pNN90EwJlnnklbWxvf+c53cLlcvOtd72LlypV4vV7i8TipVAqfz8e2bdt48MEHufzyy5k7dy6BQIATTjiBr33ta1x33XX8+Mc//gf/UjQazUvxskv/sidyNBrFNE3q6uo4ePAg69ato7OzE7fbjd/vx+l0KifSMAz6+/sRQtDd3c3IyAg2mw273c4nPvEJMpkMW7ZsobW1FZ/Ph81mo76+XuUs2e12nE4ngUCAQqGAz+dTy/KLFi3C4XAoJYK3ve1txONxFixYgN1up6enh56eHnw+Hz6fj5aWlrELtVrx+Xy0traqdIViscgxxxxDOBzmySefxGq1UigU2L59O29/+9t15xKNRvOqIKvdZUGqrGKfNGkSlUqFVCpFa2sr4XAYh8OhROoBXC4X999/P2effbYSrT906BA+n4+Ojg7uuOMO/va3v1GpVKirq6O+vh6Px4NpmgQCAaxWK9FolNHRUVpaWmhqaiIYDFKr1ZgzZ446t46ODubNm8fAwIASxJfFq6lUCsMwKJVKDA4Okslk+MAHPkB9fb2qNchkMnz+85+ntbWV3//+99hsNmKxGDfeeCMOh4NsNovX66W5uZlgMMjw8DC5XI5bbrmFQ4cOMXfuXOx2uyqM/fCHP8ymTZsol8uUy2W2bt1KR0cHzc3NtLa20tvbi9vt5oQTTmBwcJBUKkU6nSYajbJ69Wq8Xq+63qlTp2KxWKivr8fr9WKz2XjggQcYHh5m5cqVBINBgsEg+Xyejo4O9uzZoxQANBrNkeVlHdVUKqUKj+rq6hgYGOCRRx5h5syZyqAMDQ0RDofp6urC5/Ph8XgYGBhg0aJFZLNZOjs7GR0dxePx0N/fz1lnncXWrVsxTRO/369m/YFAgHQ6jcfjobOzk127dhEMBonH47jdbrxeL/v27aNWqymVgK6uLmKxmJJ+8fl8zJo1C6fTycjICJlMRlXvu1wu5bgmk0ncbjdtbW0sXryYRx55hGw2yx//+EcKhQInnHDCa3XPNRrNm4Ryuayk9KQdqlQqlEolXC4XsViM7u5ufD6fcghdLhe1Wk0VNxUKBWXLWlpa8Pv9tLW1kUqlOOGEE2hpaeHAgQM4HA4cDgeHDh1i6tSpSsIJoLGxUVXOx2IxVR3v8XiUEku5XFbH9Hg8qtjINE0cDgcejwen06mc5f379xOJROjr68Pn81FXV0epVGL69Oncfvvt1NXVEY/HKZVKfPzjH8fv96uIpsvlorm5GbfbjRCCo48+Wi3Jy/vk9/s55ZRTcDgcRKNRnnrqKebNmweMRZmnTp2K3+9n5syZxONxdu3axe7du0kkEnR3dyslAClTNTg4SD6fp1QqYbFY6O/vZ+vWrWpsczgcTJs2jY985CO43W4V0dZoNEeWl3VUpcSJYRiYpkm1WiUSiVCtVikWiyoSEIvFCAaDeL1eyuUyVqsVq9VKMBgkFotRX19PIpFQqgA+n49sNqsKDaSGn8zlktWZg4ODeL1e/H4/Ho+HcDisqlgDgQADAwN0dHRQqVTI5/M0Nzezd+9eKpUKHo9HGRxZEGaaJqVSiaamJiVztWrVKh5++GH6+/spFArYbDbmzJnzWt1zjUbzJkGmM413fHw+H+3t7crG9fT04HA4qFaryrYVCgWGhoYQQuB0OlWkb2BgQDm09fX1xONxhBAq+ppIJHA6nQwNDeFwOPD5fCSTSSXVVCgUiEQiRKNR7Hb7BJknmXYFqGIoh8NBLpdTDqzP51NSU/X19VQqFdrb20kmk5TLZVpbW1mxYgWPP/44w8PD/Nd//RfnnHMOMGbTfT7fBDlBeY8OHTqE0+kEIBwOU6vV1DapVAqPx4PFYlGa3DLVQEpaFQoF/H4/fr+fQqGg7pnf76dUKlEqleju7qZWq+H1erFYLORyOdatW8dtt93Gfffdx913381dd93FgQMH+OY3v6kUajQazZHlZR1Vr9dLrVajUqkghKC+vp5p06axY8eOCUtMjY2NlEol3G430WgUm83Grl27KJVKyjA2NTWRTCZ5/PHHWbJkCaFQCKvVqgyeTCMwDIN0Ok0oFKKtrQ3DMOjr6yORSFAsFslmsySTSaWRJ5eppPFyu91K18/hcFAul8nn8+o9IQTFYlHJtBxzzDEsXLiQX/3qV9x5552sXr1aRQ00Go3mleJyuYDno4Ry4h+JRFi6dCn33nuvcohkOkBvby8PPPAAp512GgcPHsRut9PS0sKDDz5Ie3s7drtd6T4PDw8Tj8dVzr5c0nc6ncTjcarVKul0mtbWVurr6zl06BCmadLe3q5ai8Lz+tZerxeXy4XNZqNUKjE0NES1WiUQCJDL5RgZGVGa1LFYjGKxqOT+nE4npVKJefPmIYTgt7/9LYlEgvb2dvx+P6Zpqvsgo7uVSoXW1lby+bxyjvv7+7HZbDQ2NqoUBznubN26VUWHpYb3I488woIFC/D5fPj9fo4++mgee+wxNT54PB7VpEY6qIVCge7ubrxeLzNmzODEE09kxYoVNDU1KZ1YOZ5oNJojy2EJ/pdKJSUs7Xa7Wbp0KX/84x/VLNhqtdLf38+qVau47LLLmDRpEp/97GfZu3ev6vQkO0E98cQTSii6WCySSCSYPn0627dvxzRNNZMuFAo4HA68Xi/BYFAtLUkDIitkZYJ/PB6nUCiQy+VobGxECMHevXvJ5XI4nU4lNC0jBuVymWKxyMjIiCoW+OlPf8qf//xnjjvuOKW5qtFoNK+UF/aSl87YpEmTOP3007nvvvuUVqqMpg4PD3PLLbfQ3t7O5MmT8fl8vPvd76avr49t27YxMDCgUgq2bNnCW9/6Vjo7O8lkMjQ0NCCEoLe3l2AwSLlcpq2tjeHhYbZu3aqCA6OjoypiK5e95fmVSiXVtKW1tRW/36+c1aamJtUkQNrxUqlEuVxWTviyZcvo6uri2muvpVKpMHv2bGw2m1I3gOdlu2RO7TPPPKPuQzgcJpvNcuutt/K5z31OacEee+yxJBIJMpmM0nFNJBL87W9/w+FwMHXqVDo6OnA4HOzYsUMpHcBYVLZUKhEOh6lWq1gsFt7+9rezb98+HnzwQTVOdHR00NjYSENDg+5MqNG8TjgseSqv14sQQmkAnnbaaTzyyCN8+9vfZs2aNezatUu1qVu8eLFaFlq5ciUnn3wyV111FXPnzuWSSy7hhhtu4KMf/SjLly/H7XazevVqfvazn/Hzn/+cWbNmYZom9913H/fddx/xeJz9+/czd+5cyuUy2WyWeDxOrVbD4XCQTqcZGBigvr6e6dOnqxzWSqVCOp3m4YcfZsaMGSxbtoz6+nqq1SrRaFQVgUlxZ6fTyfr167n22mtZtGiRugYZtdBoNJpXyngHTUYUg8Egq1ev5qabbuIrX/kKq1atoqWlBa/Xy9NPP83IyAhf+tKXqKurI5PJsHLlSm677TYuu+wyPvKRj9DW1saFF17Ivffey7XXXqtE6xcuXIjP5+Mb3/gGxWIRv9/Pd77zHZ555hlWrFihoqgulwuPx6McZ7fbrXJaZQGV1WpVVftPPPEEnZ2dvOtd7yISiRAOh3G5XKpCHyCbzSqHd+3atXz6059m1apVSrhfCKGO73Q61WrYJz7xCYaGhrjmmmt4+OGHWb58OX19fXzkIx/h1ltvJZFIMHv2bDZs2MAll1xCIpHg2GOPZfr06Vx55ZWkUiluuOEGRkdHsVqtXHnllbz3ve/lQx/6EF/5ylf461//yr333ssdd9zBunXr1LV3dHTw1re+le9///ts2bKFs88+my1btvDDH/6QmTNncsUVV6j7qtFojiCmaQohhKhWq6JarQpA1Go19V6xWBRCCFEul4UQQv37d7/7ndi0aZOYO3eu8Hg84swzzxSfdf69AAAgAElEQVR79uwRQggxMjIicrmcyOVy4uabbxbTpk0TwWBQvP/97xf//u//LnK5nOjp6RGlUklks1nR29srzjzzTDF58mTR1NQkvvnNb4of/vCH4h3veIfYuXOnqNVq4qGHHhJHHXWU+Mtf/iLy+bwQQohCoSB++9vfimXLlokHH3xQVKtVIYQQpVJJrF+/Xvj9fnHFFVeIvXv3ittvv12sWbNGPPDAAyKTyYhCoSBGRkaExDAMMXv2bHHttdcKIYTIZDJCo9Fo/idM0xSmaYpqtSqkLQXUayGet51CCFGpVNTrWq0mEomEuPnmm8XRRx8t5syZIxYuXCjOPPNMsXfvXrXdc889J4QQor+/X5x33nnC4XCIzs5Occ4554gdO3YIIYSIx+Ni3759Qgghdu7cKRYvXiza2trEtGnTxA9+8ANx2WWXibVr14rt27cLIYS4/vrrxfHHH6/+nclkRC6XE3fddZc477zzRCKRUPZ069at4txzzxVLliwRV1xxhXjiiSfEpz/9abFhwwbR19f3outMpVLib3/7m5g+fbq45ZZbhBBjNlnuL5fLiUqlou5RJpMRTz/9tPja174m5s6dKwBx4okniueee26CjR4dHRVPPfWU2LBhg/B4PGL69OnivPPOE08//bQolUrCMAxhGIYoFAri0UcfFe973/sEIJYsWSJ+8IMfiGuuuUZceuml6p6Zpimi0ai45pprxKJFi4TT6RQrV64Ud955pxBibHzRaDSvHdImSFsgbUilUhGA2u5lHVX54XQ6LYQQEwzHwMCAyGazolAoiFQqJYQYMyYvPHg6nRYDAwOiWq2KwcHBCSc6MDAghBgzwuOPKYQQ0WhUGIYhhBgzxH/5y1/U/40fCA4dOqQubmBgQFQqFTE8PCyEEKKnp0dtv3PnzhfdqEKhIGq1mti5c6dYtmyZ+POf/yyEGHPI5TVpNBrNS3E4jmqpVFLbSvsm7ZoQQgwNDYnh4WGRz+dFX1+fmoj39PQouyvExMnzwMCAME1TxONxIYQQsVhMjIyMiAMHDgghxmx2KpUSlUpFJBKJCeeczWZFuVwWQ0NDIhaLiWw2q94zDENs3bpVCDHmUMqBY3BwcIL9TSaTQgihzi+ZTKprTiQS4umnnxYnnniisuuFQkH9f6FQUNcojyPfl0SjUXWMHTt2iNHRUfV5GSyR9/Cl7PTQ0JB6Lc+xWCyq85H3TN4r+Xc2mxV9fX3CMAz1vWk0mteGw3VUD2vpX1bNV6tVlQJgt9tpa2tT2wwMDCjNvlKphNfrpVgsqkInmaDf0tLC4OAgHo+HSqWiJEmam5splUpkMhm8Xi8+n4/m5mYSiQQulwu/38+qVavU8dLptOqdLQufZNGBzWajoaEB0zSZPHkyhUIBr9fL1KlTgbEcMEAtfRmGwa9+9SsWLVrEggULgLEiiBfml2k0Gs3/BiGEqvYvl8uqgFMWngLk8/kJy+Ner1fJL8lip+HhYUqlEoFAgEwmo/Is7XY71WqVcDiM3W4nnU4DKHsttUOz2Sy9vb285S1vAcZ0XcdL9YXDYVXQunDhQmAsHSCbzWK322ltbaW1tRVA1QTU1dWpWoFEIkEoFKJWqzEyMsJvf/tb5s+fz6RJkzAMQxXdwpjdHZ//L9UEcrkcpmmSTqeVdFa1WmXOnDkIIYjFYjQ3N2MYBolEQhWHtbW1qWsAlIzXgQMHJrRBldchtwmHwyQSCbVNNptVx5Vji0ajOfK8bDFVOp3Gbrfj8XiIRqM0NDTg8Xg4dOgQpVKJZDIJwJQpU5QclTRIMlfV5XLhcrlIpVLk83kmTZpEOBymsbFxguF2uVw0NTXh8/moVCpkMhmVyyT3uWfPHoQQhEIhAoEAgUAAl8ulFAFsNhumaSpDY7fb1WdllWkwGKS5uZm6ujoOHDjA448/zjXXXENnZyehUIhUKqWMvEaj0bxSXuioSudH5obmcjm6urpIp9OMjo7idrvJ5XI0NDRQKBSwWCwUCgWam5tVy9FKpUJnZ6dyImVhkmmayuGV+5DdqAKBALNnzwael/6Tlf6yaEjaPRhznm02G6FQaILDlkgksNlsTJ8+XdlogPb2dgDuuusu7r//fm688Ube8Y53qCYqMKZ4ILeXrWUNw6CpqQlABShCoRAej0cVTslrHr9dJBJROtimaarGNICSuZo6dSqBQEAFLVKplMoVluNafX29uj6bzYbFYiGTyVAsFtW4odFojiwW0zTF+IfcbrdTq9WwWq0TigDeqKxfvx7DMDj11FM5++yz8fv9AMrR1c6qRqP5e4hxslNWqxWLxaIm1m8G21EsFrFarTidTvbs2cOmTZuIRqOcd955nHbaaSpqrNFoNC9E+pjS15ItpKXGvbSvb3pHFSAej+P3+5W2n1yKAt4U16/RaF4Zb3ZHFcbSEurq6vB4PKTTaUzTVMvwGo1G8/c4XEf1sHJU3+g0NjaqZR4pEG2xWNTylEaj0WhemmAwSLFYxO12EwwGgbG802KxqBoRaDQazSvlTe+JyRxbq9WqcltlNyupG6vRaDSaFyP+WxtVtiyVBbGmaWonVaPRvCq86SOq45eopJqBLPDSEVWNRqP5+0ibCWNFTlarVYn6v1lSxzQazWvLm95RzefzKpdMCEGlUsFqtapOLRqNRqN5abxer+oUaLFYKJfLlMtlqtUq5XKZSCRypE9Ro9H8k/Omd1R9Pp/Kr5JIB1Vq7Wk0Go3mxUjHVKqlpFIpJTGl0Wg0rwZ6bZsx41oqlYCxnFWZmzpeLFqj0Wg0E3E6nRiGoYpRbTabSgWIRqNH8tQ0Gs0bBIsQQsjOTeVymXA4zMjIiOosJcWTNRqNRjORdDpNKBRSgvNSNF4IwejoqI4sajSaNywvJcE3vkHI4dT5lMtlUqkUkUiEeDxOY2MjhUKBUCikOvPZS6WS2llra6vSEJUyI7ryXaPRaF6a1tZWent7gbE20LI9s8Viob29nVgsdiRPT6PRaF4z7HY7QogJf0zTfFEHvv+JhoYG1cpYdqKbO3culUpFbWMRQohKpUKlUsHr9apoAIx1HdFoNBrNS1OpVAgEAqr3vMViwe12UywWGR4eVhN+jUajeaMhxfol0lmVHG5nulwuh9/vJ5vN4nQ6SafTTJkyRbVfthiGIcrlshK4D4VCZLNZXC6X6g6g0Wg0mhdjmiaGYeDz+VRXlTdbZyqNRqN5KcY7rS9FsVjEMAy8Xi9ut5tEIkFDQwPAhKCpvVwuU1dXx8jICIFAgHA4jNvtZv/+/XR1dakkeY1Go9FMRAihlrcKhQLDw8OsWbOGkZERIpGItp8ajeYNy/hl/hemAAB4PJ7/8fMejwePx0OlUqFYLNLQ0MDAwACjo6PMnDlTbWcRQohoNEokElG9qlOpFMFgkFgspnXwNBqN5u+Qz+fx+XyqV3WpVMLtdiOEIJ1O66V/jUbzhkZO1qvV6oQ/Qgiq1er/+Nl8Po/H48HhcOB0OlXxqWEY1NXVqTxVS7FYFKZpUiqVVPXq+HCtFr3XaDSal8Zms5HL5ejr62POnDnAmAh+IpHA4/Fo+6nRaN6wyOhprVZTzqp8LYR4WdUT6ch6vV7i8TixWIzOzk58Pt8EX9Qi/vuVjAzI/CrZXcTn873Gl6rRaDT//Iy3obLLnc7x12g0b1T+3kT8cPPzpb85OjpKKpVixowZACQSCZqbm5Uja5Ue6/iWoUIIXC7XYVdsvZaMjIwAY3qFtVqN0dFRYCwJN5/Pv+znK5UK1Wr1RbkUpmmqP5JSqTRB6UDnl43dP3nfZORdaptpNG92xkcUvF7vhPcdDge1Wk3ZGdlWdLxxl89SOp1WRlnaHSkNKIRQsi1y23w+P+H/x9u58RGNVCoFwODgIMlkEkDZTXkceQ7yb2lzU6mUOveXK4p4s1Kr1SiXy2SzWbVMaZqmuscvN/7If0sSicQbKgqfz+dV4Es21RFCqNf/TMRiMfXMFYvFV20cHH8vRkdH1e9IPruvZ2w2G7VaTU3OM5kMhmFgtVon/L7H26UXPgsAoVCIQCAAjD1ToVAIm82mjmMxTVNIsWoY08Wq1WpYrVYlYP16QEYrMpkMFouFQqFAc3Pz/2ofL7w58gaOj3oIIdRDVS6XaWxsfPUu4p+QYrGIw+GY8DsYP+DKH5dG82Zk/CRO5viPr/ofb6ylkZZOpAwIjG+qUigU8Hg8KiJhGAYWi4Vyuay2fWG0QtoxmBjJkOdy8OBBpkyZAowNfnV1dWrQsFqtE1qgAhPs/vj9ahWDF1MqlXC5XOq1/E5hzHaOLyZ5qfGnXC6TTqcJh8Pqc7KwxGazTZj8/DOTTqcxTROfz6d+7/8MKw6xWExpy4fDYdV1rVwuv2rNkKTteCHValUd7/VMuVzGbrdjmibZbBaHw4Hf7z+s85eTcyEEyWSSSCSifFGPx/O84P9rewmvDsViUV2wLFx4pTP8F3ZNkL2qrVYrdrsdq9WK0+lURuPNjiwMkZFVq9WK1Wp9XUTbNZrXO7Khit1uf8mBLZ1OT3g/mUzi9XpJJpOEw2Hl6LjdbgqFAqlUCofDoQoVZA7Y+IHuhQ5lNpud8DoUCqnn2Gazqc/mcjkcDge5XE7l1+rUr5enWCzidrtxuVwUCgVqtRp2u/0lK55fOP7Iqmd43mGRDurhrBi+3qlUKpimqYoKK5WKcvL+GaL0spg8n88rHySZTGKaJjab7f/ceS6Xy6nnT0YmpfNeLpf/6QNBcsJlt9uVXZK2S06U5SRY3gc5wR+/ov26d1RHR0cplUo0NDSQyWQIBAJYLBbq6upIpVL/qx+KSswdFx2QRsIwDBWZkLqy2hmbiIwGSWP6eom2azSvV9xut1oWkys18hmSE2PpkPh8PmVz5GQ8FovhcrkIhUJ4vd4JEbZqtaoievIYUn1A7sMwDObNm4cQgkKhQGtrq4pkyfOQS3EyGjh+kv7/2fvy8KiqbPuVmitVlUpVJalMFTKQiSlMYRZQMQEeQ6PgTwUBQRAVFQTBAScUpFVEHFAePkRFaZ6K4IQ0ooIoMkkQgYSQkLlSqXmea//+iOdYoX3Pfl8/X3fb2d/HR1KpunXvuefus8/aa6/dTX/6700qlaK9vR1yuRxqtRoikYivU5ejhb+0/rhcLiQlJfF7nZqaimg0ColE8k+Bpv2aeTyeLihzPK0hEon8w7doZ88Xu3d+vx8ajeZ/7fjxmQygc454PB6IRKJ/+iAVAKcsXb4pYfM/KSmJt51mrzFf9k8VqGq1Wg4hs0l9/vx5lJaW/lVB6uWO9vIUFuPLJCQk8OOLxWL4/f5ueRl0OhqZTAaxWMyRnEAgwNNc/+rj023d9t9ZMBjk1BnWbhBAl2DQ7/cjEAhAoVBwsWu2IWcFBUSEtrY2yOVyaLVajr5cTs2JXxBisRhkMhkikQjcbjdfYCORCFg3QoaoMkSDBbo1NTXQaDT/8tSnv8ZYQMHWGolEgnA4zAPOeLt8/YmnVqSnpwMAp2r8HtL+Go0GXq8XdrsdAoEAYrGYg0N/TR/4v7e5XC6kpqZyGaVQKIRAIMA7J/1vWGNjIxISEpCTk4OEhAS+8fw9GKNQxnN6JRIJZDLZ/2iT8g8/UywWC+rr62Gz2eB2u7Fv3z5Mnz4dn376KS+s+u+M8cKAn51EfE9a5syZQ48Xqu0OwsDb6jJttGg0CrlcjqSkpO7x6bZu+xWL1xQUCASQSqUQi8Vwu928aCkeOSMiVFVV8cIno9GIcDjMs0gCgQB+vx/PP/88xo4di0Ag0KUINn5jHovFcObMGUyfPh3nzp0D0Jm2FIlECAaDXKGAfb9AIIDb7UZjYyNef/11PPfcc/8nY/TPbDabDQqFAgqFAn6/HxKJBEqlknfa+bX1Jzk5GS6XC0ajER6PB21tbVi6dCmeffZZWCyWv/PV/e3mdDo5v1OtViMxMZF3c/tnyFimpqYC6Lx3bFP3xRdf4IEHHsCpU6f+5uObzWa8/fbb2LZtG6qrq/l8CYVC6Ojo+JuP//c2uVzO+avBYBDBYBCxWIxTY9hmJZ7OyTbL8RuZf3hENSUlheu7CoVCyOVynDt3Dmq1Glqt9q86xuUXHY1GeTWm1WrlO6OEhATYbDZetBCJRH4Xu9q/xVhq0OfzgYg4WuDxeODxeJCXl/f3PsVu67Z/WFMqlZyTJRQKEQgEUFNTg0OHDqGqqgrPP/88VCoVpFIpQqEQzpw5gyeeeAKLFi3CqFGjoNfrIRAI0NbWhjVr1kChUODWW29FYmIiotEopxIAP1NzWMo5Go3C6XTC4/HwAIkhqwzR9fl8PHhmfEm5XN5l095t/7V1SU/+FPC3t7fDYrGgT58+AP779YeIkJSUhKSkJACdvMSWlhYEAoHfBZrt8XigVqtht9vh9XqRnZ0NoVDIEcp/dHO5XF362YvFYgQCAXz77bf/K7FBYmIiamtrIZVKoVQq+XfJZLLfBe1GrVZzZQA2hgqFAklJSVAqlV1oSvGFp5c/M//wiCpL+7OCAHbyer2eow7/nTE+JTO2aDApqsWLF2P79u1wu90QCoXQarVQKpWQSCT/FKmJ39rY7k4qlSIpKQkymQytra344IMPsGbNmr/36XVbt/1DWzQahdfrRTgchkAgQGJiItLS0hAOh9HY2AiHw8FfDwQCOHv2LPbs2YOamhqEQiGeNVKpVHA4HAiHwygoKIBer0dHRwcvVgG6tjBkv48ePRp79uzBiBEjOJUA6PSLDocDSqWSU3r8fj+XW7Lb7f8U8jh/b2PBpNls5huEP/3pT3j11VfR0NDwq+vP+PHj8eabb8JqtfL3aDQaaDSaLkVw/6yWlZUFk8mE9evX47nnnuMooVAo/NWuRf8IRkRQKBTQ6/UIh8MIBoPQarVgref/VktMTEQkEoFarUZGRgaIiGdafg+FjGKxGImJiTzrwP4lJiZCLBZz2hHwyzRNZn9VJHZ5it1oNHK+wS/poUUiEe7k2GcZT4pxFZgzZX9vaWnhn29vb0d7ezuAn7UEWdDIeFbV1dX858shcnZMj8fDv5cVLLS0tEAgECA5ORltbW24ePEiBAIBJzUHAgE+YDKZDKFQiF9LOBzu4jx8Ph8/Pza5GLTNzOv18s87nc6/GDOfz8f/Z/ppJpOJH4PpukYiEX5d8Tp9Ho8HQGc1L/vZaDT+BVeNBfUtLS38+202GwKBQBft2DNnzgD4WcNNIBDAarVyPsnFixeh0WjQ0dEBs9kMo9HIP+tyufi8YDy4buu2f2VLSEiAUqnkz4XP54NKpcI111yDH374AQ6HA83NzQA6F8VvvvkG/fv3x86dOyGRSJCSkgKz2YzGxkbU1tZi5MiRXB5OrVbzanOg07/I5XL4/X6EQiHI5XKeCWG+gQUHQqEQCoUCPp8PgUAAkUiEf1ahUHDeK+MWJiQkoKWl5S+e6XikhAW7ADglId7XsYU+Go3CYrHwY1VVVfH3MI1YoFNTlAXPQKePZd/V0NAA4GdfynS2rVYr/3wwGOTFHEwTlq0JzO/GB0vx2rTMAoEAT8F3dHTwcQR+LhRhYy0QCGCz2XDp0iW0tLRAJBLx9xMRWltbAYDTzGw2G0KhEGQyGa+3YON+uRpEvJ9lxW/x5+pyuWAymfjvzN8z326z2f5CRcDn8/H1jF1Le3s7H2Oz2czXv3hdWHZMtkaHQiF+L9lrwM+FU36/H1arFQ6Hgx/b6XRCJBLx8WdrWzzdIX7+/Fb3F+hcQ9lzwozp2cYXxDFJt46ODuTn5yMajfKxYOMYv+GwWCxd5OsuXLjAz4PNBaY4FAwGEYlEulBx2Gftdjv3H01NTV3Om8U+8XHWpUuXAPwcF7G5wMaiurqa/8xqceItPr4Afo5R2DHj4zcAvDAzFApxRDgQCPAsjkgkgkajQVZWFrKysrjMF6NDJSQkIBwOIykpiQOGTM4v/qSIiCgSiVAkEiEAFI1G+WtERMFgkIiIAoEAmUwmWrt2Ld155520bt06uvLKK0mlUlG/fv1ox44d5PP56OOPP6ZBgwaRTCajKVOm0O7du8lqtRIRkdfrpUgkQtXV1TR69GjSaDTUo0cPmjZtGpnNZqqtrSUioqamJtLr9fTVV19RRUUFFRQU0H/8x3/Qvn37KC8vj+rr66m5uZlCoRAdPnyYZs+eTY8++ig5nU6KRqMUCATo+PHjNHjwYDIYDJSbm0tbtmwhIqLa2loaNWoUKRQKEgqFpFKpqKKigj7++GMiIgqHw9TQ0EDt7e1ERGSz2chisZDH46FYLEZ+v5/eeOMNmjJlCkmlUiouLqZ77rmHjEYj/zy7hs8//5zy8vJIrVbT1VdfTe+99x4REVksFvJ6veTz+ejzzz+nyspKAkD/7//9P9q2bRstXryYVq5cSURENTU1tHLlSlq1ahW98847NHHiRJJIJDR8+HDavn071dfX02uvvUZFRUWUmppKM2fOpM8++4ycTicREV24cIGIiBoaGuiRRx6hPn36UGZmJq1evZoaGhqIiKiuro527txJN998M23dupUWL15Mubm5lJ6eTmvWrKGmpiYiInrsscdIJBIRAFIoFFRQUEDr168nk8lERETRaJSsVitZLBY+j7qt236vFovFKBaLUSQSIeZLAfCf2TPAnsVgMEjBYJDq6upowIABtHPnTgoGgxQKhejixYv0hz/8gZYvX06VlZX0/fffE1Gnrzhy5Aj179+fjh07Rn6/n/bs2UM5OTm0e/duuv/++yknJ4cMBgM9+OCD1NHRQUREzc3NdPToURo2bBi9//77/Hz9fj/t2rWLbrnlFsrIyKA+ffrQAw88QBcvXiSiTj8/ffp0WrZsGR0+fJhuvPFGEggEVFlZSW+99RZFo1EymUzU1tZGRERut5vMZjO53W4iIjp58iQ9+uijVFZWRkqlkq666ip67733yOfzkc1m42NXV1dHN9xwA+Xk5FBubi498MAD5HA4yOfzkdls5u9bsmQJKZVK0uv1tHr1atq4cSMtWrSIDh06RFarlTZs2EBTpkyhnTt30kMPPUQajYZyc3Np5cqV1NzcTPv376dbb72V0tPTqbS0lN58800iImptbeXnXF9fT9dffz2NGjWKJBIJLVy4kM6ePUtERD6fj86fP08LFiygFStW0IsvvkjXX389paSkUJ8+feiDDz4gr9dLa9asob59+5JerycAZDAY6Omnn6YffviBQqEQv54TJ07QzJkzSaVSEQBKTU2lyspKeuONN8jpdNLcuXNpxYoVdPjwYRo2bBiVlpbS0KFD6U9/+hOfDx6Ph9+HoUOH0lVXXUV9+/al2267jfx+PxERX3MDgQD/32azkcfjoXfffZfmz59PKpWKysvLad68edTY2EhERJcuXaJ7772Xli5dymMAos5186677qLVq1eT3W4nos615aOPPqLevXtTRkYGDR48mJ5//nnat28fERGtWrWKkpKSCAAVFRVRXl4ebdy4kc/P5uZmWr58OeXl5VHPnj3pzjvvpK+++oqi0ShZLJbf/P6ePn2aiIg+//xzEovF9OKLL9K0adNo6NCh9Mknn5DH4yGPx8PHnIhoz549lJWVRZs2baK77rqLz4PHH3+cQqEQ2e12crlcRERkNBrpxRdfpDFjxlBJSQkNGTKEPvvsMz6mra2tNGfOHFq4cCE1Nzd3GesXXniBioqKSC6X05QpU2jz5s3k9/vJ5/NRR0cHHTp0iDIyMujDDz+kV199lfr27UsymYxuvPFGMplM5Pf7+T09f/48zZo1i0pLS6lnz560YsUK2r59Ow0cOJDsdjsFg0GKRCJUV1dHDz74IJWXlxMAuvbaa2nr1q1ktVrJ5/Px8wuHw9znRaNRCofD5PP5yO12k9fr5fOd/S0QCJDP5yOfz0eBQIDC4XCX+MDv95Pf7+f3KxwOk0Ag4H8XPvroo4/F91RdvXo1Hn30UR4N+/1+XoUWiUTg9Xrx+uuv48iRI9Bqtbj77rvRr18/RCIRbN68Gbt27QIRobKyEsuWLcPRo0exf/9+jBo1Cunp6QgEAti5cydWrFiBMWPGYN26dcjIyMClS5fg9/tRWloKmUyGgwcPYuvWrfjTn/6EsrIyLFy4EHPmzEEoFMKaNWswZMgQjBw5Eu3t7XjqqacglUpx5513Qq/XIyEhAdu3b8fMmTOxaNEiLFmyBPn5+Xj22WfR3NyMGTNmYOLEiZg5cyaOHTuGO++8EytWrMCQIUMAgBcuqFQqHDlyBD179kRiYiKXk9myZQs2bdqEiooKLFu2DP3798fnn3+O8+fPQ6fTIScnB1arFR9++CE2btyIefPmYdmyZYhGo9i4cSNSU1PRu3dvKBQKnDp1Cv/2b/+GCRMmYN26dYjFYjh+/Dj27duH/Px8jB8/HsFgEHv37sWOHTvgdDoxc+ZMzJgxAy0tLdi1axd2796NpKQkzJgxA0OHDsW5c+dw4MABVFZWIjk5GTKZDEePHsXtt98OqVSKm2++Gb1798b58+dx+PBhjB8/HjqdDqdOncK6desgFApRUVGBcePGoUePHti+fTv8fj/69++PCRMmYNmyZWhqasLgwYOxYcMGTJ06lacpGJLKNAK7rdv+FYx+4lUlJCTg8ccf7+JDGWLA6EQMTaiqqoLVasXEiRNhs9lw6tQpfPfdd1i8eDGampq6SEsdO3YMVVVVuOuuuyAQCNDa2oq33noLNTU1uOqqqzBjxgz069cPn376Kdra2lBaWoqsrCycOXMGf/zjH3H99dfDYDBAKpXis88+w2uvvYasrCysXLkSWVlZOH36NN5991306tULOTk5+PLLL3H48GEcPXoUixcvxg033ICOjg6sWbMGw4cPR9++faFSqbpIM0kkEtTW1uKhhx6CSqXCVVddhTVr1uDMmTN47bXXUFJSgrKyMgQCAezduxdLly5FWVkZHnvsMRQWFmLv3r04evQoysvLkZ6ejoaGBkyePGQaQrMAACAASURBVBlyuRw33HADbrrpJsjlcrzwwgs4fPgwnnnmGSQnJ+OHH37Apk2b4PP5UFRUhFmzZkGr1WLLli0wmUzYunUr91tWqxUbNmxAbm4uysrKIBKJUFNTg3Xr1qG8vBzDhw/HddddB6PRiO3bt6O0tBQ9evSASqXCc889h+rqauj1evTp0wfTp08HEeHEiRMYMmQIxo0bhyFDhvD05saNGzFx4kTk5OQA6ETYRCIRDAYDhgwZgmnTpuHw4cPYsGED1qxZg7KyMgSDQbzwwgu4cOECamtr+foqEAhw8OBBZGdnc0WACxcuYNasWSguLsbSpUsxevRoHDt2DC+//DIqKiqg1+vhdrs559jpdEKn0+HLL7/E6tWrUVpaimXLlmHQoEE4ffo0vvrqKwwcOBC5ubnYtWsXLBYLJk2aBJFIhHA4DLPZjH//93+HXq/H2LFjIZVKcfDgQTz55JOYM2cOKioqMGzYMOzYsQNmsxnjxo1DcXEx1q1bh7q6OkQiEezevRtlZWVoamqCQqFARUUFotEoHn/8cYwcORJHjx7Fzp07kZ6ejoEDB0Iul/+m93fWrFmQSCQ4d+4cPvnkE5w8eRJlZWWYMmUKDAYDCgoKIJFIuIKDUCjE0aNH8eabb0Imk6GkpASTJk1CeXk53nnnHRiNRowePRpKpRLt7e149dVXcfDgQcyZMwdXX301UlJS8Mc//hEymQwFBQVITU3Fd999B6FQiDFjxkAul8PpdOKpp57CwYMHcffdd2Pq1KmQy+X47LPP4HQ6UVJSgtTUVJhMJmzYsAH19fVQKBS48847MW7cOHz88cc4cOAAZs+eDalUCpFIhHvvvRft7e2YMWMGbr75Zvh8Prz00kuIRCK47rrr4PP5YLPZsGXLFpw8eRITJkzAiy++CKPRiLfeegtyuRzDhw/n6Drjl1JcNoVZfOEZ45qKRKIu/+JT/gA4mkw/1cHEYjE88cQTePTRRzvf8GuIqtVqpWg0SpFIhILBIIXDYVqwYAFNmjSJTpw4wSNgo9FI48aNoxtvvJGqq6spFouR0Wik6upqys/PpxdeeIHvwG6++WZ64403KBQK8V3E9u3bSSwWU2trKxERHTt2jAQCAb311lsUCoWoqamJTp8+TYcOHaL09HQ6ePAgOZ1Ouuaaa+j222+nqqoqHn1XVVVRRUUFffjhh2S328nhcFA0GqVXXnmFpkyZwhHiL7/8kgoLCzmS6vV6yWg08mif7eqDwSDfpdbU1NCyZcvo1ltvpba2NopEIuTz+ej9998nAGSxWMhsNtNXX31FBoOBDhw4QPG2du1amjdvHjkcDnI6nTRv3jyaOXMmnT9/nr/n3LlzNGLECNq4cSP/3vnz59MVV1zBd0hOp5NaWlqorKyMZsyYwZFoIqLDhw/ToEGD6LXXXiOr1Uper5duv/12uu+++7ogGl9//TXfOTY3N9Orr75KycnJ9NRTT3GE1Ov10vr16+m6667j43HixAm65557aPbs2eTxeMjv95PRaKSmpqYuO/D4n7ut236P9muIKvufPcfsd5/PR8899xyNHTuWiIhcLhetXLmSFi9eTOFwmLZs2UI33ngjeb1ecrlcdM8999C8efOIqBPB3L17N6WkpNB//ud/ch/c2NhIS5cupaVLl5LZbCaj0Ujfffcd6XQ6qqqqIqfTSR6Ph2655RaaPXs2R16JOn1mZWUlbd++nVwuFy1atIj69etHra2t1NDQQK2trWSz2Wj+/Pm0bt067oeIiMxmMzkcDorFYnTy5EnKzc2ll19+mf/dZrPRbbfdRrfffju1tLQQEdHLL79Ms2bNopMnT/L3HT9+nIYPH07vvPMOERF98803VFRURDt27OiCsG7evJl69erFEc+3336biouLaevWrdy/OZ1OWr58OalUKtq/fz9HuIiIbrjhBpowYQL//bHHHqORI0dSa2srz6KdP3+eBg4cyK/D5XJR//796aabburiaw8ePEh6vZ62bdtGRJ0+76WXXqLJkyeTzWaj5uZm8vl85Pf7yel08vvvcrnozJkzdMUVV9DTTz/NryUQCFBJSQn36V6vl4iIjh49Sjk5OfTyyy9TMBikWCxGEydOpKVLl5LL5SK3200mk4nOnDlDgwcP5oimxWIhIiK73c4R1oULF1JFRQXZ7XY+L0+cOEGTJ0+mDRs2kMfjofvuu4/uv/9+cjqd5HK5yOv1ktPppKlTp9Jbb71FREQmk4mjgey6bDYbffHFF5SamkofffQREXUi59dffz09+OCD/HqIiJYvX07XXHMNmc1mCofDVFdXR0RETz75JI0YMYJnIX7L+7tp0yYiInr33XdJr9fTAw88QC6Xi4+by+Uin89HHo+HgsEgRaNR2rZtG+l0Otq6dSuflx6Ph5588knq3bs3HT58mOx2Ox0/fpx69epFr776Kh8bIqJFixbR8uXLqbGxkQKBAM2aNYvmzZtHkUiE3G437d27l8aOHUvbtm3rgsyuWrWKevfuTcePHycioj//+c8EgF599VVyOBzkdrspEAjQRx99ROPHj6cDBw5QNBqlzz//nHJycmjr1q0c6bTZbLR27VoqLy/nxzt8+DD16dOHPvroIwoGgxQIBOjSpUs0evRoevjhh4mIKBQKkdlsJr/fz5955v8CgQB5PB5yu93k9/u7ZBEY8hqNRvlcIepEToPBIHk8Ho7IsucoHlH9VY6qQqGAQCDgunAikQhisRjp6ekYNGgQlEolJ4YrFAoUFxcjIyODo5JpaWkoLS3FgAEDcOrUKRQWFuLNN99EQUEBxGIxsrOzEQqFkJOTA7lcjvPnz8NmsyE1NRWxWAxJSUkIhUIwGAwcuRUKhTAajZg7dy4kEgkWL16Mfv36cc7N6dOnYTQaodFokJyczLvDDB8+HEeOHMHXX38Nn8+Hvn37QqPRwGg0wmazITExEenp6TziT0lJwalTpzhXqL29HUVFRcjIyMDFixd5oZFcLsfEiRPhcDig0+kQCARw6NAhTJ8+HUOGDIHb7caFCxdARFAqlThw4AAaGhoglUrxxRdfYOHChSgsLER9fT2i0ShKS0sxfPhwdHR0QCaT4fz58/D5fJg8eTKUSiW8Xi9UKhVkMhny8vIwdOhQ5OTkwOFwwOPxYPDgwcjOzkY4HEZycjICgQBOnDiBAQMGQCqVoqOjAxaLBYMHD4ZUKkV9fT1SU1ORmZmJESNGYO7cuVwbMDExEUqlEm1tbZzfU1hYiIyMDEgkEi5Snp6eDoPBwPklLperC7el27rtX9HieVpAV93MkpISGI1G1NXVQSKR4Pjx4xg5ciSICH369EFdXR18Ph+8Xi9OnTqFkSNH8s86HA6O7LHMhVKphMFgwNmzZ6FUKjnX1Gq1wu12IykpCWfPnsXx48dx4403QqvVoq6uDgBQVlaG+++/HxMnTuQ8wIqKCohEIvTo0QOZmZlwuVywWCzw+/3Iycnh3DelUgmZTAa32w23243ExERetHXhwgUoFAqsW7cOzz//PLKysnDw4EG8/PLLGD9+PAYOHAir1Qqfz4ecnBxIpVJcvHgRbW1t2Lt3LwwGA0eirFYrIpEIDAYDtFotb6XN/OHVV1/N6xY8Hg8KCwsxdOhQXH311VCpVLDb7Whra0N5eTmKiooQDAbhdDpRXV2NGTNmQCQSQa/Xo7a2liNlZ86cQXt7O5xOJ2QyGcrKytCzZ08AnXy9gQMHIj09HZmZmYhEIjCbzTCZTPB6vQiFQsjOzoZcLueNHxhnVSqV8kKa8vJy9OrVCx0dHTCZTBg1ahQmT56MtLQ0XoiVnZ2NkpIS9OvXDxKJBCaTCU1NTRg0aBBUKhWvsSgtLUWvXr2wd+9eAD/XdCQnJ0Or1WLnzp346quv8MADDyA5OZnPjUGDBmHVqlUYM2YM52GazWZIpVJe/CIQCGA0GjlfViQSoaysDIcOHYLL5UJHRwc0Gg3Ky8thMplw9dVXAwDy8vKQkpKCQCAAt9sNk8kEh8OBr7/+Gtdffz1X9cnPz4fdbkdeXh4EAgFf937L+3vgwAEAQHp6OkwmExYsWACVSsXXLtZiXS6Xc9UOIkKPHj0wduxYnklsbW3FzJkzkZmZidraWgiFQhw6dAjDhg3DggUL0N7ezs99woQJOHr0KGw2G+e5sk5XLpcLVVVViMViuPnmm9HR0QGr1QqZTIYVK1ZAr9fj66+/hsVigVqthkajQXZ2NtRqNT9HVqhZVFQEp9OJU6dOwWAwYO7cuQgGg7BYLNBoNJgyZUqXQj923+vr6+H1eiGVSpGbm4uDBw/i/vvvR3V1NcRiMVJSUuDz+aBWq3kWKb56n/FVQ6EQ9wmshsbj8XR5jdUsxReFMh/3P6r6Z0R9+on4Go1GuxQRMUmUtLQ07jAZwZlpcAaDQVy6dAkDBgwAANTW1oKIMH/+fOh0OkilUkyYMAGJiYm8fWlraytkMhl0Oh1isRhcLhcXt25tbcX+/fvxww8/oF+/fujVqxeIiHduaWpqQigUwtSpUyGRSFBaWgqVSoUBAwbAbDajR48eAIDTp0/zlByTugqFQmhubuak6AEDBiASifBgDACmTZuGjIwM5OXlYdq0adiwYQPC4TDUajU8Hg+ys7MhEomwYcMGaDQaaLVaVFZWQiwWY+3atSgvL4fb7cann34Ko9HIJTDy8/MRCATQ2NjINQ7b29tRWloKqVSKr7/+GgKBAAqFgnfrstlsaGxshMlkQnJyMpRKJZxOJ9rb29GjRw+EQiHU1NTg+PHjmDt3LrKzszFhwgSkpqYiLS0N1dXVaGlpgVQqhdFoxI8//gi/3w+HwwGn08nF/dk4eL1exGIxnDx5ElKplDtlu90Ok8kEj8eDYDCIxMTE30VnjW7rtr/VmG4g+5l+kmLJy8uDVCrFkSNH0NzcDJfLhbKyMrjdbmRkZEAul+PChQtoaGiAw+FAeXk511RlVcdSqbSLvx0wYACICGKxGF6vFy6Xi7fjZMUmtbW1kMvliMViKCgoAAAeIGg0GvTo0YMX9Wi1Wl6kk5SUhMLCQl7YkZiYyH9mwMSYMWMwd+5cvPbaa0hISMDOnTtx8OBByGQyvtCnpaXh3LlzuO222yCRSJCbmwu1Wo2CggIcPXoUGRkZSEtLQyQSQWFhId9sM6AkJSUF0WiUB8U6nQ5+vx92u50HgiqVCtXV1fB6vYhEIjyIyszMhMViwfHjx7nPq6qqwpIlS5CZmYmcnBwUFRVBq9Vi9erVCIfDPMAxGAwQCAS8gCYtLY3L9fn9fg5u0E+V4ikpKXC5XHA4HAiFQjzgAzoLUFjhS1VVFR+XlJQUfPvtt/j+++/5/QU61yVWhNPc3IwffvgBTU1NuOWWW5CSksIVHRgQJJfLuxQmsXuYmJiI5uZmLm+WlZXFC4bKy8sxYMAAJCUlQavVwu12c9oK0Lmux2IxXmgrkUhQWVmJiooKJCcn45577sGuXbvQ2NiI5uZmyOVyuFwuuN1uPvdYASBbd1lrTVYApNFoMHDgQLS1taGmpuY3v79lZWVoa2uDWq2GwWDADz/8gGAwCIPBAJfLxbuNMfWG+KY3breb35+ioiIkJydDLpfDaDRCpVLh888/x9atWzmwo9PpkJCQgKlTp6KhoYGPhVar5QEvU9xISkriCh+BQADJyclQqVTo0aMH6urqkJKSAq1WC7vdzj/LCrEyMjJ4wKpUKmE0GvnGTqlUcqWKuro6DgqGQiGMHj0aq1atwksvvYQrrrgC8+bNw86dO+H3+5GYmIiMjAw+p+K7dbHvjm+HennDgvjXL2+4xI5zeRvVePurdFRZqz2pVMqdLrtZrILR6/Xi3LlzMBgMvD9uc3MzUlNT4XA4uHaaQqHACy+8gEOHDuHuu+/GY489Bq1Wi927d2PJkiVwu91QKBRcZ45VybKbyB70hIQELFu2DM8//zwqKytRWFgIoVAIvV7PnfLmzZuRkJCAlJQUzntwOBxQKBSIxWIYNGgQQqEQRCIRvF4v50cYDAYAndVuJpOJa4UajUakp6cjPz8fa9euxdq1a7F79268+eabuPfee7F+/XoMHDgQAwYMQH19PW666SZce+21EAgE0Ov1cLlcCAaDyMjIQFZWFnd8eXl5aGpq4hNTLpejtbUVeXl5EIvFsNvtkEgkGDt2LJKTk3klbH19PcRiMQYNGsTP2e/3QyQSQSgUor29HS6XC16vF3369MHixYuRl5fXZRfd1tbGP8sCdpVKhZSUFIRCIc6T27RpEx555BEoFArU19dj5MiROHfuHDQaDUdW443thLubAnTbv7KxoJQhF/FtArOyslBQUICLFy8iEokgNzcXer0eiYmJICL07dsXhw4dgk6n49x3IuJ60qz6nyE14XAYdXV1qKmpgdfrRXp6OmpqalBYWMiDA4VCASKCzWbjvkWlUvFKXI/Hwzl5FosFNpuNAxAajYZvYhn3Mb5ZAVM8mTlzJmbNmgWn04mHHnoIe/fuRUJCApYvX47x48ejo6MDSqUSixcvRnl5OZKSkrifF4vFkEqlaGxsRHt7O6+0ZuL5NpsNDQ0NCIVCyM/PRyQS4X41PT2dZ89CoRBKSkrQ1taGS5cucZ6ow+FAZmYmJk6ciIaGBphMJvTs2RNDhgzBHXfcAafTidTUVJw5cwa9evWCVCpFSkoKGhoaOKILgDeL8fv9yMvLg0gkQkNDAw9I1Go1zpw5g/79+3dRyPF6vUhOTuYcPoPBgJKSEohEIpjNZjidTpSWlqK0tJRXgisUCh68q1QqGAwGNDc3IxgMYu3ataioqEBjYyPy8vJgt9tx4sQJLF26FEBnhXliYiKcTif0ej169+7NM5dDhgxBc3MzD5iCwSAHaKLRKHQ6HSKRCK9TYWMeX3tQWFiI9evX46abbsLu3bvx/PPP48KFC1i2bBkWLlzIwRuJRMJRaaFQiEuXLqGjowMKhQJ2u52j1CwQLy4u5ij1b3l/W1pakJmZie+++w7hcJhLMXq9XiQlJfFYgoggl8shFouhUqm49q1AIIDP5+Pz0263w2w2w+PxoFevXlAqlbjhhhvQo0cPnDhxAhkZGcjNzUVmZiaXonI4HLzrFUMpS0tL+bGZFrPH44HD4eAyVqx7XEJCAq+WT0xM5LETa03K4hqr1YpwOIyUlBQe0CqVSg5uyWQy3HXXXZg+fTqqqqqwb98+PP3001ixYgWeffZZzJgxAwD4BobFQyxAZYE823zEI6KXB54sOGWV/WwTGi+19z9uoRqLxbpAu2wnFC80rdVqkZmZ2UWkODs7G21tbUhPT+eir7W1tTCZTJg3bx7mzJmDWCwGiUSC4uJiTtL1eDy85SALdBna2t7eDpVKhQceeABpaWkIhUK49957sXPnTuTn5yMYDCIzMxM6nY4XcHV0dPCdkVAo5PqB33//PW+dyoJXJssgEAh4EGmxWJCSksKPxRYNr9eLu+++G0uWLMGmTZuwevVq7Nu3D0Dnbru+vh7jxo2DWq1GfX09RowYAaAz4JZIJKirq8PgwYNx8OBBzJw5E2q1Gu3t7VyqgXWBYo7mzJkzCAQCPOg2GAzweDxwOp0wGo08HR+NRnnKPi0tDVlZWVxWqqKiAm1tbcjMzEQwGMSgQYN49xy9Xg+ZTIZTp05h1KhRkMvliEajMJvN6NWrF6dAyOVynDhxAklJSYhEIhCLxQiFQohEIpBKpYhGo/yh6bZu+1c2FtAwiy8wUKlUyM3NhcfjwalTp1BSUgKxWMyDyj59+uCLL75AQUEBR1iZ31WpVHzhAjplcXQ6HdLT09GnTx8uTJ6UlITTp0/zVB4Robi4GMXFxbDb7V26A7HiKI1GA7FYDIVCwUEHq9UKuVwOh8OBoUOHQqVS8QDMZDJBJBJx1EYmk8FisaC4uBjvv/8+2tracMMNN6CqqgrTpk3jbWCvuuoqXHPNNV3Gi8llabVa5Ofn4+jRo3C5XPx8FAoFDAYDJBIJR65SU1OhUCjg9XohFouh0+n4Zt9isSAjIwMymQx2ux0ajQaNjY1wu93Izc1FVlYWLBYLJk6ciKFDh8Lj8UCpVGLAgAEcxADA5buYf43fMLBClJSUFMjlcn78nj17IhwOw+v18s2EVCqFQCDgAZjFYoHZbIZQKERqaiqkUilPYbMgNRaLoampCW63u4t2eF5eHoqKiqDT6dCvXz+43W707t0bV1xxBZcoUyqViMViKCoqAhHh7NmzyMrKQn5+PtxuNwcpnE4nBAIB1z1lAVK8H6efCgNNJhNH69hmqW/fvhg6dCii0Si2bduG2267DePGjcOAAQNgs9mgUqm4FJJYLIbBYEDPnj1RW1uLGTNmIBQKobGxEYWFhaitrUV1dTXUajWi0ehven9ZlpcVPxUXF/OubcFgkMcM7Nn1+/2wWCxwOBwIBoOw2Wy8zbvVakVTUxMefvhhhMNhXshUXl4Og8GAQYMG8bWRrdfsuWMt4iORCOrr65GWlgar1cozCFarFYmJibBYLMjOzobX60VaWhrsdjvUajUH81hrZZbtYPGaWq1GLBbjWWEmMapWq3HkyBFMmjQJwWAQJpMJGRkZyMjIwNChQ2G1WvHII4/g22+/xbBhw2AwGCCXy+H1evlGgqGkrEUu8HNgymLEy+kBzBgizQJrthG8PFD91dQ/42jY7XbudJmTlEgkCAaDSE5O5rt0r9fLA5pQKIT09HS4XC6+K2KcS4b8SSQSeL1enD9/HkTEHy65XM7TDsnJydwpZmVlwe12w2KxQKlUYu7cuSgqKsLq1athtVpBRLjyyisRDoexdetWhEIhpKamQiKRwGazob6+nlcxMufBeJVmsxkqlYpX58pkMhARnwSMXzNjxgxe2cqQ2MGDB8NgMMDv9yMcDmPMmDH49NNP8fnnn8Nms3Hdtfr6ephMJrhcLqSnp0MikeD8+fOQyWTo6OhAeno6FAoF/vznP0MoFEIqlXLkWqFQcD4LSz2o1Wq+y3K5XDw16HA4+CRQKpVYtGgRdu3ahe+//x6ZmZl84frmm294WsPtdsNms3GnBnRq/rGGCyyIT0xMhFwuh81m452rYrEY55lIpVJIpdIumoPd1m3/isaeYWYMZWCvjR07Fps3b8Ynn3yCq666CgB4IDps2DCcPXsWmzZtwvjx4yGRSODz+SAWi2E2m5GQkMAzGeFwGEQEh8MBk8kEiUQCIuIbe7VaDYvFgqKiIkyYMAH33HMP71AlEolQV1eHyZMn46uvvsKFCxeg1Wo53YotxgKBAFqtFm1tbQB+1mfU6/Wcl/7HP/4RY8eORUNDA+dkZmZm8qwR0OmPpk6dim3btsHv98NsNvMF7eTJkxwtLi8vx8mTJ3Hx4kWeygSATz75BB6Ph4uG+3w+2O12ZGZmwmAwwGQyISEhgQf9jBohFov5esU4cmKxGIMHD8b+/ftx+PBhzvX0eDxoaWnB+fPnAfzcYcfj8UChUHBUKRAI8PWBCcD36NEDtbW1ADoXXI1Gw5s3MNpAMBiEWCzmgAfjfUokEng8Hk69YFSq1NRUCAQC7pdzc3MxevRo3krc7/dDpVLB5XLh4MGDPA3MUDWHw4GEhAQMHz4cvXv3xksvvQSVSsWP197ejpkzZ/Kq/szMTJw5cwYul4vTRJg2rEKhgMvlQnNzMwYOHIgdO3YgMTGRo3r9+/fHqFGjuKaqXC7n6X/WRrWtrQ3jxo3DoUOH4HA4IJFI+Djt2rWLo7+/9f31+XwIBoP83rFuYYFAoAvowmgrLC4xm804dOgQp0BGo1Hs2bMHhYWFSExMhFAoxKhRo3Dq1Cns27ePn6NQKERbWxucTifcbjesVisyMzMhFArR0tKCxMRELF++HF9++SVOnDjBnwuFQoHnn38eRUVFKC0thUgkglQq5Zq7bK1lfFZGufR6vZg9ezZ27tzJ+bgulwsZGRn4/vvvYTKZUFJSAp/Ph5dffhn/9m//htOnT4OIoNVqUVhYyJWU2AaL0RzZRi4eLb08tc/GLp4WwOINBl6y911OCYi3X0VUmWNVq9UQCATweDwwm808gGURsMlk4vC33+/nSKXJZIJCoUBJSQm0Wi0CgQBGjRqFI0eO4LHHHsOYMWOwc+dOfPDBBwgEAsjKykIoFML58+c5N5XtLIFOArtAIOBciUAggCVLlmD+/PnYvXs3FixYgHA4jD/84Q9cImbgwIHw+/348MMPEY1Gceedd2LIkCGIRqMoLi7G7t27AXSSnIHO9INOp+MFAiw1lZSUhOTkZIwcORIffvghFi9ejJtvvhlVVVU4duwYxGIxCgoKkJKSgj59+mDp0qVYtWoVZs+ejSuuuAJnz57F/v37oVQqMWfOHFx55ZV48cUXMWvWLMyfPx+zZ8/GyZMn8e2336KhoQF6vR5CoZAXG7AGBMnJyXyxike72cPmdruh0+lgNptht9thMBhQVlaG/fv3Y/PmzbjpppvQ0dGBY8eOYf/+/Vi9ejUmTZrERcDZbo2Nv8fjgUAg4Gl8r9eLAQMG4MMPP8Sf//xn9O/fnxfD+Xw+XmDGnEK3dVu3/bKxglOdToeUlBSoVCq+wObm5kKn08HlcnEwgPlchULBO+QA4ItJLBbjEjdarRYGgwFutxuhUIjTeYYNGwar1YqpU6fitttuw4kTJ3DixAlIpVIMGjSIL7YCgQASiYSjruFwuMviotVqUVNTg+LiYp5J69+/P7744gts3rwZe/bswYABA1BVVYWamhrMnTsXANCrVy+MHj0aixYtwu23347JkycjPT0d+/btwwcffIDHH38c1157LcaOHYvKykpMmjQJTz31FDIyMvDjjz/i3XffRUFBAVpaWlBQUIBQKASXy4WamhqUlZVBr9cjEonwxikswGXZOuDnwNPtduO6667Dpk2b8NBDD2H+/PkoLS3Fe++9h/fffx9PP/00evbsCZ/Pxxd/ABxVYt11HA4HtzbAiAAAG+pJREFUbDYbJBIJMjMzkZqaihdeeAFXXHEFevXqBZ1OB61W2yXwYPzDjo4O1NTUcEqXUqnkqDZDxt1uN6c+RKNRpKSkYNKkSZg2bRqUSiWXi9qzZw9+/PFHLFmyBH/4wx/g8/k4usbAnSlTpmD79u2YOHEi1q5di0uXLmHjxo3IzMzkEo3Tpk3Dli1b8PTTT2PUqFFwOBx47bXXcPjwYdx3333Q6XTweDyYM2cOnnnmGRw4cADXX389lEolXnzxRbS3t+Pqq6+G3W7n3dg+/PBDvP3226ioqEDfvn0hFArxwQcfYPbs2bjllluQkZGBl156CRaLBQ8//DBHcn/L+7t+/Xpe48LiE7bu2+12ZGRkIBKJIBqNcoSPoadvv/02iAi9e/fGrl278Pbbb2PhwoW8C9yQIUPQs2dPvPfee7hw4QImTpyI1tZWbNmyBaWlpXjllVcQCoVw7tw5JCUl8SxnXl4ehg0bhieeeAIrVqyAVCrFsWPH8NFHH6Fv377o168fZDIZnwtZWVlQKBTw+/1ISkrihcx6vR7JyclobW3tIjdVVFSEU6dO4aWXXoJOp4NIJEJiYiJGjhyJTz/9FC+++CKKioowZswYbNy4EU1NTbj22mt5HQ+L7zwez/9Zm99fRVSdTidcLleX7iCZmZkoLCyEzWbjsHg4HMbw4cNRVFTEd2+MeC4UCtHR0YGWlhYoFAo8/PDDUKvV2LZtG9eee+211zBixAh8+eWXkEgkKCkp4dwuj8eDUCjEnURFRQXvW63X6zFo0CBUVlZi/fr1OHHiBHr27Il7770XX3zxBT7++GOMHz8eixYtQmFhIR5++GH06dMHsVgMPXv2xPTp03HgwAE89thjOHv2LIgIWVlZkMlkuHDhAt8tM35STk4Obr31VkyYMAFerxfDhg3DK6+8gh49euCRRx5BamoqT88vXboU06ZNwyeffIKJEydi69atmDZtGl5//XVceeWVMJlMSEtLw8qVK3HkyBHMmjULZ8+exZ133ompU6dylNnv9yM/P5+nkhh6wvhpYrGYdxRhDikvLw9Op5M/XHPnzsWWLVsQDodRWVmJu+66C6FQCM8++yxGjx7N+TD5+fn8wWdBMaNhsN2jRqPBNddcA6FQiNtvvx0vv/wy77rBKBqMW9Zt3dZt/7VlZ2fj2muvxfjx45Gamgrg5wyPWq1GaWkp+vXrh549e4KIeIEI62jDkExWOatQKNCnTx84nU5egJKbm8v9tMvlwsCBA7Fw4UKkpaVhwYIF+PLLLzF8+HA899xzKCwshNls5ogoC5DYsbKzs6HX63k3n+LiYng8Hvz4449wOp2orKzEq6++yqv7V65cidOnT+OOO+7ArbfeitbWVjQ2NmL69On44YcfEAgEMH/+fFRUVCAcDnMNUIY8btu2DatWrcK6deuwZMkSOJ1OrFy5EkajEXq9Hk6nEykpKVyP0263IxAIwGg0onfv3ry4hqFLJpMJUqmUp01VKhXGjh2LVatWITU1FQ8++CBuuOEGtLW1Yf369bjyyiu5jnhOTg5EIhGcTievhj9z5gwUCgU0Gg3nehYXF6O0tBQ7duzgPMloNIpwONwluygUCnH//ffj3XffxYIFC2A2m1FUVAQA+P7773mnH4ac9+/fn9dgSCQSjBs3DmfPnoXL5cLkyZMxa9YsiMViPPLIIxg7diyAn5EpVvglk8lw44034o477kBBQQEGDBiAZ555BsOHD8e2bdvQu3dvXLhwAf3798fKlSvxwQcfYMGCBXjnnXdw3XXXYfXq1dDr9TCZTOjRowfmz5+Pxx57DBqNBrfffjuuv/56lJWV4YMPPoBEIuHtMysrKxGLxbBq1So8/vjjsFgs6NWrFz777DMkJSVhwYIFmDlzJtrb2zF//nxMnDiRV+3/lvd38uTJ6NmzJxISEtCjRw+cO3cOTqcTKpWKp+ZZllAoFMLv9yM7OxuzZs3CzTffjI8++ggTJ07EN998g2XLlnEtVwDQ6XR44403cMstt+Cbb77BpEmT8Oabb2LWrFlYtGgRLBYLLBYLcnNzUVBQwDc8qampeOKJJzBr1izcd999mD9/Pr7//ns88sgj2LRpE7RaLSwWCy82b21t5Sl/tqlMT0/H2bNn0dDQgN69e+Pdd99FWVkZnnzySSxbtgxisRjvvPMOJBIJ59UOHToU69atQ3Z2Nl555RUMGzYMOp0Ot9xyC+bMmcOpR0zFgnVT+z+xX9NRZZqjRJ0ab06nkzo6Oqi9vb2LLpzdbqcff/yRjEYj1z9jVlNTQ8FgkFwuF+9owboVtLe3cx0upulG1KkzGK/DxSwajXbRl3M4HFybb//+/fx99fX1/Of29nZyOBxdjhMIBLpolFmtVjKZTDR+/HhSKpUkk8lILpcTAAJAOp2ORowYQceOHetyjuwYsViMzGYzuVwu8ng8vDtV/Hmz8bPZbLxbCNMajdepbWpqojvuuIPWrVvHP3/p0iWu7cbuD/sO9j+7plAo1KWLhMVi+cXrZ/eCWWtrK1VXV/Pf/X4/RaNRstlsdOnSJf4601Bsbm7m3WnijWmwxZ9Dt3Xb79F+TUf118zn81F9fT3V1dVxDUF2XPb8MG1pIurij202G0WjUfL5fNyPWCwWOnfuXJfvZ93n4j9L1Pl8t7W1kc1mo1AoRH6/n/sYpjfJfDDrKtPS0sK71Pl8vi6+PhgMktfrJavVSlVVVRQOh8lkMlEgEKDW1lZ+rHA4TOFwmFpaWvj5x+tgMj1GIuI6221tbeT1eslkMtHevXtp0KBBVF1dzbUjz5071+UaPR4PX18uN5vNxjVkA4EAVVdXc38cCoW43igzdi7t7e1c+5J1QGTnePlaFQwG6ccff6SGhgbeRcrv9/PvYe+xWCwUCATIYrHwzobxmrGhUIgf+/jx42QymbiOKjOmZxl/XHZfvF4v1/8MBAJdvp/5/0uXLvG5Fz8HI5EIhcNhvkYTdeqKtrS0cP1wok49VXafwuEwHy+2JsZb/Lpgt9v5371eb5f1iL3nt76/7DixWKzLWtbY2Eitra0UjUb59YRCIfJ4PGQ2m/kzwMYv3tg1mUwm/uyx62X3mBkb1x9//JFisRg5nc4u94j5FqLOdd/tdne5F21tbV3uGTP2HDPr6Ojg86i2tpbcbjc988wzNGLECDIajXxes85X7Dvi9ZKZzuvlXaT+FmPXxr4v3kd07rM6LSEWi1FCQgJHvxhZn0lRxXcQ8Pl8nKMBgKc+GAk4nnjOUIGmpia+2wQ6UbpYLAaZTAan08lf7+jogEQi4bwTVpgTCATg8/kQi8WgVCp5OsrtdnOpplgsxikKkUgEdrsdqampCAaDICK+y7BarV0qDOMr5egnXsqhQ4eQlJQEv9/PZSFY1aPf78fo0aMhkUiQkJCAjo4OqFQqnvJmRWbAzz2iWeUkuy72NzZex44dg06nQ35+PhobG1FSUoI9e/Zg/vz5ePbZZzF9+vS/SKEznlQkEoHFYoFcLu+yu4lGo5ysz/i+ADgRnBHo2RgEAgGO5rDPU5z2I3uNVUJebkz1gXGQf+k93dZtv0ejuF7e8TyseErOX2uMX858MKuiZ/xDmUzGlVNYxoLVCTCq1eXG/IzX60VzczNKSkrg9Xo5lUilUnEent1u55qWQCedi6GErAD08mtnskMymQwmk6lL9XVycjLnt8aPEdNYZKla5t/Onj0Lg8HA/UdHRwf27duHMWPG8OMCwKRJk6BQKLBjxw7u95mMFDt3lsIFOtctxvuMVyeJr6VgPzc1NUEqlUKv18PhcECtVqOtrQ1ZWVldrp0V2rDMYTAY5Jkolr6P16hk6wvTIWfn9UsFp62trUhOTuY1Cayamt0nNuasWyIzVi8hk8ngcDhAREhNTUV7ezsv1mLnzuo/GEJvMBi6dK9qaGhAbm4u/H4/Xz8sFgtcLhfy8/P5Pfb7/cjIyOC1E/HXw+59a2srL4yORCJ/MY/YdbExYXJQLpeLz53f6v4mJyfzZ4wVMcpksi7HdzgckMlknDfMzicYDPK529HRgWAwCL1ez3nG7G+sdken0/HxiUajPP5hCj2s0MnpdHJeciQS4UpLTMs+ngaZlpbG61GcTicAIDU1tcvcCwQCeP311zF37lzI5XIEg0FIpVKsW7cOe/fuxb59+/i1sphCo9FwXrhcLudxWHz6n36SBP1bjN17iuvgx+hNTAoMAH41UGX8DBa4xGIxnoJnBQFSqZRXCQKdDwKTG2ATpLm5mfMe2YPMgjkm9cAGyuv1IhqNclFk+knDNd6Y02MapCaTCfn5+XA6nZzwbTKZoNfr0dTUBIlEwicCc/JsEjD5BzZYjIsklUr5JPX7/dBoNHC5XLzaPd5JMGOcToVC0UWaiclqMGkvNt67d+/G3Llz8cILL6C4uBi1tbV4/fXXkZubi40bN3LiMdC1ko6dLwtQ2URiciDx393e3o5YLIbMzEwAncEp06uNN8aFlUqlvCViW1sbUlJS+IPAUgwdHR0oLi7u4sjiLRAI8DHrtm77vdrfGqiGw2EewDCVDZ/P9xeqGVarFQqFAmazuctGkwVI9FMzEQYmWK1WJCcnIxwOcx/6S+fDvp8VyCqVSrS2tvLAzGw2cy1rlooOhUJckzEQCCAcDvPPM25rR0cHkpOTuc4o8+HMfyQkJMDr9XIfGr8ZZ3qZIpEId999N8LhMKZMmYLU1FR89NFH+Pjjj/HGG2+gX79+UCqVfGFjxR1yuZxrUYpEIl4gE6/RyFLqLEBwOp2IRCLQ6XQAfgZb4tdGj8fDN/XsWBaLhReaMYtEIjy4tdvtUCqVfBxYe2l2XLYYExEfR7Zgt7a2Ijs7mxer0k8SSawOQK1Ww+VydQGK4n0xC7YuB1HYXIj33axZDmvUwAryWEOc+OYDTOaRrR+MHxl/rEgk8ouABWvEw3SAA4EAD+IAcKkmBlKxMfqt7q/ZbEZaWhq/L3a7HSkpKYhEIlwPnK2JIpEIPp+PU24cDgdSUlIgFAphsVi4QgabF0wYP/45drvdnE7o9/u5/Jvf7+fPHIsxWBDndrsRiUS4njA7plwu5zEO8wXsnjCVALlcjkOHDuHZZ59FQUEBioqKeL3Khg0bsGPHDlRWVqK9vR3Jycn8XNmcY/OKPfvs+PGbi7/F/tcC1V86GVbgpNVqufZYNBpFUlISv0Eej4cL9+fk5PBJFIvFYDabodfruyCh0WiUV72xnZ/VauW7SYVCAZ/PByLi2nBMHoRdZCwWQ0NDA5epujwQA4CGhgYuw8EGyOv1cjkqtquKn+wA+AAyeSqG+AKdzlwikXD5EiZEDfw8MYVCIXw+Hw+smW4hAGzduhXHjh3D5s2bkZeXh3vuuYc7ZubA2Tiz3VT8JGZBJ9shst0tkxC5vK8u0PmQMHSGPSiXB5xsDH8JsYlEIggEAkhMTOSbD1b1z8jZ3dZtv3f7WwNVxsNjcnKs8w0LWl0u1y9u9iwWCy9+jA9UmJ9ifudyPUWr1dpF0YQ1A3C73dBoNNz/seAm3ifES23RT4VdAP4iSGGcTqYIYjabodVq+YLOePXMmL9lsnnM93o8HtTU1KCxsREPPfQQwuEw+vbti+XLl6OgoADp6el/sUYxP8QQIpfLBYVCwZFIhgKz+gcGiLhcLiQkJEClUsFkMsFqtaJXr15c8uhyi0ajXIPa5XLxbkaRSIQjxWq1mvvY/8rMZnOXbJbL5eKqKex7GNrNNi/MH7MiKYlEwv93Op1oa2tDXl5elywY0zFnhXjsfjFUjvEyWRdKsVjM5zQLjGw2GxISEqDRaP5i4xMOh/nfWVE1m5sej4cjqWzusXNhgApTUbg8e/hb31+2ZjLwiinpsO5KADiaCoAj1WxOuN1u3vc+HA7j1Kn/3969/LZRtWEAf3wZ3+3USRpHFBEJVWoJlbpBVAJV7JCQkGAHiCLRDRJiy/9QUMUCxKIrJBaILtiwYIVAQrD/xFUoimiDkyaW47Fn7BmP53a+RXhPxrl85Cs4TtPnJ0VxEns848vxyZnnvOc/ekKa9IU6nY4ujymDQTLTH8C+M8tRFOlJXM1mU9dxD4IAnU5HD7i12219VkQ+z6Vf5Ps+qtWqHtUOggA3btzArVu3kM1m8cwzz+CNN97A1atX9T8U8nxLhYZarab/oZLJZFKGUvLOBw3W/T+O2lH924yqZBujKBrLPUjuRamdfIlkDWSNeMlZxHGstyE5CNmeZD/2ZoLu3bs3lrmRy5JPkWxEFEWq2+3qtZSTt0luc2tra19mQ6nd7JGswSvk5yAIVBiGqtVqjR2H5Ch6vZ7yfX8s/5LM2kq+RtazTWZwldrJmEg+JplplWxoHMc6i5u8/4OyP0rt5kk8z9O3k30LgkBZlqVc19VZWHkMfd8fy9L0+32d/QnDUNm2rTNka2tr+rFN5l7ltZD8+aCMMdFp8k8zqsn3TRRFY+3W5ubmWB5d3qPtdlv/Xtowyb5JOyxtjfzsuu5Ynk/aUrk/yQRKu55sLyV3L/cl209uQy7LuvNJkr9P3t6yLL2Pkk2Uv0u+UNqo1dVV/XgmHx+5T9d1x9pJudzv9/U29t6/zJFQarz9b7fbB7Zbst59FEXKtu2x9vrnn38eu72Q/ZC2t9vt6n32fV/fr2maqtPpKMdx9GOSzPcmj1WOcTQajf3u119/3bcPydfWcDjU+yM/y+ORPBbHcVS/39evm73HJORzXqnd50QeGyHHl3xvSHZ2dXVVX29vNlWuk8xHT+r5DYJAxXE89rrq9Xr6PmQNe8mDJyX7A6PRSL/ue73e2HOQnKuR3Bc5bnne5fNZyGvBsiy9bckGJ7PLkhlVave9I5eTn/PSRiTfr/KYxnGsNjc39f3HcawGg4GK4/jQz/FklvZ+/WsZ1X9jeJeI6DRSRxhRlVqmUvqtWCwinU7r2eMy0iT6/T6UUqjVanp0SM5aqL9OcSbzckRED6Kjjqj+bXkqIiK6P6Zp6hXf5NRcsjZ1GIY60/nHH38AgJ7gBEBHaeQ0fKlUQj6f1yseERGddv8sYEBERIdK5jU9z0O5XIZlWTBNE0tLSzr7trCwMDYZQ9YbT66MIyO0mUxmbOlTIqLTjB1VIqIJkVJSjuPo0i4y4SGdTusJpzMzM6hUKmg2mwiCAEtLS2OlaGQGrnR61V8zxfdWQyEiOm3YUSUimiDbtvXIqVTSMAwDGxsbyOfzmJ2d1bOwk6WnZH1xWaZabiekbjER0WnGf8eJiCZIRkuloDqwM0L61Vdf4e2339aTou7evatvs7GxAWCnNE6lUtHlpKQUoPyNiOi0Y0eViGhCer2ePj1vGIbOof7000+4e/cuLMvCysoKAOhC4MDuYiqtVkvXSM3lcroepuM4uqYpEdFpxo4qEdGESCFv0zRh2zb6/T5u3bqFV155Be+//z6+/vprXLlyBR988IFeNWdlZQWffPIJZmdncfHiRVy/fh3ffvstRqORnkhlGAbzqUT0UGAdVSKi+3SUOqqyapAsoywTo9577z2srKzgzTffxPPPP49UKoW1tTW89dZbqFQquHbtGubn53H79m188cUX+PLLL3H58uV9S1YSET2IjlpHlZOpiIgmSBpbWRpUSk3lcjnYto0XXngBwM6SiJ9++ikGgwE+/PBDLC8vIwgCnD9/HrOzs/j444/x0UcfAdhZFCCKon1LThIRnTY8d0RENEF6dZV0Wn8ZhgHDMNDr9RCGIVqtFlzXxfr6Ol5++WUsLy9jMBhAKYVz587h6tWr+O6777CxsYFyuYzFxUV2UonoocCOKhHRMZPOa6PRQLvd1qtX/fjjj3jssceglEKlUkEul0MYhmg0GlhaWsJvv/2mt2Hb9rR2n4jo2LCjSkQ0QZJVlSL9cRwjiiIEQTA2B2A4HMJ1XbiuC8/zprW7REQnCjuqREQTJB1VYHckVb53Oh0sLi7i3r178H0fly9fxvr6OorFIizLgu/7yGazaLVaWFtbw/Lyst5WrVY73gMhIpoCdlSJiCYoOZlqb0ZVVp165JFHcObMGTzxxBP45ptvsLq6ipmZGaRSKWxsbOD777/Hc889h3PnzsFxHGxtbWEwGEzzsIiIjgVn/RMRTVByMpWQWf/NZhM3b97Eq6++inq9jmvXruGHH37Au+++i9deew2Li4tj5amKxSLK5TLS6TTLUxHRQ4F1VImI7tNR6qgmr5v8AoDXX38dd+7cwZUrV/DOO+/g4sWL+P333/HZZ5/h888/R6fTwYsvvojr16/j2WefRT6fh+/7AIBcLne8B0tE9C86ah1VdlSJiO7TUTuqyWxqsqPa7XbheR4ajYbueI5GI71saq/Xw9zcHLLZnZNfURTBcRxkMhkUi0WuTkVEDywW/CciOgH2TqACdidYnT17FgAQBIHugEZRhFwuB8Mw0Gg0AABhGCKOYwBAuVzmAAIRPTTYUSUimpD/1UkFgMFggHK5DMuyoJTSHdfBYADHcVAoFPSEq3w+D8Mw9G09z0OhUDiOwyAimhp2VImIJiTZQU2SzupoNEKlUsH8/LzOngJAoVDQp/uBnWhBGIa69qpMxiIiOu3YUSUimpCDRlKT36Mo0vmsOI5h2zaCIEA6nUatVtNxAOmcynWz2ey+yVpERKcRO6pERBOSrKF60PeFhQV9nUKhMHYq33EclEqlsZFV2abneYiiCOVyeeLHQEQ0TeyoEhEdo70jodvb26hUKigWizBNE0op1Ot1ZLNZpNNpPZFKRl9lwQDmU4noYZBSSimZTRoEAQqFwlgJFZY/ISI6nG3b8DwPCwsLAKBP0buui1KpNOW9IyI6mXzfRy6Xw3A4RKFQ0BNEpcyfXizFsiw0m01dA/DChQswTROpVAqtVmvKh0FEdLIVCgXdSd3e3saTTz4JYGeWPhERHUzOFOVyOSil0O/34boulFJjJfhS6q8ua6vVQqPRQCqV0gWnORpARHQ4yYrKafg///wTTz/9NO7cuQOlFKrV6pT3kIjoZIqiCMPhUJfe6/f7us1Mjqimtre31ZkzZ5DJZOA4Dh5//HGsrq7qK8uKVURENO6gwvvJBpbtJxHRwTKZDEzTRC6XQ6lU0iOptm1jZmZmd2WqarWKTCaD0WiETCaDdDqNUqkEy7KQTqc5q5SI6BCmaQLYyfdns1nMzc2hXq8jjmN0u13U6/Up7yER0clVKBSQz+d1DEDmRT311FP6OtkwDNFsNuF5Hl566SVsbW0hm83i0qVL+OWXXziZiojoEPPz8zBNE9VqFd1uF+VyGY7jYGFhAaPRCK7rTnsXiYhOJJnIX6vV0O/39Qjqo48+ivX1dX29VBAESur0eZ6HIAh0Y8vyJ0REhzMMA51OB3Nzc9je3kapVEKpVMJoNEIcx/tqoBIR0Y5Op4N6vY58Pq+rpBy0NHR2OByiWq1ic3MTjUZDX6HVauH8+fPT2HciogeC7/s6p1oul1EsFtFut3H27FkMh0MYhjHlPSQiOpkWFxf15TAMAQDD4RC+76NSqegz+nrWPxERERHRScIAKhERERGdSOyoEhEREdGJ9F/dj3I0g35H5gAAAABJRU5ErkJggg==)\n",
        "![image.png](data:image/png;base64,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)"
      ],
      "metadata": {
        "id": "FPgEpT5n_fDz"
      }
    },
    {
      "cell_type": "markdown",
      "source": [
        "### Check Unique Values for each variable."
      ],
      "metadata": {
        "id": "u3PMJOP6ngxN"
      }
    },
    {
      "cell_type": "code",
      "source": [
        "# Check Unique Values for each variable.\n",
        "\n",
        "hotel_booking_analysis_df.apply(lambda column: column.unique())"
      ],
      "metadata": {
        "id": "zms12Yq5n-jE",
        "colab": {
          "base_uri": "https://localhost:8080/"
        },
        "outputId": "5ba8770f-c6bd-420e-8b3b-4e57e300de56"
      },
      "execution_count": 19,
      "outputs": [
        {
          "output_type": "execute_result",
          "data": {
            "text/plain": [
              "hotel                                                    [Resort Hotel, City Hotel]\n",
              "is_canceled                                                                  [0, 1]\n",
              "lead_time                         [342, 737, 7, 13, 14, 0, 9, 85, 75, 23, 35, 68...\n",
              "arrival_date_year                                                [2015, 2016, 2017]\n",
              "arrival_date_month                [July, August, September, October, November, D...\n",
              "arrival_date_week_number          [27, 28, 29, 30, 31, 32, 33, 34, 35, 36, 37, 3...\n",
              "arrival_date_day_of_month         [1, 2, 3, 4, 5, 6, 7, 8, 9, 10, 11, 12, 13, 14...\n",
              "stays_in_weekend_nights           [0, 1, 2, 4, 3, 6, 13, 8, 5, 7, 12, 9, 16, 18,...\n",
              "stays_in_week_nights              [0, 1, 2, 3, 4, 5, 10, 11, 8, 6, 7, 15, 9, 12,...\n",
              "adults                            [2, 1, 3, 4, 40, 26, 50, 27, 55, 0, 20, 6, 5, 10]\n",
              "children                                            [0.0, 1.0, 2.0, 10.0, 3.0, nan]\n",
              "babies                                                             [0, 1, 2, 10, 9]\n",
              "meal                                                    [BB, FB, HB, SC, Undefined]\n",
              "country                           [PRT, GBR, USA, ESP, IRL, FRA, nan, ROU, NOR, ...\n",
              "market_segment                    [Direct, Corporate, Online TA, Offline TA/TO, ...\n",
              "distribution_channel                     [Direct, Corporate, TA/TO, Undefined, GDS]\n",
              "is_repeated_guest                                                            [0, 1]\n",
              "previous_cancellations            [0, 1, 2, 3, 26, 25, 14, 4, 24, 19, 5, 21, 6, ...\n",
              "previous_bookings_not_canceled    [0, 1, 2, 3, 4, 5, 6, 7, 8, 9, 10, 11, 12, 13,...\n",
              "reserved_room_type                                   [C, A, D, E, G, F, H, L, P, B]\n",
              "assigned_room_type                             [C, A, D, E, G, F, I, B, H, P, L, K]\n",
              "booking_changes                   [3, 4, 0, 1, 2, 5, 17, 6, 8, 7, 10, 16, 9, 13,...\n",
              "deposit_type                                   [No Deposit, Refundable, Non Refund]\n",
              "agent                             [nan, 304.0, 240.0, 303.0, 15.0, 241.0, 8.0, 2...\n",
              "company                           [nan, 110.0, 113.0, 270.0, 178.0, 240.0, 154.0...\n",
              "days_in_waiting_list              [0, 50, 47, 65, 122, 75, 101, 150, 125, 14, 60...\n",
              "customer_type                         [Transient, Contract, Transient-Party, Group]\n",
              "adr                               [0.0, 75.0, 98.0, 107.0, 103.0, 82.0, 105.5, 1...\n",
              "required_car_parking_spaces                                         [0, 1, 2, 8, 3]\n",
              "total_of_special_requests                                        [0, 1, 3, 2, 4, 5]\n",
              "reservation_status                                   [Check-Out, Canceled, No-Show]\n",
              "reservation_status_date           [2015-07-01, 2015-07-02, 2015-07-03, 2015-05-0...\n",
              "dtype: object"
            ]
          },
          "metadata": {},
          "execution_count": 19
        }
      ]
    },
    {
      "cell_type": "markdown",
      "source": [
        "## 3. ***Data Wrangling***"
      ],
      "metadata": {
        "id": "dauF4eBmngu3"
      }
    },
    {
      "cell_type": "markdown",
      "source": [
        "### Data Wrangling Code"
      ],
      "metadata": {
        "id": "bKJF3rekwFvQ"
      }
    },
    {
      "cell_type": "code",
      "source": [
        "# Write your code to make your dataset analysis ready.\n",
        "\n",
        "# missing value data \n",
        "missing_values[:4]\n"
      ],
      "metadata": {
        "id": "wk-9a2fpoLcV",
        "colab": {
          "base_uri": "https://localhost:8080/"
        },
        "outputId": "8d1566cd-bac7-49dc-a6e6-e5a4681a070d"
      },
      "execution_count": 20,
      "outputs": [
        {
          "output_type": "execute_result",
          "data": {
            "text/plain": [
              "company     82137\n",
              "agent       12193\n",
              "country       452\n",
              "children        4\n",
              "dtype: int64"
            ]
          },
          "metadata": {},
          "execution_count": 20
        }
      ]
    },
    {
      "cell_type": "code",
      "source": [
        "percent_of_company_null_value = missing_values[0] / unique_count_of_rows * 100\n",
        "percent_of_company_null_value "
      ],
      "metadata": {
        "colab": {
          "base_uri": "https://localhost:8080/"
        },
        "id": "YDckF-9dhwb6",
        "outputId": "f0d1f1c5-fd45-438f-ce4a-f8adf692d36d"
      },
      "execution_count": 21,
      "outputs": [
        {
          "output_type": "execute_result",
          "data": {
            "text/plain": [
              "93.98256213098998"
            ]
          },
          "metadata": {},
          "execution_count": 21
        }
      ]
    },
    {
      "cell_type": "code",
      "source": [
        "percent_of_agent_null_value = missing_values[1] / unique_count_of_rows * 100\n",
        "percent_of_agent_null_value "
      ],
      "metadata": {
        "colab": {
          "base_uri": "https://localhost:8080/"
        },
        "id": "0pmGKZRjhwTF",
        "outputId": "abcff6f8-6bfe-4f83-eb3d-4a421d8bd79c"
      },
      "execution_count": 22,
      "outputs": [
        {
          "output_type": "execute_result",
          "data": {
            "text/plain": [
              "13.951439425145315"
            ]
          },
          "metadata": {},
          "execution_count": 22
        }
      ]
    },
    {
      "cell_type": "code",
      "source": [
        "percent_of_children_null_value = missing_values[2] / unique_count_of_rows * 100\n",
        "percent_of_children_null_value "
      ],
      "metadata": {
        "colab": {
          "base_uri": "https://localhost:8080/"
        },
        "id": "oxO1H7-6hwIU",
        "outputId": "f7e7ffe2-c702-4ddb-90a1-57fd9c90625e"
      },
      "execution_count": 23,
      "outputs": [
        {
          "output_type": "execute_result",
          "data": {
            "text/plain": [
              "0.5171861412421621"
            ]
          },
          "metadata": {},
          "execution_count": 23
        }
      ]
    },
    {
      "cell_type": "code",
      "source": [
        "percent_of_country_null_value = missing_values[3] / unique_count_of_rows * 100\n",
        "percent_of_country_null_value "
      ],
      "metadata": {
        "colab": {
          "base_uri": "https://localhost:8080/"
        },
        "id": "z54J5O5ihv_j",
        "outputId": "4e0c086c-dd6a-40e2-d8b9-ca89bcf2943c"
      },
      "execution_count": 24,
      "outputs": [
        {
          "output_type": "execute_result",
          "data": {
            "text/plain": [
              "0.004576868506567806"
            ]
          },
          "metadata": {},
          "execution_count": 24
        }
      ]
    },
    {
      "cell_type": "code",
      "source": [
        "# we have less null value in country column so we will replace it by 'other'\n",
        "\n",
        "# Replacing null values of company, agent and children columns with value 0 and country column as other\n",
        "hotel_booking_analysis_df[['company', 'agent', 'children']] = hotel_booking_analysis_df[['company', 'agent', 'children']].fillna(0)\n",
        "hotel_booking_analysis_df[['country']] = hotel_booking_analysis_df[['country']].fillna('other')"
      ],
      "metadata": {
        "id": "KVHBFwRHWvy_"
      },
      "execution_count": 25,
      "outputs": []
    },
    {
      "cell_type": "code",
      "source": [
        "# now checking that database has any null or not\n",
        "hotel_booking_analysis_df.isnull().sum()"
      ],
      "metadata": {
        "colab": {
          "base_uri": "https://localhost:8080/"
        },
        "id": "fN-U7YU9hPY2",
        "outputId": "5a209a93-e44c-4337-83f8-ea0222fed373"
      },
      "execution_count": 26,
      "outputs": [
        {
          "output_type": "execute_result",
          "data": {
            "text/plain": [
              "hotel                             0\n",
              "is_canceled                       0\n",
              "lead_time                         0\n",
              "arrival_date_year                 0\n",
              "arrival_date_month                0\n",
              "arrival_date_week_number          0\n",
              "arrival_date_day_of_month         0\n",
              "stays_in_weekend_nights           0\n",
              "stays_in_week_nights              0\n",
              "adults                            0\n",
              "children                          0\n",
              "babies                            0\n",
              "meal                              0\n",
              "country                           0\n",
              "market_segment                    0\n",
              "distribution_channel              0\n",
              "is_repeated_guest                 0\n",
              "previous_cancellations            0\n",
              "previous_bookings_not_canceled    0\n",
              "reserved_room_type                0\n",
              "assigned_room_type                0\n",
              "booking_changes                   0\n",
              "deposit_type                      0\n",
              "agent                             0\n",
              "company                           0\n",
              "days_in_waiting_list              0\n",
              "customer_type                     0\n",
              "adr                               0\n",
              "required_car_parking_spaces       0\n",
              "total_of_special_requests         0\n",
              "reservation_status                0\n",
              "reservation_status_date           0\n",
              "dtype: int64"
            ]
          },
          "metadata": {},
          "execution_count": 26
        }
      ]
    },
    {
      "cell_type": "markdown",
      "source": [
        " **Change in datatype for required column**\n",
        "\n",
        "\n"
      ],
      "metadata": {
        "id": "UxOhKAVLor67"
      }
    },
    {
      "cell_type": "code",
      "source": [
        "#check data type of columns if there were any changes required then we will do that\n",
        "hotel_booking_analysis_df.info()"
      ],
      "metadata": {
        "colab": {
          "base_uri": "https://localhost:8080/"
        },
        "id": "9mw7pWXeonWl",
        "outputId": "36d967d2-de31-455e-eeaf-80206ea500d1"
      },
      "execution_count": 27,
      "outputs": [
        {
          "output_type": "stream",
          "name": "stdout",
          "text": [
            "<class 'pandas.core.frame.DataFrame'>\n",
            "Int64Index: 87396 entries, 0 to 119389\n",
            "Data columns (total 32 columns):\n",
            " #   Column                          Non-Null Count  Dtype  \n",
            "---  ------                          --------------  -----  \n",
            " 0   hotel                           87396 non-null  object \n",
            " 1   is_canceled                     87396 non-null  int64  \n",
            " 2   lead_time                       87396 non-null  int64  \n",
            " 3   arrival_date_year               87396 non-null  int64  \n",
            " 4   arrival_date_month              87396 non-null  object \n",
            " 5   arrival_date_week_number        87396 non-null  int64  \n",
            " 6   arrival_date_day_of_month       87396 non-null  int64  \n",
            " 7   stays_in_weekend_nights         87396 non-null  int64  \n",
            " 8   stays_in_week_nights            87396 non-null  int64  \n",
            " 9   adults                          87396 non-null  int64  \n",
            " 10  children                        87396 non-null  float64\n",
            " 11  babies                          87396 non-null  int64  \n",
            " 12  meal                            87396 non-null  object \n",
            " 13  country                         87396 non-null  object \n",
            " 14  market_segment                  87396 non-null  object \n",
            " 15  distribution_channel            87396 non-null  object \n",
            " 16  is_repeated_guest               87396 non-null  int64  \n",
            " 17  previous_cancellations          87396 non-null  int64  \n",
            " 18  previous_bookings_not_canceled  87396 non-null  int64  \n",
            " 19  reserved_room_type              87396 non-null  object \n",
            " 20  assigned_room_type              87396 non-null  object \n",
            " 21  booking_changes                 87396 non-null  int64  \n",
            " 22  deposit_type                    87396 non-null  object \n",
            " 23  agent                           87396 non-null  float64\n",
            " 24  company                         87396 non-null  float64\n",
            " 25  days_in_waiting_list            87396 non-null  int64  \n",
            " 26  customer_type                   87396 non-null  object \n",
            " 27  adr                             87396 non-null  float64\n",
            " 28  required_car_parking_spaces     87396 non-null  int64  \n",
            " 29  total_of_special_requests       87396 non-null  int64  \n",
            " 30  reservation_status              87396 non-null  object \n",
            " 31  reservation_status_date         87396 non-null  object \n",
            "dtypes: float64(4), int64(16), object(12)\n",
            "memory usage: 22.0+ MB\n"
          ]
        }
      ]
    },
    {
      "cell_type": "code",
      "source": [
        "# changing data type of some columns\n",
        "\n",
        "hotel_booking_analysis_df[['children', 'agent']] = hotel_booking_analysis_df[['children', 'agent']].astype('int64')"
      ],
      "metadata": {
        "id": "QLo_v1Nvo_XO"
      },
      "execution_count": 28,
      "outputs": []
    },
    {
      "cell_type": "markdown",
      "source": [
        "## **Adding some new column as per requirements**"
      ],
      "metadata": {
        "id": "GDkrfQN_gqxh"
      }
    },
    {
      "cell_type": "markdown",
      "source": [
        "#### Data of Total stays at night"
      ],
      "metadata": {
        "id": "qZOKOIxOg_7w"
      }
    },
    {
      "cell_type": "code",
      "source": [
        "#total night stay \n",
        "hotel_booking_analysis_df[\"total_night_stay\"] = hotel_booking_analysis_df['stays_in_weekend_nights'] + hotel_booking_analysis_df['stays_in_week_nights']\n",
        "\n",
        "print(hotel_booking_analysis_df[\"total_night_stay\"])"
      ],
      "metadata": {
        "colab": {
          "base_uri": "https://localhost:8080/"
        },
        "id": "1WpgwCASgqeu",
        "outputId": "445548a1-77c6-4976-9ab9-f5d44c15dc9d"
      },
      "execution_count": 29,
      "outputs": [
        {
          "output_type": "stream",
          "name": "stdout",
          "text": [
            "0         0\n",
            "1         0\n",
            "2         1\n",
            "3         1\n",
            "4         2\n",
            "         ..\n",
            "119385    7\n",
            "119386    7\n",
            "119387    7\n",
            "119388    7\n",
            "119389    9\n",
            "Name: total_night_stay, Length: 87396, dtype: int64\n"
          ]
        }
      ]
    },
    {
      "cell_type": "code",
      "source": [
        "# Generating revenue using total stay * adr\n",
        "hotel_booking_analysis_df['revenue'] = hotel_booking_analysis_df['total_night_stay'] * hotel_booking_analysis_df['adr']\n",
        "\n",
        "print(hotel_booking_analysis_df['revenue'])"
      ],
      "metadata": {
        "colab": {
          "base_uri": "https://localhost:8080/"
        },
        "id": "3S-KKgg0go8G",
        "outputId": "d7bac578-ed4e-4caa-b36a-e0c5b4d2a29c"
      },
      "execution_count": 30,
      "outputs": [
        {
          "output_type": "stream",
          "name": "stdout",
          "text": [
            "0            0.00\n",
            "1            0.00\n",
            "2           75.00\n",
            "3           75.00\n",
            "4          196.00\n",
            "           ...   \n",
            "119385     672.98\n",
            "119386    1578.01\n",
            "119387    1103.97\n",
            "119388     730.80\n",
            "119389    1360.80\n",
            "Name: revenue, Length: 87396, dtype: float64\n"
          ]
        }
      ]
    },
    {
      "cell_type": "code",
      "source": [
        "# replacing value in column is_canceled (0,1) with (not canceled, canceled) for more clarity.\n",
        "\n",
        "hotel_booking_analysis_df['is_canceled'] = hotel_booking_analysis_df['is_canceled'].replace([0,1],['not_canceled', 'canceled'])\n",
        "\n",
        "print(hotel_booking_analysis_df['is_canceled'])"
      ],
      "metadata": {
        "colab": {
          "base_uri": "https://localhost:8080/"
        },
        "id": "hBPf_R-TkBwr",
        "outputId": "9ac2a528-00ff-4ccb-a94c-76679b4204e6"
      },
      "execution_count": 31,
      "outputs": [
        {
          "output_type": "stream",
          "name": "stdout",
          "text": [
            "0         not_canceled\n",
            "1         not_canceled\n",
            "2         not_canceled\n",
            "3         not_canceled\n",
            "4         not_canceled\n",
            "              ...     \n",
            "119385    not_canceled\n",
            "119386    not_canceled\n",
            "119387    not_canceled\n",
            "119388    not_canceled\n",
            "119389    not_canceled\n",
            "Name: is_canceled, Length: 87396, dtype: object\n"
          ]
        }
      ]
    },
    {
      "cell_type": "code",
      "source": [
        "# replacing value in column is_repeated_guest (0,1) with (not repeated, repeated) for more clarity.\n",
        "\n",
        "hotel_booking_analysis_df['is_repeated_guest'] = hotel_booking_analysis_df['is_repeated_guest'].replace([0,1],['not_repeated', 'repeated'])\n",
        "\n",
        "print(hotel_booking_analysis_df['is_repeated_guest'])\n"
      ],
      "metadata": {
        "colab": {
          "base_uri": "https://localhost:8080/"
        },
        "id": "_LZxiEkPlfkI",
        "outputId": "29307ea2-7ab4-449a-d99e-4a6f9ef62eca"
      },
      "execution_count": 32,
      "outputs": [
        {
          "output_type": "stream",
          "name": "stdout",
          "text": [
            "0         not_repeated\n",
            "1         not_repeated\n",
            "2         not_repeated\n",
            "3         not_repeated\n",
            "4         not_repeated\n",
            "              ...     \n",
            "119385    not_repeated\n",
            "119386    not_repeated\n",
            "119387    not_repeated\n",
            "119388    not_repeated\n",
            "119389    not_repeated\n",
            "Name: is_repeated_guest, Length: 87396, dtype: object\n"
          ]
        }
      ]
    },
    {
      "cell_type": "code",
      "source": [
        "# overall revenue genreted by both the hotels\n",
        "\n",
        "both_hotel_total_revenue = hotel_booking_analysis_df.groupby('hotel')['revenue'].sum()\n",
        "\n",
        "print(both_hotel_total_revenue)"
      ],
      "metadata": {
        "colab": {
          "base_uri": "https://localhost:8080/"
        },
        "id": "7BPjd6aVmjsr",
        "outputId": "9c2c11a3-0d5d-468c-c3fd-1a2c9a62f2c7"
      },
      "execution_count": 33,
      "outputs": [
        {
          "output_type": "stream",
          "name": "stdout",
          "text": [
            "hotel\n",
            "City Hotel      18774101.54\n",
            "Resort Hotel    15686837.77\n",
            "Name: revenue, dtype: float64\n"
          ]
        }
      ]
    },
    {
      "cell_type": "code",
      "source": [
        "hotel_booking_analysis_df[['hotel','revenue']]"
      ],
      "metadata": {
        "colab": {
          "base_uri": "https://localhost:8080/",
          "height": 423
        },
        "id": "fadeQAJsqETi",
        "outputId": "a307e254-3832-47b6-9817-a7bc3ea5bd27"
      },
      "execution_count": 36,
      "outputs": [
        {
          "output_type": "execute_result",
          "data": {
            "text/plain": [
              "               hotel  revenue\n",
              "0       Resort Hotel     0.00\n",
              "1       Resort Hotel     0.00\n",
              "2       Resort Hotel    75.00\n",
              "3       Resort Hotel    75.00\n",
              "4       Resort Hotel   196.00\n",
              "...              ...      ...\n",
              "119385    City Hotel   672.98\n",
              "119386    City Hotel  1578.01\n",
              "119387    City Hotel  1103.97\n",
              "119388    City Hotel   730.80\n",
              "119389    City Hotel  1360.80\n",
              "\n",
              "[87396 rows x 2 columns]"
            ],
            "text/html": [
              "\n",
              "  <div id=\"df-de36108f-5931-48f2-9ae1-5dab0590a9da\">\n",
              "    <div class=\"colab-df-container\">\n",
              "      <div>\n",
              "<style scoped>\n",
              "    .dataframe tbody tr th:only-of-type {\n",
              "        vertical-align: middle;\n",
              "    }\n",
              "\n",
              "    .dataframe tbody tr th {\n",
              "        vertical-align: top;\n",
              "    }\n",
              "\n",
              "    .dataframe thead th {\n",
              "        text-align: right;\n",
              "    }\n",
              "</style>\n",
              "<table border=\"1\" class=\"dataframe\">\n",
              "  <thead>\n",
              "    <tr style=\"text-align: right;\">\n",
              "      <th></th>\n",
              "      <th>hotel</th>\n",
              "      <th>revenue</th>\n",
              "    </tr>\n",
              "  </thead>\n",
              "  <tbody>\n",
              "    <tr>\n",
              "      <th>0</th>\n",
              "      <td>Resort Hotel</td>\n",
              "      <td>0.00</td>\n",
              "    </tr>\n",
              "    <tr>\n",
              "      <th>1</th>\n",
              "      <td>Resort Hotel</td>\n",
              "      <td>0.00</td>\n",
              "    </tr>\n",
              "    <tr>\n",
              "      <th>2</th>\n",
              "      <td>Resort Hotel</td>\n",
              "      <td>75.00</td>\n",
              "    </tr>\n",
              "    <tr>\n",
              "      <th>3</th>\n",
              "      <td>Resort Hotel</td>\n",
              "      <td>75.00</td>\n",
              "    </tr>\n",
              "    <tr>\n",
              "      <th>4</th>\n",
              "      <td>Resort Hotel</td>\n",
              "      <td>196.00</td>\n",
              "    </tr>\n",
              "    <tr>\n",
              "      <th>...</th>\n",
              "      <td>...</td>\n",
              "      <td>...</td>\n",
              "    </tr>\n",
              "    <tr>\n",
              "      <th>119385</th>\n",
              "      <td>City Hotel</td>\n",
              "      <td>672.98</td>\n",
              "    </tr>\n",
              "    <tr>\n",
              "      <th>119386</th>\n",
              "      <td>City Hotel</td>\n",
              "      <td>1578.01</td>\n",
              "    </tr>\n",
              "    <tr>\n",
              "      <th>119387</th>\n",
              "      <td>City Hotel</td>\n",
              "      <td>1103.97</td>\n",
              "    </tr>\n",
              "    <tr>\n",
              "      <th>119388</th>\n",
              "      <td>City Hotel</td>\n",
              "      <td>730.80</td>\n",
              "    </tr>\n",
              "    <tr>\n",
              "      <th>119389</th>\n",
              "      <td>City Hotel</td>\n",
              "      <td>1360.80</td>\n",
              "    </tr>\n",
              "  </tbody>\n",
              "</table>\n",
              "<p>87396 rows × 2 columns</p>\n",
              "</div>\n",
              "      <button class=\"colab-df-convert\" onclick=\"convertToInteractive('df-de36108f-5931-48f2-9ae1-5dab0590a9da')\"\n",
              "              title=\"Convert this dataframe to an interactive table.\"\n",
              "              style=\"display:none;\">\n",
              "        \n",
              "  <svg xmlns=\"http://www.w3.org/2000/svg\" height=\"24px\"viewBox=\"0 0 24 24\"\n",
              "       width=\"24px\">\n",
              "    <path d=\"M0 0h24v24H0V0z\" fill=\"none\"/>\n",
              "    <path d=\"M18.56 5.44l.94 2.06.94-2.06 2.06-.94-2.06-.94-.94-2.06-.94 2.06-2.06.94zm-11 1L8.5 8.5l.94-2.06 2.06-.94-2.06-.94L8.5 2.5l-.94 2.06-2.06.94zm10 10l.94 2.06.94-2.06 2.06-.94-2.06-.94-.94-2.06-.94 2.06-2.06.94z\"/><path d=\"M17.41 7.96l-1.37-1.37c-.4-.4-.92-.59-1.43-.59-.52 0-1.04.2-1.43.59L10.3 9.45l-7.72 7.72c-.78.78-.78 2.05 0 2.83L4 21.41c.39.39.9.59 1.41.59.51 0 1.02-.2 1.41-.59l7.78-7.78 2.81-2.81c.8-.78.8-2.07 0-2.86zM5.41 20L4 18.59l7.72-7.72 1.47 1.35L5.41 20z\"/>\n",
              "  </svg>\n",
              "      </button>\n",
              "      \n",
              "  <style>\n",
              "    .colab-df-container {\n",
              "      display:flex;\n",
              "      flex-wrap:wrap;\n",
              "      gap: 12px;\n",
              "    }\n",
              "\n",
              "    .colab-df-convert {\n",
              "      background-color: #E8F0FE;\n",
              "      border: none;\n",
              "      border-radius: 50%;\n",
              "      cursor: pointer;\n",
              "      display: none;\n",
              "      fill: #1967D2;\n",
              "      height: 32px;\n",
              "      padding: 0 0 0 0;\n",
              "      width: 32px;\n",
              "    }\n",
              "\n",
              "    .colab-df-convert:hover {\n",
              "      background-color: #E2EBFA;\n",
              "      box-shadow: 0px 1px 2px rgba(60, 64, 67, 0.3), 0px 1px 3px 1px rgba(60, 64, 67, 0.15);\n",
              "      fill: #174EA6;\n",
              "    }\n",
              "\n",
              "    [theme=dark] .colab-df-convert {\n",
              "      background-color: #3B4455;\n",
              "      fill: #D2E3FC;\n",
              "    }\n",
              "\n",
              "    [theme=dark] .colab-df-convert:hover {\n",
              "      background-color: #434B5C;\n",
              "      box-shadow: 0px 1px 3px 1px rgba(0, 0, 0, 0.15);\n",
              "      filter: drop-shadow(0px 1px 2px rgba(0, 0, 0, 0.3));\n",
              "      fill: #FFFFFF;\n",
              "    }\n",
              "  </style>\n",
              "\n",
              "      <script>\n",
              "        const buttonEl =\n",
              "          document.querySelector('#df-de36108f-5931-48f2-9ae1-5dab0590a9da button.colab-df-convert');\n",
              "        buttonEl.style.display =\n",
              "          google.colab.kernel.accessAllowed ? 'block' : 'none';\n",
              "\n",
              "        async function convertToInteractive(key) {\n",
              "          const element = document.querySelector('#df-de36108f-5931-48f2-9ae1-5dab0590a9da');\n",
              "          const dataTable =\n",
              "            await google.colab.kernel.invokeFunction('convertToInteractive',\n",
              "                                                     [key], {});\n",
              "          if (!dataTable) return;\n",
              "\n",
              "          const docLinkHtml = 'Like what you see? Visit the ' +\n",
              "            '<a target=\"_blank\" href=https://colab.research.google.com/notebooks/data_table.ipynb>data table notebook</a>'\n",
              "            + ' to learn more about interactive tables.';\n",
              "          element.innerHTML = '';\n",
              "          dataTable['output_type'] = 'display_data';\n",
              "          await google.colab.output.renderOutput(dataTable, element);\n",
              "          const docLink = document.createElement('div');\n",
              "          docLink.innerHTML = docLinkHtml;\n",
              "          element.appendChild(docLink);\n",
              "        }\n",
              "      </script>\n",
              "    </div>\n",
              "  </div>\n",
              "  "
            ]
          },
          "metadata": {},
          "execution_count": 36
        }
      ]
    },
    {
      "cell_type": "markdown",
      "source": [
        "### What all manipulations have you done and insights you found?"
      ],
      "metadata": {
        "id": "MSa1f5Uengrz"
      }
    },
    {
      "cell_type": "markdown",
      "source": [
        "so the following manipulations and the insighs found - \n",
        "\n",
        "-> there are four columns containing null values, i.e, company, agent, country and children.\n",
        "\n",
        "-> as company column have high number of missing values so i droped that column.\n",
        "\n",
        "-> for agent & children column i have replace those null value with 0.\n",
        "\n",
        "-> and for column country i have replace its null values with \"other\" because it have very minimum number of null values.\n",
        "\n",
        "-> In this dataset there were some duplicate values also so we droped that values.\n",
        "and we have changed some colums data type also.\n",
        "\n",
        "-> I also make changes in data type of some column, like children column have float data type, but i changed it to int64.\n",
        "\n",
        "-> I have added some new column by adding existing columns, \n",
        "\n",
        "a) Total Guests: This columns will help us to evaluate the volumes of total guest and revenue as well. We get this value by adding total no. of Adults, Children & babies.\n",
        "\n",
        "b) Revenue: We find revenue by multiplying adr & total guest. This column will use to analyse the profit and growth of each hotel.\n",
        "\n",
        "-> Delete of columns, a)company: As we have seen that this columns has almost Null data. so we have delete this column as this will not make any impact in the analysis.\n",
        "\n",
        "-> Replace of Values in columns, a)is_canceled, is_not_canceled & is_repeated_guest: We have seen, that these columns contains only 0,1 as values which represent the status of booing cancellation. We replace these values (0,1) from 'Canceled' & 'Not canceled. In the same way for column 'is_repeated_guest', we replace 0,1 from 'Repeated' & 'Not repeated'. Now this values will help to make better understanding while visulization.\n",
        "\n"
      ],
      "metadata": {
        "id": "LbyXE7I1olp8"
      }
    },
    {
      "cell_type": "markdown",
      "source": [
        "## ***4. Data Vizualization, Storytelling & Experimenting with charts : Understand the relationships between variables***"
      ],
      "metadata": {
        "id": "GF8Ens_Soomf"
      }
    },
    {
      "cell_type": "markdown",
      "source": [
        "#### Chart - 1"
      ],
      "metadata": {
        "id": "0wOQAZs5pc--"
      }
    },
    {
      "cell_type": "code",
      "source": [
        "# Chart - 1 visualization code"
      ],
      "metadata": {
        "id": "7v_ESjsspbW7"
      },
      "execution_count": null,
      "outputs": []
    },
    {
      "cell_type": "markdown",
      "source": [
        "##### 1. Why did you pick the specific chart?"
      ],
      "metadata": {
        "id": "K5QZ13OEpz2H"
      }
    },
    {
      "cell_type": "markdown",
      "source": [
        "Answer Here."
      ],
      "metadata": {
        "id": "XESiWehPqBRc"
      }
    },
    {
      "cell_type": "markdown",
      "source": [
        "##### 2. What is/are the insight(s) found from the chart?"
      ],
      "metadata": {
        "id": "lQ7QKXXCp7Bj"
      }
    },
    {
      "cell_type": "markdown",
      "source": [
        "Answer Here"
      ],
      "metadata": {
        "id": "C_j1G7yiqdRP"
      }
    },
    {
      "cell_type": "markdown",
      "source": [
        "##### 3. Will the gained insights help creating a positive business impact? \n",
        "Are there any insights that lead to negative growth? Justify with specific reason."
      ],
      "metadata": {
        "id": "448CDAPjqfQr"
      }
    },
    {
      "cell_type": "markdown",
      "source": [
        "Answer Here"
      ],
      "metadata": {
        "id": "3cspy4FjqxJW"
      }
    },
    {
      "cell_type": "markdown",
      "source": [
        "#### Chart - 2"
      ],
      "metadata": {
        "id": "KSlN3yHqYklG"
      }
    },
    {
      "cell_type": "code",
      "source": [
        "# Chart - 2 visualization code"
      ],
      "metadata": {
        "id": "R4YgtaqtYklH"
      },
      "execution_count": null,
      "outputs": []
    },
    {
      "cell_type": "markdown",
      "source": [
        "##### 1. Why did you pick the specific chart?"
      ],
      "metadata": {
        "id": "t6dVpIINYklI"
      }
    },
    {
      "cell_type": "markdown",
      "source": [
        "Answer Here."
      ],
      "metadata": {
        "id": "5aaW0BYyYklI"
      }
    },
    {
      "cell_type": "markdown",
      "source": [
        "##### 2. What is/are the insight(s) found from the chart?"
      ],
      "metadata": {
        "id": "ijmpgYnKYklI"
      }
    },
    {
      "cell_type": "markdown",
      "source": [
        "Answer Here"
      ],
      "metadata": {
        "id": "PSx9atu2YklI"
      }
    },
    {
      "cell_type": "markdown",
      "source": [
        "##### 3. Will the gained insights help creating a positive business impact? \n",
        "Are there any insights that lead to negative growth? Justify with specific reason."
      ],
      "metadata": {
        "id": "-JiQyfWJYklI"
      }
    },
    {
      "cell_type": "markdown",
      "source": [
        "Answer Here"
      ],
      "metadata": {
        "id": "BcBbebzrYklV"
      }
    },
    {
      "cell_type": "markdown",
      "source": [
        "#### Chart - 3"
      ],
      "metadata": {
        "id": "EM7whBJCYoAo"
      }
    },
    {
      "cell_type": "code",
      "source": [
        "# Chart - 3 visualization code"
      ],
      "metadata": {
        "id": "t6GMdE67YoAp"
      },
      "execution_count": null,
      "outputs": []
    },
    {
      "cell_type": "markdown",
      "source": [
        "##### 1. Why did you pick the specific chart?"
      ],
      "metadata": {
        "id": "fge-S5ZAYoAp"
      }
    },
    {
      "cell_type": "markdown",
      "source": [
        "Answer Here."
      ],
      "metadata": {
        "id": "5dBItgRVYoAp"
      }
    },
    {
      "cell_type": "markdown",
      "source": [
        "##### 2. What is/are the insight(s) found from the chart?"
      ],
      "metadata": {
        "id": "85gYPyotYoAp"
      }
    },
    {
      "cell_type": "markdown",
      "source": [
        "Answer Here"
      ],
      "metadata": {
        "id": "4jstXR6OYoAp"
      }
    },
    {
      "cell_type": "markdown",
      "source": [
        "##### 3. Will the gained insights help creating a positive business impact? \n",
        "Are there any insights that lead to negative growth? Justify with specific reason."
      ],
      "metadata": {
        "id": "RoGjAbkUYoAp"
      }
    },
    {
      "cell_type": "markdown",
      "source": [
        "Answer Here"
      ],
      "metadata": {
        "id": "zfJ8IqMcYoAp"
      }
    },
    {
      "cell_type": "markdown",
      "source": [
        "#### Chart - 4"
      ],
      "metadata": {
        "id": "4Of9eVA-YrdM"
      }
    },
    {
      "cell_type": "code",
      "source": [
        "# Chart - 4 visualization code"
      ],
      "metadata": {
        "id": "irlUoxc8YrdO"
      },
      "execution_count": null,
      "outputs": []
    },
    {
      "cell_type": "markdown",
      "source": [
        "##### 1. Why did you pick the specific chart?"
      ],
      "metadata": {
        "id": "iky9q4vBYrdO"
      }
    },
    {
      "cell_type": "markdown",
      "source": [
        "Answer Here."
      ],
      "metadata": {
        "id": "aJRCwT6DYrdO"
      }
    },
    {
      "cell_type": "markdown",
      "source": [
        "##### 2. What is/are the insight(s) found from the chart?"
      ],
      "metadata": {
        "id": "F6T5p64dYrdO"
      }
    },
    {
      "cell_type": "markdown",
      "source": [
        "Answer Here"
      ],
      "metadata": {
        "id": "Xx8WAJvtYrdO"
      }
    },
    {
      "cell_type": "markdown",
      "source": [
        "##### 3. Will the gained insights help creating a positive business impact? \n",
        "Are there any insights that lead to negative growth? Justify with specific reason."
      ],
      "metadata": {
        "id": "y-Ehk30pYrdP"
      }
    },
    {
      "cell_type": "markdown",
      "source": [
        "Answer Here"
      ],
      "metadata": {
        "id": "jLNxxz7MYrdP"
      }
    },
    {
      "cell_type": "markdown",
      "source": [
        "#### Chart - 5"
      ],
      "metadata": {
        "id": "bamQiAODYuh1"
      }
    },
    {
      "cell_type": "code",
      "source": [
        "# Chart - 5 visualization code"
      ],
      "metadata": {
        "id": "TIJwrbroYuh3"
      },
      "execution_count": null,
      "outputs": []
    },
    {
      "cell_type": "markdown",
      "source": [
        "##### 1. Why did you pick the specific chart?"
      ],
      "metadata": {
        "id": "QHF8YVU7Yuh3"
      }
    },
    {
      "cell_type": "markdown",
      "source": [
        "Answer Here."
      ],
      "metadata": {
        "id": "dcxuIMRPYuh3"
      }
    },
    {
      "cell_type": "markdown",
      "source": [
        "##### 2. What is/are the insight(s) found from the chart?"
      ],
      "metadata": {
        "id": "GwzvFGzlYuh3"
      }
    },
    {
      "cell_type": "markdown",
      "source": [
        "Answer Here"
      ],
      "metadata": {
        "id": "uyqkiB8YYuh3"
      }
    },
    {
      "cell_type": "markdown",
      "source": [
        "##### 3. Will the gained insights help creating a positive business impact? \n",
        "Are there any insights that lead to negative growth? Justify with specific reason."
      ],
      "metadata": {
        "id": "qYpmQ266Yuh3"
      }
    },
    {
      "cell_type": "markdown",
      "source": [
        "Answer Here"
      ],
      "metadata": {
        "id": "_WtzZ_hCYuh4"
      }
    },
    {
      "cell_type": "markdown",
      "source": [
        "#### Chart - 6"
      ],
      "metadata": {
        "id": "OH-pJp9IphqM"
      }
    },
    {
      "cell_type": "code",
      "source": [
        "# Chart - 6 visualization code"
      ],
      "metadata": {
        "id": "kuRf4wtuphqN"
      },
      "execution_count": null,
      "outputs": []
    },
    {
      "cell_type": "markdown",
      "source": [
        "##### 1. Why did you pick the specific chart?"
      ],
      "metadata": {
        "id": "bbFf2-_FphqN"
      }
    },
    {
      "cell_type": "markdown",
      "source": [
        "Answer Here."
      ],
      "metadata": {
        "id": "loh7H2nzphqN"
      }
    },
    {
      "cell_type": "markdown",
      "source": [
        "##### 2. What is/are the insight(s) found from the chart?"
      ],
      "metadata": {
        "id": "_ouA3fa0phqN"
      }
    },
    {
      "cell_type": "markdown",
      "source": [
        "Answer Here"
      ],
      "metadata": {
        "id": "VECbqPI7phqN"
      }
    },
    {
      "cell_type": "markdown",
      "source": [
        "##### 3. Will the gained insights help creating a positive business impact? \n",
        "Are there any insights that lead to negative growth? Justify with specific reason."
      ],
      "metadata": {
        "id": "Seke61FWphqN"
      }
    },
    {
      "cell_type": "markdown",
      "source": [
        "Answer Here"
      ],
      "metadata": {
        "id": "DW4_bGpfphqN"
      }
    },
    {
      "cell_type": "markdown",
      "source": [
        "#### Chart - 7"
      ],
      "metadata": {
        "id": "PIIx-8_IphqN"
      }
    },
    {
      "cell_type": "code",
      "source": [
        "# Chart - 7 visualization code"
      ],
      "metadata": {
        "id": "lqAIGUfyphqO"
      },
      "execution_count": null,
      "outputs": []
    },
    {
      "cell_type": "markdown",
      "source": [
        "##### 1. Why did you pick the specific chart?"
      ],
      "metadata": {
        "id": "t27r6nlMphqO"
      }
    },
    {
      "cell_type": "markdown",
      "source": [
        "Answer Here."
      ],
      "metadata": {
        "id": "iv6ro40sphqO"
      }
    },
    {
      "cell_type": "markdown",
      "source": [
        "##### 2. What is/are the insight(s) found from the chart?"
      ],
      "metadata": {
        "id": "r2jJGEOYphqO"
      }
    },
    {
      "cell_type": "markdown",
      "source": [
        "Answer Here"
      ],
      "metadata": {
        "id": "Po6ZPi4hphqO"
      }
    },
    {
      "cell_type": "markdown",
      "source": [
        "##### 3. Will the gained insights help creating a positive business impact? \n",
        "Are there any insights that lead to negative growth? Justify with specific reason."
      ],
      "metadata": {
        "id": "b0JNsNcRphqO"
      }
    },
    {
      "cell_type": "markdown",
      "source": [
        "Answer Here"
      ],
      "metadata": {
        "id": "xvSq8iUTphqO"
      }
    },
    {
      "cell_type": "markdown",
      "source": [
        "#### Chart - 8"
      ],
      "metadata": {
        "id": "BZR9WyysphqO"
      }
    },
    {
      "cell_type": "code",
      "source": [
        "# Chart - 8 visualization code"
      ],
      "metadata": {
        "id": "TdPTWpAVphqO"
      },
      "execution_count": null,
      "outputs": []
    },
    {
      "cell_type": "markdown",
      "source": [
        "##### 1. Why did you pick the specific chart?"
      ],
      "metadata": {
        "id": "jj7wYXLtphqO"
      }
    },
    {
      "cell_type": "markdown",
      "source": [
        "Answer Here."
      ],
      "metadata": {
        "id": "Ob8u6rCTphqO"
      }
    },
    {
      "cell_type": "markdown",
      "source": [
        "##### 2. What is/are the insight(s) found from the chart?"
      ],
      "metadata": {
        "id": "eZrbJ2SmphqO"
      }
    },
    {
      "cell_type": "markdown",
      "source": [
        "Answer Here"
      ],
      "metadata": {
        "id": "mZtgC_hjphqO"
      }
    },
    {
      "cell_type": "markdown",
      "source": [
        "##### 3. Will the gained insights help creating a positive business impact? \n",
        "Are there any insights that lead to negative growth? Justify with specific reason."
      ],
      "metadata": {
        "id": "rFu4xreNphqO"
      }
    },
    {
      "cell_type": "markdown",
      "source": [
        "Answer Here"
      ],
      "metadata": {
        "id": "ey_0qi68phqO"
      }
    },
    {
      "cell_type": "markdown",
      "source": [
        "#### Chart - 9"
      ],
      "metadata": {
        "id": "YJ55k-q6phqO"
      }
    },
    {
      "cell_type": "code",
      "source": [
        "# Chart - 9 visualization code"
      ],
      "metadata": {
        "id": "B2aS4O1ophqO"
      },
      "execution_count": null,
      "outputs": []
    },
    {
      "cell_type": "markdown",
      "source": [
        "##### 1. Why did you pick the specific chart?"
      ],
      "metadata": {
        "id": "gCFgpxoyphqP"
      }
    },
    {
      "cell_type": "markdown",
      "source": [
        "Answer Here."
      ],
      "metadata": {
        "id": "TVxDimi2phqP"
      }
    },
    {
      "cell_type": "markdown",
      "source": [
        "##### 2. What is/are the insight(s) found from the chart?"
      ],
      "metadata": {
        "id": "OVtJsKN_phqQ"
      }
    },
    {
      "cell_type": "markdown",
      "source": [
        "Answer Here"
      ],
      "metadata": {
        "id": "ngGi97qjphqQ"
      }
    },
    {
      "cell_type": "markdown",
      "source": [
        "##### 3. Will the gained insights help creating a positive business impact? \n",
        "Are there any insights that lead to negative growth? Justify with specific reason."
      ],
      "metadata": {
        "id": "lssrdh5qphqQ"
      }
    },
    {
      "cell_type": "markdown",
      "source": [
        "Answer Here"
      ],
      "metadata": {
        "id": "tBpY5ekJphqQ"
      }
    },
    {
      "cell_type": "markdown",
      "source": [
        "#### Chart - 10"
      ],
      "metadata": {
        "id": "U2RJ9gkRphqQ"
      }
    },
    {
      "cell_type": "code",
      "source": [
        "# Chart - 10 visualization code"
      ],
      "metadata": {
        "id": "GM7a4YP4phqQ"
      },
      "execution_count": null,
      "outputs": []
    },
    {
      "cell_type": "markdown",
      "source": [
        "##### 1. Why did you pick the specific chart?"
      ],
      "metadata": {
        "id": "1M8mcRywphqQ"
      }
    },
    {
      "cell_type": "markdown",
      "source": [
        "Answer Here."
      ],
      "metadata": {
        "id": "8agQvks0phqQ"
      }
    },
    {
      "cell_type": "markdown",
      "source": [
        "##### 2. What is/are the insight(s) found from the chart?"
      ],
      "metadata": {
        "id": "tgIPom80phqQ"
      }
    },
    {
      "cell_type": "markdown",
      "source": [
        "Answer Here"
      ],
      "metadata": {
        "id": "Qp13pnNzphqQ"
      }
    },
    {
      "cell_type": "markdown",
      "source": [
        "##### 3. Will the gained insights help creating a positive business impact? \n",
        "Are there any insights that lead to negative growth? Justify with specific reason."
      ],
      "metadata": {
        "id": "JMzcOPDDphqR"
      }
    },
    {
      "cell_type": "markdown",
      "source": [
        "Answer Here"
      ],
      "metadata": {
        "id": "R4Ka1PC2phqR"
      }
    },
    {
      "cell_type": "markdown",
      "source": [
        "#### Chart - 11"
      ],
      "metadata": {
        "id": "x-EpHcCOp1ci"
      }
    },
    {
      "cell_type": "code",
      "source": [
        "# Chart - 11 visualization code"
      ],
      "metadata": {
        "id": "mAQTIvtqp1cj"
      },
      "execution_count": null,
      "outputs": []
    },
    {
      "cell_type": "markdown",
      "source": [
        "##### 1. Why did you pick the specific chart?"
      ],
      "metadata": {
        "id": "X_VqEhTip1ck"
      }
    },
    {
      "cell_type": "markdown",
      "source": [
        "Answer Here."
      ],
      "metadata": {
        "id": "-vsMzt_np1ck"
      }
    },
    {
      "cell_type": "markdown",
      "source": [
        "##### 2. What is/are the insight(s) found from the chart?"
      ],
      "metadata": {
        "id": "8zGJKyg5p1ck"
      }
    },
    {
      "cell_type": "markdown",
      "source": [
        "Answer Here"
      ],
      "metadata": {
        "id": "ZYdMsrqVp1ck"
      }
    },
    {
      "cell_type": "markdown",
      "source": [
        "##### 3. Will the gained insights help creating a positive business impact? \n",
        "Are there any insights that lead to negative growth? Justify with specific reason."
      ],
      "metadata": {
        "id": "PVzmfK_Ep1ck"
      }
    },
    {
      "cell_type": "markdown",
      "source": [
        "Answer Here"
      ],
      "metadata": {
        "id": "druuKYZpp1ck"
      }
    },
    {
      "cell_type": "markdown",
      "source": [
        "#### Chart - 12"
      ],
      "metadata": {
        "id": "n3dbpmDWp1ck"
      }
    },
    {
      "cell_type": "code",
      "source": [
        "# Chart - 12 visualization code"
      ],
      "metadata": {
        "id": "bwevp1tKp1ck"
      },
      "execution_count": null,
      "outputs": []
    },
    {
      "cell_type": "markdown",
      "source": [
        "##### 1. Why did you pick the specific chart?"
      ],
      "metadata": {
        "id": "ylSl6qgtp1ck"
      }
    },
    {
      "cell_type": "markdown",
      "source": [
        "Answer Here."
      ],
      "metadata": {
        "id": "m2xqNkiQp1ck"
      }
    },
    {
      "cell_type": "markdown",
      "source": [
        "##### 2. What is/are the insight(s) found from the chart?"
      ],
      "metadata": {
        "id": "ZWILFDl5p1ck"
      }
    },
    {
      "cell_type": "markdown",
      "source": [
        "Answer Here"
      ],
      "metadata": {
        "id": "x-lUsV2mp1ck"
      }
    },
    {
      "cell_type": "markdown",
      "source": [
        "##### 3. Will the gained insights help creating a positive business impact? \n",
        "Are there any insights that lead to negative growth? Justify with specific reason."
      ],
      "metadata": {
        "id": "M7G43BXep1ck"
      }
    },
    {
      "cell_type": "markdown",
      "source": [
        "Answer Here"
      ],
      "metadata": {
        "id": "5wwDJXsLp1cl"
      }
    },
    {
      "cell_type": "markdown",
      "source": [
        "#### Chart - 13"
      ],
      "metadata": {
        "id": "Ag9LCva-p1cl"
      }
    },
    {
      "cell_type": "code",
      "source": [
        "# Chart - 13 visualization code"
      ],
      "metadata": {
        "id": "EUfxeq9-p1cl"
      },
      "execution_count": null,
      "outputs": []
    },
    {
      "cell_type": "markdown",
      "source": [
        "##### 1. Why did you pick the specific chart?"
      ],
      "metadata": {
        "id": "E6MkPsBcp1cl"
      }
    },
    {
      "cell_type": "markdown",
      "source": [
        "Answer Here."
      ],
      "metadata": {
        "id": "V22bRsFWp1cl"
      }
    },
    {
      "cell_type": "markdown",
      "source": [
        "##### 2. What is/are the insight(s) found from the chart?"
      ],
      "metadata": {
        "id": "2cELzS2fp1cl"
      }
    },
    {
      "cell_type": "markdown",
      "source": [
        "Answer Here"
      ],
      "metadata": {
        "id": "ozQPc2_Ip1cl"
      }
    },
    {
      "cell_type": "markdown",
      "source": [
        "##### 3. Will the gained insights help creating a positive business impact? \n",
        "Are there any insights that lead to negative growth? Justify with specific reason."
      ],
      "metadata": {
        "id": "3MPXvC8up1cl"
      }
    },
    {
      "cell_type": "markdown",
      "source": [
        "Answer Here"
      ],
      "metadata": {
        "id": "GL8l1tdLp1cl"
      }
    },
    {
      "cell_type": "markdown",
      "source": [
        "#### Chart - 14 - Correlation Heatmap"
      ],
      "metadata": {
        "id": "NC_X3p0fY2L0"
      }
    },
    {
      "cell_type": "code",
      "source": [
        "# Correlation Heatmap visualization code"
      ],
      "metadata": {
        "id": "xyC9zolEZNRQ"
      },
      "execution_count": null,
      "outputs": []
    },
    {
      "cell_type": "markdown",
      "source": [
        "##### 1. Why did you pick the specific chart?"
      ],
      "metadata": {
        "id": "UV0SzAkaZNRQ"
      }
    },
    {
      "cell_type": "markdown",
      "source": [
        "Answer Here."
      ],
      "metadata": {
        "id": "DVPuT8LYZNRQ"
      }
    },
    {
      "cell_type": "markdown",
      "source": [
        "##### 2. What is/are the insight(s) found from the chart?"
      ],
      "metadata": {
        "id": "YPEH6qLeZNRQ"
      }
    },
    {
      "cell_type": "markdown",
      "source": [
        "Answer Here"
      ],
      "metadata": {
        "id": "bfSqtnDqZNRR"
      }
    },
    {
      "cell_type": "markdown",
      "source": [
        "#### Chart - 15 - Pair Plot "
      ],
      "metadata": {
        "id": "q29F0dvdveiT"
      }
    },
    {
      "cell_type": "code",
      "source": [
        "# Pair Plot visualization code"
      ],
      "metadata": {
        "id": "o58-TEIhveiU"
      },
      "execution_count": null,
      "outputs": []
    },
    {
      "cell_type": "markdown",
      "source": [
        "##### 1. Why did you pick the specific chart?"
      ],
      "metadata": {
        "id": "EXh0U9oCveiU"
      }
    },
    {
      "cell_type": "markdown",
      "source": [
        "Answer Here."
      ],
      "metadata": {
        "id": "eMmPjTByveiU"
      }
    },
    {
      "cell_type": "markdown",
      "source": [
        "##### 2. What is/are the insight(s) found from the chart?"
      ],
      "metadata": {
        "id": "22aHeOlLveiV"
      }
    },
    {
      "cell_type": "markdown",
      "source": [
        "Answer Here"
      ],
      "metadata": {
        "id": "uPQ8RGwHveiV"
      }
    },
    {
      "cell_type": "markdown",
      "source": [
        "## **5. Solution to Business Objective**"
      ],
      "metadata": {
        "id": "JcMwzZxoAimU"
      }
    },
    {
      "cell_type": "markdown",
      "source": [
        "#### What do you suggest the client to achieve Business Objective ? \n",
        "Explain Briefly."
      ],
      "metadata": {
        "id": "8G2x9gOozGDZ"
      }
    },
    {
      "cell_type": "markdown",
      "source": [
        "Answer Here."
      ],
      "metadata": {
        "id": "pASKb0qOza21"
      }
    },
    {
      "cell_type": "markdown",
      "source": [
        "# **Conclusion**"
      ],
      "metadata": {
        "id": "gCX9965dhzqZ"
      }
    },
    {
      "cell_type": "markdown",
      "source": [
        "Write the conclusion here."
      ],
      "metadata": {
        "id": "Fjb1IsQkh3yE"
      }
    },
    {
      "cell_type": "markdown",
      "source": [
        "### ***Hurrah! You have successfully completed your EDA Capstone Project !!!***"
      ],
      "metadata": {
        "id": "gIfDvo9L0UH2"
      }
    }
  ]
}